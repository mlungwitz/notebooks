{
 "cells": [
  {
   "cell_type": "code",
   "execution_count": 1,
   "metadata": {},
   "outputs": [],
   "source": [
    "import QuantLib as ql"
   ]
  },
  {
   "cell_type": "code",
   "execution_count": 2,
   "metadata": {},
   "outputs": [],
   "source": [
    "calculation_date = ql.Date(4, 5, 2021)\n",
    "ql.Settings.instance().evaluationDate = calculation_date"
   ]
  },
  {
   "cell_type": "code",
   "execution_count": 3,
   "metadata": {},
   "outputs": [],
   "source": [
    "day_count = ql.Actual365Fixed()"
   ]
  },
  {
   "cell_type": "code",
   "execution_count": 4,
   "metadata": {},
   "outputs": [],
   "source": [
    "disc_quote = ql.SimpleQuote(0.01)\n",
    "disc_quote_handle = ql.QuoteHandle(disc_quote)\n",
    "\n",
    "fwd_quote = ql.SimpleQuote(0.01)\n",
    "fwd_quote_handle = ql.QuoteHandle(fwd_quote)"
   ]
  },
  {
   "cell_type": "code",
   "execution_count": 5,
   "metadata": {},
   "outputs": [],
   "source": [
    "discount_curve = ql.YieldTermStructureHandle(\n",
    "    ql.FlatForward(calculation_date, disc_quote_handle, day_count)\n",
    ")\n",
    "\n",
    "fwd_curve = ql.YieldTermStructureHandle(\n",
    "    ql.FlatForward(calculation_date, fwd_quote_handle, day_count)\n",
    ")\n",
    "\n"
   ]
  },
  {
   "cell_type": "code",
   "execution_count": 20,
   "metadata": {},
   "outputs": [],
   "source": [
    "disc_bump = ql.SimpleQuote(0.0000)\n",
    "disc_bump_handle = ql.QuoteHandle(disc_bump)\n",
    "fwd_bump = ql.SimpleQuote(0.0000)\n",
    "fwd_bump_handle = ql.QuoteHandle(fwd_bump)"
   ]
  },
  {
   "cell_type": "code",
   "execution_count": 21,
   "metadata": {},
   "outputs": [],
   "source": [
    "discount_curve_bump = ql.YieldTermStructureHandle(ql.SpreadedLinearZeroInterpolatedTermStructure(discount_curve, [disc_bump_handle, disc_bump_handle], [calculation_date, calculation_date+ql.Period(\"120Y\")]))"
   ]
  },
  {
   "cell_type": "code",
   "execution_count": 22,
   "metadata": {},
   "outputs": [],
   "source": [
    "fwd_curve_bump = ql.YieldTermStructureHandle(ql.SpreadedLinearZeroInterpolatedTermStructure(fwd_curve, [fwd_bump_handle, fwd_bump_handle], [calculation_date, calculation_date+ql.Period(\"120Y\")]))"
   ]
  },
  {
   "cell_type": "code",
   "execution_count": 50,
   "metadata": {},
   "outputs": [],
   "source": [
    "index = ql.Euribor6M(fwd_curve_bump)"
   ]
  },
  {
   "cell_type": "code",
   "execution_count": 51,
   "metadata": {},
   "outputs": [],
   "source": [
    "vol = ql.ConstantSwaptionVolatility(calculation_date, ql.TARGET(), ql.ModifiedFollowing, ql.QuoteHandle(ql.SimpleQuote(0.0030)), ql.Actual365Fixed(),\n",
    "                                   ql.Normal)\n",
    "vol_handle = ql.SwaptionVolatilityStructureHandle(vol)"
   ]
  },
  {
   "cell_type": "code",
   "execution_count": 52,
   "metadata": {},
   "outputs": [],
   "source": [
    "swaption_engine = ql.BachelierSwaptionEngine(discount_curve_bump, vol_handle)"
   ]
  },
  {
   "cell_type": "code",
   "execution_count": 53,
   "metadata": {},
   "outputs": [],
   "source": [
    "calendar = ql.TARGET()\n",
    "settle_date = calendar.advance(calculation_date, 50, ql.Years)\n",
    "maturity_date = calendar.advance(settle_date, 50, ql.Years)\n",
    "\n",
    "fixed_leg_tenor = ql.Period(1, ql.Years)\n",
    "fixed_schedule = ql.Schedule(settle_date, maturity_date, \n",
    "                             fixed_leg_tenor, calendar,\n",
    "                             ql.ModifiedFollowing, ql.ModifiedFollowing,\n",
    "                             ql.DateGeneration.Forward, False)\n",
    "\n",
    "float_leg_tenor = ql.Period(6, ql.Months)\n",
    "float_schedule = ql.Schedule (settle_date, maturity_date, \n",
    "                              float_leg_tenor, calendar,\n",
    "                              ql.ModifiedFollowing, ql.ModifiedFollowing,\n",
    "                              ql.DateGeneration.Forward, False)"
   ]
  },
  {
   "cell_type": "code",
   "execution_count": 54,
   "metadata": {},
   "outputs": [],
   "source": [
    "notional = 10000000\n",
    "fixed_rate = 0.01\n",
    "fixed_leg_daycount = ql.Actual360()\n",
    "float_spread = 0.0\n",
    "float_leg_daycount = ql.Actual360()\n",
    "\n",
    "ir_swap = ql.VanillaSwap(ql.VanillaSwap.Payer, notional, fixed_schedule, \n",
    "               fixed_rate, fixed_leg_daycount, float_schedule,\n",
    "               index, float_spread, float_leg_daycount )"
   ]
  },
  {
   "cell_type": "code",
   "execution_count": 55,
   "metadata": {},
   "outputs": [],
   "source": [
    "swap_engine = ql.DiscountingSwapEngine(discount_curve_bump)\n",
    "ir_swap.setPricingEngine(swap_engine)"
   ]
  },
  {
   "cell_type": "code",
   "execution_count": 56,
   "metadata": {},
   "outputs": [
    {
     "data": {
      "text/plain": [
       "14308214.83233465"
      ]
     },
     "execution_count": 56,
     "metadata": {},
     "output_type": "execute_result"
    }
   ],
   "source": [
    "ir_swap.NPV()"
   ]
  },
  {
   "cell_type": "code",
   "execution_count": 57,
   "metadata": {},
   "outputs": [],
   "source": [
    "exercise = ql.EuropeanExercise(settle_date)\n",
    "swaption = ql.Swaption(ir_swap, exercise)"
   ]
  },
  {
   "cell_type": "code",
   "execution_count": 58,
   "metadata": {},
   "outputs": [],
   "source": [
    "swaption.setPricingEngine(swaption_engine)"
   ]
  },
  {
   "cell_type": "code",
   "execution_count": 59,
   "metadata": {},
   "outputs": [
    {
     "data": {
      "text/plain": [
       "14312103.696919002"
      ]
     },
     "execution_count": 59,
     "metadata": {},
     "output_type": "execute_result"
    }
   ],
   "source": [
    "swaption.NPV()"
   ]
  },
  {
   "cell_type": "markdown",
   "metadata": {},
   "source": [
    "disc_quote.setValue(0.05)\n",
    "fwd_quote.setValue(0.05)\n",
    "print(\"Swap:\",ir_swap.NPV())\n",
    "print(\"Swaption:\",swaption.NPV())"
   ]
  },
  {
   "cell_type": "markdown",
   "metadata": {},
   "source": [
    "fwd_quote.setValue(0.01)\n",
    "disc_quote.setValue(0.01)\n",
    "\n",
    "rates = [i * 0.001 for i in range(5,60)]\n",
    "swap_npvs = []\n",
    "swpt_npvs = []\n",
    "for rate in rates:\n",
    "    disc_quote.setValue(rate)\n",
    "    fwd_quote.setValue(rate)\n",
    "    swap_npvs+=[ir_swap.NPV()]\n",
    "    swpt_npvs+=[swaption.NPV()]"
   ]
  },
  {
   "cell_type": "code",
   "execution_count": 61,
   "metadata": {},
   "outputs": [],
   "source": [
    "import matplotlib.pyplot as plt\n",
    "%matplotlib inline"
   ]
  },
  {
   "cell_type": "code",
   "execution_count": 63,
   "metadata": {},
   "outputs": [],
   "source": [
    "disc_bump.setValue(0.00)\n",
    "fwd_bump.setValue(0.00)\n",
    "\n",
    "rates = [i * 0.001 for i in range(-20,60)]\n",
    "swap_npvs = []\n",
    "swpt_npvs = []\n",
    "for rate in rates:\n",
    "    disc_bump.setValue(rate)\n",
    "    #fwd_bump.setValue(rate)\n",
    "    swap_npvs+=[ir_swap.NPV()]\n",
    "    swpt_npvs+=[swaption.NPV()]"
   ]
  },
  {
   "cell_type": "code",
   "execution_count": 69,
   "metadata": {},
   "outputs": [
    {
     "data": {
      "text/plain": [
       "Text(0.5,1,'NPV bei Shift der Discount Curve')"
      ]
     },
     "execution_count": 69,
     "metadata": {},
     "output_type": "execute_result"
    },
    {
     "data": {
      "image/png": "[encoded data removed]",
      "text/plain": [
       "<matplotlib.figure.Figure at 0x153dc892e48>"
      ]
     },
     "metadata": {},
     "output_type": "display_data"
    }
   ],
   "source": [
    "plt.plot(rates,swap_npvs, label=\"Swap\")\n",
    "plt.plot(rates,swpt_npvs, label=\"Swaption\")\n",
    "plt.xlabel(\"Shift\")\n",
    "plt.legend()\n",
    "plt.grid()\n",
    "plt.title(\"NPV bei Shift der Discount Curve\")\n",
    "\n",
    "#plt.title(\"NPV bei Shift der Fwd Curve\")\n",
    "#plt.title(\"NPV bei Shift beider Curves\")"
   ]
  },
  {
   "cell_type": "code",
   "execution_count": 70,
   "metadata": {},
   "outputs": [
    {
     "data": {
      "text/plain": [
       "Text(0.5,1,'NPV bei Shift der Fwd Curve')"
      ]
     },
     "execution_count": 70,
     "metadata": {},
     "output_type": "execute_result"
    },
    {
     "data": {
      "image/png": "[encoded data removed]",
      "text/plain": [
       "<matplotlib.figure.Figure at 0x153dc631e80>"
      ]
     },
     "metadata": {},
     "output_type": "display_data"
    }
   ],
   "source": [
    "disc_bump.setValue(0.00)\n",
    "fwd_bump.setValue(0.00)\n",
    "\n",
    "rates = [i * 0.001 for i in range(-20,60)]\n",
    "swap_npvs = []\n",
    "swpt_npvs = []\n",
    "for rate in rates:\n",
    "    #disc_bump.setValue(rate)\n",
    "    fwd_bump.setValue(rate)\n",
    "    swap_npvs+=[ir_swap.NPV()]\n",
    "    swpt_npvs+=[swaption.NPV()]\n",
    "\n",
    "plt.plot(rates,swap_npvs, label=\"Swap\")\n",
    "plt.plot(rates,swpt_npvs, label=\"Swaption\")\n",
    "plt.xlabel(\"Shift\")\n",
    "plt.legend()\n",
    "plt.grid()\n",
    "#plt.title(\"NPV bei Shift der Discount Curve\")\n",
    "plt.title(\"NPV bei Shift der Fwd Curve\")\n",
    "#plt.title(\"NPV bei Shift beider Curves\")"
   ]
  },
  {
   "cell_type": "code",
   "execution_count": 71,
   "metadata": {},
   "outputs": [
    {
     "data": {
      "text/plain": [
       "Text(0.5,1,'NPV bei Shift beider Curves')"
      ]
     },
     "execution_count": 71,
     "metadata": {},
     "output_type": "execute_result"
    },
    {
     "data": {
      "image/png": "[encoded data removed]",
      "text/plain": [
       "<matplotlib.figure.Figure at 0x153dc950390>"
      ]
     },
     "metadata": {},
     "output_type": "display_data"
    }
   ],
   "source": [
    "disc_bump.setValue(0.00)\n",
    "fwd_bump.setValue(0.00)\n",
    "\n",
    "rates = [i * 0.001 for i in range(-20,60)]\n",
    "swap_npvs = []\n",
    "swpt_npvs = []\n",
    "for rate in rates:\n",
    "    disc_bump.setValue(rate)\n",
    "    fwd_bump.setValue(rate)\n",
    "    swap_npvs+=[ir_swap.NPV()]\n",
    "    swpt_npvs+=[swaption.NPV()]\n",
    "\n",
    "plt.plot(rates,swap_npvs, label=\"Swap\")\n",
    "plt.plot(rates,swpt_npvs, label=\"Swaption\")\n",
    "plt.xlabel(\"Shift\")\n",
    "plt.legend()\n",
    "plt.grid()\n",
    "#plt.title(\"NPV bei Shift der Discount Curve\")\n",
    "#plt.title(\"NPV bei Shift der Fwd Curve\")\n",
    "plt.title(\"NPV bei Shift beider Curves\")"
   ]
  }
 ],
 "metadata": {
  "kernelspec": {
   "display_name": "Python 3",
   "language": "python",
   "name": "python3"
  },
  "language_info": {
   "codemirror_mode": {
    "name": "ipython",
    "version": 3
   },
   "file_extension": ".py",
   "mimetype": "text/x-python",
   "name": "python",
   "nbconvert_exporter": "python",
   "pygments_lexer": "ipython3",
   "version": "3.6.3"
  }
 },
 "nbformat": 4,
 "nbformat_minor": 2
}
