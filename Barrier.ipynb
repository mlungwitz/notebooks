{
 "cells": [
  {
   "cell_type": "code",
   "execution_count": 1,
   "metadata": {},
   "outputs": [],
   "source": [
    "import QuantLib as ql"
   ]
  },
  {
   "cell_type": "code",
   "execution_count": 2,
   "metadata": {},
   "outputs": [],
   "source": [
    "# option data\n",
    "maturity_date = ql.Date(15, 1, 2016)\n",
    "spot_price = 127.62\n",
    "strike_price = 130\n",
    "volatility = 0.20 # the historical vols for a year\n",
    "dividend_rate =  0.0163\n",
    "option_type = ql.Option.Call\n",
    "\n",
    "risk_free_rate = 0.001\n",
    "day_count = ql.Actual365Fixed()\n",
    "calendar = ql.UnitedStates()\n",
    "\n",
    "calculation_date = ql.Date(8, 5, 2015)\n",
    "ql.Settings.instance().evaluationDate = calculation_date"
   ]
  },
  {
   "cell_type": "code",
   "execution_count": 3,
   "metadata": {},
   "outputs": [],
   "source": [
    "# construct the European Option\n",
    "payoff = ql.PlainVanillaPayoff(option_type, strike_price)\n",
    "exercise = ql.EuropeanExercise(maturity_date)\n",
    "european_option = ql.VanillaOption(payoff, exercise)"
   ]
  },
  {
   "cell_type": "code",
   "execution_count": 4,
   "metadata": {},
   "outputs": [],
   "source": [
    "spot_handle = ql.QuoteHandle(\n",
    "    ql.SimpleQuote(spot_price)\n",
    ")\n",
    "flat_ts = ql.YieldTermStructureHandle(\n",
    "    ql.FlatForward(calculation_date, risk_free_rate, day_count)\n",
    ")\n",
    "flat_ts.enableExtrapolation()\n",
    "dividend_yield = ql.YieldTermStructureHandle(\n",
    "    ql.FlatForward(calculation_date, dividend_rate, day_count)\n",
    ")\n",
    "flat_vol_ts = ql.BlackVolTermStructureHandle(\n",
    "    ql.BlackConstantVol(calculation_date, calendar, volatility, day_count)\n",
    ")\n",
    "bsm_process = ql.BlackScholesMertonProcess(spot_handle, \n",
    "                                           dividend_yield, \n",
    "                                           flat_ts, \n",
    "                                           flat_vol_ts)"
   ]
  },
  {
   "cell_type": "code",
   "execution_count": 5,
   "metadata": {
    "scrolled": true
   },
   "outputs": [
    {
     "name": "stdout",
     "output_type": "stream",
     "text": [
      "The theoretical price is  6.749271812460607\n"
     ]
    }
   ],
   "source": [
    "european_option.setPricingEngine(ql.AnalyticEuropeanEngine(bsm_process))\n",
    "bs_price = european_option.NPV()\n",
    "print (\"The theoretical price is \", bs_price)"
   ]
  },
  {
   "cell_type": "code",
   "execution_count": 6,
   "metadata": {},
   "outputs": [],
   "source": [
    "foreign_rate = 0.003\n",
    "flat_foreign_ts = ql.YieldTermStructureHandle(\n",
    "    ql.FlatForward(calculation_date, foreign_rate, day_count)\n",
    ")\n",
    "flat_foreign_ts.enableExtrapolation()"
   ]
  },
  {
   "cell_type": "code",
   "execution_count": 7,
   "metadata": {},
   "outputs": [],
   "source": [
    "gk_process = ql.GarmanKohlagenProcess(spot_handle, flat_foreign_ts, flat_ts, flat_vol_ts)"
   ]
  },
  {
   "cell_type": "code",
   "execution_count": 8,
   "metadata": {},
   "outputs": [
    {
     "name": "stdout",
     "output_type": "stream",
     "text": [
      "The theoretical price is  7.301622529130837\n"
     ]
    }
   ],
   "source": [
    "european_option.setPricingEngine(ql.AnalyticEuropeanEngine(gk_process))\n",
    "bs_price = european_option.NPV()\n",
    "print (\"The theoretical price is \", bs_price)"
   ]
  },
  {
   "cell_type": "code",
   "execution_count": 9,
   "metadata": {},
   "outputs": [],
   "source": [
    "barrier_type = ql.Barrier.DownOut\n",
    "barrier = 1.0 # worthless barrier\n",
    "rebate = 0.\n",
    "barrier_option = ql.BarrierOption(barrier_type, barrier, rebate, payoff, exercise)"
   ]
  },
  {
   "cell_type": "code",
   "execution_count": 10,
   "metadata": {},
   "outputs": [
    {
     "name": "stdout",
     "output_type": "stream",
     "text": [
      "The theoretical price is  7.301622529130846\n"
     ]
    }
   ],
   "source": [
    "barrier_option.setPricingEngine(ql.AnalyticBarrierEngine(gk_process))\n",
    "bs_price = barrier_option.NPV()\n",
    "print (\"The theoretical price is \", bs_price)"
   ]
  },
  {
   "cell_type": "code",
   "execution_count": 11,
   "metadata": {},
   "outputs": [],
   "source": [
    "barrier_type = ql.Barrier.DownOut\n",
    "barrier = 123.0\n",
    "rebate = 0.\n",
    "barrier_option = ql.BarrierOption(barrier_type, barrier, rebate, payoff, exercise)"
   ]
  },
  {
   "cell_type": "code",
   "execution_count": 12,
   "metadata": {},
   "outputs": [
    {
     "name": "stdout",
     "output_type": "stream",
     "text": [
      "The theoretical price is  3.46880770341172\n"
     ]
    }
   ],
   "source": [
    "barrier_option.setPricingEngine(ql.AnalyticBarrierEngine(gk_process))\n",
    "bs_price = barrier_option.NPV()\n",
    "print (\"The theoretical price is \", bs_price)"
   ]
  },
  {
   "cell_type": "code",
   "execution_count": 13,
   "metadata": {},
   "outputs": [
    {
     "data": {
      "text/plain": [
       "252"
      ]
     },
     "execution_count": 13,
     "metadata": {},
     "output_type": "execute_result"
    }
   ],
   "source": [
    "maturity_date-calculation_date"
   ]
  },
  {
   "cell_type": "code",
   "execution_count": 14,
   "metadata": {},
   "outputs": [
    {
     "data": {
      "text/plain": [
       "0"
      ]
     },
     "execution_count": 14,
     "metadata": {},
     "output_type": "execute_result"
    }
   ],
   "source": [
    "ql.DeltaVolQuote.Spot"
   ]
  },
  {
   "cell_type": "code",
   "execution_count": 15,
   "metadata": {},
   "outputs": [],
   "source": [
    "#atm_vol = ql.DeltaVolQuoteHandle(ql.DeltaVolQuote(0.,ql.QuoteHandle(ql.SimpleQuote(volatility)),maturity_date-calculation_date,ql.DeltaVolQuote.AtmFwd))\n",
    "atm_vol = ql.DeltaVolQuoteHandle(ql.DeltaVolQuote(ql.QuoteHandle(ql.SimpleQuote(volatility)),ql.DeltaVolQuote.Fwd, maturity_date-calculation_date,ql.DeltaVolQuote.AtmFwd))\n",
    "vol_25put = ql.DeltaVolQuoteHandle(ql.DeltaVolQuote(-0.25,ql.QuoteHandle(ql.SimpleQuote(volatility+0.01)),maturity_date-calculation_date,ql.DeltaVolQuote.Fwd))\n",
    "vol_25call = ql.DeltaVolQuoteHandle(ql.DeltaVolQuote(0.25,ql.QuoteHandle(ql.SimpleQuote(volatility+0.009)),maturity_date-calculation_date,ql.DeltaVolQuote.Fwd))"
   ]
  },
  {
   "cell_type": "code",
   "execution_count": 17,
   "metadata": {},
   "outputs": [
    {
     "name": "stdout",
     "output_type": "stream",
     "text": [
      "The theoretical price is  3.4712700775883096\n"
     ]
    }
   ],
   "source": [
    "barrier_option.setPricingEngine(ql.VannaVolgaBarrierEngine(atm_vol, vol_25put, vol_25call, spot_handle, flat_ts, flat_foreign_ts))\n",
    "vanna_volga_price = barrier_option.NPV()\n",
    "print (\"The theoretical price is \", vanna_volga_price)"
   ]
  }
 ],
 "metadata": {
  "kernelspec": {
   "display_name": "Python 3",
   "language": "python",
   "name": "python3"
  },
  "language_info": {
   "codemirror_mode": {
    "name": "ipython",
    "version": 3
   },
   "file_extension": ".py",
   "mimetype": "text/x-python",
   "name": "python",
   "nbconvert_exporter": "python",
   "pygments_lexer": "ipython3",
   "version": "3.6.3"
  }
 },
 "nbformat": 4,
 "nbformat_minor": 2
}
