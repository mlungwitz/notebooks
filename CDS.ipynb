{
 "cells": [
  {
   "cell_type": "code",
   "execution_count": 1,
   "metadata": {},
   "outputs": [],
   "source": [
    "import QuantLib as ql"
   ]
  },
  {
   "cell_type": "code",
   "execution_count": 2,
   "metadata": {},
   "outputs": [],
   "source": [
    "calendar = ql.TARGET()"
   ]
  },
  {
   "cell_type": "code",
   "execution_count": 3,
   "metadata": {},
   "outputs": [],
   "source": [
    "todaysDate = ql.Date(15, ql.May, 2007)"
   ]
  },
  {
   "cell_type": "code",
   "execution_count": 4,
   "metadata": {},
   "outputs": [],
   "source": [
    "todaysDate = calendar.adjust(todaysDate)"
   ]
  },
  {
   "cell_type": "code",
   "execution_count": 5,
   "metadata": {},
   "outputs": [
    {
     "data": {
      "text/plain": [
       "Date(15,5,2007)"
      ]
     },
     "execution_count": 5,
     "metadata": {},
     "output_type": "execute_result"
    }
   ],
   "source": [
    "todaysDate"
   ]
  },
  {
   "cell_type": "code",
   "execution_count": 6,
   "metadata": {},
   "outputs": [],
   "source": [
    "ql.Settings.instance().evaluationDate = todaysDate"
   ]
  },
  {
   "cell_type": "code",
   "execution_count": 7,
   "metadata": {},
   "outputs": [],
   "source": [
    "flatRate = ql.SimpleQuote(0.01)"
   ]
  },
  {
   "cell_type": "code",
   "execution_count": 8,
   "metadata": {},
   "outputs": [],
   "source": [
    "tsCurve = ql.YieldTermStructureHandle(ql.FlatForward(todaysDate, ql.QuoteHandle(flatRate), ql.Actual365Fixed()))"
   ]
  },
  {
   "cell_type": "code",
   "execution_count": 9,
   "metadata": {},
   "outputs": [],
   "source": [
    "recovery_rate = 0.5"
   ]
  },
  {
   "cell_type": "code",
   "execution_count": 10,
   "metadata": {},
   "outputs": [],
   "source": [
    "quoted_spreads = [0.0150, 0.0150, 0.0150, 0.0150 ]"
   ]
  },
  {
   "cell_type": "code",
   "execution_count": 11,
   "metadata": {},
   "outputs": [],
   "source": [
    "tenors = ql.PeriodVector()\n",
    "tenors.append(ql.Period(\"3M\"))\n",
    "tenors.append(ql.Period(\"6M\"))\n",
    "tenors.append(ql.Period(\"1Y\"))\n",
    "tenors.append(ql.Period(\"2Y\"))\n"
   ]
  },
  {
   "cell_type": "code",
   "execution_count": 12,
   "metadata": {},
   "outputs": [],
   "source": [
    "maturities = [calendar.adjust(todaysDate + tenors[i], ql.Following) for i in range(0,4)]"
   ]
  },
  {
   "cell_type": "code",
   "execution_count": 13,
   "metadata": {},
   "outputs": [],
   "source": [
    "instruments = ql.DefaultProbabilityHelperVector()\n",
    "for i in range(0, 4):\n",
    "    instruments.append(ql.SpreadCdsHelper(ql.QuoteHandle(ql.SimpleQuote(quoted_spreads[i])),\n",
    "                                        tenors[i], 0, calendar, ql.Quarterly, ql.Following,\n",
    "                                        ql.DateGeneration.TwentiethIMM, ql.Actual365Fixed(),\n",
    "                                        recovery_rate, tsCurve))"
   ]
  },
  {
   "cell_type": "code",
   "execution_count": 14,
   "metadata": {},
   "outputs": [],
   "source": [
    "nominal = 1000000.0"
   ]
  },
  {
   "cell_type": "code",
   "execution_count": 15,
   "metadata": {},
   "outputs": [],
   "source": [
    "cdsSchedule = ql.MakeSchedule(todaysDate, calendar.adjust(todaysDate + tenors[0], ql.Following),ql.Period(ql.Quarterly),\n",
    "                             ql.Quarterly, calendar, ql.Following, ql.Unadjusted, ql.DateGeneration.TwentiethIMM)"
   ]
  },
  {
   "cell_type": "code",
   "execution_count": 16,
   "metadata": {},
   "outputs": [
    {
     "name": "stdout",
     "output_type": "stream",
     "text": [
      "May 15th, 2007\n",
      "June 20th, 2007\n",
      "September 20th, 2007\n"
     ]
    }
   ],
   "source": [
    "for d in cdsSchedule:\n",
    "    print(d)"
   ]
  },
  {
   "cell_type": "code",
   "execution_count": 17,
   "metadata": {},
   "outputs": [],
   "source": [
    "cds_3m = ql.CreditDefaultSwap(ql.Protection.Seller, nominal, quoted_spreads[0],\n",
    "                             cdsSchedule, ql.Following, ql.Actual365Fixed())"
   ]
  },
  {
   "cell_type": "code",
   "execution_count": 18,
   "metadata": {},
   "outputs": [],
   "source": [
    "hazardRateStructure = ql.PiecewiseFlatHazardRate(\n",
    "        todaysDate, instruments, ql.Actual365Fixed())"
   ]
  },
  {
   "cell_type": "code",
   "execution_count": 19,
   "metadata": {},
   "outputs": [],
   "source": [
    "probability = ql.DefaultProbabilityTermStructureHandle(hazardRateStructure)"
   ]
  },
  {
   "cell_type": "code",
   "execution_count": 20,
   "metadata": {},
   "outputs": [],
   "source": [
    "engine = ql.MidPointCdsEngine(probability, recovery_rate, tsCurve)"
   ]
  },
  {
   "cell_type": "code",
   "execution_count": 21,
   "metadata": {},
   "outputs": [],
   "source": [
    "cds_3m.setPricingEngine(engine)"
   ]
  },
  {
   "cell_type": "code",
   "execution_count": 22,
   "metadata": {},
   "outputs": [
    {
     "name": "stdout",
     "output_type": "stream",
     "text": [
      "3M fair spread:  0.015000000000000206\n",
      "   NPV:          -7.185008144006133e-11\n",
      "   default leg:  -5218.163413350623\n",
      "   coupon leg:   5218.163413350551\n"
     ]
    }
   ],
   "source": [
    "print(\"3M fair spread: \",cds_3m.fairSpread())\n",
    "print(\"   NPV:         \", cds_3m.NPV())\n",
    "print(\"   default leg: \", cds_3m.defaultLegNPV())\n",
    "print(\"   coupon leg:  \", cds_3m.couponLegNPV())"
   ]
  },
  {
   "cell_type": "code",
   "execution_count": 23,
   "metadata": {},
   "outputs": [
    {
     "data": {
      "text/plain": [
       "0.0"
      ]
     },
     "execution_count": 23,
     "metadata": {},
     "output_type": "execute_result"
    }
   ],
   "source": [
    "cds_3m.upfrontNPV()"
   ]
  },
  {
   "cell_type": "code",
   "execution_count": 24,
   "metadata": {},
   "outputs": [],
   "source": [
    "cds_3m.upfront()"
   ]
  },
  {
   "cell_type": "code",
   "execution_count": 25,
   "metadata": {},
   "outputs": [
    {
     "data": {
      "text/plain": [
       "7.18540185386899e-17"
      ]
     },
     "execution_count": 25,
     "metadata": {},
     "output_type": "execute_result"
    }
   ],
   "source": [
    "cds_3m.fairUpfront()"
   ]
  },
  {
   "cell_type": "code",
   "execution_count": 26,
   "metadata": {},
   "outputs": [],
   "source": [
    "cds_3m2 = ql.CreditDefaultSwap(ql.Protection.Seller, nominal, 1000., 0.05, \n",
    "                             cdsSchedule, ql.Following, ql.Actual365Fixed(),\n",
    "                              False, True, todaysDate, todaysDate)"
   ]
  },
  {
   "cell_type": "code",
   "execution_count": 27,
   "metadata": {},
   "outputs": [],
   "source": [
    "cds_3m2.setPricingEngine(engine)"
   ]
  },
  {
   "cell_type": "code",
   "execution_count": 28,
   "metadata": {},
   "outputs": [
    {
     "name": "stdout",
     "output_type": "stream",
     "text": [
      "3M fair spread:  0.015047101901310615\n",
      "   NPV:          12121.266622994506\n",
      "   default leg:  -5218.163413350623\n",
      "   coupon leg:   17339.43003634513\n"
     ]
    }
   ],
   "source": [
    "print(\"3M fair spread: \",cds_3m2.fairSpread())\n",
    "print(\"   NPV:         \", cds_3m2.NPV())\n",
    "print(\"   default leg: \", cds_3m2.defaultLegNPV())\n",
    "print(\"   coupon leg:  \", cds_3m2.couponLegNPV())"
   ]
  },
  {
   "cell_type": "code",
   "execution_count": 29,
   "metadata": {},
   "outputs": [
    {
     "data": {
      "text/plain": [
       "1000.0"
      ]
     },
     "execution_count": 29,
     "metadata": {},
     "output_type": "execute_result"
    }
   ],
   "source": [
    "cds_3m2.upfront()"
   ]
  }
 ],
 "metadata": {
  "kernelspec": {
   "display_name": "Python 3",
   "language": "python",
   "name": "python3"
  },
  "language_info": {
   "codemirror_mode": {
    "name": "ipython",
    "version": 3
   },
   "file_extension": ".py",
   "mimetype": "text/x-python",
   "name": "python",
   "nbconvert_exporter": "python",
   "pygments_lexer": "ipython3",
   "version": "3.6.3"
  }
 },
 "nbformat": 4,
 "nbformat_minor": 2
}
