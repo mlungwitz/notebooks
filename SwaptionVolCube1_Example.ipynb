{
 "cells": [
  {
   "cell_type": "code",
   "execution_count": 1,
   "metadata": {
    "collapsed": true
   },
   "outputs": [],
   "source": [
    "import QuantLib as ql"
   ]
  },
  {
   "cell_type": "code",
   "execution_count": 2,
   "metadata": {
    "collapsed": true
   },
   "outputs": [],
   "source": [
    "ql.Settings.instance().evaluation_date = ql.Date(13,6,2017)"
   ]
  },
  {
   "cell_type": "code",
   "execution_count": 3,
   "metadata": {},
   "outputs": [],
   "source": [
    "opt_tenors = [ql.Period(1,ql.Years),ql.Period(2,ql.Years)]\n",
    "swap_tenors = [ql.Period(1,ql.Years),ql.Period(2,ql.Years)]\n",
    "atm_quotes = [[ql.QuoteHandle(ql.SimpleQuote(0.01))]*2 for i in opt_tenors]\n",
    "sw_atm_normal = ql.SwaptionVolatilityMatrix(ql.TARGET(), ql.ModifiedFollowing, opt_tenors, swap_tenors,\n",
    "                                    atm_quotes, ql.Actual365Fixed(), True, ql.Normal)\n",
    "sw_atm_normal = ql.SwaptionVolatilityStructureHandle(sw_atm_normal)\n",
    "\n",
    "sw_atm_lognormal = ql.SwaptionVolatilityMatrix(ql.TARGET(), ql.ModifiedFollowing, opt_tenors, swap_tenors,\n",
    "                                    atm_quotes, ql.Actual365Fixed(), True, ql.ShiftedLognormal)\n",
    "sw_atm_lognormal = ql.SwaptionVolatilityStructureHandle(sw_atm_lognormal)"
   ]
  },
  {
   "cell_type": "code",
   "execution_count": 4,
   "metadata": {},
   "outputs": [
    {
     "data": {
      "text/plain": [
       "0.01"
      ]
     },
     "execution_count": 4,
     "metadata": {},
     "output_type": "execute_result"
    }
   ],
   "source": [
    "sw_atm_normal.volatility(ql.Date(13,6,2018), ql.Period(1,ql.Years), 1.0, True)"
   ]
  },
  {
   "cell_type": "code",
   "execution_count": 5,
   "metadata": {},
   "outputs": [],
   "source": [
    "strike_spreads = [-0.02, -0.01, 0.01, 0.02]\n",
    "vol_spreads = [[ql.QuoteHandle(ql.SimpleQuote(0.001)) for i in range(4)] for i in range(0, len(opt_tenors)*len(swap_tenors))]"
   ]
  },
  {
   "cell_type": "code",
   "execution_count": 6,
   "metadata": {},
   "outputs": [],
   "source": [
    "swap_index_base = ql.EuriborSwapIsdaFixA(ql.Period(30,ql.Years), ql.YieldTermStructureHandle(ql.FlatForward(ql.Date(13,6,2018), 0.03, ql.Actual365Fixed())))\n",
    "short_swap_index_base = ql.EuriborSwapIsdaFixA(ql.Period(1,ql.Years), ql.YieldTermStructureHandle(ql.FlatForward(ql.Date(13,6,2018), 0.03, ql.Actual365Fixed())))"
   ]
  },
  {
   "cell_type": "code",
   "execution_count": 7,
   "metadata": {},
   "outputs": [],
   "source": [
    "parameters_guess = [[ql.QuoteHandle(ql.SimpleQuote(0.2)) for i in range(4)] for j in range(0, len(opt_tenors)*len(swap_tenors))]\n",
    "#parameters_guess"
   ]
  },
  {
   "cell_type": "code",
   "execution_count": 8,
   "metadata": {
    "collapsed": true
   },
   "outputs": [],
   "source": [
    "isParameterFixed = [False]*4"
   ]
  },
  {
   "cell_type": "code",
   "execution_count": 9,
   "metadata": {},
   "outputs": [
    {
     "data": {
      "text/plain": [
       "[False, False, False, False]"
      ]
     },
     "execution_count": 9,
     "metadata": {},
     "output_type": "execute_result"
    }
   ],
   "source": [
    "isParameterFixed"
   ]
  },
  {
   "cell_type": "code",
   "execution_count": 10,
   "metadata": {},
   "outputs": [],
   "source": [
    "sw_sabr = ql.SwaptionVolCube1(sw_atm_lognormal, opt_tenors, swap_tenors, strike_spreads, vol_spreads, swap_index_base, short_swap_index_base,\n",
    "                             True, parameters_guess, isParameterFixed, True)"
   ]
  },
  {
   "cell_type": "code",
   "execution_count": 11,
   "metadata": {
    "scrolled": true
   },
   "outputs": [
    {
     "data": {
      "text/plain": [
       "0.05302413684422542"
      ]
     },
     "execution_count": 11,
     "metadata": {},
     "output_type": "execute_result"
    }
   ],
   "source": [
    "sw_sabr.volatility(ql.Date(13,6,2018), ql.Period(1,ql.Years), 1.0, True)"
   ]
  },
  {
   "cell_type": "code",
   "execution_count": 12,
   "metadata": {
    "collapsed": true
   },
   "outputs": [],
   "source": [
    "sparse_params = sw_sabr.sparseSabrParameters()"
   ]
  },
  {
   "cell_type": "code",
   "execution_count": 13,
   "metadata": {
    "collapsed": true
   },
   "outputs": [],
   "source": [
    "dense_params = sw_sabr.denseSabrParameters()"
   ]
  },
  {
   "cell_type": "raw",
   "metadata": {},
   "source": [
    "sabrParametersCube.setLayer(0, alphas);\n",
    "sabrParametersCube.setLayer(1, betas);\n",
    "sabrParametersCube.setLayer(2, nus);\n",
    "sabrParametersCube.setLayer(3, rhos);\n",
    "sabrParametersCube.setLayer(4, forwards);\n",
    "sabrParametersCube.setLayer(5, errors);\n",
    "sabrParametersCube.setLayer(6, maxErrors);\n",
    "sabrParametersCube.setLayer(7, endCriteria);"
   ]
  },
  {
   "cell_type": "code",
   "execution_count": 15,
   "metadata": {},
   "outputs": [
    {
     "data": {
      "text/plain": [
       "1.0"
      ]
     },
     "execution_count": 15,
     "metadata": {},
     "output_type": "execute_result"
    }
   ],
   "source": [
    "dense_params[0][0]"
   ]
  }
 ],
 "metadata": {
  "kernelspec": {
   "display_name": "Python 3",
   "language": "python",
   "name": "python3"
  },
  "language_info": {
   "codemirror_mode": {
    "name": "ipython",
    "version": 3
   },
   "file_extension": ".py",
   "mimetype": "text/x-python",
   "name": "python",
   "nbconvert_exporter": "python",
   "pygments_lexer": "ipython3",
   "version": "3.6.3"
  }
 },
 "nbformat": 4,
 "nbformat_minor": 1
}
