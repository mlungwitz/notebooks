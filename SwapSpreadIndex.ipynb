{
 "cells": [
  {
   "cell_type": "code",
   "execution_count": 1,
   "metadata": {},
   "outputs": [],
   "source": [
    "import QuantLib as ql"
   ]
  },
  {
   "cell_type": "code",
   "execution_count": 2,
   "metadata": {},
   "outputs": [],
   "source": [
    "# Set Evaluation Date\n",
    "today = ql.Date(31,3,2015)\n",
    "ql.Settings.instance().setEvaluationDate(today)\n",
    "# Setup the yield termstructure\n",
    "rate = ql.SimpleQuote(0.03)\n",
    "rate_handle = ql.QuoteHandle(rate)\n",
    "dc = ql.Actual365Fixed()\n",
    "disc_curve = ql.FlatForward(today, rate_handle, dc)\n",
    "disc_curve.enableExtrapolation()\n",
    "hyts = ql.YieldTermStructureHandle(disc_curve)"
   ]
  },
  {
   "cell_type": "code",
   "execution_count": 3,
   "metadata": {},
   "outputs": [],
   "source": [
    "i1 = ql.EuriborSwapIsdaFixA(ql.Period(\"10Y\"),hyts)"
   ]
  },
  {
   "cell_type": "code",
   "execution_count": 4,
   "metadata": {},
   "outputs": [],
   "source": [
    "i2 = ql.EuriborSwapIsdaFixA(ql.Period(\"2Y\"),hyts)"
   ]
  },
  {
   "cell_type": "code",
   "execution_count": 5,
   "metadata": {},
   "outputs": [],
   "source": [
    "s = ql.SwapSpreadIndex(\"CMS 10Y-2Y\", i1, i2)"
   ]
  },
  {
   "cell_type": "code",
   "execution_count": 6,
   "metadata": {},
   "outputs": [
    {
     "name": "stdout",
     "output_type": "stream",
     "text": [
      "European Euro\n"
     ]
    }
   ],
   "source": [
    "print(s.currency())"
   ]
  },
  {
   "cell_type": "code",
   "execution_count": 7,
   "metadata": {},
   "outputs": [
    {
     "name": "stdout",
     "output_type": "stream",
     "text": [
      "30/360 (Bond Basis) day counter\n"
     ]
    }
   ],
   "source": [
    "print(s.dayCounter())"
   ]
  },
  {
   "cell_type": "code",
   "execution_count": 8,
   "metadata": {},
   "outputs": [
    {
     "name": "stdout",
     "output_type": "stream",
     "text": [
      "TARGET calendar\n"
     ]
    }
   ],
   "source": [
    "print(s.fixingCalendar())"
   ]
  },
  {
   "cell_type": "code",
   "execution_count": 9,
   "metadata": {},
   "outputs": [
    {
     "name": "stdout",
     "output_type": "stream",
     "text": [
      "EuriborSwapIsdaFixA10Y 30/360 (Bond Basis) index\n"
     ]
    }
   ],
   "source": [
    "print(s.swapIndex1())"
   ]
  },
  {
   "cell_type": "code",
   "execution_count": 10,
   "metadata": {},
   "outputs": [
    {
     "name": "stdout",
     "output_type": "stream",
     "text": [
      "EuriborSwapIsdaFixA2Y 30/360 (Bond Basis) index\n"
     ]
    }
   ],
   "source": [
    "print(s.swapIndex2())"
   ]
  },
  {
   "cell_type": "code",
   "execution_count": 11,
   "metadata": {},
   "outputs": [
    {
     "name": "stdout",
     "output_type": "stream",
     "text": [
      "10Y\n"
     ]
    }
   ],
   "source": [
    "print(s.tenor())"
   ]
  },
  {
   "cell_type": "code",
   "execution_count": 12,
   "metadata": {},
   "outputs": [
    {
     "name": "stdout",
     "output_type": "stream",
     "text": [
      "October 8th, 2018\n"
     ]
    }
   ],
   "source": [
    "print(s.fixingDate(ql.Date(10,10,2018)))"
   ]
  },
  {
   "cell_type": "code",
   "execution_count": 13,
   "metadata": {},
   "outputs": [
    {
     "data": {
      "text/plain": [
       "-1.665979098137635e-05"
      ]
     },
     "execution_count": 13,
     "metadata": {},
     "output_type": "execute_result"
    }
   ],
   "source": [
    "s.fixing(ql.Date(10,10,2018))"
   ]
  },
  {
   "cell_type": "code",
   "execution_count": 14,
   "metadata": {},
   "outputs": [],
   "source": [
    "c = ql.CmsSpreadCoupon(ql.Date(10,10,2019), 1000000, ql.Date(10,10,2018), ql.Date(10,10,2019), 2, s)"
   ]
  },
  {
   "cell_type": "code",
   "execution_count": 15,
   "metadata": {},
   "outputs": [
    {
     "data": {
      "text/plain": [
       "1000000.0"
      ]
     },
     "execution_count": 15,
     "metadata": {},
     "output_type": "execute_result"
    }
   ],
   "source": [
    "c.nominal()"
   ]
  },
  {
   "cell_type": "code",
   "execution_count": 16,
   "metadata": {},
   "outputs": [
    {
     "data": {
      "text/plain": [
       "2"
      ]
     },
     "execution_count": 16,
     "metadata": {},
     "output_type": "execute_result"
    }
   ],
   "source": [
    "c.fixingDays()"
   ]
  },
  {
   "cell_type": "code",
   "execution_count": 17,
   "metadata": {},
   "outputs": [],
   "source": [
    "schedule = ql.Schedule([ql.Date(10,10,2018), ql.Date(10,10,2019)])"
   ]
  },
  {
   "cell_type": "code",
   "execution_count": 18,
   "metadata": {},
   "outputs": [],
   "source": [
    "l = ql.CmsSpreadLeg([1000000], schedule, s)"
   ]
  },
  {
   "cell_type": "code",
   "execution_count": 19,
   "metadata": {},
   "outputs": [
    {
     "name": "stdout",
     "output_type": "stream",
     "text": [
      "<QuantLib.QuantLib.CashFlow; proxy of <Swig Object of type 'std::vector< boost::shared_ptr< CashFlow > >::value_type *' at 0x0000017A176F8960> >\n",
      "October 10th, 2019\n",
      "<QuantLib.QuantLib.FloatingRateCoupon; proxy of <Swig Object of type 'FloatingRateCouponPtr *' at 0x0000017A179A6AE0> >\n"
     ]
    }
   ],
   "source": [
    "for cf in l:\n",
    "    print(cf)\n",
    "    print(cf.date())\n",
    "    f = ql.as_floating_rate_coupon(cf)\n",
    "    print(f)"
   ]
  },
  {
   "cell_type": "code",
   "execution_count": 20,
   "metadata": {},
   "outputs": [
    {
     "data": {
      "text/plain": [
       "2"
      ]
     },
     "execution_count": 20,
     "metadata": {},
     "output_type": "execute_result"
    }
   ],
   "source": [
    "f.fixingDays()"
   ]
  },
  {
   "cell_type": "code",
   "execution_count": 21,
   "metadata": {},
   "outputs": [],
   "source": [
    "cap = ql.CappedFlooredCmsSpreadCoupon(ql.Date(10,10,2019), 1000000, ql.Date(10,10,2018), ql.Date(10,10,2019), 2, s,\n",
    "                                     1.0, 0.0, 0.0)"
   ]
  },
  {
   "cell_type": "code",
   "execution_count": 22,
   "metadata": {},
   "outputs": [
    {
     "data": {
      "text/plain": [
       "0.0"
      ]
     },
     "execution_count": 22,
     "metadata": {},
     "output_type": "execute_result"
    }
   ],
   "source": [
    "cap.cap()"
   ]
  },
  {
   "cell_type": "code",
   "execution_count": 23,
   "metadata": {},
   "outputs": [
    {
     "data": {
      "text/plain": [
       "True"
      ]
     },
     "execution_count": 23,
     "metadata": {},
     "output_type": "execute_result"
    }
   ],
   "source": [
    "cap.isCapped()"
   ]
  },
  {
   "cell_type": "code",
   "execution_count": 29,
   "metadata": {},
   "outputs": [],
   "source": [
    "volQuote = ql.QuoteHandle(ql.SimpleQuote(0.2))\n",
    "swaptionVol = ql.ConstantSwaptionVolatility(0, ql.TARGET(), ql.ModifiedFollowing, volQuote, ql.Actual365Fixed())\n",
    "swvol_handle = ql.SwaptionVolatilityStructureHandle(swaptionVol)"
   ]
  },
  {
   "cell_type": "code",
   "execution_count": 30,
   "metadata": {},
   "outputs": [],
   "source": [
    "mean_reversion = ql.QuoteHandle(ql.SimpleQuote(0.01))\n",
    "cms_pricer = ql.LinearTsrPricer(swvol_handle, mean_reversion)"
   ]
  },
  {
   "cell_type": "code",
   "execution_count": 32,
   "metadata": {},
   "outputs": [],
   "source": [
    "correlation = ql.QuoteHandle(ql.SimpleQuote(0.9))\n",
    "cms_spread_pricer = ql.LognormalCmsSpreadPricer(cms_pricer, correlation)"
   ]
  },
  {
   "cell_type": "code",
   "execution_count": 33,
   "metadata": {},
   "outputs": [],
   "source": [
    "cap.setPricer(cms_spread_pricer)"
   ]
  },
  {
   "cell_type": "code",
   "execution_count": 34,
   "metadata": {},
   "outputs": [
    {
     "data": {
      "text/plain": [
       "-1821.751086788874"
      ]
     },
     "execution_count": 34,
     "metadata": {},
     "output_type": "execute_result"
    }
   ],
   "source": [
    "cap.amount()"
   ]
  },
  {
   "cell_type": "code",
   "execution_count": 35,
   "metadata": {},
   "outputs": [],
   "source": [
    "c.setPricer(cms_spread_pricer)"
   ]
  },
  {
   "cell_type": "code",
   "execution_count": 36,
   "metadata": {},
   "outputs": [
    {
     "data": {
      "text/plain": [
       "500.106184243513"
      ]
     },
     "execution_count": 36,
     "metadata": {},
     "output_type": "execute_result"
    }
   ],
   "source": [
    "c.amount()"
   ]
  },
  {
   "cell_type": "code",
   "execution_count": 41,
   "metadata": {},
   "outputs": [
    {
     "data": {
      "text/plain": [
       "0.9"
      ]
     },
     "execution_count": 41,
     "metadata": {},
     "output_type": "execute_result"
    }
   ],
   "source": [
    "cms_spread_pricer.correlation().value()"
   ]
  },
  {
   "cell_type": "code",
   "execution_count": 42,
   "metadata": {},
   "outputs": [
    {
     "data": {
      "text/plain": [
       "0.0004365379176095654"
      ]
     },
     "execution_count": 42,
     "metadata": {},
     "output_type": "execute_result"
    }
   ],
   "source": [
    "cms_spread_pricer.swapletPrice()"
   ]
  },
  {
   "cell_type": "code",
   "execution_count": 43,
   "metadata": {},
   "outputs": [
    {
     "data": {
      "text/plain": [
       "0.000500106184243513"
      ]
     },
     "execution_count": 43,
     "metadata": {},
     "output_type": "execute_result"
    }
   ],
   "source": [
    "cms_spread_pricer.swapletRate()"
   ]
  },
  {
   "cell_type": "code",
   "execution_count": 46,
   "metadata": {},
   "outputs": [
    {
     "data": {
      "text/plain": [
       "0.0015951849277328867"
      ]
     },
     "execution_count": 46,
     "metadata": {},
     "output_type": "execute_result"
    }
   ],
   "source": [
    "cms_spread_pricer.capletPrice(0.001)"
   ]
  }
 ],
 "metadata": {
  "kernelspec": {
   "display_name": "Python 3",
   "language": "python",
   "name": "python3"
  },
  "language_info": {
   "codemirror_mode": {
    "name": "ipython",
    "version": 3
   },
   "file_extension": ".py",
   "mimetype": "text/x-python",
   "name": "python",
   "nbconvert_exporter": "python",
   "pygments_lexer": "ipython3",
   "version": "3.6.3"
  }
 },
 "nbformat": 4,
 "nbformat_minor": 2
}
