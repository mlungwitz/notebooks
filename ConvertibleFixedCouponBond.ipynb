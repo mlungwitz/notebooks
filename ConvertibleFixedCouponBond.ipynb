{
 "cells": [
  {
   "cell_type": "code",
   "execution_count": 1,
   "metadata": {},
   "outputs": [],
   "source": [
    "import QuantLib as ql"
   ]
  },
  {
   "cell_type": "markdown",
   "metadata": {},
   "source": [
    "// Load call schedules\n",
    "for (Size i=0; i<LENGTH(callLength); i++) {\n",
    "    callability.push_back(\n",
    "           ext::shared_ptr<Callability>(\n",
    "               new SoftCallability(Callability::Price(\n",
    "                                           callPrices[i],\n",
    "                                           Callability::Price::Clean),\n",
    "                                   schedule.date(callLength[i]),\n",
    "                                   1.20)));\n",
    "}\n",
    "\n",
    "for (Size j=0; j<LENGTH(putLength); j++) {\n",
    "    callability.push_back(\n",
    "           ext::make_shared<Callability>(\n",
    "                   Callability::Price(\n",
    "                                           putPrices[j],\n",
    "                                           Callability::Price::Clean),\n",
    "                                   Callability::Put,\n",
    "                                   schedule.date(putLength[j])));\n",
    "}\n",
    "\n",
    "// Assume dividends are paid every 6 months.\n",
    "for (Date d = today + 6*Months; d < exerciseDate; d += 6*Months) {\n",
    "    dividends.push_back(\n",
    "              ext::shared_ptr<Dividend>(new FixedDividend(1.0, d)));\n",
    "}\n",
    "\n",
    "DayCounter dayCounter = Actual365Fixed();\n",
    "Time maturity = dayCounter.yearFraction(settlementDate,\n",
    "                                        exerciseDate);"
   ]
  },
  {
   "cell_type": "code",
   "execution_count": 5,
   "metadata": {},
   "outputs": [],
   "source": [
    "Type = ql.Option.Put\n",
    "underlying = 36.0\n",
    "spreadRate = 0.005\n",
    "\n",
    "dividendYield = 0.02\n",
    "riskFreeRate = 0.06\n",
    "volatility = 0.20\n",
    "\n",
    "settlementDays = 3\n",
    "length = 5\n",
    "redemption = 100.0\n",
    "conversionRatio = redemption/underlying #ATM"
   ]
  },
  {
   "cell_type": "code",
   "execution_count": 7,
   "metadata": {},
   "outputs": [],
   "source": [
    "calendar = ql.TARGET()\n",
    "today = calendar.adjust(ql.Date.todaysDate())\n",
    "\n",
    "ql.Settings.instance().evaluationDate = today\n",
    "settlementDate = calendar.advance(today, settlementDays, ql.Days)\n",
    "exerciseDate = calendar.advance(settlementDate, length, ql.Years)\n",
    "issueDate = calendar.advance(exerciseDate, -length, ql.Years)"
   ]
  },
  {
   "cell_type": "code",
   "execution_count": 8,
   "metadata": {},
   "outputs": [],
   "source": [
    "convention = ql.ModifiedFollowing\n",
    "\n",
    "frequency = ql.Annual\n",
    "\n",
    "schedule = ql.Schedule(issueDate, exerciseDate,\n",
    "                  ql.Period(frequency), calendar,\n",
    "                  convention, convention,\n",
    "                  ql.DateGeneration.Backward, False)"
   ]
  },
  {
   "cell_type": "code",
   "execution_count": 18,
   "metadata": {},
   "outputs": [],
   "source": [
    "\n",
    "d = today + ql.Period(6,ql.Months)\n",
    "dividend_dates=[d]\n",
    "while d < exerciseDate:\n",
    "    d += ql.Period(6, ql.Months)\n",
    "    dividend_dates+=[d]\n",
    "\n",
    "dividends = ql.DividendSchedule([ql.FixedDividend(1.0,d) for d in dividend_dates])\n",
    "callability = ql.CallabilitySchedule()\n",
    "\n",
    "coupons = [1, 0.05]\n",
    "\n",
    "bondDayCount = ql.Thirty360()"
   ]
  },
  {
   "cell_type": "code",
   "execution_count": 10,
   "metadata": {},
   "outputs": [],
   "source": [
    "callLength = [ 2, 4 ]  # Call dates, years 2, 4.\n",
    "putLength = [ 3 ] # Put dates year 3\n",
    "\n",
    "callPrices = [ 101.5, 100.85 ]\n",
    "putPrices= [ 105.0 ]"
   ]
  },
  {
   "cell_type": "code",
   "execution_count": 11,
   "metadata": {},
   "outputs": [
    {
     "data": {
      "text/plain": [
       "<QuantLib.QuantLib.CallabilitySchedule; proxy of <Swig Object of type 'std::vector< boost::shared_ptr< Callability >,std::allocator< boost::shared_ptr< Callability > > > *' at 0x000001206B7C3AB0> >"
      ]
     },
     "execution_count": 11,
     "metadata": {},
     "output_type": "execute_result"
    }
   ],
   "source": [
    "callability.appe"
   ]
  },
  {
   "cell_type": "code",
   "execution_count": 23,
   "metadata": {},
   "outputs": [],
   "source": [
    "exercise = ql.EuropeanExercise(exerciseDate)\n",
    "creditSpread = ql.QuoteHandle(ql.SimpleQuote(spreadRate))"
   ]
  },
  {
   "cell_type": "code",
   "execution_count": 24,
   "metadata": {},
   "outputs": [],
   "source": [
    "europeanBond = ql.ConvertibleFixedCouponBond (\n",
    "                    exercise, conversionRatio, dividends, callability,\n",
    "                    creditSpread, issueDate, settlementDays,\n",
    "                    coupons, bondDayCount, schedule, redemption)"
   ]
  },
  {
   "cell_type": "code",
   "execution_count": 28,
   "metadata": {},
   "outputs": [],
   "source": [
    "underlyingH = ql.QuoteHandle(ql.SimpleQuote(underlying))"
   ]
  },
  {
   "cell_type": "code",
   "execution_count": 38,
   "metadata": {},
   "outputs": [],
   "source": [
    "dayCounter = ql.Actual365Fixed()\n",
    "flatTermStructure = ql.YieldTermStructureHandle(ql.FlatForward(settlementDate, riskFreeRate, dayCounter))\n",
    "flatDividendTS = ql.YieldTermStructureHandle(ql.FlatForward(settlementDate, dividendYield, dayCounter))\n",
    "flatVolTS = ql.BlackVolTermStructureHandle(ql.BlackConstantVol(settlementDate, calendar, volatility, dayCounter))"
   ]
  },
  {
   "cell_type": "code",
   "execution_count": 39,
   "metadata": {},
   "outputs": [],
   "source": [
    "stochasticProcess = ql.BlackScholesMertonProcess(underlyingH,\n",
    "                                                flatDividendTS,\n",
    "                                                flatTermStructure,\n",
    "                                                flatVolTS)"
   ]
  },
  {
   "cell_type": "code",
   "execution_count": 41,
   "metadata": {},
   "outputs": [],
   "source": [
    "timeSteps = 801"
   ]
  },
  {
   "cell_type": "code",
   "execution_count": 42,
   "metadata": {},
   "outputs": [],
   "source": [
    "engine = ql.BinomialConvertibleEngine(stochasticProcess, \"jarrowrudd\",\n",
    "                                                            timeSteps)"
   ]
  },
  {
   "cell_type": "code",
   "execution_count": 43,
   "metadata": {},
   "outputs": [],
   "source": [
    "europeanBond.setPricingEngine(engine)"
   ]
  },
  {
   "cell_type": "code",
   "execution_count": 44,
   "metadata": {},
   "outputs": [
    {
     "data": {
      "text/plain": [
       "191.50785052843446"
      ]
     },
     "execution_count": 44,
     "metadata": {},
     "output_type": "execute_result"
    }
   ],
   "source": [
    "europeanBond.NPV()"
   ]
  }
 ],
 "metadata": {
  "kernelspec": {
   "display_name": "Python 3",
   "language": "python",
   "name": "python3"
  },
  "language_info": {
   "codemirror_mode": {
    "name": "ipython",
    "version": 3
   },
   "file_extension": ".py",
   "mimetype": "text/x-python",
   "name": "python",
   "nbconvert_exporter": "python",
   "pygments_lexer": "ipython3",
   "version": "3.6.3"
  }
 },
 "nbformat": 4,
 "nbformat_minor": 2
}
