{
 "cells": [
  {
   "cell_type": "code",
   "execution_count": 1,
   "metadata": {},
   "outputs": [],
   "source": [
    "import QuantLib as ql"
   ]
  },
  {
   "cell_type": "markdown",
   "metadata": {},
   "source": [
    "# Testing Hagan-pricer flat-vol equivalence for coupons..."
   ]
  },
  {
   "cell_type": "code",
   "execution_count": 2,
   "metadata": {},
   "outputs": [],
   "source": [
    "termStructure = ql.RelinkableYieldTermStructureHandle()"
   ]
  },
  {
   "cell_type": "code",
   "execution_count": 3,
   "metadata": {},
   "outputs": [],
   "source": [
    "calendar = ql.TARGET()"
   ]
  },
  {
   "cell_type": "code",
   "execution_count": 4,
   "metadata": {},
   "outputs": [],
   "source": [
    "referenceDate = calendar.adjust(ql.Date.todaysDate())"
   ]
  },
  {
   "cell_type": "code",
   "execution_count": 5,
   "metadata": {},
   "outputs": [],
   "source": [
    "ql.Settings.instance().evaluationDate = referenceDate"
   ]
  },
  {
   "cell_type": "code",
   "execution_count": 6,
   "metadata": {},
   "outputs": [],
   "source": [
    "termStructure.linkTo(ql.FlatForward(referenceDate, 0.05,\n",
    "                                          ql.Actual365Fixed()))"
   ]
  },
  {
   "cell_type": "code",
   "execution_count": 7,
   "metadata": {},
   "outputs": [],
   "source": [
    "iborIndex = ql.Euribor6M(termStructure)"
   ]
  },
  {
   "cell_type": "code",
   "execution_count": 8,
   "metadata": {},
   "outputs": [],
   "source": [
    "swapIndex = ql.SwapIndex(\"EuriborSwapIsdaFixA\",\n",
    "                         ql.Period(\"10Y\"),\n",
    "                          iborIndex.fixingDays(),\n",
    "                          iborIndex.currency(),\n",
    "                          iborIndex.fixingCalendar(),\n",
    "                          ql.Period(\"1Y\"),\n",
    "                          ql.Unadjusted,\n",
    "                          iborIndex.dayCounter(),\n",
    "                          iborIndex)"
   ]
  },
  {
   "cell_type": "code",
   "execution_count": 9,
   "metadata": {},
   "outputs": [],
   "source": [
    "startDate = termStructure.referenceDate() + 20*ql.Years"
   ]
  },
  {
   "cell_type": "code",
   "execution_count": 10,
   "metadata": {},
   "outputs": [],
   "source": [
    "paymentDate = startDate + 1*ql.Years"
   ]
  },
  {
   "cell_type": "code",
   "execution_count": 11,
   "metadata": {},
   "outputs": [],
   "source": [
    "endDate = paymentDate"
   ]
  },
  {
   "cell_type": "code",
   "execution_count": 12,
   "metadata": {},
   "outputs": [],
   "source": [
    "nominal = 1.0\n",
    "infiniteCap = ql.nullDouble()\n",
    "infiniteFloor = ql.nullDouble()\n",
    "gearing = 1.0\n",
    "spread = 0.0"
   ]
  },
  {
   "cell_type": "code",
   "execution_count": 13,
   "metadata": {},
   "outputs": [],
   "source": [
    "coupon = ql.CappedFlooredCmsCoupon(paymentDate, nominal,\n",
    "                                  startDate, endDate,\n",
    "                                  swapIndex.fixingDays(), swapIndex,\n",
    "                                  gearing, spread,\n",
    "                                  infiniteCap, infiniteFloor,\n",
    "                                  startDate, endDate,\n",
    "                                  iborIndex.dayCounter())"
   ]
  },
  {
   "cell_type": "code",
   "execution_count": 14,
   "metadata": {},
   "outputs": [],
   "source": [
    "yieldCurveModels = [ql.GFunctionFactory.Standard,\n",
    "                   ql.GFunctionFactory.ExactYield,\n",
    "                   ql.GFunctionFactory.ParallelShifts,\n",
    "                   ql.GFunctionFactory.NonParallelShifts,\n",
    "                   ql.GFunctionFactory.NonParallelShifts]"
   ]
  },
  {
   "cell_type": "code",
   "execution_count": 15,
   "metadata": {},
   "outputs": [],
   "source": [
    "zeroMeanRev = ql.QuoteHandle(ql.SimpleQuote(0.0))"
   ]
  },
  {
   "cell_type": "code",
   "execution_count": 16,
   "metadata": {},
   "outputs": [],
   "source": [
    "atmOptionTenors = [\n",
    "    ql.Period(1, ql.Months),\n",
    "    ql.Period(6, ql.Months),\n",
    "    ql.Period(1, ql.Years),\n",
    "    ql.Period(5, ql.Years),\n",
    "    ql.Period(10, ql.Years),\n",
    "    ql.Period(30, ql.Years)\n",
    "\n",
    "]"
   ]
  },
  {
   "cell_type": "code",
   "execution_count": 17,
   "metadata": {},
   "outputs": [],
   "source": [
    "atmSwapTenors = [\n",
    "    ql.Period(1, ql.Years),\n",
    "    ql.Period(5, ql.Years),\n",
    "    ql.Period(10, ql.Years),\n",
    "    ql.Period(30, ql.Years)\n",
    "]"
   ]
  },
  {
   "cell_type": "code",
   "execution_count": 18,
   "metadata": {},
   "outputs": [],
   "source": [
    "m = ql.Matrix(len(atmOptionTenors),len(atmSwapTenors))"
   ]
  },
  {
   "cell_type": "code",
   "execution_count": 19,
   "metadata": {},
   "outputs": [],
   "source": [
    "m[0][0]=0.1300; m[0][1]=0.1560; m[0][2]=0.1390; m[0][3]=0.1220;\n",
    "m[1][0]=0.1440; m[1][1]=0.1580; m[1][2]=0.1460; m[1][3]=0.1260;\n",
    "m[2][0]=0.1600; m[2][1]=0.1590; m[2][2]=0.1470; m[2][3]=0.1290;\n",
    "m[3][0]=0.1640; m[3][1]=0.1470; m[3][2]=0.1370; m[3][3]=0.1220;\n",
    "m[4][0]=0.1400; m[4][1]=0.1300; m[4][2]=0.1250; m[4][3]=0.1100;\n",
    "m[5][0]=0.1130; m[5][1]=0.1090; m[5][2]=0.1070; m[5][3]=0.0930;"
   ]
  },
  {
   "cell_type": "code",
   "execution_count": 20,
   "metadata": {},
   "outputs": [],
   "source": [
    "atmVol = ql.SwaptionVolatilityStructureHandle(\n",
    "            ql.SwaptionVolatilityMatrix(calendar,\n",
    "                                       ql.Following,\n",
    "                                             atmOptionTenors,\n",
    "                                             atmSwapTenors,\n",
    "                                             m,\n",
    "                                             ql.Actual365Fixed()))"
   ]
  },
  {
   "cell_type": "code",
   "execution_count": 21,
   "metadata": {},
   "outputs": [],
   "source": [
    "numericalPricers = [ql.NumericHaganPricer(atmVol, yieldCurveModels[j], zeroMeanRev) for j in range(0, len(yieldCurveModels)-1)]\n",
    "numericalPricers += [ql.LinearTsrPricer(atmVol, zeroMeanRev)]\n",
    "analyticPricers = [ql.AnalyticHaganPricer(atmVol, yieldCurveModels[j],\n",
    "                                        zeroMeanRev) for j in range(0, len(yieldCurveModels))]"
   ]
  },
  {
   "cell_type": "code",
   "execution_count": 22,
   "metadata": {},
   "outputs": [
    {
     "name": "stdout",
     "output_type": "stream",
     "text": [
      "3.873281508512405e-07\n",
      "1.9250179429664005e-08\n",
      "4.313882091822041e-09\n",
      "4.313882091822041e-09\n",
      "6.679072198090275e-08\n"
     ]
    }
   ],
   "source": [
    "for j in range(0, len(yieldCurveModels)):\n",
    "    numericalPricers[j].setSwaptionVolatility(atmVol)\n",
    "    coupon.setPricer(numericalPricers[j])\n",
    "    rate0 = coupon.rate()\n",
    "    analyticPricers[j].setSwaptionVolatility(atmVol)\n",
    "    coupon.setPricer(analyticPricers[j])\n",
    "    rate1 = coupon.rate()\n",
    "    difference =  abs(rate1-rate0)\n",
    "    print(difference)"
   ]
  },
  {
   "cell_type": "markdown",
   "metadata": {},
   "source": [
    "# Testing Hagan-pricer flat-vol equivalence for swaps..."
   ]
  },
  {
   "cell_type": "code",
   "execution_count": 24,
   "metadata": {},
   "outputs": [],
   "source": [
    "swapLengths = [1, 5, 6, 10]"
   ]
  },
  {
   "cell_type": "code",
   "execution_count": 141,
   "metadata": {},
   "outputs": [],
   "source": [
    "# Should be SWIGed\n",
    "def makeCMS(swapTenor : ql.Period,\n",
    "            swapIndex : ql.SwapIndex,\n",
    "            iborIndex : ql.IborIndex,\n",
    "            iborSpread : float,\n",
    "            forwardStart : ql.Period\n",
    "           ):\n",
    "\n",
    "    fixingDays = iborIndex.fixingDays()\n",
    "    refDate = ql.Settings.instance().evaluationDate\n",
    "    #if the evaluation date is not a business day\n",
    "    #then move to the next business day\n",
    "    floatCalendar = iborIndex.fixingCalendar()\n",
    "    refDate = floatCalendar.adjust(refDate)\n",
    "    spotDate = floatCalendar.advance(refDate, ql.Period(fixingDays, ql.Days))\n",
    "    startDate = spotDate+forwardStart\n",
    "    terminationDate = startDate+swapTenor\n",
    "\n",
    "    cmsSchedule = ql.Schedule(startDate, terminationDate,\n",
    "                              ql.Period(3, ql.Months), swapIndex.fixingCalendar(),\n",
    "                              ql.ModifiedFollowing,\n",
    "                              ql.ModifiedFollowing,\n",
    "                              ql.DateGeneration.Backward, False,\n",
    "                              ql.Date(), ql.Date())\n",
    "    \n",
    "    floatSchedule = ql.Schedule(startDate, terminationDate,\n",
    "                                iborIndex.tenor(), floatCalendar,\n",
    "                                iborIndex.businessDayConvention(),\n",
    "                                iborIndex.businessDayConvention(),\n",
    "                                ql.DateGeneration.Backward , False,\n",
    "                                ql.Date(), ql.Date())\n",
    "\n",
    "    cmsLeg = ql.CmsLeg([1.0], cmsSchedule, swapIndex, ql.Actual360(), ql.ModifiedFollowing, [swapIndex.fixingDays()], [1.0], [0.0], [], []\n",
    "                       )\n",
    "\n",
    "    floatLeg = ql.IborLeg([1.0], floatSchedule, iborIndex, iborIndex.dayCounter(), iborIndex.businessDayConvention(), [iborIndex.fixingDays()], [iborSpread])\n",
    "    \n",
    "    swap = ql.Swap(cmsLeg, floatLeg)\n",
    "    engine = ql.DiscountingSwapEngine(swapIndex.forwardingTermStructure())\n",
    "    swap.setPricingEngine(engine)\n",
    "    return swap\n",
    "    "
   ]
  },
  {
   "cell_type": "code",
   "execution_count": 142,
   "metadata": {},
   "outputs": [],
   "source": [
    "cms = []\n",
    "\n",
    "for swapLength in swapLengths:\n",
    "    period = ql.Period(swapLength, ql.Years)\n",
    "    \n",
    "    swap = makeCMS(period, swapIndex, iborIndex, spread, ql.Period(10, ql.Days))\n",
    "\n",
    "    cms+=[swap]"
   ]
  },
  {
   "cell_type": "code",
   "execution_count": 144,
   "metadata": {},
   "outputs": [
    {
     "name": "stdout",
     "output_type": "stream",
     "text": [
      "Length in Years:   1\n",
      "Numerical Pricer:  -0.04998591425676751\n",
      "Analytic Pricer:   -0.0499868276912536\n",
      "difference:   9.134344860911581e-07\n",
      "Length in Years:   5\n",
      "Numerical Pricer:  -0.22766453158670616\n",
      "Analytic Pricer:   -0.22766845022437887\n",
      "difference:   3.918637672711833e-06\n",
      "Length in Years:   6\n",
      "Numerical Pricer:  -0.2672632661492732\n",
      "Analytic Pricer:   -0.2672629582820436\n",
      "difference:   3.078672295986351e-07\n",
      "Length in Years:   10\n",
      "Numerical Pricer:  -0.40853925656533535\n",
      "Analytic Pricer:   -0.40849447581580994\n",
      "difference:   4.4780749525408226e-05\n",
      "Length in Years:   1\n",
      "Numerical Pricer:  -0.04998717213293465\n",
      "Analytic Pricer:   -0.04998698248633201\n",
      "difference:   1.8964660264408906e-07\n",
      "Length in Years:   5\n",
      "Numerical Pricer:  -0.22769665145567652\n",
      "Analytic Pricer:   -0.22767226238973584\n",
      "difference:   2.438906594068313e-05\n",
      "Length in Years:   6\n",
      "Numerical Pricer:  -0.26730762028624433\n",
      "Analytic Pricer:   -0.2672682416204877\n",
      "difference:   3.937866575665083e-05\n",
      "Length in Years:   10\n",
      "Numerical Pricer:  -0.4086427111428956\n",
      "Analytic Pricer:   -0.4085066695467182\n",
      "difference:   0.0001360415961773609\n",
      "Length in Years:   1\n",
      "Numerical Pricer:  -0.04998716084721483\n",
      "Analytic Pricer:   -0.04998823251309555\n",
      "difference:   1.0716658807238821e-06\n",
      "Length in Years:   5\n",
      "Numerical Pricer:  -0.22769683785673975\n",
      "Analytic Pricer:   -0.22770426294700497\n",
      "difference:   7.425090265217316e-06\n",
      "Length in Years:   6\n",
      "Numerical Pricer:  -0.2673078371541141\n",
      "Analytic Pricer:   -0.2673123342203043\n",
      "difference:   4.497066190212173e-06\n",
      "Length in Years:   10\n",
      "Numerical Pricer:  -0.4086431939662317\n",
      "Analytic Pricer:   -0.4086085497413256\n",
      "difference:   3.4644224906121845e-05\n",
      "Length in Years:   1\n",
      "Numerical Pricer:  -0.04998716084721483\n",
      "Analytic Pricer:   -0.04998823251309555\n",
      "difference:   1.0716658807238821e-06\n",
      "Length in Years:   5\n",
      "Numerical Pricer:  -0.22769683785673975\n",
      "Analytic Pricer:   -0.22770426294700497\n",
      "difference:   7.425090265217316e-06\n",
      "Length in Years:   6\n",
      "Numerical Pricer:  -0.2673078371541141\n",
      "Analytic Pricer:   -0.2673123342203043\n",
      "difference:   4.497066190212173e-06\n",
      "Length in Years:   10\n",
      "Numerical Pricer:  -0.4086431939662317\n",
      "Analytic Pricer:   -0.4086085497413256\n",
      "difference:   3.4644224906121845e-05\n",
      "Length in Years:   1\n",
      "Numerical Pricer:  -0.04998683037664721\n",
      "Analytic Pricer:   -0.04998823251309555\n",
      "difference:   1.4021364483432497e-06\n",
      "Length in Years:   5\n",
      "Numerical Pricer:  -0.22766985514112253\n",
      "Analytic Pricer:   -0.22770426294700497\n",
      "difference:   3.440780588243042e-05\n",
      "Length in Years:   6\n",
      "Numerical Pricer:  -0.2672648795085711\n",
      "Analytic Pricer:   -0.2673123342203043\n",
      "difference:   4.745471173323024e-05\n",
      "Length in Years:   10\n",
      "Numerical Pricer:  -0.4084986508920797\n",
      "Analytic Pricer:   -0.4086085497413256\n",
      "difference:   0.000109898849245893\n"
     ]
    }
   ],
   "source": [
    "for j in range(0, len(yieldCurveModels)):\n",
    "    numericalPricers[j].setSwaptionVolatility(atmVol)\n",
    "    analyticPricers[j].setSwaptionVolatility(atmVol)\n",
    "\n",
    "    for sl in range(0, len(cms)):\n",
    "        #print(sl)\n",
    "        ql.setCouponPricer(cms[sl].leg(0), numericalPricers[j])\n",
    "        \n",
    "        priceNum = cms[sl].NPV()\n",
    "        ql.setCouponPricer(cms[sl].leg(0), analyticPricers[j])\n",
    "        priceAn = cms[sl].NPV()\n",
    "\n",
    "        difference =  abs(priceNum-priceAn)\n",
    "        tol = 2.0e-4\n",
    "        linearTsr = j==len(yieldCurveModels)-1\n",
    "\n",
    "        print(\"Length in Years:  \", swapLengths[sl])\n",
    "        #print(\"swap index:       \" , swapIndex.name())\n",
    "        #print(\"YieldCurve Model: \" ,yieldCurveModels[j])\n",
    "        print(\"Numerical Pricer: \" ,(priceNum))\n",
    "        print(\"Analytic Pricer:  \" , (priceAn))\n",
    "        print(\"difference:  \",difference)"
   ]
  }
 ],
 "metadata": {
  "kernelspec": {
   "display_name": "Python 3 (ipykernel)",
   "language": "python",
   "name": "python3"
  },
  "language_info": {
   "codemirror_mode": {
    "name": "ipython",
    "version": 3
   },
   "file_extension": ".py",
   "mimetype": "text/x-python",
   "name": "python",
   "nbconvert_exporter": "python",
   "pygments_lexer": "ipython3",
   "version": "3.11.6"
  }
 },
 "nbformat": 4,
 "nbformat_minor": 4
}
