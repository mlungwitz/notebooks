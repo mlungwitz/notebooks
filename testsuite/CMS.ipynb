{
 "cells": [
  {
   "cell_type": "code",
   "execution_count": 1,
   "metadata": {},
   "outputs": [],
   "source": [
    "import QuantLib as ql"
   ]
  },
  {
   "cell_type": "markdown",
   "metadata": {},
   "source": [
    "# Testing Hagan-pricer flat-vol equivalence for coupons..."
   ]
  },
  {
   "cell_type": "code",
   "execution_count": 5,
   "metadata": {},
   "outputs": [],
   "source": [
    "termStructure = ql.RelinkableYieldTermStructureHandle()"
   ]
  },
  {
   "cell_type": "code",
   "execution_count": 7,
   "metadata": {},
   "outputs": [],
   "source": [
    "calendar = ql.TARGET()"
   ]
  },
  {
   "cell_type": "code",
   "execution_count": 8,
   "metadata": {},
   "outputs": [],
   "source": [
    "referenceDate = calendar.adjust(ql.Date.todaysDate())"
   ]
  },
  {
   "cell_type": "code",
   "execution_count": 10,
   "metadata": {},
   "outputs": [],
   "source": [
    "ql.Settings.instance().evaluationDate = referenceDate"
   ]
  },
  {
   "cell_type": "code",
   "execution_count": 11,
   "metadata": {},
   "outputs": [],
   "source": [
    "termStructure.linkTo(ql.FlatForward(referenceDate, 0.05,\n",
    "                                          ql.Actual365Fixed()))"
   ]
  },
  {
   "cell_type": "code",
   "execution_count": 12,
   "metadata": {},
   "outputs": [],
   "source": [
    "iborIndex = ql.Euribor6M(termStructure)"
   ]
  },
  {
   "cell_type": "code",
   "execution_count": 13,
   "metadata": {},
   "outputs": [],
   "source": [
    "swapIndex = ql.SwapIndex(\"EuriborSwapIsdaFixA\",\n",
    "                         ql.Period(\"10Y\"),\n",
    "                          iborIndex.fixingDays(),\n",
    "                          iborIndex.currency(),\n",
    "                          iborIndex.fixingCalendar(),\n",
    "                          ql.Period(\"1Y\"),\n",
    "                          ql.Unadjusted,\n",
    "                          iborIndex.dayCounter(),\n",
    "                          iborIndex)"
   ]
  },
  {
   "cell_type": "code",
   "execution_count": 14,
   "metadata": {},
   "outputs": [],
   "source": [
    "startDate = termStructure.referenceDate() + 20*ql.Years"
   ]
  },
  {
   "cell_type": "code",
   "execution_count": 16,
   "metadata": {},
   "outputs": [],
   "source": [
    "paymentDate = startDate + 1*ql.Years"
   ]
  },
  {
   "cell_type": "code",
   "execution_count": 17,
   "metadata": {},
   "outputs": [],
   "source": [
    "endDate = paymentDate"
   ]
  },
  {
   "cell_type": "code",
   "execution_count": 18,
   "metadata": {},
   "outputs": [],
   "source": [
    "nominal = 1.0\n",
    "infiniteCap = ql.nullDouble()\n",
    "infiniteFloor = ql.nullDouble()\n",
    "gearing = 1.0\n",
    "spread = 0.0"
   ]
  },
  {
   "cell_type": "code",
   "execution_count": 20,
   "metadata": {},
   "outputs": [],
   "source": [
    "coupon = ql.CappedFlooredCmsCoupon(paymentDate, nominal,\n",
    "                                  startDate, endDate,\n",
    "                                  swapIndex.fixingDays(), swapIndex,\n",
    "                                  gearing, spread,\n",
    "                                  infiniteCap, infiniteFloor,\n",
    "                                  startDate, endDate,\n",
    "                                  iborIndex.dayCounter())"
   ]
  },
  {
   "cell_type": "code",
   "execution_count": 24,
   "metadata": {},
   "outputs": [],
   "source": [
    "yieldCurveModels = [ql.GFunctionFactory.Standard,\n",
    "                   ql.GFunctionFactory.ExactYield,\n",
    "                   ql.GFunctionFactory.ParallelShifts,\n",
    "                   ql.GFunctionFactory.NonParallelShifts,\n",
    "                   ql.GFunctionFactory.NonParallelShifts]"
   ]
  },
  {
   "cell_type": "code",
   "execution_count": 26,
   "metadata": {},
   "outputs": [],
   "source": [
    "zeroMeanRev = ql.QuoteHandle(ql.SimpleQuote(0.0))"
   ]
  },
  {
   "cell_type": "code",
   "execution_count": 31,
   "metadata": {},
   "outputs": [],
   "source": [
    "atmOptionTenors = [\n",
    "    ql.Period(1, ql.Months),\n",
    "    ql.Period(6, ql.Months),\n",
    "    ql.Period(1, ql.Years),\n",
    "    ql.Period(5, ql.Years),\n",
    "    ql.Period(10, ql.Years),\n",
    "    ql.Period(30, ql.Years)\n",
    "\n",
    "]"
   ]
  },
  {
   "cell_type": "code",
   "execution_count": 32,
   "metadata": {},
   "outputs": [],
   "source": [
    "atmSwapTenors = [\n",
    "    ql.Period(1, ql.Years),\n",
    "    ql.Period(5, ql.Years),\n",
    "    ql.Period(10, ql.Years),\n",
    "    ql.Period(30, ql.Years)\n",
    "]"
   ]
  },
  {
   "cell_type": "code",
   "execution_count": 33,
   "metadata": {},
   "outputs": [],
   "source": [
    "m = ql.Matrix(len(atmOptionTenors),len(atmSwapTenors))"
   ]
  },
  {
   "cell_type": "code",
   "execution_count": 34,
   "metadata": {},
   "outputs": [],
   "source": [
    "m[0][0]=0.1300; m[0][1]=0.1560; m[0][2]=0.1390; m[0][3]=0.1220;\n",
    "m[1][0]=0.1440; m[1][1]=0.1580; m[1][2]=0.1460; m[1][3]=0.1260;\n",
    "m[2][0]=0.1600; m[2][1]=0.1590; m[2][2]=0.1470; m[2][3]=0.1290;\n",
    "m[3][0]=0.1640; m[3][1]=0.1470; m[3][2]=0.1370; m[3][3]=0.1220;\n",
    "m[4][0]=0.1400; m[4][1]=0.1300; m[4][2]=0.1250; m[4][3]=0.1100;\n",
    "m[5][0]=0.1130; m[5][1]=0.1090; m[5][2]=0.1070; m[5][3]=0.0930;"
   ]
  },
  {
   "cell_type": "code",
   "execution_count": 39,
   "metadata": {},
   "outputs": [],
   "source": [
    "atmVol = ql.SwaptionVolatilityStructureHandle(\n",
    "            ql.SwaptionVolatilityMatrix(calendar,\n",
    "                                       ql.Following,\n",
    "                                             atmOptionTenors,\n",
    "                                             atmSwapTenors,\n",
    "                                             m,\n",
    "                                             ql.Actual365Fixed()))"
   ]
  },
  {
   "cell_type": "code",
   "execution_count": 43,
   "metadata": {},
   "outputs": [],
   "source": [
    "numericalPricers = [ql.NumericHaganPricer(atmVol, yieldCurveModels[j], zeroMeanRev) for j in range(0, len(yieldCurveModels)-1)]\n",
    "numericalPricers += [ql.LinearTsrPricer(atmVol, zeroMeanRev)]\n",
    "analyticPricers = [ql.AnalyticHaganPricer(atmVol, yieldCurveModels[j],\n",
    "                                        zeroMeanRev) for j in range(0, len(yieldCurveModels))]"
   ]
  },
  {
   "cell_type": "code",
   "execution_count": 48,
   "metadata": {},
   "outputs": [
    {
     "name": "stdout",
     "output_type": "stream",
     "text": [
      "4.067231326732035e-07\n",
      "2.3050488483222775e-08\n",
      "5.235758604449359e-09\n",
      "5.235758604449359e-09\n",
      "4.2694381141572535e-08\n"
     ]
    }
   ],
   "source": [
    "for j in range(0, len(yieldCurveModels)):\n",
    "    numericalPricers[j].setSwaptionVolatility(atmVol)\n",
    "    coupon.setPricer(numericalPricers[j])\n",
    "    rate0 = coupon.rate()\n",
    "    analyticPricers[j].setSwaptionVolatility(atmVol)\n",
    "    coupon.setPricer(analyticPricers[j])\n",
    "    rate1 = coupon.rate()\n",
    "    difference =  abs(rate1-rate0)\n",
    "    print(difference)"
   ]
  },
  {
   "cell_type": "markdown",
   "metadata": {},
   "source": [
    "# Testing Hagan-pricer flat-vol equivalence for swaps..."
   ]
  },
  {
   "cell_type": "code",
   "execution_count": 50,
   "metadata": {},
   "outputs": [],
   "source": [
    "#tbd"
   ]
  }
 ],
 "metadata": {
  "kernelspec": {
   "display_name": "Python 3",
   "language": "python",
   "name": "python3"
  },
  "language_info": {
   "codemirror_mode": {
    "name": "ipython",
    "version": 3
   },
   "file_extension": ".py",
   "mimetype": "text/x-python",
   "name": "python",
   "nbconvert_exporter": "python",
   "pygments_lexer": "ipython3",
   "version": "3.6.3"
  }
 },
 "nbformat": 4,
 "nbformat_minor": 2
}
