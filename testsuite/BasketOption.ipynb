{
 "cells": [
  {
   "cell_type": "markdown",
   "metadata": {},
   "source": [
    "# Basket option tests"
   ]
  },
  {
   "cell_type": "code",
   "execution_count": 1,
   "metadata": {},
   "outputs": [],
   "source": [
    "import QuantLib as ql"
   ]
  },
  {
   "cell_type": "markdown",
   "metadata": {},
   "source": [
    "# Testing two-asset European basket options..."
   ]
  },
  {
   "cell_type": "code",
   "execution_count": 2,
   "metadata": {},
   "outputs": [],
   "source": [
    "values = [\n",
    "        #      basketType,   optionType, strike,    s1,    s2,   q1,   q2,    r,    t,   v1,   v2,  rho, result, tol\n",
    "\n",
    "        [\"MinBasket\", ql.Option.Call,  100.0, 100.0, 100.0, 0.00, 0.00, 0.05, 1.00, 0.30, 0.30, 0.90, 10.898, 1.0e-3],\n",
    "        [\"MinBasket\", ql.Option.Call,  100.0, 100.0, 100.0, 0.00, 0.00, 0.05, 1.00, 0.30, 0.30, 0.70,  8.483, 1.0e-3],\n",
    "        [\"MinBasket\", ql.Option.Call,  100.0, 100.0, 100.0, 0.00, 0.00, 0.05, 1.00, 0.30, 0.30, 0.50,  6.844, 1.0e-3],\n",
    "        [\"MinBasket\", ql.Option.Call,  100.0, 100.0, 100.0, 0.00, 0.00, 0.05, 1.00, 0.30, 0.30, 0.30,  5.531, 1.0e-3],\n",
    "        [\"MinBasket\", ql.Option.Call,  100.0, 100.0, 100.0, 0.00, 0.00, 0.05, 1.00, 0.30, 0.30, 0.10,  4.413, 1.0e-3],\n",
    "        [\"MinBasket\", ql.Option.Call,  100.0, 100.0, 100.0, 0.00, 0.00, 0.05, 1.00, 0.50, 0.70, 0.00,  4.981, 1.0e-3],\n",
    "        [\"MinBasket\", ql.Option.Call,  100.0, 100.0, 100.0, 0.00, 0.00, 0.05, 1.00, 0.50, 0.30, 0.00,  4.159, 1.0e-3],\n",
    "        [\"MinBasket\", ql.Option.Call,  100.0, 100.0, 100.0, 0.00, 0.00, 0.05, 1.00, 0.50, 0.10, 0.00,  2.597, 1.0e-3],\n",
    "        [\"MinBasket\", ql.Option.Call,  100.0, 100.0, 100.0, 0.00, 0.00, 0.05, 1.00, 0.50, 0.10, 0.50,  4.030, 1.0e-3],\n",
    "\n",
    "        [\"MaxBasket\", ql.Option.Call,  100.0, 100.0, 100.0, 0.00, 0.00, 0.05, 1.00, 0.30, 0.30, 0.90, 17.565, 1.0e-3],\n",
    "        [\"MaxBasket\", ql.Option.Call,  100.0, 100.0, 100.0, 0.00, 0.00, 0.05, 1.00, 0.30, 0.30, 0.70, 19.980, 1.0e-3],\n",
    "        [\"MaxBasket\", ql.Option.Call,  100.0, 100.0, 100.0, 0.00, 0.00, 0.05, 1.00, 0.30, 0.30, 0.50, 21.619, 1.0e-3],\n",
    "        [\"MaxBasket\", ql.Option.Call,  100.0, 100.0, 100.0, 0.00, 0.00, 0.05, 1.00, 0.30, 0.30, 0.30, 22.932, 1.0e-3],\n",
    "        [\"MaxBasket\", ql.Option.Call,  100.0, 100.0, 100.0, 0.00, 0.00, 0.05, 1.00, 0.30, 0.30, 0.10, 24.049, 1.1e-3],\n",
    "        [\"MaxBasket\", ql.Option.Call,  100.0,  80.0, 100.0, 0.00, 0.00, 0.05, 1.00, 0.30, 0.30, 0.30, 16.508, 1.0e-3],\n",
    "        [\"MaxBasket\", ql.Option.Call,  100.0,  80.0,  80.0, 0.00, 0.00, 0.05, 1.00, 0.30, 0.30, 0.30,  8.049, 1.0e-3],\n",
    "        [\"MaxBasket\", ql.Option.Call,  100.0,  80.0, 120.0, 0.00, 0.00, 0.05, 1.00, 0.30, 0.30, 0.30, 30.141, 1.0e-3],\n",
    "        [\"MaxBasket\", ql.Option.Call,  100.0, 120.0, 120.0, 0.00, 0.00, 0.05, 1.00, 0.30, 0.30, 0.30, 42.889, 1.0e-3],\n",
    "\n",
    "        [\"MinBasket\",  ql.Option.Put,  100.0, 100.0, 100.0, 0.00, 0.00, 0.05, 1.00, 0.30, 0.30, 0.90, 11.369, 1.0e-3],\n",
    "        [\"MinBasket\",  ql.Option.Put,  100.0, 100.0, 100.0, 0.00, 0.00, 0.05, 1.00, 0.30, 0.30, 0.70, 12.856, 1.0e-3],\n",
    "        [\"MinBasket\",  ql.Option.Put,  100.0, 100.0, 100.0, 0.00, 0.00, 0.05, 1.00, 0.30, 0.30, 0.50, 13.890, 1.0e-3],\n",
    "        [\"MinBasket\",  ql.Option.Put,  100.0, 100.0, 100.0, 0.00, 0.00, 0.05, 1.00, 0.30, 0.30, 0.30, 14.741, 1.0e-3],\n",
    "        [\"MinBasket\",  ql.Option.Put,  100.0, 100.0, 100.0, 0.00, 0.00, 0.05, 1.00, 0.30, 0.30, 0.10, 15.485, 1.0e-3],\n",
    "\n",
    "        [\"MinBasket\",  ql.Option.Put,  100.0, 100.0, 100.0, 0.00, 0.00, 0.05, 0.50, 0.30, 0.30, 0.10, 11.893, 1.0e-3],\n",
    "        [\"MinBasket\",  ql.Option.Put,  100.0, 100.0, 100.0, 0.00, 0.00, 0.05, 0.25, 0.30, 0.30, 0.10,  8.881, 1.0e-3],\n",
    "        [\"MinBasket\",  ql.Option.Put,  100.0, 100.0, 100.0, 0.00, 0.00, 0.05, 2.00, 0.30, 0.30, 0.10, 19.268, 1.0e-3],\n",
    "\n",
    "        [\"MaxBasket\",  ql.Option.Put,  100.0, 100.0, 100.0, 0.00, 0.00, 0.05, 1.00, 0.30, 0.30, 0.90,  7.339, 1.0e-3],\n",
    "        [\"MaxBasket\",  ql.Option.Put,  100.0, 100.0, 100.0, 0.00, 0.00, 0.05, 1.00, 0.30, 0.30, 0.70,  5.853, 1.0e-3],\n",
    "        [\"MaxBasket\",  ql.Option.Put,  100.0, 100.0, 100.0, 0.00, 0.00, 0.05, 1.00, 0.30, 0.30, 0.50,  4.818, 1.0e-3],\n",
    "        [\"MaxBasket\",  ql.Option.Put,  100.0, 100.0, 100.0, 0.00, 0.00, 0.05, 1.00, 0.30, 0.30, 0.30,  3.967, 1.1e-3],\n",
    "        [\"MaxBasket\",  ql.Option.Put,  100.0, 100.0, 100.0, 0.00, 0.00, 0.05, 1.00, 0.30, 0.30, 0.10,  3.223, 1.0e-3],\n",
    "\n",
    "        #      basketType,   optionType, strike,    s1,    s2,   q1,   q2,    r,    t,   v1,   v2,  rho,  result, tol\n",
    "        [\"MinBasket\", ql.Option.Call,   98.0, 100.0, 105.0, 0.00, 0.00, 0.05, 0.50, 0.11, 0.16, 0.63,  4.8177, 1.0e-4],\n",
    "        [\"MaxBasket\", ql.Option.Call,   98.0, 100.0, 105.0, 0.00, 0.00, 0.05, 0.50, 0.11, 0.16, 0.63, 11.6323, 1.0e-4],\n",
    "        [\"MinBasket\",  ql.Option.Put,   98.0, 100.0, 105.0, 0.00, 0.00, 0.05, 0.50, 0.11, 0.16, 0.63,  2.0376, 1.0e-4],\n",
    "        [\"MaxBasket\",  ql.Option.Put,   98.0, 100.0, 105.0, 0.00, 0.00, 0.05, 0.50, 0.11, 0.16, 0.63,  0.5731, 1.0e-4],\n",
    "        [\"MinBasket\", ql.Option.Call,   98.0, 100.0, 105.0, 0.06, 0.09, 0.05, 0.50, 0.11, 0.16, 0.63,  2.9340, 1.0e-4],\n",
    "        [\"MinBasket\",  ql.Option.Put,   98.0, 100.0, 105.0, 0.06, 0.09, 0.05, 0.50, 0.11, 0.16, 0.63,  3.5224, 1.0e-4],\n",
    "\n",
    "        [\"MaxBasket\", ql.Option.Call,   98.0, 100.0, 105.0, 0.06, 0.09, 0.05, 0.50, 0.11, 0.16, 0.63,  8.0701, 1.0e-4],\n",
    "        [\"MaxBasket\",  ql.Option.Put,   98.0, 100.0, 105.0, 0.06, 0.09, 0.05, 0.50, 0.11, 0.16, 0.63,  1.2181, 1.0e-4],\n",
    "\n",
    "\n",
    "        [\"SpreadBasket\", ql.Option.Call, 3.0,  122.0, 120.0, 0.0, 0.0, 0.10,  0.1, 0.20, 0.20, -0.5, 4.7530, 1.0e-3],\n",
    "        [\"SpreadBasket\", ql.Option.Call, 3.0,  122.0, 120.0, 0.0, 0.0, 0.10,  0.1, 0.20, 0.20,  0.0, 3.7970, 1.0e-3],\n",
    "        [\"SpreadBasket\", ql.Option.Call, 3.0,  122.0, 120.0, 0.0, 0.0, 0.10,  0.1, 0.20, 0.20,  0.5, 2.5537, 1.0e-3],\n",
    "        [\"SpreadBasket\", ql.Option.Call, 3.0,  122.0, 120.0, 0.0, 0.0, 0.10,  0.1, 0.25, 0.20, -0.5, 5.4275, 1.0e-3],\n",
    "        [\"SpreadBasket\", ql.Option.Call, 3.0,  122.0, 120.0, 0.0, 0.0, 0.10,  0.1, 0.25, 0.20,  0.0, 4.3712, 1.0e-3],\n",
    "        [\"SpreadBasket\", ql.Option.Call, 3.0,  122.0, 120.0, 0.0, 0.0, 0.10,  0.1, 0.25, 0.20,  0.5, 3.0086, 1.0e-3],\n",
    "        [\"SpreadBasket\", ql.Option.Call, 3.0,  122.0, 120.0, 0.0, 0.0, 0.10,  0.1, 0.20, 0.25, -0.5, 5.4061, 1.0e-3],\n",
    "        [\"SpreadBasket\", ql.Option.Call, 3.0,  122.0, 120.0, 0.0, 0.0, 0.10,  0.1, 0.20, 0.25,  0.0, 4.3451, 1.0e-3],\n",
    "        [\"SpreadBasket\", ql.Option.Call, 3.0,  122.0, 120.0, 0.0, 0.0, 0.10,  0.1, 0.20, 0.25,  0.5, 2.9723, 1.0e-3],\n",
    "        [\"SpreadBasket\", ql.Option.Call, 3.0,  122.0, 120.0, 0.0, 0.0, 0.10,  0.5, 0.20, 0.20, -0.5,10.7517, 1.0e-3],\n",
    "        [\"SpreadBasket\", ql.Option.Call, 3.0,  122.0, 120.0, 0.0, 0.0, 0.10,  0.5, 0.20, 0.20,  0.0, 8.7020, 1.0e-3],\n",
    "        [\"SpreadBasket\", ql.Option.Call, 3.0,  122.0, 120.0, 0.0, 0.0, 0.10,  0.5, 0.20, 0.20,  0.5, 6.0257, 1.0e-3],\n",
    "        [\"SpreadBasket\", ql.Option.Call, 3.0,  122.0, 120.0, 0.0, 0.0, 0.10,  0.5, 0.25, 0.20, -0.5,12.1941, 1.0e-3],\n",
    "        [\"SpreadBasket\", ql.Option.Call, 3.0,  122.0, 120.0, 0.0, 0.0, 0.10,  0.5, 0.25, 0.20,  0.0, 9.9340, 1.0e-3],\n",
    "        [\"SpreadBasket\", ql.Option.Call, 3.0,  122.0, 120.0, 0.0, 0.0, 0.10,  0.5, 0.25, 0.20,  0.5, 7.0067, 1.0e-3],\n",
    "        [\"SpreadBasket\", ql.Option.Call, 3.0,  122.0, 120.0, 0.0, 0.0, 0.10,  0.5, 0.20, 0.25, -0.5,12.1483, 1.0e-3],\n",
    "        [\"SpreadBasket\", ql.Option.Call, 3.0,  122.0, 120.0, 0.0, 0.0, 0.10,  0.5, 0.20, 0.25,  0.0, 9.8780, 1.0e-3],\n",
    "        [\"SpreadBasket\", ql.Option.Call, 3.0,  122.0, 120.0, 0.0, 0.0, 0.10,  0.5, 0.20, 0.25,  0.5, 6.9284, 1.0e-3]\n",
    "    ]"
   ]
  },
  {
   "cell_type": "code",
   "execution_count": 3,
   "metadata": {},
   "outputs": [],
   "source": [
    "dc = ql.Actual360()\n",
    "today = ql.Date.todaysDate()\n",
    "\n",
    "spot1=ql.SimpleQuote(0.0)\n",
    "spot2=ql.SimpleQuote(0.0)\n",
    "qRate1 = ql.SimpleQuote(0.0)\n",
    "qTS1 = ql.FlatForward(today, ql.QuoteHandle(qRate1), dc)\n",
    "qRate2 = ql.SimpleQuote(0.0)\n",
    "qTS2 = ql.FlatForward(today, ql.QuoteHandle(qRate2), dc)\n",
    "rRate = ql.SimpleQuote(0.0)\n",
    "rTS = ql.FlatForward(today, ql.QuoteHandle(rRate), dc)"
   ]
  },
  {
   "cell_type": "code",
   "execution_count": 4,
   "metadata": {},
   "outputs": [],
   "source": [
    "vol1 = ql.SimpleQuote(0.0)\n",
    "volTS1 = ql.BlackConstantVol(today, ql.NullCalendar(), ql.QuoteHandle(vol1), dc)\n",
    "vol2 = ql.SimpleQuote(0.0)\n",
    "volTS2 = ql.BlackConstantVol(today, ql.NullCalendar(), ql.QuoteHandle(vol2), dc)\n",
    "\n",
    "mcRelativeErrorTolerance = 0.01\n",
    "fdRelativeErrorTolerance = 0.01"
   ]
  },
  {
   "cell_type": "code",
   "execution_count": 5,
   "metadata": {},
   "outputs": [],
   "source": [
    "def basketTypeToPayoff(basketType, p):\n",
    "    if (basketType == \"MinBasket\"):\n",
    "        return ql.MinBasketPayoff(p)\n",
    "    elif (basketType == \"MaxBasket\"):\n",
    "        return ql.MaxBasketPayoff(p)\n",
    "    elif (basketType == \"SpreadBasket\"):\n",
    "        return ql.SpreadBasketPayoff(p)\n",
    "    else:\n",
    "        print(\"ERROR: UNKNOWN BASKET TYPE\")\n",
    "        return None"
   ]
  },
  {
   "cell_type": "code",
   "execution_count": 6,
   "metadata": {},
   "outputs": [],
   "source": [
    "for row in values:\n",
    "    payoff = ql.PlainVanillaPayoff(row[1], row[2])\n",
    "    exDate = today + int(row[8]*360+0.5)\n",
    "    exercise = ql.EuropeanExercise(exDate)\n",
    "    \n",
    "    spot1.setValue(row[3])\n",
    "    spot2.setValue(row[4])\n",
    "    qRate1.setValue(row[5])\n",
    "    qRate2.setValue(row[6])\n",
    "    rRate.setValue(row[7])\n",
    "    vol1.setValue(row[9])\n",
    "    vol2.setValue(row[10])\n",
    "    procs = []\n",
    "    analyticEngine = None\n",
    "    if (row[0] in (\"MinBasket\", \"MaxBasket\")):\n",
    "        p1 = ql.GeneralizedBlackScholesProcess(ql.QuoteHandle(spot1),\n",
    "                                               ql.YieldTermStructureHandle(qTS1),\n",
    "                                               ql.YieldTermStructureHandle(rTS),\n",
    "                                               ql.BlackVolTermStructureHandle(volTS1))\n",
    "        p2 = ql.GeneralizedBlackScholesProcess(ql.QuoteHandle(spot2),\n",
    "                                               ql.YieldTermStructureHandle(qTS2),\n",
    "                                               ql.YieldTermStructureHandle(rTS),\n",
    "                                               ql.BlackVolTermStructureHandle(volTS2))\n",
    "        analyticEngine = ql.StulzEngine(p1, p2, row[11])\n",
    "        procs = [p1, p2]\n",
    "    elif (row[0] == \"SpreadBasket\"):\n",
    "        p1 = ql.BlackProcess(ql.QuoteHandle(spot1),\n",
    "                             ql.YieldTermStructureHandle(rTS),\n",
    "                             ql.BlackVolTermStructureHandle(volTS1))\n",
    "        p2 = ql.BlackProcess(ql.QuoteHandle(spot2),\n",
    "                             ql.YieldTermStructureHandle(rTS),\n",
    "                             ql.BlackVolTermStructureHandle(volTS2))\n",
    "        analyticEngine = ql.KirkEngine(p1, p2, row[11])\n",
    "        procs = [p1, p2]\n",
    "    else:\n",
    "        print(\"ERROR: UNKNOWN BASKET\")\n",
    "        \n",
    "    correlationMatrix = ql.Matrix(2, 2, row[11])\n",
    "    for j in range (0, 2):\n",
    "        correlationMatrix[j][j] = 1.0\n",
    "        \n",
    "    process = ql.StochasticProcessArray(procs, correlationMatrix)\n",
    "    mcEngine = ql.MCEuropeanBasketEngine(process, \"pseudorandom\", None, 1, False, False, 10000, ql.nullDouble(), ql.nullInt(), 42)\n",
    "    fdEngine = ql.Fd2dBlackScholesVanillaEngine(p1, p2, row[11], 50, 50, 15)\n",
    "    basketOption = ql.BasketOption(basketTypeToPayoff(row[0], payoff),\n",
    "                                  exercise)\n",
    "    # Analytic Engine\n",
    "    basketOption.setPricingEngine(analyticEngine)\n",
    "    calculated = basketOption.NPV()\n",
    "    expected = row[12]\n",
    "    error = abs(calculated-expected)\n",
    "    if (error > row[13]):\n",
    "        print(\"ERROR\")\n",
    "        \n",
    "    # fd engine\n",
    "    basketOption.setPricingEngine(fdEngine)\n",
    "    calculated = basketOption.NPV()\n",
    "    relError = abs(calculated-expected)/expected\n",
    "    if (error > fdRelativeErrorTolerance):\n",
    "        print(\"ERROR\")\n",
    "    \n",
    "    # mc engine\n",
    "    basketOption.setPricingEngine(mcEngine)\n",
    "    calculated = basketOption.NPV()\n",
    "    relError = abs(calculated-expected)/expected\n",
    "    if (error > mcRelativeErrorTolerance):\n",
    "        print(\"ERROR\")"
   ]
  },
  {
   "cell_type": "markdown",
   "metadata": {},
   "source": [
    "# Testing three-asset American basket options against Tavella's values..."
   ]
  },
  {
   "cell_type": "code",
   "execution_count": 7,
   "metadata": {},
   "outputs": [],
   "source": [
    "values = [\n",
    "        # time in months is with 30 days to the month..\n",
    "        # basketType, optionType,       strike,    s1,    s2,   s3,    r,    t,   v1,   v2,  v3,  rho, euroValue, american Value,\n",
    "            [\"MaxBasket\", ql.Option.Call,  100,    100,   100, 100,  0.05, 3.00, 0.20, 0.20, 0.20, 0.0, -999, 18.082]\n",
    "        ]"
   ]
  },
  {
   "cell_type": "code",
   "execution_count": 8,
   "metadata": {},
   "outputs": [],
   "source": [
    "dc = ql.Actual360()\n",
    "today = ql.Date.todaysDate()\n",
    "\n",
    "spot1=ql.SimpleQuote(0.0)\n",
    "spot2=ql.SimpleQuote(0.0)\n",
    "spot3=ql.SimpleQuote(0.0)\n",
    "qRate = ql.SimpleQuote(0.0)\n",
    "qTS = ql.FlatForward(today, ql.QuoteHandle(qRate), dc)\n",
    "rRate = ql.SimpleQuote(0.0)\n",
    "rTS = ql.FlatForward(today, ql.QuoteHandle(rRate), dc)\n",
    "vol1 = ql.SimpleQuote(0.0)\n",
    "volTS1 = ql.BlackConstantVol(today, ql.NullCalendar(), ql.QuoteHandle(vol1), dc)\n",
    "vol2 = ql.SimpleQuote(0.0)\n",
    "volTS2 = ql.BlackConstantVol(today, ql.NullCalendar(), ql.QuoteHandle(vol2), dc)\n",
    "vol3 = ql.SimpleQuote(0.0)\n",
    "volTS3 = ql.BlackConstantVol(today, ql.NullCalendar(), ql.QuoteHandle(vol3), dc)"
   ]
  },
  {
   "cell_type": "code",
   "execution_count": 9,
   "metadata": {},
   "outputs": [],
   "source": [
    "mcRelativeErrorTolerance = 0.01\n",
    "requiredSamples = 10000\n",
    "timeSteps = 20\n",
    "seed = 0"
   ]
  },
  {
   "cell_type": "code",
   "execution_count": 10,
   "metadata": {},
   "outputs": [],
   "source": [
    "row = values[0]\n",
    "payoff = ql.PlainVanillaPayoff(row[1], row[2])"
   ]
  },
  {
   "cell_type": "code",
   "execution_count": 11,
   "metadata": {},
   "outputs": [],
   "source": [
    "exDate = today + int(row[8]*360+0.5)\n",
    "exercise = ql.AmericanExercise(today, exDate)"
   ]
  },
  {
   "cell_type": "code",
   "execution_count": 12,
   "metadata": {},
   "outputs": [],
   "source": [
    "spot1.setValue(row[3])\n",
    "spot2.setValue(row[4])\n",
    "spot3.setValue(row[5])\n",
    "vol1.setValue(row[8])\n",
    "vol2.setValue(row[9])\n",
    "vol3.setValue(row[10])"
   ]
  },
  {
   "cell_type": "code",
   "execution_count": 13,
   "metadata": {},
   "outputs": [],
   "source": [
    "stochProcess1 = ql.BlackScholesMertonProcess(ql.QuoteHandle(spot1),\n",
    "                                             ql.YieldTermStructureHandle(qTS),\n",
    "                                             ql.YieldTermStructureHandle(rTS),\n",
    "                                             ql.BlackVolTermStructureHandle(volTS1))"
   ]
  },
  {
   "cell_type": "code",
   "execution_count": 14,
   "metadata": {},
   "outputs": [],
   "source": [
    "stochProcess2 = ql.BlackScholesMertonProcess(ql.QuoteHandle(spot2),\n",
    "                                             ql.YieldTermStructureHandle(qTS),\n",
    "                                             ql.YieldTermStructureHandle(rTS),\n",
    "                                             ql.BlackVolTermStructureHandle(volTS2))"
   ]
  },
  {
   "cell_type": "code",
   "execution_count": 15,
   "metadata": {},
   "outputs": [],
   "source": [
    "stochProcess3 = ql.BlackScholesMertonProcess(ql.QuoteHandle(spot3),\n",
    "                                             ql.YieldTermStructureHandle(qTS),\n",
    "                                             ql.YieldTermStructureHandle(rTS),\n",
    "                                             ql.BlackVolTermStructureHandle(volTS3))"
   ]
  },
  {
   "cell_type": "code",
   "execution_count": 16,
   "metadata": {},
   "outputs": [],
   "source": [
    "procs = [stochProcess1, stochProcess2, stochProcess3]"
   ]
  },
  {
   "cell_type": "code",
   "execution_count": 17,
   "metadata": {},
   "outputs": [],
   "source": [
    "correlation = ql.Matrix(3, 3, 0.0)\n",
    "for j in range (0, 3):\n",
    "    correlation[j][j] = 1.0"
   ]
  },
  {
   "cell_type": "code",
   "execution_count": 18,
   "metadata": {},
   "outputs": [],
   "source": [
    "correlation[1][0] = -0.25\n",
    "correlation[0][1] = -0.25\n",
    "correlation[2][0] = 0.25\n",
    "correlation[0][2] = 0.25\n",
    "correlation[2][1] = 0.3\n",
    "correlation[1][2] = 0.3"
   ]
  },
  {
   "cell_type": "code",
   "execution_count": 19,
   "metadata": {},
   "outputs": [],
   "source": [
    "process = ql.StochasticProcessArray(procs,correlation)"
   ]
  },
  {
   "cell_type": "code",
   "execution_count": 20,
   "metadata": {},
   "outputs": [],
   "source": [
    "mcLSMCEngine = ql.MCAmericanBasketEngine(process, \"pseudorandom\",\n",
    "                                        timeSteps, None, False, True,\n",
    "                                        requiredSamples, None,\n",
    "                                        ql.nullInt(), seed, int(requiredSamples/4))"
   ]
  },
  {
   "cell_type": "code",
   "execution_count": 21,
   "metadata": {},
   "outputs": [],
   "source": [
    "basketOption = ql.BasketOption(basketTypeToPayoff(row[0], payoff),\n",
    "                                  exercise)"
   ]
  },
  {
   "cell_type": "code",
   "execution_count": 22,
   "metadata": {},
   "outputs": [],
   "source": [
    "basketOption.setPricingEngine(mcLSMCEngine)"
   ]
  },
  {
   "cell_type": "code",
   "execution_count": 23,
   "metadata": {},
   "outputs": [],
   "source": [
    "calculated = basketOption.NPV()\n",
    "expected = row[13]\n",
    "errorEstimate = basketOption.errorEstimate()\n",
    "relError = abs(calculated-expected)/row[3]\n",
    "if (error > mcRelativeErrorTolerance):\n",
    "    print(\"ERROR\")"
   ]
  },
  {
   "cell_type": "markdown",
   "metadata": {},
   "source": [
    "# Testing 2D local-volatility spread-option pricing..."
   ]
  },
  {
   "cell_type": "code",
   "execution_count": 24,
   "metadata": {},
   "outputs": [],
   "source": [
    "dc = ql.Actual360()\n",
    "today = ql.Date(21, ql.September, 2017)\n",
    "maturity = today + ql.Period(3, ql.Months)"
   ]
  },
  {
   "cell_type": "code",
   "execution_count": 25,
   "metadata": {},
   "outputs": [],
   "source": [
    "riskFreeRate = ql.YieldTermStructureHandle(ql.FlatForward(today, 0.07, dc)) \n",
    "dividendYield =ql.YieldTermStructureHandle(ql.FlatForward(today, 0.03, dc))"
   ]
  },
  {
   "cell_type": "code",
   "execution_count": 26,
   "metadata": {},
   "outputs": [],
   "source": [
    "s1 = ql.QuoteHandle(ql.SimpleQuote(100))\n",
    "s2 = ql.QuoteHandle(ql.SimpleQuote(110))"
   ]
  },
  {
   "cell_type": "code",
   "execution_count": 27,
   "metadata": {},
   "outputs": [],
   "source": [
    "hm1 = ql.HestonModel(ql.HestonProcess(riskFreeRate, dividendYield,\n",
    "                s1, 0.09, 1.0, 0.06, 0.6, -0.75))"
   ]
  },
  {
   "cell_type": "code",
   "execution_count": 28,
   "metadata": {},
   "outputs": [],
   "source": [
    "hm2 = ql.HestonModel(ql.HestonProcess(riskFreeRate, dividendYield,\n",
    "                s2, 0.1, 2.0, 0.07, 0.8, 0.85))"
   ]
  },
  {
   "cell_type": "code",
   "execution_count": 29,
   "metadata": {},
   "outputs": [],
   "source": [
    "vol1 = ql.HestonBlackVolSurface(hm1)"
   ]
  },
  {
   "cell_type": "code",
   "execution_count": 31,
   "metadata": {},
   "outputs": [],
   "source": [
    "vol2 = ql.HestonBlackVolSurface(hm2)"
   ]
  }
 ],
 "metadata": {
  "kernelspec": {
   "display_name": "Python 3",
   "language": "python",
   "name": "python3"
  },
  "language_info": {
   "codemirror_mode": {
    "name": "ipython",
    "version": 3
   },
   "file_extension": ".py",
   "mimetype": "text/x-python",
   "name": "python",
   "nbconvert_exporter": "python",
   "pygments_lexer": "ipython3",
   "version": "3.6.3"
  }
 },
 "nbformat": 4,
 "nbformat_minor": 2
}
