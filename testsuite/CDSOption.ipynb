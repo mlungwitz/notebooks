{
 "cells": [
  {
   "cell_type": "code",
   "execution_count": 1,
   "metadata": {},
   "outputs": [],
   "source": [
    "import QuantLib as ql"
   ]
  },
  {
   "cell_type": "markdown",
   "metadata": {},
   "source": [
    "# Testing CDS-option value against cached values..."
   ]
  },
  {
   "cell_type": "code",
   "execution_count": 3,
   "metadata": {},
   "outputs": [],
   "source": [
    "cachedToday = ql.Date(10,ql.December,2007)\n",
    "ql.Settings.instance().evaluationDate = cachedToday\n",
    "\n",
    "calendar = ql.TARGET()\n",
    "\n",
    "riskFree = ql.RelinkableYieldTermStructureHandle()\n",
    "riskFree.linkTo(ql.FlatForward(cachedToday,0.02,ql.Actual360()))\n",
    "\n",
    "expiry = calendar.advance(cachedToday,9,ql.Months)\n",
    "startDate = calendar.advance(expiry,1,ql.Months)\n",
    "maturity = calendar.advance(startDate,7,ql.Years)\n",
    "\n",
    "dayCounter = ql.Actual360()\n",
    "convention = ql.ModifiedFollowing\n",
    "notional = 1000000.0"
   ]
  },
  {
   "cell_type": "code",
   "execution_count": 5,
   "metadata": {},
   "outputs": [],
   "source": [
    "hazardRate = ql.QuoteHandle(ql.SimpleQuote(0.001))\n",
    "schedule = ql.Schedule(startDate,maturity, ql.Period(ql.Quarterly),\n",
    "                       calendar, convention, convention,\n",
    "                       ql.DateGeneration.Forward, False)"
   ]
  },
  {
   "cell_type": "code",
   "execution_count": 6,
   "metadata": {},
   "outputs": [],
   "source": [
    "recoveryRate = 0.4\n",
    "defaultProbability = ql.DefaultProbabilityTermStructureHandle(ql.FlatHazardRate(0, calendar, hazardRate, dayCounter))"
   ]
  },
  {
   "cell_type": "code",
   "execution_count": 7,
   "metadata": {},
   "outputs": [],
   "source": [
    "swapEngine = ql.MidPointCdsEngine(defaultProbability, recoveryRate, riskFree)\n",
    "swap = ql.CreditDefaultSwap(ql.Protection.Seller, notional, 0.001, schedule, convention, dayCounter)"
   ]
  },
  {
   "cell_type": "code",
   "execution_count": 8,
   "metadata": {},
   "outputs": [],
   "source": [
    "swap.setPricingEngine(swapEngine)\n",
    "strike = swap.fairSpread()"
   ]
  },
  {
   "cell_type": "code",
   "execution_count": 10,
   "metadata": {},
   "outputs": [],
   "source": [
    "cdsVol = ql.QuoteHandle(ql.SimpleQuote(0.20))"
   ]
  },
  {
   "cell_type": "code",
   "execution_count": 11,
   "metadata": {},
   "outputs": [],
   "source": [
    "underlying = ql.CreditDefaultSwap(ql.Protection.Seller, notional, strike, schedule,\n",
    "                                 convention, dayCounter)\n",
    "underlying.setPricingEngine(swapEngine)"
   ]
  },
  {
   "cell_type": "code",
   "execution_count": 12,
   "metadata": {},
   "outputs": [],
   "source": [
    "exercise = ql.EuropeanExercise(expiry)"
   ]
  },
  {
   "cell_type": "code",
   "execution_count": 13,
   "metadata": {},
   "outputs": [],
   "source": [
    "option1 = ql.CdsOption(underlying, exercise)"
   ]
  },
  {
   "cell_type": "code",
   "execution_count": 14,
   "metadata": {},
   "outputs": [],
   "source": [
    "option1.setPricingEngine(ql.BlackCdsOptionEngine(defaultProbability, recoveryRate,\n",
    "                                             riskFree, cdsVol))"
   ]
  },
  {
   "cell_type": "code",
   "execution_count": 15,
   "metadata": {},
   "outputs": [],
   "source": [
    "cachedValue = 270.976348"
   ]
  },
  {
   "cell_type": "code",
   "execution_count": 16,
   "metadata": {},
   "outputs": [
    {
     "data": {
      "text/plain": [
       "270.97634753353395"
      ]
     },
     "execution_count": 16,
     "metadata": {},
     "output_type": "execute_result"
    }
   ],
   "source": [
    "option1.NPV()"
   ]
  },
  {
   "cell_type": "code",
   "execution_count": 17,
   "metadata": {},
   "outputs": [],
   "source": [
    "underlying = ql.CreditDefaultSwap(ql.Protection.Buyer, notional, strike, schedule,\n",
    "                                 convention, dayCounter)\n",
    "underlying.setPricingEngine(swapEngine)"
   ]
  },
  {
   "cell_type": "code",
   "execution_count": 18,
   "metadata": {},
   "outputs": [],
   "source": [
    "option2 = ql.CdsOption(underlying, exercise)\n",
    "option2.setPricingEngine(ql.BlackCdsOptionEngine(defaultProbability, recoveryRate,\n",
    "                                             riskFree, cdsVol))"
   ]
  },
  {
   "cell_type": "code",
   "execution_count": 19,
   "metadata": {},
   "outputs": [
    {
     "data": {
      "text/plain": [
       "270.9763475329989"
      ]
     },
     "execution_count": 19,
     "metadata": {},
     "output_type": "execute_result"
    }
   ],
   "source": [
    "option2.NPV()"
   ]
  }
 ],
 "metadata": {
  "kernelspec": {
   "display_name": "Python 3",
   "language": "python",
   "name": "python3"
  },
  "language_info": {
   "codemirror_mode": {
    "name": "ipython",
    "version": 3
   },
   "file_extension": ".py",
   "mimetype": "text/x-python",
   "name": "python",
   "nbconvert_exporter": "python",
   "pygments_lexer": "ipython3",
   "version": "3.6.3"
  }
 },
 "nbformat": 4,
 "nbformat_minor": 2
}
