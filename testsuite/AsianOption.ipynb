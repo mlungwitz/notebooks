{
 "cells": [
  {
   "cell_type": "code",
   "execution_count": 2,
   "metadata": {},
   "outputs": [],
   "source": [
    "import QuantLib as ql"
   ]
  },
  {
   "cell_type": "markdown",
   "metadata": {},
   "source": [
    "# Analytic continuous geometric average-price Asians"
   ]
  },
  {
   "cell_type": "code",
   "execution_count": 3,
   "metadata": {},
   "outputs": [],
   "source": [
    "dc = ql.Actual360()"
   ]
  },
  {
   "cell_type": "code",
   "execution_count": 4,
   "metadata": {},
   "outputs": [],
   "source": [
    "today = ql.Settings.instance().evaluationDate"
   ]
  },
  {
   "cell_type": "code",
   "execution_count": 9,
   "metadata": {},
   "outputs": [],
   "source": [
    "spot = ql.SimpleQuote(80.0)\n",
    "qRate = ql.SimpleQuote(-0.03)\n",
    "qTS = ql.FlatForward(today, ql.QuoteHandle(qRate), dc)\n",
    "rRate = ql.SimpleQuote(0.05)\n",
    "rTS = ql.FlatForward(today, ql.QuoteHandle(rRate), dc)\n",
    "vol = ql.SimpleQuote(0.20)\n",
    "volTS = ql.BlackConstantVol(today, ql.NullCalendar(), ql.QuoteHandle(vol), dc)"
   ]
  },
  {
   "cell_type": "code",
   "execution_count": 11,
   "metadata": {},
   "outputs": [],
   "source": [
    "stochProcess = ql.BlackScholesMertonProcess(ql.QuoteHandle(spot), ql.YieldTermStructureHandle(qTS), \n",
    "                                            ql.YieldTermStructureHandle(rTS), \n",
    "                                            ql.BlackVolTermStructureHandle(volTS))"
   ]
  },
  {
   "cell_type": "code",
   "execution_count": 12,
   "metadata": {},
   "outputs": [],
   "source": [
    "engine = ql.AnalyticContinuousGeometricAveragePriceAsianEngine(stochProcess)"
   ]
  },
  {
   "cell_type": "code",
   "execution_count": 13,
   "metadata": {},
   "outputs": [],
   "source": [
    "averageType = ql.Average.Geometric"
   ]
  },
  {
   "cell_type": "code",
   "execution_count": 15,
   "metadata": {},
   "outputs": [],
   "source": [
    "option_type = ql.Option.Put"
   ]
  },
  {
   "cell_type": "code",
   "execution_count": 16,
   "metadata": {},
   "outputs": [],
   "source": [
    "strike = 85.0\n",
    "exerciseDate = today + 90"
   ]
  },
  {
   "cell_type": "code",
   "execution_count": 17,
   "metadata": {},
   "outputs": [],
   "source": [
    "pastFixings = ql.nullInt()"
   ]
  },
  {
   "cell_type": "code",
   "execution_count": 18,
   "metadata": {},
   "outputs": [],
   "source": [
    "runningAccumulator = ql.nullDouble()"
   ]
  },
  {
   "cell_type": "code",
   "execution_count": 20,
   "metadata": {},
   "outputs": [],
   "source": [
    "payoff = ql.PlainVanillaPayoff(option_type, strike)"
   ]
  },
  {
   "cell_type": "code",
   "execution_count": 21,
   "metadata": {},
   "outputs": [],
   "source": [
    "exercise = ql.EuropeanExercise(exerciseDate)"
   ]
  },
  {
   "cell_type": "code",
   "execution_count": 22,
   "metadata": {},
   "outputs": [],
   "source": [
    "option = ql.ContinuousAveragingAsianOption(averageType, payoff, exercise)"
   ]
  },
  {
   "cell_type": "code",
   "execution_count": 23,
   "metadata": {},
   "outputs": [],
   "source": [
    "option.setPricingEngine(engine)"
   ]
  },
  {
   "cell_type": "code",
   "execution_count": 24,
   "metadata": {},
   "outputs": [],
   "source": [
    "calculated = option.NPV()"
   ]
  },
  {
   "cell_type": "code",
   "execution_count": 25,
   "metadata": {},
   "outputs": [],
   "source": [
    "expected = 4.6922"
   ]
  },
  {
   "cell_type": "code",
   "execution_count": 26,
   "metadata": {},
   "outputs": [],
   "source": [
    "tolerance = 1.0e-4"
   ]
  },
  {
   "cell_type": "code",
   "execution_count": 27,
   "metadata": {},
   "outputs": [],
   "source": [
    "if (abs(calculated-expected) > tolerance):\n",
    "    print(\"FAILURE\")"
   ]
  },
  {
   "cell_type": "markdown",
   "metadata": {},
   "source": [
    "# Analytic continuous geometric average-price Asian greeks"
   ]
  },
  {
   "cell_type": "code",
   "execution_count": 30,
   "metadata": {},
   "outputs": [],
   "source": [
    "calculated, expected, tolerance = {}, {}, {}"
   ]
  },
  {
   "cell_type": "code",
   "execution_count": 31,
   "metadata": {},
   "outputs": [],
   "source": [
    "tolerance[\"delta\"]  = 1.0e-5\n",
    "tolerance[\"gamma\"]  = 1.0e-5\n",
    "tolerance[\"theta\"]  = 1.0e-5\n",
    "tolerance[\"rho\"]    = 1.0e-5\n",
    "tolerance[\"divRho\"] = 1.0e-5\n",
    "tolerance[\"vega\"]   = 1.0e-5"
   ]
  },
  {
   "cell_type": "code",
   "execution_count": 32,
   "metadata": {},
   "outputs": [],
   "source": [
    "types = [ql.Option.Call, ql.Option.Put]"
   ]
  },
  {
   "cell_type": "code",
   "execution_count": 33,
   "metadata": {},
   "outputs": [],
   "source": [
    "underlyings = [100.0]"
   ]
  },
  {
   "cell_type": "code",
   "execution_count": 34,
   "metadata": {},
   "outputs": [],
   "source": [
    "strikes = [90.0, 100.0, 110.0]"
   ]
  },
  {
   "cell_type": "code",
   "execution_count": 35,
   "metadata": {},
   "outputs": [],
   "source": [
    "qRates = [0.04, 0.05, 0.06]"
   ]
  },
  {
   "cell_type": "code",
   "execution_count": 37,
   "metadata": {},
   "outputs": [],
   "source": [
    "rRates = [0.01, 0.05, 0.15]"
   ]
  },
  {
   "cell_type": "code",
   "execution_count": 38,
   "metadata": {},
   "outputs": [],
   "source": [
    "lengths = [1, 2]"
   ]
  },
  {
   "cell_type": "code",
   "execution_count": 39,
   "metadata": {},
   "outputs": [],
   "source": [
    "vols = [0.11, 0.50, 1.20]"
   ]
  },
  {
   "cell_type": "code",
   "execution_count": 40,
   "metadata": {},
   "outputs": [],
   "source": [
    "dc = ql.Actual360()"
   ]
  },
  {
   "cell_type": "code",
   "execution_count": 41,
   "metadata": {},
   "outputs": [],
   "source": [
    "today = ql.Settings.instance().evaluationDate"
   ]
  },
  {
   "cell_type": "code",
   "execution_count": 42,
   "metadata": {},
   "outputs": [],
   "source": [
    "ql.Settings.instance().evaluationDate = today"
   ]
  },
  {
   "cell_type": "code",
   "execution_count": 82,
   "metadata": {},
   "outputs": [],
   "source": [
    "spot = ql.SimpleQuote(0.0)\n",
    "qRate = ql.SimpleQuote(0.0)\n",
    "qTS = ql.YieldTermStructureHandle(ql.FlatForward(0, ql.NullCalendar(), ql.QuoteHandle(qRate), dc))\n",
    "rRate = ql.SimpleQuote(0.0)\n",
    "rTS = ql.YieldTermStructureHandle(ql.FlatForward(0, ql.NullCalendar(), ql.QuoteHandle(rRate), dc))\n",
    "vol = ql.SimpleQuote(0.0)\n",
    "volTS = ql.BlackVolTermStructureHandle(ql.BlackConstantVol(0, ql.NullCalendar(), ql.QuoteHandle(vol), dc))"
   ]
  },
  {
   "cell_type": "code",
   "execution_count": 83,
   "metadata": {},
   "outputs": [],
   "source": [
    "process = ql.BlackScholesMertonProcess(ql.QuoteHandle(spot), qTS, \n",
    "                                            rTS, \n",
    "                                            volTS)"
   ]
  },
  {
   "cell_type": "code",
   "execution_count": 84,
   "metadata": {},
   "outputs": [],
   "source": [
    "def relativeError(x1, x2, reference):\n",
    "        if (reference != 0.0):\n",
    "            return abs(x1-x2)/reference\n",
    "        else:\n",
    "            # fall back to absolute error\n",
    "            return abs(x1-x2)"
   ]
  },
  {
   "cell_type": "code",
   "execution_count": 85,
   "metadata": {},
   "outputs": [],
   "source": [
    "def REPORT_FAILURE(greekName, averageType, runningAccumulator, pastFixings,\n",
    "                       fixingDates, payoff, exercise, s, q, r, today, v,\n",
    "                       expected, calculated, tolerance):\n",
    "    print (str(exercise)\n",
    "                                        + \" Asian option with \"\n",
    "                                        + str(averageType) + \" and \"\n",
    "                                        + str(payoff) + \" payoff:\\n\"\n",
    "\n",
    "                                        + \"    future fixings:   \" + str(len(fixingDates)) + \"\\n\"\n",
    "                                        + \"    underlying value: \" + str(s) + \"\\n\"\n",
    "                                        + \"    strike:           \" + str(payoff.strike()) + \"\\n\"\n",
    "                                        + \"    dividend yield:   \" + str(q) + \"\\n\"\n",
    "                                        + \"    risk-free rate:   \" + str(r) + \"\\n\"\n",
    "                                        + \"    reference date:   \" + str(today) + \"\\n\"\n",
    "                                        + \"    maturity:         \" + str(exercise.lastDate()) + \"\\n\"\n",
    "                                        + \"    volatility:       \" + str(v) + \"\\n\\n\"\n",
    "                                        + \"    expected   \" + greekName + \": \" + str(expected) + \"\\n\"\n",
    "                                        + \"    calculated \" + greekName + \": \" + str(calculated) + \"\\n\"\n",
    "                                        + \"    error:            \" + str(abs(expected-calculated))\n",
    "                                        + \"\\n\"\n",
    "                                        + \"    tolerance:        \" + str(tolerance))"
   ]
  },
  {
   "cell_type": "code",
   "execution_count": 93,
   "metadata": {},
   "outputs": [
    {
     "ename": "TypeError",
     "evalue": "'int' object is not callable",
     "output_type": "error",
     "traceback": [
      "\u001b[1;31m---------------------------------------------------------------------------\u001b[0m",
      "\u001b[1;31mTypeError\u001b[0m                                 Traceback (most recent call last)",
      "\u001b[1;32m<ipython-input-93-0904e7e2aef1>\u001b[0m in \u001b[0;36m<module>\u001b[1;34m()\u001b[0m\n\u001b[1;32m----> 1\u001b[1;33m \u001b[1;36m2\u001b[0m\u001b[1;33m*\u001b[0m\u001b[0mql\u001b[0m\u001b[1;33m.\u001b[0m\u001b[0mYears\u001b[0m\u001b[1;33m(\u001b[0m\u001b[1;33m)\u001b[0m\u001b[1;33m\u001b[0m\u001b[0m\n\u001b[0m",
      "\u001b[1;31mTypeError\u001b[0m: 'int' object is not callable"
     ]
    }
   ],
   "source": [
    "2*ql.Years"
   ]
  },
  {
   "cell_type": "code",
   "execution_count": 90,
   "metadata": {},
   "outputs": [
    {
     "data": {
      "text/plain": [
       "Date(19,4,2019)"
      ]
     },
     "execution_count": 90,
     "metadata": {},
     "output_type": "execute_result"
    }
   ],
   "source": [
    "today + length*ql.Years\n"
   ]
  },
  {
   "cell_type": "code",
   "execution_count": 94,
   "metadata": {},
   "outputs": [],
   "source": [
    "for option_type in types:\n",
    "    for strike in strikes:\n",
    "        for length in lengths:\n",
    "            maturity = ql.EuropeanExercise(today + ql.Period(length,ql.Years))\n",
    "            payoff = ql.PlainVanillaPayoff(option_type, strike)\n",
    "            engine = ql.AnalyticContinuousGeometricAveragePriceAsianEngine(process)\n",
    "            option = ql.ContinuousAveragingAsianOption(ql.Average.Geometric, payoff, maturity)\n",
    "            option.setPricingEngine(engine)\n",
    "            pastFixings = ql.nullInt()\n",
    "            runningAccumulator = ql.nullDouble()\n",
    "            for u in underlyings:\n",
    "                for q in qRates:\n",
    "                    for r in rRates:\n",
    "                        for v in vols:\n",
    "                            spot.setValue(u)\n",
    "                            qRate.setValue(q)\n",
    "                            rRate.setValue(r)\n",
    "                            vol.setValue(v)\n",
    "                            value = option.NPV()\n",
    "                            calculated[\"delta\"]  = option.delta()\n",
    "                            calculated[\"gamma\"]  = option.gamma()\n",
    "                            calculated[\"theta\"]  = option.theta()\n",
    "                            calculated[\"rho\"]    = option.rho()\n",
    "                            calculated[\"divRho\"] = option.dividendRho()\n",
    "                            calculated[\"vega\"]   = option.vega()\n",
    "                            if (value > spot.value()*1.0e-5):\n",
    "                                du = u*1.0e-4\n",
    "                                spot.setValue(u+du)\n",
    "                                value_p = option.NPV()\n",
    "                                delta_p = option.delta()\n",
    "                                spot.setValue(u-du)\n",
    "                                value_m = option.NPV()\n",
    "                                delta_m = option.delta()\n",
    "                                spot.setValue(u)\n",
    "                                expected[\"delta\"] = (value_p - value_m)/(2*du)\n",
    "                                expected[\"gamma\"] = (delta_p - delta_m)/(2*du)\n",
    "                                \n",
    "                                dr = r*1.0e-4\n",
    "                                rRate.setValue(r+dr)\n",
    "                                value_p = option.NPV()\n",
    "                                rRate.setValue(r-dr)\n",
    "                                value_m = option.NPV()\n",
    "                                rRate.setValue(r)\n",
    "                                expected[\"rho\"] = (value_p - value_m)/(2*dr)\n",
    "                                \n",
    "                                dq = q*1.0e-4\n",
    "                                qRate.setValue(q+dq)\n",
    "                                value_p = option.NPV()\n",
    "                                qRate.setValue(q-dq)\n",
    "                                value_m = option.NPV()\n",
    "                                qRate.setValue(q)\n",
    "                                expected[\"divRho\"] = (value_p - value_m)/(2*dq)\n",
    "                                \n",
    "                                dv = v*1.0e-4\n",
    "                                vol.setValue(v+dv)\n",
    "                                value_p = option.NPV()\n",
    "                                vol.setValue(v-dv)\n",
    "                                value_m = option.NPV()\n",
    "                                vol.setValue(v)\n",
    "                                expected[\"vega\"] = (value_p - value_m)/(2*dv)\n",
    "                                \n",
    "                                dT = dc.yearFraction(today-1, today+1)\n",
    "                                ql.Settings.instance().evaluationDate = today - 1\n",
    "                                value_m = option.NPV()\n",
    "                                ql.Settings.instance().evaluationDate = today + 1\n",
    "                                value_p = option.NPV()\n",
    "                                ql.Settings.instance().evaluationDate = today\n",
    "                                expected[\"theta\"] = (value_p - value_m)/dT\n",
    "                                \n",
    "                                for greek in calculated.keys():\n",
    "                                    expct = expected  [greek]\n",
    "                                    calcl = calculated[greek]\n",
    "                                    tol   = tolerance [greek]\n",
    "                                    error = relativeError(expct,calcl,u)\n",
    "                                    \n",
    "                                    if (error>tol):\n",
    "                                        REPORT_FAILURE(greek, ql.Average.Geometric,\n",
    "                                                 None, None,\n",
    "                                                 [],\n",
    "                                                 payoff, maturity,\n",
    "                                                 u, q, r, today, v,\n",
    "                                                 expct, calcl, tol)\n",
    "\n",
    "                                "
   ]
  }
 ],
 "metadata": {
  "kernelspec": {
   "display_name": "Python 3",
   "language": "python",
   "name": "python3"
  },
  "language_info": {
   "codemirror_mode": {
    "name": "ipython",
    "version": 3
   },
   "file_extension": ".py",
   "mimetype": "text/x-python",
   "name": "python",
   "nbconvert_exporter": "python",
   "pygments_lexer": "ipython3",
   "version": "3.6.3"
  }
 },
 "nbformat": 4,
 "nbformat_minor": 2
}
