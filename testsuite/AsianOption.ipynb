{
 "cells": [
  {
   "cell_type": "code",
   "execution_count": 2,
   "metadata": {},
   "outputs": [],
   "source": [
    "import QuantLib as ql"
   ]
  },
  {
   "cell_type": "markdown",
   "metadata": {},
   "source": [
    "# Analytic continuous geometric average-price Asians"
   ]
  },
  {
   "cell_type": "code",
   "execution_count": 3,
   "metadata": {},
   "outputs": [],
   "source": [
    "dc = ql.Actual360()"
   ]
  },
  {
   "cell_type": "code",
   "execution_count": 4,
   "metadata": {},
   "outputs": [],
   "source": [
    "today = ql.Settings.instance().evaluationDate"
   ]
  },
  {
   "cell_type": "code",
   "execution_count": 9,
   "metadata": {},
   "outputs": [],
   "source": [
    "spot = ql.SimpleQuote(80.0)\n",
    "qRate = ql.SimpleQuote(-0.03)\n",
    "qTS = ql.FlatForward(today, ql.QuoteHandle(qRate), dc)\n",
    "rRate = ql.SimpleQuote(0.05)\n",
    "rTS = ql.FlatForward(today, ql.QuoteHandle(rRate), dc)\n",
    "vol = ql.SimpleQuote(0.20)\n",
    "volTS = ql.BlackConstantVol(today, ql.NullCalendar(), ql.QuoteHandle(vol), dc)"
   ]
  },
  {
   "cell_type": "code",
   "execution_count": 11,
   "metadata": {},
   "outputs": [],
   "source": [
    "stochProcess = ql.BlackScholesMertonProcess(ql.QuoteHandle(spot), ql.YieldTermStructureHandle(qTS), \n",
    "                                            ql.YieldTermStructureHandle(rTS), \n",
    "                                            ql.BlackVolTermStructureHandle(volTS))"
   ]
  },
  {
   "cell_type": "code",
   "execution_count": 12,
   "metadata": {},
   "outputs": [],
   "source": [
    "engine = ql.AnalyticContinuousGeometricAveragePriceAsianEngine(stochProcess)"
   ]
  },
  {
   "cell_type": "code",
   "execution_count": 13,
   "metadata": {},
   "outputs": [],
   "source": [
    "averageType = ql.Average.Geometric"
   ]
  },
  {
   "cell_type": "code",
   "execution_count": 15,
   "metadata": {},
   "outputs": [],
   "source": [
    "option_type = ql.Option.Put"
   ]
  },
  {
   "cell_type": "code",
   "execution_count": 16,
   "metadata": {},
   "outputs": [],
   "source": [
    "strike = 85.0\n",
    "exerciseDate = today + 90"
   ]
  },
  {
   "cell_type": "code",
   "execution_count": 17,
   "metadata": {},
   "outputs": [],
   "source": [
    "pastFixings = ql.nullInt()"
   ]
  },
  {
   "cell_type": "code",
   "execution_count": 18,
   "metadata": {},
   "outputs": [],
   "source": [
    "runningAccumulator = ql.nullDouble()"
   ]
  },
  {
   "cell_type": "code",
   "execution_count": 20,
   "metadata": {},
   "outputs": [],
   "source": [
    "payoff = ql.PlainVanillaPayoff(option_type, strike)"
   ]
  },
  {
   "cell_type": "code",
   "execution_count": 21,
   "metadata": {},
   "outputs": [],
   "source": [
    "exercise = ql.EuropeanExercise(exerciseDate)"
   ]
  },
  {
   "cell_type": "code",
   "execution_count": 22,
   "metadata": {},
   "outputs": [],
   "source": [
    "option = ql.ContinuousAveragingAsianOption(averageType, payoff, exercise)"
   ]
  },
  {
   "cell_type": "code",
   "execution_count": 23,
   "metadata": {},
   "outputs": [],
   "source": [
    "option.setPricingEngine(engine)"
   ]
  },
  {
   "cell_type": "code",
   "execution_count": 24,
   "metadata": {},
   "outputs": [],
   "source": [
    "calculated = option.NPV()"
   ]
  },
  {
   "cell_type": "code",
   "execution_count": 25,
   "metadata": {},
   "outputs": [],
   "source": [
    "expected = 4.6922"
   ]
  },
  {
   "cell_type": "code",
   "execution_count": 26,
   "metadata": {},
   "outputs": [],
   "source": [
    "tolerance = 1.0e-4"
   ]
  },
  {
   "cell_type": "code",
   "execution_count": 27,
   "metadata": {},
   "outputs": [],
   "source": [
    "if (abs(calculated-expected) > tolerance):\n",
    "    print(\"FAILURE\")"
   ]
  },
  {
   "cell_type": "markdown",
   "metadata": {},
   "source": [
    "# Analytic continuous geometric average-price Asian greeks"
   ]
  },
  {
   "cell_type": "code",
   "execution_count": 30,
   "metadata": {},
   "outputs": [],
   "source": [
    "calculated, expected, tolerance = {}, {}, {}"
   ]
  },
  {
   "cell_type": "code",
   "execution_count": 31,
   "metadata": {},
   "outputs": [],
   "source": [
    "tolerance[\"delta\"]  = 1.0e-5\n",
    "tolerance[\"gamma\"]  = 1.0e-5\n",
    "tolerance[\"theta\"]  = 1.0e-5\n",
    "tolerance[\"rho\"]    = 1.0e-5\n",
    "tolerance[\"divRho\"] = 1.0e-5\n",
    "tolerance[\"vega\"]   = 1.0e-5"
   ]
  },
  {
   "cell_type": "code",
   "execution_count": 32,
   "metadata": {},
   "outputs": [],
   "source": [
    "types = [ql.Option.Call, ql.Option.Put]"
   ]
  },
  {
   "cell_type": "code",
   "execution_count": 33,
   "metadata": {},
   "outputs": [],
   "source": [
    "underlyings = [100.0]"
   ]
  },
  {
   "cell_type": "code",
   "execution_count": 34,
   "metadata": {},
   "outputs": [],
   "source": [
    "strikes = [90.0, 100.0, 110.0]"
   ]
  },
  {
   "cell_type": "code",
   "execution_count": 35,
   "metadata": {},
   "outputs": [],
   "source": [
    "qRates = [0.04, 0.05, 0.06]"
   ]
  },
  {
   "cell_type": "code",
   "execution_count": 37,
   "metadata": {},
   "outputs": [],
   "source": [
    "rRates = [0.01, 0.05, 0.15]"
   ]
  },
  {
   "cell_type": "code",
   "execution_count": 38,
   "metadata": {},
   "outputs": [],
   "source": [
    "lengths = [1, 2]"
   ]
  },
  {
   "cell_type": "code",
   "execution_count": 39,
   "metadata": {},
   "outputs": [],
   "source": [
    "vols = [0.11, 0.50, 1.20]"
   ]
  },
  {
   "cell_type": "code",
   "execution_count": 40,
   "metadata": {},
   "outputs": [],
   "source": [
    "dc = ql.Actual360()"
   ]
  },
  {
   "cell_type": "code",
   "execution_count": 41,
   "metadata": {},
   "outputs": [],
   "source": [
    "today = ql.Settings.instance().evaluationDate"
   ]
  },
  {
   "cell_type": "code",
   "execution_count": 42,
   "metadata": {},
   "outputs": [],
   "source": [
    "ql.Settings.instance().evaluationDate = today"
   ]
  },
  {
   "cell_type": "code",
   "execution_count": 82,
   "metadata": {},
   "outputs": [],
   "source": [
    "spot = ql.SimpleQuote(0.0)\n",
    "qRate = ql.SimpleQuote(0.0)\n",
    "qTS = ql.YieldTermStructureHandle(ql.FlatForward(0, ql.NullCalendar(), ql.QuoteHandle(qRate), dc))\n",
    "rRate = ql.SimpleQuote(0.0)\n",
    "rTS = ql.YieldTermStructureHandle(ql.FlatForward(0, ql.NullCalendar(), ql.QuoteHandle(rRate), dc))\n",
    "vol = ql.SimpleQuote(0.0)\n",
    "volTS = ql.BlackVolTermStructureHandle(ql.BlackConstantVol(0, ql.NullCalendar(), ql.QuoteHandle(vol), dc))"
   ]
  },
  {
   "cell_type": "code",
   "execution_count": 83,
   "metadata": {},
   "outputs": [],
   "source": [
    "process = ql.BlackScholesMertonProcess(ql.QuoteHandle(spot), qTS, \n",
    "                                            rTS, \n",
    "                                            volTS)"
   ]
  },
  {
   "cell_type": "code",
   "execution_count": 84,
   "metadata": {},
   "outputs": [],
   "source": [
    "def relativeError(x1, x2, reference):\n",
    "        if (reference != 0.0):\n",
    "            return abs(x1-x2)/reference\n",
    "        else:\n",
    "            # fall back to absolute error\n",
    "            return abs(x1-x2)"
   ]
  },
  {
   "cell_type": "code",
   "execution_count": 85,
   "metadata": {},
   "outputs": [],
   "source": [
    "def REPORT_FAILURE(greekName, averageType, runningAccumulator, pastFixings,\n",
    "                       fixingDates, payoff, exercise, s, q, r, today, v,\n",
    "                       expected, calculated, tolerance):\n",
    "    print (str(exercise)\n",
    "                                        + \" Asian option with \"\n",
    "                                        + str(averageType) + \" and \"\n",
    "                                        + str(payoff) + \" payoff:\\n\"\n",
    "\n",
    "                                        + \"    future fixings:   \" + str(len(fixingDates)) + \"\\n\"\n",
    "                                        + \"    underlying value: \" + str(s) + \"\\n\"\n",
    "                                        + \"    strike:           \" + str(payoff.strike()) + \"\\n\"\n",
    "                                        + \"    dividend yield:   \" + str(q) + \"\\n\"\n",
    "                                        + \"    risk-free rate:   \" + str(r) + \"\\n\"\n",
    "                                        + \"    reference date:   \" + str(today) + \"\\n\"\n",
    "                                        + \"    maturity:         \" + str(exercise.lastDate()) + \"\\n\"\n",
    "                                        + \"    volatility:       \" + str(v) + \"\\n\\n\"\n",
    "                                        + \"    expected   \" + greekName + \": \" + str(expected) + \"\\n\"\n",
    "                                        + \"    calculated \" + greekName + \": \" + str(calculated) + \"\\n\"\n",
    "                                        + \"    error:            \" + str(abs(expected-calculated))\n",
    "                                        + \"\\n\"\n",
    "                                        + \"    tolerance:        \" + str(tolerance))"
   ]
  },
  {
   "cell_type": "code",
   "execution_count": 93,
   "metadata": {},
   "outputs": [
    {
     "ename": "TypeError",
     "evalue": "'int' object is not callable",
     "output_type": "error",
     "traceback": [
      "\u001b[1;31m---------------------------------------------------------------------------\u001b[0m",
      "\u001b[1;31mTypeError\u001b[0m                                 Traceback (most recent call last)",
      "\u001b[1;32m<ipython-input-93-0904e7e2aef1>\u001b[0m in \u001b[0;36m<module>\u001b[1;34m()\u001b[0m\n\u001b[1;32m----> 1\u001b[1;33m \u001b[1;36m2\u001b[0m\u001b[1;33m*\u001b[0m\u001b[0mql\u001b[0m\u001b[1;33m.\u001b[0m\u001b[0mYears\u001b[0m\u001b[1;33m(\u001b[0m\u001b[1;33m)\u001b[0m\u001b[1;33m\u001b[0m\u001b[0m\n\u001b[0m",
      "\u001b[1;31mTypeError\u001b[0m: 'int' object is not callable"
     ]
    }
   ],
   "source": [
    "2*ql.Years"
   ]
  },
  {
   "cell_type": "code",
   "execution_count": 90,
   "metadata": {},
   "outputs": [
    {
     "data": {
      "text/plain": [
       "Date(19,4,2019)"
      ]
     },
     "execution_count": 90,
     "metadata": {},
     "output_type": "execute_result"
    }
   ],
   "source": [
    "today + length*ql.Years\n"
   ]
  },
  {
   "cell_type": "code",
   "execution_count": 94,
   "metadata": {},
   "outputs": [],
   "source": [
    "for option_type in types:\n",
    "    for strike in strikes:\n",
    "        for length in lengths:\n",
    "            maturity = ql.EuropeanExercise(today + ql.Period(length,ql.Years))\n",
    "            payoff = ql.PlainVanillaPayoff(option_type, strike)\n",
    "            engine = ql.AnalyticContinuousGeometricAveragePriceAsianEngine(process)\n",
    "            option = ql.ContinuousAveragingAsianOption(ql.Average.Geometric, payoff, maturity)\n",
    "            option.setPricingEngine(engine)\n",
    "            pastFixings = ql.nullInt()\n",
    "            runningAccumulator = ql.nullDouble()\n",
    "            for u in underlyings:\n",
    "                for q in qRates:\n",
    "                    for r in rRates:\n",
    "                        for v in vols:\n",
    "                            spot.setValue(u)\n",
    "                            qRate.setValue(q)\n",
    "                            rRate.setValue(r)\n",
    "                            vol.setValue(v)\n",
    "                            value = option.NPV()\n",
    "                            calculated[\"delta\"]  = option.delta()\n",
    "                            calculated[\"gamma\"]  = option.gamma()\n",
    "                            calculated[\"theta\"]  = option.theta()\n",
    "                            calculated[\"rho\"]    = option.rho()\n",
    "                            calculated[\"divRho\"] = option.dividendRho()\n",
    "                            calculated[\"vega\"]   = option.vega()\n",
    "                            if (value > spot.value()*1.0e-5):\n",
    "                                du = u*1.0e-4\n",
    "                                spot.setValue(u+du)\n",
    "                                value_p = option.NPV()\n",
    "                                delta_p = option.delta()\n",
    "                                spot.setValue(u-du)\n",
    "                                value_m = option.NPV()\n",
    "                                delta_m = option.delta()\n",
    "                                spot.setValue(u)\n",
    "                                expected[\"delta\"] = (value_p - value_m)/(2*du)\n",
    "                                expected[\"gamma\"] = (delta_p - delta_m)/(2*du)\n",
    "                                \n",
    "                                dr = r*1.0e-4\n",
    "                                rRate.setValue(r+dr)\n",
    "                                value_p = option.NPV()\n",
    "                                rRate.setValue(r-dr)\n",
    "                                value_m = option.NPV()\n",
    "                                rRate.setValue(r)\n",
    "                                expected[\"rho\"] = (value_p - value_m)/(2*dr)\n",
    "                                \n",
    "                                dq = q*1.0e-4\n",
    "                                qRate.setValue(q+dq)\n",
    "                                value_p = option.NPV()\n",
    "                                qRate.setValue(q-dq)\n",
    "                                value_m = option.NPV()\n",
    "                                qRate.setValue(q)\n",
    "                                expected[\"divRho\"] = (value_p - value_m)/(2*dq)\n",
    "                                \n",
    "                                dv = v*1.0e-4\n",
    "                                vol.setValue(v+dv)\n",
    "                                value_p = option.NPV()\n",
    "                                vol.setValue(v-dv)\n",
    "                                value_m = option.NPV()\n",
    "                                vol.setValue(v)\n",
    "                                expected[\"vega\"] = (value_p - value_m)/(2*dv)\n",
    "                                \n",
    "                                dT = dc.yearFraction(today-1, today+1)\n",
    "                                ql.Settings.instance().evaluationDate = today - 1\n",
    "                                value_m = option.NPV()\n",
    "                                ql.Settings.instance().evaluationDate = today + 1\n",
    "                                value_p = option.NPV()\n",
    "                                ql.Settings.instance().evaluationDate = today\n",
    "                                expected[\"theta\"] = (value_p - value_m)/dT\n",
    "                                \n",
    "                                for greek in calculated.keys():\n",
    "                                    expct = expected  [greek]\n",
    "                                    calcl = calculated[greek]\n",
    "                                    tol   = tolerance [greek]\n",
    "                                    error = relativeError(expct,calcl,u)\n",
    "                                    \n",
    "                                    if (error>tol):\n",
    "                                        REPORT_FAILURE(greek, ql.Average.Geometric,\n",
    "                                                 None, None,\n",
    "                                                 [],\n",
    "                                                 payoff, maturity,\n",
    "                                                 u, q, r, today, v,\n",
    "                                                 expct, calcl, tol)\n",
    "\n",
    "                                "
   ]
  },
  {
   "cell_type": "markdown",
   "metadata": {},
   "source": [
    "# Analytic discrete geometric average-price Asians"
   ]
  },
  {
   "cell_type": "code",
   "execution_count": 97,
   "metadata": {},
   "outputs": [],
   "source": [
    "dc = ql.Actual360()\n",
    "today = ql.Settings.instance().evaluationDate\n",
    "spot = ql.SimpleQuote(100.0)\n",
    "qRate = ql.SimpleQuote(0.03)\n",
    "qTS = ql.FlatForward(today, ql.QuoteHandle(qRate), dc)\n",
    "rRate = ql.SimpleQuote(0.06)\n",
    "rTS = ql.FlatForward(today, ql.QuoteHandle(rRate), dc)\n",
    "vol = ql.SimpleQuote(0.20)\n",
    "volTS = ql.BlackConstantVol(today, ql.NullCalendar(), ql.QuoteHandle(vol), dc)"
   ]
  },
  {
   "cell_type": "code",
   "execution_count": 98,
   "metadata": {},
   "outputs": [],
   "source": [
    "stochProcess = ql.BlackScholesMertonProcess(ql.QuoteHandle(spot), ql.YieldTermStructureHandle(qTS), \n",
    "                                            ql.YieldTermStructureHandle(rTS), \n",
    "                                            ql.BlackVolTermStructureHandle(volTS))"
   ]
  },
  {
   "cell_type": "code",
   "execution_count": 99,
   "metadata": {},
   "outputs": [],
   "source": [
    "engine = ql.AnalyticDiscreteGeometricAveragePriceAsianEngine(stochProcess)"
   ]
  },
  {
   "cell_type": "code",
   "execution_count": 100,
   "metadata": {},
   "outputs": [],
   "source": [
    "averageType = ql.Average.Geometric"
   ]
  },
  {
   "cell_type": "code",
   "execution_count": 101,
   "metadata": {},
   "outputs": [],
   "source": [
    "runningAccumulator = 1.0\n",
    "pastFixings = 0\n",
    "futureFixings = 10\n",
    "option_type = ql.Option.Call\n",
    "strike = 100.0\n",
    "payoff = ql.PlainVanillaPayoff(option_type, strike)\n",
    "\n",
    "exerciseDate = today + 360\n",
    "exercise = ql.EuropeanExercise(exerciseDate)"
   ]
  },
  {
   "cell_type": "code",
   "execution_count": 114,
   "metadata": {},
   "outputs": [],
   "source": [
    "dt = int(360/futureFixings+0.5)\n",
    "fixingDates = [today + i*dt for i in range(1, futureFixings+1)]"
   ]
  },
  {
   "cell_type": "code",
   "execution_count": 116,
   "metadata": {},
   "outputs": [
    {
     "data": {
      "text/plain": [
       "Date(7,4,2020)"
      ]
     },
     "execution_count": 116,
     "metadata": {},
     "output_type": "execute_result"
    }
   ],
   "source": [
    "exerciseDate"
   ]
  },
  {
   "cell_type": "code",
   "execution_count": 115,
   "metadata": {},
   "outputs": [
    {
     "data": {
      "text/plain": [
       "[Date(19,5,2019),\n",
       " Date(24,6,2019),\n",
       " Date(30,7,2019),\n",
       " Date(4,9,2019),\n",
       " Date(10,10,2019),\n",
       " Date(15,11,2019),\n",
       " Date(21,12,2019),\n",
       " Date(26,1,2020),\n",
       " Date(2,3,2020),\n",
       " Date(7,4,2020)]"
      ]
     },
     "execution_count": 115,
     "metadata": {},
     "output_type": "execute_result"
    }
   ],
   "source": [
    "fixingDates"
   ]
  },
  {
   "cell_type": "code",
   "execution_count": 117,
   "metadata": {},
   "outputs": [],
   "source": [
    "option = ql.DiscreteAveragingAsianOption(averageType, runningAccumulator,\n",
    "                                        pastFixings, fixingDates,\n",
    "                                        payoff, exercise)"
   ]
  },
  {
   "cell_type": "code",
   "execution_count": 118,
   "metadata": {},
   "outputs": [],
   "source": [
    "option.setPricingEngine(engine)"
   ]
  },
  {
   "cell_type": "code",
   "execution_count": 119,
   "metadata": {},
   "outputs": [
    {
     "data": {
      "text/plain": [
       "5.342560663499418"
      ]
     },
     "execution_count": 119,
     "metadata": {},
     "output_type": "execute_result"
    }
   ],
   "source": [
    "option.NPV()"
   ]
  },
  {
   "cell_type": "code",
   "execution_count": 120,
   "metadata": {},
   "outputs": [],
   "source": [
    "calculated = option.NPV()\n",
    "expected = 5.3425606635\n",
    "tolerance = 1e-10\n",
    "if (abs(calculated-expected) > tolerance):\n",
    "    print(\"FAILURE\")"
   ]
  },
  {
   "cell_type": "markdown",
   "metadata": {},
   "source": [
    "# Analytic discrete geometric average-strike Asians"
   ]
  },
  {
   "cell_type": "code",
   "execution_count": 188,
   "metadata": {},
   "outputs": [],
   "source": [
    "dc = ql.Actual360()\n",
    "today = ql.Settings.instance().evaluationDate\n",
    "spot = ql.SimpleQuote(100.0)\n",
    "qRate = ql.SimpleQuote(0.03)\n",
    "qTS = ql.FlatForward(today, ql.QuoteHandle(qRate), dc)\n",
    "rRate = ql.SimpleQuote(0.06)\n",
    "rTS = ql.FlatForward(today, ql.QuoteHandle(rRate), dc)\n",
    "vol = ql.SimpleQuote(0.20)\n",
    "volTS = ql.BlackConstantVol(today, ql.NullCalendar(), ql.QuoteHandle(vol), dc)"
   ]
  },
  {
   "cell_type": "code",
   "execution_count": 189,
   "metadata": {},
   "outputs": [],
   "source": [
    "stochProcess = ql.BlackScholesMertonProcess(ql.QuoteHandle(spot), ql.YieldTermStructureHandle(qTS), \n",
    "                                            ql.YieldTermStructureHandle(rTS), \n",
    "                                            ql.BlackVolTermStructureHandle(volTS))"
   ]
  },
  {
   "cell_type": "code",
   "execution_count": 190,
   "metadata": {},
   "outputs": [],
   "source": [
    "engine = ql.AnalyticDiscreteGeometricAverageStrikeAsianEngine(stochProcess)"
   ]
  },
  {
   "cell_type": "code",
   "execution_count": 191,
   "metadata": {},
   "outputs": [],
   "source": [
    "averageType = ql.Average.Geometric"
   ]
  },
  {
   "cell_type": "code",
   "execution_count": 192,
   "metadata": {},
   "outputs": [],
   "source": [
    "runningAccumulator = 1.0\n",
    "pastFixings = 0\n",
    "futureFixings = 10\n",
    "option_type = ql.Option.Call\n",
    "strike = 100.0\n",
    "payoff = ql.PlainVanillaPayoff(option_type, strike)\n",
    "\n",
    "exerciseDate = today + 360\n",
    "exercise = ql.EuropeanExercise(exerciseDate)"
   ]
  },
  {
   "cell_type": "code",
   "execution_count": 193,
   "metadata": {},
   "outputs": [],
   "source": [
    "dt = int(360/futureFixings+0.5)\n",
    "fixingDates = [today + i*dt for i in range(1, futureFixings+1)]"
   ]
  },
  {
   "cell_type": "code",
   "execution_count": 194,
   "metadata": {},
   "outputs": [],
   "source": [
    "option = ql.DiscreteAveragingAsianOption(averageType, runningAccumulator,\n",
    "                                        pastFixings, fixingDates,\n",
    "                                        payoff, exercise)"
   ]
  },
  {
   "cell_type": "code",
   "execution_count": 195,
   "metadata": {},
   "outputs": [],
   "source": [
    "option.setPricingEngine(engine)"
   ]
  },
  {
   "cell_type": "code",
   "execution_count": 196,
   "metadata": {},
   "outputs": [
    {
     "data": {
      "text/plain": [
       "4.971092526326878"
      ]
     },
     "execution_count": 196,
     "metadata": {},
     "output_type": "execute_result"
    }
   ],
   "source": [
    "option.NPV()"
   ]
  },
  {
   "cell_type": "code",
   "execution_count": 197,
   "metadata": {},
   "outputs": [],
   "source": [
    "calculated = option.NPV()\n",
    "expected = 4.97109\n",
    "tolerance = 1e-5\n",
    "if (abs(calculated-expected) > tolerance):\n",
    "    print(\"FAILURE\")"
   ]
  },
  {
   "cell_type": "markdown",
   "metadata": {},
   "source": [
    "# Monte Carlo discrete geometric average-price Asians"
   ]
  },
  {
   "cell_type": "code",
   "execution_count": 198,
   "metadata": {},
   "outputs": [],
   "source": [
    "tolerance = 4.0e-3"
   ]
  },
  {
   "cell_type": "code",
   "execution_count": 213,
   "metadata": {},
   "outputs": [],
   "source": [
    "engine = ql.MCDiscreteGeometricAPEngine(stochProcess, \"lowdiscrepancy\",                                      \n",
    "                                         brownianBridge=True,\n",
    "                                         antitheticVariate=False,\n",
    "                                         requiredSamples=8191,\n",
    "                                         requiredTolerance=None,\n",
    "                                         maxSamples=None,\n",
    "                                         seed=0)"
   ]
  },
  {
   "cell_type": "code",
   "execution_count": 214,
   "metadata": {},
   "outputs": [],
   "source": [
    "averageType = ql.Average.Geometric"
   ]
  },
  {
   "cell_type": "code",
   "execution_count": 215,
   "metadata": {},
   "outputs": [],
   "source": [
    "runningAccumulator = 1.0\n",
    "pastFixings = 0\n",
    "futureFixings = 10\n",
    "option_type = ql.Option.Call\n",
    "strike = 100.0\n",
    "payoff = ql.PlainVanillaPayoff(option_type, strike)\n",
    "\n",
    "exerciseDate = today + 360\n",
    "exercise = ql.EuropeanExercise(exerciseDate)"
   ]
  },
  {
   "cell_type": "code",
   "execution_count": 216,
   "metadata": {},
   "outputs": [],
   "source": [
    "dt = int(360/futureFixings+0.5)\n",
    "fixingDates = [today + i*dt for i in range(1, futureFixings+1)]"
   ]
  },
  {
   "cell_type": "code",
   "execution_count": 217,
   "metadata": {},
   "outputs": [],
   "source": [
    "option = ql.DiscreteAveragingAsianOption(averageType, runningAccumulator,\n",
    "                                        pastFixings, fixingDates,\n",
    "                                        payoff, exercise)"
   ]
  },
  {
   "cell_type": "code",
   "execution_count": 218,
   "metadata": {},
   "outputs": [],
   "source": [
    "option.setPricingEngine(engine)"
   ]
  },
  {
   "cell_type": "code",
   "execution_count": 219,
   "metadata": {},
   "outputs": [
    {
     "data": {
      "text/plain": [
       "5.338879887520727"
      ]
     },
     "execution_count": 219,
     "metadata": {},
     "output_type": "execute_result"
    }
   ],
   "source": [
    "option.NPV()"
   ]
  },
  {
   "cell_type": "code",
   "execution_count": 220,
   "metadata": {},
   "outputs": [],
   "source": [
    "calculated = option.NPV()"
   ]
  },
  {
   "cell_type": "code",
   "execution_count": 221,
   "metadata": {},
   "outputs": [],
   "source": [
    "engine2 = ql.AnalyticDiscreteGeometricAveragePriceAsianEngine(stochProcess)"
   ]
  },
  {
   "cell_type": "code",
   "execution_count": 222,
   "metadata": {},
   "outputs": [],
   "source": [
    "option.setPricingEngine(engine2)"
   ]
  },
  {
   "cell_type": "code",
   "execution_count": 223,
   "metadata": {},
   "outputs": [
    {
     "data": {
      "text/plain": [
       "5.342560663499418"
      ]
     },
     "execution_count": 223,
     "metadata": {},
     "output_type": "execute_result"
    }
   ],
   "source": [
    "option.NPV()"
   ]
  },
  {
   "cell_type": "code",
   "execution_count": 224,
   "metadata": {},
   "outputs": [],
   "source": [
    "expected = option.NPV()"
   ]
  },
  {
   "cell_type": "code",
   "execution_count": 225,
   "metadata": {},
   "outputs": [],
   "source": [
    "if (abs(calculated-expected) > tolerance):\n",
    "    print(\"FAILURE\")"
   ]
  },
  {
   "cell_type": "markdown",
   "metadata": {},
   "source": [
    "# Monte Carlo discrete arithmetic average-price Asians"
   ]
  },
  {
   "cell_type": "code",
   "execution_count": 152,
   "metadata": {},
   "outputs": [],
   "source": [
    "cases4 = [\n",
    "        [ ql.Option.Put, 90.0, 87.0, 0.06, 0.025, 0.0, 11.0/12.0, 2,\n",
    "          0.13, True, 1.3942835683 ],\n",
    "        [ ql.Option.Put, 90.0, 87.0, 0.06, 0.025, 0.0, 11.0/12.0, 4,\n",
    "          0.13, True, 1.5852442983 ],\n",
    "        [ ql.Option.Put, 90.0, 87.0, 0.06, 0.025, 0.0, 11.0/12.0, 8,\n",
    "          0.13, True, 1.66970673 ],\n",
    "        [ ql.Option.Put, 90.0, 87.0, 0.06, 0.025, 0.0, 11.0/12.0, 12,\n",
    "          0.13, True, 1.6980019214 ],\n",
    "        [ ql.Option.Put, 90.0, 87.0, 0.06, 0.025, 0.0, 11.0/12.0, 26,\n",
    "          0.13, True, 1.7255070456 ],\n",
    "        [ ql.Option.Put, 90.0, 87.0, 0.06, 0.025, 0.0, 11.0/12.0, 52,\n",
    "          0.13, True, 1.7401553533 ],\n",
    "        [ ql.Option.Put, 90.0, 87.0, 0.06, 0.025, 0.0, 11.0/12.0, 100,\n",
    "          0.13, True, 1.7478303712 ],\n",
    "        [ ql.Option.Put, 90.0, 87.0, 0.06, 0.025, 0.0, 11.0/12.0, 250,\n",
    "          0.13, True, 1.7490291943 ],\n",
    "        [ ql.Option.Put, 90.0, 87.0, 0.06, 0.025, 0.0, 11.0/12.0, 500,\n",
    "          0.13, True, 1.7515113291 ],\n",
    "        [ ql.Option.Put, 90.0, 87.0, 0.06, 0.025, 0.0, 11.0/12.0, 1000,\n",
    "          0.13, True, 1.7537344885 ],\n",
    "        [ ql.Option.Put, 90.0, 87.0, 0.06, 0.025, 1.0/12.0, 11.0/12.0, 2,\n",
    "          0.13, True, 1.8496053697 ],\n",
    "        [ ql.Option.Put, 90.0, 87.0, 0.06, 0.025, 1.0/12.0, 11.0/12.0, 4,\n",
    "          0.13, True, 2.0111495205 ],\n",
    "        [ ql.Option.Put, 90.0, 87.0, 0.06, 0.025, 1.0/12.0, 11.0/12.0, 8,\n",
    "          0.13, True, 2.0852138818 ],\n",
    "        [ ql.Option.Put, 90.0, 87.0, 0.06, 0.025, 1.0/12.0, 11.0/12.0, 12,\n",
    "          0.13, True, 2.1105094397 ],\n",
    "        [ ql.Option.Put, 90.0, 87.0, 0.06, 0.025, 1.0/12.0, 11.0/12.0, 26,\n",
    "          0.13, True, 2.1346526695 ],\n",
    "        [ ql.Option.Put, 90.0, 87.0, 0.06, 0.025, 1.0/12.0, 11.0/12.0, 52,\n",
    "          0.13, True, 2.147489651 ],\n",
    "        [ ql.Option.Put, 90.0, 87.0, 0.06, 0.025, 1.0/12.0, 11.0/12.0, 100,\n",
    "          0.13, True, 2.154728109 ],\n",
    "        [ ql.Option.Put, 90.0, 87.0, 0.06, 0.025, 1.0/12.0, 11.0/12.0, 250,\n",
    "          0.13, True, 2.1564276565 ],\n",
    "        [ ql.Option.Put, 90.0, 87.0, 0.06, 0.025, 1.0/12.0, 11.0/12.0, 500,\n",
    "          0.13, True, 2.1594238588 ],\n",
    "        [ ql.Option.Put, 90.0, 87.0, 0.06, 0.025, 1.0/12.0, 11.0/12.0, 1000,\n",
    "          0.13, True, 2.1595367326 ],\n",
    "        [ ql.Option.Put, 90.0, 87.0, 0.06, 0.025, 3.0/12.0, 11.0/12.0, 2,\n",
    "          0.13, True, 2.63315092584 ],\n",
    "        [ ql.Option.Put, 90.0, 87.0, 0.06, 0.025, 3.0/12.0, 11.0/12.0, 4,\n",
    "          0.13, True, 2.76723962361 ],\n",
    "        [ ql.Option.Put, 90.0, 87.0, 0.06, 0.025, 3.0/12.0, 11.0/12.0, 8,\n",
    "          0.13, True, 2.83124836881 ],\n",
    "        [ ql.Option.Put, 90.0, 87.0, 0.06, 0.025, 3.0/12.0, 11.0/12.0, 12,\n",
    "          0.13, True, 2.84290301412 ],\n",
    "        [ ql.Option.Put, 90.0, 87.0, 0.06, 0.025, 3.0/12.0, 11.0/12.0, 26,\n",
    "          0.13, True, 2.88179560417 ],\n",
    "        [ ql.Option.Put, 90.0, 87.0, 0.06, 0.025, 3.0/12.0, 11.0/12.0, 52,\n",
    "          0.13, True, 2.88447044543 ],\n",
    "        [ ql.Option.Put, 90.0, 87.0, 0.06, 0.025, 3.0/12.0, 11.0/12.0, 100,\n",
    "          0.13, True, 2.89985329603 ],\n",
    "        [ ql.Option.Put, 90.0, 87.0, 0.06, 0.025, 3.0/12.0, 11.0/12.0, 250,\n",
    "          0.13, True, 2.90047296063 ],\n",
    "        [ ql.Option.Put, 90.0, 87.0, 0.06, 0.025, 3.0/12.0, 11.0/12.0, 500,\n",
    "          0.13, True, 2.89813412160 ],\n",
    "        [ ql.Option.Put, 90.0, 87.0, 0.06, 0.025, 3.0/12.0, 11.0/12.0, 1000,\n",
    "          0.13, True, 2.89703362437 ]\n",
    "   ]"
   ]
  },
  {
   "cell_type": "code",
   "execution_count": 153,
   "metadata": {},
   "outputs": [],
   "source": [
    "averageType = ql.Average.Arithmetic"
   ]
  },
  {
   "cell_type": "markdown",
   "metadata": {},
   "source": [
    "    struct DiscreteAverageData {\n",
    "        0 Option::Type type;\n",
    "        1 Real underlying;\n",
    "        2 Real strike;\n",
    "        3 Rate dividendYield;\n",
    "        4 Rate riskFreeRate;\n",
    "        5 Time first;\n",
    "        6 Time length;\n",
    "        7 Size fixings;\n",
    "        8 Volatility volatility;\n",
    "        9 bool controlVariate;\n",
    "        10 Real result;\n",
    "    };"
   ]
  },
  {
   "cell_type": "code",
   "execution_count": 235,
   "metadata": {},
   "outputs": [
    {
     "name": "stdout",
     "output_type": "stream",
     "text": [
      "0\n",
      "1\n",
      "2\n",
      "3\n",
      "4\n",
      "5\n",
      "6\n",
      "7\n",
      "8\n",
      "9\n",
      "10\n",
      "11\n",
      "12\n",
      "13\n",
      "14\n",
      "15\n",
      "16\n",
      "17\n",
      "18\n",
      "19\n",
      "20\n",
      "21\n",
      "22\n",
      "23\n",
      "24\n",
      "25\n",
      "26\n",
      "27\n",
      "28\n",
      "29\n"
     ]
    }
   ],
   "source": [
    "runningSum = 0.00\n",
    "pastFixings = 0\n",
    "averageType = ql.Average.Arithmetic\n",
    "\n",
    "for l in range(0, len(cases4)):\n",
    "    payoff = ql.PlainVanillaPayoff(cases4[l][0], cases4[l][2])\n",
    "    dt = cases4[l][6]/(cases4[l][7]-1)\n",
    "    timeIncrements = [cases4[l][5]]\n",
    "    fixingDates = [today + int(timeIncrements[0]*360+0.5)]\n",
    "    for i in range(1, cases4[l][7]) :\n",
    "        timeIncrements += [i*dt + cases4[l][5]]\n",
    "        fixingDates += [today + int(timeIncrements[i]*360+0.5)]\n",
    "    exercise = ql.EuropeanExercise(fixingDates[cases4[l][7]-1])\n",
    "    \n",
    "    spot.setValue(cases4[l][1])\n",
    "    qRate.setValue(cases4[l][3])\n",
    "    rRate.setValue(cases4[l][4])\n",
    "    vol.setValue(cases4[l][8])\n",
    "    \n",
    "    stochProcess = ql.BlackScholesMertonProcess(ql.QuoteHandle(spot), ql.YieldTermStructureHandle(qTS), \n",
    "                                            ql.YieldTermStructureHandle(rTS), \n",
    "                                            ql.BlackVolTermStructureHandle(volTS))\n",
    "    \n",
    "    engine = ql.MCDiscreteArithmeticAPEngine(stochProcess, \"lowdiscrepancy\",                                      \n",
    "                                         brownianBridge=True,\n",
    "                                         antitheticVariate=False,\n",
    "                                             controlVariate=cases4[l][9],\n",
    "                                         requiredSamples=2047,\n",
    "                                         requiredTolerance=None,\n",
    "                                         maxSamples=None,\n",
    "                                         seed=0)\n",
    "    \n",
    "    option = ql.DiscreteAveragingAsianOption(averageType, runningSum,\n",
    "                                            pastFixings, fixingDates,\n",
    "                                            payoff, exercise)\n",
    "    \n",
    "    option.setPricingEngine(engine)\n",
    "    print(l)\n",
    "    calculated = option.NPV()\n",
    "    expected = cases4[l][10]\n",
    "    tolerance = 2.0e-2\n",
    "    if (abs(calculated-expected) > tolerance):\n",
    "        print(\"FAILURE\")\n",
    "        print(l)\n",
    "    \n",
    "    if(cases4[l][7] < 100):\n",
    "        engine = ql.FdBlackScholesAsianEngine(stochProcess, 100, 100, 100)\n",
    "        option.setPricingEngine(engine)\n",
    "        calculated = option.NPV()\n",
    "        if (abs(calculated-expected) > tolerance):\n",
    "            print(\"FAILURE\")\n",
    "            print(l)\n",
    "        "
   ]
  },
  {
   "cell_type": "markdown",
   "metadata": {},
   "source": [
    "# Monte Carlo discrete arithmetic average-strike Asians"
   ]
  },
  {
   "cell_type": "code",
   "execution_count": 236,
   "metadata": {},
   "outputs": [],
   "source": [
    "cases5 = [\n",
    "        [ ql.Option.Call, 90.0, 87.0, 0.06, 0.025, 0.0, 11.0/12.0, 2,\n",
    "          0.13, True, 1.51917595129 ],\n",
    "        [ ql.Option.Call, 90.0, 87.0, 0.06, 0.025, 0.0, 11.0/12.0, 4,\n",
    "          0.13, True, 1.67940165674 ],\n",
    "        [ ql.Option.Call, 90.0, 87.0, 0.06, 0.025, 0.0, 11.0/12.0, 8,\n",
    "          0.13, True, 1.75371215251 ],\n",
    "        [ ql.Option.Call, 90.0, 87.0, 0.06, 0.025, 0.0, 11.0/12.0, 12,\n",
    "          0.13, True, 1.77595318693 ],\n",
    "        [ ql.Option.Call, 90.0, 87.0, 0.06, 0.025, 0.0, 11.0/12.0, 26,\n",
    "          0.13, True, 1.81430536630 ],\n",
    "        [ ql.Option.Call, 90.0, 87.0, 0.06, 0.025, 0.0, 11.0/12.0, 52,\n",
    "          0.13, True, 1.82269246898 ],\n",
    "        [ ql.Option.Call, 90.0, 87.0, 0.06, 0.025, 0.0, 11.0/12.0, 100,\n",
    "          0.13, True, 1.83822402464 ],\n",
    "        [ ql.Option.Call, 90.0, 87.0, 0.06, 0.025, 0.0, 11.0/12.0, 250,\n",
    "          0.13, True, 1.83875059026 ],\n",
    "        [ ql.Option.Call, 90.0, 87.0, 0.06, 0.025, 0.0, 11.0/12.0, 500,\n",
    "          0.13, True, 1.83750703638 ],\n",
    "        [ ql.Option.Call, 90.0, 87.0, 0.06, 0.025, 0.0, 11.0/12.0, 1000,\n",
    "          0.13, True, 1.83887181884 ],\n",
    "        [ ql.Option.Call, 90.0, 87.0, 0.06, 0.025, 1.0/12.0, 11.0/12.0, 2,\n",
    "          0.13, True, 1.51154400089 ],\n",
    "        [ ql.Option.Call, 90.0, 87.0, 0.06, 0.025, 1.0/12.0, 11.0/12.0, 4,\n",
    "          0.13, True, 1.67103508506 ],\n",
    "        [ ql.Option.Call, 90.0, 87.0, 0.06, 0.025, 1.0/12.0, 11.0/12.0, 8,\n",
    "          0.13, True, 1.74529684070 ],\n",
    "        [ ql.Option.Call, 90.0, 87.0, 0.06, 0.025, 1.0/12.0, 11.0/12.0, 12,\n",
    "          0.13, True, 1.76667074564 ],\n",
    "        [ ql.Option.Call, 90.0, 87.0, 0.06, 0.025, 1.0/12.0, 11.0/12.0, 26,\n",
    "          0.13, True, 1.80528400613 ],\n",
    "        [ ql.Option.Call, 90.0, 87.0, 0.06, 0.025, 1.0/12.0, 11.0/12.0, 52,\n",
    "          0.13, True, 1.81400883891 ],\n",
    "        [ ql.Option.Call, 90.0, 87.0, 0.06, 0.025, 1.0/12.0, 11.0/12.0, 100,\n",
    "          0.13, True, 1.82922901451 ],\n",
    "        [ ql.Option.Call, 90.0, 87.0, 0.06, 0.025, 1.0/12.0, 11.0/12.0, 250,\n",
    "          0.13, True, 1.82937111773 ],\n",
    "        [ ql.Option.Call, 90.0, 87.0, 0.06, 0.025, 1.0/12.0, 11.0/12.0, 500,\n",
    "          0.13, True, 1.82826193186 ],\n",
    "        [ ql.Option.Call, 90.0, 87.0, 0.06, 0.025, 1.0/12.0, 11.0/12.0, 1000,\n",
    "          0.13, True, 1.82967846654 ],\n",
    "        [ ql.Option.Call, 90.0, 87.0, 0.06, 0.025, 3.0/12.0, 11.0/12.0, 2,\n",
    "          0.13, True, 1.49648170891 ],\n",
    "        [ ql.Option.Call, 90.0, 87.0, 0.06, 0.025, 3.0/12.0, 11.0/12.0, 4,\n",
    "          0.13, True, 1.65443100462 ],\n",
    "        [ ql.Option.Call, 90.0, 87.0, 0.06, 0.025, 3.0/12.0, 11.0/12.0, 8,\n",
    "          0.13, True, 1.72817806731 ],\n",
    "        [ ql.Option.Call, 90.0, 87.0, 0.06, 0.025, 3.0/12.0, 11.0/12.0, 12,\n",
    "          0.13, True, 1.74877367895 ],\n",
    "        [ ql.Option.Call, 90.0, 87.0, 0.06, 0.025, 3.0/12.0, 11.0/12.0, 26,\n",
    "          0.13, True, 1.78733801988 ],\n",
    "        [ ql.Option.Call, 90.0, 87.0, 0.06, 0.025, 3.0/12.0, 11.0/12.0, 52,\n",
    "          0.13, True, 1.79624826757 ],\n",
    "        [ ql.Option.Call, 90.0, 87.0, 0.06, 0.025, 3.0/12.0, 11.0/12.0, 100,\n",
    "          0.13, True, 1.81114186876 ],\n",
    "        [ ql.Option.Call, 90.0, 87.0, 0.06, 0.025, 3.0/12.0, 11.0/12.0, 250,\n",
    "          0.13, True, 1.81101152587 ],\n",
    "        [ ql.Option.Call, 90.0, 87.0, 0.06, 0.025, 3.0/12.0, 11.0/12.0, 500,\n",
    "          0.13, True, 1.81002311939 ],\n",
    "        [ ql.Option.Call, 90.0, 87.0, 0.06, 0.025, 3.0/12.0, 11.0/12.0, 1000,\n",
    "          0.13, True, 1.81145760308 ]\n",
    "    ]"
   ]
  },
  {
   "cell_type": "code",
   "execution_count": 241,
   "metadata": {},
   "outputs": [
    {
     "name": "stdout",
     "output_type": "stream",
     "text": [
      "0\n",
      "1\n",
      "2\n",
      "3\n",
      "4\n",
      "5\n",
      "6\n",
      "7\n",
      "8\n",
      "9\n",
      "10\n",
      "11\n",
      "12\n",
      "13\n",
      "14\n",
      "15\n",
      "16\n",
      "17\n",
      "18\n",
      "19\n",
      "20\n",
      "21\n",
      "22\n",
      "23\n",
      "24\n",
      "25\n",
      "26\n",
      "27\n",
      "28\n",
      "29\n"
     ]
    }
   ],
   "source": [
    "runningSum = 0.00\n",
    "pastFixings = 0\n",
    "averageType = ql.Average.Arithmetic\n",
    "\n",
    "for l in range(0, len(cases5)):\n",
    "    payoff = ql.PlainVanillaPayoff(cases5[l][0], cases5[l][2])\n",
    "    dt = cases5[l][6]/(cases5[l][7]-1)\n",
    "    timeIncrements = [cases5[l][5]]\n",
    "    fixingDates = [today + int(timeIncrements[0]*360+0.5)]\n",
    "    for i in range(1, cases5[l][7]) :\n",
    "        timeIncrements += [i*dt + cases5[l][5]]\n",
    "        fixingDates += [today + int(timeIncrements[i]*360+0.5)]\n",
    "    exercise = ql.EuropeanExercise(fixingDates[cases5[l][7]-1])\n",
    "    \n",
    "    spot.setValue(cases5[l][1])\n",
    "    qRate.setValue(cases5[l][3])\n",
    "    rRate.setValue(cases5[l][4])\n",
    "    vol.setValue(cases5[l][8])\n",
    "    \n",
    "    stochProcess = ql.BlackScholesMertonProcess(ql.QuoteHandle(spot), ql.YieldTermStructureHandle(qTS), \n",
    "                                            ql.YieldTermStructureHandle(rTS), \n",
    "                                            ql.BlackVolTermStructureHandle(volTS))\n",
    "    \n",
    "    engine = ql.MCDiscreteArithmeticASEngine(stochProcess, \"lowdiscrepancy\",                                      \n",
    "                                         brownianBridge=True,\n",
    "                                         antitheticVariate=False,                                             \n",
    "                                         requiredSamples=1023,\n",
    "                                         requiredTolerance=None,\n",
    "                                         maxSamples=None,\n",
    "                                         seed=3456789)\n",
    "    \n",
    "    option = ql.DiscreteAveragingAsianOption(averageType, runningSum,\n",
    "                                            pastFixings, fixingDates,\n",
    "                                            payoff, exercise)\n",
    "    \n",
    "    option.setPricingEngine(engine)\n",
    "    print(l)\n",
    "    calculated = option.NPV()\n",
    "    expected = cases5[l][10]\n",
    "    tolerance = 2.0e-2\n",
    "    if (abs(calculated-expected) > tolerance):\n",
    "        print(\"FAILURE\")\n",
    "        print(l)\n",
    "\n",
    "        "
   ]
  },
  {
   "cell_type": "code",
   "execution_count": null,
   "metadata": {},
   "outputs": [],
   "source": []
  }
 ],
 "metadata": {
  "kernelspec": {
   "display_name": "Python 3",
   "language": "python",
   "name": "python3"
  },
  "language_info": {
   "codemirror_mode": {
    "name": "ipython",
    "version": 3
   },
   "file_extension": ".py",
   "mimetype": "text/x-python",
   "name": "python",
   "nbconvert_exporter": "python",
   "pygments_lexer": "ipython3",
   "version": "3.6.3"
  }
 },
 "nbformat": 4,
 "nbformat_minor": 2
}
