{
 "cells": [
  {
   "cell_type": "code",
   "execution_count": null,
   "metadata": {},
   "outputs": [],
   "source": [
    "import QuantLib as ql"
   ]
  },
  {
   "cell_type": "markdown",
   "metadata": {},
   "source": [
    "## Cash or nothing barrier options"
   ]
  },
  {
   "cell_type": "code",
   "execution_count": null,
   "metadata": {},
   "outputs": [],
   "source": [
    "values = [\n",
    "        #    ql.BarrierType, ql.Barrier,  cash,         type, strike,   spot,    q,    r,   t,  vol,   value, tol\n",
    "        [ ql.Barrier.DownIn,  100.00, 15.00, ql.Option.Call, 102.00, 105.00, 0.00, 0.10, 0.5, 0.20,  4.9289, 1e-4 ],\n",
    "        [ ql.Barrier.DownIn,  100.00, 15.00, ql.Option.Call,  98.00, 105.00, 0.00, 0.10, 0.5, 0.20,  6.2150, 1e-4 ],\n",
    "        # following value is wrong in book. \n",
    "        [ ql.Barrier.UpIn,    100.00, 15.00, ql.Option.Call, 102.00,  95.00, 0.00, 0.10, 0.5, 0.20,  5.8926, 1e-4 ],\n",
    "        [ ql.Barrier.UpIn,    100.00, 15.00, ql.Option.Call,  98.00,  95.00, 0.00, 0.10, 0.5, 0.20,  7.4519, 1e-4 ],\n",
    "        # 17,18\n",
    "        [ ql.Barrier.DownIn,  100.00, 15.00, ql.Option.Put,  102.00, 105.00, 0.00, 0.10, 0.5, 0.20,  4.4314, 1e-4 ],\n",
    "        [ ql.Barrier.DownIn,  100.00, 15.00, ql.Option.Put,   98.00, 105.00, 0.00, 0.10, 0.5, 0.20,  3.1454, 1e-4 ],\n",
    "        [ ql.Barrier.UpIn,    100.00, 15.00, ql.Option.Put,  102.00,  95.00, 0.00, 0.10, 0.5, 0.20,  5.3297, 1e-4 ],\n",
    "        [ ql.Barrier.UpIn,    100.00, 15.00, ql.Option.Put,   98.00,  95.00, 0.00, 0.10, 0.5, 0.20,  3.7704, 1e-4 ],\n",
    "        # 21,22\n",
    "        [ ql.Barrier.DownOut, 100.00, 15.00, ql.Option.Call, 102.00, 105.00, 0.00, 0.10, 0.5, 0.20,  4.8758, 1e-4 ],\n",
    "        [ ql.Barrier.DownOut, 100.00, 15.00, ql.Option.Call,  98.00, 105.00, 0.00, 0.10, 0.5, 0.20,  4.9081, 1e-4 ],\n",
    "        [ ql.Barrier.UpOut,   100.00, 15.00, ql.Option.Call, 102.00,  95.00, 0.00, 0.10, 0.5, 0.20,  0.0000, 1e-4 ],\n",
    "        [ ql.Barrier.UpOut,   100.00, 15.00, ql.Option.Call,  98.00,  95.00, 0.00, 0.10, 0.5, 0.20,  0.0407, 1e-4 ],\n",
    "        # 25,26\n",
    "        [ ql.Barrier.DownOut, 100.00, 15.00, ql.Option.Put,  102.00, 105.00, 0.00, 0.10, 0.5, 0.20,  0.0323, 1e-4 ],\n",
    "        [ ql.Barrier.DownOut, 100.00, 15.00, ql.Option.Put,   98.00, 105.00, 0.00, 0.10, 0.5, 0.20,  0.0000, 1e-4 ],\n",
    "        [ ql.Barrier.UpOut,   100.00, 15.00, ql.Option.Put,  102.00,  95.00, 0.00, 0.10, 0.5, 0.20,  3.0461, 1e-4 ],\n",
    "        [ ql.Barrier.UpOut,   100.00, 15.00, ql.Option.Put,   98.00,  95.00, 0.00, 0.10, 0.5, 0.20,  3.0054, 1e-4 ],\n",
    "\n",
    "        # other values calculated with book vba\n",
    "        [ ql.Barrier.UpIn,    100.00, 15.00, ql.Option.Call, 102.00,  95.00,-0.14, 0.10, 0.5, 0.20,  8.6806, 1e-4 ],\n",
    "        [ ql.Barrier.UpIn,    100.00, 15.00, ql.Option.Call, 102.00,  95.00, 0.03, 0.10, 0.5, 0.20,  5.3112, 1e-4 ],\n",
    "        # degenerate conditions (ql.Barrier touched)\n",
    "        [ ql.Barrier.DownIn,  100.00, 15.00, ql.Option.Call,  98.00,  95.00, 0.00, 0.10, 0.5, 0.20,  7.4926, 1e-4 ],\n",
    "        [ ql.Barrier.UpIn,    100.00, 15.00, ql.Option.Call,  98.00, 105.00, 0.00, 0.10, 0.5, 0.20, 11.1231, 1e-4 ],\n",
    "        # 17,18\n",
    "        [ ql.Barrier.DownIn,  100.00, 15.00, ql.Option.Put,  102.00,  98.00, 0.00, 0.10, 0.5, 0.20,  7.1344, 1e-4 ],\n",
    "        [ ql.Barrier.UpIn,    100.00, 15.00, ql.Option.Put,  102.00, 101.00, 0.00, 0.10, 0.5, 0.20,  5.9299, 1e-4 ],\n",
    "        # 21,22\n",
    "        [ ql.Barrier.DownOut, 100.00, 15.00, ql.Option.Call,  98.00,  99.00, 0.00, 0.10, 0.5, 0.20,  0.0000, 1e-4 ],\n",
    "        [ ql.Barrier.UpOut,   100.00, 15.00, ql.Option.Call,  98.00, 101.00, 0.00, 0.10, 0.5, 0.20,  0.0000, 1e-4 ],\n",
    "        # 25,26\n",
    "        [ ql.Barrier.DownOut, 100.00, 15.00, ql.Option.Put,   98.00,  99.00, 0.00, 0.10, 0.5, 0.20,  0.0000, 1e-4 ],\n",
    "        [ ql.Barrier.UpOut,   100.00, 15.00, ql.Option.Put,   98.00, 101.00, 0.00, 0.10, 0.5, 0.20,  0.0000, 1e-4 ],\n",
    "]"
   ]
  },
  {
   "cell_type": "code",
   "execution_count": null,
   "metadata": {},
   "outputs": [],
   "source": [
    "dc = ql.Actual360()\n",
    "today = ql.Date.todaysDate()"
   ]
  },
  {
   "cell_type": "code",
   "execution_count": null,
   "metadata": {},
   "outputs": [],
   "source": [
    "spot = ql.SimpleQuote(100.0)\n",
    "qRate = ql.SimpleQuote(0.04)\n",
    "qTS = ql.FlatForward(today, ql.QuoteHandle(qRate), dc)\n",
    "rRate = ql.SimpleQuote(0.01)\n",
    "rTS = ql.FlatForward(today, ql.QuoteHandle(rRate), dc)\n",
    "vol = ql.SimpleQuote(0.25)\n",
    "volTS = ql.BlackConstantVol(today, ql.NullCalendar(), ql.QuoteHandle(vol), dc)"
   ]
  },
  {
   "cell_type": "code",
   "execution_count": null,
   "metadata": {},
   "outputs": [],
   "source": [
    "for value in values:\n",
    "    payoff = ql.CashOrNothingPayoff(value[3], value[4], value[2])\n",
    "    exDate = today + int(value[8]*360)\n",
    "    \n",
    "    amExercise = ql.AmericanExercise(today, exDate, True)\n",
    "    \n",
    "    spot.setValue(value[5])\n",
    "    qRate.setValue(value[6])\n",
    "    rRate.setValue(value[7])\n",
    "    vol.setValue(value[9])\n",
    "    \n",
    "    stochProcess = ql.BlackScholesMertonProcess(ql.QuoteHandle(spot),\n",
    "                                               ql.YieldTermStructureHandle(qTS),\n",
    "                                               ql.YieldTermStructureHandle(rTS),\n",
    "                                               ql.BlackVolTermStructureHandle(volTS))\n",
    "    \n",
    "    engine = ql.AnalyticBinaryBarrierEngine(stochProcess)\n",
    "    \n",
    "    opt = ql.BarrierOption(value[0], value[1], 0, payoff, amExercise)\n",
    "    \n",
    "    opt.setPricingEngine(engine)\n",
    "    \n",
    "    calculated = opt.NPV()\n",
    "    \n",
    "    error = abs(calculated - value[10])\n",
    "    if error>value[11]:\n",
    "            print(\"ERROR\")"
   ]
  },
  {
   "cell_type": "markdown",
   "metadata": {},
   "source": [
    "## Asset or nothing barrier options"
   ]
  },
  {
   "cell_type": "code",
   "execution_count": null,
   "metadata": {},
   "outputs": [],
   "source": [
    "values = [\n",
    "    #    ql.BarrierType, ql.Barrier,  cash,         type, strike,   spot,    q,    r,   t,  vol,   value, tol\n",
    "    [ ql.Barrier.DownIn,  100.00,  0.00, ql.Option.Call, 102.00, 105.00, 0.00, 0.10, 0.5, 0.20, 37.2782, 1e-4 ],\n",
    "    [ ql.Barrier.DownIn,  100.00,  0.00, ql.Option.Call,  98.00, 105.00, 0.00, 0.10, 0.5, 0.20, 45.8530, 1e-4 ],\n",
    "    [ ql.Barrier.UpIn,    100.00,  0.00, ql.Option.Call, 102.00,  95.00, 0.00, 0.10, 0.5, 0.20, 44.5294, 1e-4 ],\n",
    "    [ ql.Barrier.UpIn,    100.00,  0.00, ql.Option.Call,  98.00,  95.00, 0.00, 0.10, 0.5, 0.20, 54.9262, 1e-4 ],\n",
    "    # 19,20\n",
    "    [ ql.Barrier.DownIn,  100.00,  0.00, ql.Option.Put,  102.00, 105.00, 0.00, 0.10, 0.5, 0.20, 27.5644, 1e-4 ],\n",
    "    [ ql.Barrier.DownIn,  100.00,  0.00, ql.Option.Put,   98.00, 105.00, 0.00, 0.10, 0.5, 0.20, 18.9896, 1e-4 ],\n",
    "    # following value is wrong in book. \n",
    "    [ ql.Barrier.UpIn,    100.00,  0.00, ql.Option.Put,  102.00,  95.00, 0.00, 0.10, 0.5, 0.20, 33.1723, 1e-4 ],\n",
    "    [ ql.Barrier.UpIn,    100.00,  0.00, ql.Option.Put,   98.00,  95.00, 0.00, 0.10, 0.5, 0.20, 22.7755, 1e-4 ],\n",
    "    # 23,24\n",
    "    [ ql.Barrier.DownOut, 100.00,  0.00, ql.Option.Call, 102.00, 105.00, 0.00, 0.10, 0.5, 0.20, 39.9391, 1e-4 ],\n",
    "    [ ql.Barrier.DownOut, 100.00,  0.00, ql.Option.Call,  98.00, 105.00, 0.00, 0.10, 0.5, 0.20, 40.1574, 1e-4 ],\n",
    "    [ ql.Barrier.UpOut,   100.00,  0.00, ql.Option.Call, 102.00,  95.00, 0.00, 0.10, 0.5, 0.20,  0.0000, 1e-4 ],\n",
    "    [ ql.Barrier.UpOut,   100.00,  0.00, ql.Option.Call,  98.00,  95.00, 0.00, 0.10, 0.5, 0.20,  0.2676, 1e-4 ],\n",
    "    # 27,28\n",
    "    [ ql.Barrier.DownOut, 100.00,  0.00, ql.Option.Put,  102.00, 105.00, 0.00, 0.10, 0.5, 0.20,  0.2183, 1e-4 ],\n",
    "    [ ql.Barrier.DownOut, 100.00,  0.00, ql.Option.Put,   98.00, 105.00, 0.00, 0.10, 0.5, 0.20,  0.0000, 1e-4 ],\n",
    "    [ ql.Barrier.UpOut,   100.00,  0.00, ql.Option.Put,  102.00,  95.00, 0.00, 0.10, 0.5, 0.20, 17.2983, 1e-4 ],\n",
    "    [ ql.Barrier.UpOut,   100.00,  0.00, ql.Option.Put,   98.00,  95.00, 0.00, 0.10, 0.5, 0.20, 17.0306, 1e-4 ],\n",
    "]"
   ]
  },
  {
   "cell_type": "code",
   "execution_count": null,
   "metadata": {},
   "outputs": [],
   "source": [
    "dc = ql.Actual360()\n",
    "today = ql.Date.todaysDate()"
   ]
  },
  {
   "cell_type": "code",
   "execution_count": null,
   "metadata": {},
   "outputs": [],
   "source": [
    "spot = ql.SimpleQuote(100.0)\n",
    "qRate = ql.SimpleQuote(0.04)\n",
    "qTS = ql.FlatForward(today, ql.QuoteHandle(qRate), dc)\n",
    "rRate = ql.SimpleQuote(0.01)\n",
    "rTS = ql.FlatForward(today, ql.QuoteHandle(rRate), dc)\n",
    "vol = ql.SimpleQuote(0.25)\n",
    "volTS = ql.BlackConstantVol(today, ql.NullCalendar(), ql.QuoteHandle(vol), dc)"
   ]
  },
  {
   "cell_type": "code",
   "execution_count": null,
   "metadata": {},
   "outputs": [],
   "source": [
    "for value in values:\n",
    "    payoff = ql.AssetOrNothingPayoff(value[3], value[4])\n",
    "    exDate = today + int(value[8]*360)\n",
    "    \n",
    "    amExercise = ql.AmericanExercise(today, exDate, True)\n",
    "    \n",
    "    spot.setValue(value[5])\n",
    "    qRate.setValue(value[6])\n",
    "    rRate.setValue(value[7])\n",
    "    vol.setValue(value[9])\n",
    "    \n",
    "    stochProcess = ql.BlackScholesMertonProcess(ql.QuoteHandle(spot),\n",
    "                                               ql.YieldTermStructureHandle(qTS),\n",
    "                                               ql.YieldTermStructureHandle(rTS),\n",
    "                                               ql.BlackVolTermStructureHandle(volTS))\n",
    "    \n",
    "    engine = ql.AnalyticBinaryBarrierEngine(stochProcess)\n",
    "    \n",
    "    opt = ql.BarrierOption(value[0], value[1], 0, payoff, amExercise)\n",
    "    \n",
    "    opt.setPricingEngine(engine)\n",
    "    \n",
    "    calculated = opt.NPV()\n",
    "    \n",
    "    error = abs(calculated - value[10])\n",
    "    if error>value[11]:\n",
    "            print(\"ERROR\")"
   ]
  }
 ],
 "metadata": {
  "kernelspec": {
   "display_name": "Python 3",
   "language": "python",
   "name": "python3"
  },
  "language_info": {
   "codemirror_mode": {
    "name": "ipython",
    "version": 3
   },
   "file_extension": ".py",
   "mimetype": "text/x-python",
   "name": "python",
   "nbconvert_exporter": "python",
   "pygments_lexer": "ipython3",
   "version": "3.6.3"
  }
 },
 "nbformat": 4,
 "nbformat_minor": 2
}
