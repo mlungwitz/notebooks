{
 "cells": [
  {
   "cell_type": "code",
   "execution_count": 1,
   "metadata": {},
   "outputs": [],
   "source": [
    "import QuantLib as ql"
   ]
  },
  {
   "cell_type": "markdown",
   "metadata": {},
   "source": [
    "Testing conversion from YoY cap-floor surface to YoY inflation term structure..."
   ]
  },
  {
   "cell_type": "code",
   "execution_count": 2,
   "metadata": {},
   "outputs": [],
   "source": [
    "evaluationDate = ql.Date(23, 11, 2007)\n",
    "ql.Settings.instance().evaluationDate = evaluationDate"
   ]
  },
  {
   "cell_type": "code",
   "execution_count": 3,
   "metadata": {},
   "outputs": [],
   "source": [
    "nominalEUR = ql.YieldTermStructureHandle()\n",
    "nominalGBP = ql.YieldTermStructureHandle()\n",
    "\n",
    "yoyEU = ql.RelinkableYoYInflationTermStructureHandle()\n",
    "yoyUK = ql.RelinkableYoYInflationTermStructureHandle()\n",
    "\n",
    "cStrikesEU = []\n",
    "fStrikesEU = []\n",
    "cfMaturitiesEU = []\n",
    "cPriceEU = ql.Matrix()\n",
    "fPriceEU = ql.Matrix()\n",
    "\n",
    "cStrikesUK = []\n",
    "fStrikesUK = []\n",
    "cfMaturitiesUK = []\n",
    "cPriceUK = ql.Matrix()\n",
    "fPriceUK = ql.Matrix()"
   ]
  },
  {
   "cell_type": "code",
   "execution_count": 4,
   "metadata": {},
   "outputs": [],
   "source": [
    "yoyIndexUK = ql.YYUKRPIr(True, yoyUK)\n",
    "yoyIndexEU = ql.YYEUHICPr(True, yoyEU)"
   ]
  },
  {
   "cell_type": "code",
   "execution_count": 5,
   "metadata": {},
   "outputs": [],
   "source": [
    "timesEUR = [0.0109589, 0.0684932, 0.263014, 0.317808, 0.567123, 0.816438,\n",
    "               1.06575, 1.31507, 1.56438, 2.0137, 3.01918, 4.01644,\n",
    "               5.01644, 6.01644, 7.01644, 8.01644, 9.02192, 10.0192,\n",
    "               12.0192, 15.0247, 20.0301, 25.0356, 30.0329, 40.0384,\n",
    "               50.0466]\n",
    "ratesEUR = [0.0415600, 0.0426840, 0.0470980, 0.0458506, 0.0449550, 0.0439784,\n",
    "  0.0431887, 0.0426604, 0.0422925, 0.0424591, 0.0421477, 0.0421853,\n",
    "  0.0424016, 0.0426969, 0.0430804, 0.0435011, 0.0439368, 0.0443825,\n",
    "  0.0452589, 0.0463389, 0.0472636, 0.0473401, 0.0470629, 0.0461092,\n",
    "  0.0450794]\n",
    "\n",
    "timesGBP = [0.008219178, 0.010958904, 0.01369863,  0.019178082,  0.073972603,\n",
    "  0.323287671, 0.57260274,  0.821917808, 1.071232877,  1.320547945,\n",
    "  1.506849315, 2.002739726, 3.002739726, 4.002739726,  5.005479452,\n",
    "  6.010958904, 7.008219178, 8.005479452, 9.008219178, 10.00821918,\n",
    "  12.01369863, 15.0109589,  20.01369863, 25.01917808,  30.02191781,\n",
    "  40.03287671, 50.03561644, 60.04109589, 70.04931507]\n",
    "ratesGBP = [0.0577363, 0.0582314, 0.0585265, 0.0587165, 0.0596598,\n",
    "       0.0612506, 0.0589676, 0.0570512, 0.0556147, 0.0546082,\n",
    "       0.0549492, 0.053801, 0.0529333, 0.0524068, 0.0519712,\n",
    "       0.0516615, 0.0513711, 0.0510433, 0.0507974, 0.0504833,\n",
    "       0.0498998, 0.0490464, 0.04768, 0.0464862, 0.045452,\n",
    "       0.0437699, 0.0425311, 0.0420073, 0.041151]\n"
   ]
  },
  {
   "cell_type": "code",
   "execution_count": 6,
   "metadata": {},
   "outputs": [],
   "source": [
    "r = []\n",
    "d = []\n",
    "\n",
    "for time, rate in zip(timesEUR,ratesEUR):\n",
    "    r+=[rate]\n",
    "    ys=int(time)\n",
    "    ds=int((time-ys)*365)\n",
    "    dd=evaluationDate+ql.Period(ys,ql.Years)+ql.Period(ds,ql.Days)\n",
    "    d+=[dd]"
   ]
  },
  {
   "cell_type": "code",
   "execution_count": 7,
   "metadata": {},
   "outputs": [],
   "source": [
    "euriborTS = ql.CubicZeroCurve(d, r, ql.Actual365Fixed())"
   ]
  },
  {
   "cell_type": "code",
   "execution_count": 8,
   "metadata": {},
   "outputs": [],
   "source": [
    "nominalHeur = ql.YieldTermStructureHandle(euriborTS)"
   ]
  },
  {
   "cell_type": "code",
   "execution_count": 9,
   "metadata": {},
   "outputs": [],
   "source": [
    "nominalEUR = nominalHeur"
   ]
  },
  {
   "cell_type": "code",
   "execution_count": 10,
   "metadata": {},
   "outputs": [],
   "source": [
    "d = []\n",
    "r = []\n",
    "\n",
    "for time, rate in zip(timesGBP,ratesGBP):\n",
    "    r+=[rate]\n",
    "    ys=int(time)\n",
    "    ds=int((time-ys)*365)\n",
    "    dd=evaluationDate+ql.Period(ys,ql.Years)+ql.Period(ds,ql.Days)\n",
    "    d+=[dd]"
   ]
  },
  {
   "cell_type": "code",
   "execution_count": 11,
   "metadata": {},
   "outputs": [],
   "source": [
    "gbpLiborTS = ql.CubicZeroCurve(d, r, ql.Actual365Fixed())\n",
    "nominalHgbp = ql.YieldTermStructureHandle(gbpLiborTS)\n",
    "nominalGBP = nominalHgbp"
   ]
  },
  {
   "cell_type": "code",
   "execution_count": 12,
   "metadata": {},
   "outputs": [],
   "source": [
    "# times = years - lag, where the lag is 2 months or 2/12\n",
    "# because this data is derived from cap/floor data that\n",
    "# is based on a 2 month lag.\n",
    "\n",
    "# note that these are NOT swap rates\n",
    "# also not that the first value MUST be in the base period\n",
    "# i.e. the first rate is for a negative time"
   ]
  },
  {
   "cell_type": "code",
   "execution_count": 13,
   "metadata": {},
   "outputs": [],
   "source": [
    "yoyEUrates = [0.0237951,\n",
    "     0.0238749, 0.0240334, 0.0241934, 0.0243567, 0.0245323,\n",
    "     0.0247213, 0.0249348, 0.0251768, 0.0254337, 0.0257258,\n",
    "     0.0260217, 0.0263006, 0.0265538, 0.0267803, 0.0269378,\n",
    "     0.0270608, 0.0271363, 0.0272, 0.0272512, 0.0272927,\n",
    "     0.027317, 0.0273615, 0.0273811, 0.0274063, 0.0274307,\n",
    "     0.0274625, 0.027527, 0.0275952, 0.0276734, 0.027794]"
   ]
  },
  {
   "cell_type": "code",
   "execution_count": 14,
   "metadata": {},
   "outputs": [],
   "source": [
    "d = []\n",
    "r = []\n",
    "\n",
    "baseDate = ql.TARGET().advance(evaluationDate, -2, ql.Months, ql.ModifiedFollowing)\n",
    "\n",
    "for i, rate in enumerate(yoyEUrates):\n",
    "    r+=[rate]\n",
    "    dd= ql.TARGET().advance(baseDate, i, ql.Years, ql.ModifiedFollowing)\n",
    "    d+=[dd]"
   ]
  },
  {
   "cell_type": "code",
   "execution_count": 15,
   "metadata": {},
   "outputs": [],
   "source": [
    "indexIsInterpolated = True # actually false for UKRPI but smooth surfaces are\n",
    "                           # better for finding intersections etc"
   ]
  },
  {
   "cell_type": "code",
   "execution_count": 16,
   "metadata": {},
   "outputs": [],
   "source": [
    "pYTSEU = ql.YoYInflationCurve(evaluationDate, ql.TARGET(), ql.Actual365Fixed(), ql.Period(2, ql.Months), ql.Monthly, indexIsInterpolated, d, r)"
   ]
  },
  {
   "cell_type": "code",
   "execution_count": 17,
   "metadata": {},
   "outputs": [],
   "source": [
    "yoyEU.linkTo(pYTSEU)"
   ]
  },
  {
   "cell_type": "code",
   "execution_count": 18,
   "metadata": {},
   "outputs": [],
   "source": [
    "ncStrikesEU = 6\n",
    "nfStrikesEU = 6\n",
    "ncfMaturitiesEU = 7\n",
    "capStrikesEU = [0.02, 0.025, 0.03, 0.035, 0.04, 0.05]\n",
    "capMaturitiesEU = [ql.Period(i, ql.Years) for i in [3,4,7,10,15,20,30]]\n",
    "capPricesEU =[[116.225, 204.945, 296.285, 434.29, 654.47, 844.775, 1132.33],\n",
    "        [34.305, 71.575, 114.1, 184.33, 307.595, 421.395, 602.35],\n",
    "        [6.37, 19.085, 35.635, 66.42, 127.69, 189.685, 296.195],\n",
    "        [1.325, 5.745, 12.585, 26.945, 58.95, 94.08, 158.985],\n",
    "        [0.501, 2.37, 5.38, 13.065, 31.91, 53.95, 96.97],\n",
    "        [0.501, 0.695, 1.47, 4.415, 12.86, 23.75, 46.7]]"
   ]
  },
  {
   "cell_type": "code",
   "execution_count": 19,
   "metadata": {},
   "outputs": [],
   "source": [
    "floorStrikesEU = [-0.01, 0.00, 0.005, 0.01, 0.015, 0.02]\n",
    "floorPricesEU = [[0.501, 0.851, 2.44, 6.645, 16.23, 26.85, 46.365],\n",
    "                [0.501, 2.236, 5.555, 13.075, 28.46, 44.525, 73.08],\n",
    "                [1.025, 3.935, 9.095, 19.64, 39.93, 60.375, 96.02],\n",
    "                [2.465, 7.885, 16.155, 31.6, 59.34, 86.21, 132.045],\n",
    "                [6.9, 17.92, 32.085, 56.08, 95.95, 132.85, 194.18],\n",
    "                [23.52, 47.625, 74.085, 114.355, 175.72, 229.565, 316.285]]"
   ]
  },
  {
   "cell_type": "code",
   "execution_count": 20,
   "metadata": {},
   "outputs": [],
   "source": [
    "cStrikesEU = capStrikesEU\n",
    "fStrikesEU = floorStrikesEU\n",
    "cfMaturitiesEU = capMaturitiesEU"
   ]
  },
  {
   "cell_type": "code",
   "execution_count": 21,
   "metadata": {},
   "outputs": [],
   "source": [
    "tcPriceEU = ql.Matrix(capPricesEU)\n",
    "tfPriceEU = ql.Matrix(floorPricesEU)\n",
    "cPriceEU = tcPriceEU\n",
    "fPriceEU = tfPriceEU"
   ]
  },
  {
   "cell_type": "code",
   "execution_count": 22,
   "metadata": {},
   "outputs": [],
   "source": [
    "# setupPriceSurface\n",
    "\n",
    "# construct:\n",
    "#  calendar, business day convention, and day counter are\n",
    "#  taken from the nominal base give the reference date for\n",
    "#  the inflation options (generally 2 or 3 months before\n",
    "#  nominal reference date)"
   ]
  },
  {
   "cell_type": "code",
   "execution_count": 23,
   "metadata": {},
   "outputs": [],
   "source": [
    "fixingDays = 0\n",
    "lag = 3 # must be 3 because we use an interpolated index (EU)\n",
    "yyLag = ql.Period(lag,ql.Months)\n",
    "baseRate = 1 # not really used\n",
    "dc = ql.Actual365Fixed()\n",
    "cal = ql.TARGET()\n",
    "bdc = ql.ModifiedFollowing\n",
    "pn = nominalEUR.currentLink()\n",
    "n = ql.YieldTermStructureHandle(pn)"
   ]
  },
  {
   "cell_type": "code",
   "execution_count": 24,
   "metadata": {},
   "outputs": [],
   "source": [
    "cfEUprices = ql.YoYInflationCapFloorTermPriceSurface(fixingDays,\n",
    "                               yyLag, yoyIndexEU, baseRate,\n",
    "                               n, dc,\n",
    "                               cal,    bdc,\n",
    "                               cStrikesEU, fStrikesEU, cfMaturitiesEU,\n",
    "                               cPriceEU, fPriceEU)\n",
    "\n",
    "priceSurfEU = cfEUprices"
   ]
  },
  {
   "cell_type": "code",
   "execution_count": 25,
   "metadata": {},
   "outputs": [],
   "source": [
    "testVol = ql.ConstantYoYOptionletVolatility(0.01, 2, ql.TARGET(), ql.ModifiedFollowing, ql.Actual365Fixed(),\n",
    "ql.Period(3, ql.Months), ql.Annual, True, 0.01, 0.10)"
   ]
  },
  {
   "cell_type": "code",
   "execution_count": 26,
   "metadata": {},
   "outputs": [],
   "source": [
    "hVS = ql.YoYOptionletVolatilitySurfaceHandle()"
   ]
  },
  {
   "cell_type": "code",
   "execution_count": 27,
   "metadata": {},
   "outputs": [],
   "source": [
    "yoyPricerUD = ql.YoYInflationUnitDisplacedBlackCapFloorEngine(yoyIndexEU, hVS, nominalEUR)"
   ]
  },
  {
   "cell_type": "code",
   "execution_count": 28,
   "metadata": {},
   "outputs": [],
   "source": [
    "yoyOptionletStripper = ql.InterpolatedYoYInflationOptionletStripper()"
   ]
  },
  {
   "cell_type": "code",
   "execution_count": 29,
   "metadata": {},
   "outputs": [],
   "source": [
    "settlementDays = 0\n",
    "cal = ql.TARGET()\n",
    "bdc = ql.ModifiedFollowing\n",
    "dc = ql.Actual365Fixed()"
   ]
  },
  {
   "cell_type": "code",
   "execution_count": 30,
   "metadata": {},
   "outputs": [],
   "source": [
    "capFloorPrices = priceSurfEU"
   ]
  },
  {
   "cell_type": "code",
   "execution_count": 31,
   "metadata": {},
   "outputs": [],
   "source": [
    "lag = priceSurfEU.observationLag()"
   ]
  },
  {
   "cell_type": "code",
   "execution_count": 32,
   "metadata": {},
   "outputs": [],
   "source": [
    "slope = -0.5 "
   ]
  },
  {
   "cell_type": "code",
   "execution_count": 33,
   "metadata": {},
   "outputs": [],
   "source": [
    "#when you have bad data, i.e. very low/constant\n",
    "#prices for short dated extreem strikes\n",
    "#then you cannot assume constant caplet vol\n",
    "#(else arbitrage)\n",
    "# N.B. if this is too extreme then can't\n",
    "# get a no-arbitrage solution anyway\n",
    "# the way the slope is used means that the slope is\n",
    "# proportional to the level so higher slopes at\n",
    "# the edges when things are more volatile"
   ]
  },
  {
   "cell_type": "code",
   "execution_count": 34,
   "metadata": {},
   "outputs": [],
   "source": [
    "yoySurf = ql.KInterpolatedYoYInflationOptionletVolatilitySurface(settlementDays,\n",
    "                cal, bdc, dc, lag, capFloorPrices, yoyPricerUD, yoyOptionletStripper, slope)"
   ]
  },
  {
   "cell_type": "code",
   "execution_count": 35,
   "metadata": {},
   "outputs": [],
   "source": [
    "volATyear1 = [\n",
    "      0.0128, 0.0093, 0.0083, 0.0073, 0.0064,\n",
    "      0.0058, 0.0042, 0.0046, 0.0053, 0.0064,\n",
    "      0.0098\n",
    "]"
   ]
  },
  {
   "cell_type": "code",
   "execution_count": 36,
   "metadata": {},
   "outputs": [],
   "source": [
    "volATyear3 = [\n",
    "          0.0079, 0.0058, 0.0051, 0.0045, 0.0039,\n",
    "          0.0035, 0.0026, 0.0028, 0.0033, 0.0039,\n",
    "          0.0060\n",
    "]"
   ]
  },
  {
   "cell_type": "code",
   "execution_count": 37,
   "metadata": {},
   "outputs": [],
   "source": [
    "d = yoySurf.baseDate() + ql.Period(1,ql.Years)"
   ]
  },
  {
   "cell_type": "code",
   "execution_count": 38,
   "metadata": {},
   "outputs": [
    {
     "data": {
      "text/plain": [
       "Date(23,8,2008)"
      ]
     },
     "execution_count": 38,
     "metadata": {},
     "output_type": "execute_result"
    }
   ],
   "source": [
    "d"
   ]
  },
  {
   "cell_type": "code",
   "execution_count": 39,
   "metadata": {},
   "outputs": [],
   "source": [
    "someSlice = yoySurf.Dslice(d)"
   ]
  },
  {
   "cell_type": "code",
   "execution_count": 40,
   "metadata": {},
   "outputs": [
    {
     "name": "stdout",
     "output_type": "stream",
     "text": [
      "0.012757838362256007 0.0128 -4.216163774399366e-05\n",
      "0.00931907485688127 0.0093 1.9074856881269933e-05\n",
      "0.00829322971737263 0.0083 -6.770282627370852e-06\n",
      "0.007316820579013168 0.0073 1.6820579013167997e-05\n",
      "0.006381609813674116 0.0064 -1.8390186325884482e-05\n",
      "0.005709352868561817 0.0058 -9.064713143818251e-05\n",
      "0.0041311939892404136 0.0042 -6.880601075958618e-05\n",
      "0.004587204307701849 0.0046 -1.2795692298150571e-05\n",
      "0.005322986425009469 0.0053 2.2986425009468604e-05\n",
      "0.006391228051211841 0.0064 -8.771948788159449e-06\n",
      "0.009758167514944165 0.0098 -4.183248505583437e-05\n"
     ]
    }
   ],
   "source": [
    "for vol1, vol2 in zip(someSlice[1], volATyear1):\n",
    "    print(vol1, vol2, vol1-vol2)"
   ]
  },
  {
   "cell_type": "code",
   "execution_count": 41,
   "metadata": {},
   "outputs": [],
   "source": [
    "d = yoySurf.baseDate() + ql.Period(3,ql.Years)"
   ]
  },
  {
   "cell_type": "code",
   "execution_count": 42,
   "metadata": {},
   "outputs": [],
   "source": [
    "someOtherSlice = yoySurf.Dslice(d)"
   ]
  },
  {
   "cell_type": "code",
   "execution_count": 43,
   "metadata": {},
   "outputs": [
    {
     "name": "stdout",
     "output_type": "stream",
     "text": [
      "0.007859967336391962 0.0079 -4.003266360803892e-05\n",
      "0.005741679869739384 0.0058 -5.832013026061539e-05\n",
      "0.005105858826016777 0.0051 5.858826016776758e-06\n",
      "0.004500066403007662 0.0045 6.640300766191931e-08\n",
      "0.003919394352907175 0.0039 1.939435290717554e-05\n",
      "0.003499731682437454 0.0035 -2.6831756254602074e-07\n",
      "0.0025279456176045306 0.0026 -7.205438239546924e-05\n",
      "0.0028083852974516424 0.0028 8.385297451642387e-06\n",
      "0.0032636616494645843 0.0033 -3.633835053541571e-05\n",
      "0.003923961946674869 0.0039 2.3961946674869e-05\n",
      "0.005997293558841497 0.006 -2.7064411585028467e-06\n"
     ]
    }
   ],
   "source": [
    "for vol1, vol2 in zip(someOtherSlice[1], volATyear3):\n",
    "    print(vol1, vol2, vol1-vol2)"
   ]
  },
  {
   "cell_type": "code",
   "execution_count": 45,
   "metadata": {},
   "outputs": [],
   "source": [
    "yyATMt  = priceSurfEU.atmYoYSwapTimeRates()"
   ]
  },
  {
   "cell_type": "code",
   "execution_count": 46,
   "metadata": {},
   "outputs": [
    {
     "data": {
      "text/plain": [
       "((3.0027397260273974,\n",
       "  4.002739726027397,\n",
       "  7.005479452054795,\n",
       "  10.008219178082191,\n",
       "  15.01095890410959,\n",
       "  20.013698630136986,\n",
       "  30.02191780821918),\n",
       " (0.024585990653559164,\n",
       "  0.02475752056067443,\n",
       "  0.024939600099273256,\n",
       "  0.02525957610999954,\n",
       "  0.02584977670587058,\n",
       "  0.026288266145827632,\n",
       "  0.026791525496631604))"
      ]
     },
     "execution_count": 46,
     "metadata": {},
     "output_type": "execute_result"
    }
   ],
   "source": [
    "yyATMt"
   ]
  }
 ],
 "metadata": {
  "kernelspec": {
   "display_name": "Python 3",
   "language": "python",
   "name": "python3"
  },
  "language_info": {
   "codemirror_mode": {
    "name": "ipython",
    "version": 3
   },
   "file_extension": ".py",
   "mimetype": "text/x-python",
   "name": "python",
   "nbconvert_exporter": "python",
   "pygments_lexer": "ipython3",
   "version": "3.6.3"
  }
 },
 "nbformat": 4,
 "nbformat_minor": 2
}
