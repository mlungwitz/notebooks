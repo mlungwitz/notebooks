{
 "cells": [
  {
   "cell_type": "markdown",
   "metadata": {},
   "source": [
    "# Andreasen-Huge volatility interpolation tests"
   ]
  },
  {
   "cell_type": "code",
   "execution_count": 1,
   "metadata": {},
   "outputs": [],
   "source": [
    "import QuantLib as ql\n",
    "import math as math\n",
    "import numpy as np\n",
    "import matplotlib.pyplot as plt\n",
    "#%matplotlib inline\n",
    "import seaborn as sbn\n",
    "import sys"
   ]
  },
  {
   "cell_type": "markdown",
   "metadata": {},
   "source": [
    "# Single Option"
   ]
  },
  {
   "cell_type": "code",
   "execution_count": 2,
   "metadata": {},
   "outputs": [],
   "source": [
    "dc = ql.Actual365Fixed()\n",
    "today = ql.Date(4, ql.January, 2018)\n",
    "rTS = ql.YieldTermStructureHandle(ql.FlatForward(today, ql.QuoteHandle(ql.SimpleQuote(0.025)), dc))\n",
    "qTS = ql.YieldTermStructureHandle(ql.FlatForward(today, ql.QuoteHandle(ql.SimpleQuote(0.085)), dc))\n",
    "\n",
    "calibrationSet = []\n",
    "strike = 10.0\n",
    "vol = 0.3\n",
    "maturity = today + ql.Period(1, ql.Years)\n",
    "spot = ql.QuoteHandle(ql.SimpleQuote(strike))\n",
    "\n",
    "calibrationSet = ql.CalibrationSet(\n",
    "    [ql.CalibrationPair(ql.VanillaOption(ql.PlainVanillaPayoff(ql.Option.Call, strike),\n",
    "                                   ql.EuropeanExercise(maturity)),\n",
    "                  ql.SimpleQuote(vol))\n",
    "    ])\n",
    "\n",
    "interpl = [ql.AndreasenHugeVolatilityInterpl.Linear,\n",
    "           ql.AndreasenHugeVolatilityInterpl.CubicSpline,\n",
    "           ql.AndreasenHugeVolatilityInterpl.PiecewiseConstant]\n",
    "\n",
    "calibrationType = [\n",
    "    ql.AndreasenHugeVolatilityInterpl.Call,\n",
    "    ql.AndreasenHugeVolatilityInterpl.Put,\n",
    "    ql.AndreasenHugeVolatilityInterpl.CallPut\n",
    "]\n",
    "\n",
    "for i in range(0, len(interpl)):\n",
    "    for j in range(0, len(calibrationType)):\n",
    "        andreasenHugeVolInterplation = ql.AndreasenHugeVolatilityInterpl(\n",
    "                        calibrationSet, spot, rTS, qTS,\n",
    "                        interpl[i], calibrationType[j], 50)\n",
    "        volatilityAdapter = ql.AndreasenHugeVolatilityAdapter(andreasenHugeVolInterplation)\n",
    "        calculated = volatilityAdapter.blackVol(maturity, strike)\n",
    "        expected = vol\n",
    "        if (abs(calculated - expected) > 1e-4):\n",
    "            print(\"FAILURE\")"
   ]
  },
  {
   "cell_type": "markdown",
   "metadata": {},
   "source": [
    "# Arbitrage-Freeness"
   ]
  },
  {
   "cell_type": "code",
   "execution_count": 3,
   "metadata": {},
   "outputs": [],
   "source": [
    "def BorovkovaExampleData():\n",
    "    dc = ql.Actual365Fixed()\n",
    "    today = ql.Date(4, ql.January, 2018)\n",
    "    rTS = ql.YieldTermStructureHandle(ql.FlatForward(today, ql.QuoteHandle(ql.SimpleQuote(0.025)), dc))\n",
    "    qTS = ql.YieldTermStructureHandle(ql.FlatForward(today, ql.QuoteHandle(ql.SimpleQuote(0.085)), dc))\n",
    "    spot = ql.QuoteHandle(ql.SimpleQuote(100))\n",
    "    b1 = 0.35\n",
    "    b2 = 0.03\n",
    "    b3 = 0.005\n",
    "    b4 = -0.02\n",
    "    b5 = -0.005\n",
    "    strikes = [ 35, 50, 75, 100, 125, 150, 200, 300 ]\n",
    "    maturityMonths = [ 1, 3, 6, 9, 12, 15, 18, 24]\n",
    "    calibrationSet = []\n",
    "    for i in range(0, len(strikes)):\n",
    "        strike = strikes[i]\n",
    "        for j in range(0, len(maturityMonths)):\n",
    "            maturityDate = today + ql.Period(maturityMonths[j], ql.Months)\n",
    "            t = dc.yearFraction(today, maturityDate)\n",
    "            fwd = spot.value()*qTS.discount(t)/rTS.discount(t)\n",
    "            mn = math.log(fwd/strike)/math.sqrt(t)\n",
    "            vol = b1 + b2*mn + b3*mn*mn + b4*t + b5*mn*t\n",
    "            if (abs(mn) < 3.71*vol):\n",
    "                calibrationSet+=[ql.CalibrationPair(ql.VanillaOption(ql.PlainVanillaPayoff(ql.Option.Call, strike),\n",
    "                                   ql.EuropeanExercise(maturityDate)),\n",
    "                                   ql.SimpleQuote(vol))]\n",
    "    data = [ spot, rTS, qTS, ql.CalibrationSet(calibrationSet)]\n",
    "    return data"
   ]
  },
  {
   "cell_type": "code",
   "execution_count": 4,
   "metadata": {},
   "outputs": [],
   "source": [
    "def arbitrageData():\n",
    "    dc = ql.Actual365Fixed()\n",
    "    today = ql.Date(4, ql.January, 2018)\n",
    "    rTS = ql.YieldTermStructureHandle(ql.FlatForward(today, ql.QuoteHandle(ql.SimpleQuote(0.025)), dc))\n",
    "    qTS = ql.YieldTermStructureHandle(ql.FlatForward(today, ql.QuoteHandle(ql.SimpleQuote(0.085)), dc))\n",
    "    spot = ql.QuoteHandle(ql.SimpleQuote(100))\n",
    "    strikes = [ 100, 100, 100, 150 ]\n",
    "    maturities = [1, 3, 6, 6]\n",
    "    vols = [0.25, 0.35, 0.05, 0.35]\n",
    "    calibrationSet = []\n",
    "    for i in range(0, len(strikes)):\n",
    "        strike = strikes[i]\n",
    "        maturityDate = today + ql.Period(maturities[i], ql.Months)\n",
    "\n",
    "        vol = vols[i]\n",
    "        calibrationSet+=[ql.CalibrationPair(ql.VanillaOption(ql.PlainVanillaPayoff(ql.Option.Call, strike),\n",
    "                           ql.EuropeanExercise(maturityDate)),\n",
    "                           ql.SimpleQuote(vol))]\n",
    "    data = [ spot, rTS, qTS, ql.CalibrationSet(calibrationSet)]\n",
    "    return data    \n",
    "    "
   ]
  },
  {
   "cell_type": "code",
   "execution_count": 5,
   "metadata": {},
   "outputs": [],
   "source": [
    "data = [BorovkovaExampleData(), arbitrageData()]"
   ]
  },
  {
   "cell_type": "code",
   "execution_count": 6,
   "metadata": {},
   "outputs": [],
   "source": [
    "for i in range(0, len(data)):\n",
    "    spot = data[i][0]\n",
    "    calibrationSet = data[i][3]\n",
    "    rTS = data[i][1]\n",
    "    qTS = data[i][2]\n",
    "    andreasenHugeVolInterplation = ql.AndreasenHugeVolatilityInterpl(calibrationSet, spot, rTS, qTS,\n",
    "                                                                    ql.AndreasenHugeVolatilityInterpl.CubicSpline,\n",
    "                                                                    ql.AndreasenHugeVolatilityInterpl.CallPut,\n",
    "                                                                    5000)\n",
    "    volatilityAdapter = ql.AndreasenHugeVolatilityAdapter(andreasenHugeVolInterplation)\n",
    "    for m in np.arange(-0.7, 0.7, 0.05):\n",
    "        for weeks in range(6, 52):\n",
    "            maturityDate = today + ql.Period(weeks, ql.Weeks)\n",
    "            t = dc.yearFraction(today, maturityDate)\n",
    "            fwd = spot.value()*qTS.discount(t)/rTS.discount(t)\n",
    "            eps = 0.025\n",
    "            k  = fwd*math.exp(m)\n",
    "            km = fwd*math.exp(m - eps)\n",
    "            kp = fwd*math.exp(m + eps)\n",
    "            w = volatilityAdapter.blackVariance(t, k, True)\n",
    "            w_p = volatilityAdapter.blackVariance(t, kp, True)\n",
    "            w_m = volatilityAdapter.blackVariance(t, km, True)\n",
    "            w1 = (w_p - w_m)/(2*eps)\n",
    "            w2 = (w_p + w_m - 2*w)/(eps*eps)\n",
    "            g_k = math.pow((1-m*w1/(2*w))\n",
    "                    - w1*w1/4*(1/w + 0.25) + 0.5*w2, 2)\n",
    "            if (g_k < 0):\n",
    "                print(\"FAILURE\")\n",
    "            deltaT = 1.0/365.\n",
    "            fwdpt = spot.value()*qTS.discount(t+deltaT)/rTS.discount(t+deltaT)\n",
    "            kpt = fwdpt*math.exp(m)\n",
    "            w_pt = volatilityAdapter.blackVariance(t+deltaT, kpt, True)\n",
    "            w_t = (w_pt - w)/deltaT\n",
    "            if (w_t < -1e-8):\n",
    "                print(\"FAILURE\")"
   ]
  },
  {
   "cell_type": "code",
   "execution_count": 7,
   "metadata": {},
   "outputs": [],
   "source": [
    "strikes = [fwd*math.exp(m) for m in np.arange(-0.7, 0.7, 0.05)]\n",
    "maturities = range(6, 52)\n",
    "maturityDates = [ today + ql.Period(weeks, ql.Weeks) for weeks in maturities]\n",
    "vols = [[volatilityAdapter.blackVol(m, s, True) for s in strikes] for m in  maturityDates]"
   ]
  },
  {
   "cell_type": "code",
   "execution_count": 8,
   "metadata": {},
   "outputs": [
    {
     "data": {
      "image/png": "[encoded data removed]",
      "text/plain": [
       "<matplotlib.figure.Figure at 0x205f4bace48>"
      ]
     },
     "metadata": {},
     "output_type": "display_data"
    }
   ],
   "source": [
    "# This import registers the 3D projection, but is otherwise unused.\n",
    "from mpl_toolkits.mplot3d import Axes3D  \n",
    "\n",
    "from matplotlib import cm\n",
    "fig = plt.figure()\n",
    "ax = fig.gca(projection='3d')\n",
    "\n",
    "# Make data.\n",
    "strikes = np.array([fwd*math.exp(m) for m in np.arange(-0.7, 0.7, 0.05)])\n",
    "weeks = np.arange(6, 52)\n",
    "strikes, weeks = np.meshgrid(strikes, weeks)\n",
    "vol_vect = np.vectorize(lambda s, m: volatilityAdapter.blackVol(m*7/365, s, True))\n",
    "Z = vol_vect(strikes, weeks)\n",
    "\n",
    "# Plot the surface.\n",
    "surf = ax.plot_surface(strikes, weeks, Z, cmap=cm.coolwarm,\n",
    "                       linewidth=0, antialiased=False)\n",
    "\n",
    "# Add a color bar which maps values to colors.\n",
    "fig.colorbar(surf, shrink=0.5, aspect=5)\n",
    "plt.show()"
   ]
  },
  {
   "cell_type": "markdown",
   "metadata": {},
   "source": [
    "# Peter's and Fabien's SABR Example"
   ]
  },
  {
   "cell_type": "code",
   "execution_count": 9,
   "metadata": {},
   "outputs": [],
   "source": [
    "def sabrData():\n",
    "    dc = ql.Actual365Fixed()\n",
    "    today = ql.Date(4, ql.January, 2018)\n",
    "\n",
    "    alpha = 0.15\n",
    "    beta = 0.8\n",
    "    nu = 0.5\n",
    "    rho = -0.48\n",
    "    forward = 0.03\n",
    "    maturityInYears = 20\n",
    "    maturityDate = today + ql.Period(maturityInYears, ql.Years)\n",
    "    maturity = dc.yearFraction(today, maturityDate)\n",
    "    \n",
    "    calibrationSet = []\n",
    "    strikes = [ 0.02, 0.025, 0.03, 0.035, 0.04, 0.05, 0.06 ]\n",
    "    for i in range(0, len(strikes)):\n",
    "        strike = strikes[i]\n",
    "        vol = ql.sabrVolatility(\n",
    "               strike, forward, maturity, alpha, beta, nu, rho)\n",
    "        calibrationSet+=[ql.CalibrationPair(ql.VanillaOption(ql.PlainVanillaPayoff(ql.Option.Call, strike),\n",
    "                           ql.EuropeanExercise(maturityDate)),\n",
    "                           ql.SimpleQuote(vol))]\n",
    "   \n",
    "    \n",
    "    rTS = ql.YieldTermStructureHandle(ql.FlatForward(today, ql.QuoteHandle(ql.SimpleQuote(forward)), dc))\n",
    "    qTS = ql.YieldTermStructureHandle(ql.FlatForward(today, ql.QuoteHandle(ql.SimpleQuote(forward)), dc))\n",
    "    spot = ql.QuoteHandle(ql.SimpleQuote(forward))\n",
    "    \n",
    "    data = [spot, rTS, qTS, ql.CalibrationSet(calibrationSet)]\n",
    "\n",
    "    parameter = [alpha, beta, nu, rho, forward, maturity]\n",
    "    return [data, parameter]\n"
   ]
  },
  {
   "cell_type": "code",
   "execution_count": 10,
   "metadata": {},
   "outputs": [],
   "source": [
    "sd = sabrData()\n",
    "data = sd[0]\n",
    "parameter = sd[1]\n",
    "\n",
    "andreasenHugeVolInterplation = ql.AndreasenHugeVolatilityInterpl(data[3], data[0], data[1], data[2])\n",
    "volAdapter = ql.AndreasenHugeVolatilityAdapter(andreasenHugeVolInterplation)\n",
    "alpha    = parameter[0]\n",
    "beta     = parameter[1]\n",
    "nu       = parameter[2]\n",
    "rho      = parameter[3]\n",
    "forward  = parameter[4]\n",
    "maturity = parameter[5]\n",
    "\n",
    "for strike in np.arange(0.02, 0.06, 0.001):\n",
    "    sabrVol = ql.sabrVolatility(\n",
    "           strike, forward, maturity, alpha, beta, nu, rho)\n",
    "    ahVol = volAdapter.blackVol(maturity, strike, True)\n",
    "    tol = 0.0005\n",
    "    diff = abs(sabrVol - ahVol)\n",
    "    \n",
    "    if (not ahVol or diff > 0.005):\n",
    "        print(\"FAILURE\")"
   ]
  },
  {
   "cell_type": "markdown",
   "metadata": {},
   "source": [
    "# Different optimizer for Andreasen-Huge"
   ]
  },
  {
   "cell_type": "code",
   "execution_count": 11,
   "metadata": {
    "scrolled": true
   },
   "outputs": [],
   "source": [
    "data = sabrData()[0]\n",
    "\n",
    "optimizationMethods = [\n",
    "    ql.LevenbergMarquardt(),\n",
    "    ql.BFGS(),\n",
    "    ql.Simplex(0.2)\n",
    "]\n",
    "\n",
    "for optimizationMethod in optimizationMethods:\n",
    "    calibError =  ql.AndreasenHugeVolatilityInterpl(\n",
    "            data[3], data[0], data[1], data[2],\n",
    "            ql.AndreasenHugeVolatilityInterpl.CubicSpline,\n",
    "            ql.AndreasenHugeVolatilityInterpl.Call,\n",
    "            400, ql.nullDouble(), ql.nullDouble(),\n",
    "            optimizationMethod).calibrationError()\n",
    "    avgError = calibError.third()\n",
    "    if (not avgError or avgError > 0.0001):\n",
    "        print(\"FAILURE\")\n",
    "   "
   ]
  },
  {
   "cell_type": "markdown",
   "metadata": {},
   "source": [
    "# Testing that reference date of adapter surface moves along with eval date"
   ]
  },
  {
   "cell_type": "code",
   "execution_count": 12,
   "metadata": {},
   "outputs": [],
   "source": [
    "today = ql.Date(4, ql.January, 2018)\n",
    "ql.Settings.instance().evaluationDate = today\n",
    "\n",
    "dc = ql.Actual365Fixed()\n",
    "maturity = today + ql.Period(1, ql.Months);\n",
    "\n",
    "ts = ql.YieldTermStructureHandle(ql.FlatForward(0, ql.NullCalendar(), ql.QuoteHandle(ql.SimpleQuote(0.04)), dc))\n",
    "\n",
    "s0 = 100.0\n",
    "impliedVol = 0.2\n",
    "spot = ql.QuoteHandle(ql.SimpleQuote(s0))"
   ]
  },
  {
   "cell_type": "code",
   "execution_count": 13,
   "metadata": {},
   "outputs": [],
   "source": [
    "calibrationSet = ql.CalibrationSet([ql.CalibrationPair(ql.VanillaOption(ql.PlainVanillaPayoff(ql.Option.Call, s0),\n",
    "                           ql.EuropeanExercise(maturity)),\n",
    "                           ql.SimpleQuote(impliedVol))])"
   ]
  },
  {
   "cell_type": "code",
   "execution_count": 14,
   "metadata": {},
   "outputs": [],
   "source": [
    "andreasenHugeVolInterplation = ql.AndreasenHugeVolatilityInterpl(calibrationSet, spot, ts, ts)"
   ]
  },
  {
   "cell_type": "code",
   "execution_count": 15,
   "metadata": {},
   "outputs": [],
   "source": [
    "tol = 1e-8"
   ]
  },
  {
   "cell_type": "code",
   "execution_count": 16,
   "metadata": {},
   "outputs": [],
   "source": [
    "volatilityAdapter = ql.AndreasenHugeVolatilityAdapter(andreasenHugeVolInterplation, tol)"
   ]
  },
  {
   "cell_type": "code",
   "execution_count": 17,
   "metadata": {},
   "outputs": [],
   "source": [
    "localVolAdapter = ql.AndreasenHugeLocalVolAdapter(andreasenHugeVolInterplation)"
   ]
  },
  {
   "cell_type": "code",
   "execution_count": 18,
   "metadata": {},
   "outputs": [],
   "source": [
    "volRefDate = volatilityAdapter.referenceDate()"
   ]
  },
  {
   "cell_type": "code",
   "execution_count": 19,
   "metadata": {},
   "outputs": [],
   "source": [
    "localRefDate = localVolAdapter.referenceDate()"
   ]
  },
  {
   "cell_type": "code",
   "execution_count": 20,
   "metadata": {},
   "outputs": [],
   "source": [
    "if (volRefDate != today or localRefDate != today):\n",
    "    print(\"FAILURE\")"
   ]
  },
  {
   "cell_type": "code",
   "execution_count": 21,
   "metadata": {},
   "outputs": [],
   "source": [
    "modToday = ql.Date(15, ql.January, 2018)"
   ]
  },
  {
   "cell_type": "code",
   "execution_count": 22,
   "metadata": {},
   "outputs": [],
   "source": [
    "ql.Settings.instance().evaluationDate = modToday"
   ]
  },
  {
   "cell_type": "code",
   "execution_count": 23,
   "metadata": {},
   "outputs": [],
   "source": [
    "modVolRefDate = volatilityAdapter.referenceDate()\n",
    "modLocalRefDate = localVolAdapter.referenceDate()"
   ]
  },
  {
   "cell_type": "code",
   "execution_count": 24,
   "metadata": {},
   "outputs": [],
   "source": [
    "if (modVolRefDate != modToday or modLocalRefDate != modToday):\n",
    "    print(\"FAILURE\")"
   ]
  },
  {
   "cell_type": "code",
   "execution_count": 25,
   "metadata": {},
   "outputs": [],
   "source": [
    "modImpliedVol = volatilityAdapter.blackVol(maturity, s0, True)"
   ]
  },
  {
   "cell_type": "code",
   "execution_count": 26,
   "metadata": {},
   "outputs": [],
   "source": [
    "diff = abs(modImpliedVol - impliedVol)"
   ]
  },
  {
   "cell_type": "code",
   "execution_count": 27,
   "metadata": {},
   "outputs": [],
   "source": [
    "if (diff > 10*tol):\n",
    "    print(\"FAILURE\")"
   ]
  },
  {
   "cell_type": "markdown",
   "metadata": {},
   "source": [
    "# Andreasen-Huge example with Put calibration"
   ]
  },
  {
   "cell_type": "code",
   "execution_count": 28,
   "metadata": {},
   "outputs": [],
   "source": [
    "def AndreasenHugeExampleData():\n",
    "    spot = ql.QuoteHandle(ql.SimpleQuote(2772.7))\n",
    "    maturityTimes = [0.025, 0.101, 0.197, 0.274, 0.523, 0.772,\n",
    "                  1.769, 2.267, 2.784, 3.781, 4.778, 5.774]\n",
    "    raw = [\n",
    "            [ 0.5131, 0.0000, 0.0000, 0.0000, 0.0000, 0.0000, 0.0000, 0.0000, 0.0000, 0.3366, 0.3291, 0.0000, 0.0000 ],\n",
    "            [ 0.5864, 0.0000, 0.0000, 0.0000, 0.0000, 0.0000, 0.0000, 0.0000, 0.0000, 0.3178, 0.3129, 0.3008, 0.0000 ],\n",
    "            [ 0.6597, 0.0000, 0.0000, 0.0000, 0.0000, 0.0000, 0.0000, 0.0000, 0.0000, 0.3019, 0.2976, 0.2975, 0.0000 ],\n",
    "            [ 0.7330, 0.0000, 0.0000, 0.0000, 0.0000, 0.0000, 0.0000, 0.0000, 0.0000, 0.2863, 0.2848, 0.2848, 0.0000 ],\n",
    "            [ 0.7697, 0.0000, 0.0000, 0.0000, 0.3262, 0.3079, 0.3001, 0.2843, 0.0000, 0.0000, 0.0000, 0.0000, 0.0000 ],\n",
    "            [ 0.8063, 0.0000, 0.0000, 0.0000, 0.3058, 0.2936, 0.2876, 0.2753, 0.2713, 0.2711, 0.2711, 0.2722, 0.2809 ],\n",
    "            [ 0.8430, 0.0000, 0.0000, 0.0000, 0.2887, 0.2798, 0.2750, 0.2666, 0.0000, 0.0000, 0.0000, 0.0000, 0.0000 ],\n",
    "            [ 0.8613, 0.3365, 0.0000, 0.0000, 0.0000, 0.0000, 0.0000, 0.0000, 0.0000, 0.0000, 0.0000, 0.0000, 0.0000 ],\n",
    "            [ 0.8796, 0.3216, 0.2906, 0.2764, 0.2717, 0.2663, 0.2637, 0.2575, 0.2555, 0.2580, 0.2585, 0.2611, 0.2693 ],\n",
    "            [ 0.8979, 0.3043, 0.2797, 0.2672, 0.0000, 0.0000, 0.0000, 0.0000, 0.0000, 0.0000, 0.0000, 0.0000, 0.0000 ],\n",
    "            [ 0.9163, 0.2880, 0.2690, 0.2578, 0.2557, 0.2531, 0.2519, 0.2497, 0.0000, 0.0000, 0.0000, 0.0000, 0.0000 ],\n",
    "            [ 0.9346, 0.2724, 0.2590, 0.2489, 0.0000, 0.0000, 0.0000, 0.0000, 0.0000, 0.0000, 0.0000, 0.0000, 0.0000 ],\n",
    "            [ 0.9529, 0.2586, 0.2488, 0.2405, 0.2407, 0.2404, 0.2411, 0.2418, 0.2410, 0.2448, 0.2469, 0.2501, 0.2584 ],\n",
    "            [ 0.9712, 0.2466, 0.2390, 0.2329, 0.0000, 0.0000, 0.0000, 0.0000, 0.0000, 0.0000, 0.0000, 0.0000, 0.0000 ],\n",
    "            [ 0.9896, 0.2358, 0.2300, 0.2253, 0.2269, 0.2284, 0.2299, 0.2347, 0.0000, 0.0000, 0.0000, 0.0000, 0.0000 ],\n",
    "            [ 1.0079, 0.2247, 0.2213, 0.2184, 0.0000, 0.0000, 0.0000, 0.0000, 0.0000, 0.0000, 0.0000, 0.0000, 0.0000 ],\n",
    "            [ 1.0262, 0.2159, 0.2140, 0.2123, 0.2142, 0.2173, 0.2198, 0.2283, 0.2275, 0.2322, 0.2384, 0.2392, 0.2486 ],\n",
    "            [ 1.0445, 0.2091, 0.2076, 0.2069, 0.0000, 0.0000, 0.0000, 0.0000, 0.0000, 0.0000, 0.0000, 0.0000, 0.0000 ],\n",
    "            [ 1.0629, 0.2056, 0.2024, 0.2025, 0.2039, 0.2074, 0.2104, 0.2213, 0.0000, 0.0000, 0.0000, 0.0000, 0.0000 ],\n",
    "            [ 1.0812, 0.2045, 0.1982, 0.1984, 0.0000, 0.0000, 0.0000, 0.0000, 0.0000, 0.0000, 0.0000, 0.0000, 0.0000 ],\n",
    "            [ 1.0995, 0.2025, 0.1959, 0.1944, 0.1962, 0.1988, 0.2022, 0.2151, 0.2161, 0.2219, 0.2269, 0.2305, 0.2399 ],\n",
    "            [ 1.1178, 0.1933, 0.1929, 0.1920, 0.0000, 0.0000, 0.0000, 0.0000, 0.0000, 0.0000, 0.0000, 0.0000, 0.0000 ],\n",
    "            [ 1.1362, 0.0000, 0.0000, 0.0000, 0.1902, 0.1914, 0.1950, 0.2091, 0.0000, 0.0000, 0.0000, 0.0000, 0.0000 ],\n",
    "            [ 1.1728, 0.0000, 0.0000, 0.0000, 0.1885, 0.1854, 0.1888, 0.2039, 0.2058, 0.2122, 0.2186, 0.2223, 0.2321 ],\n",
    "            [ 1.2095, 0.0000, 0.0000, 0.0000, 0.1867, 0.1811, 0.1839, 0.1990, 0.0000, 0.0000, 0.0000, 0.0000, 0.0000 ],\n",
    "            [ 1.2461, 0.0000, 0.0000, 0.0000, 0.1871, 0.1785, 0.1793, 0.1945, 0.0000, 0.2054, 0.2103, 0.2164, 0.2251 ],\n",
    "            [ 1.3194, 0.0000, 0.0000, 0.0000, 0.0000, 0.0000, 0.0000, 0.0000, 0.0000, 0.1988, 0.2054, 0.2105, 0.2190 ],\n",
    "            [ 1.3927, 0.0000, 0.0000, 0.0000, 0.0000, 0.0000, 0.0000, 0.0000, 0.0000, 0.1930, 0.2002, 0.2054, 0.2135 ],\n",
    "            [ 1.4660, 0.0000, 0.0000, 0.0000, 0.0000, 0.0000, 0.0000, 0.0000, 0.0000, 0.1849, 0.1964, 0.2012, 0.0000 ]\n",
    "        ]\n",
    "    \n",
    "    dc = ql.Actual365Fixed()\n",
    "    today = ql.Date(1, ql.March, 2010)\n",
    "    rTS = ql.YieldTermStructureHandle(ql.FlatForward(today, ql.QuoteHandle(ql.SimpleQuote(0.0)), dc))\n",
    "    qTS = ql.YieldTermStructureHandle(ql.FlatForward(today, ql.QuoteHandle(ql.SimpleQuote(0.0)), dc))\n",
    "    nStrikes = len(raw)\n",
    "    nMaturities = len(maturityTimes)\n",
    "    if not nMaturities == len(raw[1])-1:\n",
    "        print(\"FAILURE\")\n",
    "    calibrationSet = []\n",
    "    for i in range(0,len(raw)):\n",
    "        strike = spot.value()*raw[i][0]\n",
    "        for j in range(1, len(raw[i])):\n",
    "            if (raw[i][j] > sys.float_info.epsilon):\n",
    "                maturity = today + ql.Period(int(365*maturityTimes[j-1]), ql.Days)\n",
    "                impliedVol = raw[i][j]\n",
    "                if strike < spot.value():\n",
    "                    option_type = ql.Option.Put\n",
    "                else:\n",
    "                    option_type = ql.Option.Call\n",
    "                calibrationSet+=[ql.CalibrationPair(ql.VanillaOption(ql.PlainVanillaPayoff(option_type, strike),\n",
    "                           ql.EuropeanExercise(maturity)),\n",
    "                           ql.SimpleQuote(impliedVol))]\n",
    "    data = [spot, rTS, qTS, ql.CalibrationSet(calibrationSet)]\n",
    "    return data"
   ]
  },
  {
   "cell_type": "code",
   "execution_count": 29,
   "metadata": {},
   "outputs": [],
   "source": [
    "data = AndreasenHugeExampleData()"
   ]
  },
  {
   "cell_type": "code",
   "execution_count": 30,
   "metadata": {},
   "outputs": [],
   "source": [
    "expected = [\n",
    "        ql.AndreasenHugeVolatilityInterpl.Put,\n",
    "        ql.AndreasenHugeVolatilityInterpl.CubicSpline,\n",
    "        0.0015, 0.00035,\n",
    "        0.0020, 0.00035\n",
    "]"
   ]
  },
  {
   "cell_type": "code",
   "execution_count": 39,
   "metadata": {},
   "outputs": [],
   "source": [
    "def testAndreasenHugeVolatilityInterpolation(data, expected):\n",
    "    rTS = data[1]\n",
    "    qTS = data[2]\n",
    "    dc = rTS.dayCounter()\n",
    "    today = rTS.referenceDate()\n",
    "    ql.Settings.instance().evaluationDate = today\n",
    "    spot = data[0]\n",
    "    calibrationSet = data[3]\n",
    "    \n",
    "    andreasenHugeVolInterplation = ql.AndreasenHugeVolatilityInterpl(calibrationSet, spot, rTS, qTS,\n",
    "                    expected[1],\n",
    "                    expected[0])\n",
    "    error = andreasenHugeVolInterplation.calibrationError()\n",
    "    maxError = error.second()\n",
    "    avgError = error.third()\n",
    "    \n",
    "    if (maxError > expected[2] or avgError > expected[3]):\n",
    "        print(\"FAILURE\")\n",
    "        \n",
    "    volatilityAdapter = ql.AndreasenHugeVolatilityAdapter(andreasenHugeVolInterplation)\n",
    "    localVolAdapter = ql.AndreasenHugeLocalVolAdapter(andreasenHugeVolInterplation)\n",
    "    localVolProcess = ql.GeneralizedBlackScholesProcess(spot, qTS, rTS,\n",
    "                                                       ql.BlackVolTermStructureHandle(volatilityAdapter),\n",
    "                                                       ql.LocalVolTermStructureHandle(localVolAdapter))\n",
    "    lvAvgError = 0.0\n",
    "    lvMaxError = 0.0\n",
    "    n=0\n",
    "    for i in range(0, len(calibrationSet)):\n",
    "        option = calibrationSet[i][0]\n",
    "        payoff = option.payoff()\n",
    "        payoff = ql.as_plain_vanilla_payoff(payoff)\n",
    "        strike = payoff.strike()\n",
    "        optionType = payoff.optionType()\n",
    "        t = dc.yearFraction(today, option.exercise().lastDate())\n",
    "        expectedVol = calibrationSet[i][1].value()\n",
    "        calculatedVol = volatilityAdapter.blackVol(t, strike, True)\n",
    "        diffVol = abs(expectedVol - calculatedVol)\n",
    "        tol = max(1e-10, 1.01*maxError)\n",
    "        if (diffVol > tol):\n",
    "            print(\"FAILURE\")\n",
    "            \n",
    "        fdEngine = ql.FdBlackScholesVanillaEngine(localVolProcess, max(30, int(100*t)),\n",
    "                    200, 0, ql.FdmSchemeDesc.Douglas(), True)\n",
    "        \n",
    "        option.setPricingEngine(fdEngine)\n",
    "        discount = rTS.discount(t)\n",
    "        fwd = spot.value()*qTS.discount(t)/discount\n",
    "        lvImpliedVol = ql.blackFormulaImpliedStdDevLiRS(\n",
    "                optionType, strike, fwd, option.NPV(),\n",
    "                discount, 0.0, ql.nullDouble(), 1.0, 1e-12)/math.sqrt(t)\n",
    "        \n",
    "        lvError = abs(lvImpliedVol - expectedVol)\n",
    "        lvMaxError = max(lvError, lvMaxError)\n",
    "        lvAvgError = (n*lvAvgError + lvError)/(n+1)\n",
    "        n+=1\n",
    "    if (lvMaxError > expected[4] or avgError > expected[5]):\n",
    "        print(\"FAILURE\")"
   ]
  },
  {
   "cell_type": "code",
   "execution_count": 40,
   "metadata": {},
   "outputs": [],
   "source": [
    "testAndreasenHugeVolatilityInterpolation(data, expected)"
   ]
  },
  {
   "cell_type": "markdown",
   "metadata": {},
   "source": [
    "# Andreasen-Huge example with Call calibration"
   ]
  },
  {
   "cell_type": "code",
   "execution_count": 41,
   "metadata": {},
   "outputs": [],
   "source": [
    "data = AndreasenHugeExampleData()\n",
    "\n",
    "expected = [\n",
    "        ql.AndreasenHugeVolatilityInterpl.Call,\n",
    "        ql.AndreasenHugeVolatilityInterpl.CubicSpline,\n",
    "        0.0015, 0.00035,\n",
    "        0.0015, 0.00035\n",
    "]\n",
    "\n",
    "testAndreasenHugeVolatilityInterpolation(data, expected)"
   ]
  },
  {
   "cell_type": "markdown",
   "metadata": {},
   "source": [
    "#  Andreasen-Huge example with instantaneous Call and Put calibration"
   ]
  },
  {
   "cell_type": "code",
   "execution_count": 42,
   "metadata": {},
   "outputs": [],
   "source": [
    "data = AndreasenHugeExampleData()\n",
    "\n",
    "expected = [\n",
    "        ql.AndreasenHugeVolatilityInterpl.CallPut,\n",
    "        ql.AndreasenHugeVolatilityInterpl.CubicSpline,\n",
    "        0.0015, 0.00035,\n",
    "        0.0015, 0.00035\n",
    "]\n",
    "\n",
    "testAndreasenHugeVolatilityInterpolation(data, expected)"
   ]
  },
  {
   "cell_type": "markdown",
   "metadata": {},
   "source": [
    "# Andreasen-Huge example with linear interpolation"
   ]
  },
  {
   "cell_type": "code",
   "execution_count": 43,
   "metadata": {},
   "outputs": [],
   "source": [
    "data = AndreasenHugeExampleData()\n",
    "\n",
    "expected = [\n",
    "        ql.AndreasenHugeVolatilityInterpl.CallPut,\n",
    "        ql.AndreasenHugeVolatilityInterpl.Linear,\n",
    "        0.0020, 0.00015,\n",
    "        0.0040, 0.00035\n",
    "]\n",
    "\n",
    "testAndreasenHugeVolatilityInterpolation(data, expected)"
   ]
  },
  {
   "cell_type": "markdown",
   "metadata": {},
   "source": [
    "# Andreasen-Huge example with piecewise constant interpolation"
   ]
  },
  {
   "cell_type": "code",
   "execution_count": 44,
   "metadata": {},
   "outputs": [],
   "source": [
    "data = AndreasenHugeExampleData()\n",
    "\n",
    "expected = [\n",
    "        ql.AndreasenHugeVolatilityInterpl.CallPut,\n",
    "        ql.AndreasenHugeVolatilityInterpl.PiecewiseConstant,\n",
    "        0.0025, 0.00025,\n",
    "        0.0040, 0.00035\n",
    "]\n",
    "\n",
    "testAndreasenHugeVolatilityInterpolation(data, expected)"
   ]
  },
  {
   "cell_type": "markdown",
   "metadata": {},
   "source": [
    "# Barrier option pricing with Andreasen-Huge local volatility surface"
   ]
  },
  {
   "cell_type": "code",
   "execution_count": 47,
   "metadata": {},
   "outputs": [],
   "source": [
    "# ToDo"
   ]
  },
  {
   "cell_type": "markdown",
   "metadata": {},
   "source": [
    "# Andreasen-Huge volatility interpolation with time dependent interest rates and dividend yield"
   ]
  },
  {
   "cell_type": "code",
   "execution_count": 48,
   "metadata": {},
   "outputs": [],
   "source": [
    "# ToDo"
   ]
  }
 ],
 "metadata": {
  "kernelspec": {
   "display_name": "Python 3",
   "language": "python",
   "name": "python3"
  },
  "language_info": {
   "codemirror_mode": {
    "name": "ipython",
    "version": 3
   },
   "file_extension": ".py",
   "mimetype": "text/x-python",
   "name": "python",
   "nbconvert_exporter": "python",
   "pygments_lexer": "ipython3",
   "version": "3.6.3"
  }
 },
 "nbformat": 4,
 "nbformat_minor": 2
}
