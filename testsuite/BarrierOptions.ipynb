{
 "cells": [
  {
   "cell_type": "code",
   "execution_count": 1,
   "metadata": {},
   "outputs": [],
   "source": [
    "import QuantLib as ql"
   ]
  },
  {
   "cell_type": "markdown",
   "metadata": {},
   "source": [
    "# Testing that knock-in plus knock-out barrier options replicate a European option.."
   ]
  },
  {
   "cell_type": "code",
   "execution_count": 2,
   "metadata": {},
   "outputs": [],
   "source": [
    "today = ql.Settings.instance().evaluationDate"
   ]
  },
  {
   "cell_type": "code",
   "execution_count": 3,
   "metadata": {},
   "outputs": [],
   "source": [
    "dc = ql.Actual360()"
   ]
  },
  {
   "cell_type": "code",
   "execution_count": 19,
   "metadata": {},
   "outputs": [],
   "source": [
    "spot = ql.SimpleQuote(100.0)\n",
    "rTS = ql.FlatForward(today, 0.01, dc)\n",
    "volTS = ql.BlackConstantVol(today, ql.NullCalendar(),0.20, dc)\n",
    "volHandle = ql.RelinkableBlackVolTermStructureHandle(volTS)"
   ]
  },
  {
   "cell_type": "code",
   "execution_count": 20,
   "metadata": {},
   "outputs": [],
   "source": [
    "stochProcess = ql.BlackScholesProcess(ql.QuoteHandle(spot),\n",
    "                                      ql.YieldTermStructureHandle(rTS),\n",
    "                                      volHandle)"
   ]
  },
  {
   "cell_type": "code",
   "execution_count": 21,
   "metadata": {},
   "outputs": [],
   "source": [
    "exerciseDate = today + ql.Period(6,ql.Months)"
   ]
  },
  {
   "cell_type": "code",
   "execution_count": 22,
   "metadata": {},
   "outputs": [],
   "source": [
    "payoff = ql.PlainVanillaPayoff(ql.Option.Call, 100.0)"
   ]
  },
  {
   "cell_type": "code",
   "execution_count": 23,
   "metadata": {},
   "outputs": [],
   "source": [
    "exercise = ql.EuropeanExercise(exerciseDate)"
   ]
  },
  {
   "cell_type": "code",
   "execution_count": 24,
   "metadata": {},
   "outputs": [],
   "source": [
    "knockIn = ql.BarrierOption(ql.Barrier.DownIn, 90.0, 0.0, payoff, exercise)"
   ]
  },
  {
   "cell_type": "code",
   "execution_count": 25,
   "metadata": {},
   "outputs": [],
   "source": [
    "knockOut = ql.BarrierOption(ql.Barrier.DownOut, 90.0, 0.0, payoff, exercise)"
   ]
  },
  {
   "cell_type": "code",
   "execution_count": 27,
   "metadata": {},
   "outputs": [],
   "source": [
    "european = ql.EuropeanOption(payoff, exercise)"
   ]
  },
  {
   "cell_type": "code",
   "execution_count": 28,
   "metadata": {},
   "outputs": [],
   "source": [
    "barrierEngine = ql.AnalyticBarrierEngine(stochProcess)"
   ]
  },
  {
   "cell_type": "code",
   "execution_count": 29,
   "metadata": {},
   "outputs": [],
   "source": [
    "europeanEngine = ql.AnalyticEuropeanEngine(stochProcess)"
   ]
  },
  {
   "cell_type": "code",
   "execution_count": 30,
   "metadata": {},
   "outputs": [],
   "source": [
    "knockIn.setPricingEngine(barrierEngine)\n",
    "knockOut.setPricingEngine(barrierEngine)\n",
    "european.setPricingEngine(europeanEngine)"
   ]
  },
  {
   "cell_type": "code",
   "execution_count": 31,
   "metadata": {},
   "outputs": [
    {
     "data": {
      "text/plain": [
       "0.4498304620130513"
      ]
     },
     "execution_count": 31,
     "metadata": {},
     "output_type": "execute_result"
    }
   ],
   "source": [
    "knockIn.NPV()"
   ]
  },
  {
   "cell_type": "code",
   "execution_count": 32,
   "metadata": {},
   "outputs": [
    {
     "data": {
      "text/plain": [
       "5.4767787788428235"
      ]
     },
     "execution_count": 32,
     "metadata": {},
     "output_type": "execute_result"
    }
   ],
   "source": [
    "knockOut.NPV()"
   ]
  },
  {
   "cell_type": "code",
   "execution_count": 34,
   "metadata": {},
   "outputs": [
    {
     "data": {
      "text/plain": [
       "5.926609240855875"
      ]
     },
     "execution_count": 34,
     "metadata": {},
     "output_type": "execute_result"
    }
   ],
   "source": [
    "replicated = knockIn.NPV() + knockOut.NPV()\n",
    "replicated"
   ]
  },
  {
   "cell_type": "code",
   "execution_count": 35,
   "metadata": {},
   "outputs": [
    {
     "data": {
      "text/plain": [
       "5.926609240855878"
      ]
     },
     "execution_count": 35,
     "metadata": {},
     "output_type": "execute_result"
    }
   ],
   "source": [
    "expected = european.NPV()\n",
    "expected"
   ]
  },
  {
   "cell_type": "code",
   "execution_count": 36,
   "metadata": {},
   "outputs": [],
   "source": [
    "error = abs(replicated-expected)"
   ]
  },
  {
   "cell_type": "code",
   "execution_count": 37,
   "metadata": {},
   "outputs": [],
   "source": [
    "if (error > 1e-7):\n",
    "    print(\"FAIL\")"
   ]
  },
  {
   "cell_type": "markdown",
   "metadata": {},
   "source": [
    "# Testing barrier options against Haug's values..."
   ]
  },
  {
   "cell_type": "code",
   "execution_count": 38,
   "metadata": {},
   "outputs": [],
   "source": [
    "european = ql.Exercise.European\n",
    "american = ql.Exercise.American"
   ]
  },
  {
   "cell_type": "code",
   "execution_count": 59,
   "metadata": {},
   "outputs": [],
   "source": [
    "today = ql.Date.todaysDate()"
   ]
  },
  {
   "cell_type": "code",
   "execution_count": 60,
   "metadata": {},
   "outputs": [],
   "source": [
    "values = [\n",
    "\n",
    "    #     ql.BarrierType, ql.Barrier, rebate,         type, exercise, strk,     s,    q,    r,    t,    v,  result, tol\n",
    "    [ ql.Barrier.DownOut,    95.0,    3.0, ql.Option.Call, european,   90, 100.0, 0.04, 0.08, 0.50, 0.25,  9.0246, 1.0e-4],\n",
    "    [ ql.Barrier.DownOut,    95.0,    3.0, ql.Option.Call, european,  100, 100.0, 0.04, 0.08, 0.50, 0.25,  6.7924, 1.0e-4],\n",
    "    [ ql.Barrier.DownOut,    95.0,    3.0, ql.Option.Call, european,  110, 100.0, 0.04, 0.08, 0.50, 0.25,  4.8759, 1.0e-4],\n",
    "    [ ql.Barrier.DownOut,   100.0,    3.0, ql.Option.Call, european,   90, 100.0, 0.04, 0.08, 0.50, 0.25,  3.0000, 1.0e-4],\n",
    "    [ ql.Barrier.DownOut,   100.0,    3.0, ql.Option.Call, european,  100, 100.0, 0.04, 0.08, 0.50, 0.25,  3.0000, 1.0e-4],\n",
    "    [ ql.Barrier.DownOut,   100.0,    3.0, ql.Option.Call, european,  110, 100.0, 0.04, 0.08, 0.50, 0.25,  3.0000, 1.0e-4],\n",
    "    [ ql.Barrier.UpOut,     105.0,    3.0, ql.Option.Call, european,   90, 100.0, 0.04, 0.08, 0.50, 0.25,  2.6789, 1.0e-4],\n",
    "    [ ql.Barrier.UpOut,     105.0,    3.0, ql.Option.Call, european,  100, 100.0, 0.04, 0.08, 0.50, 0.25,  2.3580, 1.0e-4],\n",
    "    [ ql.Barrier.UpOut,     105.0,    3.0, ql.Option.Call, european,  110, 100.0, 0.04, 0.08, 0.50, 0.25,  2.3453, 1.0e-4],\n",
    "\n",
    "    [ ql.Barrier.DownIn,     95.0,    3.0, ql.Option.Call, european,   90, 100.0, 0.04, 0.08, 0.50, 0.25,  7.7627, 1.0e-4],\n",
    "    [ ql.Barrier.DownIn,     95.0,    3.0, ql.Option.Call, european,  100, 100.0, 0.04, 0.08, 0.50, 0.25,  4.0109, 1.0e-4],\n",
    "    [ ql.Barrier.DownIn,     95.0,    3.0, ql.Option.Call, european,  110, 100.0, 0.04, 0.08, 0.50, 0.25,  2.0576, 1.0e-4],\n",
    "    [ ql.Barrier.DownIn,    100.0,    3.0, ql.Option.Call, european,   90, 100.0, 0.04, 0.08, 0.50, 0.25, 13.8333, 1.0e-4],\n",
    "    [ ql.Barrier.DownIn,    100.0,    3.0, ql.Option.Call, european,  100, 100.0, 0.04, 0.08, 0.50, 0.25,  7.8494, 1.0e-4],\n",
    "    [ ql.Barrier.DownIn,    100.0,    3.0, ql.Option.Call, european,  110, 100.0, 0.04, 0.08, 0.50, 0.25,  3.9795, 1.0e-4],\n",
    "    [ ql.Barrier.UpIn,      105.0,    3.0, ql.Option.Call, european,   90, 100.0, 0.04, 0.08, 0.50, 0.25, 14.1112, 1.0e-4],\n",
    "    [ ql.Barrier.UpIn,      105.0,    3.0, ql.Option.Call, european,  100, 100.0, 0.04, 0.08, 0.50, 0.25,  8.4482, 1.0e-4],\n",
    "    [ ql.Barrier.UpIn,      105.0,    3.0, ql.Option.Call, european,  110, 100.0, 0.04, 0.08, 0.50, 0.25,  4.5910, 1.0e-4],\n",
    "\n",
    "    [ ql.Barrier.DownOut,    95.0,    3.0, ql.Option.Call, european,   90, 100.0, 0.04, 0.08, 0.50, 0.30,  8.8334, 1.0e-4],\n",
    "    [ ql.Barrier.DownOut,    95.0,    3.0, ql.Option.Call, european,  100, 100.0, 0.04, 0.08, 0.50, 0.30,  7.0285, 1.0e-4],\n",
    "    [ ql.Barrier.DownOut,    95.0,    3.0, ql.Option.Call, european,  110, 100.0, 0.04, 0.08, 0.50, 0.30,  5.4137, 1.0e-4],\n",
    "    [ ql.Barrier.DownOut,   100.0,    3.0, ql.Option.Call, european,   90, 100.0, 0.04, 0.08, 0.50, 0.30,  3.0000, 1.0e-4],\n",
    "    [ ql.Barrier.DownOut,   100.0,    3.0, ql.Option.Call, european,  100, 100.0, 0.04, 0.08, 0.50, 0.30,  3.0000, 1.0e-4],\n",
    "    [ ql.Barrier.DownOut,   100.0,    3.0, ql.Option.Call, european,  110, 100.0, 0.04, 0.08, 0.50, 0.30,  3.0000, 1.0e-4],\n",
    "    [ ql.Barrier.UpOut,     105.0,    3.0, ql.Option.Call, european,   90, 100.0, 0.04, 0.08, 0.50, 0.30,  2.6341, 1.0e-4],\n",
    "    [ ql.Barrier.UpOut,     105.0,    3.0, ql.Option.Call, european,  100, 100.0, 0.04, 0.08, 0.50, 0.30,  2.4389, 1.0e-4],\n",
    "    [ ql.Barrier.UpOut,     105.0,    3.0, ql.Option.Call, european,  110, 100.0, 0.04, 0.08, 0.50, 0.30,  2.4315, 1.0e-4],\n",
    "\n",
    "    [ ql.Barrier.DownIn,     95.0,    3.0, ql.Option.Call, european,   90, 100.0, 0.04, 0.08, 0.50, 0.30,  9.0093, 1.0e-4],\n",
    "    [ ql.Barrier.DownIn,     95.0,    3.0, ql.Option.Call, european,  100, 100.0, 0.04, 0.08, 0.50, 0.30,  5.1370, 1.0e-4],\n",
    "    [ ql.Barrier.DownIn,     95.0,    3.0, ql.Option.Call, european,  110, 100.0, 0.04, 0.08, 0.50, 0.30,  2.8517, 1.0e-4],\n",
    "    [ ql.Barrier.DownIn,    100.0,    3.0, ql.Option.Call, european,   90, 100.0, 0.04, 0.08, 0.50, 0.30, 14.8816, 1.0e-4],\n",
    "    [ ql.Barrier.DownIn,    100.0,    3.0, ql.Option.Call, european,  100, 100.0, 0.04, 0.08, 0.50, 0.30,  9.2045, 1.0e-4],\n",
    "    [ ql.Barrier.DownIn,    100.0,    3.0, ql.Option.Call, european,  110, 100.0, 0.04, 0.08, 0.50, 0.30,  5.3043, 1.0e-4],\n",
    "    [ ql.Barrier.UpIn,      105.0,    3.0, ql.Option.Call, european,   90, 100.0, 0.04, 0.08, 0.50, 0.30, 15.2098, 1.0e-4],\n",
    "    [ ql.Barrier.UpIn,      105.0,    3.0, ql.Option.Call, european,  100, 100.0, 0.04, 0.08, 0.50, 0.30,  9.7278, 1.0e-4],\n",
    "    [ ql.Barrier.UpIn,      105.0,    3.0, ql.Option.Call, european,  110, 100.0, 0.04, 0.08, 0.50, 0.30,  5.8350, 1.0e-4],\n",
    "\n",
    "\n",
    "    #     ql.BarrierType, ql.Barrier, rebate,         type, exercise, strk,     s,    q,    r,    t,    v,  result, tol\n",
    "    [ ql.Barrier.DownOut,    95.0,    3.0,  ql.Option.Put, european,   90, 100.0, 0.04, 0.08, 0.50, 0.25,  2.2798, 1.0e-4 ],\n",
    "    [ ql.Barrier.DownOut,    95.0,    3.0,  ql.Option.Put, european,  100, 100.0, 0.04, 0.08, 0.50, 0.25,  2.2947, 1.0e-4 ],\n",
    "    [ ql.Barrier.DownOut,    95.0,    3.0,  ql.Option.Put, european,  110, 100.0, 0.04, 0.08, 0.50, 0.25,  2.6252, 1.0e-4 ],\n",
    "    [ ql.Barrier.DownOut,   100.0,    3.0,  ql.Option.Put, european,   90, 100.0, 0.04, 0.08, 0.50, 0.25,  3.0000, 1.0e-4 ],\n",
    "    [ ql.Barrier.DownOut,   100.0,    3.0,  ql.Option.Put, european,  100, 100.0, 0.04, 0.08, 0.50, 0.25,  3.0000, 1.0e-4 ],\n",
    "    [ ql.Barrier.DownOut,   100.0,    3.0,  ql.Option.Put, european,  110, 100.0, 0.04, 0.08, 0.50, 0.25,  3.0000, 1.0e-4 ],\n",
    "    [ ql.Barrier.UpOut,     105.0,    3.0,  ql.Option.Put, european,   90, 100.0, 0.04, 0.08, 0.50, 0.25,  3.7760, 1.0e-4 ],\n",
    "    [ ql.Barrier.UpOut,     105.0,    3.0,  ql.Option.Put, european,  100, 100.0, 0.04, 0.08, 0.50, 0.25,  5.4932, 1.0e-4 ],\n",
    "    [ ql.Barrier.UpOut,     105.0,    3.0,  ql.Option.Put, european,  110, 100.0, 0.04, 0.08, 0.50, 0.25,  7.5187, 1.0e-4 ],\n",
    "\n",
    "    [ ql.Barrier.DownIn,     95.0,    3.0,  ql.Option.Put, european,   90, 100.0, 0.04, 0.08, 0.50, 0.25,  2.9586, 1.0e-4 ],\n",
    "    [ ql.Barrier.DownIn,     95.0,    3.0,  ql.Option.Put, european,  100, 100.0, 0.04, 0.08, 0.50, 0.25,  6.5677, 1.0e-4 ],\n",
    "    [ ql.Barrier.DownIn,     95.0,    3.0,  ql.Option.Put, european,  110, 100.0, 0.04, 0.08, 0.50, 0.25, 11.9752, 1.0e-4 ],\n",
    "    [ ql.Barrier.DownIn,    100.0,    3.0,  ql.Option.Put, european,   90, 100.0, 0.04, 0.08, 0.50, 0.25,  2.2845, 1.0e-4 ],\n",
    "    [ ql.Barrier.DownIn,    100.0,    3.0,  ql.Option.Put, european,  100, 100.0, 0.04, 0.08, 0.50, 0.25,  5.9085, 1.0e-4 ],\n",
    "    [ ql.Barrier.DownIn,    100.0,    3.0,  ql.Option.Put, european,  110, 100.0, 0.04, 0.08, 0.50, 0.25, 11.6465, 1.0e-4 ],\n",
    "    [ ql.Barrier.UpIn,      105.0,    3.0,  ql.Option.Put, european,   90, 100.0, 0.04, 0.08, 0.50, 0.25,  1.4653, 1.0e-4 ],\n",
    "    [ ql.Barrier.UpIn,      105.0,    3.0,  ql.Option.Put, european,  100, 100.0, 0.04, 0.08, 0.50, 0.25,  3.3721, 1.0e-4 ],\n",
    "    [ ql.Barrier.UpIn,      105.0,    3.0,  ql.Option.Put, european,  110, 100.0, 0.04, 0.08, 0.50, 0.25,  7.0846, 1.0e-4 ],\n",
    "\n",
    "    [ ql.Barrier.DownOut,    95.0,    3.0,  ql.Option.Put, european,   90, 100.0, 0.04, 0.08, 0.50, 0.30,  2.4170, 1.0e-4 ],\n",
    "    [ ql.Barrier.DownOut,    95.0,    3.0,  ql.Option.Put, european,  100, 100.0, 0.04, 0.08, 0.50, 0.30,  2.4258, 1.0e-4 ],\n",
    "    [ ql.Barrier.DownOut,    95.0,    3.0,  ql.Option.Put, european,  110, 100.0, 0.04, 0.08, 0.50, 0.30,  2.6246, 1.0e-4 ],\n",
    "    [ ql.Barrier.DownOut,   100.0,    3.0,  ql.Option.Put, european,   90, 100.0, 0.04, 0.08, 0.50, 0.30,  3.0000, 1.0e-4 ],\n",
    "    [ ql.Barrier.DownOut,   100.0,    3.0,  ql.Option.Put, european,  100, 100.0, 0.04, 0.08, 0.50, 0.30,  3.0000, 1.0e-4 ],\n",
    "    [ ql.Barrier.DownOut,   100.0,    3.0,  ql.Option.Put, european,  110, 100.0, 0.04, 0.08, 0.50, 0.30,  3.0000, 1.0e-4 ],\n",
    "    [ ql.Barrier.UpOut,     105.0,    3.0,  ql.Option.Put, european,   90, 100.0, 0.04, 0.08, 0.50, 0.30,  4.2293, 1.0e-4 ],\n",
    "    [ ql.Barrier.UpOut,     105.0,    3.0,  ql.Option.Put, european,  100, 100.0, 0.04, 0.08, 0.50, 0.30,  5.8032, 1.0e-4 ],\n",
    "    [ ql.Barrier.UpOut,     105.0,    3.0,  ql.Option.Put, european,  110, 100.0, 0.04, 0.08, 0.50, 0.30,  7.5649, 1.0e-4 ],\n",
    "\n",
    "    [ ql.Barrier.DownIn,     95.0,    3.0,  ql.Option.Put, european,   90, 100.0, 0.04, 0.08, 0.50, 0.30,  3.8769, 1.0e-4 ],\n",
    "    [ ql.Barrier.DownIn,     95.0,    3.0,  ql.Option.Put, european,  100, 100.0, 0.04, 0.08, 0.50, 0.30,  7.7989, 1.0e-4 ],\n",
    "    [ ql.Barrier.DownIn,     95.0,    3.0,  ql.Option.Put, european,  110, 100.0, 0.04, 0.08, 0.50, 0.30, 13.3078, 1.0e-4 ],\n",
    "    [ ql.Barrier.DownIn,    100.0,    3.0,  ql.Option.Put, european,   90, 100.0, 0.04, 0.08, 0.50, 0.30,  3.3328, 1.0e-4 ],\n",
    "    [ ql.Barrier.DownIn,    100.0,    3.0,  ql.Option.Put, european,  100, 100.0, 0.04, 0.08, 0.50, 0.30,  7.2636, 1.0e-4 ],\n",
    "    [ ql.Barrier.DownIn,    100.0,    3.0,  ql.Option.Put, european,  110, 100.0, 0.04, 0.08, 0.50, 0.30, 12.9713, 1.0e-4 ],\n",
    "    [ ql.Barrier.UpIn,      105.0,    3.0,  ql.Option.Put, european,   90, 100.0, 0.04, 0.08, 0.50, 0.30,  2.0658, 1.0e-4 ],\n",
    "    [ ql.Barrier.UpIn,      105.0,    3.0,  ql.Option.Put, european,  100, 100.0, 0.04, 0.08, 0.50, 0.30,  4.4226, 1.0e-4 ],\n",
    "    [ ql.Barrier.UpIn,      105.0,    3.0,  ql.Option.Put, european,  110, 100.0, 0.04, 0.08, 0.50, 0.30,  8.3686, 1.0e-4 ],\n",
    "\n",
    "    # ql.Options with american exercise: values computed with 400 steps of Haug's VBA code (handles only out ql.Options)\n",
    "    #     ql.BarrierType, ql.Barrier, rebate,         type, exercise, strk,     s,    q,    r,    t,    v,  result, tol\n",
    "    [ ql.Barrier.DownOut,    95.0,    0.0, ql.Option.Call, american,   90, 100.0, 0.04, 0.08, 0.50, 0.25, 10.4655, 1.0e-4],\n",
    "    [ ql.Barrier.DownOut,    95.0,    0.0, ql.Option.Call, american,  100, 100.0, 0.04, 0.08, 0.50, 0.25,  4.5159, 1.0e-4],\n",
    "    [ ql.Barrier.DownOut,    95.0,    0.0, ql.Option.Call, american,  110, 100.0, 0.04, 0.08, 0.50, 0.25,  2.5971, 1.0e-4],\n",
    "    [ ql.Barrier.DownOut,   100.0,    3.0, ql.Option.Call, american,   90, 100.0, 0.04, 0.08, 0.50, 0.25,  3.0000, 1.0e-4],\n",
    "    [ ql.Barrier.DownOut,   100.0,    3.0, ql.Option.Call, american,  100, 100.0, 0.04, 0.08, 0.50, 0.25,  3.0000, 1.0e-4],\n",
    "    [ ql.Barrier.DownOut,   100.0,    3.0, ql.Option.Call, american,  110, 100.0, 0.04, 0.08, 0.50, 0.25,  3.0000, 1.0e-4],\n",
    "    [ ql.Barrier.UpOut,     105.0,    0.0, ql.Option.Call, american,   90, 100.0, 0.04, 0.08, 0.50, 0.25, 11.8076, 1.0e-4],\n",
    "    [ ql.Barrier.UpOut,     105.0,    0.0, ql.Option.Call, american,  100, 100.0, 0.04, 0.08, 0.50, 0.25,  3.3993, 1.0e-4],\n",
    "    [ ql.Barrier.UpOut,     105.0,    3.0, ql.Option.Call, american,  110, 100.0, 0.04, 0.08, 0.50, 0.25,  2.3457, 1.0e-4],\n",
    "\n",
    "    [ ql.Barrier.DownOut,    95.0,    3.0,  ql.Option.Put, american,   90, 100.0, 0.04, 0.08, 0.50, 0.25,  2.2795, 1.0e-4 ],\n",
    "    [ ql.Barrier.DownOut,    95.0,    0.0,  ql.Option.Put, american,  100, 100.0, 0.04, 0.08, 0.50, 0.25,  3.3512, 1.0e-4 ],\n",
    "    [ ql.Barrier.DownOut,    95.0,    0.0,  ql.Option.Put, american,  110, 100.0, 0.04, 0.08, 0.50, 0.25, 11.5773, 1.0e-4 ],\n",
    "    [ ql.Barrier.DownOut,   100.0,    3.0,  ql.Option.Put, american,   90, 100.0, 0.04, 0.08, 0.50, 0.25,  3.0000, 1.0e-4 ],\n",
    "    [ ql.Barrier.DownOut,   100.0,    3.0,  ql.Option.Put, american,  100, 100.0, 0.04, 0.08, 0.50, 0.25,  3.0000, 1.0e-4 ],\n",
    "    [ ql.Barrier.DownOut,   100.0,    3.0,  ql.Option.Put, american,  110, 100.0, 0.04, 0.08, 0.50, 0.25,  3.0000, 1.0e-4 ],\n",
    "    [ ql.Barrier.UpOut,     105.0,    0.0,  ql.Option.Put, american,   90, 100.0, 0.04, 0.08, 0.50, 0.25,  1.4763, 1.0e-4 ],\n",
    "    [ ql.Barrier.UpOut,     105.0,    0.0,  ql.Option.Put, american,  100, 100.0, 0.04, 0.08, 0.50, 0.25,  3.3001, 1.0e-4 ],\n",
    "    [ ql.Barrier.UpOut,     105.0,    0.0,  ql.Option.Put, american,  110, 100.0, 0.04, 0.08, 0.50, 0.25, 10.0000, 1.0e-4 ],\n",
    "\n",
    "    # some american in-ql.Options - results (roughly) verified with other numerical methods \n",
    "    #     ql.BarrierType, ql.Barrier, rebate,         type, exercise, strk,     s,    q,    r,    t,    v,  result, tol\n",
    "    [ ql.Barrier.DownIn,     95.0,    3.0, ql.Option.Call, american,   90, 100.0, 0.04, 0.08, 0.50, 0.25,  7.7615, 1.0e-4],\n",
    "    [ ql.Barrier.DownIn,     95.0,    3.0, ql.Option.Call, american,  100, 100.0, 0.04, 0.08, 0.50, 0.25,  4.0118, 1.0e-4],\n",
    "    [ ql.Barrier.DownIn,     95.0,    3.0, ql.Option.Call, american,  110, 100.0, 0.04, 0.08, 0.50, 0.25,  2.0544, 1.0e-4],\n",
    "    [ ql.Barrier.DownIn,    100.0,    3.0, ql.Option.Call, american,   90, 100.0, 0.04, 0.08, 0.50, 0.25, 13.8308, 1.0e-4],\n",
    "    [ ql.Barrier.UpIn,      105.0,    3.0, ql.Option.Call, american,   90, 100.0, 0.04, 0.08, 0.50, 0.25, 14.1150, 1.0e-4],\n",
    "    [ ql.Barrier.UpIn,      105.0,    3.0, ql.Option.Call, american,  110, 100.0, 0.04, 0.08, 0.50, 0.25,  4.5900, 1.0e-4],\n",
    "\n",
    "    #    ql.BarrierType, ql.Barrier, rebate,         type, strike,     s,    q,    r,    t,    v,  result, tol\n",
    "    # [ ql.Barrier.DownOut,    45.0,    0.0,  ql.Option.Put,     50,  50.0,-0.05, 0.10, 0.25, 0.50,   4.032, 1.0e-3 ],\n",
    "    # [ ql.Barrier.DownOut,    45.0,    0.0,  ql.Option.Put,     50,  50.0,-0.05, 0.10, 1.00, 0.50,   5.477, 1.0e-3 ]\n",
    "\n",
    "]"
   ]
  },
  {
   "cell_type": "code",
   "execution_count": 61,
   "metadata": {},
   "outputs": [],
   "source": [
    "dc = ql.Actual360();\n",
    "today = ql.Date.todaysDate()\n",
    "\n",
    "spot = ql.SimpleQuote(0.0)\n",
    "qRate = ql.SimpleQuote(0.0)\n",
    "qTS = ql.FlatForward(today, ql.QuoteHandle(qRate), dc)\n",
    "rRate = ql.SimpleQuote(0.0)\n",
    "rTS = ql.FlatForward(today, ql.QuoteHandle(rRate), dc)\n",
    "vol = ql.SimpleQuote(0.0)\n",
    "volTS = ql.BlackConstantVol(today, ql.NullCalendar(), ql.QuoteHandle(vol), dc)"
   ]
  },
  {
   "cell_type": "code",
   "execution_count": 62,
   "metadata": {},
   "outputs": [
    {
     "name": "stdout",
     "output_type": "stream",
     "text": [
      "FAIL at i  0\n",
      "calculated:  9.025548346105062\n",
      "expected:  9.0246\n",
      "error:  0.0009483461050621145\n",
      "FAIL at i  1\n",
      "calculated:  6.8119691780935625\n",
      "expected:  6.7924\n",
      "error:  0.019569178093562734\n",
      "FAIL at i  2\n",
      "calculated:  4.906730676204393\n",
      "expected:  4.8759\n",
      "error:  0.030830676204393725\n",
      "FAIL at i  6\n",
      "calculated:  2.6763231204201827\n",
      "expected:  2.6789\n",
      "error:  0.002576879579817337\n",
      "FAIL at i  7\n",
      "calculated:  2.362772946679526\n",
      "expected:  2.358\n",
      "error:  0.00477294667952588\n",
      "FAIL at i  8\n",
      "calculated:  2.3504108123699\n",
      "expected:  2.3453\n",
      "error:  0.005110812369899964\n",
      "FAIL at i  9\n",
      "calculated:  7.8194955033622096\n",
      "expected:  7.7627\n",
      "error:  0.05679550336220984\n",
      "FAIL at i  10\n",
      "calculated:  4.060854751793035\n",
      "expected:  4.0109\n",
      "error:  0.049954751793034546\n",
      "FAIL at i  11\n",
      "calculated:  2.08990803364791\n",
      "expected:  2.0576\n",
      "error:  0.03230803364791024\n",
      "FAIL at i  12\n",
      "calculated:  13.891540556191806\n",
      "expected:  13.8333\n",
      "error:  0.0582405561918069\n",
      "FAIL at i  13\n",
      "calculated:  7.919320636611133\n",
      "expected:  7.8494\n",
      "error:  0.06992063661113246\n",
      "FAIL at i  14\n",
      "calculated:  4.043135416576838\n",
      "expected:  3.9795\n",
      "error:  0.06363541657683847\n",
      "FAIL at i  15\n",
      "calculated:  14.171610155111864\n",
      "expected:  14.1112\n",
      "error:  0.06041015511186387\n",
      "FAIL at i  16\n",
      "calculated:  8.512940409271845\n",
      "expected:  8.4482\n",
      "error:  0.06474040927184532\n",
      "FAIL at i  17\n",
      "calculated:  4.649117323547178\n",
      "expected:  4.591\n",
      "error:  0.05811732354717769\n",
      "FAIL at i  18\n",
      "calculated:  8.833665201951487\n",
      "expected:  8.8334\n",
      "error:  0.00026520195148727055\n",
      "FAIL at i  19\n",
      "calculated:  7.044691586971208\n",
      "expected:  7.0285\n",
      "error:  0.016191586971207705\n",
      "FAIL at i  20\n",
      "calculated:  5.441227706019472\n",
      "expected:  5.4137\n",
      "error:  0.02752770601947141\n",
      "FAIL at i  24\n",
      "calculated:  2.633497979456119\n",
      "expected:  2.6341\n",
      "error:  0.0006020205438810322\n",
      "FAIL at i  25\n",
      "calculated:  2.4429873281782504\n",
      "expected:  2.4389\n",
      "error:  0.004087328178250527\n",
      "FAIL at i  26\n",
      "calculated:  2.435760359463244\n",
      "expected:  2.4315\n",
      "error:  0.00426035946324399\n",
      "FAIL at i  27\n",
      "calculated:  9.077484147064624\n",
      "expected:  9.0093\n",
      "error:  0.06818414706462406\n",
      "FAIL at i  28\n",
      "calculated:  5.200752468583127\n",
      "expected:  5.137\n",
      "error:  0.063752468583127\n",
      "FAIL at i  29\n",
      "calculated:  2.900163155295339\n",
      "expected:  2.8517\n",
      "error:  0.04846315529533873\n",
      "FAIL at i  30\n",
      "calculated:  14.95042895966462\n",
      "expected:  14.8816\n",
      "error:  0.06882895966461966\n",
      "FAIL at i  31\n",
      "calculated:  9.284723666202844\n",
      "expected:  9.2045\n",
      "error:  0.08022366620284416\n",
      "FAIL at i  32\n",
      "calculated:  5.38067047196332\n",
      "expected:  5.3043\n",
      "error:  0.0763704719633207\n",
      "FAIL at i  33\n",
      "calculated:  15.278845750747543\n",
      "expected:  15.2098\n",
      "error:  0.06904575074754327\n",
      "FAIL at i  34\n",
      "calculated:  9.803651108563635\n",
      "expected:  9.7278\n",
      "error:  0.07585110856363464\n",
      "FAIL at i  35\n",
      "calculated:  5.906824883039119\n",
      "expected:  5.835\n",
      "error:  0.0718248830391186\n",
      "FAIL at i  36\n",
      "calculated:  2.2850646632272036\n",
      "expected:  2.2798\n",
      "error:  0.005264663227203759\n",
      "FAIL at i  37\n",
      "calculated:  2.29961426204325\n",
      "expected:  2.2947\n",
      "error:  0.004914262043249629\n",
      "FAIL at i  38\n",
      "calculated:  2.622504526981612\n",
      "expected:  2.6252\n",
      "error:  0.002695473018388128\n",
      "FAIL at i  42\n",
      "calculated:  3.7922191888355354\n",
      "expected:  3.776\n",
      "error:  0.016219188835535636\n",
      "FAIL at i  43\n",
      "calculated:  5.498608704996014\n",
      "expected:  5.4932\n",
      "error:  0.005408704996014535\n",
      "FAIL at i  44\n",
      "calculated:  7.5061862605875245\n",
      "expected:  7.5187\n",
      "error:  0.012513739412475466\n",
      "FAIL at i  45\n",
      "calculated:  2.986201068610844\n",
      "expected:  2.9586\n",
      "error:  0.027601068610843882\n",
      "FAIL at i  46\n",
      "calculated:  6.600922813422945\n",
      "expected:  6.5677\n",
      "error:  0.03322281342294442\n",
      "FAIL at i  47\n",
      "calculated:  12.003338591659082\n",
      "expected:  11.9752\n",
      "error:  0.028138591659082834\n",
      "FAIL at i  48\n",
      "calculated:  2.317762438562582\n",
      "expected:  2.2845\n",
      "error:  0.03326243856258193\n",
      "FAIL at i  49\n",
      "calculated:  5.947033782190729\n",
      "expected:  5.9085\n",
      "error:  0.03853378219072923\n",
      "FAIL at i  50\n",
      "calculated:  11.672339825365235\n",
      "expected:  11.6465\n",
      "error:  0.025839825365235214\n",
      "FAIL at i  51\n",
      "calculated:  1.481935969067286\n",
      "expected:  1.4653\n",
      "error:  0.016635969067285927\n",
      "FAIL at i  52\n",
      "calculated:  3.404817796534954\n",
      "expected:  3.3721\n",
      "error:  0.03271779653495388\n",
      "FAIL at i  53\n",
      "calculated:  7.122546284117942\n",
      "expected:  7.0846\n",
      "error:  0.03794628411794232\n",
      "FAIL at i  54\n",
      "calculated:  2.4214473741772657\n",
      "expected:  2.417\n",
      "error:  0.004447374177265928\n",
      "FAIL at i  55\n",
      "calculated:  2.4300504764444035\n",
      "expected:  2.4258\n",
      "error:  0.0042504764444033505\n",
      "FAIL at i  56\n",
      "calculated:  2.624163312740098\n",
      "expected:  2.6246\n",
      "error:  0.00043668725990198\n",
      "FAIL at i  60\n",
      "calculated:  4.244013245957805\n",
      "expected:  4.2293\n",
      "error:  0.014713245957804766\n",
      "FAIL at i  61\n",
      "calculated:  5.807350631599252\n",
      "expected:  5.8032\n",
      "error:  0.00415063159925122\n",
      "FAIL at i  62\n",
      "calculated:  7.553971699803568\n",
      "expected:  7.5649\n",
      "error:  0.010928300196431984\n",
      "FAIL at i  63\n",
      "calculated:  3.9159238572096275\n",
      "expected:  3.8769\n",
      "error:  0.03902385720962753\n",
      "FAIL at i  64\n",
      "calculated:  7.8431067246895205\n",
      "expected:  7.7989\n",
      "error:  0.044206724689520804\n",
      "FAIL at i  65\n",
      "calculated:  13.346431957363109\n",
      "expected:  13.3078\n",
      "error:  0.03863195736310843\n",
      "FAIL at i  66\n",
      "calculated:  3.376650842035403\n",
      "expected:  3.3328\n",
      "error:  0.04385084203540268\n",
      "FAIL at i  67\n",
      "calculated:  7.312436811782433\n",
      "expected:  7.2636\n",
      "error:  0.04883681178243293\n",
      "FAIL at i  68\n",
      "calculated:  13.00987488075171\n",
      "expected:  12.9713\n",
      "error:  0.03857488075171034\n",
      "FAIL at i  69\n",
      "calculated:  2.0945523666166403\n",
      "expected:  2.0658\n",
      "error:  0.02875236661664049\n",
      "FAIL at i  70\n",
      "calculated:  4.467000950722224\n",
      "expected:  4.4226\n",
      "error:  0.04440095072222405\n",
      "FAIL at i  71\n",
      "calculated:  8.41781795148719\n",
      "expected:  8.3686\n",
      "error:  0.04921795148718999\n"
     ]
    }
   ],
   "source": [
    "for i in range(0, len(values)):\n",
    "    exDate = today + int(values[i][9]*360+0.5)\n",
    "    spot.setValue(values[i][6])\n",
    "    qRate.setValue(values[i][7])\n",
    "    rRate.setValue(values[i][8])\n",
    "    vol.setValue(values[i][10])\n",
    "    \n",
    "    payoff = ql.PlainVanillaPayoff(values[i][3], values[i][5])\n",
    "    stochProcess = ql.BlackScholesMertonProcess(ql.QuoteHandle(spot),\n",
    "                                               ql.YieldTermStructureHandle(qTS),\n",
    "                                               ql.YieldTermStructureHandle(rTS),\n",
    "                                               ql.BlackVolTermStructureHandle(volTS))\n",
    "    \n",
    "    exercise = None\n",
    "    if (values[i][4] == ql.Exercise.European):\n",
    "        exercise = ql.EuropeanExercise(exerciseDate)\n",
    "    elif (values[i][4] == ql.Exercise.American):\n",
    "        exercise = ql.AmericanExercise(ql.Date.minDate(), exerciseDate)\n",
    "    \n",
    "    barrierOption = ql.BarrierOption(\n",
    "                values[i][0],\n",
    "                values[i][1],\n",
    "                values[i][2],\n",
    "                payoff,\n",
    "                exercise)\n",
    "    \n",
    "    engine = None\n",
    "    calculated = None\n",
    "    expected = None\n",
    "    error = None\n",
    "    \n",
    "    if (values[i][4] == ql.Exercise.European):\n",
    "        engine = ql.AnalyticBarrierEngine(stochProcess)\n",
    "        barrierOption.setPricingEngine(engine)\n",
    "        calculated = barrierOption.NPV()\n",
    "        expected = values[i][11]\n",
    "        error = abs(calculated-expected)\n",
    "        if (error>values[i][12]):\n",
    "            print(\"FAIL at i \", i)\n",
    "            print(\"calculated: \", calculated)\n",
    "            print(\"expected: \", expected)\n",
    "            print(\"error: \", error)"
   ]
  }
 ],
 "metadata": {
  "kernelspec": {
   "display_name": "Python 3",
   "language": "python",
   "name": "python3"
  },
  "language_info": {
   "codemirror_mode": {
    "name": "ipython",
    "version": 3
   },
   "file_extension": ".py",
   "mimetype": "text/x-python",
   "name": "python",
   "nbconvert_exporter": "python",
   "pygments_lexer": "ipython3",
   "version": "3.6.3"
  }
 },
 "nbformat": 4,
 "nbformat_minor": 2
}
