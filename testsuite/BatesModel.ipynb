{
 "cells": [
  {
   "cell_type": "code",
   "execution_count": 1,
   "metadata": {},
   "outputs": [],
   "source": [
    "import QuantLib as ql\n",
    "import math as m"
   ]
  },
  {
   "cell_type": "markdown",
   "metadata": {},
   "source": [
    "# Testing analytic Bates engine against Black formula..."
   ]
  },
  {
   "cell_type": "code",
   "execution_count": 2,
   "metadata": {},
   "outputs": [],
   "source": [
    "settlementDate = ql.Date.todaysDate()\n",
    "ql.Settings.instance().evaluationDate = settlementDate"
   ]
  },
  {
   "cell_type": "code",
   "execution_count": 3,
   "metadata": {},
   "outputs": [],
   "source": [
    "dayCounter = ql.ActualActual()\n",
    "exerciseDate = settlementDate + ql.Period(6,ql.Months)"
   ]
  },
  {
   "cell_type": "code",
   "execution_count": 4,
   "metadata": {},
   "outputs": [],
   "source": [
    "payoff = ql.PlainVanillaPayoff(ql.Option.Put, 30)"
   ]
  },
  {
   "cell_type": "code",
   "execution_count": 5,
   "metadata": {},
   "outputs": [],
   "source": [
    "exercise = ql.EuropeanExercise(exerciseDate)"
   ]
  },
  {
   "cell_type": "code",
   "execution_count": 6,
   "metadata": {},
   "outputs": [],
   "source": [
    "riskFreeTS = ql.YieldTermStructureHandle(ql.FlatForward(0, ql.NullCalendar(), 0.1, dayCounter))\n",
    "dividendTS = ql.YieldTermStructureHandle(ql.FlatForward(0, ql.NullCalendar(), 0.04, dayCounter))"
   ]
  },
  {
   "cell_type": "code",
   "execution_count": 7,
   "metadata": {},
   "outputs": [],
   "source": [
    "s0 = ql.QuoteHandle(ql.SimpleQuote(32.0))"
   ]
  },
  {
   "cell_type": "code",
   "execution_count": 8,
   "metadata": {},
   "outputs": [],
   "source": [
    "yearFraction = dayCounter.yearFraction(settlementDate, exerciseDate)"
   ]
  },
  {
   "cell_type": "code",
   "execution_count": 9,
   "metadata": {},
   "outputs": [],
   "source": [
    "forwardPrice = s0.value()*m.exp((0.1-0.04)*yearFraction)"
   ]
  },
  {
   "cell_type": "code",
   "execution_count": 10,
   "metadata": {},
   "outputs": [],
   "source": [
    "expected = ql.blackFormula(payoff.optionType(), payoff.strike(), forwardPrice, m.sqrt(0.05*yearFraction)) * m.exp(-0.1*yearFraction)"
   ]
  },
  {
   "cell_type": "code",
   "execution_count": 11,
   "metadata": {},
   "outputs": [],
   "source": [
    "v0 = 0.05\n",
    "kappa = 5.0\n",
    "theta = 0.05\n",
    "sigma = 1.0e-4\n",
    "rho = 0.0\n",
    "lamda = 0.0001\n",
    "nu = 0.0\n",
    "delta = 0.0001"
   ]
  },
  {
   "cell_type": "code",
   "execution_count": 12,
   "metadata": {},
   "outputs": [],
   "source": [
    "option = ql.VanillaOption(payoff, exercise)"
   ]
  },
  {
   "cell_type": "code",
   "execution_count": 13,
   "metadata": {},
   "outputs": [],
   "source": [
    "process = ql.BatesProcess(riskFreeTS, dividendTS, s0, v0, \n",
    "                         kappa, theta, sigma, rho, lamda, nu, delta)"
   ]
  },
  {
   "cell_type": "code",
   "execution_count": 14,
   "metadata": {},
   "outputs": [],
   "source": [
    "engine = ql.BatesEngine(ql.BatesModel(process), 64)"
   ]
  },
  {
   "cell_type": "code",
   "execution_count": 15,
   "metadata": {},
   "outputs": [],
   "source": [
    "option.setPricingEngine(engine)"
   ]
  },
  {
   "cell_type": "code",
   "execution_count": 16,
   "metadata": {},
   "outputs": [
    {
     "data": {
      "text/plain": [
       "0.8006699946902414"
      ]
     },
     "execution_count": 16,
     "metadata": {},
     "output_type": "execute_result"
    }
   ],
   "source": [
    "calculated = option.NPV()\n",
    "calculated"
   ]
  },
  {
   "cell_type": "code",
   "execution_count": 17,
   "metadata": {},
   "outputs": [],
   "source": [
    "tolerance = 2.0e-7"
   ]
  },
  {
   "cell_type": "code",
   "execution_count": 18,
   "metadata": {},
   "outputs": [],
   "source": [
    "error = abs(calculated - expected)"
   ]
  },
  {
   "cell_type": "code",
   "execution_count": 19,
   "metadata": {},
   "outputs": [],
   "source": [
    "if (error > tolerance):\n",
    "    print(\"FAILURE\")"
   ]
  },
  {
   "cell_type": "code",
   "execution_count": 20,
   "metadata": {},
   "outputs": [],
   "source": [
    "engine = ql.BatesDetJumpEngine(ql.BatesDetJumpModel(process, 1.0, 0.0001), 64)"
   ]
  },
  {
   "cell_type": "code",
   "execution_count": 21,
   "metadata": {},
   "outputs": [
    {
     "data": {
      "text/plain": [
       "0.8006699946902414"
      ]
     },
     "execution_count": 21,
     "metadata": {},
     "output_type": "execute_result"
    }
   ],
   "source": [
    "option.setPricingEngine(engine)\n",
    "calculated = option.NPV()\n",
    "calculated"
   ]
  },
  {
   "cell_type": "code",
   "execution_count": 22,
   "metadata": {},
   "outputs": [],
   "source": [
    "error = abs(calculated - expected)\n",
    "if (error > tolerance):\n",
    "    print(\"FAILURE\")"
   ]
  },
  {
   "cell_type": "code",
   "execution_count": 23,
   "metadata": {},
   "outputs": [],
   "source": [
    "engine = ql.BatesDoubleExpEngine(ql.BatesDoubleExpModel(process, 0.0001, 0.0001, 0.0001), 64)"
   ]
  },
  {
   "cell_type": "code",
   "execution_count": 24,
   "metadata": {},
   "outputs": [
    {
     "data": {
      "text/plain": [
       "0.8006699947059968"
      ]
     },
     "execution_count": 24,
     "metadata": {},
     "output_type": "execute_result"
    }
   ],
   "source": [
    "option.setPricingEngine(engine)\n",
    "calculated = option.NPV()\n",
    "calculated"
   ]
  },
  {
   "cell_type": "code",
   "execution_count": 25,
   "metadata": {},
   "outputs": [],
   "source": [
    "error = abs(calculated - expected)\n",
    "if (error > tolerance):\n",
    "    print(\"FAILURE\")"
   ]
  },
  {
   "cell_type": "code",
   "execution_count": 26,
   "metadata": {},
   "outputs": [],
   "source": [
    "engine = ql.BatesDoubleExpDetJumpEngine(ql.BatesDoubleExpDetJumpModel( process, 0.0001, 0.0001, 0.0001, 0.5, 1.0, 0.0001), 64)"
   ]
  },
  {
   "cell_type": "code",
   "execution_count": 27,
   "metadata": {},
   "outputs": [
    {
     "data": {
      "text/plain": [
       "0.8006699947059968"
      ]
     },
     "execution_count": 27,
     "metadata": {},
     "output_type": "execute_result"
    }
   ],
   "source": [
    "option.setPricingEngine(engine)\n",
    "calculated = option.NPV()\n",
    "calculated"
   ]
  },
  {
   "cell_type": "code",
   "execution_count": 28,
   "metadata": {},
   "outputs": [],
   "source": [
    "error = abs(calculated - expected)\n",
    "if (error > tolerance):\n",
    "    print(\"FAILURE\")"
   ]
  },
  {
   "cell_type": "markdown",
   "metadata": {},
   "source": [
    "# Testing analytic Bates engine against Merton-76 engine"
   ]
  },
  {
   "cell_type": "code",
   "execution_count": 29,
   "metadata": {},
   "outputs": [],
   "source": [
    "settlementDate = ql.Date.todaysDate()\n",
    "ql.Settings.instance().evaluationDate = settlementDate"
   ]
  },
  {
   "cell_type": "code",
   "execution_count": 30,
   "metadata": {},
   "outputs": [],
   "source": [
    "dayCounter = ql.ActualActual()"
   ]
  },
  {
   "cell_type": "code",
   "execution_count": 31,
   "metadata": {},
   "outputs": [],
   "source": [
    "payoff = ql.PlainVanillaPayoff(ql.Option.Put, 95.0)"
   ]
  },
  {
   "cell_type": "code",
   "execution_count": 32,
   "metadata": {},
   "outputs": [],
   "source": [
    "riskFreeTS = ql.YieldTermStructureHandle(ql.FlatForward(0, ql.NullCalendar(), 0.1, dayCounter))\n",
    "dividendTS = ql.YieldTermStructureHandle(ql.FlatForward(0, ql.NullCalendar(), 0.04, dayCounter))"
   ]
  },
  {
   "cell_type": "code",
   "execution_count": 33,
   "metadata": {},
   "outputs": [],
   "source": [
    "s0 = ql.QuoteHandle(ql.SimpleQuote(100.0))"
   ]
  },
  {
   "cell_type": "code",
   "execution_count": 34,
   "metadata": {},
   "outputs": [],
   "source": [
    "v0 = 0.0433"
   ]
  },
  {
   "cell_type": "code",
   "execution_count": 35,
   "metadata": {},
   "outputs": [],
   "source": [
    "vol = ql.SimpleQuote(m.sqrt(v0))"
   ]
  },
  {
   "cell_type": "code",
   "execution_count": 36,
   "metadata": {},
   "outputs": [],
   "source": [
    "volTS = ql.BlackConstantVol(settlementDate, ql.NullCalendar(), ql.QuoteHandle(vol), dayCounter)"
   ]
  },
  {
   "cell_type": "code",
   "execution_count": 37,
   "metadata": {},
   "outputs": [],
   "source": [
    "kappa = 0.5\n",
    "theta = v0\n",
    "sigma = 1.0e-4\n",
    "rho = 0.0"
   ]
  },
  {
   "cell_type": "code",
   "execution_count": 38,
   "metadata": {},
   "outputs": [],
   "source": [
    "jumpIntensity = ql.SimpleQuote(2)\n",
    "meanLogJump = ql.SimpleQuote(-0.2)\n",
    "jumpVol = ql.SimpleQuote(0.2)"
   ]
  },
  {
   "cell_type": "code",
   "execution_count": 39,
   "metadata": {},
   "outputs": [],
   "source": [
    "batesProcess = ql.BatesProcess(riskFreeTS, dividendTS, s0, v0, kappa, theta, sigma, rho,\n",
    "        jumpIntensity.value(), meanLogJump.value(), jumpVol.value())"
   ]
  },
  {
   "cell_type": "code",
   "execution_count": 40,
   "metadata": {},
   "outputs": [],
   "source": [
    "mertonProcess = ql.Merton76Process(s0, dividendTS, riskFreeTS,\n",
    "                                  ql.BlackVolTermStructureHandle(volTS),\n",
    "                                  ql.QuoteHandle(jumpIntensity),\n",
    "                                  ql.QuoteHandle(meanLogJump),\n",
    "                                  ql.QuoteHandle(jumpVol))"
   ]
  },
  {
   "cell_type": "code",
   "execution_count": 41,
   "metadata": {},
   "outputs": [],
   "source": [
    "batesEngine = ql.BatesEngine(ql.BatesModel(batesProcess), 160)"
   ]
  },
  {
   "cell_type": "code",
   "execution_count": 42,
   "metadata": {},
   "outputs": [],
   "source": [
    "mcTol = 0.1"
   ]
  },
  {
   "cell_type": "code",
   "execution_count": 43,
   "metadata": {},
   "outputs": [],
   "source": [
    "mcBatesEngine = ql.MCPREuropeanHestonEngine(batesProcess,\n",
    "                                           2,\n",
    "                                           ql.nullInt(),\n",
    "                                           True,\n",
    "                                           ql.nullInt(),\n",
    "                                           mcTol,\n",
    "                                           ql.nullInt(),\n",
    "                                           1234)"
   ]
  },
  {
   "cell_type": "code",
   "execution_count": 44,
   "metadata": {},
   "outputs": [],
   "source": [
    "mertonEngine = ql.JumpDiffusionEngine(mertonProcess, 1e-10, 1000)"
   ]
  },
  {
   "cell_type": "code",
   "execution_count": 48,
   "metadata": {},
   "outputs": [
    {
     "name": "stdout",
     "output_type": "stream",
     "text": [
      "1\n",
      "10.817488127412261\n",
      "10.75704754485689\n",
      "3\n",
      "14.788733602117034\n",
      "14.679900793584162\n",
      "5\n",
      "14.972622752712184\n",
      "14.964592191617832\n"
     ]
    }
   ],
   "source": [
    "for i in (1, 3, 5):\n",
    "    print(i)\n",
    "    exerciseDate = settlementDate + ql.Period(i, ql.Years)\n",
    "    exercise = ql.EuropeanExercise(exerciseDate)\n",
    "    batesOption = ql.VanillaOption(payoff, exercise)\n",
    "    batesOption.setPricingEngine(batesEngine)\n",
    "    calculated = batesOption.NPV()\n",
    "    print(calculated)\n",
    "    batesOption.setPricingEngine(mcBatesEngine)\n",
    "    mcCalculated = batesOption.NPV()\n",
    "    print(mcCalculated)\n",
    "    mertonOption = ql.EuropeanOption(payoff, exercise)\n",
    "    mertonOption.setPricingEngine(mertonEngine)\n",
    "    expected = mertonOption.NPV()\n",
    "    \n",
    "    tolerance = 2e-8\n",
    "    relError = abs(calculated - expected)/expected\n",
    "    \n",
    "    if (relError > tolerance):\n",
    "        print(\"FAILURE semianalytic\")\n",
    "        \n",
    "    mcError = abs(expected - mcCalculated)\n",
    "    if (relError > 3 * mcTol):\n",
    "        print(\"FAILURE MC\")    "
   ]
  },
  {
   "cell_type": "markdown",
   "metadata": {},
   "source": [
    "# Testing analytic Bates engine against Monte-Carlo engine..."
   ]
  },
  {
   "cell_type": "code",
   "execution_count": 49,
   "metadata": {},
   "outputs": [],
   "source": [
    "settlementDate = ql.Date(30, ql.March, 2007)\n",
    "ql.Settings.instance().evaluationDate = settlementDate"
   ]
  },
  {
   "cell_type": "code",
   "execution_count": 50,
   "metadata": {},
   "outputs": [],
   "source": [
    "dayCounter = ql.ActualActual()"
   ]
  },
  {
   "cell_type": "code",
   "execution_count": 51,
   "metadata": {},
   "outputs": [],
   "source": [
    "exerciseDate = ql.Date(30, ql.March, 2012)"
   ]
  },
  {
   "cell_type": "code",
   "execution_count": 52,
   "metadata": {},
   "outputs": [],
   "source": [
    "payoff = ql.PlainVanillaPayoff(ql.Option.Put, 100)"
   ]
  },
  {
   "cell_type": "code",
   "execution_count": 53,
   "metadata": {},
   "outputs": [],
   "source": [
    "exercise = ql.EuropeanExercise(exerciseDate)"
   ]
  },
  {
   "cell_type": "code",
   "execution_count": 55,
   "metadata": {},
   "outputs": [],
   "source": [
    "# name, v0, kappa, theta, sigma, rho, r, q\n",
    "hestonModels = [\n",
    "    # ADI finite difference schemes for option pricing in the \n",
    "    # Heston model with correlation, K.J. in t'Hout and S. Foulon,\n",
    "    [\"'t Hout case 1\", 0.04, 1.5, 0.04, 0.3, -0.9, 0.025, 0.0],\n",
    "    # Efficient numerical methods for pricing American options under \n",
    "    # stochastic volatility, Samuli Ikonen and Jari Toivanen,\n",
    "    [\"Ikonen-Toivanen\", 0.0625, 5, 0.16, 0.9, 0.1, 0.1, 0.0],\n",
    "    # Not-so-complex logarithms in the Heston model, \n",
    "    # Christian Kahl and Peter Jäckel\n",
    "    [\"Kahl-Jaeckel\", 0.16, 1.0, 0.16, 2.0, -0.8, 0.0, 0.0],\n",
    "    # self defined test cases\n",
    "    [\"Equity case\", 0.07, 2.0, 0.04, 0.55, -0.8, 0.03, 0.035 ]\n",
    "]"
   ]
  },
  {
   "cell_type": "code",
   "execution_count": 68,
   "metadata": {},
   "outputs": [],
   "source": [
    "for heston_model in hestonModels:\n",
    "    riskFreeTS = ql.YieldTermStructureHandle(ql.FlatForward(0, ql.NullCalendar(), heston_model[6], dayCounter))\n",
    "    dividendTS = ql.YieldTermStructureHandle(ql.FlatForward(0, ql.NullCalendar(), heston_model[7], dayCounter))\n",
    "    s0 = ql.QuoteHandle(ql.SimpleQuote(100.0))\n",
    "    \n",
    "    batesProcess = ql.BatesProcess(riskFreeTS, dividendTS, s0,\n",
    "                                   heston_model[1], \n",
    "                                   heston_model[2], \n",
    "                                   heston_model[3], \n",
    "                                   heston_model[4], \n",
    "                                   heston_model[5], 2.0, -0.2, 0.1\n",
    "                                  )\n",
    "    mcTolerance = 0.5\n",
    "    mcEngine = ql.MCPREuropeanHestonEngine(batesProcess,\n",
    "                                           ql.nullInt(),\n",
    "                                           20,\n",
    "                                           True,\n",
    "                                           ql.nullInt(),\n",
    "                                           mcTol,\n",
    "                                           ql.nullInt(),\n",
    "                                           1234)\n",
    "    batesModel = ql.BatesModel(batesProcess)\n",
    "    fdEngine = ql.FdBatesVanillaEngine(batesModel, 50, 100, 30)\n",
    "    \n",
    "    analyticEngine = ql.BatesEngine(batesModel, 160)\n",
    "    \n",
    "    option = ql.VanillaOption(payoff, exercise)\n",
    "    option.setPricingEngine(mcEngine)\n",
    "    calculated = option.NPV()\n",
    "\n",
    "    option.setPricingEngine(analyticEngine)\n",
    "    expected = option.NPV()\n",
    "\n",
    "    option.setPricingEngine(fdEngine)\n",
    "    fdCalculated = option.NPV()\n",
    "    mcError = abs(calculated - expected)\n",
    "    \n",
    "    if (mcError > 3*mcTolerance):\n",
    "        print(\"FAILURE MC\")\n",
    "        \n",
    "    fdTolerance = 0.2\n",
    "    fdError = abs(fdCalculated - expected)\n",
    "    \n",
    "    if (fdError > fdTolerance):\n",
    "        print(\"FAILURE FD\")"
   ]
  },
  {
   "cell_type": "markdown",
   "metadata": {},
   "source": [
    "# Testing Bates model calibration using DAX volatility data.."
   ]
  },
  {
   "cell_type": "code",
   "execution_count": 69,
   "metadata": {},
   "outputs": [],
   "source": [
    "settlementDate = ql.Date(5, ql.July, 2002)\n",
    "ql.Settings.instance().evaluationDate = settlementDate"
   ]
  },
  {
   "cell_type": "code",
   "execution_count": 70,
   "metadata": {},
   "outputs": [],
   "source": [
    "dayCounter = ql.Actual365Fixed()"
   ]
  },
  {
   "cell_type": "code",
   "execution_count": 71,
   "metadata": {},
   "outputs": [],
   "source": [
    "calendar = ql.TARGET()"
   ]
  },
  {
   "cell_type": "code",
   "execution_count": 72,
   "metadata": {},
   "outputs": [],
   "source": [
    "t = [13, 41, 75, 165, 256, 345, 524, 703 ]"
   ]
  },
  {
   "cell_type": "code",
   "execution_count": 74,
   "metadata": {},
   "outputs": [],
   "source": [
    "r = [0.0357,0.0349,0.0341,0.0355,0.0359,0.0368,0.0386,0.0401]"
   ]
  },
  {
   "cell_type": "code",
   "execution_count": 75,
   "metadata": {},
   "outputs": [],
   "source": [
    "dates = [settlementDate] + [settlementDate + t_i for t_i in t]"
   ]
  },
  {
   "cell_type": "code",
   "execution_count": 87,
   "metadata": {},
   "outputs": [],
   "source": [
    "rates = [0.0357] + r"
   ]
  },
  {
   "cell_type": "code",
   "execution_count": 90,
   "metadata": {},
   "outputs": [],
   "source": [
    "riskFreeTS = ql.YieldTermStructureHandle(ql.ZeroCurve(dates, rates, dayCounter))"
   ]
  },
  {
   "cell_type": "code",
   "execution_count": 91,
   "metadata": {},
   "outputs": [],
   "source": [
    "dividendTS = ql.YieldTermStructureHandle(ql.FlatForward(settlementDate, 0.0, dayCounter))"
   ]
  },
  {
   "cell_type": "code",
   "execution_count": 93,
   "metadata": {},
   "outputs": [],
   "source": [
    "v =       [ 0.6625,0.4875,0.4204,0.3667,0.3431,0.3267,0.3121,0.3121,\n",
    "        0.6007,0.4543,0.3967,0.3511,0.3279,0.3154,0.2984,0.2921,\n",
    "        0.5084,0.4221,0.3718,0.3327,0.3155,0.3027,0.2919,0.2889,\n",
    "        0.4541,0.3869,0.3492,0.3149,0.2963,0.2926,0.2819,0.2800,\n",
    "        0.4060,0.3607,0.3330,0.2999,0.2887,0.2811,0.2751,0.2775,\n",
    "        0.3726,0.3396,0.3108,0.2781,0.2788,0.2722,0.2661,0.2686,\n",
    "        0.3550,0.3277,0.3012,0.2781,0.2781,0.2661,0.2661,0.2681,\n",
    "        0.3428,0.3209,0.2958,0.2740,0.2688,0.2627,0.2580,0.2620,\n",
    "        0.3302,0.3062,0.2799,0.2631,0.2573,0.2533,0.2504,0.2544,\n",
    "        0.3343,0.2959,0.2705,0.2540,0.2504,0.2464,0.2448,0.2462,\n",
    "        0.3460,0.2845,0.2624,0.2463,0.2425,0.2385,0.2373,0.2422,\n",
    "        0.3857,0.2860,0.2578,0.2399,0.2357,0.2327,0.2312,0.2351,\n",
    "        0.3976,0.2860,0.2607,0.2356,0.2297,0.2268,0.2241,0.2320 ]"
   ]
  },
  {
   "cell_type": "code",
   "execution_count": 94,
   "metadata": {},
   "outputs": [],
   "source": [
    "s0 = ql.QuoteHandle(ql.SimpleQuote(4468.17))"
   ]
  },
  {
   "cell_type": "code",
   "execution_count": 95,
   "metadata": {},
   "outputs": [],
   "source": [
    "strike = [3400,3600,3800,4000,4200,4400,\n",
    "          4500,4600,4800,5000,5200,5400,5600]"
   ]
  },
  {
   "cell_type": "code",
   "execution_count": 96,
   "metadata": {},
   "outputs": [],
   "source": [
    "v0 = 0.0433"
   ]
  },
  {
   "cell_type": "code",
   "execution_count": 97,
   "metadata": {},
   "outputs": [],
   "source": [
    "vol = ql.SimpleQuote(m.sqrt(v0))"
   ]
  },
  {
   "cell_type": "code",
   "execution_count": 100,
   "metadata": {},
   "outputs": [],
   "source": [
    "volTS = ql.BlackConstantVol(settlementDate, ql.NullCalendar(), ql.QuoteHandle(vol), dayCounter)"
   ]
  },
  {
   "cell_type": "code",
   "execution_count": 101,
   "metadata": {},
   "outputs": [],
   "source": [
    "kappa = 1.0\n",
    "theta = v0\n",
    "sigma = 1.0\n",
    "rho = 0.0\n",
    "lamda = 1.1098\n",
    "nu = -0.1285\n",
    "delta = 0.1702"
   ]
  },
  {
   "cell_type": "code",
   "execution_count": 102,
   "metadata": {},
   "outputs": [],
   "source": [
    "process = ql.BatesProcess(riskFreeTS, dividendTS, s0, v0, \n",
    "                         kappa, theta, sigma, rho, lamda, nu, delta)"
   ]
  },
  {
   "cell_type": "code",
   "execution_count": 103,
   "metadata": {},
   "outputs": [],
   "source": [
    "batesModel = ql.BatesModel(process)"
   ]
  },
  {
   "cell_type": "code",
   "execution_count": 105,
   "metadata": {},
   "outputs": [],
   "source": [
    "batesEngine = ql.BatesEngine(batesModel, 64)"
   ]
  },
  {
   "cell_type": "code",
   "execution_count": 106,
   "metadata": {},
   "outputs": [],
   "source": [
    "options = []"
   ]
  },
  {
   "cell_type": "code",
   "execution_count": 114,
   "metadata": {},
   "outputs": [],
   "source": [
    "for s in range(0, 13):\n",
    "    for m in range(0, 8):\n",
    "        vol = ql.QuoteHandle(ql.SimpleQuote(v[s*8+m]))\n",
    "        maturity = ql.Period(int((t[m]+3)/7.), ql.Weeks)\n",
    "        options += [ql.HestonModelHelper(maturity, calendar,\n",
    "                                          s0.value(), strike[s], vol,\n",
    "                                          riskFreeTS, dividendTS, \n",
    "                                          ql.BlackCalibrationHelper.ImpliedVolError)]\n",
    "for option in options:\n",
    "    option.setPricingEngine(batesEngine)"
   ]
  },
  {
   "cell_type": "code",
   "execution_count": 115,
   "metadata": {},
   "outputs": [],
   "source": [
    "om = ql.LevenbergMarquardt()"
   ]
  },
  {
   "cell_type": "code",
   "execution_count": 126,
   "metadata": {},
   "outputs": [],
   "source": [
    "batesModel.calibrate(options, om, ql.EndCriteria(400, 40, 1.0e-8, 1.0e-8, 1.0e-8))"
   ]
  },
  {
   "cell_type": "code",
   "execution_count": 117,
   "metadata": {},
   "outputs": [],
   "source": [
    "expected = 36.6"
   ]
  },
  {
   "cell_type": "code",
   "execution_count": 120,
   "metadata": {},
   "outputs": [],
   "source": [
    "def getCalibrationError(options):\n",
    "    sse = 0\n",
    "    for option in options:\n",
    "        diff = option.calibrationError()*100.0\n",
    "        sse += diff*diff\n",
    "    return sse"
   ]
  },
  {
   "cell_type": "code",
   "execution_count": 127,
   "metadata": {},
   "outputs": [
    {
     "data": {
      "text/plain": [
       "116.49556165090165"
      ]
     },
     "execution_count": 127,
     "metadata": {},
     "output_type": "execute_result"
    }
   ],
   "source": [
    "calculated = getCalibrationError(options)\n",
    "calculated"
   ]
  },
  {
   "cell_type": "code",
   "execution_count": 123,
   "metadata": {},
   "outputs": [
    {
     "name": "stdout",
     "output_type": "stream",
     "text": [
      "FAILURE\n"
     ]
    }
   ],
   "source": [
    "if (abs(calculated - expected) > 2.5):\n",
    "    print(\"FAILURE\")"
   ]
  }
 ],
 "metadata": {
  "kernelspec": {
   "display_name": "Python 3",
   "language": "python",
   "name": "python3"
  },
  "language_info": {
   "codemirror_mode": {
    "name": "ipython",
    "version": 3
   },
   "file_extension": ".py",
   "mimetype": "text/x-python",
   "name": "python",
   "nbconvert_exporter": "python",
   "pygments_lexer": "ipython3",
   "version": "3.6.3"
  }
 },
 "nbformat": 4,
 "nbformat_minor": 2
}
