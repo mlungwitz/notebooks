{
 "cells": [
  {
   "cell_type": "markdown",
   "metadata": {},
   "source": [
    "## Setup"
   ]
  },
  {
   "cell_type": "code",
   "execution_count": 52,
   "metadata": {},
   "outputs": [],
   "source": [
    "import QuantLib as ql\n",
    "import numpy as np"
   ]
  },
  {
   "cell_type": "code",
   "execution_count": 3,
   "metadata": {},
   "outputs": [],
   "source": [
    "termStructure=ql.RelinkableYieldTermStructureHandle()\n",
    "\n",
    "startYears = 1\n",
    "length = 5\n",
    "type_ = ql.VanillaSwap.Payer\n",
    "nominal = 1000.0\n",
    "settlementDays = 2\n",
    "fixedConvention = ql.Unadjusted\n",
    "floatingConvention = ql.ModifiedFollowing\n",
    "fixedFrequency = ql.Annual\n",
    "floatingFrequency = ql.Semiannual\n",
    "fixedDayCount = ql.Thirty360(ql.Thirty360.BondBasis)\n",
    "index = ql.as_iborindex(ql.Euribor6M(termStructure))\n",
    "calendar = index.fixingCalendar()\n",
    "today = calendar.adjust(ql.Date.todaysDate())\n",
    "settlement = calendar.advance(today,settlementDays,ql.Days)"
   ]
  },
  {
   "cell_type": "code",
   "execution_count": 4,
   "metadata": {},
   "outputs": [],
   "source": [
    "def makeSwap(fixedRate):\n",
    "    start = calendar.advance(settlement, startYears, ql.Years)\n",
    "    maturity = calendar.advance(start, length, ql.Years)\n",
    "    fixedSchedule = ql.Schedule(start, maturity,\n",
    "                                ql.Period(fixedFrequency),\n",
    "                                calendar,\n",
    "                                fixedConvention,\n",
    "                                fixedConvention,\n",
    "                                ql.DateGeneration.Forward, False)\n",
    "    \n",
    "    floatSchedule = ql.Schedule(start, maturity,\n",
    "                                ql.Period(floatingFrequency),\n",
    "                                calendar,\n",
    "                                floatingConvention,\n",
    "                                floatingConvention,\n",
    "                                ql.DateGeneration.Forward, False)\n",
    "    \n",
    "    swap = ql.VanillaSwap(type_, nominal,\n",
    "                          fixedSchedule, fixedRate, fixedDayCount,\n",
    "                          floatSchedule, index, 0.0,\n",
    "                          index.dayCounter()\n",
    "                          )\n",
    "    \n",
    "    swap.setPricingEngine(ql.DiscountingSwapEngine(termStructure))\n",
    "    return swap"
   ]
  },
  {
   "cell_type": "markdown",
   "metadata": {},
   "source": [
    "## Test Cached Values"
   ]
  },
  {
   "cell_type": "code",
   "execution_count": 5,
   "metadata": {},
   "outputs": [],
   "source": [
    "usingAtParCoupons = ql.IborCoupon.usingAtParCoupons()"
   ]
  },
  {
   "cell_type": "code",
   "execution_count": 10,
   "metadata": {},
   "outputs": [],
   "source": [
    "today = ql.Date(15, ql.February, 2002)\n",
    "ql.Settings.instance().evaluationDate = today\n",
    "settlement = ql.Date(19, ql.February, 2002)"
   ]
  },
  {
   "cell_type": "code",
   "execution_count": 12,
   "metadata": {},
   "outputs": [],
   "source": [
    "termStructure.linkTo(ql.FlatForward(settlement, ql.QuoteHandle(ql.SimpleQuote(0.04875825)), ql.Actual365Fixed()))"
   ]
  },
  {
   "cell_type": "code",
   "execution_count": 13,
   "metadata": {},
   "outputs": [],
   "source": [
    "atmRate = makeSwap(0.0).fairRate()"
   ]
  },
  {
   "cell_type": "code",
   "execution_count": 15,
   "metadata": {},
   "outputs": [],
   "source": [
    "itmSwap = makeSwap(0.8*atmRate)\n",
    "atmSwap = makeSwap(atmRate)\n",
    "otmSwap = makeSwap(1.2*atmRate)"
   ]
  },
  {
   "cell_type": "code",
   "execution_count": 16,
   "metadata": {},
   "outputs": [],
   "source": [
    "a = 0.048696\n",
    "sigma = 0.0058904"
   ]
  },
  {
   "cell_type": "code",
   "execution_count": 17,
   "metadata": {},
   "outputs": [],
   "source": [
    "model = ql.HullWhite(termStructure, a, sigma)"
   ]
  },
  {
   "cell_type": "code",
   "execution_count": 18,
   "metadata": {},
   "outputs": [],
   "source": [
    "exerciseDates = []"
   ]
  },
  {
   "cell_type": "code",
   "execution_count": 19,
   "metadata": {},
   "outputs": [],
   "source": [
    "leg = atmSwap.fixedLeg()"
   ]
  },
  {
   "cell_type": "code",
   "execution_count": 21,
   "metadata": {},
   "outputs": [],
   "source": [
    "for cf in leg:\n",
    "    coupon = ql.as_coupon(cf)\n",
    "    exerciseDates+=[coupon.accrualStartDate()]"
   ]
  },
  {
   "cell_type": "code",
   "execution_count": 22,
   "metadata": {},
   "outputs": [],
   "source": [
    "exercise = ql.BermudanExercise(exerciseDates)"
   ]
  },
  {
   "cell_type": "code",
   "execution_count": 23,
   "metadata": {},
   "outputs": [],
   "source": [
    "treeEngine = ql.TreeSwaptionEngine(model, 50)"
   ]
  },
  {
   "cell_type": "code",
   "execution_count": 24,
   "metadata": {},
   "outputs": [],
   "source": [
    "fdmEngine = ql.FdHullWhiteSwaptionEngine(model)"
   ]
  },
  {
   "cell_type": "code",
   "execution_count": 25,
   "metadata": {},
   "outputs": [],
   "source": [
    "itmValue=0\n",
    "atmValue=0\n",
    "otmValue=0\n",
    "itmValueFdm=0\n",
    "atmValueFdm=0\n",
    "otmValueFdm=0"
   ]
  },
  {
   "cell_type": "code",
   "execution_count": 26,
   "metadata": {},
   "outputs": [],
   "source": [
    "if not usingAtParCoupons:\n",
    "    itmValue    = 42.2402\n",
    "    atmValue = 12.9032\n",
    "    otmValue = 2.49758;\n",
    "    itmValueFdm = 42.2111\n",
    "    atmValueFdm = 12.8879\n",
    "    otmValueFdm = 2.44443\n",
    "else:\n",
    "    itmValue    = 42.2460\n",
    "    atmValue = 12.9069\n",
    "    otmValue = 2.4985\n",
    "    itmValueFdm = 42.2091\n",
    "    atmValueFdm = 12.8864\n",
    "    otmValueFdm = 2.4437\n",
    "    "
   ]
  },
  {
   "cell_type": "code",
   "execution_count": 27,
   "metadata": {},
   "outputs": [],
   "source": [
    "tolerance = 1.0e-4"
   ]
  },
  {
   "cell_type": "code",
   "execution_count": 32,
   "metadata": {},
   "outputs": [
    {
     "name": "stdout",
     "output_type": "stream",
     "text": [
      "Tree:  42.24707523189427   42.246\n"
     ]
    }
   ],
   "source": [
    "swaption = ql.Swaption(itmSwap, exercise)\n",
    "swaption.setPricingEngine(treeEngine)\n",
    "print(\"Tree ITM: \",swaption.NPV(), \" \", itmValue)"
   ]
  },
  {
   "cell_type": "code",
   "execution_count": 34,
   "metadata": {},
   "outputs": [
    {
     "name": "stdout",
     "output_type": "stream",
     "text": [
      "FDM: 42.209126374646075   42.2091\n"
     ]
    }
   ],
   "source": [
    "swaption.setPricingEngine(fdmEngine)\n",
    "print(\"FDM ITM:\", swaption.NPV(), \" \", itmValueFdm)"
   ]
  },
  {
   "cell_type": "code",
   "execution_count": 35,
   "metadata": {},
   "outputs": [
    {
     "name": "stdout",
     "output_type": "stream",
     "text": [
      "Tree ATM:  12.882589156500163   12.9069\n"
     ]
    }
   ],
   "source": [
    "swaption = ql.Swaption(atmSwap, exercise)\n",
    "swaption.setPricingEngine(treeEngine)\n",
    "print(\"Tree ATM: \",swaption.NPV(), \" \", atmValue)"
   ]
  },
  {
   "cell_type": "code",
   "execution_count": 36,
   "metadata": {},
   "outputs": [
    {
     "name": "stdout",
     "output_type": "stream",
     "text": [
      "FDM ATM: 12.886404686901107   12.8864\n"
     ]
    }
   ],
   "source": [
    "swaption.setPricingEngine(fdmEngine)\n",
    "print(\"FDM ATM:\", swaption.NPV(), \" \", atmValueFdm)"
   ]
  },
  {
   "cell_type": "code",
   "execution_count": 37,
   "metadata": {},
   "outputs": [
    {
     "name": "stdout",
     "output_type": "stream",
     "text": [
      "Tree OTM:  2.4769278252589424   2.4985\n"
     ]
    }
   ],
   "source": [
    "swaption = ql.Swaption(otmSwap, exercise)\n",
    "swaption.setPricingEngine(treeEngine)\n",
    "print(\"Tree OTM: \",swaption.NPV(), \" \", otmValue)"
   ]
  },
  {
   "cell_type": "code",
   "execution_count": 38,
   "metadata": {},
   "outputs": [
    {
     "name": "stdout",
     "output_type": "stream",
     "text": [
      "FDM OTM: 2.4437590288178934   2.4437\n"
     ]
    }
   ],
   "source": [
    "swaption.setPricingEngine(fdmEngine)\n",
    "print(\"FDM OTM:\", swaption.NPV(), \" \", otmValueFdm)"
   ]
  },
  {
   "cell_type": "code",
   "execution_count": 42,
   "metadata": {},
   "outputs": [],
   "source": [
    "exerciseDates_adjusted = []\n",
    "for exerciseDate in exerciseDates:\n",
    "    exerciseDate = calendar.adjust(exerciseDate - 10)\n",
    "    exerciseDates_adjusted+=[exerciseDate]\n",
    "exercise = ql.BermudanExercise(exerciseDates_adjusted)"
   ]
  },
  {
   "cell_type": "code",
   "execution_count": 40,
   "metadata": {},
   "outputs": [],
   "source": [
    "if not usingAtParCoupons:\n",
    "    itmValue = 42.1791\n",
    "    atmValue = 12.7699\n",
    "    otmValue = 2.4368\n",
    "else:\n",
    "    itmValue = 42.1849\n",
    "    atmValue = 12.7736\n",
    "    otmValue = 2.4379\n",
    "    "
   ]
  },
  {
   "cell_type": "code",
   "execution_count": 43,
   "metadata": {},
   "outputs": [
    {
     "name": "stdout",
     "output_type": "stream",
     "text": [
      "Tree ITM:  42.19741129870393   42.1849\n"
     ]
    }
   ],
   "source": [
    "swaption = ql.Swaption(itmSwap, exercise)\n",
    "swaption.setPricingEngine(treeEngine)\n",
    "print(\"Tree ITM: \",swaption.NPV(), \" \", itmValue)"
   ]
  },
  {
   "cell_type": "code",
   "execution_count": 46,
   "metadata": {},
   "outputs": [
    {
     "name": "stdout",
     "output_type": "stream",
     "text": [
      "Tree ATM:  12.782497212625326   12.7736\n"
     ]
    }
   ],
   "source": [
    "swaption = ql.Swaption(atmSwap, exercise)\n",
    "swaption.setPricingEngine(treeEngine)\n",
    "print(\"Tree ATM: \",swaption.NPV(), \" \", atmValue)"
   ]
  },
  {
   "cell_type": "code",
   "execution_count": 47,
   "metadata": {},
   "outputs": [
    {
     "name": "stdout",
     "output_type": "stream",
     "text": [
      "Tree OTM:  2.4398613359077013   2.4379\n"
     ]
    }
   ],
   "source": [
    "swaption = ql.Swaption(otmSwap, exercise)\n",
    "swaption.setPricingEngine(treeEngine)\n",
    "print(\"Tree OTM: \",swaption.NPV(), \" \", otmValue)"
   ]
  },
  {
   "cell_type": "markdown",
   "metadata": {},
   "source": [
    "## Test cached G2 values"
   ]
  },
  {
   "cell_type": "code",
   "execution_count": 48,
   "metadata": {},
   "outputs": [],
   "source": [
    "today = ql.Date(15, ql.September, 2016)\n",
    "ql.Settings.instance().evaluationDate = today\n",
    "settlement = ql.Date(19, ql.September, 2016)"
   ]
  },
  {
   "cell_type": "code",
   "execution_count": 49,
   "metadata": {},
   "outputs": [],
   "source": [
    "#flat yield term structure impling 1x5 swap at 5%\n",
    "termStructure.linkTo(ql.FlatForward(settlement, ql.QuoteHandle(ql.SimpleQuote(0.04875825)), ql.Actual365Fixed()))"
   ]
  },
  {
   "cell_type": "code",
   "execution_count": 50,
   "metadata": {},
   "outputs": [],
   "source": [
    "atmRate = makeSwap(0.0).fairRate()"
   ]
  },
  {
   "cell_type": "code",
   "execution_count": 57,
   "metadata": {},
   "outputs": [],
   "source": [
    "swaptions = []\n",
    "for s in np.arange(0.5,1.51,0.25):\n",
    "    swap = makeSwap(s*atmRate)\n",
    "    exerciseDates = []\n",
    "    for cf in swap.fixedLeg():\n",
    "        exerciseDates+=[ql.as_coupon(cf).accrualStartDate()]\n",
    "    swaptions+=[ql.Swaption(swap,ql.BermudanExercise(exerciseDates))]"
   ]
  },
  {
   "cell_type": "code",
   "execution_count": 59,
   "metadata": {},
   "outputs": [],
   "source": [
    "a=0.1\n",
    "sigma=0.01\n",
    "b=0.2\n",
    "eta=0.013\n",
    "rho=-0.5"
   ]
  },
  {
   "cell_type": "code",
   "execution_count": 60,
   "metadata": {},
   "outputs": [],
   "source": [
    "g2Model = ql.G2(termStructure,a,sigma,b,eta,rho)"
   ]
  },
  {
   "cell_type": "code",
   "execution_count": 61,
   "metadata": {},
   "outputs": [],
   "source": [
    "fdmEngine = ql.FdG2SwaptionEngine(g2Model,50,75,75,0,1e-3)"
   ]
  },
  {
   "cell_type": "code",
   "execution_count": 62,
   "metadata": {},
   "outputs": [],
   "source": [
    "treeEngine = ql.TreeSwaptionEngine(g2Model, 50)"
   ]
  },
  {
   "cell_type": "code",
   "execution_count": 63,
   "metadata": {},
   "outputs": [
    {
     "name": "stdout",
     "output_type": "stream",
     "text": [
      "0  FDM  103.22719265435109\n",
      "0  Tree  103.25601669881533\n",
      "1  FDM  54.650188390762885\n",
      "1  Tree  54.67257297841144\n",
      "2  FDM  20.046918192760035\n",
      "2  Tree  20.142866748623074\n",
      "3  FDM  5.2692418670892724\n",
      "3  Tree  5.40639929778375\n",
      "4  FDM  1.070928067209113\n",
      "4  Tree  1.1067736710745917\n"
     ]
    }
   ],
   "source": [
    "for i,swaption in enumerate(swaptions):\n",
    "    swaption.setPricingEngine(fdmEngine)\n",
    "    print (i, \" FDM \", swaption.NPV())\n",
    "    swaption.setPricingEngine(treeEngine)\n",
    "    print(i, \" Tree \", swaption.NPV())"
   ]
  },
  {
   "cell_type": "markdown",
   "metadata": {},
   "source": [
    "## Time Snapping"
   ]
  },
  {
   "cell_type": "code",
   "execution_count": 64,
   "metadata": {},
   "outputs": [],
   "source": [
    "today = ql.Date(8, ql.July, 2021)\n",
    "ql.Settings.instance().evaluationDate = today"
   ]
  },
  {
   "cell_type": "code",
   "execution_count": 65,
   "metadata": {},
   "outputs": [],
   "source": [
    "termStructure.linkTo(ql.FlatForward(settlement, ql.QuoteHandle(ql.SimpleQuote(0.02)), ql.Actual365Fixed()))"
   ]
  },
  {
   "cell_type": "code",
   "execution_count": 66,
   "metadata": {},
   "outputs": [],
   "source": [
    "index=ql.Euribor3M(termStructure)"
   ]
  },
  {
   "cell_type": "code",
   "execution_count": 96,
   "metadata": {},
   "outputs": [],
   "source": [
    "def makeBermudanSwaption(callDate):\n",
    "    effectiveDate = ql.Date(15, ql.May, 2025)\n",
    "    swap = ql.MakeVanillaSwap(ql.Period(10,ql.Years), index, 0.05,ql.Period(0,ql.Days),effectiveDate=effectiveDate,Nominal=10000.0,swapType=ql.VanillaSwap.Payer)\n",
    "    exerciseDates = [effectiveDate,callDate]\n",
    "    bermudanExercise = ql.BermudanExercise(exerciseDates)\n",
    "    bermudanSwaption=ql.Swaption(swap,bermudanExercise)\n",
    "    return bermudanSwaption"
   ]
  },
  {
   "cell_type": "code",
   "execution_count": 98,
   "metadata": {},
   "outputs": [],
   "source": [
    "intervalOfDaysToTest = 10"
   ]
  },
  {
   "cell_type": "code",
   "execution_count": 110,
   "metadata": {},
   "outputs": [
    {
     "name": "stdout",
     "output_type": "stream",
     "text": [
      "May 5th, 2030\n",
      "May 6th, 2030\n",
      "FD:  15.550026720814305 , Tree:  16.251837637775424\n",
      "May 7th, 2030\n",
      "FD:  15.567241445369966 , Tree:  16.341169405720102\n",
      "May 8th, 2030\n",
      "FD:  15.584463005944805 , Tree:  16.411464281913577\n",
      "May 9th, 2030\n",
      "FD:  15.60169140528961 , Tree:  16.473877204481585\n",
      "May 10th, 2030\n",
      "FD:  15.61892664628225 , Tree:  16.530069484171005\n",
      "May 11th, 2030\n",
      "May 12th, 2030\n",
      "May 13th, 2030\n",
      "FD:  15.6706734465037 , Tree:  16.6638185869186\n",
      "May 14th, 2030\n",
      "FD:  15.687936081597728 , Tree:  16.69756759540341\n",
      "May 15th, 2030\n",
      "FD:  15.70520557215797 , Tree:  16.726264896239694\n",
      "May 16th, 2030\n",
      "FD:  34.49628735416274 , Tree:  16.648528197447657\n",
      "May 17th, 2030\n",
      "FD:  34.52897740728422 , Tree:  16.570822784967348\n",
      "May 18th, 2030\n",
      "May 19th, 2030\n",
      "May 20th, 2030\n",
      "FD:  34.62711129664287 , Tree:  16.353334177579402\n",
      "May 21st, 2030\n",
      "FD:  34.659843854482745 , Tree:  16.294770799593312\n",
      "May 22nd, 2030\n",
      "FD:  34.692587051810996 , Tree:  16.226269505422437\n",
      "May 23rd, 2030\n",
      "FD:  34.725340894095 , Tree:  35.659404444984105\n",
      "May 24th, 2030\n",
      "FD:  34.75810538694439 , Tree:  35.737382218923386\n",
      "May 25th, 2030\n"
     ]
    }
   ],
   "source": [
    "for i in range(-intervalOfDaysToTest, intervalOfDaysToTest+1):\n",
    "    initialCallDate = ql.Date(15, ql.May, 2030)\n",
    "    calendar = index.fixingCalendar()\n",
    "    callDate = initialCallDate + ql.Period(i, ql.Days)\n",
    "    print(callDate)\n",
    "    if (calendar.isBusinessDay(callDate)):\n",
    "        bermudanSwaption = makeBermudanSwaption(callDate)\n",
    "        model=ql.HullWhite(termStructure)\n",
    "        bermudanSwaption.setPricingEngine(ql.FdHullWhiteSwaptionEngine(model))\n",
    "        npvFD = bermudanSwaption.NPV()\n",
    "        #print(npvFD)\n",
    "        timesteps = 14 * 4 * 4\n",
    "        bermudanSwaption.setPricingEngine(ql.TreeSwaptionEngine(model,timesteps))\n",
    "        npvTree = bermudanSwaption.NPV()\n",
    "        print(\"FD: \",npvFD, \", Tree: \",npvTree)\n",
    "    "
   ]
  }
 ],
 "metadata": {
  "kernelspec": {
   "display_name": "Python 3",
   "language": "python",
   "name": "python3"
  },
  "language_info": {
   "codemirror_mode": {
    "name": "ipython",
    "version": 3
   },
   "file_extension": ".py",
   "mimetype": "text/x-python",
   "name": "python",
   "nbconvert_exporter": "python",
   "pygments_lexer": "ipython3",
   "version": "3.6.3"
  }
 },
 "nbformat": 4,
 "nbformat_minor": 2
}
