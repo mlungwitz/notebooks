{
 "cells": [
  {
   "cell_type": "code",
   "execution_count": 1,
   "metadata": {},
   "outputs": [],
   "source": [
    "import QuantLib as ql"
   ]
  },
  {
   "cell_type": "code",
   "execution_count": 3,
   "metadata": {},
   "outputs": [],
   "source": [
    "calendar = ql.UnitedKingdom()\n",
    "bdc = ql.ModifiedFollowing\n",
    "evaluationDate = ql.Date(13, ql.August, 2007)\n",
    "evaluationDate = calendar.adjust(evaluationDate)\n",
    "ql.Settings.instance().evaluationDate = evaluationDate"
   ]
  },
  {
   "cell_type": "code",
   "execution_count": 9,
   "metadata": {},
   "outputs": [],
   "source": [
    "fromDate = ql.Date(1, ql.January, 2005)\n",
    "toDate = ql.Date(13, ql.August, 2007)\n",
    "rpiSchedule = ql.MakeSchedule(effectiveDate=fromDate,terminationDate=toDate,tenor=ql.Period(\"1M\"),calendar=ql.UnitedKingdom(),convention=ql.ModifiedFollowing)\n",
    "\n"
   ]
  },
  {
   "cell_type": "code",
   "execution_count": 13,
   "metadata": {},
   "outputs": [],
   "source": [
    "fixData = [ 189.9, 189.9, 189.6, 190.5, 191.6, 192.0,\n",
    "    192.2, 192.2, 192.6, 193.1, 193.3, 193.6,\n",
    "    194.1, 193.4, 194.2, 195.0, 196.5, 197.7,\n",
    "    198.5, 198.5, 199.2, 200.1, 200.4, 201.1,\n",
    "    202.7, 201.6, 203.1, 204.4, 205.4, 206.2,\n",
    "    207.3]"
   ]
  },
  {
   "cell_type": "code",
   "execution_count": 15,
   "metadata": {},
   "outputs": [],
   "source": [
    "hz = ql.RelinkableZeroInflationTermStructureHandle()"
   ]
  },
  {
   "cell_type": "code",
   "execution_count": 16,
   "metadata": {},
   "outputs": [],
   "source": [
    "interp = False"
   ]
  },
  {
   "cell_type": "code",
   "execution_count": 17,
   "metadata": {},
   "outputs": [],
   "source": [
    "iiUKRPI = ql.UKRPI(interp, hz)"
   ]
  },
  {
   "cell_type": "code",
   "execution_count": 18,
   "metadata": {},
   "outputs": [],
   "source": [
    "for i in range(0, len(fixData)):\n",
    "    iiUKRPI.addFixing(rpiSchedule[i], fixData[i])"
   ]
  },
  {
   "cell_type": "code",
   "execution_count": 20,
   "metadata": {},
   "outputs": [],
   "source": [
    "nominalTS = ql.FlatForward(ql.Date(13, ql.August, 2007), 0.05, ql.Actual360())"
   ]
  },
  {
   "cell_type": "code",
   "execution_count": 23,
   "metadata": {},
   "outputs": [],
   "source": [
    "zcData = [\n",
    "    [ ql.Date(13, ql.August, 2008), 2.93 ],\n",
    "    [ ql.Date(13, ql.August, 2009), 2.95 ],\n",
    "    [ ql.Date(13, ql.August, 2010), 2.965 ],\n",
    "    [ ql.Date(15, ql.August, 2011), 2.98 ],\n",
    "    [ ql.Date(13, ql.August, 2012), 3.0 ],\n",
    "    [ ql.Date(13, ql.August, 2014), 3.06 ],\n",
    "    [ ql.Date(13, ql.August, 2017), 3.175 ],\n",
    "    [ ql.Date(13, ql.August, 2019), 3.243 ],\n",
    "    [ ql.Date(15, ql.August, 2022), 3.293 ],\n",
    "    [ ql.Date(14, ql.August, 2027), 3.338 ],\n",
    "    [ ql.Date(13, ql.August, 2032), 3.348 ],\n",
    "    [ ql.Date(15, ql.August, 2037), 3.348 ],\n",
    "    [ ql.Date(13, ql.August, 2047), 3.308 ],\n",
    "    [ ql.Date(13, ql.August, 2057), 3.228 ]\n",
    "    ]"
   ]
  },
  {
   "cell_type": "code",
   "execution_count": 25,
   "metadata": {},
   "outputs": [],
   "source": [
    "observationLag = ql.Period(2,ql.Months)\n",
    "dc = ql.Thirty360()\n",
    "frequency = ql.Monthly"
   ]
  },
  {
   "cell_type": "code",
   "execution_count": 30,
   "metadata": {},
   "outputs": [],
   "source": [
    "instruments = []\n",
    "for i in range(0, len(zcData)):\n",
    "    maturity = zcData[i][0]\n",
    "    quote = ql.QuoteHandle(ql.SimpleQuote(zcData[i][1]/100.0))\n",
    "    anInstrument = ql.ZeroCouponInflationSwapHelper(quote, observationLag, maturity,\n",
    "                calendar, bdc, dc, iiUKRPI, ql.YieldTermStructureHandle(nominalTS))\n",
    "    instruments += [anInstrument]"
   ]
  },
  {
   "cell_type": "code",
   "execution_count": 33,
   "metadata": {},
   "outputs": [],
   "source": [
    "baseZeroRate = zcData[0][1]/100.0\n",
    "\n",
    "pZITS = ql.PiecewiseZeroInflation(evaluationDate, calendar, dc, observationLag,\n",
    "                    frequency, iiUKRPI.interpolated(), baseZeroRate,\n",
    "                    ql.YieldTermStructureHandle(nominalTS), instruments)"
   ]
  },
  {
   "cell_type": "code",
   "execution_count": 35,
   "metadata": {},
   "outputs": [],
   "source": [
    "# first check that the zero rates on the curve match the data\n",
    "# and that the helpers give the correct impled rates\n",
    "eps = 0.00000001\n",
    "forceLinearInterpolation = False\n",
    "\n",
    "for i in range(0, len(zcData)):\n",
    "    if (abs(zcData[i][1]/100.0 - pZITS.zeroRate(zcData[i][0], observationLag, forceLinearInterpolation)) > eps):\n",
    "        print (\"ERROR rate \",i)\n",
    "    if (abs(instruments[i].impliedQuote() - zcData[i][1]/100.0) > eps):\n",
    "        print (\"ERROR quote \",i)"
   ]
  },
  {
   "cell_type": "code",
   "execution_count": 36,
   "metadata": {},
   "outputs": [],
   "source": [
    "hz.linkTo(pZITS)"
   ]
  },
  {
   "cell_type": "code",
   "execution_count": 38,
   "metadata": {},
   "outputs": [],
   "source": [
    "fromDate = hz.baseDate()\n",
    "toDate = hz.maxDate()-1*ql.Months # a bit of margin for adjustments"
   ]
  },
  {
   "cell_type": "code",
   "execution_count": 40,
   "metadata": {},
   "outputs": [
    {
     "data": {
      "text/plain": [
       "Date(28,6,2057)"
      ]
     },
     "execution_count": 40,
     "metadata": {},
     "output_type": "execute_result"
    }
   ],
   "source": [
    "toDate"
   ]
  },
  {
   "cell_type": "code",
   "execution_count": 41,
   "metadata": {},
   "outputs": [],
   "source": [
    "testIndex = ql.MakeSchedule(effectiveDate=fromDate,\n",
    "                              terminationDate=toDate,\n",
    "                              tenor=ql.Period(\"1M\"),\n",
    "                              calendar=ql.UnitedKingdom(),\n",
    "                              convention=ql.ModifiedFollowing)"
   ]
  },
  {
   "cell_type": "code",
   "execution_count": 49,
   "metadata": {},
   "outputs": [
    {
     "ename": "NameError",
     "evalue": "name 'inflationPeriod' is not defined",
     "output_type": "error",
     "traceback": [
      "\u001b[1;31m---------------------------------------------------------------------------\u001b[0m",
      "\u001b[1;31mNameError\u001b[0m                                 Traceback (most recent call last)",
      "\u001b[1;32m<ipython-input-49-62484d6cd35b>\u001b[0m in \u001b[0;36m<module>\u001b[1;34m()\u001b[0m\n\u001b[0;32m      8\u001b[0m     \u001b[1;32mif\u001b[0m \u001b[1;32mnot\u001b[0m \u001b[1;33m(\u001b[0m\u001b[0miiUKRPI\u001b[0m\u001b[1;33m.\u001b[0m\u001b[0minterpolated\u001b[0m\u001b[1;33m(\u001b[0m\u001b[1;33m)\u001b[0m\u001b[1;33m)\u001b[0m\u001b[1;33m:\u001b[0m \u001b[1;31m# because fixing constant over period\u001b[0m\u001b[1;33m\u001b[0m\u001b[0m\n\u001b[0;32m      9\u001b[0m         t = hz.dayCounter().yearFraction(bd,\n\u001b[1;32m---> 10\u001b[1;33m             inflationPeriod(d, iiUKRPI.frequency()).first)\n\u001b[0m",
      "\u001b[1;31mNameError\u001b[0m: name 'inflationPeriod' is not defined"
     ]
    }
   ],
   "source": [
    "bd = hz.baseDate()\n",
    "bf = iiUKRPI.fixing(bd)\n",
    "\n",
    "for i in range(0, len(testIndex)):\n",
    "    d = testIndex[i]\n",
    "    z = hz.zeroRate(d, ql.Period(0,ql.Days))\n",
    "    t = hz.dayCounter().yearFraction(bd, d)\n",
    "    #if not (iiUKRPI.interpolated()): # because fixing constant over period\n",
    "    #    t = hz.dayCounter().yearFraction(bd,\n",
    "    #        inflationPeriod(d, iiUKRPI.frequency()).first)\n",
    "    "
   ]
  },
  {
   "cell_type": "code",
   "execution_count": 53,
   "metadata": {},
   "outputs": [],
   "source": [
    "test = ql.ZeroInflationCurve(evaluationDate, ql.UnitedKingdom(), ql.Actual365Fixed(),\n",
    "                            ql.Period(\"1Y\"), ql.Annual, True, ql.YieldTermStructureHandle(nominalTS),\n",
    "                            [ql.Date(1,1,2006), ql.Date(1,1,2021)], [0.02, 0.02])"
   ]
  },
  {
   "cell_type": "code",
   "execution_count": 55,
   "metadata": {},
   "outputs": [
    {
     "data": {
      "text/plain": [
       "0.02"
      ]
     },
     "execution_count": 55,
     "metadata": {},
     "output_type": "execute_result"
    }
   ],
   "source": [
    "test.zeroRate(1.0, True)"
   ]
  },
  {
   "cell_type": "code",
   "execution_count": 56,
   "metadata": {},
   "outputs": [],
   "source": [
    "test = ql.YoYInflationCurve(evaluationDate, ql.UnitedKingdom(), ql.Actual365Fixed(),\n",
    "                            ql.Period(\"1Y\"), ql.Annual, True, ql.YieldTermStructureHandle(nominalTS),\n",
    "                            [ql.Date(1,1,2006), ql.Date(1,1,2021)], [0.02, 0.02])"
   ]
  },
  {
   "cell_type": "code",
   "execution_count": 57,
   "metadata": {},
   "outputs": [
    {
     "data": {
      "text/plain": [
       "0.02"
      ]
     },
     "execution_count": 57,
     "metadata": {},
     "output_type": "execute_result"
    }
   ],
   "source": [
    "test.yoyRate(1.0, True)"
   ]
  }
 ],
 "metadata": {
  "kernelspec": {
   "display_name": "Python 3",
   "language": "python",
   "name": "python3"
  },
  "language_info": {
   "codemirror_mode": {
    "name": "ipython",
    "version": 3
   },
   "file_extension": ".py",
   "mimetype": "text/x-python",
   "name": "python",
   "nbconvert_exporter": "python",
   "pygments_lexer": "ipython3",
   "version": "3.6.3"
  }
 },
 "nbformat": 4,
 "nbformat_minor": 2
}
