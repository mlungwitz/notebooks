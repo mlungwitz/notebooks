{
 "cells": [
  {
   "cell_type": "code",
   "execution_count": 1,
   "metadata": {},
   "outputs": [],
   "source": [
    "import QuantLib as ql"
   ]
  },
  {
   "cell_type": "code",
   "execution_count": 16,
   "metadata": {},
   "outputs": [],
   "source": [
    "class CommonVars:\n",
    "    swapSettlementDays = 2\n",
    "    faceAmount = 100.0\n",
    "    fixedConvention = ql.Unadjusted\n",
    "    compounding = ql.Continuous\n",
    "    fixedFrequency = ql.Annual\n",
    "    floatingFrequency = ql.Semiannual\n",
    "    termStructure = ql.RelinkableYieldTermStructureHandle()\n",
    "    iborIndex = ql.Euribor(ql.Period(floatingFrequency), termStructure)\n",
    "    calendar = iborIndex.fixingCalendar()\n",
    "    swapIndex = ql.SwapIndex(\"EuriborSwapIsdaFixA\",ql.Period(\"10Y\"), swapSettlementDays,\n",
    "                              iborIndex.currency(), calendar,\n",
    "                              ql.Period(fixedFrequency), fixedConvention,\n",
    "                              iborIndex.dayCounter(), iborIndex)\n",
    "    spread = 0.0\n",
    "    nonnullspread = 0.003\n",
    "    today = ql.Date(24,ql.April,2007)\n",
    "    ql.Settings.instance().evaluationDate = today\n",
    "    termStructure.linkTo(ql.FlatForward(today, 0.05, ql.Actual365Fixed()))\n",
    "    pricer = ql.BlackIborCouponPricer()\n",
    "    swaptionVolatilityStructure = ql.SwaptionVolatilityStructureHandle(ql.ConstantSwaptionVolatility(today, ql.NullCalendar(),ql.Following,\n",
    "                                               0.2, ql.Actual365Fixed()))\n",
    "    meanReversionQuote = ql.QuoteHandle(ql.SimpleQuote(0.01))\n",
    "    cmspricer = ql.AnalyticHaganPricer(swaptionVolatilityStructure,\n",
    "                                      ql.GFunctionFactory.Standard,\n",
    "                                      meanReversionQuote)"
   ]
  },
  {
   "cell_type": "markdown",
   "metadata": {},
   "source": [
    "# Consistency between fair price and fair spread"
   ]
  },
  {
   "cell_type": "code",
   "execution_count": 19,
   "metadata": {},
   "outputs": [],
   "source": [
    "variables = CommonVars()"
   ]
  },
  {
   "cell_type": "code",
   "execution_count": 22,
   "metadata": {},
   "outputs": [],
   "source": [
    "bondCalendar = ql.TARGET()\n",
    "settlementDays = 3"
   ]
  },
  {
   "cell_type": "code",
   "execution_count": 23,
   "metadata": {},
   "outputs": [],
   "source": [
    "# Fixed Underlying bond (Isin: DE0001135275 DBR 4 01/04/37)\n",
    "# maturity doesn't occur on a business day"
   ]
  },
  {
   "cell_type": "code",
   "execution_count": 25,
   "metadata": {},
   "outputs": [],
   "source": [
    "bondSchedule = ql.Schedule(ql.Date(4,ql.January,2005),\n",
    "                      ql.Date(4,ql.January,2037),\n",
    "                      ql.Period(ql.Annual), bondCalendar,\n",
    "                      ql.Unadjusted, ql.Unadjusted,\n",
    "                      ql.DateGeneration.Backward, False)"
   ]
  },
  {
   "cell_type": "code",
   "execution_count": 38,
   "metadata": {},
   "outputs": [
    {
     "name": "stdout",
     "output_type": "stream",
     "text": [
      "January 4th, 2005\n",
      "January 4th, 2006\n",
      "January 4th, 2007\n",
      "January 4th, 2008\n",
      "January 4th, 2009\n",
      "January 4th, 2010\n",
      "January 4th, 2011\n",
      "January 4th, 2012\n",
      "January 4th, 2013\n",
      "January 4th, 2014\n",
      "January 4th, 2015\n",
      "January 4th, 2016\n",
      "January 4th, 2017\n",
      "January 4th, 2018\n",
      "January 4th, 2019\n",
      "January 4th, 2020\n",
      "January 4th, 2021\n",
      "January 4th, 2022\n",
      "January 4th, 2023\n",
      "January 4th, 2024\n",
      "January 4th, 2025\n",
      "January 4th, 2026\n",
      "January 4th, 2027\n",
      "January 4th, 2028\n",
      "January 4th, 2029\n",
      "January 4th, 2030\n",
      "January 4th, 2031\n",
      "January 4th, 2032\n",
      "January 4th, 2033\n",
      "January 4th, 2034\n",
      "January 4th, 2035\n",
      "January 4th, 2036\n",
      "January 4th, 2037\n"
     ]
    }
   ],
   "source": [
    "for d in bondSchedule:\n",
    "    print(d)"
   ]
  },
  {
   "cell_type": "code",
   "execution_count": 26,
   "metadata": {},
   "outputs": [],
   "source": [
    "bond = ql.FixedRateBond(settlementDays, variables.faceAmount,\n",
    "                      bondSchedule,\n",
    "                      [ 0.04],\n",
    "                      ql.ActualActual(ql.ActualActual.ISDA),\n",
    "                      ql.Following,\n",
    "                      100.0, ql.Date(4,ql.January,2005))"
   ]
  },
  {
   "cell_type": "code",
   "execution_count": 27,
   "metadata": {},
   "outputs": [],
   "source": [
    "payFixedRate = True"
   ]
  },
  {
   "cell_type": "code",
   "execution_count": 28,
   "metadata": {},
   "outputs": [],
   "source": [
    "bondPrice = 95.0"
   ]
  },
  {
   "cell_type": "code",
   "execution_count": 29,
   "metadata": {},
   "outputs": [],
   "source": [
    "isPar = True"
   ]
  },
  {
   "cell_type": "code",
   "execution_count": 31,
   "metadata": {},
   "outputs": [],
   "source": [
    "parAssetSwap = ql.AssetSwap(payFixedRate,\n",
    "                         bond, bondPrice,\n",
    "                         variables.iborIndex, variables.spread,\n",
    "                         ql.Schedule(),\n",
    "                         variables.iborIndex.dayCounter(),\n",
    "                         isPar)"
   ]
  },
  {
   "cell_type": "code",
   "execution_count": 41,
   "metadata": {},
   "outputs": [
    {
     "name": "stdout",
     "output_type": "stream",
     "text": [
      "January 4th, 2008 3.9999101729171427\n",
      "January 5th, 2009 4.000089827082864\n",
      "January 4th, 2010 4.0000000000000036\n",
      "January 4th, 2011 4.0000000000000036\n",
      "January 4th, 2012 3.9999101729171427\n",
      "January 4th, 2013 4.000089827082864\n",
      "January 6th, 2014 4.0000000000000036\n",
      "January 5th, 2015 4.0000000000000036\n",
      "January 4th, 2016 3.9999101729171427\n",
      "January 4th, 2017 4.000089827082864\n",
      "January 4th, 2018 4.0000000000000036\n",
      "January 4th, 2019 4.0000000000000036\n",
      "January 6th, 2020 3.9999101729171427\n",
      "January 4th, 2021 4.000089827082864\n",
      "January 4th, 2022 4.0000000000000036\n",
      "January 4th, 2023 4.0000000000000036\n",
      "January 4th, 2024 3.9999101729171427\n",
      "January 6th, 2025 4.000089827082864\n",
      "January 5th, 2026 4.0000000000000036\n",
      "January 4th, 2027 4.0000000000000036\n",
      "January 4th, 2028 3.9999101729171427\n",
      "January 4th, 2029 4.000089827082864\n",
      "January 4th, 2030 4.0000000000000036\n",
      "January 6th, 2031 4.0000000000000036\n",
      "January 5th, 2032 3.9999101729171427\n",
      "January 4th, 2033 4.000089827082864\n",
      "January 4th, 2034 4.0000000000000036\n",
      "January 4th, 2035 4.0000000000000036\n",
      "January 4th, 2036 3.9999101729171427\n",
      "January 5th, 2037 4.000089827082864\n",
      "January 5th, 2037 100.0\n"
     ]
    }
   ],
   "source": [
    "for cf in parAssetSwap.leg(0):\n",
    "    print(cf.date(), cf.amount())"
   ]
  },
  {
   "cell_type": "code",
   "execution_count": 32,
   "metadata": {},
   "outputs": [],
   "source": [
    "swapEngine = ql.DiscountingSwapEngine(variables.termStructure,\n",
    "                              True,\n",
    "                              bond.settlementDate(),\n",
    "                              ql.Settings.instance().evaluationDate)"
   ]
  },
  {
   "cell_type": "code",
   "execution_count": 33,
   "metadata": {},
   "outputs": [],
   "source": [
    "parAssetSwap.setPricingEngine(swapEngine)"
   ]
  },
  {
   "cell_type": "code",
   "execution_count": 42,
   "metadata": {},
   "outputs": [
    {
     "name": "stdout",
     "output_type": "stream",
     "text": [
      "April 27th, 2007 -3.7616438356164252\n",
      "July 4th, 2007 0.9358588770158827\n",
      "January 4th, 2008 2.552582336038789\n",
      "July 4th, 2008 2.5244895866360695\n",
      "January 5th, 2009 2.5666315972451503\n",
      "July 6th, 2009 2.5244895866360695\n",
      "January 4th, 2010 2.5244895866360695\n",
      "July 5th, 2010 2.5244895866360695\n",
      "January 4th, 2011 2.5385349992569806\n",
      "July 4th, 2011 2.5104460979124887\n",
      "January 4th, 2012 2.552582336038789\n",
      "July 4th, 2012 2.5244895866360917\n",
      "January 4th, 2013 2.552582336038811\n",
      "July 4th, 2013 2.510446097912511\n",
      "January 6th, 2014 2.5806827831396317\n",
      "July 4th, 2014 2.4823648911033835\n",
      "January 5th, 2015 2.566631597245128\n",
      "July 6th, 2015 2.5244895866360695\n",
      "January 4th, 2016 2.5244895866360695\n",
      "July 4th, 2016 2.5244895866360473\n",
      "January 4th, 2017 2.552582336038811\n",
      "July 4th, 2017 2.510446097912511\n",
      "January 4th, 2018 2.552582336038789\n",
      "July 4th, 2018 2.510446097912511\n",
      "January 4th, 2019 2.552582336038811\n",
      "July 4th, 2019 2.510446097912511\n",
      "January 6th, 2020 2.580682783139654\n",
      "July 6th, 2020 2.5244895866360473\n",
      "January 4th, 2021 2.5244895866360695\n",
      "July 5th, 2021 2.5244895866360917\n",
      "January 4th, 2022 2.5385349992569806\n",
      "July 4th, 2022 2.510446097912533\n",
      "January 4th, 2023 2.552582336038789\n",
      "July 4th, 2023 2.510446097912533\n",
      "January 4th, 2024 2.5525823360387667\n",
      "July 4th, 2024 2.5244895866360917\n",
      "January 6th, 2025 2.5806827831396317\n",
      "July 4th, 2025 2.4823648911033835\n",
      "January 5th, 2026 2.566631597245128\n",
      "July 6th, 2026 2.5244895866360695\n",
      "January 4th, 2027 2.5244895866360695\n",
      "July 5th, 2027 2.5244895866360695\n",
      "January 4th, 2028 2.5385349992569806\n",
      "July 4th, 2028 2.5244895866360695\n",
      "January 4th, 2029 2.552582336038789\n",
      "July 4th, 2029 2.510446097912511\n",
      "January 4th, 2030 2.552582336038789\n",
      "July 4th, 2030 2.510446097912511\n",
      "January 6th, 2031 2.580682783139654\n",
      "July 4th, 2031 2.4823648911033613\n",
      "January 5th, 2032 2.5666315972451503\n",
      "July 5th, 2032 2.5244895866360917\n",
      "January 4th, 2033 2.5385349992569806\n",
      "July 4th, 2033 2.510446097912511\n",
      "January 4th, 2034 2.552582336038811\n",
      "July 4th, 2034 2.510446097912511\n",
      "January 4th, 2035 2.552582336038789\n",
      "July 4th, 2035 2.510446097912533\n",
      "January 4th, 2036 2.552582336038789\n",
      "July 4th, 2036 2.5244895866360917\n",
      "January 5th, 2037 2.5666315972451503\n",
      "January 5th, 2037 100.0\n"
     ]
    }
   ],
   "source": [
    "for cf in parAssetSwap.leg(1):\n",
    "    print(cf.date(), cf.amount())"
   ]
  },
  {
   "cell_type": "code",
   "execution_count": 34,
   "metadata": {},
   "outputs": [],
   "source": [
    "fairCleanPrice = parAssetSwap.fairCleanPrice()"
   ]
  },
  {
   "cell_type": "code",
   "execution_count": 36,
   "metadata": {},
   "outputs": [
    {
     "data": {
      "text/plain": [
       "82.91948367169132"
      ]
     },
     "execution_count": 36,
     "metadata": {},
     "output_type": "execute_result"
    }
   ],
   "source": [
    "fairCleanPrice"
   ]
  },
  {
   "cell_type": "code",
   "execution_count": 35,
   "metadata": {},
   "outputs": [],
   "source": [
    "fairSpread = parAssetSwap.fairSpread()"
   ]
  },
  {
   "cell_type": "code",
   "execution_count": 37,
   "metadata": {},
   "outputs": [
    {
     "data": {
      "text/plain": [
       "-0.00779677853042454"
      ]
     },
     "execution_count": 37,
     "metadata": {},
     "output_type": "execute_result"
    }
   ],
   "source": [
    "fairSpread"
   ]
  },
  {
   "cell_type": "code",
   "execution_count": 43,
   "metadata": {},
   "outputs": [],
   "source": [
    "tolerance = 1.0e-13"
   ]
  },
  {
   "cell_type": "code",
   "execution_count": 44,
   "metadata": {},
   "outputs": [],
   "source": [
    "assetSwap2 = ql.AssetSwap(payFixedRate,\n",
    "                         bond, fairCleanPrice,\n",
    "                         variables.iborIndex, variables.spread,\n",
    "                         ql.Schedule(),\n",
    "                         variables.iborIndex.dayCounter(),\n",
    "                         isPar)"
   ]
  },
  {
   "cell_type": "code",
   "execution_count": 45,
   "metadata": {},
   "outputs": [],
   "source": [
    "assetSwap2.setPricingEngine(swapEngine)"
   ]
  },
  {
   "cell_type": "code",
   "execution_count": 47,
   "metadata": {},
   "outputs": [
    {
     "data": {
      "text/plain": [
       "2.842170943040401e-14"
      ]
     },
     "execution_count": 47,
     "metadata": {},
     "output_type": "execute_result"
    }
   ],
   "source": [
    "assetSwap2.NPV()"
   ]
  },
  {
   "cell_type": "code",
   "execution_count": 48,
   "metadata": {},
   "outputs": [],
   "source": [
    "if (abs(assetSwap2.NPV())>tolerance):\n",
    "    print(\"FAIL: par asset swap fair clean price doesn't zero the NPV\")"
   ]
  },
  {
   "cell_type": "code",
   "execution_count": 49,
   "metadata": {},
   "outputs": [
    {
     "data": {
      "text/plain": [
       "82.9194836716913"
      ]
     },
     "execution_count": 49,
     "metadata": {},
     "output_type": "execute_result"
    }
   ],
   "source": [
    "assetSwap2.fairCleanPrice()"
   ]
  },
  {
   "cell_type": "code",
   "execution_count": 52,
   "metadata": {},
   "outputs": [],
   "source": [
    "if (abs(assetSwap2.fairCleanPrice() - fairCleanPrice)>tolerance):\n",
    "    print(\"FAIL: par asset swap fair clean price doesn't equal input\")"
   ]
  },
  {
   "cell_type": "code",
   "execution_count": 53,
   "metadata": {},
   "outputs": [
    {
     "data": {
      "text/plain": [
       "-1.8350942472453456e-17"
      ]
     },
     "execution_count": 53,
     "metadata": {},
     "output_type": "execute_result"
    }
   ],
   "source": [
    "assetSwap2.fairSpread()"
   ]
  },
  {
   "cell_type": "code",
   "execution_count": 54,
   "metadata": {},
   "outputs": [],
   "source": [
    "if (abs(assetSwap2.fairSpread() - variables.spread)>tolerance):\n",
    "    print(\"FAIL: par asset swap fair spread doesn't equal input spread\")"
   ]
  },
  {
   "cell_type": "code",
   "execution_count": 55,
   "metadata": {},
   "outputs": [],
   "source": [
    "assetSwap3 = ql.AssetSwap(payFixedRate,\n",
    "                         bond, bondPrice,\n",
    "                         variables.iborIndex, fairSpread,\n",
    "                         ql.Schedule(),\n",
    "                         variables.iborIndex.dayCounter(),\n",
    "                         isPar)"
   ]
  },
  {
   "cell_type": "code",
   "execution_count": 56,
   "metadata": {},
   "outputs": [],
   "source": [
    "assetSwap3.setPricingEngine(swapEngine)"
   ]
  },
  {
   "cell_type": "code",
   "execution_count": 57,
   "metadata": {},
   "outputs": [],
   "source": [
    "if (abs(assetSwap3.NPV())>tolerance):\n",
    "    print(\"FAIL: par asset swap fair spread doesn't zero the NPV\")"
   ]
  },
  {
   "cell_type": "code",
   "execution_count": 58,
   "metadata": {},
   "outputs": [],
   "source": [
    "if (abs(assetSwap3.fairCleanPrice() - bondPrice)>tolerance):\n",
    "    print(\"FAIL: par asset swap fair clean price doesn't equal input\")"
   ]
  },
  {
   "cell_type": "code",
   "execution_count": 59,
   "metadata": {},
   "outputs": [],
   "source": [
    "if (abs(assetSwap3.fairSpread() - fairSpread)>tolerance):\n",
    "    print(\"FAIL: par asset swap fair spread doesn't equal input spread\")"
   ]
  },
  {
   "cell_type": "code",
   "execution_count": 60,
   "metadata": {},
   "outputs": [],
   "source": [
    "# let's change the npv date"
   ]
  },
  {
   "cell_type": "code",
   "execution_count": null,
   "metadata": {},
   "outputs": [],
   "source": []
  }
 ],
 "metadata": {
  "kernelspec": {
   "display_name": "Python 3",
   "language": "python",
   "name": "python3"
  },
  "language_info": {
   "codemirror_mode": {
    "name": "ipython",
    "version": 3
   },
   "file_extension": ".py",
   "mimetype": "text/x-python",
   "name": "python",
   "nbconvert_exporter": "python",
   "pygments_lexer": "ipython3",
   "version": "3.6.3"
  }
 },
 "nbformat": 4,
 "nbformat_minor": 2
}
