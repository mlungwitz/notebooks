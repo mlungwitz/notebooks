{
 "cells": [
  {
   "cell_type": "code",
   "execution_count": 1,
   "metadata": {},
   "outputs": [],
   "source": [
    "import QuantLib as ql"
   ]
  },
  {
   "cell_type": "markdown",
   "metadata": {},
   "source": [
    "# Barone-Adesi and Whaley approximation"
   ]
  },
  {
   "cell_type": "code",
   "execution_count": 2,
   "metadata": {},
   "outputs": [],
   "source": [
    "values = [\n",
    "      #        type, strike,   spot,    q,    r,    t,  vol,   value\n",
    "      [ ql.Option.Call, 100.00,  90.00, 0.10, 0.10, 0.10, 0.15,  0.0206 ],\n",
    "      [ ql.Option.Call, 100.00, 100.00, 0.10, 0.10, 0.10, 0.15,  1.8771 ],\n",
    "      [ ql.Option.Call, 100.00, 110.00, 0.10, 0.10, 0.10, 0.15, 10.0089 ],\n",
    "      [ ql.Option.Call, 100.00,  90.00, 0.10, 0.10, 0.10, 0.25,  0.3159 ],\n",
    "      [ ql.Option.Call, 100.00, 100.00, 0.10, 0.10, 0.10, 0.25,  3.1280 ],\n",
    "      [ ql.Option.Call, 100.00, 110.00, 0.10, 0.10, 0.10, 0.25, 10.3919 ],\n",
    "      [ ql.Option.Call, 100.00,  90.00, 0.10, 0.10, 0.10, 0.35,  0.9495 ],\n",
    "      [ ql.Option.Call, 100.00, 100.00, 0.10, 0.10, 0.10, 0.35,  4.3777 ],\n",
    "      [ ql.Option.Call, 100.00, 110.00, 0.10, 0.10, 0.10, 0.35, 11.1679 ],\n",
    "      [ ql.Option.Call, 100.00,  90.00, 0.10, 0.10, 0.50, 0.15,  0.8208 ],\n",
    "      [ ql.Option.Call, 100.00, 100.00, 0.10, 0.10, 0.50, 0.15,  4.0842 ],\n",
    "      [ ql.Option.Call, 100.00, 110.00, 0.10, 0.10, 0.50, 0.15, 10.8087 ],\n",
    "      [ ql.Option.Call, 100.00,  90.00, 0.10, 0.10, 0.50, 0.25,  2.7437 ],\n",
    "      [ ql.Option.Call, 100.00, 100.00, 0.10, 0.10, 0.50, 0.25,  6.8015 ],\n",
    "      [ ql.Option.Call, 100.00, 110.00, 0.10, 0.10, 0.50, 0.25, 13.0170 ],\n",
    "      [ ql.Option.Call, 100.00,  90.00, 0.10, 0.10, 0.50, 0.35,  5.0063 ],\n",
    "      [ ql.Option.Call, 100.00, 100.00, 0.10, 0.10, 0.50, 0.35,  9.5106 ],\n",
    "      [ ql.Option.Call, 100.00, 110.00, 0.10, 0.10, 0.50, 0.35, 15.5689 ],\n",
    "      [ ql.Option.Put,  100.00,  90.00, 0.10, 0.10, 0.10, 0.15, 10.0000 ],\n",
    "      [ ql.Option.Put,  100.00, 100.00, 0.10, 0.10, 0.10, 0.15,  1.8770 ],\n",
    "      [ ql.Option.Put,  100.00, 110.00, 0.10, 0.10, 0.10, 0.15,  0.0410 ],\n",
    "      [ ql.Option.Put,  100.00,  90.00, 0.10, 0.10, 0.10, 0.25, 10.2533 ],\n",
    "      [ ql.Option.Put,  100.00, 100.00, 0.10, 0.10, 0.10, 0.25,  3.1277 ],\n",
    "      [ ql.Option.Put,  100.00, 110.00, 0.10, 0.10, 0.10, 0.25,  0.4562 ],\n",
    "      [ ql.Option.Put,  100.00,  90.00, 0.10, 0.10, 0.10, 0.35, 10.8787 ],\n",
    "      [ ql.Option.Put,  100.00, 100.00, 0.10, 0.10, 0.10, 0.35,  4.3777 ],\n",
    "      [ ql.Option.Put,  100.00, 110.00, 0.10, 0.10, 0.10, 0.35,  1.2402 ],\n",
    "      [ ql.Option.Put,  100.00,  90.00, 0.10, 0.10, 0.50, 0.15, 10.5595 ],\n",
    "      [ ql.Option.Put,  100.00, 100.00, 0.10, 0.10, 0.50, 0.15,  4.0842 ],\n",
    "      [ ql.Option.Put,  100.00, 110.00, 0.10, 0.10, 0.50, 0.15,  1.0822 ],\n",
    "      [ ql.Option.Put,  100.00,  90.00, 0.10, 0.10, 0.50, 0.25, 12.4419 ],\n",
    "      [ ql.Option.Put,  100.00, 100.00, 0.10, 0.10, 0.50, 0.25,  6.8014 ],\n",
    "      [ ql.Option.Put,  100.00, 110.00, 0.10, 0.10, 0.50, 0.25,  3.3226 ],\n",
    "      [ ql.Option.Put,  100.00,  90.00, 0.10, 0.10, 0.50, 0.35, 14.6945 ],\n",
    "      [ ql.Option.Put,  100.00, 100.00, 0.10, 0.10, 0.50, 0.35,  9.5104 ],\n",
    "      [ ql.Option.Put,  100.00, 110.00, 0.10, 0.10, 0.50, 0.35,  5.8823 ],\n",
    "      [ ql.Option.Put,  100.00, 100.00, 0.00, 0.00, 0.50, 0.15,  4.2294 ]\n",
    "    ]"
   ]
  },
  {
   "cell_type": "code",
   "execution_count": 3,
   "metadata": {},
   "outputs": [],
   "source": [
    "today = ql.Date.todaysDate()\n",
    "\n",
    "dc = ql.Actual360()\n",
    "\n",
    "spot = ql.SimpleQuote(0.0)\n",
    "qRate = ql.SimpleQuote(0.0)\n",
    "qTS = ql.FlatForward(today, ql.QuoteHandle(qRate), dc)\n",
    "rRate = ql.SimpleQuote(0.0)\n",
    "rTS = ql.FlatForward(today, ql.QuoteHandle(rRate), dc)\n",
    "vol = ql.SimpleQuote(0.0)\n",
    "volTS = ql.BlackConstantVol(today, ql.NullCalendar(), ql.QuoteHandle(vol), dc)"
   ]
  },
  {
   "cell_type": "code",
   "execution_count": 4,
   "metadata": {},
   "outputs": [],
   "source": [
    "tolerance = 3.0e-3"
   ]
  },
  {
   "cell_type": "code",
   "execution_count": 5,
   "metadata": {},
   "outputs": [],
   "source": [
    "for i in range(0,len(values)):\n",
    "    payoff = ql.PlainVanillaPayoff(values[i][0], values[i][1])\n",
    "    exDate = today + int(values[i][5]*360+0.5)\n",
    "    exercise = ql.AmericanExercise(today, exDate)\n",
    "    spot.setValue(values[i][2])\n",
    "    qRate.setValue(values[i][3])\n",
    "    rRate.setValue(values[i][4])\n",
    "    vol.setValue(values[i][6])\n",
    "    stochProcess = ql.BlackScholesMertonProcess(ql.QuoteHandle(spot),\n",
    "                                  ql.YieldTermStructureHandle(qTS),\n",
    "                                  ql.YieldTermStructureHandle(rTS),\n",
    "                                  ql.BlackVolTermStructureHandle(volTS))\n",
    "    engine = ql.BaroneAdesiWhaleyEngine(stochProcess)\n",
    "    option = ql.VanillaOption(payoff, exercise)\n",
    "    option.setPricingEngine(engine)\n",
    "    calculated = option.NPV()\n",
    "    error = abs(calculated-values[i][7])\n",
    "    if (error > tolerance):\n",
    "        print(\"FAILURE\")\n",
    "            "
   ]
  },
  {
   "cell_type": "markdown",
   "metadata": {},
   "source": [
    "# Bjerksund and Stensland approximation"
   ]
  },
  {
   "cell_type": "code",
   "execution_count": 6,
   "metadata": {},
   "outputs": [],
   "source": [
    "values = [\n",
    "        #      type, strike,   spot,    q,    r,    t,  vol,   value, tol\n",
    "        # from \"Option pricing formulas\", Haug, McGraw-Hill 1998, pag 27\n",
    "      [ ql.Option.Call,  40.00,  42.00, 0.08, 0.04, 0.75, 0.35,  5.2704 ],\n",
    "        # from \"Option pricing formulas\", Haug, McGraw-Hill 1998, VBA code\n",
    "      [ ql.Option.Put,   40.00,  36.00, 0.00, 0.06, 1.00, 0.20,  4.4531 ],\n",
    "        # ATM option with very small volatility, reference value taken from R\n",
    "      [ ql.Option.Call, 100, 100, 0.05, 0.05, 1.0, 0.0021, 0.08032314 ],\n",
    "        # ATM option with very small volatility,\n",
    "        # reference value taken from Barone-Adesi and Whaley Approximation\n",
    "      [ ql.Option.Call, 100, 100, 0.05, 0.05, 1.0, 0.0001, 0.003860656 ],\n",
    "      [ ql.Option.Call, 100, 99.99, 0.05, 0.05, 1.0, 0.0001, 0.00081 ],\n",
    "        # ITM option with a very small volatility\n",
    "      [ ql.Option.Call, 100, 110, 0.05, 0.05, 1.0, 0.0001, 10.0 ],\n",
    "      [ ql.Option.Put, 110, 100, 0.05, 0.05, 1.0, 0.0001, 10.0 ],\n",
    "        # ATM option with a very large volatility\n",
    "      [ ql.Option.Put, 100, 110, 0.05, 0.05, 1.0, 10, 94.89543 ]\n",
    "    ]"
   ]
  },
  {
   "cell_type": "code",
   "execution_count": 7,
   "metadata": {},
   "outputs": [],
   "source": [
    "today = ql.Date.todaysDate()\n",
    "\n",
    "dc = ql.Actual360()\n",
    "\n",
    "spot = ql.SimpleQuote(0.0)\n",
    "qRate = ql.SimpleQuote(0.0)\n",
    "qTS = ql.FlatForward(today, ql.QuoteHandle(qRate), dc)\n",
    "rRate = ql.SimpleQuote(0.0)\n",
    "rTS = ql.FlatForward(today, ql.QuoteHandle(rRate), dc)\n",
    "vol = ql.SimpleQuote(0.0)\n",
    "volTS = ql.BlackConstantVol(today, ql.NullCalendar(), ql.QuoteHandle(vol), dc)"
   ]
  },
  {
   "cell_type": "code",
   "execution_count": 8,
   "metadata": {},
   "outputs": [],
   "source": [
    "tolerance = 5.0e-5"
   ]
  },
  {
   "cell_type": "code",
   "execution_count": 9,
   "metadata": {},
   "outputs": [],
   "source": [
    "for i in range(0,len(values)):\n",
    "    payoff = ql.PlainVanillaPayoff(values[i][0], values[i][1])\n",
    "    exDate = today + int(values[i][5]*360+0.5)\n",
    "    exercise = ql.AmericanExercise(today, exDate)\n",
    "    spot.setValue(values[i][2])\n",
    "    qRate.setValue(values[i][3])\n",
    "    rRate.setValue(values[i][4])\n",
    "    vol.setValue(values[i][6])\n",
    "    stochProcess = ql.BlackScholesMertonProcess(ql.QuoteHandle(spot),\n",
    "                                  ql.YieldTermStructureHandle(qTS),\n",
    "                                  ql.YieldTermStructureHandle(rTS),\n",
    "                                  ql.BlackVolTermStructureHandle(volTS))\n",
    "    engine = ql.BjerksundStenslandEngine(stochProcess)\n",
    "    option = ql.VanillaOption(payoff, exercise)\n",
    "    option.setPricingEngine(engine)\n",
    "    calculated = option.NPV()\n",
    "    error = abs(calculated-values[i][7])\n",
    "    if (error > tolerance):\n",
    "        print(\"FAILURE\")"
   ]
  },
  {
   "cell_type": "markdown",
   "metadata": {},
   "source": [
    "# Ju approximation"
   ]
  },
  {
   "cell_type": "code",
   "execution_count": 10,
   "metadata": {},
   "outputs": [],
   "source": [
    "juValues = [\n",
    "        #        type, strike,   spot,    q,    r,    t,     vol,   value, tol\n",
    "        # These values are from Exhibit 3 - Short dated Put Options\n",
    "        [ ql.Option.Put, 35.00,   40.00,  0.0,  0.0488, 0.0833,  0.2,  0.006 ],\n",
    "        [ ql.Option.Put, 35.00,   40.00,  0.0,  0.0488, 0.3333,  0.2,  0.201 ],\n",
    "        [ ql.Option.Put, 35.00,   40.00,  0.0,  0.0488, 0.5833,  0.2,  0.433 ],\n",
    "\n",
    "        [ ql.Option.Put, 40.00,   40.00,  0.0,  0.0488, 0.0833,  0.2,  0.851 ],\n",
    "        [ ql.Option.Put, 40.00,   40.00,  0.0,  0.0488, 0.3333,  0.2,  1.576 ],\n",
    "        [ ql.Option.Put, 40.00,   40.00,  0.0,  0.0488, 0.5833,  0.2,  1.984 ],\n",
    "\n",
    "        [ ql.Option.Put, 45.00,   40.00,  0.0,  0.0488, 0.0833,  0.2,  5.000 ],\n",
    "        [ ql.Option.Put, 45.00,   40.00,  0.0,  0.0488, 0.3333,  0.2,  5.084 ],\n",
    "        [ ql.Option.Put, 45.00,   40.00,  0.0,  0.0488, 0.5833,  0.2,  5.260 ],\n",
    "\n",
    "        [ ql.Option.Put, 35.00,   40.00,  0.0,  0.0488, 0.0833,  0.3,  0.078 ],\n",
    "        [ ql.Option.Put, 35.00,   40.00,  0.0,  0.0488, 0.3333,  0.3,  0.697 ],\n",
    "        [ ql.Option.Put, 35.00,   40.00,  0.0,  0.0488, 0.5833,  0.3,  1.218 ],\n",
    "\n",
    "        [ ql.Option.Put, 40.00,   40.00,  0.0,  0.0488, 0.0833,  0.3,  1.309 ],\n",
    "        [ ql.Option.Put, 40.00,   40.00,  0.0,  0.0488, 0.3333,  0.3,  2.477 ],\n",
    "        [ ql.Option.Put, 40.00,   40.00,  0.0,  0.0488, 0.5833,  0.3,  3.161 ],\n",
    "\n",
    "        [ ql.Option.Put, 45.00,   40.00,  0.0,  0.0488, 0.0833,  0.3,  5.059 ],\n",
    "        [ ql.Option.Put, 45.00,   40.00,  0.0,  0.0488, 0.3333,  0.3,  5.699 ],\n",
    "        [ ql.Option.Put, 45.00,   40.00,  0.0,  0.0488, 0.5833,  0.3,  6.231 ],\n",
    "\n",
    "        [ ql.Option.Put, 35.00,   40.00,  0.0,  0.0488, 0.0833,  0.4,  0.247 ],\n",
    "        [ ql.Option.Put, 35.00,   40.00,  0.0,  0.0488, 0.3333,  0.4,  1.344 ],\n",
    "        [ ql.Option.Put, 35.00,   40.00,  0.0,  0.0488, 0.5833,  0.4,  2.150 ],\n",
    "\n",
    "        [ ql.Option.Put, 40.00,   40.00,  0.0,  0.0488, 0.0833,  0.4,  1.767 ],\n",
    "        [ ql.Option.Put, 40.00,   40.00,  0.0,  0.0488, 0.3333,  0.4,  3.381 ],\n",
    "        [ ql.Option.Put, 40.00,   40.00,  0.0,  0.0488, 0.5833,  0.4,  4.342 ],\n",
    "\n",
    "        [ ql.Option.Put, 45.00,   40.00,  0.0,  0.0488, 0.0833,  0.4,  5.288 ],\n",
    "        [ ql.Option.Put, 45.00,   40.00,  0.0,  0.0488, 0.3333,  0.4,  6.501 ],\n",
    "        [ ql.Option.Put, 45.00,   40.00,  0.0,  0.0488, 0.5833,  0.4,  7.367 ],\n",
    "\n",
    "        # Type in Exhibits 4 and 5 if you have some spare time ;-)\n",
    "\n",
    "        #        type, strike,   spot,    q,    r,    t,     vol,   value, tol\n",
    "        # values from Exhibit 6 - Long dated Call Options with dividends\n",
    "        [ ql.Option.Call, 100.00,   80.00,  0.07,  0.03, 3.0,  0.2,   2.605 ],\n",
    "        [ ql.Option.Call, 100.00,   90.00,  0.07,  0.03, 3.0,  0.2,   5.182 ],\n",
    "        [ ql.Option.Call, 100.00,  100.00,  0.07,  0.03, 3.0,  0.2,   9.065 ],\n",
    "        [ ql.Option.Call, 100.00,  110.00,  0.07,  0.03, 3.0,  0.2,  14.430 ],\n",
    "        [ ql.Option.Call, 100.00,  120.00,  0.07,  0.03, 3.0,  0.2,  21.398 ],\n",
    "\n",
    "        [ ql.Option.Call, 100.00,   80.00,  0.07,  0.03, 3.0,  0.4,  11.336 ],\n",
    "        [ ql.Option.Call, 100.00,   90.00,  0.07,  0.03, 3.0,  0.4,  15.711 ],\n",
    "        [ ql.Option.Call, 100.00,  100.00,  0.07,  0.03, 3.0,  0.4,  20.760 ],\n",
    "        [ ql.Option.Call, 100.00,  110.00,  0.07,  0.03, 3.0,  0.4,  26.440 ],\n",
    "        [ ql.Option.Call, 100.00,  120.00,  0.07,  0.03, 3.0,  0.4,  32.709 ],\n",
    "\n",
    "        [ ql.Option.Call, 100.00,   80.00,  0.07,  0.00001, 3.0,  0.3,   5.552 ],\n",
    "        [ ql.Option.Call, 100.00,   90.00,  0.07,  0.00001, 3.0,  0.3,   8.868 ],\n",
    "        [ ql.Option.Call, 100.00,  100.00,  0.07,  0.00001, 3.0,  0.3,  13.158 ],\n",
    "        [ ql.Option.Call, 100.00,  110.00,  0.07,  0.00001, 3.0,  0.3,  18.458 ],\n",
    "        [ ql.Option.Call, 100.00,  120.00,  0.07,  0.00001, 3.0,  0.3,  24.786 ],\n",
    "\n",
    "        [ ql.Option.Call, 100.00,   80.00,  0.03,  0.07, 3.0,  0.3,  12.177 ],\n",
    "        [ ql.Option.Call, 100.00,   90.00,  0.03,  0.07, 3.0,  0.3,  17.411 ],\n",
    "        [ ql.Option.Call, 100.00,  100.00,  0.03,  0.07, 3.0,  0.3,  23.402 ],\n",
    "        [ ql.Option.Call, 100.00,  110.00,  0.03,  0.07, 3.0,  0.3,  30.028 ],\n",
    "        [ ql.Option.Call, 100.00,  120.00,  0.03,  0.07, 3.0,  0.3,  37.177 ]\n",
    "    ]\n",
    "\n"
   ]
  },
  {
   "cell_type": "code",
   "execution_count": 11,
   "metadata": {},
   "outputs": [],
   "source": [
    "today = ql.Date.todaysDate()\n",
    "\n",
    "dc = ql.Actual360()\n",
    "\n",
    "spot = ql.SimpleQuote(0.0)\n",
    "qRate = ql.SimpleQuote(0.0)\n",
    "qTS = ql.FlatForward(today, ql.QuoteHandle(qRate), dc)\n",
    "rRate = ql.SimpleQuote(0.0)\n",
    "rTS = ql.FlatForward(today, ql.QuoteHandle(rRate), dc)\n",
    "vol = ql.SimpleQuote(0.0)\n",
    "volTS = ql.BlackConstantVol(today, ql.NullCalendar(), ql.QuoteHandle(vol), dc)"
   ]
  },
  {
   "cell_type": "code",
   "execution_count": 12,
   "metadata": {},
   "outputs": [],
   "source": [
    "tolerance = 1.0e-3"
   ]
  },
  {
   "cell_type": "code",
   "execution_count": 13,
   "metadata": {},
   "outputs": [],
   "source": [
    "for i in range(0,len(juValues)):\n",
    "    payoff = ql.PlainVanillaPayoff(juValues[i][0], juValues[i][1])\n",
    "    exDate = today + int(juValues[i][5]*360+0.5)\n",
    "    exercise = ql.AmericanExercise(today, exDate)\n",
    "    spot.setValue(juValues[i][2])\n",
    "    qRate.setValue(juValues[i][3])\n",
    "    rRate.setValue(juValues[i][4])\n",
    "    vol.setValue(juValues[i][6])\n",
    "    stochProcess = ql.BlackScholesMertonProcess(ql.QuoteHandle(spot),\n",
    "                                  ql.YieldTermStructureHandle(qTS),\n",
    "                                  ql.YieldTermStructureHandle(rTS),\n",
    "                                  ql.BlackVolTermStructureHandle(volTS))\n",
    "    engine = ql.JuQuadraticEngine(stochProcess)\n",
    "    option = ql.VanillaOption(payoff, exercise)\n",
    "    option.setPricingEngine(engine)\n",
    "    calculated = option.NPV()\n",
    "    error = abs(calculated-juValues[i][7])\n",
    "    if (error > tolerance):\n",
    "        print(\"FAILURE\")"
   ]
  },
  {
   "cell_type": "markdown",
   "metadata": {},
   "source": [
    "# Finite-difference engine"
   ]
  },
  {
   "cell_type": "code",
   "execution_count": 14,
   "metadata": {},
   "outputs": [],
   "source": [
    "today = ql.Date.todaysDate()\n",
    "\n",
    "dc = ql.Actual360()\n",
    "\n",
    "spot = ql.SimpleQuote(0.0)\n",
    "qRate = ql.SimpleQuote(0.0)\n",
    "qTS = ql.FlatForward(today, ql.QuoteHandle(qRate), dc)\n",
    "rRate = ql.SimpleQuote(0.0)\n",
    "rTS = ql.FlatForward(today, ql.QuoteHandle(rRate), dc)\n",
    "vol = ql.SimpleQuote(0.0)\n",
    "volTS = ql.BlackConstantVol(today, ql.NullCalendar(), ql.QuoteHandle(vol), dc)"
   ]
  },
  {
   "cell_type": "code",
   "execution_count": 15,
   "metadata": {},
   "outputs": [],
   "source": [
    "tolerance = 8.0e-2"
   ]
  },
  {
   "cell_type": "code",
   "execution_count": 16,
   "metadata": {},
   "outputs": [],
   "source": [
    "for i in range(0,len(juValues)):\n",
    "    payoff = ql.PlainVanillaPayoff(juValues[i][0], juValues[i][1])\n",
    "    exDate = today + int(juValues[i][5]*360+0.5)\n",
    "    exercise = ql.AmericanExercise(today, exDate)\n",
    "    spot.setValue(juValues[i][2])\n",
    "    qRate.setValue(juValues[i][3])\n",
    "    rRate.setValue(juValues[i][4])\n",
    "    vol.setValue(juValues[i][6])\n",
    "    stochProcess = ql.BlackScholesMertonProcess(ql.QuoteHandle(spot),\n",
    "                                  ql.YieldTermStructureHandle(qTS),\n",
    "                                  ql.YieldTermStructureHandle(rTS),\n",
    "                                  ql.BlackVolTermStructureHandle(volTS))\n",
    "    engine = ql.FDAmericanEngine(stochProcess)\n",
    "    option = ql.VanillaOption(payoff, exercise)\n",
    "    option.setPricingEngine(engine)\n",
    "    calculated = option.NPV()\n",
    "    error = abs(calculated-juValues[i][7])\n",
    "    if (error > tolerance):\n",
    "        print(\"FAILURE\")"
   ]
  },
  {
   "cell_type": "markdown",
   "metadata": {},
   "source": [
    "# Finite-differences American option greeks"
   ]
  },
  {
   "cell_type": "code",
   "execution_count": 17,
   "metadata": {},
   "outputs": [],
   "source": [
    "def relativeError(x1, x2, reference):\n",
    "        if (reference != 0.0):\n",
    "            return abs(x1-x2)/reference\n",
    "        else:\n",
    "            # fall back to absolute error\n",
    "            return abs(x1-x2)\n"
   ]
  },
  {
   "cell_type": "code",
   "execution_count": 18,
   "metadata": {},
   "outputs": [],
   "source": [
    "def testFdGreeks(Engine):\n",
    "    tolerance = {}\n",
    "    calculated = {}\n",
    "    expected = {}\n",
    "    tolerance[\"delta\"]  = 7.0e-4\n",
    "    tolerance[\"gamma\"]  = 2.0e-4\n",
    "    types = [ql.Option.Call, ql.Option.Put]\n",
    "    strikes = [ 50.0, 99.5, 100.0, 100.5, 150.0 ]\n",
    "    underlyings = []\n",
    "    qRates = [0.04, 0.05, 0.06]\n",
    "    rRates = [0.01, 0.05, 0.15]\n",
    "    years = [1, 2]\n",
    "    vols = [0.11, 0.50, 1.20]\n",
    "    today = ql.Date.todaysDate()\n",
    "    ql.Settings.instance().evaluationDate = today\n",
    "    dc = ql.Actual360()\n",
    "\n",
    "    spot = ql.SimpleQuote(0.0)\n",
    "    qRate = ql.SimpleQuote(0.0)\n",
    "    qTS = ql.FlatForward(today, ql.QuoteHandle(qRate), dc)\n",
    "    rRate = ql.SimpleQuote(0.0)\n",
    "    rTS = ql.FlatForward(today, ql.QuoteHandle(rRate), dc)\n",
    "    vol = ql.SimpleQuote(0.0)\n",
    "    volTS = ql.BlackConstantVol(today, ql.NullCalendar(), ql.QuoteHandle(vol), dc)\n",
    "    \n",
    "    for i in range(0,len(types)):\n",
    "        for j in range(0, len(strikes)):\n",
    "            for k in range(0, len(years)):\n",
    "                exDate = today + years[k]*ql.Years\n",
    "                exercise = ql.AmericanExercise(today, exDate)\n",
    "                payoff = ql.PlainVanillaPayoff(types[i], strikes[j])\n",
    "                stochProcess = ql.BlackScholesMertonProcess(ql.QuoteHandle(spot),\n",
    "                                  ql.YieldTermStructureHandle(qTS),\n",
    "                                  ql.YieldTermStructureHandle(rTS),\n",
    "                                  ql.BlackVolTermStructureHandle(volTS))\n",
    "                engine = Engine(stochProcess)\n",
    "                option = ql.VanillaOption(payoff, exercise)\n",
    "                option.setPricingEngine(engine)\n",
    "                for l in range(0,len(underlyings)):\n",
    "                    for m in range(0, len(qRates)):\n",
    "                        for n in range(0, len(rRates)):\n",
    "                            for o in range(0, len(vols)):\n",
    "                                u = underlyings[l]\n",
    "                                q = qRates[m]\n",
    "                                r = rRates[n]\n",
    "                                v = vols[p]\n",
    "                                spot.setValue(u)\n",
    "                                qRate.setValue(q)\n",
    "                                rRate.setValue(r)\n",
    "                                vol.setValue(v)\n",
    "                                \n",
    "                                value = option.NPV()\n",
    "                                calculated[\"delta\"]  = option.delta()\n",
    "                                calculated[\"gamma\"]  = option.gamma()\n",
    "                                \n",
    "                                if (value > spot.value()*1.0e-5):\n",
    "                                    # perturb spot and get delta and gamma\n",
    "                                    du = u*1.0e-4\n",
    "                                    spot.setValue(u+du)\n",
    "                                    value_p = option.NPV()\n",
    "                                    delta_p = option.delta()\n",
    "                                    spot.setValue(u-du)\n",
    "                                    value_m = option.NPV()\n",
    "                                    delta_m = option.delta()\n",
    "                                    spot.setValue(u)\n",
    "                                    expected[\"delta\"] = (value_p - value_m)/(2*du)\n",
    "                                    expected[\"gamma\"] = (delta_p - delta_m)/(2*du)\n",
    "                                    \n",
    "                                    for greek in calculated.keys():\n",
    "                                        expct = expected  [greek]\n",
    "                                        calcl = calculated[greek]\n",
    "                                        tol   = tolerance [greek]\n",
    "                                        error = relativeError(expct,calcl,u)\n",
    "                                        \n",
    "                                        if (error>tol):\n",
    "                                            print(\"FAILURE\")"
   ]
  },
  {
   "cell_type": "code",
   "execution_count": 19,
   "metadata": {},
   "outputs": [],
   "source": [
    "engine = ql.FDAmericanEngine\n",
    "testFdGreeks(engine)"
   ]
  },
  {
   "cell_type": "code",
   "execution_count": 20,
   "metadata": {},
   "outputs": [],
   "source": [
    "engine = ql.FDShoutEngine\n",
    "testFdGreeks(engine)"
   ]
  }
 ],
 "metadata": {
  "kernelspec": {
   "display_name": "Python 3",
   "language": "python",
   "name": "python3"
  },
  "language_info": {
   "codemirror_mode": {
    "name": "ipython",
    "version": 3
   },
   "file_extension": ".py",
   "mimetype": "text/x-python",
   "name": "python",
   "nbconvert_exporter": "python",
   "pygments_lexer": "ipython3",
   "version": "3.6.3"
  }
 },
 "nbformat": 4,
 "nbformat_minor": 2
}
