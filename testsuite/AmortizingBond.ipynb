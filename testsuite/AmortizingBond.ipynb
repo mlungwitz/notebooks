{
 "cells": [
  {
   "cell_type": "code",
   "execution_count": 1,
   "metadata": {},
   "outputs": [],
   "source": [
    "import QuantLib as ql"
   ]
  },
  {
   "cell_type": "code",
   "execution_count": 2,
   "metadata": {},
   "outputs": [],
   "source": [
    "rates = [0.0, 0.01, 0.02, 0.03, 0.04, 0.05, 0.06, 0.07, 0.08, 0.09, 0.10, 0.11, 0.12]\n",
    "amounts = [0.277777778, 0.321639520, 0.369619473, 0.421604034,\n",
    "                  0.477415295, 0.536821623, 0.599550525, \n",
    "                  0.665302495, 0.733764574, 0.804622617,\n",
    "                  0.877571570, 0.952323396, 1.028612597]\n",
    "\n",
    "freq = ql.Monthly\n",
    "\n",
    "refDate = ql.Settings.instance().evaluationDate\n",
    "\n",
    "tolerance = 1.0e-6"
   ]
  },
  {
   "cell_type": "code",
   "execution_count": 12,
   "metadata": {},
   "outputs": [],
   "source": [
    "for i in range(0, len(rates)):\n",
    "    myBond = ql.AmortizingFixedRateBond(0, ql.NullCalendar(), 100.0, refDate, \n",
    "                                        ql.Period(30, ql.Years), freq, rates[i], ql.ActualActual(ql.ActualActual.ISMA))\n",
    "    cashflows = myBond.cashflows()\n",
    "    notionals = myBond.notionals()\n",
    "    \n",
    "    for k in range(0, int(len(cashflows) / 2)):\n",
    "        coupon = cashflows[2*k].amount()\n",
    "        principal = cashflows[2*k+1].amount()\n",
    "        totalAmount = coupon + principal\n",
    "\n",
    "        error = abs(totalAmount-amounts[i])\n",
    "        if (error > tolerance):\n",
    "            print(\"FAILURE\")\n",
    "        \n",
    "        expectedCoupon = notionals[k] * rates[i] / freq\n",
    "        error = abs(coupon- expectedCoupon)\n",
    "        if (error > tolerance):\n",
    "            print(\"FAILURE\")        "
   ]
  }
 ],
 "metadata": {
  "kernelspec": {
   "display_name": "Python 3",
   "language": "python",
   "name": "python3"
  },
  "language_info": {
   "codemirror_mode": {
    "name": "ipython",
    "version": 3
   },
   "file_extension": ".py",
   "mimetype": "text/x-python",
   "name": "python",
   "nbconvert_exporter": "python",
   "pygments_lexer": "ipython3",
   "version": "3.6.3"
  }
 },
 "nbformat": 4,
 "nbformat_minor": 2
}
