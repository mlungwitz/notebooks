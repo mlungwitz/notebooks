{
 "cells": [
  {
   "cell_type": "markdown",
   "metadata": {},
   "source": [
    "# Basismodels tests"
   ]
  },
  {
   "cell_type": "code",
   "execution_count": 1,
   "metadata": {},
   "outputs": [],
   "source": [
    "import QuantLib as ql"
   ]
  },
  {
   "cell_type": "markdown",
   "metadata": {},
   "source": [
    "# Testing deterministic tenor basis model with continuous compounded spreads..."
   ]
  },
  {
   "cell_type": "code",
   "execution_count": 2,
   "metadata": {},
   "outputs": [],
   "source": [
    "terms = [ql.Period(0, ql.Days),   ql.Period(1, ql.Years), ql.Period(2, ql.Years),  ql.Period(3, ql.Years),\n",
    "        ql.Period(5, ql.Years),  ql.Period(7, ql.Years), ql.Period(10, ql.Years), ql.Period(15, ql.Years),\n",
    "        ql.Period(20, ql.Years), ql.Period(61, ql.Years)]"
   ]
  },
  {
   "cell_type": "code",
   "execution_count": 3,
   "metadata": {},
   "outputs": [],
   "source": [
    "discRates = [-0.00147407, -0.001761684, -0.001736745, -0.00119244, 0.000896055,\n",
    "             0.003537077, 0.007213824,  0.011391278,  0.013334611, 0.013982809]"
   ]
  },
  {
   "cell_type": "code",
   "execution_count": 4,
   "metadata": {},
   "outputs": [],
   "source": [
    "proj3mRates = [-0.000483439, -0.000578569, -0.000383832, 0.000272656, 0.002478699,\n",
    "               0.005100113,  0.008750643,  0.012788095,  0.014534052, 0.014942896]"
   ]
  },
  {
   "cell_type": "code",
   "execution_count": 5,
   "metadata": {},
   "outputs": [],
   "source": [
    "proj6mRates = [0.000233608, 0.000218862, 0.000504018, 0.001240556, 0.003554415,\n",
    "               0.006153921, 0.009688264, 0.013521628, 0.015136391, 0.015377704]"
   ]
  },
  {
   "cell_type": "code",
   "execution_count": 6,
   "metadata": {},
   "outputs": [],
   "source": [
    "capletTerms = [ql.Period(1, ql.Years), ql.Period(2, ql.Years),  ql.Period(3, ql.Years),\n",
    "        ql.Period(5, ql.Years),  ql.Period(7, ql.Years), ql.Period(10, ql.Years), ql.Period(15, ql.Years),\n",
    "        ql.Period(20, ql.Years), ql.Period(25, ql.Years), ql.Period(30, ql.Years)]"
   ]
  },
  {
   "cell_type": "code",
   "execution_count": 7,
   "metadata": {},
   "outputs": [],
   "source": [
    "capletStrikes = [-0.0050, 0.0000, 0.0050, 0.0100, 0.0150, 0.0200, 0.0300, 0.0500]"
   ]
  },
  {
   "cell_type": "code",
   "execution_count": 8,
   "metadata": {},
   "outputs": [],
   "source": [
    "cplRow01 = [0.003010094, 0.002628065, 0.00456118,  0.006731268,\n",
    "            0.008678572, 0.010570881, 0.014149552, 0.021000638]\n",
    "cplRow02 = [0.004173715, 0.003727039, 0.004180263, 0.005726083,\n",
    "            0.006905876, 0.008263514, 0.010555395, 0.014976523]\n",
    "cplRow03 = [0.005870143, 0.005334526, 0.005599775, 0.006633987,\n",
    "            0.007773317, 0.009036581, 0.011474391, 0.016277549]\n",
    "cplRow04 = [0.007458597, 0.007207522, 0.007263995, 0.007308727,\n",
    "            0.007813586, 0.008274858, 0.009743988, 0.012555171]\n",
    "cplRow05 = [0.007711531, 0.007608826, 0.007572816, 0.007684107,\n",
    "            0.007971932, 0.008283118, 0.009268828, 0.011574083]\n",
    "cplRow06 = [0.007619605, 0.007639059, 0.007719825, 0.007823373,\n",
    "            0.00800813,  0.008113384, 0.008616374, 0.009785436]\n",
    "cplRow07 = [0.007312199, 0.007352993, 0.007369116, 0.007468333,\n",
    "            0.007515657, 0.00767695,  0.008020447, 0.009072769]\n",
    "cplRow08 = [0.006905851, 0.006966315, 0.007056413, 0.007116494,\n",
    "            0.007259661, 0.00733308,  0.007667563, 0.008419696]\n",
    "cplRow09 = [0.006529553, 0.006630731, 0.006749022, 0.006858027,\n",
    "            0.007001959, 0.007139097, 0.007390404, 0.008036255]\n",
    "cplRow10 = [0.006225482, 0.006404012, 0.00651594,  0.006642273,\n",
    "            0.006640887, 0.006885713, 0.007093024, 0.00767373]"
   ]
  },
  {
   "cell_type": "code",
   "execution_count": 9,
   "metadata": {},
   "outputs": [],
   "source": [
    "def getYTS(terms, rates, spread = 0.0):\n",
    "    today = ql.Settings.instance().evaluationDate\n",
    "    dates = [ql.NullCalendar().advance(today, term, ql.Unadjusted) for term in terms]\n",
    "    ratesPlusSpread = [rate + spread for rate in rates]\n",
    "    ts = ql.CubicZeroCurve(dates, ratesPlusSpread, ql.Actual365Fixed(), ql.NullCalendar())\n",
    "    return ql.RelinkableYieldTermStructureHandle(ts)"
   ]
  },
  {
   "cell_type": "code",
   "execution_count": 10,
   "metadata": {},
   "outputs": [],
   "source": [
    "def testSwaptioncfs(contTenorSpread : bool):\n",
    "    # market data and floating rate index\n",
    "    discYTS = getYTS(terms, discRates)\n",
    "    proj6mYTS = getYTS(terms, proj6mRates)\n",
    "    euribor6m = ql.Euribor6M(proj6mYTS)\n",
    "    \n",
    "    #Vanilla swap details\n",
    "    today = ql.Settings.instance().evaluationDate\n",
    "    swapStart = ql.TARGET().advance(today, ql.Period(5, ql.Years), ql.Following)\n",
    "    swapEnd = ql.TARGET().advance(swapStart, ql.Period(10, ql.Years), ql.Following)\n",
    "    exerciseDate = ql.TARGET().advance(swapStart, ql.Period(-2, ql.Days), ql.Preceding)\n",
    "    fixedSchedule = ql.Schedule(swapStart, swapEnd, ql.Period(1, ql.Years), ql.TARGET(), ql.ModifiedFollowing,\n",
    "                               ql.ModifiedFollowing, ql.DateGeneration.Backward, False)\n",
    "    floatSchedule = ql.Schedule(swapStart, swapEnd, ql.Period(6, ql.Months), ql.TARGET(), ql.ModifiedFollowing,\n",
    "                               ql.ModifiedFollowing, ql.DateGeneration.Backward, False)\n",
    "    swap = ql.VanillaSwap(ql.VanillaSwap.Payer, 10000.0, fixedSchedule, 0.03, ql.Thirty360(),\n",
    "                            floatSchedule, euribor6m, 0.0, euribor6m.dayCounter())\n",
    "    swap.setPricingEngine(ql.DiscountingSwapEngine(discYTS))\n",
    "    \n",
    "    # European exercise and swaption\n",
    "    europeanExercise = ql.EuropeanExercise(exerciseDate)\n",
    "    swaption = ql.Swaption(swap, europeanExercise, ql.Settlement.Physical)\n",
    "    \n",
    "    # calculate basis model swaption cash flows, discount and conmpare with swap\n",
    "    cashFlows = ql.SwaptionCashFlows(swaption, discYTS, contTenorSpread)\n",
    "    \n",
    "    # model time is always Act365Fixed\n",
    "    exerciseTime = ql.Actual365Fixed().yearFraction(discYTS.referenceDate(),\n",
    "                                                    swaption.exercise().dates()[0])\n",
    "    \n",
    "    if (exerciseTime != cashFlows.exerciseTimes()[0]):\n",
    "        print(\"Error: Swaption cash flow exercise time does not coincide with manual calculation\")\n",
    "        \n",
    "    tol = 1.0e-8\n",
    "    \n",
    "    # (discounted) fixed leg coupons must match swap fixed leg NPV\n",
    "    fixedLeg = 0.0\n",
    "    for k in range(0, len(cashFlows.fixedTimes())):\n",
    "        fixedLeg += cashFlows.fixedWeights()[k] * discYTS.discount(cashFlows.fixedTimes()[k])\n",
    "    \n",
    "    if (abs(fixedLeg - (-swap.fixedLegNPV())) > tol): # note, '-1' because payer swap\n",
    "        print(\"Error: Swaption cash flow fixed leg NPV does not match Vanillaswap fixed leg NPV\")\n",
    "    \n",
    "    # (discounted) floating leg coupons must match swap floating leg NPV\n",
    "    floatLeg = 0.0\n",
    "    for k in range(0, len(cashFlows.floatTimes())):\n",
    "        floatLeg += cashFlows.floatWeights()[k] * discYTS.discount(cashFlows.floatTimes()[k])\n",
    "    \n",
    "    if (abs(floatLeg - swap.floatingLegNPV()) > tol):\n",
    "        print(\"Error: Swaption cash flow floating leg NPV does not match Vanillaswap floating leg NPV.\")\n",
    "        \n",
    "    # There should not be spread coupons in a single-curve setting.\n",
    "    # However, if indexed coupons are used the floating leg is not at par,\n",
    "    # so we need to relax the tolerance to a level at which it will only\n",
    "    # catch large errors.\n",
    "    \n",
    "    tol2 = tol\n",
    "    singleCurveCashFlows = ql.SwaptionCashFlows(swaption, proj6mYTS, contTenorSpread)\n",
    "    for k in range(1, len(cashFlows.fixedTimes()) - 1):\n",
    "        if (abs(singleCurveCashFlows.floatWeights()[k]) > tol2):\n",
    "            print(\"Error: Swaption cash flow floating leg spread does not vanish in single-curve setting.\")"
   ]
  },
  {
   "cell_type": "code",
   "execution_count": 11,
   "metadata": {},
   "outputs": [],
   "source": [
    "testSwaptioncfs(True)"
   ]
  },
  {
   "cell_type": "code",
   "execution_count": 12,
   "metadata": {},
   "outputs": [],
   "source": [
    "testSwaptioncfs(False)"
   ]
  },
  {
   "cell_type": "markdown",
   "metadata": {},
   "source": [
    "# Testing volatility transformation for caplets/floorlets..."
   ]
  },
  {
   "cell_type": "code",
   "execution_count": 13,
   "metadata": {},
   "outputs": [],
   "source": [
    "spread = 0.01\n",
    "discYTS = getYTS(terms, discRates)\n",
    "proj3mYTS = getYTS(terms, proj3mRates)\n",
    "proj6mYTS = getYTS(terms, proj3mRates, spread)\n",
    "euribor3m = ql.Euribor3M(proj3mYTS)\n",
    "euribor6m = ql.Euribor6M(proj6mYTS)"
   ]
  },
  {
   "cell_type": "code",
   "execution_count": 14,
   "metadata": {},
   "outputs": [],
   "source": [
    "def getOptionletTS():\n",
    "    today = ql.Settings.instance().evaluationDate\n",
    "    dates = [ql.TARGET().advance(today, capletTerm, ql.Following) for capletTerm in capletTerms]\n",
    "    capletVols = [cplRow01, cplRow02, cplRow03, cplRow04, cplRow05, cplRow06, cplRow07, cplRow08, cplRow09, cplRow10]\n",
    "    capletVolQuotes = [[ql.RelinkableQuoteHandle(ql.SimpleQuote(capletVol)) for capletVol in capletVolRow] for capletVolRow in capletVols]\n",
    "    curve3m = getYTS(terms, proj3mRates)\n",
    "    index = ql.Euribor3M(curve3m)\n",
    "    tmp1 = ql.StrippedOptionlet(2, ql.TARGET(), ql.Following, index, dates, capletStrikes,\n",
    "                                  capletVolQuotes, ql.Actual365Fixed(), ql.Normal, 0.0)\n",
    "    tmp2 = ql.StrippedOptionletAdapter(tmp1)\n",
    "    return ql.RelinkableOptionletVolatilityStructureHandle(tmp2)"
   ]
  },
  {
   "cell_type": "code",
   "execution_count": 15,
   "metadata": {},
   "outputs": [],
   "source": [
    "# 3m optionlet VTS\n",
    "optionletVTS3m = getOptionletTS()"
   ]
  },
  {
   "cell_type": "code",
   "execution_count": 16,
   "metadata": {},
   "outputs": [],
   "source": [
    "corrTimes = [0.0, 50.0]\n",
    "rhoInfData = [0.3, 0.3]\n",
    "betaData = [0.9, 0.9]"
   ]
  },
  {
   "cell_type": "code",
   "execution_count": 17,
   "metadata": {},
   "outputs": [],
   "source": [
    "rho = ql.LinearInterpolation(corrTimes, rhoInfData)\n",
    "beta = ql.LinearInterpolation(corrTimes, betaData)"
   ]
  },
  {
   "cell_type": "code",
   "execution_count": 19,
   "metadata": {},
   "outputs": [
    {
     "ename": "AttributeError",
     "evalue": "No constructor defined",
     "output_type": "error",
     "traceback": [
      "\u001b[1;31m---------------------------------------------------------------------------\u001b[0m",
      "\u001b[1;31mAttributeError\u001b[0m                            Traceback (most recent call last)",
      "\u001b[1;32m<ipython-input-19-472fad584b6c>\u001b[0m in \u001b[0;36m<module>\u001b[1;34m()\u001b[0m\n\u001b[1;32m----> 1\u001b[1;33m \u001b[0mcorr\u001b[0m \u001b[1;33m=\u001b[0m \u001b[0mql\u001b[0m\u001b[1;33m.\u001b[0m\u001b[0mTenorOptionletVTSTwoParameterCorrelation\u001b[0m\u001b[1;33m(\u001b[0m\u001b[0mrho\u001b[0m\u001b[1;33m,\u001b[0m \u001b[0mbeta\u001b[0m\u001b[1;33m)\u001b[0m\u001b[1;33m\u001b[0m\u001b[0m\n\u001b[0m",
      "\u001b[1;32mF:\\WinPython-64bit-3.6.3.0Qt5\\python-3.6.3.amd64\\lib\\site-packages\\quantlib_python-1.16-py3.6-win-amd64.egg\\QuantLib\\QuantLib.py\u001b[0m in \u001b[0;36m__init__\u001b[1;34m(self, *args, **kwargs)\u001b[0m\n\u001b[0;32m  14543\u001b[0m \u001b[1;33m\u001b[0m\u001b[0m\n\u001b[0;32m  14544\u001b[0m     \u001b[1;32mdef\u001b[0m \u001b[0m__init__\u001b[0m\u001b[1;33m(\u001b[0m\u001b[0mself\u001b[0m\u001b[1;33m,\u001b[0m \u001b[1;33m*\u001b[0m\u001b[0margs\u001b[0m\u001b[1;33m,\u001b[0m \u001b[1;33m**\u001b[0m\u001b[0mkwargs\u001b[0m\u001b[1;33m)\u001b[0m\u001b[1;33m:\u001b[0m\u001b[1;33m\u001b[0m\u001b[0m\n\u001b[1;32m> 14545\u001b[1;33m         \u001b[1;32mraise\u001b[0m \u001b[0mAttributeError\u001b[0m\u001b[1;33m(\u001b[0m\u001b[1;34m\"No constructor defined\"\u001b[0m\u001b[1;33m)\u001b[0m\u001b[1;33m\u001b[0m\u001b[0m\n\u001b[0m\u001b[0;32m  14546\u001b[0m     \u001b[0m__repr__\u001b[0m \u001b[1;33m=\u001b[0m \u001b[0m_swig_repr\u001b[0m\u001b[1;33m\u001b[0m\u001b[0m\n\u001b[0;32m  14547\u001b[0m     \u001b[0m__swig_destroy__\u001b[0m \u001b[1;33m=\u001b[0m \u001b[0m_QuantLib\u001b[0m\u001b[1;33m.\u001b[0m\u001b[0mdelete_TenorOptionletVTSTwoParameterCorrelation\u001b[0m\u001b[1;33m\u001b[0m\u001b[0m\n",
      "\u001b[1;31mAttributeError\u001b[0m: No constructor defined"
     ]
    }
   ],
   "source": [
    "corr = ql.TenorOptionletVTSTwoParameterCorrelation(rho, beta)"
   ]
  },
  {
   "cell_type": "code",
   "execution_count": 20,
   "metadata": {},
   "outputs": [
    {
     "ename": "TypeError",
     "evalue": "__init__() missing 4 required positional arguments: 'baseVTS', 'baseIndex', 'targIndex', and 'correlation'",
     "output_type": "error",
     "traceback": [
      "\u001b[1;31m---------------------------------------------------------------------------\u001b[0m",
      "\u001b[1;31mTypeError\u001b[0m                                 Traceback (most recent call last)",
      "\u001b[1;32m<ipython-input-20-67748e323e0c>\u001b[0m in \u001b[0;36m<module>\u001b[1;34m()\u001b[0m\n\u001b[1;32m----> 1\u001b[1;33m \u001b[0mql\u001b[0m\u001b[1;33m.\u001b[0m\u001b[0mTenorOptionletVTS\u001b[0m\u001b[1;33m(\u001b[0m\u001b[1;33m)\u001b[0m\u001b[1;33m\u001b[0m\u001b[0m\n\u001b[0m",
      "\u001b[1;31mTypeError\u001b[0m: __init__() missing 4 required positional arguments: 'baseVTS', 'baseIndex', 'targIndex', and 'correlation'"
     ]
    }
   ],
   "source": [
    "ql.TenorOptionletVTS()"
   ]
  }
 ],
 "metadata": {
  "kernelspec": {
   "display_name": "Python 3",
   "language": "python",
   "name": "python3"
  },
  "language_info": {
   "codemirror_mode": {
    "name": "ipython",
    "version": 3
   },
   "file_extension": ".py",
   "mimetype": "text/x-python",
   "name": "python",
   "nbconvert_exporter": "python",
   "pygments_lexer": "ipython3",
   "version": "3.6.3"
  }
 },
 "nbformat": 4,
 "nbformat_minor": 2
}
