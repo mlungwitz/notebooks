{
 "cells": [
  {
   "cell_type": "markdown",
   "metadata": {},
   "source": [
    "# Gaussian1dModel Examples"
   ]
  },
  {
   "cell_type": "markdown",
   "metadata": {},
   "source": [
    "### Examples taken from QuantLib's C++ Example (by Peter Caspers) translated to Python"
   ]
  },
  {
   "cell_type": "markdown",
   "metadata": {},
   "source": [
    "This is some example code showing how to use the GSR (Gaussian short rate) and Markov Functional model."
   ]
  },
  {
   "cell_type": "code",
   "execution_count": 1,
   "metadata": {
    "ExecuteTime": {
     "end_time": "2017-03-07T23:41:44.029852",
     "start_time": "2017-03-07T23:41:43.828171"
    }
   },
   "outputs": [],
   "source": [
    "import QuantLib as ql"
   ]
  },
  {
   "cell_type": "code",
   "execution_count": 2,
   "metadata": {
    "ExecuteTime": {
     "end_time": "2017-03-07T23:14:23.435280",
     "start_time": "2017-03-07T23:14:23.406205"
    }
   },
   "outputs": [],
   "source": [
    "refDate = ql.Date(30,4,2014)"
   ]
  },
  {
   "cell_type": "code",
   "execution_count": 3,
   "metadata": {
    "ExecuteTime": {
     "end_time": "2017-03-07T23:14:23.518503",
     "start_time": "2017-03-07T23:14:23.436282"
    }
   },
   "outputs": [],
   "source": [
    "ql.Settings.instance().evaluationDate=refDate"
   ]
  },
  {
   "cell_type": "code",
   "execution_count": 4,
   "metadata": {
    "ExecuteTime": {
     "end_time": "2017-03-07T23:14:23.611754",
     "start_time": "2017-03-07T23:14:23.519519"
    }
   },
   "outputs": [
    {
     "name": "stdout",
     "output_type": "stream",
     "text": [
      "EvalDate:  April 30th, 2014\n"
     ]
    }
   ],
   "source": [
    "print(\"EvalDate: \",ql.Settings.instance().evaluationDate)"
   ]
  },
  {
   "cell_type": "code",
   "execution_count": 5,
   "metadata": {
    "ExecuteTime": {
     "end_time": "2017-03-07T23:14:23.726108",
     "start_time": "2017-03-07T23:14:23.612765"
    }
   },
   "outputs": [],
   "source": [
    "forward6mLevel = 0.025\n",
    "oisLevel = 0.02"
   ]
  },
  {
   "cell_type": "code",
   "execution_count": 6,
   "metadata": {
    "ExecuteTime": {
     "end_time": "2017-03-07T23:14:23.801241",
     "start_time": "2017-03-07T23:14:23.727111"
    }
   },
   "outputs": [],
   "source": [
    "forward6mQuote = ql.QuoteHandle(ql.SimpleQuote(forward6mLevel))\n",
    "oisQuote = ql.QuoteHandle(ql.SimpleQuote(oisLevel))"
   ]
  },
  {
   "cell_type": "code",
   "execution_count": 7,
   "metadata": {
    "ExecuteTime": {
     "end_time": "2017-03-07T23:14:23.908939",
     "start_time": "2017-03-07T23:14:23.802746"
    }
   },
   "outputs": [],
   "source": [
    "yts6m = ql.YieldTermStructureHandle(ql.FlatForward(0, ql.TARGET(), forward6mQuote, ql.Actual365Fixed() ))\n",
    "ytsOis = ql.YieldTermStructureHandle(ql.FlatForward(0, ql.TARGET(), oisQuote, ql.Actual365Fixed() ))"
   ]
  },
  {
   "cell_type": "code",
   "execution_count": 8,
   "metadata": {
    "ExecuteTime": {
     "end_time": "2017-03-07T23:14:23.992925",
     "start_time": "2017-03-07T23:14:23.909949"
    }
   },
   "outputs": [],
   "source": [
    "euribor6m = ql.Euribor6M(yts6m)"
   ]
  },
  {
   "cell_type": "markdown",
   "metadata": {
    "variables": {
     "forward6mLevel": "0.025",
     "oisLevel": "0.02"
    }
   },
   "source": [
    "We assume a multicurve setup, for simplicity with flat yield term structures. The discounting curve is an Eonia curve at a level of {{oisLevel}} and the forwarding curve is an Euribior 6m curve at a level of {{forward6mLevel}}"
   ]
  },
  {
   "cell_type": "code",
   "execution_count": 9,
   "metadata": {
    "ExecuteTime": {
     "end_time": "2017-03-07T23:14:24.066799",
     "start_time": "2017-03-07T23:14:23.994398"
    }
   },
   "outputs": [],
   "source": [
    "volLevel = 0.20"
   ]
  },
  {
   "cell_type": "code",
   "execution_count": 10,
   "metadata": {
    "ExecuteTime": {
     "end_time": "2017-03-07T23:14:24.141085",
     "start_time": "2017-03-07T23:14:24.067835"
    }
   },
   "outputs": [],
   "source": [
    "volQuote = ql.QuoteHandle(ql.SimpleQuote(volLevel))"
   ]
  },
  {
   "cell_type": "code",
   "execution_count": 11,
   "metadata": {
    "ExecuteTime": {
     "end_time": "2017-03-07T23:14:24.216919",
     "start_time": "2017-03-07T23:14:24.143090"
    }
   },
   "outputs": [],
   "source": [
    "swaptionVol = ql.ConstantSwaptionVolatility(0, ql.TARGET(), ql.ModifiedFollowing, volQuote,\n",
    "                                                                                ql.Actual365Fixed())"
   ]
  },
  {
   "cell_type": "code",
   "execution_count": 12,
   "metadata": {
    "ExecuteTime": {
     "end_time": "2017-03-07T23:14:24.291689",
     "start_time": "2017-03-07T23:14:24.217925"
    }
   },
   "outputs": [],
   "source": [
    "swaptionVolHandle = ql.SwaptionVolatilityStructureHandle(ql.ConstantSwaptionVolatility(0, ql.TARGET(), ql.ModifiedFollowing, volQuote,\n",
    "                                                                                ql.Actual365Fixed()))"
   ]
  },
  {
   "cell_type": "code",
   "execution_count": 13,
   "metadata": {},
   "outputs": [],
   "source": [
    "opt_tenors = [ql.Period(1,ql.Years),ql.Period(2,ql.Years)]\n",
    "swap_tenors = [ql.Period(1,ql.Years),ql.Period(2,ql.Years)]\n",
    "atm_quotes = [[ql.QuoteHandle(ql.SimpleQuote(0.01))]*2 for i in opt_tenors]\n"
   ]
  },
  {
   "cell_type": "code",
   "execution_count": 14,
   "metadata": {},
   "outputs": [
    {
     "data": {
      "text/plain": [
       "[[<QuantLib.QuantLib.QuoteHandle; proxy of <Swig Object of type 'std::vector< Handle< Quote > >::value_type *' at 0x00000253A8EB6900> >,\n",
       "  <QuantLib.QuantLib.QuoteHandle; proxy of <Swig Object of type 'std::vector< Handle< Quote > >::value_type *' at 0x00000253A8EB6900> >],\n",
       " [<QuantLib.QuantLib.QuoteHandle; proxy of <Swig Object of type 'std::vector< Handle< Quote > >::value_type *' at 0x00000253A8EB6930> >,\n",
       "  <QuantLib.QuantLib.QuoteHandle; proxy of <Swig Object of type 'std::vector< Handle< Quote > >::value_type *' at 0x00000253A8EB6930> >]]"
      ]
     },
     "execution_count": 14,
     "metadata": {},
     "output_type": "execute_result"
    }
   ],
   "source": [
    "atm_quotes"
   ]
  },
  {
   "cell_type": "code",
   "execution_count": 15,
   "metadata": {},
   "outputs": [],
   "source": [
    "swaptionVol = ql.SwaptionVolatilityMatrix(ql.TARGET(), ql.ModifiedFollowing, opt_tenors, swap_tenors,\n",
    "                                    atm_quotes, ql.Actual365Fixed(), True, ql.ShiftedLognormal)"
   ]
  },
  {
   "cell_type": "code",
   "execution_count": 53,
   "metadata": {},
   "outputs": [],
   "source": [
    "swaptionVolHandle = ql.SwaptionVolatilityStructureHandle(swaptionVol)"
   ]
  },
  {
   "cell_type": "code",
   "execution_count": 90,
   "metadata": {},
   "outputs": [],
   "source": [
    "swaptionVolCube = ql.SwaptionVolCube2(swaptionVolHandle, opt_tenors, swap_tenors, [-0.01,  0.01],\n",
    "                                     [[ql.QuoteHandle(ql.SimpleQuote(0.01)), ql.QuoteHandle(ql.SimpleQuote(0.01))] for o in opt_tenors for s in swap_tenors],\n",
    "                                      ql.EuriborSwapIsdaFixA(ql.Period(\"10Y\"), ytsOis), ql.EuriborSwapIsdaFixA(ql.Period(\"1Y\"), ytsOis),\n",
    "                                     True)"
   ]
  },
  {
   "cell_type": "code",
   "execution_count": 16,
   "metadata": {},
   "outputs": [],
   "source": [
    "swaptionVolHandle = ql.SwaptionVolatilityStructureHandle(swaptionVol)"
   ]
  },
  {
   "cell_type": "markdown",
   "metadata": {
    "variables": {
     "volLevel": "0.2"
    }
   },
   "source": [
    "For the volatility we assume a flat swaption volatility at {{volLevel}}"
   ]
  },
  {
   "cell_type": "code",
   "execution_count": 17,
   "metadata": {
    "ExecuteTime": {
     "end_time": "2017-03-07T23:14:24.381793",
     "start_time": "2017-03-07T23:14:24.293195"
    }
   },
   "outputs": [],
   "source": [
    "strike = 0.04"
   ]
  },
  {
   "cell_type": "markdown",
   "metadata": {
    "variables": {
     "strike": "0.04"
    }
   },
   "source": [
    "We consider a standard 10y bermudan payer swaption with yearly exercises at a strike of {{strike}}"
   ]
  },
  {
   "cell_type": "code",
   "execution_count": 18,
   "metadata": {
    "ExecuteTime": {
     "end_time": "2017-03-07T23:14:24.480552",
     "start_time": "2017-03-07T23:14:24.382758"
    }
   },
   "outputs": [],
   "source": [
    "effectiveDate = ql.TARGET().advance(refDate, ql.Period(2,ql.Days))"
   ]
  },
  {
   "cell_type": "code",
   "execution_count": 19,
   "metadata": {
    "ExecuteTime": {
     "end_time": "2017-03-07T23:14:24.555838",
     "start_time": "2017-03-07T23:14:24.482557"
    }
   },
   "outputs": [],
   "source": [
    "maturityDate = ql.TARGET().advance(effectiveDate, ql.Period(10,ql.Years))"
   ]
  },
  {
   "cell_type": "code",
   "execution_count": 20,
   "metadata": {
    "ExecuteTime": {
     "end_time": "2017-03-07T23:14:24.635333",
     "start_time": "2017-03-07T23:14:24.556829"
    }
   },
   "outputs": [
    {
     "data": {
      "text/plain": [
       "Date(6,5,2024)"
      ]
     },
     "execution_count": 20,
     "metadata": {},
     "output_type": "execute_result"
    }
   ],
   "source": [
    "maturityDate"
   ]
  },
  {
   "cell_type": "code",
   "execution_count": 21,
   "metadata": {
    "ExecuteTime": {
     "end_time": "2017-03-07T23:14:24.714615",
     "start_time": "2017-03-07T23:14:24.636344"
    }
   },
   "outputs": [],
   "source": [
    "fixedSchedule = ql.Schedule(effectiveDate, maturityDate, ql.Period(1,ql.Years), ql.TARGET(),\n",
    "                            ql.ModifiedFollowing, ql.ModifiedFollowing,\n",
    "                            ql.DateGeneration.Forward, False)"
   ]
  },
  {
   "cell_type": "code",
   "execution_count": 22,
   "metadata": {
    "ExecuteTime": {
     "end_time": "2017-03-07T23:14:24.799522",
     "start_time": "2017-03-07T23:14:24.716150"
    }
   },
   "outputs": [
    {
     "name": "stdout",
     "output_type": "stream",
     "text": [
      "May 5th, 2014\n",
      "May 5th, 2015\n",
      "May 5th, 2016\n",
      "May 5th, 2017\n",
      "May 7th, 2018\n",
      "May 6th, 2019\n",
      "May 5th, 2020\n",
      "May 5th, 2021\n",
      "May 5th, 2022\n",
      "May 5th, 2023\n",
      "May 6th, 2024\n"
     ]
    }
   ],
   "source": [
    "for i in fixedSchedule:\n",
    "    print(i)"
   ]
  },
  {
   "cell_type": "code",
   "execution_count": 23,
   "metadata": {
    "ExecuteTime": {
     "end_time": "2017-03-07T23:14:24.913361",
     "start_time": "2017-03-07T23:14:24.800525"
    }
   },
   "outputs": [],
   "source": [
    "floatingSchedule = ql.Schedule(effectiveDate, maturityDate, ql.Period(6,ql.Months), ql.TARGET(),\n",
    "                            ql.ModifiedFollowing, ql.ModifiedFollowing,\n",
    "                            ql.DateGeneration.Forward, False)"
   ]
  },
  {
   "cell_type": "code",
   "execution_count": 24,
   "metadata": {
    "ExecuteTime": {
     "end_time": "2017-03-07T23:14:24.987296",
     "start_time": "2017-03-07T23:14:24.914298"
    }
   },
   "outputs": [
    {
     "name": "stdout",
     "output_type": "stream",
     "text": [
      "May 5th, 2014\n",
      "November 5th, 2014\n",
      "May 5th, 2015\n",
      "November 5th, 2015\n",
      "May 5th, 2016\n",
      "November 7th, 2016\n",
      "May 5th, 2017\n",
      "November 6th, 2017\n",
      "May 7th, 2018\n",
      "November 5th, 2018\n",
      "May 6th, 2019\n",
      "November 5th, 2019\n",
      "May 5th, 2020\n",
      "November 5th, 2020\n",
      "May 5th, 2021\n",
      "November 5th, 2021\n",
      "May 5th, 2022\n",
      "November 7th, 2022\n",
      "May 5th, 2023\n",
      "November 6th, 2023\n",
      "May 6th, 2024\n"
     ]
    }
   ],
   "source": [
    "for i in floatingSchedule:\n",
    "    print(i)"
   ]
  },
  {
   "cell_type": "code",
   "execution_count": 25,
   "metadata": {
    "ExecuteTime": {
     "end_time": "2017-03-07T23:14:25.086506",
     "start_time": "2017-03-07T23:14:24.989257"
    }
   },
   "outputs": [],
   "source": [
    "underlying = ql.NonstandardSwap(ql.VanillaSwap.Payer, [1.0]*(len(fixedSchedule)-1), [1.0]*(len(floatingSchedule)-1), fixedSchedule,\n",
    "                                              [strike]*(len(fixedSchedule)-1), ql.Thirty360(), floatingSchedule, \n",
    "                                              euribor6m, [1.0]*(len(floatingSchedule)-1), [0.0]*(len(floatingSchedule)-1), ql.Actual360())"
   ]
  },
  {
   "cell_type": "code",
   "execution_count": 26,
   "metadata": {
    "ExecuteTime": {
     "end_time": "2017-03-07T23:14:25.170134",
     "start_time": "2017-03-07T23:14:25.087509"
    }
   },
   "outputs": [
    {
     "name": "stdout",
     "output_type": "stream",
     "text": [
      "May 5th, 2015 0.040000000000000036\n",
      "May 5th, 2016 0.040000000000000036\n",
      "May 5th, 2017 0.040000000000000036\n",
      "May 7th, 2018 0.04022222222222216\n",
      "May 6th, 2019 0.03988888888888886\n",
      "May 5th, 2020 0.03988888888888886\n",
      "May 5th, 2021 0.040000000000000036\n",
      "May 5th, 2022 0.040000000000000036\n",
      "May 5th, 2023 0.040000000000000036\n",
      "May 6th, 2024 0.04011111111111121\n"
     ]
    }
   ],
   "source": [
    "for cf in underlying.fixedLeg():\n",
    "    print (cf.date(), cf.amount())"
   ]
  },
  {
   "cell_type": "code",
   "execution_count": 27,
   "metadata": {
    "ExecuteTime": {
     "end_time": "2017-03-07T23:14:25.252696",
     "start_time": "2017-03-07T23:14:25.171136"
    }
   },
   "outputs": [
    {
     "name": "stdout",
     "output_type": "stream",
     "text": [
      "November 5th, 2014 0.012682488917620915\n",
      "May 5th, 2015 0.012474424851870225\n",
      "November 5th, 2015 0.012682488917621138\n",
      "May 5th, 2016 0.012543774790186868\n",
      "November 7th, 2016 0.012821222048292169\n",
      "May 5th, 2017 0.012335739224410558\n",
      "November 6th, 2017 0.012751853107389575\n",
      "May 7th, 2018 0.012543774790186868\n",
      "November 5th, 2018 0.012543774790186868\n",
      "May 6th, 2019 0.012543774790186868\n",
      "November 5th, 2019 0.012613129478662222\n",
      "May 5th, 2020 0.012543774790186868\n",
      "November 5th, 2020 0.012682488917621138\n",
      "May 5th, 2021 0.012474424851870225\n",
      "November 5th, 2021 0.012682488917621138\n",
      "May 5th, 2022 0.012474424851870003\n",
      "November 7th, 2022 0.012821222048292391\n",
      "May 5th, 2023 0.012335739224410558\n",
      "November 6th, 2023 0.012751853107389575\n",
      "May 6th, 2024 0.012543774790186868\n"
     ]
    }
   ],
   "source": [
    "for cf in underlying.floatingLeg():\n",
    "    print (cf.date(), cf.amount())"
   ]
  },
  {
   "cell_type": "code",
   "execution_count": 28,
   "metadata": {
    "ExecuteTime": {
     "end_time": "2017-03-07T23:14:25.334668",
     "start_time": "2017-03-07T23:14:25.253730"
    }
   },
   "outputs": [],
   "source": [
    "exerciseDates = [ql.TARGET().advance(fixedSchedule[i], ql.Period(-2, ql.Days)) for i in range(1,10)]"
   ]
  },
  {
   "cell_type": "code",
   "execution_count": 29,
   "metadata": {
    "ExecuteTime": {
     "end_time": "2017-03-07T23:14:25.411346",
     "start_time": "2017-03-07T23:14:25.335671"
    }
   },
   "outputs": [
    {
     "data": {
      "text/plain": [
       "[Date(30,4,2015),\n",
       " Date(3,5,2016),\n",
       " Date(3,5,2017),\n",
       " Date(3,5,2018),\n",
       " Date(2,5,2019),\n",
       " Date(30,4,2020),\n",
       " Date(3,5,2021),\n",
       " Date(3,5,2022),\n",
       " Date(3,5,2023)]"
      ]
     },
     "execution_count": 29,
     "metadata": {},
     "output_type": "execute_result"
    }
   ],
   "source": [
    "exerciseDates"
   ]
  },
  {
   "cell_type": "code",
   "execution_count": 30,
   "metadata": {
    "ExecuteTime": {
     "end_time": "2017-03-07T23:14:25.475576",
     "start_time": "2017-03-07T23:14:25.412318"
    }
   },
   "outputs": [],
   "source": [
    "exercise = ql.BermudanExercise(exerciseDates, False)"
   ]
  },
  {
   "cell_type": "code",
   "execution_count": 31,
   "metadata": {
    "ExecuteTime": {
     "end_time": "2017-03-07T23:14:25.550282",
     "start_time": "2017-03-07T23:14:25.476578"
    }
   },
   "outputs": [],
   "source": [
    "swaption = ql.NonstandardSwaption(underlying, exercise)"
   ]
  },
  {
   "cell_type": "markdown",
   "metadata": {},
   "source": [
    "The model is a one factor Hull White model with piecewise volatility adapted to our exercise dates."
   ]
  },
  {
   "cell_type": "code",
   "execution_count": 32,
   "metadata": {
    "ExecuteTime": {
     "end_time": "2017-03-07T23:14:25.616243",
     "start_time": "2017-03-07T23:14:25.551305"
    }
   },
   "outputs": [],
   "source": [
    "stepDates = [exerciseDates[i] for i in range(0, len(exerciseDates)-1)]"
   ]
  },
  {
   "cell_type": "code",
   "execution_count": 33,
   "metadata": {
    "ExecuteTime": {
     "end_time": "2017-03-07T23:14:25.683009",
     "start_time": "2017-03-07T23:14:25.617276"
    }
   },
   "outputs": [],
   "source": [
    "sigmas = [ql.QuoteHandle(ql.SimpleQuote(0.01)) for i in range(0, len(stepDates)+1)]"
   ]
  },
  {
   "cell_type": "code",
   "execution_count": 34,
   "metadata": {
    "ExecuteTime": {
     "end_time": "2017-03-07T23:14:25.757721",
     "start_time": "2017-03-07T23:14:25.683943"
    }
   },
   "outputs": [],
   "source": [
    "reversion = 0.01"
   ]
  },
  {
   "cell_type": "code",
   "execution_count": 35,
   "metadata": {
    "ExecuteTime": {
     "end_time": "2017-03-07T23:14:25.848272",
     "start_time": "2017-03-07T23:14:25.758727"
    }
   },
   "outputs": [],
   "source": [
    "reversions = [ql.QuoteHandle(ql.SimpleQuote(reversion))]"
   ]
  },
  {
   "cell_type": "markdown",
   "metadata": {
    "variables": {
     "reversion": "0.01"
    }
   },
   "source": [
    "The reversion is just kept constant at a level of {{reversion}}"
   ]
  },
  {
   "cell_type": "markdown",
   "metadata": {},
   "source": [
    "The model's curve is set to the 6m forward curve. Note that the model adapts automatically to other curves where appropriate (e.g. if an index requires a different forwarding curve) or where explicitly specified (e.g. in a swaption pricing engine)."
   ]
  },
  {
   "cell_type": "code",
   "execution_count": 36,
   "metadata": {
    "ExecuteTime": {
     "end_time": "2017-03-07T23:14:25.939715",
     "start_time": "2017-03-07T23:14:25.850286"
    }
   },
   "outputs": [],
   "source": [
    "gsr = ql.Gsr(yts6m, stepDates, sigmas, reversions)"
   ]
  },
  {
   "cell_type": "code",
   "execution_count": 37,
   "metadata": {
    "ExecuteTime": {
     "end_time": "2017-03-07T23:14:26.019951",
     "start_time": "2017-03-07T23:14:25.940717"
    }
   },
   "outputs": [],
   "source": [
    "swaptionEngine = ql.Gaussian1dSwaptionEngine(gsr, 64, 7.0, True, False, ytsOis)"
   ]
  },
  {
   "cell_type": "code",
   "execution_count": 38,
   "metadata": {
    "ExecuteTime": {
     "end_time": "2017-03-07T23:14:26.094133",
     "start_time": "2017-03-07T23:14:26.020981"
    }
   },
   "outputs": [],
   "source": [
    "nonstandardSwaptionEngine = ql.Gaussian1dNonstandardSwaptionEngine(gsr, 64, 7.0, True, False, ql.QuoteHandle(),ytsOis, ql.Gaussian1dNonstandardSwaptionEngine.Naive)"
   ]
  },
  {
   "cell_type": "code",
   "execution_count": 39,
   "metadata": {
    "ExecuteTime": {
     "end_time": "2017-03-07T23:14:26.169155",
     "start_time": "2017-03-07T23:14:26.095137"
    }
   },
   "outputs": [],
   "source": [
    "swaption.setPricingEngine(nonstandardSwaptionEngine)"
   ]
  },
  {
   "cell_type": "markdown",
   "metadata": {},
   "source": [
    "The engine can generate a calibration basket in two modes. The first one is called Naive and generates ATM swaptions adapted to the exercise dates of the swaption and its maturity date."
   ]
  },
  {
   "cell_type": "code",
   "execution_count": 40,
   "metadata": {
    "ExecuteTime": {
     "end_time": "2017-03-07T23:14:26.260982",
     "start_time": "2017-03-07T23:14:26.170157"
    }
   },
   "outputs": [],
   "source": [
    "swapBase = ql.EuriborSwapIsdaFixA(ql.Period(10,ql.Years), yts6m, ytsOis)"
   ]
  },
  {
   "cell_type": "code",
   "execution_count": 41,
   "metadata": {
    "ExecuteTime": {
     "end_time": "2017-03-07T23:14:26.335470",
     "start_time": "2017-03-07T23:14:26.262018"
    }
   },
   "outputs": [],
   "source": [
    "basket = swaption.calibrationBasket(swapBase, swaptionVol, \"Naive\")"
   ]
  },
  {
   "cell_type": "code",
   "execution_count": 102,
   "metadata": {},
   "outputs": [],
   "source": [
    "h=ql.SwaptionVolatilityStructureHandle(swaptionVolCube)"
   ]
  },
  {
   "cell_type": "code",
   "execution_count": 107,
   "metadata": {},
   "outputs": [
    {
     "ename": "TypeError",
     "evalue": "in method 'NonstandardSwaption_calibrationBasket', argument 3 of type 'boost::shared_ptr< SwaptionVolatilityStructure >'",
     "output_type": "error",
     "traceback": [
      "\u001b[1;31m---------------------------------------------------------------------------\u001b[0m",
      "\u001b[1;31mTypeError\u001b[0m                                 Traceback (most recent call last)",
      "\u001b[1;32m<ipython-input-107-9f34cd4c75ad>\u001b[0m in \u001b[0;36m<module>\u001b[1;34m()\u001b[0m\n\u001b[1;32m----> 1\u001b[1;33m \u001b[0mbasket\u001b[0m \u001b[1;33m=\u001b[0m \u001b[0mswaption\u001b[0m\u001b[1;33m.\u001b[0m\u001b[0mcalibrationBasket\u001b[0m\u001b[1;33m(\u001b[0m\u001b[0mswapBase\u001b[0m\u001b[1;33m,\u001b[0m \u001b[0mh\u001b[0m\u001b[1;33m.\u001b[0m\u001b[0mthisown\u001b[0m\u001b[1;33m,\u001b[0m \u001b[1;34m\"Naive\"\u001b[0m\u001b[1;33m)\u001b[0m\u001b[1;33m\u001b[0m\u001b[0m\n\u001b[0m",
      "\u001b[1;32mF:\\WinPython-64bit-3.6.3.0Qt5\\python-3.6.3.amd64\\lib\\site-packages\\quantlib_python-1.16-py3.6-win-amd64.egg\\QuantLib\\QuantLib.py\u001b[0m in \u001b[0;36mcalibrationBasket\u001b[1;34m(self, swapIndex, swaptionVolatility, typeStr)\u001b[0m\n\u001b[0;32m  22826\u001b[0m \u001b[1;33m\u001b[0m\u001b[0m\n\u001b[0;32m  22827\u001b[0m     \u001b[1;32mdef\u001b[0m \u001b[0mcalibrationBasket\u001b[0m\u001b[1;33m(\u001b[0m\u001b[0mself\u001b[0m\u001b[1;33m,\u001b[0m \u001b[0mswapIndex\u001b[0m\u001b[1;33m:\u001b[0m \u001b[1;34m'boost::shared_ptr< SwapIndex >'\u001b[0m\u001b[1;33m,\u001b[0m \u001b[0mswaptionVolatility\u001b[0m\u001b[1;33m:\u001b[0m \u001b[1;34m'boost::shared_ptr< SwaptionVolatilityStructure >'\u001b[0m\u001b[1;33m,\u001b[0m \u001b[0mtypeStr\u001b[0m\u001b[1;33m:\u001b[0m \u001b[1;34m'std::string'\u001b[0m\u001b[1;33m)\u001b[0m \u001b[1;33m->\u001b[0m \u001b[1;34m\"std::vector< boost::shared_ptr< BlackCalibrationHelper >,std::allocator< boost::shared_ptr< BlackCalibrationHelper > > >\"\u001b[0m\u001b[1;33m:\u001b[0m\u001b[1;33m\u001b[0m\u001b[0m\n\u001b[1;32m> 22828\u001b[1;33m         \u001b[1;32mreturn\u001b[0m \u001b[0m_QuantLib\u001b[0m\u001b[1;33m.\u001b[0m\u001b[0mNonstandardSwaption_calibrationBasket\u001b[0m\u001b[1;33m(\u001b[0m\u001b[0mself\u001b[0m\u001b[1;33m,\u001b[0m \u001b[0mswapIndex\u001b[0m\u001b[1;33m,\u001b[0m \u001b[0mswaptionVolatility\u001b[0m\u001b[1;33m,\u001b[0m \u001b[0mtypeStr\u001b[0m\u001b[1;33m)\u001b[0m\u001b[1;33m\u001b[0m\u001b[0m\n\u001b[0m\u001b[0;32m  22829\u001b[0m \u001b[1;33m\u001b[0m\u001b[0m\n\u001b[0;32m  22830\u001b[0m     \u001b[1;32mdef\u001b[0m \u001b[0mprobabilities\u001b[0m\u001b[1;33m(\u001b[0m\u001b[0mself\u001b[0m\u001b[1;33m)\u001b[0m \u001b[1;33m->\u001b[0m \u001b[1;34m\"std::vector< Real,std::allocator< Real > >\"\u001b[0m\u001b[1;33m:\u001b[0m\u001b[1;33m\u001b[0m\u001b[0m\n",
      "\u001b[1;31mTypeError\u001b[0m: in method 'NonstandardSwaption_calibrationBasket', argument 3 of type 'boost::shared_ptr< SwaptionVolatilityStructure >'"
     ]
    }
   ],
   "source": [
    "basket = swaption.calibrationBasket(swapBase, h.thisown, \"Naive\")"
   ]
  },
  {
   "cell_type": "code",
   "execution_count": 82,
   "metadata": {
    "ExecuteTime": {
     "end_time": "2017-03-07T23:14:26.421390",
     "start_time": "2017-03-07T23:14:26.336472"
    }
   },
   "outputs": [],
   "source": [
    "def printBasket(basket):\n",
    "    print()\n",
    "    print('{:<20}{:<20}{:<20}{:<14}{:<12}{:<14}'.format(\"Expiry\", \"Maturity\", \"Nominal\", \"Rate\", \"Pay/Rec\", \"Market ivol\"))\n",
    "    print(\"====================\"*4+\"==================\")\n",
    "    for helper in basket:\n",
    "        helper = ql.as_swaption_helper(helper)\n",
    "        endDate = helper.swaptionMaturityDate()\n",
    "        nominal = helper.swaptionNominal()\n",
    "        vol = helper.volatility().value()\n",
    "        rate = helper.swaptionStrike()\n",
    "        expiry = helper.swaptionExpiryDate()\n",
    "        swp_type = 0 # to be SWIGed\n",
    "        print('{:<20}{:<20}{:<20}{:<14}{:<12}{:<14}'.format(str(expiry), str(endDate), (\"%.2f\"%nominal), (\"%.6f\"%rate), str(swp_type), (\"%.6f\"%vol)))"
   ]
  },
  {
   "cell_type": "markdown",
   "metadata": {},
   "source": [
    "The resulting basket looks as follows:"
   ]
  },
  {
   "cell_type": "code",
   "execution_count": 92,
   "metadata": {
    "ExecuteTime": {
     "end_time": "2017-03-07T23:14:26.500909",
     "start_time": "2017-03-07T23:14:26.422973"
    }
   },
   "outputs": [
    {
     "name": "stdout",
     "output_type": "stream",
     "text": [
      "\n",
      "Expiry              Maturity            Nominal             Rate          Pay/Rec     Market ivol   \n",
      "==================================================================================================\n",
      "April 30th, 2015    May 6th, 2024       1.00                0.025307      0           0.020000      \n",
      "May 3rd, 2016       May 6th, 2024       1.00                0.025300      0           0.020000      \n",
      "May 3rd, 2017       May 6th, 2024       1.00                0.025303      0           0.020000      \n",
      "May 3rd, 2018       May 6th, 2024       1.00                0.025306      0           0.020000      \n",
      "May 2nd, 2019       May 6th, 2024       1.00                0.025311      0           0.020000      \n",
      "April 30th, 2020    May 6th, 2024       1.00                0.025300      0           0.020000      \n",
      "May 3rd, 2021       May 6th, 2024       1.00                0.025306      0           0.020000      \n",
      "May 3rd, 2022       May 6th, 2024       1.00                0.025318      0           0.020000      \n",
      "May 3rd, 2023       May 6th, 2024       1.00                0.025353      0           0.020000      \n"
     ]
    }
   ],
   "source": [
    "printBasket(basket)"
   ]
  },
  {
   "cell_type": "markdown",
   "metadata": {},
   "source": [
    "Let's calibrate our model to this basket. We use a specialized calibration method calibrating the sigma function one by one to the calibrating vanilla swaptions. The result of this is as follows:"
   ]
  },
  {
   "cell_type": "code",
   "execution_count": 95,
   "metadata": {
    "ExecuteTime": {
     "end_time": "2017-03-07T23:14:26.576117",
     "start_time": "2017-03-07T23:14:26.501888"
    }
   },
   "outputs": [],
   "source": [
    "for helper in basket:\n",
    "    helper.setPricingEngine(swaptionEngine)"
   ]
  },
  {
   "cell_type": "code",
   "execution_count": 96,
   "metadata": {
    "ExecuteTime": {
     "end_time": "2017-03-07T23:14:26.649806",
     "start_time": "2017-03-07T23:14:26.577112"
    }
   },
   "outputs": [],
   "source": [
    "method = ql.LevenbergMarquardt()"
   ]
  },
  {
   "cell_type": "code",
   "execution_count": 97,
   "metadata": {
    "ExecuteTime": {
     "end_time": "2017-03-07T23:14:26.734603",
     "start_time": "2017-03-07T23:14:26.650806"
    }
   },
   "outputs": [],
   "source": [
    "ec = ql.EndCriteria(1000, 10, 1e-8, 1e-8, 1e-8)"
   ]
  },
  {
   "cell_type": "code",
   "execution_count": 98,
   "metadata": {
    "ExecuteTime": {
     "end_time": "2017-03-07T23:14:27.095636",
     "start_time": "2017-03-07T23:14:26.735606"
    }
   },
   "outputs": [],
   "source": [
    "gsr.calibrateVolatilitiesIterative(basket, method, ec)"
   ]
  },
  {
   "cell_type": "code",
   "execution_count": 99,
   "metadata": {
    "ExecuteTime": {
     "end_time": "2017-03-07T23:14:27.164589",
     "start_time": "2017-03-07T23:14:27.096622"
    }
   },
   "outputs": [],
   "source": [
    "def printModelCalibration(basket, volatility):\n",
    "    print()\n",
    "    print('{:<20}{:<14}{:<20}{:<20}{:<14}{:<14}'.format(\"Expiry\", \"Model sigma\", \"Model price\", \"Market price\", \"Model ivol\", \"Market ivol\"))\n",
    "    print(\"====================\"*5)\n",
    "    for i in range(0,len(basket)):\n",
    "        helper = basket[i]\n",
    "        helper = ql.as_swaption_helper(helper)\n",
    "        expiry = helper.swaptionExpiryDate()\n",
    "        print('{:<20}{:<14}{:<20}{:<20}{:<14}{:<14}'.format(str(expiry), (\"%.6f\"%volatility[i]), (\"%.6f\"%helper.modelValue()),\n",
    "                                                           (\"%.6f\"%helper.marketValue()), (\"%.6f\"%helper.impliedVolatility(helper.modelValue(), 1e-6, 1000, 0.0, 2.0)),\n",
    "                                                           (\"%.6f\"%helper.volatility().value())))\n",
    "    if (len(volatility) > len(basket)):\n",
    "        print('{:<20}'.format((\"%.6f\"%volatility[-1])))\n",
    "        "
   ]
  },
  {
   "cell_type": "code",
   "execution_count": 100,
   "metadata": {
    "ExecuteTime": {
     "end_time": "2017-03-07T23:14:27.291975",
     "start_time": "2017-03-07T23:14:27.165590"
    }
   },
   "outputs": [
    {
     "name": "stdout",
     "output_type": "stream",
     "text": [
      "\n",
      "Expiry              Model sigma   Model price         Market price        Model ivol    Market ivol   \n",
      "====================================================================================================\n",
      "April 30th, 2015    0.000519      0.001614            0.001614            0.020000      0.020000      \n",
      "May 3rd, 2016       0.000519      0.002013            0.002013            0.020000      0.020000      \n",
      "May 3rd, 2017       0.000518      0.002133            0.002133            0.020000      0.020000      \n",
      "May 3rd, 2018       0.000519      0.002087            0.002087            0.020000      0.020000      \n",
      "May 2nd, 2019       0.000519      0.001925            0.001925            0.020000      0.020000      \n",
      "April 30th, 2020    0.000519      0.001670            0.001670            0.020000      0.020000      \n",
      "May 3rd, 2021       0.000519      0.001341            0.001341            0.020000      0.020000      \n",
      "May 3rd, 2022       0.000519      0.000947            0.000947            0.020000      0.020000      \n",
      "May 3rd, 2023       0.000516      0.000498            0.000498            0.020000      0.020000      \n"
     ]
    }
   ],
   "source": [
    "printModelCalibration(basket, gsr.volatility())"
   ]
  },
  {
   "cell_type": "markdown",
   "metadata": {},
   "source": [
    "Finally we price our bermudan swaption in the calibrated model:"
   ]
  },
  {
   "cell_type": "code",
   "execution_count": 46,
   "metadata": {
    "ExecuteTime": {
     "end_time": "2017-03-07T23:14:27.387960",
     "start_time": "2017-03-07T23:14:27.292945"
    },
    "scrolled": true
   },
   "outputs": [
    {
     "name": "stdout",
     "output_type": "stream",
     "text": [
      "Bermudan swaption NPV (ATM calibrated GSR) = 0.003808\n"
     ]
    }
   ],
   "source": [
    "print(\"Bermudan swaption NPV (ATM calibrated GSR) = %.6f\" % swaption.NPV())"
   ]
  },
  {
   "cell_type": "code",
   "execution_count": 47,
   "metadata": {},
   "outputs": [
    {
     "name": "stdout",
     "output_type": "stream",
     "text": [
      "Call probabilities (Naive):\n",
      "0.0000\n",
      "0.0009\n",
      "0.0045\n",
      "0.0063\n",
      "0.0096\n",
      "0.0142\n",
      "0.0138\n",
      "0.0151\n",
      "0.0166\n",
      "0.9192\n"
     ]
    }
   ],
   "source": [
    "probResult0 = swaption.probabilities()\n",
    "print(\"Call probabilities (Naive):\")\n",
    "for prob in probResult0:\n",
    "    print (\"%.4f\" % prob)"
   ]
  },
  {
   "cell_type": "markdown",
   "metadata": {},
   "source": [
    "There is another mode to generate a calibration basket called MaturityStrikeByDeltaGamma. This means that the maturity, the strike and the nominal of the calibrating swaption are computed such that the npv and its first and second derivative with respect to the model's state variable) of the exotics underlying match with the calibrating swaption'sunderlying. Let's try this in our case."
   ]
  },
  {
   "cell_type": "code",
   "execution_count": 48,
   "metadata": {
    "ExecuteTime": {
     "end_time": "2017-03-07T23:14:27.511413",
     "start_time": "2017-03-07T23:14:27.388964"
    }
   },
   "outputs": [],
   "source": [
    "basket = swaption.calibrationBasket(swapBase, swaptionVol, \"MaturityStrikeByDeltaGamma\")"
   ]
  },
  {
   "cell_type": "code",
   "execution_count": 49,
   "metadata": {
    "ExecuteTime": {
     "end_time": "2017-03-07T23:14:27.610317",
     "start_time": "2017-03-07T23:14:27.512389"
    }
   },
   "outputs": [
    {
     "name": "stdout",
     "output_type": "stream",
     "text": [
      "\n",
      "Expiry              Maturity            Nominal             Rate          Pay/Rec     Market ivol   \n",
      "==================================================================================================\n",
      "April 30th, 2015    May 6th, 2024       1.00                0.040000      0           0.200000      \n",
      "May 3rd, 2016       May 6th, 2024       1.00                0.040000      0           0.200000      \n",
      "May 3rd, 2017       May 6th, 2024       1.00                0.040000      0           0.200000      \n",
      "May 3rd, 2018       May 7th, 2024       1.00                0.040000      0           0.200000      \n",
      "May 2nd, 2019       May 6th, 2024       1.00                0.040000      0           0.200000      \n",
      "April 30th, 2020    May 6th, 2024       1.00                0.040000      0           0.200000      \n",
      "May 3rd, 2021       May 6th, 2024       1.00                0.040000      0           0.200000      \n",
      "May 3rd, 2022       May 6th, 2024       1.00                0.040000      0           0.200000      \n",
      "May 3rd, 2023       May 6th, 2024       1.00                0.040000      0           0.200000      \n"
     ]
    }
   ],
   "source": [
    "printBasket(basket)"
   ]
  },
  {
   "cell_type": "markdown",
   "metadata": {},
   "source": [
    "The calibrated nominal is close to the exotics nominal. The expiries and maturity dates of the vanillas are the same as in the case above. The difference is the strike which is now equal to the exotics strike."
   ]
  },
  {
   "cell_type": "markdown",
   "metadata": {},
   "source": [
    "Let's see how this affects the exotics npv. The recalibrated model is:"
   ]
  },
  {
   "cell_type": "code",
   "execution_count": 50,
   "metadata": {
    "ExecuteTime": {
     "end_time": "2017-03-07T23:14:27.745312",
     "start_time": "2017-03-07T23:14:27.612294"
    }
   },
   "outputs": [],
   "source": [
    "for helper in basket:\n",
    "    helper.setPricingEngine(swaptionEngine)"
   ]
  },
  {
   "cell_type": "code",
   "execution_count": 51,
   "metadata": {
    "ExecuteTime": {
     "end_time": "2017-03-07T23:14:28.234387",
     "start_time": "2017-03-07T23:14:27.746348"
    }
   },
   "outputs": [],
   "source": [
    "gsr.calibrateVolatilitiesIterative(basket, method, ec)"
   ]
  },
  {
   "cell_type": "code",
   "execution_count": 52,
   "metadata": {
    "ExecuteTime": {
     "end_time": "2017-03-07T23:14:28.357892",
     "start_time": "2017-03-07T23:14:28.235402"
    }
   },
   "outputs": [
    {
     "name": "stdout",
     "output_type": "stream",
     "text": [
      "\n",
      "Expiry              Model sigma   Model price         Market price        Model ivol    Market ivol   \n",
      "====================================================================================================\n",
      "April 30th, 2015    0.006508      0.000191            0.000191            0.200000      0.200000      \n",
      "May 3rd, 2016       0.006502      0.001412            0.001412            0.200000      0.200000      \n",
      "May 3rd, 2017       0.006480      0.002905            0.002905            0.200000      0.200000      \n",
      "May 3rd, 2018       0.006464      0.004091            0.004091            0.200000      0.200000      \n",
      "May 2nd, 2019       0.006422      0.004766            0.004766            0.200000      0.200000      \n",
      "April 30th, 2020    0.006445      0.004869            0.004869            0.200000      0.200000      \n",
      "May 3rd, 2021       0.006433      0.004433            0.004433            0.200000      0.200000      \n",
      "May 3rd, 2022       0.006332      0.003454            0.003454            0.200000      0.200000      \n",
      "May 3rd, 2023       0.006295      0.001973            0.001973            0.200000      0.200000      \n"
     ]
    }
   ],
   "source": [
    "printModelCalibration(basket, gsr.volatility())"
   ]
  },
  {
   "cell_type": "markdown",
   "metadata": {},
   "source": [
    "And the bermudan's price becomes:"
   ]
  },
  {
   "cell_type": "code",
   "execution_count": 53,
   "metadata": {
    "ExecuteTime": {
     "end_time": "2017-03-07T23:14:28.479511",
     "start_time": "2017-03-07T23:14:28.358864"
    }
   },
   "outputs": [
    {
     "name": "stdout",
     "output_type": "stream",
     "text": [
      "Bermudan swaption NPV (deal strike calibrated GSR) = 0.007627\n"
     ]
    }
   ],
   "source": [
    "print(\"Bermudan swaption NPV (deal strike calibrated GSR) = %.6f\" % swaption.NPV())"
   ]
  },
  {
   "cell_type": "markdown",
   "metadata": {},
   "source": [
    "We can do more complicated things, let's e.g. modify the nominal schedule to be linear amortizing and see what the effect on the generated calibration basket is:"
   ]
  },
  {
   "cell_type": "code",
   "execution_count": 54,
   "metadata": {
    "ExecuteTime": {
     "end_time": "2017-03-07T23:14:28.574496",
     "start_time": "2017-03-07T23:14:28.480514"
    }
   },
   "outputs": [],
   "source": [
    "nominalFixed = [ 1.0 - float(i) / (len(fixedSchedule) - 1) for i in range(0,len(fixedSchedule)-1)]\n",
    "nominalFloating = [ n for n in nominalFixed for repetitions in range(2)]\n",
    "strikes = [strike]*len(nominalFixed)"
   ]
  },
  {
   "cell_type": "code",
   "execution_count": 55,
   "metadata": {
    "ExecuteTime": {
     "end_time": "2017-03-07T23:14:28.677189",
     "start_time": "2017-03-07T23:14:28.575465"
    }
   },
   "outputs": [],
   "source": [
    "underlying2 = ql.NonstandardSwap(ql.VanillaSwap.Payer, nominalFixed, nominalFloating, fixedSchedule,\n",
    "                                              strikes, ql.Thirty360(), floatingSchedule, \n",
    "                                              euribor6m, [1.0]*(len(floatingSchedule)-1), [0.0]*(len(floatingSchedule)-1), ql.Actual360())"
   ]
  },
  {
   "cell_type": "code",
   "execution_count": 56,
   "metadata": {
    "ExecuteTime": {
     "end_time": "2017-03-07T23:14:28.767413",
     "start_time": "2017-03-07T23:14:28.679205"
    }
   },
   "outputs": [],
   "source": [
    "swaption2 = ql.NonstandardSwaption(underlying2, exercise)"
   ]
  },
  {
   "cell_type": "code",
   "execution_count": 57,
   "metadata": {
    "ExecuteTime": {
     "end_time": "2017-03-07T23:14:28.848709",
     "start_time": "2017-03-07T23:14:28.768415"
    }
   },
   "outputs": [],
   "source": [
    "swaption2.setPricingEngine(nonstandardSwaptionEngine)"
   ]
  },
  {
   "cell_type": "code",
   "execution_count": 58,
   "metadata": {
    "ExecuteTime": {
     "end_time": "2017-03-07T23:14:28.981496",
     "start_time": "2017-03-07T23:14:28.849680"
    }
   },
   "outputs": [],
   "source": [
    "basket = swaption2.calibrationBasket(swapBase, swaptionVol, \"MaturityStrikeByDeltaGamma\")"
   ]
  },
  {
   "cell_type": "code",
   "execution_count": 59,
   "metadata": {
    "ExecuteTime": {
     "end_time": "2017-03-07T23:14:29.093385",
     "start_time": "2017-03-07T23:14:28.983263"
    }
   },
   "outputs": [
    {
     "name": "stdout",
     "output_type": "stream",
     "text": [
      "\n",
      "Expiry              Maturity            Nominal             Rate          Pay/Rec     Market ivol   \n",
      "==================================================================================================\n",
      "April 30th, 2015    August 5th, 2021    0.72                0.039997      0           0.200000      \n",
      "May 3rd, 2016       December 6th, 2021  0.64                0.040003      0           0.200000      \n",
      "May 3rd, 2017       May 5th, 2022       0.56                0.040005      0           0.200000      \n",
      "May 3rd, 2018       September 7th, 2022 0.49                0.040004      0           0.200000      \n",
      "May 2nd, 2019       January 6th, 2023   0.41                0.040008      0           0.200000      \n",
      "April 30th, 2020    May 5th, 2023       0.33                0.039994      0           0.200000      \n",
      "May 3rd, 2021       September 5th, 2023 0.26                0.039995      0           0.200000      \n",
      "May 3rd, 2022       January 5th, 2024   0.18                0.040031      0           0.200000      \n",
      "May 3rd, 2023       May 6th, 2024       0.10                0.040000      0           0.200000      \n"
     ]
    }
   ],
   "source": [
    "printBasket(basket)"
   ]
  },
  {
   "cell_type": "markdown",
   "metadata": {},
   "source": [
    "The notional is weighted over the underlying exercised into and the maturity is adjusted downwards. The rate on the other hand is not affected."
   ]
  },
  {
   "cell_type": "markdown",
   "metadata": {},
   "source": [
    "You can also price exotic bond's features. If you have e.g. a bermudan callable fixed bond you can set up the call right as a swaption to enter into a one leg swap with notional reimbursement at maturity. The exercise should then be written as a rebated exercise paying the notional in case of exercise."
   ]
  },
  {
   "cell_type": "code",
   "execution_count": 60,
   "metadata": {
    "ExecuteTime": {
     "end_time": "2017-03-07T23:14:29.180258",
     "start_time": "2017-03-07T23:14:29.095390"
    }
   },
   "outputs": [],
   "source": [
    "nominalFixed2 = [1.0]*len(nominalFixed)\n",
    "nominalFloating2 = [0.0]*len(nominalFloating)"
   ]
  },
  {
   "cell_type": "code",
   "execution_count": 61,
   "metadata": {
    "ExecuteTime": {
     "end_time": "2017-03-07T23:14:29.272137",
     "start_time": "2017-03-07T23:14:29.181249"
    }
   },
   "outputs": [],
   "source": [
    "underlying3 = ql.NonstandardSwap(ql.VanillaSwap.Receiver, nominalFixed2, nominalFloating2, fixedSchedule,\n",
    "                                              strikes, ql.Thirty360(), floatingSchedule, \n",
    "                                              euribor6m, [1.0]*(len(floatingSchedule)-1), [0.0]*(len(floatingSchedule)-1), ql.Actual360(),\n",
    "                                False, True)"
   ]
  },
  {
   "cell_type": "code",
   "execution_count": 62,
   "metadata": {
    "ExecuteTime": {
     "end_time": "2017-03-07T23:14:29.358501",
     "start_time": "2017-03-07T23:14:29.273139"
    }
   },
   "outputs": [],
   "source": [
    "exercise2 = ql.RebatedExercise(exercise, [-1.0]*len(exerciseDates), 2, ql.TARGET())"
   ]
  },
  {
   "cell_type": "code",
   "execution_count": 63,
   "metadata": {
    "ExecuteTime": {
     "end_time": "2017-03-07T23:14:29.438410",
     "start_time": "2017-03-07T23:14:29.359435"
    }
   },
   "outputs": [],
   "source": [
    "swaption3 = ql.NonstandardSwaption(underlying3, exercise2)"
   ]
  },
  {
   "cell_type": "code",
   "execution_count": 64,
   "metadata": {
    "ExecuteTime": {
     "end_time": "2017-03-07T23:14:29.540378",
     "start_time": "2017-03-07T23:14:29.440412"
    }
   },
   "outputs": [],
   "source": [
    "oas0 = ql.SimpleQuote(0.0)\n",
    "oas100 = ql.SimpleQuote(0.01)\n",
    "oas = ql.RelinkableQuoteHandle(oas0)"
   ]
  },
  {
   "cell_type": "code",
   "execution_count": 65,
   "metadata": {
    "ExecuteTime": {
     "end_time": "2017-03-07T23:14:29.610608",
     "start_time": "2017-03-07T23:14:29.541389"
    }
   },
   "outputs": [],
   "source": [
    "nonstandardSwaptionEngine2 = ql.Gaussian1dNonstandardSwaptionEngine(gsr, 64, 7.0, True, False, oas) #change discounting to 6m"
   ]
  },
  {
   "cell_type": "code",
   "execution_count": 66,
   "metadata": {
    "ExecuteTime": {
     "end_time": "2017-03-07T23:14:29.693326",
     "start_time": "2017-03-07T23:14:29.611610"
    }
   },
   "outputs": [],
   "source": [
    "swaption3.setPricingEngine(nonstandardSwaptionEngine2)"
   ]
  },
  {
   "cell_type": "code",
   "execution_count": 67,
   "metadata": {
    "ExecuteTime": {
     "end_time": "2017-03-07T23:14:29.835487",
     "start_time": "2017-03-07T23:14:29.694326"
    }
   },
   "outputs": [],
   "source": [
    "basket = swaption3.calibrationBasket(swapBase, swaptionVol, \"MaturityStrikeByDeltaGamma\")"
   ]
  },
  {
   "cell_type": "markdown",
   "metadata": {},
   "source": [
    "The calibration basket looks like this:"
   ]
  },
  {
   "cell_type": "code",
   "execution_count": 68,
   "metadata": {
    "ExecuteTime": {
     "end_time": "2017-03-07T23:14:29.928653",
     "start_time": "2017-03-07T23:14:29.837083"
    }
   },
   "outputs": [
    {
     "name": "stdout",
     "output_type": "stream",
     "text": [
      "\n",
      "Expiry              Maturity            Nominal             Rate          Pay/Rec     Market ivol   \n",
      "==================================================================================================\n",
      "April 30th, 2015    April 5th, 2024     0.98                0.039952      0           0.200000      \n",
      "May 3rd, 2016       April 5th, 2024     0.99                0.039952      0           0.200000      \n",
      "May 3rd, 2017       May 6th, 2024       0.99                0.039952      0           0.200000      \n",
      "May 3rd, 2018       May 7th, 2024       0.99                0.039952      0           0.200000      \n",
      "May 2nd, 2019       May 6th, 2024       0.99                0.039952      0           0.200000      \n",
      "April 30th, 2020    May 6th, 2024       0.99                0.039951      0           0.200000      \n",
      "May 3rd, 2021       May 6th, 2024       0.99                0.039951      0           0.200000      \n",
      "May 3rd, 2022       May 6th, 2024       0.99                0.039952      0           0.200000      \n",
      "May 3rd, 2023       May 6th, 2024       1.00                0.039949      0           0.200000      \n"
     ]
    }
   ],
   "source": [
    "printBasket(basket)"
   ]
  },
  {
   "cell_type": "markdown",
   "metadata": {},
   "source": [
    "Note that nominals are not exactly 1.0 here. This is because we do our bond discounting on 6m level while the swaptions are still discounted on OIS level. (You can try this by changing the OIS level to the 6m level, which will produce nominals near 1.0). The npv of the call right is (after recalibrating the model):"
   ]
  },
  {
   "cell_type": "code",
   "execution_count": 69,
   "metadata": {
    "ExecuteTime": {
     "end_time": "2017-03-07T23:14:30.017529",
     "start_time": "2017-03-07T23:14:29.930626"
    }
   },
   "outputs": [],
   "source": [
    "for helper in basket:\n",
    "    helper.setPricingEngine(swaptionEngine)"
   ]
  },
  {
   "cell_type": "code",
   "execution_count": 70,
   "metadata": {
    "ExecuteTime": {
     "end_time": "2017-03-07T23:14:30.319423",
     "start_time": "2017-03-07T23:14:30.018563"
    }
   },
   "outputs": [],
   "source": [
    "gsr.calibrateVolatilitiesIterative(basket, method, ec)"
   ]
  },
  {
   "cell_type": "code",
   "execution_count": 71,
   "metadata": {
    "ExecuteTime": {
     "end_time": "2017-03-07T23:14:30.463282",
     "start_time": "2017-03-07T23:14:30.320426"
    }
   },
   "outputs": [
    {
     "name": "stdout",
     "output_type": "stream",
     "text": [
      "Bond's bermudan call right npv = 0.115409\n"
     ]
    }
   ],
   "source": [
    "print(\"Bond's bermudan call right npv = %.6f\" % swaption3.NPV())"
   ]
  },
  {
   "cell_type": "markdown",
   "metadata": {},
   "source": [
    "Up to now, no credit spread is included in the pricing. We can do so by specifying an oas in the pricing engine. Let's set the spread level to 100bp and regenerate the calibration basket."
   ]
  },
  {
   "cell_type": "code",
   "execution_count": 72,
   "metadata": {
    "ExecuteTime": {
     "end_time": "2017-03-07T23:14:30.540305",
     "start_time": "2017-03-07T23:14:30.464283"
    }
   },
   "outputs": [],
   "source": [
    "oas.linkTo(oas100) # Credit Spread 100bp"
   ]
  },
  {
   "cell_type": "code",
   "execution_count": 73,
   "metadata": {
    "ExecuteTime": {
     "end_time": "2017-03-07T23:14:30.694461",
     "start_time": "2017-03-07T23:14:30.541290"
    }
   },
   "outputs": [],
   "source": [
    "basket = swaption3.calibrationBasket(swapBase, swaptionVol, \"MaturityStrikeByDeltaGamma\")"
   ]
  },
  {
   "cell_type": "code",
   "execution_count": 74,
   "metadata": {
    "ExecuteTime": {
     "end_time": "2017-03-07T23:14:30.775299",
     "start_time": "2017-03-07T23:14:30.695842"
    }
   },
   "outputs": [
    {
     "name": "stdout",
     "output_type": "stream",
     "text": [
      "\n",
      "Expiry              Maturity            Nominal             Rate          Pay/Rec     Market ivol   \n",
      "==================================================================================================\n",
      "April 30th, 2015    February 5th, 2024  0.96                0.029608      0           0.200000      \n",
      "May 3rd, 2016       March 5th, 2024     0.97                0.029605      0           0.200000      \n",
      "May 3rd, 2017       April 5th, 2024     0.97                0.029608      0           0.200000      \n",
      "May 3rd, 2018       April 8th, 2024     0.97                0.029610      0           0.200000      \n",
      "May 2nd, 2019       April 8th, 2024     0.98                0.029608      0           0.200000      \n",
      "April 30th, 2020    May 6th, 2024       0.98                0.029612      0           0.200000      \n",
      "May 3rd, 2021       May 6th, 2024       0.99                0.029609      0           0.200000      \n",
      "May 3rd, 2022       May 6th, 2024       0.99                0.029603      0           0.200000      \n",
      "May 3rd, 2023       May 6th, 2024       1.00                0.029586      0           0.200000      \n"
     ]
    }
   ],
   "source": [
    "printBasket(basket)"
   ]
  },
  {
   "cell_type": "markdown",
   "metadata": {},
   "source": [
    "The adjusted basket takes the credit spread into account. This is consistent to a hedge where you would have a margin on the float leg around 100bp, too."
   ]
  },
  {
   "cell_type": "code",
   "execution_count": 75,
   "metadata": {
    "ExecuteTime": {
     "end_time": "2017-03-07T23:14:30.855286",
     "start_time": "2017-03-07T23:14:30.776281"
    }
   },
   "outputs": [],
   "source": [
    "for helper in basket:\n",
    "    helper.setPricingEngine(swaptionEngine)"
   ]
  },
  {
   "cell_type": "code",
   "execution_count": 76,
   "metadata": {
    "ExecuteTime": {
     "end_time": "2017-03-07T23:14:31.199502",
     "start_time": "2017-03-07T23:14:30.856313"
    }
   },
   "outputs": [],
   "source": [
    "gsr.calibrateVolatilitiesIterative(basket, method, ec)"
   ]
  },
  {
   "cell_type": "code",
   "execution_count": 77,
   "metadata": {
    "ExecuteTime": {
     "end_time": "2017-03-07T23:14:31.319646",
     "start_time": "2017-03-07T23:14:31.200508"
    }
   },
   "outputs": [
    {
     "name": "stdout",
     "output_type": "stream",
     "text": [
      "Bond's bermudan call right npv (oas = 100bp) = 0.044980\n"
     ]
    }
   ],
   "source": [
    "print(\"Bond's bermudan call right npv (oas = 100bp) = %.6f\" % swaption3.NPV())"
   ]
  },
  {
   "cell_type": "markdown",
   "metadata": {},
   "source": [
    "The next instrument we look at is a CMS 10Y vs Euribor 6M swaption. The maturity is again 10 years and the option is exercisable on a yearly basis"
   ]
  },
  {
   "cell_type": "code",
   "execution_count": 78,
   "metadata": {
    "ExecuteTime": {
     "end_time": "2017-03-07T23:14:31.421642",
     "start_time": "2017-03-07T23:14:31.320652"
    }
   },
   "outputs": [],
   "source": [
    "underlying4 = ql.FloatFloatSwap(ql.VanillaSwap.Payer, [1.0]*(len(fixedSchedule)-1), [1.0]*(len(floatingSchedule)-1), fixedSchedule,\n",
    "                               swapBase, ql.Thirty360(), floatingSchedule,\n",
    "                               euribor6m, ql.Actual360(), False, False,\n",
    "                               [1.0]*(len(fixedSchedule)-1),[0.0]*(len(fixedSchedule)-1),[] ,[] ,[1.0]*(len(floatingSchedule)-1),\n",
    "                                [0.001]*(len(floatingSchedule)-1),[],[])"
   ]
  },
  {
   "cell_type": "code",
   "execution_count": 79,
   "metadata": {
    "ExecuteTime": {
     "end_time": "2017-03-07T23:14:31.522372",
     "start_time": "2017-03-07T23:14:31.422614"
    }
   },
   "outputs": [],
   "source": [
    "swaption4 = ql.FloatFloatSwaption(underlying4, exercise)"
   ]
  },
  {
   "cell_type": "code",
   "execution_count": 80,
   "metadata": {
    "ExecuteTime": {
     "end_time": "2017-03-07T23:14:31.620555",
     "start_time": "2017-03-07T23:14:31.523343"
    }
   },
   "outputs": [],
   "source": [
    "floatSwaptionEngine = ql.Gaussian1dFloatFloatSwaptionEngine(gsr, 64, 7.0, True, False, ql.QuoteHandle(), ytsOis, True, ql.Gaussian1dFloatFloatSwaptionEngine.Naive)"
   ]
  },
  {
   "cell_type": "code",
   "execution_count": 81,
   "metadata": {
    "ExecuteTime": {
     "end_time": "2017-03-07T23:14:31.720756",
     "start_time": "2017-03-07T23:14:31.621557"
    }
   },
   "outputs": [],
   "source": [
    "swaption4.setPricingEngine(floatSwaptionEngine)"
   ]
  },
  {
   "cell_type": "markdown",
   "metadata": {},
   "source": [
    "Since the underlying is quite exotic already, we start with pricing this using the LinearTsrPricer for CMS coupon estimation"
   ]
  },
  {
   "cell_type": "code",
   "execution_count": 82,
   "metadata": {
    "ExecuteTime": {
     "end_time": "2017-03-07T23:14:31.828756",
     "start_time": "2017-03-07T23:14:31.721727"
    }
   },
   "outputs": [],
   "source": [
    "reversionQuote=ql.QuoteHandle(ql.SimpleQuote(reversion))"
   ]
  },
  {
   "cell_type": "code",
   "execution_count": 83,
   "metadata": {
    "ExecuteTime": {
     "end_time": "2017-03-07T23:14:31.928127",
     "start_time": "2017-03-07T23:14:31.830753"
    }
   },
   "outputs": [],
   "source": [
    "leg0 = underlying4.leg(0)\n",
    "leg1 = underlying4.leg(1)"
   ]
  },
  {
   "cell_type": "code",
   "execution_count": 84,
   "metadata": {
    "ExecuteTime": {
     "end_time": "2017-03-07T23:14:32.010153",
     "start_time": "2017-03-07T23:14:31.929161"
    }
   },
   "outputs": [],
   "source": [
    "cmsPricer = ql.LinearTsrPricer(swaptionVolHandle, reversionQuote)"
   ]
  },
  {
   "cell_type": "code",
   "execution_count": 85,
   "metadata": {
    "ExecuteTime": {
     "end_time": "2017-03-07T23:14:32.091102",
     "start_time": "2017-03-07T23:14:32.011149"
    }
   },
   "outputs": [],
   "source": [
    "ql.setCouponPricer(leg0,cmsPricer)"
   ]
  },
  {
   "cell_type": "code",
   "execution_count": 86,
   "metadata": {
    "ExecuteTime": {
     "end_time": "2017-03-07T23:14:32.168527",
     "start_time": "2017-03-07T23:14:32.092102"
    }
   },
   "outputs": [],
   "source": [
    "iborPricer = ql.BlackIborCouponPricer()"
   ]
  },
  {
   "cell_type": "code",
   "execution_count": 87,
   "metadata": {
    "ExecuteTime": {
     "end_time": "2017-03-07T23:14:32.267730",
     "start_time": "2017-03-07T23:14:32.170523"
    }
   },
   "outputs": [],
   "source": [
    "ql.setCouponPricer(leg1,iborPricer)"
   ]
  },
  {
   "cell_type": "code",
   "execution_count": 88,
   "metadata": {
    "ExecuteTime": {
     "end_time": "2017-03-07T23:14:32.383257",
     "start_time": "2017-03-07T23:14:32.269707"
    }
   },
   "outputs": [],
   "source": [
    "swapPricer = ql.DiscountingSwapEngine(ytsOis)"
   ]
  },
  {
   "cell_type": "code",
   "execution_count": 89,
   "metadata": {
    "ExecuteTime": {
     "end_time": "2017-03-07T23:14:32.466947",
     "start_time": "2017-03-07T23:14:32.384260"
    }
   },
   "outputs": [],
   "source": [
    "underlying4.setPricingEngine(swapPricer)"
   ]
  },
  {
   "cell_type": "code",
   "execution_count": 90,
   "metadata": {
    "ExecuteTime": {
     "end_time": "2017-03-07T23:14:32.560225",
     "start_time": "2017-03-07T23:14:32.468953"
    }
   },
   "outputs": [],
   "source": [
    "npv5 = underlying4.NPV()"
   ]
  },
  {
   "cell_type": "code",
   "execution_count": 91,
   "metadata": {
    "ExecuteTime": {
     "end_time": "2017-03-07T23:14:32.649871",
     "start_time": "2017-03-07T23:14:32.561191"
    }
   },
   "outputs": [
    {
     "name": "stdout",
     "output_type": "stream",
     "text": [
      "Underlying CMS Swap NPV = 0.004447\n"
     ]
    }
   ],
   "source": [
    "print(\"Underlying CMS Swap NPV = %.6f\" % npv5)"
   ]
  },
  {
   "cell_type": "code",
   "execution_count": 92,
   "metadata": {
    "ExecuteTime": {
     "end_time": "2017-03-07T23:14:32.733913",
     "start_time": "2017-03-07T23:14:32.651597"
    }
   },
   "outputs": [
    {
     "name": "stdout",
     "output_type": "stream",
     "text": [
      "       CMS     Leg  NPV = -0.231736\n"
     ]
    }
   ],
   "source": [
    "print(\"       CMS     Leg  NPV = %.6f\" % underlying4.legNPV(0))"
   ]
  },
  {
   "cell_type": "code",
   "execution_count": 93,
   "metadata": {
    "ExecuteTime": {
     "end_time": "2017-03-07T23:14:32.840055",
     "start_time": "2017-03-07T23:14:32.734889"
    }
   },
   "outputs": [
    {
     "name": "stdout",
     "output_type": "stream",
     "text": [
      "       Euribor Leg  NPV = 0.236183\n"
     ]
    }
   ],
   "source": [
    "print(\"       Euribor Leg  NPV = %.6f\" % underlying4.legNPV(1))"
   ]
  },
  {
   "cell_type": "markdown",
   "metadata": {},
   "source": [
    "We generate a naive calibration basket and calibrate the GSR model to it:"
   ]
  },
  {
   "cell_type": "code",
   "execution_count": 94,
   "metadata": {
    "ExecuteTime": {
     "end_time": "2017-03-07T23:14:32.917431",
     "start_time": "2017-03-07T23:14:32.841057"
    }
   },
   "outputs": [],
   "source": [
    "basket = swaption4.calibrationBasket(swapBase, swaptionVol, \"Naive\");"
   ]
  },
  {
   "cell_type": "code",
   "execution_count": 95,
   "metadata": {
    "ExecuteTime": {
     "end_time": "2017-03-07T23:14:33.005956",
     "start_time": "2017-03-07T23:14:32.918434"
    }
   },
   "outputs": [],
   "source": [
    "for helper in basket:\n",
    "    helper.setPricingEngine(swaptionEngine)"
   ]
  },
  {
   "cell_type": "code",
   "execution_count": 96,
   "metadata": {
    "ExecuteTime": {
     "end_time": "2017-03-07T23:14:33.348112",
     "start_time": "2017-03-07T23:14:33.007590"
    }
   },
   "outputs": [],
   "source": [
    "gsr.calibrateVolatilitiesIterative(basket, method, ec)"
   ]
  },
  {
   "cell_type": "code",
   "execution_count": 97,
   "metadata": {
    "ExecuteTime": {
     "end_time": "2017-03-07T23:14:33.463904",
     "start_time": "2017-03-07T23:14:33.350107"
    }
   },
   "outputs": [
    {
     "name": "stdout",
     "output_type": "stream",
     "text": [
      "\n",
      "Expiry              Maturity            Nominal             Rate          Pay/Rec     Market ivol   \n",
      "==================================================================================================\n",
      "April 30th, 2015    May 6th, 2024       1.00                0.025307      0           0.200000      \n",
      "May 3rd, 2016       May 6th, 2024       1.00                0.025300      0           0.200000      \n",
      "May 3rd, 2017       May 6th, 2024       1.00                0.025303      0           0.200000      \n",
      "May 3rd, 2018       May 6th, 2024       1.00                0.025306      0           0.200000      \n",
      "May 2nd, 2019       May 6th, 2024       1.00                0.025311      0           0.200000      \n",
      "April 30th, 2020    May 6th, 2024       1.00                0.025300      0           0.200000      \n",
      "May 3rd, 2021       May 6th, 2024       1.00                0.025306      0           0.200000      \n",
      "May 3rd, 2022       May 6th, 2024       1.00                0.025318      0           0.200000      \n",
      "May 3rd, 2023       May 6th, 2024       1.00                0.025353      0           0.200000      \n"
     ]
    }
   ],
   "source": [
    "printBasket(basket)"
   ]
  },
  {
   "cell_type": "code",
   "execution_count": 98,
   "metadata": {
    "ExecuteTime": {
     "end_time": "2017-03-07T23:14:33.590707",
     "start_time": "2017-03-07T23:14:33.465883"
    }
   },
   "outputs": [
    {
     "name": "stdout",
     "output_type": "stream",
     "text": [
      "\n",
      "Expiry              Model sigma   Model price         Market price        Model ivol    Market ivol   \n",
      "====================================================================================================\n",
      "April 30th, 2015    0.005178      0.016111            0.016111            0.200000      0.200000      \n",
      "May 3rd, 2016       0.005156      0.020062            0.020062            0.200000      0.200000      \n",
      "May 3rd, 2017       0.005149      0.021229            0.021229            0.200000      0.200000      \n",
      "May 3rd, 2018       0.005129      0.020738            0.020738            0.200000      0.200000      \n",
      "May 2nd, 2019       0.005132      0.019096            0.019096            0.200000      0.200000      \n",
      "April 30th, 2020    0.005074      0.016537            0.016537            0.200000      0.200000      \n",
      "May 3rd, 2021       0.005091      0.013253            0.013253            0.200000      0.200000      \n",
      "May 3rd, 2022       0.005097      0.009342            0.009342            0.200000      0.200000      \n",
      "May 3rd, 2023       0.005001      0.004910            0.004910            0.200000      0.200000      \n"
     ]
    }
   ],
   "source": [
    "printModelCalibration(basket, gsr.volatility())"
   ]
  },
  {
   "cell_type": "code",
   "execution_count": 99,
   "metadata": {
    "ExecuteTime": {
     "end_time": "2017-03-07T23:14:33.803005",
     "start_time": "2017-03-07T23:14:33.591709"
    }
   },
   "outputs": [],
   "source": [
    "npv6 = swaption4.NPV()"
   ]
  },
  {
   "cell_type": "markdown",
   "metadata": {},
   "source": [
    "The npv of the bermudan swaption is"
   ]
  },
  {
   "cell_type": "code",
   "execution_count": 100,
   "metadata": {
    "ExecuteTime": {
     "end_time": "2017-03-07T23:14:33.891608",
     "start_time": "2017-03-07T23:14:33.803975"
    }
   },
   "outputs": [
    {
     "name": "stdout",
     "output_type": "stream",
     "text": [
      "Float swaption NPV (GSR) = 0.004291\n"
     ]
    }
   ],
   "source": [
    "print(\"Float swaption NPV (GSR) = %.6f\" % npv6)"
   ]
  },
  {
   "cell_type": "markdown",
   "metadata": {},
   "source": [
    "In this case it is also interesting to look at the underlying swap npv in the GSR model."
   ]
  },
  {
   "cell_type": "code",
   "execution_count": 101,
   "metadata": {
    "ExecuteTime": {
     "end_time": "2017-03-07T23:14:34.001593",
     "start_time": "2017-03-07T23:14:33.892610"
    }
   },
   "outputs": [
    {
     "name": "stdout",
     "output_type": "stream",
     "text": [
      "Float swap NPV (GSR) = 0.005250\n"
     ]
    }
   ],
   "source": [
    "print(\"Float swap NPV (GSR) = %.6f\" % swaption4.underlyingValue())"
   ]
  },
  {
   "cell_type": "code",
   "execution_count": 102,
   "metadata": {},
   "outputs": [],
   "source": [
    "probResult = swaption4.probabilities()"
   ]
  },
  {
   "cell_type": "code",
   "execution_count": 103,
   "metadata": {},
   "outputs": [
    {
     "name": "stdout",
     "output_type": "stream",
     "text": [
      "Call probabilities (Naive):\n",
      "0.9300\n",
      "0.0141\n",
      "0.0058\n",
      "0.0032\n",
      "0.0025\n",
      "0.0012\n",
      "0.0010\n",
      "0.0012\n",
      "0.0012\n",
      "0.0398\n"
     ]
    }
   ],
   "source": [
    "print(\"Call probabilities (Naive):\")\n",
    "for prob in probResult:\n",
    "    print (\"%.4f\" % prob)"
   ]
  },
  {
   "cell_type": "code",
   "execution_count": 104,
   "metadata": {},
   "outputs": [],
   "source": [
    "floatSwaptionEngine2 = ql.Gaussian1dFloatFloatSwaptionEngine(gsr, 64, 7.0, True, False, ql.QuoteHandle(), ytsOis, True, ql.Gaussian1dFloatFloatSwaptionEngine.Digital)"
   ]
  },
  {
   "cell_type": "code",
   "execution_count": 105,
   "metadata": {},
   "outputs": [],
   "source": [
    "swaption4.setPricingEngine(floatSwaptionEngine2)\n",
    "probResult2 = swaption4.probabilities()"
   ]
  },
  {
   "cell_type": "code",
   "execution_count": 106,
   "metadata": {},
   "outputs": [
    {
     "name": "stdout",
     "output_type": "stream",
     "text": [
      "Call probabilities (Digital):\n",
      "0.9560\n",
      "0.0123\n",
      "0.0053\n",
      "0.0031\n",
      "0.0025\n",
      "0.0012\n",
      "0.0011\n",
      "0.0014\n",
      "0.0013\n",
      "0.0192\n"
     ]
    }
   ],
   "source": [
    "print(\"Call probabilities (Digital):\")\n",
    "for prob in probResult2:\n",
    "    print (\"%.4f\" % prob)"
   ]
  },
  {
   "cell_type": "markdown",
   "metadata": {},
   "source": [
    "Not surprisingly, the underlying is priced differently compared to the LinearTsrPricer, since a different smile is implied by the GSR model."
   ]
  },
  {
   "cell_type": "markdown",
   "metadata": {},
   "source": [
    "This is exactly where the Markov functional model comes into play, because it can calibrate to any given underlying smile (as long as it is arbitrage free). We try this now. Of course the usual use case is not to calibrate to a flat smile as in our simple example, still it should be possible, of course..."
   ]
  },
  {
   "cell_type": "code",
   "execution_count": 107,
   "metadata": {
    "ExecuteTime": {
     "end_time": "2017-03-07T23:14:34.092912",
     "start_time": "2017-03-07T23:14:34.002595"
    }
   },
   "outputs": [],
   "source": [
    "markovStepDates = exerciseDates"
   ]
  },
  {
   "cell_type": "code",
   "execution_count": 108,
   "metadata": {
    "ExecuteTime": {
     "end_time": "2017-03-07T23:14:34.216242",
     "start_time": "2017-03-07T23:14:34.093916"
    }
   },
   "outputs": [],
   "source": [
    "cmsFixingDates = markovStepDates"
   ]
  },
  {
   "cell_type": "code",
   "execution_count": 109,
   "metadata": {
    "ExecuteTime": {
     "end_time": "2017-03-07T23:14:34.333003",
     "start_time": "2017-03-07T23:14:34.217245"
    }
   },
   "outputs": [],
   "source": [
    "markovSigmas = [0.01 for i in range(0, len(markovStepDates)+1)]"
   ]
  },
  {
   "cell_type": "code",
   "execution_count": 110,
   "metadata": {
    "ExecuteTime": {
     "end_time": "2017-03-07T23:14:34.423914",
     "start_time": "2017-03-07T23:14:34.334976"
    }
   },
   "outputs": [],
   "source": [
    "tenors = [ql.Period(10,ql.Years) for i in cmsFixingDates]"
   ]
  },
  {
   "cell_type": "code",
   "execution_count": 111,
   "metadata": {},
   "outputs": [],
   "source": [
    "settings = ql.MarkovFunctionalSettings(16, 7.0, 32, 1e-5, 1e-7, 0.0, 2.0, ql.MarkovFunctionalSettings.KahaleSmile | ql.MarkovFunctionalSettings.SmileExponentialExtrapolation)"
   ]
  },
  {
   "cell_type": "code",
   "execution_count": 112,
   "metadata": {},
   "outputs": [],
   "source": [
    "settings.validate()"
   ]
  },
  {
   "cell_type": "code",
   "execution_count": 113,
   "metadata": {
    "ExecuteTime": {
     "end_time": "2017-03-07T23:15:04.588324",
     "start_time": "2017-03-07T23:15:04.585315"
    }
   },
   "outputs": [],
   "source": [
    "markov = ql.MarkovFunctional(yts6m, reversion, markovStepDates, markovSigmas, swaptionVolHandle,\n",
    "                            cmsFixingDates, tenors, swapBase, settings)"
   ]
  },
  {
   "cell_type": "code",
   "execution_count": 114,
   "metadata": {
    "ExecuteTime": {
     "end_time": "2017-03-07T23:15:06.586373",
     "start_time": "2017-03-07T23:15:06.584367"
    }
   },
   "outputs": [],
   "source": [
    "swaptionEngineMarkov = ql.Gaussian1dSwaptionEngine(markov, 8, 5.0, True, False, ytsOis)"
   ]
  },
  {
   "cell_type": "code",
   "execution_count": 115,
   "metadata": {
    "ExecuteTime": {
     "end_time": "2017-03-07T23:15:07.139580",
     "start_time": "2017-03-07T23:15:07.136559"
    }
   },
   "outputs": [],
   "source": [
    "floatEngineMarkov = ql.Gaussian1dFloatFloatSwaptionEngine(markov, 16, 7.0, True, False, ql.QuoteHandle(), ytsOis, True, ql.Gaussian1dFloatFloatSwaptionEngine.Naive)"
   ]
  },
  {
   "cell_type": "code",
   "execution_count": 116,
   "metadata": {
    "ExecuteTime": {
     "end_time": "2017-03-07T23:15:07.587307",
     "start_time": "2017-03-07T23:15:07.585301"
    }
   },
   "outputs": [],
   "source": [
    "swaption4.setPricingEngine(floatEngineMarkov)"
   ]
  },
  {
   "cell_type": "code",
   "execution_count": 117,
   "metadata": {
    "ExecuteTime": {
     "end_time": "2017-03-07T23:15:08.060048",
     "start_time": "2017-03-07T23:15:07.975813"
    }
   },
   "outputs": [],
   "source": [
    "npv7 = swaption4.NPV()"
   ]
  },
  {
   "cell_type": "markdown",
   "metadata": {},
   "source": [
    "The option npv is the markov model is:"
   ]
  },
  {
   "cell_type": "code",
   "execution_count": 118,
   "metadata": {
    "ExecuteTime": {
     "end_time": "2017-03-07T23:15:09.203575",
     "start_time": "2017-03-07T23:15:09.201570"
    }
   },
   "outputs": [
    {
     "name": "stdout",
     "output_type": "stream",
     "text": [
      "Float swaption NPV (Markov) = 0.003549\n"
     ]
    }
   ],
   "source": [
    "print(\"Float swaption NPV (Markov) = %.6f\" % npv7)"
   ]
  },
  {
   "cell_type": "markdown",
   "metadata": {},
   "source": [
    "This is not too far from the GSR price."
   ]
  },
  {
   "cell_type": "markdown",
   "metadata": {},
   "source": [
    "More interesting is the question how well the Markov model did its job to match our input smile. For this we look at the underlying npv under the Markov model"
   ]
  },
  {
   "cell_type": "code",
   "execution_count": 119,
   "metadata": {
    "ExecuteTime": {
     "end_time": "2017-03-07T23:15:11.387305",
     "start_time": "2017-03-07T23:15:11.384297"
    }
   },
   "outputs": [
    {
     "name": "stdout",
     "output_type": "stream",
     "text": [
      "Float swap NPV (Markov) = 0.004301\n"
     ]
    }
   ],
   "source": [
    "print(\"Float swap NPV (Markov) = %.6f\" % swaption4.underlyingValue())"
   ]
  },
  {
   "cell_type": "code",
   "execution_count": 120,
   "metadata": {},
   "outputs": [
    {
     "name": "stdout",
     "output_type": "stream",
     "text": [
      "Call probabilities (Digital):\n",
      "0.8617\n",
      "0.0369\n",
      "0.0235\n",
      "0.0144\n",
      "0.0097\n",
      "0.0070\n",
      "0.0054\n",
      "0.0000\n",
      "0.0338\n",
      "0.0068\n"
     ]
    }
   ],
   "source": [
    "probResult3 = swaption4.probabilities()\n",
    "print(\"Call probabilities (Digital):\")\n",
    "for prob in probResult3:\n",
    "    print (\"%.4f\" % prob)"
   ]
  },
  {
   "cell_type": "markdown",
   "metadata": {
    "collapsed": true
   },
   "source": [
    "This is closer to our terminal swap rate model price. A perfect match is not expected anyway, because the dynamics of the underlying rate in the linear model is different from the Markov model, of course."
   ]
  },
  {
   "cell_type": "markdown",
   "metadata": {},
   "source": [
    "The Markov model can not only calibrate to the underlying smile, but has at the same time a sigma function (similar to the GSR model) which can be used to calibrate to a second instrument set. We do this here to calibrate to our coterminal ATM swaptions from above."
   ]
  },
  {
   "cell_type": "markdown",
   "metadata": {},
   "source": [
    "This is a computationally demanding task, so depending on your machine, this may take a while now..."
   ]
  },
  {
   "cell_type": "code",
   "execution_count": 121,
   "metadata": {
    "ExecuteTime": {
     "end_time": "2017-03-07T23:15:13.690833",
     "start_time": "2017-03-07T23:15:13.687804"
    }
   },
   "outputs": [],
   "source": [
    "l=ql.FixedRateLeg(fixedSchedule, ql.Actual360(),[1.0],[0.01])"
   ]
  },
  {
   "cell_type": "code",
   "execution_count": 122,
   "metadata": {
    "ExecuteTime": {
     "end_time": "2017-03-07T23:15:14.179774",
     "start_time": "2017-03-07T23:15:14.175745"
    }
   },
   "outputs": [],
   "source": [
    "for helper in basket:\n",
    "    helper.setPricingEngine(swaptionEngineMarkov)"
   ]
  },
  {
   "cell_type": "code",
   "execution_count": 123,
   "metadata": {
    "ExecuteTime": {
     "end_time": "2017-03-07T23:15:19.471158",
     "start_time": "2017-03-07T23:15:14.656357"
    }
   },
   "outputs": [],
   "source": [
    "markov.calibrate(basket, method, ec)"
   ]
  },
  {
   "cell_type": "code",
   "execution_count": 124,
   "metadata": {
    "ExecuteTime": {
     "end_time": "2017-03-07T23:15:19.593638",
     "start_time": "2017-03-07T23:15:19.472172"
    }
   },
   "outputs": [
    {
     "name": "stdout",
     "output_type": "stream",
     "text": [
      "\n",
      "Expiry              Model sigma   Model price         Market price        Model ivol    Market ivol   \n",
      "====================================================================================================\n",
      "April 30th, 2015    0.010000      0.016111            0.016111            0.199997      0.200000      \n",
      "May 3rd, 2016       0.012276      0.020062            0.020062            0.200002      0.200000      \n",
      "May 3rd, 2017       0.010534      0.021229            0.021229            0.200001      0.200000      \n",
      "May 3rd, 2018       0.010414      0.020738            0.020738            0.200001      0.200000      \n",
      "May 2nd, 2019       0.010361      0.019096            0.019096            0.199999      0.200000      \n",
      "April 30th, 2020    0.010339      0.016537            0.016537            0.200001      0.200000      \n",
      "May 3rd, 2021       0.010365      0.013253            0.013253            0.199999      0.200000      \n",
      "May 3rd, 2022       0.010382      0.009342            0.009342            0.200001      0.200000      \n",
      "May 3rd, 2023       0.010392      0.004910            0.004910            0.200000      0.200000      \n",
      "0.009959            \n"
     ]
    }
   ],
   "source": [
    "printModelCalibration(basket, markov.volatility())"
   ]
  },
  {
   "cell_type": "markdown",
   "metadata": {},
   "source": [
    "Now let's have a look again at the underlying pricing. It shouldn't have changed much, because the underlying smile is still matched."
   ]
  },
  {
   "cell_type": "code",
   "execution_count": 125,
   "metadata": {
    "ExecuteTime": {
     "end_time": "2017-03-07T23:15:19.708785",
     "start_time": "2017-03-07T23:15:19.594614"
    }
   },
   "outputs": [],
   "source": [
    "npv8 = swaption4.underlyingValue()"
   ]
  },
  {
   "cell_type": "code",
   "execution_count": 126,
   "metadata": {
    "ExecuteTime": {
     "end_time": "2017-03-07T23:15:19.783744",
     "start_time": "2017-03-07T23:15:19.709790"
    }
   },
   "outputs": [
    {
     "name": "stdout",
     "output_type": "stream",
     "text": [
      "Float swap NPV (Markov) = 0.004331\n"
     ]
    }
   ],
   "source": [
    "print(\"Float swap NPV (Markov) = %.6f\" % npv8)"
   ]
  },
  {
   "cell_type": "markdown",
   "metadata": {},
   "source": [
    "This is close to the previous value as expected."
   ]
  },
  {
   "cell_type": "markdown",
   "metadata": {},
   "source": [
    "As a final remark we note that the calibration to coterminal swaptions is not particularly reasonable here, because the european call rights are not well represented by these swaptions. Secondly, our CMS swaption is sensitive to the correlation between the 10y swap rate and the Euribor 6M rate. Since the Markov model is one factor by construction."
   ]
  },
  {
   "cell_type": "code",
   "execution_count": 127,
   "metadata": {},
   "outputs": [],
   "source": [
    "params=gsr.params()"
   ]
  },
  {
   "cell_type": "code",
   "execution_count": 128,
   "metadata": {},
   "outputs": [
    {
     "name": "stdout",
     "output_type": "stream",
     "text": [
      "0.01\n",
      "0.005178115995991178\n",
      "0.005156428197321668\n",
      "0.005149315186589236\n",
      "0.005129242647787604\n",
      "0.005132423720732759\n",
      "0.0050744519243368594\n",
      "0.005091184196963047\n",
      "0.005096812297853889\n",
      "0.005001398858149273\n"
     ]
    }
   ],
   "source": [
    "for p in params:\n",
    "    print(p)"
   ]
  },
  {
   "cell_type": "code",
   "execution_count": 129,
   "metadata": {},
   "outputs": [],
   "source": [
    "gsr.setParams(params)"
   ]
  },
  {
   "cell_type": "code",
   "execution_count": 130,
   "metadata": {},
   "outputs": [
    {
     "data": {
      "text/plain": [
       "False"
      ]
     },
     "execution_count": 130,
     "metadata": {},
     "output_type": "execute_result"
    }
   ],
   "source": [
    "gsr.constraint()==ql.NoConstraint()"
   ]
  },
  {
   "cell_type": "code",
   "execution_count": 131,
   "metadata": {},
   "outputs": [
    {
     "data": {
      "text/plain": [
       "3"
      ]
     },
     "execution_count": 131,
     "metadata": {},
     "output_type": "execute_result"
    }
   ],
   "source": [
    "gsr.endCriteria()"
   ]
  },
  {
   "cell_type": "code",
   "execution_count": 132,
   "metadata": {},
   "outputs": [
    {
     "name": "stdout",
     "output_type": "stream",
     "text": [
      "1.3072676417292392e-14\n"
     ]
    }
   ],
   "source": [
    "for v in gsr.problemValues():\n",
    "    print(v)"
   ]
  },
  {
   "cell_type": "code",
   "execution_count": 133,
   "metadata": {},
   "outputs": [
    {
     "data": {
      "text/plain": [
       "10"
      ]
     },
     "execution_count": 133,
     "metadata": {},
     "output_type": "execute_result"
    }
   ],
   "source": [
    "gsr.functionEvaluation()"
   ]
  },
  {
   "cell_type": "code",
   "execution_count": 134,
   "metadata": {},
   "outputs": [],
   "source": [
    "params2=markov.params()"
   ]
  },
  {
   "cell_type": "code",
   "execution_count": 135,
   "metadata": {},
   "outputs": [
    {
     "name": "stdout",
     "output_type": "stream",
     "text": [
      "0.01\n",
      "0.012275967609634385\n",
      "0.010534392133047691\n",
      "0.010413614142191998\n",
      "0.010360865663812238\n",
      "0.0103394663701287\n",
      "0.010365226214887812\n",
      "0.010381804288863332\n",
      "0.010392045889194344\n",
      "0.009959089531755682\n"
     ]
    }
   ],
   "source": [
    "for p in params2:\n",
    "    print(p)"
   ]
  },
  {
   "cell_type": "code",
   "execution_count": 136,
   "metadata": {},
   "outputs": [
    {
     "data": {
      "text/plain": [
       "3"
      ]
     },
     "execution_count": 136,
     "metadata": {},
     "output_type": "execute_result"
    }
   ],
   "source": [
    "markov.endCriteria()"
   ]
  },
  {
   "cell_type": "code",
   "execution_count": 137,
   "metadata": {},
   "outputs": [
    {
     "name": "stdout",
     "output_type": "stream",
     "text": [
      "1.747469034039124e-05\n",
      "9.208198024982184e-06\n",
      "2.735093083210386e-06\n",
      "5.151509390029682e-06\n",
      "3.9362171751408114e-06\n",
      "5.538244386530715e-06\n",
      "4.7290011162726084e-06\n",
      "6.14406286222487e-06\n",
      "9.667031541107928e-07\n"
     ]
    }
   ],
   "source": [
    "for v in markov.problemValues():\n",
    "    print(v)"
   ]
  },
  {
   "cell_type": "code",
   "execution_count": 138,
   "metadata": {},
   "outputs": [
    {
     "data": {
      "text/plain": [
       "193"
      ]
     },
     "execution_count": 138,
     "metadata": {},
     "output_type": "execute_result"
    }
   ],
   "source": [
    "markov.functionEvaluation()"
   ]
  }
 ],
 "metadata": {
  "kernelspec": {
   "display_name": "Python 3",
   "language": "python",
   "name": "python3"
  },
  "language_info": {
   "codemirror_mode": {
    "name": "ipython",
    "version": 3
   },
   "file_extension": ".py",
   "mimetype": "text/x-python",
   "name": "python",
   "nbconvert_exporter": "python",
   "pygments_lexer": "ipython3",
   "version": "3.6.3"
  }
 },
 "nbformat": 4,
 "nbformat_minor": 1
}
