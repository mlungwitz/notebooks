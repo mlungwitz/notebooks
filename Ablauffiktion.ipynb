{
 "cells": [
  {
   "cell_type": "code",
   "execution_count": 52,
   "metadata": {},
   "outputs": [],
   "source": [
    "import QuantLib as ql\n",
    "import numpy as np\n",
    "import matplotlib.pyplot as plt\n",
    "%matplotlib inline"
   ]
  },
  {
   "cell_type": "code",
   "execution_count": 32,
   "metadata": {},
   "outputs": [],
   "source": [
    "ql.Settings.instance().evaluationDate = ql.Date(31,3,2020)"
   ]
  },
  {
   "cell_type": "code",
   "execution_count": 33,
   "metadata": {},
   "outputs": [],
   "source": [
    "# flat fwd @ 3%\n",
    "\n",
    "#flat_fwd = ql.FlatForward(ql.Date(31,3,2020), ql.QuoteHandle(ql.SimpleQuote(0.03)), ql.Actual365Fixed())\n",
    "flat_fwd = ql.FlatForward(0, ql.TARGET(),ql.QuoteHandle(ql.SimpleQuote(0.03)), ql.Actual365Fixed())\n",
    "ytsh = ql.YieldTermStructureHandle(flat_fwd)"
   ]
  },
  {
   "cell_type": "markdown",
   "metadata": {},
   "source": [
    "# Fixed Bond"
   ]
  },
  {
   "cell_type": "code",
   "execution_count": 34,
   "metadata": {},
   "outputs": [],
   "source": [
    "issueDate = ql.Date(31, 3, 2020)\n",
    "maturityDate = ql.Date(31, 3, 2030)\n",
    "tenor = ql.Period(ql.Annual)\n",
    "calendar = ql.TARGET()\n",
    "bussinessConvention = ql.Unadjusted\n",
    "dateGeneration = ql.DateGeneration.Forward\n",
    "monthEnd = False\n",
    "schedule = ql.Schedule (issueDate, maturityDate, tenor, calendar, bussinessConvention,\n",
    "                            bussinessConvention , dateGeneration, monthEnd)"
   ]
  },
  {
   "cell_type": "code",
   "execution_count": 35,
   "metadata": {},
   "outputs": [
    {
     "data": {
      "text/plain": [
       "[Date(31,3,2020),\n",
       " Date(31,3,2021),\n",
       " Date(31,3,2022),\n",
       " Date(31,3,2023),\n",
       " Date(31,3,2024),\n",
       " Date(31,3,2025),\n",
       " Date(31,3,2026),\n",
       " Date(31,3,2027),\n",
       " Date(31,3,2028),\n",
       " Date(31,3,2029),\n",
       " Date(31,3,2030)]"
      ]
     },
     "execution_count": 35,
     "metadata": {},
     "output_type": "execute_result"
    }
   ],
   "source": [
    "list(schedule)"
   ]
  },
  {
   "cell_type": "code",
   "execution_count": 36,
   "metadata": {},
   "outputs": [],
   "source": [
    "dayCount = ql.Thirty360()\n",
    "couponRate = .06\n",
    "coupons = [couponRate]\n",
    "settlementDays = 0\n",
    "faceValue = 100\n",
    "fixedRateBond = ql.FixedRateBond(settlementDays, faceValue, schedule, coupons, dayCount)\n",
    "bondEngine = ql.DiscountingBondEngine(ytsh)\n",
    "fixedRateBond.setPricingEngine(bondEngine)"
   ]
  },
  {
   "cell_type": "code",
   "execution_count": 37,
   "metadata": {},
   "outputs": [
    {
     "data": {
      "text/plain": [
       "125.11995412961713"
      ]
     },
     "execution_count": 37,
     "metadata": {},
     "output_type": "execute_result"
    }
   ],
   "source": [
    "fixedRateBond.NPV()"
   ]
  },
  {
   "cell_type": "code",
   "execution_count": 38,
   "metadata": {},
   "outputs": [],
   "source": [
    "ql.Settings.instance().evaluationDate = ql.Date(31,3,2021)"
   ]
  },
  {
   "cell_type": "code",
   "execution_count": 39,
   "metadata": {},
   "outputs": [],
   "source": [
    "fixedRateBond = ql.FixedRateBond(settlementDays, faceValue, schedule, coupons, dayCount)\n",
    "bondEngine = ql.DiscountingBondEngine(ytsh)\n",
    "fixedRateBond.setPricingEngine(bondEngine)"
   ]
  },
  {
   "cell_type": "code",
   "execution_count": 40,
   "metadata": {},
   "outputs": [
    {
     "data": {
      "text/plain": [
       "122.93042402092"
      ]
     },
     "execution_count": 40,
     "metadata": {},
     "output_type": "execute_result"
    }
   ],
   "source": [
    "fixedRateBond.NPV()"
   ]
  },
  {
   "cell_type": "code",
   "execution_count": 77,
   "metadata": {},
   "outputs": [
    {
     "data": {
      "image/png": "[encoded data removed]",
      "text/plain": [
       "<matplotlib.figure.Figure at 0x181c6fae3c8>"
      ]
     },
     "metadata": {},
     "output_type": "display_data"
    }
   ],
   "source": [
    "f, ax = plt.subplots()\n",
    "ys = []\n",
    "xs = [issueDate + ql.Period(i, ql.Months) for i in range(0,12*10)]\n",
    "xs_plot = [x.to_date() for x in xs]\n",
    "for x in xs:\n",
    "    ql.Settings.instance().evaluationDate = x\n",
    "    #ys.append(fixedRateBond.NPV())\n",
    "    ys.append(fixedRateBond.cleanPrice())\n",
    "ax.set_title('Bond value')\n",
    "ax.plot(xs_plot, ys);"
   ]
  },
  {
   "cell_type": "markdown",
   "metadata": {},
   "source": [
    "# Amortizing Bond"
   ]
  },
  {
   "cell_type": "code",
   "execution_count": 92,
   "metadata": {},
   "outputs": [],
   "source": [
    "notionals = range(100,0,-10)\n",
    "amortizing_bond = ql.AmortizingFixedRateBond(settlementDays, notionals, schedule, coupons, dayCount)\n",
    "amortizing_bond.setPricingEngine(bondEngine)"
   ]
  },
  {
   "cell_type": "code",
   "execution_count": 93,
   "metadata": {},
   "outputs": [
    {
     "name": "stdout",
     "output_type": "stream",
     "text": [
      "March 31st, 2021 6.000000000000005\n",
      "March 31st, 2021 10.0\n",
      "March 31st, 2022 5.400000000000005\n",
      "March 31st, 2022 10.0\n",
      "March 31st, 2023 4.800000000000004\n",
      "March 31st, 2023 10.0\n",
      "April 2nd, 2024 4.200000000000004\n",
      "April 2nd, 2024 10.0\n",
      "March 31st, 2025 3.600000000000003\n",
      "March 31st, 2025 10.0\n",
      "March 31st, 2026 3.0000000000000027\n",
      "March 31st, 2026 10.0\n",
      "March 31st, 2027 2.400000000000002\n",
      "March 31st, 2027 10.0\n",
      "March 31st, 2028 1.8000000000000016\n",
      "March 31st, 2028 10.0\n",
      "April 3rd, 2029 1.200000000000001\n",
      "April 3rd, 2029 10.0\n",
      "April 1st, 2030 0.6000000000000005\n",
      "April 1st, 2030 10.0\n"
     ]
    }
   ],
   "source": [
    "for cf in amortizing_bond.cashflows():\n",
    "    print(cf.date(), cf.amount())"
   ]
  },
  {
   "cell_type": "code",
   "execution_count": 99,
   "metadata": {},
   "outputs": [
    {
     "data": {
      "image/png": "[encoded data removed]",
      "text/plain": [
       "<matplotlib.figure.Figure at 0x181c5c38828>"
      ]
     },
     "metadata": {},
     "output_type": "display_data"
    }
   ],
   "source": [
    "f, ax = plt.subplots()\n",
    "ys = []\n",
    "xs = [issueDate + ql.Period(i, ql.Months) for i in range(0,12*10)]\n",
    "xs_plot = [x.to_date() for x in xs]\n",
    "for x in xs:\n",
    "    ql.Settings.instance().evaluationDate = x\n",
    "    ys.append(amortizing_bond.NPV())\n",
    "    #ys.append(amortizing_bond.cleanPrice())\n",
    "ax.set_title('Bond value')\n",
    "ax.plot(xs_plot, ys);"
   ]
  }
 ],
 "metadata": {
  "kernelspec": {
   "display_name": "Python 3",
   "language": "python",
   "name": "python3"
  },
  "language_info": {
   "codemirror_mode": {
    "name": "ipython",
    "version": 3
   },
   "file_extension": ".py",
   "mimetype": "text/x-python",
   "name": "python",
   "nbconvert_exporter": "python",
   "pygments_lexer": "ipython3",
   "version": "3.6.3"
  }
 },
 "nbformat": 4,
 "nbformat_minor": 2
}
