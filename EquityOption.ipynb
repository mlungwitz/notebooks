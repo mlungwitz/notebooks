{
 "cells": [
  {
   "cell_type": "markdown",
   "metadata": {},
   "source": [
    "# QuantLib EquityOption Example"
   ]
  },
  {
   "cell_type": "code",
   "execution_count": 1,
   "metadata": {},
   "outputs": [],
   "source": [
    "import QuantLib as ql"
   ]
  },
  {
   "cell_type": "markdown",
   "metadata": {},
   "source": [
    "Setup Dates:"
   ]
  },
  {
   "cell_type": "code",
   "execution_count": 2,
   "metadata": {},
   "outputs": [],
   "source": [
    "calendar = ql.TARGET()\n",
    "todaysDate = ql.Date(15, ql.May, 1998)\n",
    "settlementDate = ql.Date(17, ql.May, 1998)\n",
    "ql.Settings.instance().evaluationDate = todaysDate"
   ]
  },
  {
   "cell_type": "markdown",
   "metadata": {},
   "source": [
    "Our Options:"
   ]
  },
  {
   "cell_type": "code",
   "execution_count": 3,
   "metadata": {},
   "outputs": [],
   "source": [
    "option_type = ql.Option.Put\n",
    "underlying = 36\n",
    "strike = 40\n",
    "dividendYield = 0.00\n",
    "riskFreeRate = 0.06\n",
    "volatility = 0.20\n",
    "maturity = ql.Date(17, ql.May, 1999)\n",
    "dayCounter = ql.Actual365Fixed()"
   ]
  },
  {
   "cell_type": "code",
   "execution_count": 4,
   "metadata": {},
   "outputs": [
    {
     "name": "stdout",
     "output_type": "stream",
     "text": [
      "Option type:  -1\n",
      "Maturity =  May 17th, 1999\n",
      "Underlying price =  36\n",
      "Strike =  40\n",
      "Risk-free interest rate =  0.06\n",
      "Dividend yield =  0.0\n",
      "Volatility =  0.2\n"
     ]
    }
   ],
   "source": [
    "print(\"Option type: \", option_type)\n",
    "print(\"Maturity = \",maturity)\n",
    "print(\"Underlying price = \", underlying)\n",
    "print(\"Strike = \", strike)\n",
    "print(\"Risk-free interest rate = \", riskFreeRate)\n",
    "print(\"Dividend yield = \", dividendYield)\n",
    "print(\"Volatility = \", volatility)"
   ]
  },
  {
   "cell_type": "code",
   "execution_count": 5,
   "metadata": {},
   "outputs": [
    {
     "name": "stdout",
     "output_type": "stream",
     "text": [
      "Method                             European      Bermudan      American      \n"
     ]
    }
   ],
   "source": [
    "print (\"{:<35}{:<14}{:<14}{:<14}\".format(\"Method\", \"European\", \"Bermudan\", \"American\"))"
   ]
  },
  {
   "cell_type": "code",
   "execution_count": 6,
   "metadata": {},
   "outputs": [],
   "source": [
    "exerciseDates = [(settlementDate + ql.Period(3*i,ql.Months)) for i in range(1,4)]"
   ]
  },
  {
   "cell_type": "code",
   "execution_count": 7,
   "metadata": {},
   "outputs": [],
   "source": [
    "europeanExercise = ql.EuropeanExercise(maturity)\n",
    "bermudanExercise = ql.BermudanExercise(exerciseDates)\n",
    "americanExercise = ql.AmericanExercise(settlementDate, maturity)"
   ]
  },
  {
   "cell_type": "code",
   "execution_count": 8,
   "metadata": {},
   "outputs": [],
   "source": [
    "underlyingH = ql.QuoteHandle(ql.SimpleQuote(underlying))"
   ]
  },
  {
   "cell_type": "markdown",
   "metadata": {},
   "source": [
    "bootstrap the yield/dividend/vol curves"
   ]
  },
  {
   "cell_type": "code",
   "execution_count": 9,
   "metadata": {},
   "outputs": [],
   "source": [
    "flatTermStructure = ql.YieldTermStructureHandle(ql.FlatForward(settlementDate, riskFreeRate, dayCounter))\n",
    "flatDividendTS = ql.YieldTermStructureHandle(ql.FlatForward(settlementDate, dividendYield, dayCounter))\n",
    "flatVolTS = ql.BlackVolTermStructureHandle(ql.BlackConstantVol(settlementDate, calendar, volatility, dayCounter))"
   ]
  },
  {
   "cell_type": "code",
   "execution_count": 10,
   "metadata": {},
   "outputs": [],
   "source": [
    "payoff = ql.PlainVanillaPayoff(option_type, strike)"
   ]
  },
  {
   "cell_type": "code",
   "execution_count": 11,
   "metadata": {},
   "outputs": [],
   "source": [
    "bsmProcess = ql.BlackScholesMertonProcess(underlyingH, flatDividendTS, flatTermStructure, flatVolTS)"
   ]
  },
  {
   "cell_type": "markdown",
   "metadata": {},
   "source": [
    "options"
   ]
  },
  {
   "cell_type": "code",
   "execution_count": 12,
   "metadata": {},
   "outputs": [],
   "source": [
    "europeanOption = ql.VanillaOption(payoff, europeanExercise)\n",
    "bermudanOption = ql.VanillaOption(payoff, bermudanExercise)\n",
    "americanOption = ql.VanillaOption(payoff, americanExercise)"
   ]
  },
  {
   "cell_type": "markdown",
   "metadata": {},
   "source": [
    "## Analytic formulas:"
   ]
  },
  {
   "cell_type": "markdown",
   "metadata": {},
   "source": [
    "Black-Scholes for European"
   ]
  },
  {
   "cell_type": "code",
   "execution_count": 13,
   "metadata": {},
   "outputs": [
    {
     "name": "stdout",
     "output_type": "stream",
     "text": [
      "Black-Scholes                      3.844308      N/A           N/A           \n"
     ]
    }
   ],
   "source": [
    "method = \"Black-Scholes\"\n",
    "europeanOption.setPricingEngine(ql.AnalyticEuropeanEngine(bsmProcess))\n",
    "print (\"{:<35}{:<14}{:<14}{:<14}\".format(method, \"%2.6f\"%europeanOption.NPV(), \"N/A\", \"N/A\"))"
   ]
  },
  {
   "cell_type": "markdown",
   "metadata": {},
   "source": [
    "semi-analytic Heston for European"
   ]
  },
  {
   "cell_type": "code",
   "execution_count": 14,
   "metadata": {},
   "outputs": [
    {
     "name": "stdout",
     "output_type": "stream",
     "text": [
      "Heston semi-analytic               3.844306      N/A           N/A           \n"
     ]
    }
   ],
   "source": [
    "method = \"Heston semi-analytic\"\n",
    "hestonProcess = ql.HestonProcess(flatTermStructure, flatDividendTS,\n",
    "                              underlyingH, volatility*volatility,\n",
    "                              1.0, volatility*volatility, 0.001, 0.0)\n",
    "hestonModel = ql.HestonModel(hestonProcess)\n",
    "europeanOption.setPricingEngine(ql.AnalyticHestonEngine(hestonModel))\n",
    "print (\"{:<35}{:<14}{:<14}{:<14}\".format(method, \"%2.6f\"%europeanOption.NPV(), \"N/A\", \"N/A\"))"
   ]
  },
  {
   "cell_type": "markdown",
   "metadata": {},
   "source": [
    "semi-analytic Bates for European"
   ]
  },
  {
   "cell_type": "code",
   "execution_count": 15,
   "metadata": {},
   "outputs": [
    {
     "name": "stdout",
     "output_type": "stream",
     "text": [
      "Bates semi-analytic                3.844306      N/A           N/A           \n"
     ]
    }
   ],
   "source": [
    "method = \"Bates semi-analytic\"\n",
    "batesProcess = ql.BatesProcess(flatTermStructure, flatDividendTS,\n",
    "                             underlyingH, volatility*volatility,\n",
    "                             1.0, volatility*volatility, 0.001, 0.0,\n",
    "                             1e-14, 1e-14, 1e-14)\n",
    "batesModel = ql.BatesModel(batesProcess)\n",
    "europeanOption.setPricingEngine(ql.BatesEngine(batesModel))\n",
    "print (\"{:<35}{:<14}{:<14}{:<14}\".format(method, \"%2.6f\"%europeanOption.NPV(), \"N/A\", \"N/A\"))"
   ]
  },
  {
   "cell_type": "markdown",
   "metadata": {},
   "source": [
    "Barone-Adesi and Whaley approximation for American"
   ]
  },
  {
   "cell_type": "code",
   "execution_count": 16,
   "metadata": {},
   "outputs": [
    {
     "name": "stdout",
     "output_type": "stream",
     "text": [
      "Barone-Adesi/Whaley                N/A           N/A           4.459628      \n"
     ]
    }
   ],
   "source": [
    "method = \"Barone-Adesi/Whaley\"\n",
    "americanOption.setPricingEngine(ql.BaroneAdesiWhaleyEngine(bsmProcess))\n",
    "print (\"{:<35}{:<14}{:<14}{:<14}\".format(method, \"N/A\", \"N/A\", \"%2.6f\"%americanOption.NPV()))"
   ]
  },
  {
   "cell_type": "markdown",
   "metadata": {},
   "source": [
    "Bjerksund and Stensland approximation for American"
   ]
  },
  {
   "cell_type": "code",
   "execution_count": 17,
   "metadata": {},
   "outputs": [
    {
     "name": "stdout",
     "output_type": "stream",
     "text": [
      "Bjerksund/Stensland                N/A           N/A           4.453064      \n"
     ]
    }
   ],
   "source": [
    "method = \"Bjerksund/Stensland\"\n",
    "americanOption.setPricingEngine(ql.BjerksundStenslandEngine(bsmProcess))\n",
    "print (\"{:<35}{:<14}{:<14}{:<14}\".format(method, \"N/A\", \"N/A\", \"%2.6f\"%americanOption.NPV()))"
   ]
  },
  {
   "cell_type": "markdown",
   "metadata": {},
   "source": [
    "Integral"
   ]
  },
  {
   "cell_type": "code",
   "execution_count": 18,
   "metadata": {},
   "outputs": [
    {
     "name": "stdout",
     "output_type": "stream",
     "text": [
      "Integral                           3.844309      N/A           N/A           \n"
     ]
    }
   ],
   "source": [
    "method = \"Integral\"\n",
    "europeanOption.setPricingEngine(ql.IntegralEngine(bsmProcess))\n",
    "print (\"{:<35}{:<14}{:<14}{:<14}\".format(method, \"%2.6f\"%europeanOption.NPV(), \"N/A\", \"N/A\"))"
   ]
  },
  {
   "cell_type": "markdown",
   "metadata": {},
   "source": [
    "Finite differences"
   ]
  },
  {
   "cell_type": "code",
   "execution_count": 19,
   "metadata": {},
   "outputs": [
    {
     "name": "stdout",
     "output_type": "stream",
     "text": [
      "Finite differences                 3.844342      4.219538      4.486118      \n"
     ]
    }
   ],
   "source": [
    "timeSteps = 801\n",
    "method = \"Finite differences\"\n",
    "europeanOption.setPricingEngine(ql.FDEuropeanEngine(bsmProcess, timeSteps,timeSteps-1))\n",
    "bermudanOption.setPricingEngine(ql.FDBermudanEngine(bsmProcess, timeSteps,timeSteps-1))\n",
    "americanOption.setPricingEngine(ql.FDAmericanEngine(bsmProcess, timeSteps,timeSteps-1))\n",
    "print (\"{:<35}{:<14}{:<14}{:<14}\".format(method, \"%2.6f\"%europeanOption.NPV(), \"%2.6f\"%bermudanOption.NPV(), \"%2.6f\"%americanOption.NPV()))"
   ]
  },
  {
   "cell_type": "markdown",
   "metadata": {},
   "source": [
    "Binomial method: Jarrow-Rudd"
   ]
  },
  {
   "cell_type": "code",
   "execution_count": 20,
   "metadata": {},
   "outputs": [
    {
     "name": "stdout",
     "output_type": "stream",
     "text": [
      "Binomial Jarrow-Rudd               3.844132      4.220342      4.486552      \n"
     ]
    }
   ],
   "source": [
    "method = \"Binomial Jarrow-Rudd\"\n",
    "tree_type = \"JarrowRudd\"\n",
    "europeanOption.setPricingEngine(ql.BinomialVanillaEngine(bsmProcess, tree_type, timeSteps))\n",
    "bermudanOption.setPricingEngine(ql.BinomialVanillaEngine(bsmProcess, tree_type, timeSteps))\n",
    "americanOption.setPricingEngine(ql.BinomialVanillaEngine(bsmProcess, tree_type, timeSteps))\n",
    "print (\"{:<35}{:<14}{:<14}{:<14}\".format(method, \"%2.6f\"%europeanOption.NPV(), \"%2.6f\"%bermudanOption.NPV(), \"%2.6f\"%americanOption.NPV()))"
   ]
  },
  {
   "cell_type": "code",
   "execution_count": 21,
   "metadata": {},
   "outputs": [
    {
     "name": "stdout",
     "output_type": "stream",
     "text": [
      "Binomial Cox-Ross-Rubinstein       3.843504      4.219293      4.486415      \n"
     ]
    }
   ],
   "source": [
    "method = \"Binomial Cox-Ross-Rubinstein\"\n",
    "tree_type = \"CoxRossRubinstein\"\n",
    "europeanOption.setPricingEngine(ql.BinomialVanillaEngine(bsmProcess, tree_type, timeSteps))\n",
    "bermudanOption.setPricingEngine(ql.BinomialVanillaEngine(bsmProcess, tree_type, timeSteps))\n",
    "americanOption.setPricingEngine(ql.BinomialVanillaEngine(bsmProcess, tree_type, timeSteps))\n",
    "print (\"{:<35}{:<14}{:<14}{:<14}\".format(method, \"%2.6f\"%europeanOption.NPV(), \"%2.6f\"%bermudanOption.NPV(), \"%2.6f\"%americanOption.NPV()))"
   ]
  },
  {
   "cell_type": "code",
   "execution_count": 22,
   "metadata": {},
   "outputs": [
    {
     "name": "stdout",
     "output_type": "stream",
     "text": [
      "Additive equiprobabilities         3.836911      4.215371      4.480097      \n"
     ]
    }
   ],
   "source": [
    "method = \"Additive equiprobabilities\"\n",
    "tree_type = \"AdditiveEQPBinomialTree\"\n",
    "europeanOption.setPricingEngine(ql.BinomialVanillaEngine(bsmProcess, tree_type, timeSteps))\n",
    "bermudanOption.setPricingEngine(ql.BinomialVanillaEngine(bsmProcess, tree_type, timeSteps))\n",
    "americanOption.setPricingEngine(ql.BinomialVanillaEngine(bsmProcess, tree_type, timeSteps))\n",
    "print (\"{:<35}{:<14}{:<14}{:<14}\".format(method, \"%2.6f\"%europeanOption.NPV(), \"%2.6f\"%bermudanOption.NPV(), \"%2.6f\"%americanOption.NPV()))"
   ]
  },
  {
   "cell_type": "code",
   "execution_count": 23,
   "metadata": {},
   "outputs": [
    {
     "name": "stdout",
     "output_type": "stream",
     "text": [
      "Binomial Trigeorgis                3.843557      4.219322      4.486461      \n"
     ]
    }
   ],
   "source": [
    "method = \"Binomial Trigeorgis\"\n",
    "tree_type = \"Trigeorgis\"\n",
    "europeanOption.setPricingEngine(ql.BinomialVanillaEngine(bsmProcess, tree_type, timeSteps))\n",
    "bermudanOption.setPricingEngine(ql.BinomialVanillaEngine(bsmProcess, tree_type, timeSteps))\n",
    "americanOption.setPricingEngine(ql.BinomialVanillaEngine(bsmProcess, tree_type, timeSteps))\n",
    "print (\"{:<35}{:<14}{:<14}{:<14}\".format(method, \"%2.6f\"%europeanOption.NPV(), \"%2.6f\"%bermudanOption.NPV(), \"%2.6f\"%americanOption.NPV()))"
   ]
  },
  {
   "cell_type": "code",
   "execution_count": 24,
   "metadata": {},
   "outputs": [
    {
     "name": "stdout",
     "output_type": "stream",
     "text": [
      "Binomial Tian                      3.844171      4.219246      4.486413      \n"
     ]
    }
   ],
   "source": [
    "method = \"Binomial Tian\"\n",
    "tree_type = \"Tian\"\n",
    "europeanOption.setPricingEngine(ql.BinomialVanillaEngine(bsmProcess, tree_type, timeSteps))\n",
    "bermudanOption.setPricingEngine(ql.BinomialVanillaEngine(bsmProcess, tree_type, timeSteps))\n",
    "americanOption.setPricingEngine(ql.BinomialVanillaEngine(bsmProcess, tree_type, timeSteps))\n",
    "print (\"{:<35}{:<14}{:<14}{:<14}\".format(method, \"%2.6f\"%europeanOption.NPV(), \"%2.6f\"%bermudanOption.NPV(), \"%2.6f\"%americanOption.NPV()))"
   ]
  },
  {
   "cell_type": "code",
   "execution_count": 25,
   "metadata": {},
   "outputs": [
    {
     "name": "stdout",
     "output_type": "stream",
     "text": [
      "Binomial Leisen-Reimer             3.844308      4.219705      4.486076      \n"
     ]
    }
   ],
   "source": [
    "method = \"Binomial Leisen-Reimer\"\n",
    "tree_type = \"LeisenReimer\"\n",
    "europeanOption.setPricingEngine(ql.BinomialVanillaEngine(bsmProcess, tree_type, timeSteps))\n",
    "bermudanOption.setPricingEngine(ql.BinomialVanillaEngine(bsmProcess, tree_type, timeSteps))\n",
    "americanOption.setPricingEngine(ql.BinomialVanillaEngine(bsmProcess, tree_type, timeSteps))\n",
    "print (\"{:<35}{:<14}{:<14}{:<14}\".format(method, \"%2.6f\"%europeanOption.NPV(), \"%2.6f\"%bermudanOption.NPV(), \"%2.6f\"%americanOption.NPV()))"
   ]
  },
  {
   "cell_type": "code",
   "execution_count": 26,
   "metadata": {},
   "outputs": [
    {
     "name": "stdout",
     "output_type": "stream",
     "text": [
      "Binomial Joshi                     3.844308      4.219705      4.486076      \n"
     ]
    }
   ],
   "source": [
    "method = \"Binomial Joshi\"\n",
    "tree_type = \"Joshi4\"\n",
    "europeanOption.setPricingEngine(ql.BinomialVanillaEngine(bsmProcess, tree_type, timeSteps))\n",
    "bermudanOption.setPricingEngine(ql.BinomialVanillaEngine(bsmProcess, tree_type, timeSteps))\n",
    "americanOption.setPricingEngine(ql.BinomialVanillaEngine(bsmProcess, tree_type, timeSteps))\n",
    "print (\"{:<35}{:<14}{:<14}{:<14}\".format(method, \"%2.6f\"%europeanOption.NPV(), \"%2.6f\"%bermudanOption.NPV(), \"%2.6f\"%americanOption.NPV()))"
   ]
  },
  {
   "cell_type": "code",
   "execution_count": 27,
   "metadata": {},
   "outputs": [
    {
     "name": "stdout",
     "output_type": "stream",
     "text": [
      "MC (crude)                         3.834522      N/A           N/A           \n"
     ]
    }
   ],
   "source": [
    "timeSteps = 1\n",
    "method = \"MC (crude)\"\n",
    "mcSeed = 42\n",
    "mcengine1 = ql.MCEuropeanEngine(bsmProcess, \"pseudorandom\", timeSteps, None, False, False, None, 0.02, None, mcSeed)\n",
    "europeanOption.setPricingEngine(mcengine1)\n",
    "print (\"{:<35}{:<14}{:<14}{:<14}\".format(method, \"%2.6f\"%europeanOption.NPV(), \"N/A\", \"N/A\"))"
   ]
  },
  {
   "cell_type": "code",
   "execution_count": 28,
   "metadata": {},
   "outputs": [
    {
     "name": "stdout",
     "output_type": "stream",
     "text": [
      "QMC (Sobol)                        3.844613      N/A           N/A           \n"
     ]
    }
   ],
   "source": [
    "method = \"QMC (Sobol)\"\n",
    "nSamples = 32768 # 2^15\n",
    "mcengine2 = ql.MCEuropeanEngine(bsmProcess, \"lowdiscrepancy\", timeSteps, None, False, False, nSamples, None, None, mcSeed)\n",
    "europeanOption.setPricingEngine(mcengine2)\n",
    "print (\"{:<35}{:<14}{:<14}{:<14}\".format(method, \"%2.6f\"%europeanOption.NPV(), \"N/A\", \"N/A\"))"
   ]
  },
  {
   "cell_type": "code",
   "execution_count": 32,
   "metadata": {},
   "outputs": [
    {
     "name": "stdout",
     "output_type": "stream",
     "text": [
      "MC (Longstaff Schwartz)            N/A           N/A           4.502732      \n"
     ]
    }
   ],
   "source": [
    "method = \"MC (Longstaff Schwartz)\"\n",
    "mcengine3 = ql.MCAmericanEngine(bsmProcess, \"lowdiscrepancy\", 100, None, True, False, None, 0.02, None, mcSeed, 2, ql.LsmBasisSystem.Monomial, 4096)\n",
    "americanOption.setPricingEngine(mcengine3)\n",
    "print (\"{:<35}{:<14}{:<14}{:<14}\".format(method, \"N/A\", \"N/A\", \"%2.6f\"%americanOption.NPV()))"
   ]
  }
 ],
 "metadata": {
  "kernelspec": {
   "display_name": "Python 3",
   "language": "python",
   "name": "python3"
  },
  "language_info": {
   "codemirror_mode": {
    "name": "ipython",
    "version": 3
   },
   "file_extension": ".py",
   "mimetype": "text/x-python",
   "name": "python",
   "nbconvert_exporter": "python",
   "pygments_lexer": "ipython3",
   "version": "3.6.3"
  }
 },
 "nbformat": 4,
 "nbformat_minor": 2
}
