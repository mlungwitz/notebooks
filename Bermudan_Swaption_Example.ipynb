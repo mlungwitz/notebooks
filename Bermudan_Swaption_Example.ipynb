{
 "cells": [
  {
   "cell_type": "markdown",
   "metadata": {},
   "source": [
    "Python Version of the QL Bermudan Swaption Example"
   ]
  },
  {
   "cell_type": "code",
   "execution_count": null,
   "metadata": {
    "collapsed": true
   },
   "outputs": [],
   "source": [
    "import QuantLib as ql"
   ]
  },
  {
   "cell_type": "code",
   "execution_count": null,
   "metadata": {
    "collapsed": false
   },
   "outputs": [],
   "source": [
    "todaysDate = ql.Date(15,2,2002)\n",
    "calendar = ql.TARGET()\n",
    "settlementDate = ql.Date(19,2,2002)\n",
    "ql.Settings.instance().evaluationDate = todaysDate"
   ]
  },
  {
   "cell_type": "markdown",
   "metadata": {},
   "source": [
    "flat yield term structure impling 1x5 swap at 5%"
   ]
  },
  {
   "cell_type": "code",
   "execution_count": null,
   "metadata": {
    "collapsed": false
   },
   "outputs": [],
   "source": [
    "flatRate = ql.SimpleQuote(0.04875825)\n",
    "rhTermStructure = ql.YieldTermStructureHandle(ql.FlatForward(settlementDate,ql.QuoteHandle(flatRate),ql.Actual365Fixed()))"
   ]
  },
  {
   "cell_type": "markdown",
   "metadata": {},
   "source": [
    "Define the ATM/OTM/ITM swaps"
   ]
  },
  {
   "cell_type": "code",
   "execution_count": null,
   "metadata": {
    "collapsed": true
   },
   "outputs": [],
   "source": [
    "fixedLegFrequency = ql.Annual\n",
    "fixedLegConvention = ql.Unadjusted\n",
    "floatingLegConvention = ql.ModifiedFollowing\n",
    "fixedLegDayCounter = ql.Thirty360(ql.Thirty360.European)\n",
    "floatingLegFrequency = ql.Semiannual\n",
    "swapType = ql.VanillaSwap.Payer\n",
    "dummyFixedRate = 0.03\n",
    "indexSixMonths = ql.Euribor6M(rhTermStructure)"
   ]
  },
  {
   "cell_type": "code",
   "execution_count": null,
   "metadata": {
    "collapsed": false
   },
   "outputs": [],
   "source": [
    "startDate = calendar.advance(settlementDate, ql.Period(1,ql.Years),floatingLegConvention)\n",
    "maturity = calendar.advance(settlementDate, ql.Period(5,ql.Years),floatingLegConvention)\n",
    "fixedSchedule = ql.Schedule(startDate,maturity,ql.Period(fixedLegFrequency),calendar,fixedLegConvention,fixedLegConvention,\n",
    "                           ql.DateGeneration.Forward,False)\n",
    "floatSchedule = ql.Schedule(startDate,maturity,ql.Period(floatingLegFrequency),calendar,floatingLegConvention,floatingLegConvention,\n",
    "                           ql.DateGeneration.Forward,False)"
   ]
  },
  {
   "cell_type": "code",
   "execution_count": null,
   "metadata": {
    "collapsed": false
   },
   "outputs": [],
   "source": [
    "swap = ql.VanillaSwap(swapType,1000.0,\n",
    "            fixedSchedule, dummyFixedRate, fixedLegDayCounter,\n",
    "            floatSchedule, indexSixMonths, 0.0,\n",
    "            indexSixMonths.dayCounter())"
   ]
  },
  {
   "cell_type": "code",
   "execution_count": null,
   "metadata": {
    "collapsed": true
   },
   "outputs": [],
   "source": [
    "swap.setPricingEngine(ql.DiscountingSwapEngine(rhTermStructure))"
   ]
  },
  {
   "cell_type": "code",
   "execution_count": null,
   "metadata": {
    "collapsed": true
   },
   "outputs": [],
   "source": [
    "fixedATMRate = swap.fairRate()\n",
    "fixedOTMRate = fixedATMRate * 1.2\n",
    "fixedITMRate = fixedATMRate * 0.8"
   ]
  },
  {
   "cell_type": "code",
   "execution_count": null,
   "metadata": {
    "collapsed": true
   },
   "outputs": [],
   "source": [
    "atmSwap = ql.VanillaSwap(swapType,1000.0,\n",
    "            fixedSchedule, fixedATMRate, fixedLegDayCounter,\n",
    "            floatSchedule, indexSixMonths, 0.0,\n",
    "            indexSixMonths.dayCounter())\n",
    "otmSwap = ql.VanillaSwap(swapType,1000.0,\n",
    "            fixedSchedule, fixedOTMRate, fixedLegDayCounter,\n",
    "            floatSchedule, indexSixMonths, 0.0,\n",
    "            indexSixMonths.dayCounter())\n",
    "itmSwap = ql.VanillaSwap(swapType,1000.0,\n",
    "            fixedSchedule, fixedITMRate, fixedLegDayCounter,\n",
    "            floatSchedule, indexSixMonths, 0.0,\n",
    "            indexSixMonths.dayCounter())"
   ]
  },
  {
   "cell_type": "code",
   "execution_count": null,
   "metadata": {
    "collapsed": true
   },
   "outputs": [],
   "source": [
    "swaptionMaturities = [ql.Period(i, ql.Years) for i in range(1,6)]"
   ]
  },
  {
   "cell_type": "code",
   "execution_count": null,
   "metadata": {
    "collapsed": false
   },
   "outputs": [],
   "source": [
    "numRows = 5\n",
    "numCols = 5\n",
    "swapLenghts = [      1,     2,     3,     4,     5]\n",
    "swaptionVols = [\n",
    "  0.1490, 0.1340, 0.1228, 0.1189, 0.1148,\n",
    "  0.1290, 0.1201, 0.1146, 0.1108, 0.1040,\n",
    "  0.1149, 0.1112, 0.1070, 0.1010, 0.0957,\n",
    "  0.1047, 0.1021, 0.0980, 0.0951, 0.1270,\n",
    "  0.1000, 0.0950, 0.0900, 0.1230, 0.1160]"
   ]
  },
  {
   "cell_type": "code",
   "execution_count": null,
   "metadata": {
    "collapsed": false
   },
   "outputs": [],
   "source": [
    "swaptions = []\n",
    "#List of times that have to be included in the timegrid\n",
    "times = []\n",
    "for i in range(0,numRows):\n",
    "    j = numCols - i -1 #1x5, 2x4, 3x3, 4x2, 5x1\n",
    "    k = i*numCols + j\n",
    "    vol = ql.SimpleQuote(swaptionVols[k])\n",
    "    swaptions += [ql.SwaptionHelper(swaptionMaturities[i],\n",
    "                               ql.Period(swapLenghts[j], ql.Years),\n",
    "                               ql.QuoteHandle(vol),\n",
    "                               indexSixMonths,\n",
    "                               indexSixMonths.tenor(),\n",
    "                               indexSixMonths.dayCounter(),\n",
    "                               indexSixMonths.dayCounter(),\n",
    "                               rhTermStructure)]\n",
    "    times+=[t for t in swaptions[-1].times()]"
   ]
  },
  {
   "cell_type": "markdown",
   "metadata": {},
   "source": [
    "Building time-grid"
   ]
  },
  {
   "cell_type": "code",
   "execution_count": null,
   "metadata": {
    "collapsed": false,
    "scrolled": true
   },
   "outputs": [],
   "source": [
    "grid = ql.TimeGrid(times, 30)"
   ]
  },
  {
   "cell_type": "markdown",
   "metadata": {},
   "source": [
    "defining the models"
   ]
  },
  {
   "cell_type": "code",
   "execution_count": null,
   "metadata": {
    "collapsed": true
   },
   "outputs": [],
   "source": [
    "modelG2 = ql.G2(rhTermStructure)\n",
    "modelHW = ql.HullWhite(rhTermStructure)\n",
    "modelHW2 = ql.HullWhite(rhTermStructure)\n",
    "modelBK = ql.BlackKarasinski(rhTermStructure)"
   ]
  },
  {
   "cell_type": "markdown",
   "metadata": {},
   "source": [
    "model calibrations"
   ]
  },
  {
   "cell_type": "code",
   "execution_count": null,
   "metadata": {
    "collapsed": false
   },
   "outputs": [],
   "source": [
    "print(\"G2 (analytic formulae) calibration\")\n",
    "for s in swaptions:\n",
    "    s.setPricingEngine(ql.G2SwaptionEngine(modelG2, 6.0, 16))"
   ]
  },
  {
   "cell_type": "code",
   "execution_count": null,
   "metadata": {
    "collapsed": true
   },
   "outputs": [],
   "source": [
    "def calibrateModel(model, helpers):\n",
    "    om = ql.LevenbergMarquardt()\n",
    "    model.calibrate(helpers, om, ql.EndCriteria(400, 100, 1.0e-8, 1.0e-8, 1.0e-8))\n",
    "    for i in range(0,numRows):\n",
    "        j = numCols - i -1 # 1x5, 2x4, 3x3, 4x2, 5x1\n",
    "        k = i*numCols + j;\n",
    "        npv = helpers[i].modelValue()\n",
    "        implied = helpers[i].impliedVolatility(npv, 1e-4, 1000, 0.05, 0.50)\n",
    "        diff = implied - swaptionVols[k]\n",
    "        print('{:<1}{:<1}{:<1}: model {:<7}, market {:<7} ({:<7})'.format(str(i+1), (\"x\"), str(swapLenghts[j]),(\"%.6f\"%implied),\n",
    "                                                                 (\"%.6f\"%swaptionVols[k]),(\"%.6f\"%diff)))"
   ]
  },
  {
   "cell_type": "code",
   "execution_count": null,
   "metadata": {
    "collapsed": false
   },
   "outputs": [],
   "source": [
    "calibrateModel(modelG2, swaptions)"
   ]
  },
  {
   "cell_type": "code",
   "execution_count": null,
   "metadata": {
    "collapsed": false
   },
   "outputs": [],
   "source": [
    "print( \"calibrated to:\")\n",
    "print( \"a     =\" ,\"%.6f\"%modelG2.params()[0])\n",
    "print( \"sigma =\" ,\"%.6f\"%modelG2.params()[1])\n",
    "print( \"b     =\" ,\"%.6f\"%modelG2.params()[2])\n",
    "print( \"eta   =\" ,\"%.6f\"%modelG2.params()[3])\n",
    "print( \"rho   =\" ,\"%.6f\"%modelG2.params()[4])"
   ]
  },
  {
   "cell_type": "code",
   "execution_count": null,
   "metadata": {
    "collapsed": false
   },
   "outputs": [],
   "source": [
    "print(\"Hull-White (analytic formulae) calibration\")"
   ]
  },
  {
   "cell_type": "code",
   "execution_count": null,
   "metadata": {
    "collapsed": true
   },
   "outputs": [],
   "source": [
    "for s in swaptions:\n",
    "    s.setPricingEngine(ql.JamshidianSwaptionEngine(modelHW))"
   ]
  },
  {
   "cell_type": "code",
   "execution_count": null,
   "metadata": {
    "collapsed": false
   },
   "outputs": [],
   "source": [
    "calibrateModel(modelHW, swaptions)"
   ]
  },
  {
   "cell_type": "code",
   "execution_count": null,
   "metadata": {
    "collapsed": false
   },
   "outputs": [],
   "source": [
    "print( \"calibrated to:\")\n",
    "print( \"a     =\" ,\"%.6f\"%modelHW.params()[0])\n",
    "print( \"sigma =\" ,\"%.6f\"%modelHW.params()[1])"
   ]
  },
  {
   "cell_type": "code",
   "execution_count": null,
   "metadata": {
    "collapsed": false
   },
   "outputs": [],
   "source": [
    "print(\"Hull-White (numerical) calibration\")"
   ]
  },
  {
   "cell_type": "code",
   "execution_count": null,
   "metadata": {
    "collapsed": true
   },
   "outputs": [],
   "source": [
    "for s in swaptions:\n",
    "    s.setPricingEngine(ql.TreeSwaptionEngine(modelHW2, grid))"
   ]
  },
  {
   "cell_type": "code",
   "execution_count": null,
   "metadata": {
    "collapsed": false
   },
   "outputs": [],
   "source": [
    "calibrateModel(modelHW2, swaptions)"
   ]
  },
  {
   "cell_type": "code",
   "execution_count": null,
   "metadata": {
    "collapsed": false
   },
   "outputs": [],
   "source": [
    "print( \"calibrated to:\")\n",
    "print( \"a     =\" ,\"%.6f\"%modelHW2.params()[0])\n",
    "print( \"sigma =\" ,\"%.6f\"%modelHW2.params()[1])"
   ]
  },
  {
   "cell_type": "code",
   "execution_count": null,
   "metadata": {
    "collapsed": false
   },
   "outputs": [],
   "source": [
    "print(\"Black-Karasinski (numerical) calibration\")"
   ]
  },
  {
   "cell_type": "code",
   "execution_count": null,
   "metadata": {
    "collapsed": true
   },
   "outputs": [],
   "source": [
    "for s in swaptions:\n",
    "    s.setPricingEngine(ql.TreeSwaptionEngine(modelBK, grid))"
   ]
  },
  {
   "cell_type": "code",
   "execution_count": null,
   "metadata": {
    "collapsed": false
   },
   "outputs": [],
   "source": [
    "calibrateModel(modelBK, swaptions)"
   ]
  },
  {
   "cell_type": "code",
   "execution_count": null,
   "metadata": {
    "collapsed": false
   },
   "outputs": [],
   "source": [
    "print( \"calibrated to:\")\n",
    "print( \"a     =\" ,\"%.6f\"%modelBK.params()[0])\n",
    "print( \"sigma =\" ,\"%.6f\"%modelBK.params()[1])"
   ]
  },
  {
   "cell_type": "markdown",
   "metadata": {},
   "source": [
    "ATM Bermudan swaption pricing"
   ]
  },
  {
   "cell_type": "code",
   "execution_count": null,
   "metadata": {
    "collapsed": false
   },
   "outputs": [],
   "source": [
    "print(\"Payer bermudan swaption struck at %.6f (ATM)\" % fixedATMRate)"
   ]
  },
  {
   "cell_type": "code",
   "execution_count": null,
   "metadata": {
    "collapsed": true
   },
   "outputs": [],
   "source": [
    "leg = swap.fixedLeg()"
   ]
  },
  {
   "cell_type": "code",
   "execution_count": null,
   "metadata": {
    "collapsed": false
   },
   "outputs": [],
   "source": [
    "bermudanDates = [d for d in fixedSchedule]"
   ]
  },
  {
   "cell_type": "code",
   "execution_count": null,
   "metadata": {
    "collapsed": true
   },
   "outputs": [],
   "source": [
    "bermudanExercise = ql.BermudanExercise(bermudanDates)"
   ]
  },
  {
   "cell_type": "code",
   "execution_count": null,
   "metadata": {
    "collapsed": true
   },
   "outputs": [],
   "source": [
    "bermudanSwaption = ql.Swaption(atmSwap, bermudanExercise)"
   ]
  },
  {
   "cell_type": "markdown",
   "metadata": {},
   "source": [
    "Do the pricing for each model\n",
    "\n",
    "G2 price the European swaption here, it should switch to bermudan"
   ]
  },
  {
   "cell_type": "code",
   "execution_count": null,
   "metadata": {
    "collapsed": true
   },
   "outputs": [],
   "source": [
    "def calc_swaption_npv (swaption):\n",
    "    try:\n",
    "        swaption.setPricingEngine(ql.TreeSwaptionEngine(modelG2, 50))\n",
    "        print (\"G2 (tree):      %.6f\" % swaption.NPV())\n",
    "    except:\n",
    "        pass\n",
    "    try:\n",
    "        swaption.setPricingEngine(ql.FdG2SwaptionEngine(modelG2))\n",
    "        print (\"G2 (fdm):      %.6f\" % swaption.NPV())\n",
    "    except:\n",
    "        pass\n",
    "    try:\n",
    "        swaption.setPricingEngine(ql.TreeSwaptionEngine(modelHW, 50))\n",
    "        print (\"HW (tree):      %.6f\" % swaption.NPV())\n",
    "    except:\n",
    "        pass\n",
    "    try:\n",
    "        swaption.setPricingEngine(ql.FdHullWhiteSwaptionEngine(modelHW))\n",
    "        print (\"HW (fdm):      %.6f\" % swaption.NPV())\n",
    "    except:\n",
    "        pass\n",
    "    try:\n",
    "        swaption.setPricingEngine(ql.TreeSwaptionEngine(modelHW2, 50))\n",
    "        print (\"HW (num, tree): %.6f\" % swaption.NPV())\n",
    "    except:\n",
    "        pass\n",
    "    try:\n",
    "        swaption.setPricingEngine(ql.FdHullWhiteSwaptionEngine(modelHW2))\n",
    "        print (\"HW (num, fdm):      %.6f\" % swaption.NPV())\n",
    "    except:\n",
    "        pass\n",
    "    try:\n",
    "        swaption.setPricingEngine(ql.TreeSwaptionEngine(modelBK, 50))\n",
    "        print (\"BK:             %.6f\" % swaption.NPV())\n",
    "    except:\n",
    "        pass"
   ]
  },
  {
   "cell_type": "code",
   "execution_count": null,
   "metadata": {
    "collapsed": false,
    "scrolled": true
   },
   "outputs": [],
   "source": [
    "calc_swaption_npv(bermudanSwaption)"
   ]
  },
  {
   "cell_type": "markdown",
   "metadata": {},
   "source": [
    "OTM Bermudan swaption pricing"
   ]
  },
  {
   "cell_type": "code",
   "execution_count": null,
   "metadata": {
    "collapsed": false
   },
   "outputs": [],
   "source": [
    "print(\"Payer bermudan swaption struck at %.6f (OTM)\" % fixedOTMRate)"
   ]
  },
  {
   "cell_type": "code",
   "execution_count": null,
   "metadata": {
    "collapsed": false
   },
   "outputs": [],
   "source": [
    "otmBermudanSwaption =ql.Swaption(itmSwap,bermudanExercise)"
   ]
  },
  {
   "cell_type": "code",
   "execution_count": null,
   "metadata": {
    "collapsed": false
   },
   "outputs": [],
   "source": [
    "calc_swaption_npv(otmBermudanSwaption)"
   ]
  },
  {
   "cell_type": "markdown",
   "metadata": {},
   "source": [
    "ITM Bermudan swaption pricing"
   ]
  },
  {
   "cell_type": "code",
   "execution_count": null,
   "metadata": {
    "collapsed": false
   },
   "outputs": [],
   "source": [
    "print(\"Payer bermudan swaption struck at %.6f (ITM)\" % fixedITMRate)"
   ]
  },
  {
   "cell_type": "code",
   "execution_count": null,
   "metadata": {
    "collapsed": true
   },
   "outputs": [],
   "source": [
    "itmBermudanSwaption =ql.Swaption(itmSwap,bermudanExercise)"
   ]
  },
  {
   "cell_type": "code",
   "execution_count": null,
   "metadata": {
    "collapsed": false,
    "scrolled": true
   },
   "outputs": [],
   "source": [
    "calc_swaption_npv(itmBermudanSwaption)"
   ]
  }
 ],
 "metadata": {
  "kernelspec": {
   "display_name": "Python 3",
   "language": "python",
   "name": "python3"
  },
  "language_info": {
   "codemirror_mode": {
    "name": "ipython",
    "version": 3
   },
   "file_extension": ".py",
   "mimetype": "text/x-python",
   "name": "python",
   "nbconvert_exporter": "python",
   "pygments_lexer": "ipython3",
   "version": "3.5.2"
  }
 },
 "nbformat": 4,
 "nbformat_minor": 1
}
