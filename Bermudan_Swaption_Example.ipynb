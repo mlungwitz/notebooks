{
 "cells": [
  {
   "cell_type": "markdown",
   "metadata": {},
   "source": [
    "Python Version of the QL Bermudan Swaption Example"
   ]
  },
  {
   "cell_type": "code",
   "execution_count": 1,
   "metadata": {},
   "outputs": [],
   "source": [
    "import QuantLib as ql"
   ]
  },
  {
   "cell_type": "code",
   "execution_count": 2,
   "metadata": {},
   "outputs": [],
   "source": [
    "todaysDate = ql.Date(15,2,2002)\n",
    "calendar = ql.TARGET()\n",
    "settlementDate = ql.Date(19,2,2002)\n",
    "ql.Settings.instance().evaluationDate = todaysDate"
   ]
  },
  {
   "cell_type": "markdown",
   "metadata": {},
   "source": [
    "flat yield term structure impling 1x5 swap at 5%"
   ]
  },
  {
   "cell_type": "code",
   "execution_count": 3,
   "metadata": {},
   "outputs": [],
   "source": [
    "flatRate = ql.SimpleQuote(0.04875825)\n",
    "rhTermStructure = ql.YieldTermStructureHandle(ql.FlatForward(settlementDate,ql.QuoteHandle(flatRate),ql.Actual365Fixed()))"
   ]
  },
  {
   "cell_type": "markdown",
   "metadata": {},
   "source": [
    "Define the ATM/OTM/ITM swaps"
   ]
  },
  {
   "cell_type": "code",
   "execution_count": 4,
   "metadata": {},
   "outputs": [],
   "source": [
    "fixedLegFrequency = ql.Annual\n",
    "fixedLegConvention = ql.Unadjusted\n",
    "floatingLegConvention = ql.ModifiedFollowing\n",
    "fixedLegDayCounter = ql.Thirty360(ql.Thirty360.European)\n",
    "floatingLegFrequency = ql.Semiannual\n",
    "swapType = ql.VanillaSwap.Payer\n",
    "dummyFixedRate = 0.03\n",
    "indexSixMonths = ql.Euribor6M(rhTermStructure)"
   ]
  },
  {
   "cell_type": "code",
   "execution_count": 5,
   "metadata": {},
   "outputs": [],
   "source": [
    "startDate = calendar.advance(settlementDate, ql.Period(1,ql.Years),floatingLegConvention)\n",
    "maturity = calendar.advance(settlementDate, ql.Period(5,ql.Years),floatingLegConvention)\n",
    "fixedSchedule = ql.Schedule(startDate,maturity,ql.Period(fixedLegFrequency),calendar,fixedLegConvention,fixedLegConvention,\n",
    "                           ql.DateGeneration.Forward,False)\n",
    "floatSchedule = ql.Schedule(startDate,maturity,ql.Period(floatingLegFrequency),calendar,floatingLegConvention,floatingLegConvention,\n",
    "                           ql.DateGeneration.Forward,False)"
   ]
  },
  {
   "cell_type": "code",
   "execution_count": 6,
   "metadata": {},
   "outputs": [],
   "source": [
    "swap = ql.VanillaSwap(swapType,1000.0,\n",
    "            fixedSchedule, dummyFixedRate, fixedLegDayCounter,\n",
    "            floatSchedule, indexSixMonths, 0.0,\n",
    "            indexSixMonths.dayCounter())"
   ]
  },
  {
   "cell_type": "code",
   "execution_count": 7,
   "metadata": {},
   "outputs": [],
   "source": [
    "swap.setPricingEngine(ql.DiscountingSwapEngine(rhTermStructure))"
   ]
  },
  {
   "cell_type": "code",
   "execution_count": 8,
   "metadata": {},
   "outputs": [
    {
     "data": {
      "text/plain": [
       "67.56094636176408"
      ]
     },
     "execution_count": 8,
     "metadata": {},
     "output_type": "execute_result"
    }
   ],
   "source": [
    "swap.NPV()"
   ]
  },
  {
   "cell_type": "code",
   "execution_count": 9,
   "metadata": {},
   "outputs": [],
   "source": [
    "fixedATMRate = swap.fairRate()\n",
    "fixedOTMRate = fixedATMRate * 1.2\n",
    "fixedITMRate = fixedATMRate * 0.8"
   ]
  },
  {
   "cell_type": "code",
   "execution_count": 10,
   "metadata": {},
   "outputs": [],
   "source": [
    "atmSwap = ql.VanillaSwap(swapType,1000.0,\n",
    "            fixedSchedule, fixedATMRate, fixedLegDayCounter,\n",
    "            floatSchedule, indexSixMonths, 0.0,\n",
    "            indexSixMonths.dayCounter())\n",
    "otmSwap = ql.VanillaSwap(swapType,1000.0,\n",
    "            fixedSchedule, fixedOTMRate, fixedLegDayCounter,\n",
    "            floatSchedule, indexSixMonths, 0.0,\n",
    "            indexSixMonths.dayCounter())\n",
    "itmSwap = ql.VanillaSwap(swapType,1000.0,\n",
    "            fixedSchedule, fixedITMRate, fixedLegDayCounter,\n",
    "            floatSchedule, indexSixMonths, 0.0,\n",
    "            indexSixMonths.dayCounter())"
   ]
  },
  {
   "cell_type": "code",
   "execution_count": 11,
   "metadata": {},
   "outputs": [],
   "source": [
    "atmSwap.setPricingEngine(ql.DiscountingSwapEngine(rhTermStructure))"
   ]
  },
  {
   "cell_type": "code",
   "execution_count": 12,
   "metadata": {},
   "outputs": [
    {
     "data": {
      "text/plain": [
       "-1.1368683772161603e-13"
      ]
     },
     "execution_count": 12,
     "metadata": {},
     "output_type": "execute_result"
    }
   ],
   "source": [
    "atmSwap.NPV()"
   ]
  },
  {
   "cell_type": "code",
   "execution_count": 13,
   "metadata": {},
   "outputs": [],
   "source": [
    "swaptionMaturities = [ql.Period(i, ql.Years) for i in range(1,6)]"
   ]
  },
  {
   "cell_type": "code",
   "execution_count": 14,
   "metadata": {},
   "outputs": [],
   "source": [
    "numRows = 5\n",
    "numCols = 5\n",
    "swapLenghts = [      1,     2,     3,     4,     5]\n",
    "swaptionVols = [\n",
    "  0.1490, 0.1340, 0.1228, 0.1189, 0.1148,\n",
    "  0.1290, 0.1201, 0.1146, 0.1108, 0.1040,\n",
    "  0.1149, 0.1112, 0.1070, 0.1010, 0.0957,\n",
    "  0.1047, 0.1021, 0.0980, 0.0951, 0.1270,\n",
    "  0.1000, 0.0950, 0.0900, 0.1230, 0.1160]"
   ]
  },
  {
   "cell_type": "code",
   "execution_count": 15,
   "metadata": {},
   "outputs": [],
   "source": [
    "swaptions = []\n",
    "#List of times that have to be included in the timegrid\n",
    "times = []\n",
    "for i in range(0,numRows):\n",
    "    j = numCols - i -1 #1x5, 2x4, 3x3, 4x2, 5x1\n",
    "    k = i*numCols + j\n",
    "    vol = ql.SimpleQuote(swaptionVols[k])\n",
    "    swaptions += [ql.SwaptionHelper(swaptionMaturities[i],\n",
    "                               ql.Period(swapLenghts[j], ql.Years),\n",
    "                               ql.QuoteHandle(vol),\n",
    "                               indexSixMonths,\n",
    "                               indexSixMonths.tenor(),\n",
    "                               indexSixMonths.dayCounter(),\n",
    "                               indexSixMonths.dayCounter(),\n",
    "                               rhTermStructure)]\n",
    "    times+=[t for t in swaptions[-1].times()]"
   ]
  },
  {
   "cell_type": "markdown",
   "metadata": {},
   "source": [
    "Building time-grid"
   ]
  },
  {
   "cell_type": "code",
   "execution_count": 16,
   "metadata": {
    "scrolled": true
   },
   "outputs": [],
   "source": [
    "grid = ql.TimeGrid(times, 30)"
   ]
  },
  {
   "cell_type": "markdown",
   "metadata": {},
   "source": [
    "defining the models"
   ]
  },
  {
   "cell_type": "code",
   "execution_count": 17,
   "metadata": {},
   "outputs": [],
   "source": [
    "modelG2 = ql.G2(rhTermStructure)\n",
    "modelHW = ql.HullWhite(rhTermStructure)\n",
    "modelHW2 = ql.HullWhite(rhTermStructure)\n",
    "modelBK = ql.BlackKarasinski(rhTermStructure)"
   ]
  },
  {
   "cell_type": "markdown",
   "metadata": {},
   "source": [
    "model calibrations"
   ]
  },
  {
   "cell_type": "code",
   "execution_count": 18,
   "metadata": {},
   "outputs": [
    {
     "name": "stdout",
     "output_type": "stream",
     "text": [
      "G2 (analytic formulae) calibration\n"
     ]
    }
   ],
   "source": [
    "print(\"G2 (analytic formulae) calibration\")\n",
    "for s in swaptions:\n",
    "    s.setPricingEngine(ql.G2SwaptionEngine(modelG2, 6.0, 16))"
   ]
  },
  {
   "cell_type": "code",
   "execution_count": 19,
   "metadata": {},
   "outputs": [],
   "source": [
    "def calibrateModel(model, helpers):\n",
    "    om = ql.LevenbergMarquardt()\n",
    "    model.calibrate(helpers, om, ql.EndCriteria(400, 100, 1.0e-8, 1.0e-8, 1.0e-8))\n",
    "    for i in range(0,numRows):\n",
    "        j = numCols - i -1 # 1x5, 2x4, 3x3, 4x2, 5x1\n",
    "        k = i*numCols + j;\n",
    "        npv = helpers[i].modelValue()\n",
    "        implied = helpers[i].impliedVolatility(npv, 1e-4, 1000, 0.05, 0.50)\n",
    "        diff = implied - swaptionVols[k]\n",
    "        print('{:<1}{:<1}{:<1}: model {:<7}, market {:<7} ({:<7})'.format(str(i+1), (\"x\"), str(swapLenghts[j]),(\"%.6f\"%implied),\n",
    "                                                                 (\"%.6f\"%swaptionVols[k]),(\"%.6f\"%diff)))"
   ]
  },
  {
   "cell_type": "code",
   "execution_count": 20,
   "metadata": {},
   "outputs": [
    {
     "name": "stdout",
     "output_type": "stream",
     "text": [
      "1x5: model 0.100455, market 0.114800 (-0.014345)\n",
      "2x4: model 0.105123, market 0.110800 (-0.005677)\n",
      "3x3: model 0.107050, market 0.107000 (0.000050)\n",
      "4x2: model 0.108382, market 0.102100 (0.006282)\n",
      "5x1: model 0.109439, market 0.100000 (0.009439)\n"
     ]
    }
   ],
   "source": [
    "calibrateModel(modelG2, swaptions)"
   ]
  },
  {
   "cell_type": "code",
   "execution_count": 21,
   "metadata": {},
   "outputs": [
    {
     "name": "stdout",
     "output_type": "stream",
     "text": [
      "calibrated to:\n",
      "a     = 0.050103\n",
      "sigma = 0.009450\n",
      "b     = 0.050101\n",
      "eta   = 0.009450\n",
      "rho   = -0.763305\n"
     ]
    }
   ],
   "source": [
    "print( \"calibrated to:\")\n",
    "print( \"a     =\" ,\"%.6f\"%modelG2.params()[0])\n",
    "print( \"sigma =\" ,\"%.6f\"%modelG2.params()[1])\n",
    "print( \"b     =\" ,\"%.6f\"%modelG2.params()[2])\n",
    "print( \"eta   =\" ,\"%.6f\"%modelG2.params()[3])\n",
    "print( \"rho   =\" ,\"%.6f\"%modelG2.params()[4])"
   ]
  },
  {
   "cell_type": "code",
   "execution_count": 22,
   "metadata": {},
   "outputs": [
    {
     "name": "stdout",
     "output_type": "stream",
     "text": [
      "Hull-White (analytic formulae) calibration\n"
     ]
    }
   ],
   "source": [
    "print(\"Hull-White (analytic formulae) calibration\")"
   ]
  },
  {
   "cell_type": "code",
   "execution_count": 23,
   "metadata": {},
   "outputs": [],
   "source": [
    "for s in swaptions:\n",
    "    s.setPricingEngine(ql.JamshidianSwaptionEngine(modelHW))"
   ]
  },
  {
   "cell_type": "code",
   "execution_count": 24,
   "metadata": {},
   "outputs": [
    {
     "name": "stdout",
     "output_type": "stream",
     "text": [
      "1x5: model 0.106204, market 0.114800 (-0.008596)\n",
      "2x4: model 0.106296, market 0.110800 (-0.004504)\n",
      "3x3: model 0.106341, market 0.107000 (-0.000659)\n",
      "4x2: model 0.106443, market 0.102100 (0.004343)\n",
      "5x1: model 0.106613, market 0.100000 (0.006613)\n"
     ]
    }
   ],
   "source": [
    "calibrateModel(modelHW, swaptions)"
   ]
  },
  {
   "cell_type": "code",
   "execution_count": 25,
   "metadata": {},
   "outputs": [
    {
     "name": "stdout",
     "output_type": "stream",
     "text": [
      "calibrated to:\n",
      "a     = 0.046414\n",
      "sigma = 0.005869\n"
     ]
    }
   ],
   "source": [
    "print( \"calibrated to:\")\n",
    "print( \"a     =\" ,\"%.6f\"%modelHW.params()[0])\n",
    "print( \"sigma =\" ,\"%.6f\"%modelHW.params()[1])"
   ]
  },
  {
   "cell_type": "code",
   "execution_count": 26,
   "metadata": {},
   "outputs": [
    {
     "name": "stdout",
     "output_type": "stream",
     "text": [
      "Hull-White (numerical) calibration\n"
     ]
    }
   ],
   "source": [
    "print(\"Hull-White (numerical) calibration\")"
   ]
  },
  {
   "cell_type": "code",
   "execution_count": 27,
   "metadata": {},
   "outputs": [],
   "source": [
    "for s in swaptions:\n",
    "    s.setPricingEngine(ql.TreeSwaptionEngine(modelHW2, grid))"
   ]
  },
  {
   "cell_type": "code",
   "execution_count": 28,
   "metadata": {},
   "outputs": [
    {
     "name": "stdout",
     "output_type": "stream",
     "text": [
      "1x5: model 0.103119, market 0.114800 (-0.011681)\n",
      "2x4: model 0.105462, market 0.110800 (-0.005338)\n",
      "3x3: model 0.106691, market 0.107000 (-0.000309)\n",
      "4x2: model 0.107402, market 0.102100 (0.005302)\n",
      "5x1: model 0.107972, market 0.100000 (0.007972)\n"
     ]
    }
   ],
   "source": [
    "calibrateModel(modelHW2, swaptions)"
   ]
  },
  {
   "cell_type": "code",
   "execution_count": 29,
   "metadata": {},
   "outputs": [
    {
     "name": "stdout",
     "output_type": "stream",
     "text": [
      "calibrated to:\n",
      "a     = 0.055229\n",
      "sigma = 0.006106\n"
     ]
    }
   ],
   "source": [
    "print( \"calibrated to:\")\n",
    "print( \"a     =\" ,\"%.6f\"%modelHW2.params()[0])\n",
    "print( \"sigma =\" ,\"%.6f\"%modelHW2.params()[1])"
   ]
  },
  {
   "cell_type": "code",
   "execution_count": 30,
   "metadata": {},
   "outputs": [
    {
     "name": "stdout",
     "output_type": "stream",
     "text": [
      "Black-Karasinski (numerical) calibration\n"
     ]
    }
   ],
   "source": [
    "print(\"Black-Karasinski (numerical) calibration\")"
   ]
  },
  {
   "cell_type": "code",
   "execution_count": 31,
   "metadata": {},
   "outputs": [],
   "source": [
    "for s in swaptions:\n",
    "    s.setPricingEngine(ql.TreeSwaptionEngine(modelBK, grid))"
   ]
  },
  {
   "cell_type": "code",
   "execution_count": 32,
   "metadata": {},
   "outputs": [
    {
     "name": "stdout",
     "output_type": "stream",
     "text": [
      "1x5: model 0.103259, market 0.114800 (-0.011541)\n",
      "2x4: model 0.105657, market 0.110800 (-0.005143)\n",
      "3x3: model 0.106786, market 0.107000 (-0.000214)\n",
      "4x2: model 0.107368, market 0.102100 (0.005268)\n",
      "5x1: model 0.107779, market 0.100000 (0.007779)\n"
     ]
    }
   ],
   "source": [
    "calibrateModel(modelBK, swaptions)"
   ]
  },
  {
   "cell_type": "code",
   "execution_count": 33,
   "metadata": {},
   "outputs": [
    {
     "name": "stdout",
     "output_type": "stream",
     "text": [
      "calibrated to:\n",
      "a     = 0.043389\n",
      "sigma = 0.120746\n"
     ]
    }
   ],
   "source": [
    "print( \"calibrated to:\")\n",
    "print( \"a     =\" ,\"%.6f\"%modelBK.params()[0])\n",
    "print( \"sigma =\" ,\"%.6f\"%modelBK.params()[1])"
   ]
  },
  {
   "cell_type": "markdown",
   "metadata": {},
   "source": [
    "ATM Bermudan swaption pricing"
   ]
  },
  {
   "cell_type": "code",
   "execution_count": 34,
   "metadata": {},
   "outputs": [
    {
     "name": "stdout",
     "output_type": "stream",
     "text": [
      "Payer bermudan swaption struck at 0.050007 (ATM)\n"
     ]
    }
   ],
   "source": [
    "print(\"Payer bermudan swaption struck at %.6f (ATM)\" % fixedATMRate)"
   ]
  },
  {
   "cell_type": "code",
   "execution_count": 35,
   "metadata": {},
   "outputs": [],
   "source": [
    "leg = swap.fixedLeg()"
   ]
  },
  {
   "cell_type": "code",
   "execution_count": 36,
   "metadata": {},
   "outputs": [],
   "source": [
    "bermudanDates = [d for d in fixedSchedule]"
   ]
  },
  {
   "cell_type": "code",
   "execution_count": 37,
   "metadata": {},
   "outputs": [],
   "source": [
    "bermudanExercise = ql.BermudanExercise(bermudanDates)"
   ]
  },
  {
   "cell_type": "code",
   "execution_count": 38,
   "metadata": {},
   "outputs": [],
   "source": [
    "bermudanSwaption = ql.Swaption(atmSwap, bermudanExercise)"
   ]
  },
  {
   "cell_type": "markdown",
   "metadata": {},
   "source": [
    "Do the pricing for each model\n",
    "\n",
    "G2 price the European swaption here, it should switch to bermudan"
   ]
  },
  {
   "cell_type": "code",
   "execution_count": 39,
   "metadata": {},
   "outputs": [],
   "source": [
    "def calc_swaption_npv (swaption):\n",
    "    try:\n",
    "        swaption.setPricingEngine(ql.TreeSwaptionEngine(modelG2, 50))\n",
    "        print (\"G2 (tree):      %.6f\" % swaption.NPV())\n",
    "    except:\n",
    "        pass\n",
    "    try:\n",
    "        swaption.setPricingEngine(ql.FdG2SwaptionEngine(modelG2))\n",
    "        print (\"G2 (fdm):      %.6f\" % swaption.NPV())\n",
    "    except:\n",
    "        pass\n",
    "    try:\n",
    "        swaption.setPricingEngine(ql.TreeSwaptionEngine(modelHW, 50))\n",
    "        print (\"HW (tree):      %.6f\" % swaption.NPV())\n",
    "    except:\n",
    "        pass\n",
    "    try:\n",
    "        swaption.setPricingEngine(ql.FdHullWhiteSwaptionEngine(modelHW))\n",
    "        print (\"HW (fdm):       %.6f\" % swaption.NPV())\n",
    "    except:\n",
    "        pass\n",
    "    try:\n",
    "        swaption.setPricingEngine(ql.TreeSwaptionEngine(modelHW2, 50))\n",
    "        print (\"HW (num, tree): %.6f\" % swaption.NPV())\n",
    "    except:\n",
    "        pass\n",
    "    try:\n",
    "        swaption.setPricingEngine(ql.FdHullWhiteSwaptionEngine(modelHW2))\n",
    "        print (\"HW (num, fdm):  %.6f\" % swaption.NPV())\n",
    "    except:\n",
    "        pass\n",
    "    try:\n",
    "        swaption.setPricingEngine(ql.TreeSwaptionEngine(modelBK, 50))\n",
    "        print (\"BK:             %.6f\" % swaption.NPV())\n",
    "    except:\n",
    "        pass"
   ]
  },
  {
   "cell_type": "code",
   "execution_count": 40,
   "metadata": {
    "scrolled": true
   },
   "outputs": [
    {
     "name": "stdout",
     "output_type": "stream",
     "text": [
      "G2 (tree):      10.983217\n",
      "G2 (fdm):      11.041164\n",
      "HW (tree):      10.048167\n",
      "HW (fdm):       10.059288\n",
      "HW (num, tree): 10.273781\n",
      "HW (num, fdm):  10.282544\n",
      "BK:             10.124047\n"
     ]
    }
   ],
   "source": [
    "calc_swaption_npv(bermudanSwaption)"
   ]
  },
  {
   "cell_type": "markdown",
   "metadata": {},
   "source": [
    "OTM Bermudan swaption pricing"
   ]
  },
  {
   "cell_type": "code",
   "execution_count": 41,
   "metadata": {},
   "outputs": [
    {
     "name": "stdout",
     "output_type": "stream",
     "text": [
      "Payer bermudan swaption struck at 0.060009 (OTM)\n"
     ]
    }
   ],
   "source": [
    "print(\"Payer bermudan swaption struck at %.6f (OTM)\" % fixedOTMRate)"
   ]
  },
  {
   "cell_type": "code",
   "execution_count": 42,
   "metadata": {},
   "outputs": [],
   "source": [
    "otmBermudanSwaption =ql.Swaption(otmSwap,bermudanExercise)"
   ]
  },
  {
   "cell_type": "code",
   "execution_count": 43,
   "metadata": {},
   "outputs": [
    {
     "name": "stdout",
     "output_type": "stream",
     "text": [
      "G2 (tree):      2.261356\n",
      "G2 (fdm):      2.173593\n",
      "HW (tree):      1.654076\n",
      "HW (fdm):       1.645590\n",
      "HW (num, tree): 1.771916\n",
      "HW (num, fdm):  1.750425\n",
      "BK:             2.208262\n"
     ]
    }
   ],
   "source": [
    "calc_swaption_npv(otmBermudanSwaption)"
   ]
  },
  {
   "cell_type": "markdown",
   "metadata": {},
   "source": [
    "ITM Bermudan swaption pricing"
   ]
  },
  {
   "cell_type": "code",
   "execution_count": 44,
   "metadata": {},
   "outputs": [
    {
     "name": "stdout",
     "output_type": "stream",
     "text": [
      "Payer bermudan swaption struck at 0.040006 (ITM)\n"
     ]
    }
   ],
   "source": [
    "print(\"Payer bermudan swaption struck at %.6f (ITM)\" % fixedITMRate)"
   ]
  },
  {
   "cell_type": "code",
   "execution_count": 45,
   "metadata": {},
   "outputs": [],
   "source": [
    "itmBermudanSwaption =ql.Swaption(itmSwap,bermudanExercise)"
   ]
  },
  {
   "cell_type": "code",
   "execution_count": 46,
   "metadata": {
    "scrolled": true
   },
   "outputs": [
    {
     "name": "stdout",
     "output_type": "stream",
     "text": [
      "G2 (tree):      34.904474\n",
      "G2 (fdm):      34.845978\n",
      "HW (tree):      34.450006\n",
      "HW (fdm):       34.478416\n",
      "HW (num, tree): 34.529802\n",
      "HW (num, fdm):  34.556588\n",
      "BK:             34.214183\n"
     ]
    }
   ],
   "source": [
    "calc_swaption_npv(itmBermudanSwaption)"
   ]
  }
 ],
 "metadata": {
  "kernelspec": {
   "display_name": "Python 3",
   "language": "python",
   "name": "python3"
  },
  "language_info": {
   "codemirror_mode": {
    "name": "ipython",
    "version": 3
   },
   "file_extension": ".py",
   "mimetype": "text/x-python",
   "name": "python",
   "nbconvert_exporter": "python",
   "pygments_lexer": "ipython3",
   "version": "3.6.3"
  }
 },
 "nbformat": 4,
 "nbformat_minor": 1
}
