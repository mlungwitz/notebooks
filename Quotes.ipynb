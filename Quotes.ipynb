{
 "cells": [
  {
   "cell_type": "code",
   "execution_count": 1,
   "metadata": {},
   "outputs": [],
   "source": [
    "import QuantLib as ql"
   ]
  },
  {
   "cell_type": "code",
   "execution_count": 2,
   "metadata": {},
   "outputs": [],
   "source": [
    "s = ql.SimpleQuote(0.01)"
   ]
  },
  {
   "cell_type": "code",
   "execution_count": 3,
   "metadata": {},
   "outputs": [
    {
     "data": {
      "text/plain": [
       "0.01"
      ]
     },
     "execution_count": 3,
     "metadata": {},
     "output_type": "execute_result"
    }
   ],
   "source": [
    "s.value()"
   ]
  },
  {
   "cell_type": "code",
   "execution_count": 4,
   "metadata": {},
   "outputs": [],
   "source": [
    "t = ql.SimpleQuote(0.02)"
   ]
  },
  {
   "cell_type": "code",
   "execution_count": 5,
   "metadata": {},
   "outputs": [],
   "source": [
    "def f(x,y):\n",
    "    return x+y"
   ]
  },
  {
   "cell_type": "code",
   "execution_count": 6,
   "metadata": {},
   "outputs": [],
   "source": [
    "c = ql.CompositeQuote(ql.QuoteHandle(s),ql.QuoteHandle(t), f)"
   ]
  },
  {
   "cell_type": "code",
   "execution_count": 7,
   "metadata": {},
   "outputs": [],
   "source": [
    "c = ql.CompositeQuote(ql.QuoteHandle(s),ql.QuoteHandle(t), lambda x,y:x+y)"
   ]
  },
  {
   "cell_type": "code",
   "execution_count": 8,
   "metadata": {},
   "outputs": [
    {
     "data": {
      "text/plain": [
       "0.03"
      ]
     },
     "execution_count": 8,
     "metadata": {},
     "output_type": "execute_result"
    }
   ],
   "source": [
    "c.value()"
   ]
  },
  {
   "cell_type": "code",
   "execution_count": 9,
   "metadata": {},
   "outputs": [],
   "source": [
    "d = ql.DerivedQuote(ql.QuoteHandle(s),lambda x: 10*x)"
   ]
  },
  {
   "cell_type": "code",
   "execution_count": 10,
   "metadata": {},
   "outputs": [
    {
     "data": {
      "text/plain": [
       "0.1"
      ]
     },
     "execution_count": 10,
     "metadata": {},
     "output_type": "execute_result"
    }
   ],
   "source": [
    "d.value()"
   ]
  },
  {
   "cell_type": "code",
   "execution_count": 11,
   "metadata": {},
   "outputs": [],
   "source": [
    "today = ql.Settings.instance().evaluationDate"
   ]
  },
  {
   "cell_type": "code",
   "execution_count": 12,
   "metadata": {},
   "outputs": [],
   "source": [
    "dc = ql.Actual360()"
   ]
  },
  {
   "cell_type": "code",
   "execution_count": 13,
   "metadata": {},
   "outputs": [],
   "source": [
    "spot = ql.SimpleQuote(100.0)"
   ]
  },
  {
   "cell_type": "code",
   "execution_count": 14,
   "metadata": {},
   "outputs": [],
   "source": [
    "rTS = ql.FlatForward(today, 0.01, dc)"
   ]
  },
  {
   "cell_type": "code",
   "execution_count": 15,
   "metadata": {},
   "outputs": [],
   "source": [
    "volTS = ql.BlackConstantVol(today, ql.NullCalendar(), 0.20, dc)"
   ]
  },
  {
   "cell_type": "code",
   "execution_count": 16,
   "metadata": {},
   "outputs": [],
   "source": [
    "volHandle = ql.RelinkableBlackVolTermStructureHandle(volTS)"
   ]
  },
  {
   "cell_type": "code",
   "execution_count": 17,
   "metadata": {},
   "outputs": [],
   "source": [
    "stochProcess = ql.BlackScholesProcess(ql.QuoteHandle(spot), ql.YieldTermStructureHandle(rTS), volHandle)"
   ]
  },
  {
   "cell_type": "code",
   "execution_count": 18,
   "metadata": {},
   "outputs": [],
   "source": [
    "exerciseDate = today + ql.Period(\"6M\")"
   ]
  },
  {
   "cell_type": "code",
   "execution_count": 19,
   "metadata": {},
   "outputs": [],
   "source": [
    "payoff = ql.PlainVanillaPayoff(ql.Option.Call,100.0)"
   ]
  },
  {
   "cell_type": "code",
   "execution_count": 20,
   "metadata": {},
   "outputs": [],
   "source": [
    "exercise = ql.EuropeanExercise(exerciseDate)"
   ]
  },
  {
   "cell_type": "code",
   "execution_count": 21,
   "metadata": {},
   "outputs": [],
   "source": [
    "knockIn = ql.BarrierOption(ql.Barrier.DownIn, 90.0, 0.0, payoff, exercise)"
   ]
  },
  {
   "cell_type": "code",
   "execution_count": 22,
   "metadata": {},
   "outputs": [],
   "source": [
    "knockOut = ql.BarrierOption(ql.Barrier.DownOut, 90.0, 0.0, payoff, exercise)"
   ]
  },
  {
   "cell_type": "code",
   "execution_count": 23,
   "metadata": {},
   "outputs": [],
   "source": [
    "european = ql.EuropeanOption(payoff, exercise)"
   ]
  },
  {
   "cell_type": "code",
   "execution_count": 24,
   "metadata": {},
   "outputs": [],
   "source": [
    "barrierEngine = ql.AnalyticBarrierEngine(stochProcess)"
   ]
  },
  {
   "cell_type": "code",
   "execution_count": 25,
   "metadata": {},
   "outputs": [],
   "source": [
    "europeanEngine = ql.AnalyticEuropeanEngine(stochProcess)"
   ]
  },
  {
   "cell_type": "code",
   "execution_count": 26,
   "metadata": {},
   "outputs": [],
   "source": [
    "knockIn.setPricingEngine(barrierEngine)"
   ]
  },
  {
   "cell_type": "code",
   "execution_count": 27,
   "metadata": {},
   "outputs": [],
   "source": [
    "knockOut.setPricingEngine(barrierEngine)\n",
    "european.setPricingEngine(europeanEngine)"
   ]
  },
  {
   "cell_type": "code",
   "execution_count": 28,
   "metadata": {},
   "outputs": [],
   "source": [
    "replicated = knockIn.NPV() + knockOut.NPV()"
   ]
  },
  {
   "cell_type": "code",
   "execution_count": 29,
   "metadata": {},
   "outputs": [
    {
     "data": {
      "text/plain": [
       "5.892929344701621"
      ]
     },
     "execution_count": 29,
     "metadata": {},
     "output_type": "execute_result"
    }
   ],
   "source": [
    "replicated"
   ]
  },
  {
   "cell_type": "code",
   "execution_count": 30,
   "metadata": {},
   "outputs": [],
   "source": [
    "expected = european.NPV()"
   ]
  },
  {
   "cell_type": "code",
   "execution_count": 31,
   "metadata": {},
   "outputs": [
    {
     "data": {
      "text/plain": [
       "5.8929293447016216"
      ]
     },
     "execution_count": 31,
     "metadata": {},
     "output_type": "execute_result"
    }
   ],
   "source": [
    "expected"
   ]
  },
  {
   "cell_type": "code",
   "execution_count": 32,
   "metadata": {},
   "outputs": [],
   "source": [
    "#barrierType,barrier,rebate,type,strike,s,q,r,t,vol25Put,volAtm,vol25Call,vol, result, tol"
   ]
  },
  {
   "cell_type": "code",
   "execution_count": 33,
   "metadata": {},
   "outputs": [],
   "source": [
    "values = [\n",
    "    [ql.Barrier.UpOut,1.5,0,     ql.Option.Call,1.13321,1.30265,0.0003541,0.0033871,1,0.10087,0.08925,0.08463,0.11638,0.148127, 1.0e-4]\n",
    "]"
   ]
  },
  {
   "cell_type": "code",
   "execution_count": 34,
   "metadata": {},
   "outputs": [],
   "source": [
    "dc = ql.Actual365Fixed()\n",
    "today = ql.Date(5, ql.March, 2013)\n",
    "ql.Settings.instance().evaluationDate = today\n",
    "\n",
    "spot = ql.SimpleQuote(0.0)\n",
    "qRate = ql.SimpleQuote(0.0)\n",
    "qTS = ql.FlatForward(today, ql.QuoteHandle(qRate), dc)\n",
    "rRate = ql.SimpleQuote(0.0)\n",
    "rTS = ql.FlatForward(today, ql.QuoteHandle(rRate), dc)\n",
    "vol25Put = ql.SimpleQuote(0.0)\n",
    "volAtm = ql.SimpleQuote(0.0)\n",
    "vol25Call = ql.SimpleQuote(0.0)"
   ]
  },
  {
   "cell_type": "code",
   "execution_count": 35,
   "metadata": {},
   "outputs": [],
   "source": [
    "import math as m"
   ]
  },
  {
   "cell_type": "code",
   "execution_count": 36,
   "metadata": {},
   "outputs": [
    {
     "name": "stdout",
     "output_type": "stream",
     "text": [
      "0.1803473877434823\n",
      "0.148127\n"
     ]
    }
   ],
   "source": [
    "for i in range(0, len(values)):\n",
    "    spot.setValue(values[i][5])\n",
    "    qRate.setValue(values[i][6])\n",
    "    rRate.setValue(values[i][7])\n",
    "    vol25Put.setValue(values[i][8])\n",
    "    volAtm.setValue(values[i][10])\n",
    "    vol25Call.setValue(values[i][11])  \n",
    "    payoff = ql.PlainVanillaPayoff(values[i][3], values[i][4])\n",
    "    exDate = today + int(values[i][8]*365+0.5)\n",
    "    exercise = ql.EuropeanExercise(exDate)\n",
    "    volAtmQuote = ql.DeltaVolQuoteHandle(ql.DeltaVolQuote(ql.QuoteHandle(volAtm),\n",
    "                                                         ql.DeltaVolQuote.Fwd,\n",
    "                                                         values[i][8],\n",
    "                                                         ql.DeltaVolQuote.AtmDeltaNeutral))\n",
    "    vol25PutQuote = ql.DeltaVolQuoteHandle(ql.DeltaVolQuote(-0.25,\n",
    "                                                            ql.QuoteHandle(vol25Put),\n",
    "                                                         ql.DeltaVolQuote.Fwd,\n",
    "                                                         values[i][8]))\n",
    "    vol25CallQuote = ql.DeltaVolQuoteHandle(ql.DeltaVolQuote(0.25,\n",
    "                                                            ql.QuoteHandle(vol25Call),\n",
    "                                                         ql.DeltaVolQuote.Fwd,\n",
    "                                                         values[i][8]))    \n",
    "    barrierOption = ql.BarrierOption(values[i][0],\n",
    "                                    values[i][1],\n",
    "                                    values[i][2],\n",
    "                                    payoff,\n",
    "                                    exercise)\n",
    "    \n",
    "    bsVanillaPrice = ql.blackFormula(values[i][3], values[i][4],\n",
    "                 spot.value()*qTS.discount(values[i][8])/rTS.discount(values[i][8]),\n",
    "                 values[i][12] * m.sqrt(values[i][8]), rTS.discount(values[i][8]))\n",
    "    vannaVolgaEngine = ql.VannaVolgaBarrierEngine(volAtmQuote,\n",
    "                                                vol25PutQuote,\n",
    "                                                vol25CallQuote,\n",
    "                                                ql.QuoteHandle(spot),\n",
    "                                                ql.YieldTermStructureHandle(rTS),\n",
    "                                                ql.YieldTermStructureHandle(qTS),\n",
    "                                                True,\n",
    "                                                bsVanillaPrice)\n",
    "    barrierOption.setPricingEngine(vannaVolgaEngine)\n",
    "    calculated = barrierOption.NPV()\n",
    "    expected = values[i][13]\n",
    "    error = abs(calculated-expected)\n",
    "    print(calculated)\n",
    "    print (expected)"
   ]
  },
  {
   "cell_type": "code",
   "execution_count": 37,
   "metadata": {},
   "outputs": [
    {
     "data": {
      "text/plain": [
       "0.08925"
      ]
     },
     "execution_count": 37,
     "metadata": {},
     "output_type": "execute_result"
    }
   ],
   "source": [
    "volAtmQuote.value()"
   ]
  },
  {
   "cell_type": "code",
   "execution_count": 38,
   "metadata": {},
   "outputs": [
    {
     "data": {
      "text/plain": [
       "0.1803473877434823"
      ]
     },
     "execution_count": 38,
     "metadata": {},
     "output_type": "execute_result"
    }
   ],
   "source": [
    "bsVanillaPrice"
   ]
  },
  {
   "cell_type": "code",
   "execution_count": 39,
   "metadata": {},
   "outputs": [
    {
     "data": {
      "text/plain": [
       "0.08463"
      ]
     },
     "execution_count": 39,
     "metadata": {},
     "output_type": "execute_result"
    }
   ],
   "source": [
    "vol25Call.value()"
   ]
  }
 ],
 "metadata": {
  "kernelspec": {
   "display_name": "Python 3",
   "language": "python",
   "name": "python3"
  },
  "language_info": {
   "codemirror_mode": {
    "name": "ipython",
    "version": 3
   },
   "file_extension": ".py",
   "mimetype": "text/x-python",
   "name": "python",
   "nbconvert_exporter": "python",
   "pygments_lexer": "ipython3",
   "version": "3.6.3"
  }
 },
 "nbformat": 4,
 "nbformat_minor": 2
}
