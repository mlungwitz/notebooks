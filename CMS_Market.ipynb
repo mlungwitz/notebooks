{
 "cells": [
  {
   "cell_type": "code",
   "execution_count": 1,
   "metadata": {},
   "outputs": [],
   "source": [
    "import QuantLib as ql"
   ]
  },
  {
   "cell_type": "code",
   "execution_count": 2,
   "metadata": {},
   "outputs": [],
   "source": [
    "calendar = ql.TARGET()"
   ]
  },
  {
   "cell_type": "code",
   "execution_count": 3,
   "metadata": {},
   "outputs": [],
   "source": [
    "referenceDate = calendar.adjust(ql.Date.todaysDate())"
   ]
  },
  {
   "cell_type": "code",
   "execution_count": 4,
   "metadata": {},
   "outputs": [],
   "source": [
    "ql.Settings.instance().evaluationDate = referenceDate"
   ]
  },
  {
   "cell_type": "code",
   "execution_count": 5,
   "metadata": {},
   "outputs": [],
   "source": [
    "termStructure = ql.RelinkableYieldTermStructureHandle()"
   ]
  },
  {
   "cell_type": "code",
   "execution_count": 6,
   "metadata": {},
   "outputs": [],
   "source": [
    "flat_fwd = ql.FlatForward(referenceDate, 0.05,\n",
    "                                          ql.Actual365Fixed())"
   ]
  },
  {
   "cell_type": "code",
   "execution_count": 7,
   "metadata": {},
   "outputs": [],
   "source": [
    "termStructure.linkTo(flat_fwd)"
   ]
  },
  {
   "cell_type": "code",
   "execution_count": 8,
   "metadata": {},
   "outputs": [],
   "source": [
    "atmOptionTenors = [ql.Period(i) for i in [\"1M\",\"6M\",\"1Y\",\"5Y\",\"10Y\",\"30Y\"] ]"
   ]
  },
  {
   "cell_type": "code",
   "execution_count": 9,
   "metadata": {},
   "outputs": [],
   "source": [
    "atmSwapTenors = [ql.Period(i) for i in [\"1Y\",\"5Y\",\"10Y\",\"30Y\"] ]"
   ]
  },
  {
   "cell_type": "code",
   "execution_count": 10,
   "metadata": {},
   "outputs": [],
   "source": [
    "m = [[0.0 for i in atmSwapTenors] for j in atmOptionTenors]"
   ]
  },
  {
   "cell_type": "code",
   "execution_count": 11,
   "metadata": {},
   "outputs": [],
   "source": [
    "m[0][0]=ql.QuoteHandle(ql.SimpleQuote(0.1300))\n",
    "m[0][1]=ql.QuoteHandle(ql.SimpleQuote(0.1560))\n",
    "m[0][2]=ql.QuoteHandle(ql.SimpleQuote(0.1390))\n",
    "m[0][3]=ql.QuoteHandle(ql.SimpleQuote(0.1220))\n",
    "m[1][0]=ql.QuoteHandle(ql.SimpleQuote(0.1440))\n",
    "m[1][1]=ql.QuoteHandle(ql.SimpleQuote(0.1580))\n",
    "m[1][2]=ql.QuoteHandle(ql.SimpleQuote(0.1460))\n",
    "m[1][3]=ql.QuoteHandle(ql.SimpleQuote(0.1260))\n",
    "m[2][0]=ql.QuoteHandle(ql.SimpleQuote(0.1600))\n",
    "m[2][1]=ql.QuoteHandle(ql.SimpleQuote(0.1590))\n",
    "m[2][2]=ql.QuoteHandle(ql.SimpleQuote(0.1470))\n",
    "m[2][3]=ql.QuoteHandle(ql.SimpleQuote(0.1290))\n",
    "m[3][0]=ql.QuoteHandle(ql.SimpleQuote(0.1640))\n",
    "m[3][1]=ql.QuoteHandle(ql.SimpleQuote(0.1470))\n",
    "m[3][2]=ql.QuoteHandle(ql.SimpleQuote(0.1370))\n",
    "m[3][3]=ql.QuoteHandle(ql.SimpleQuote(0.1220))\n",
    "m[4][0]=ql.QuoteHandle(ql.SimpleQuote(0.1400))\n",
    "m[4][1]=ql.QuoteHandle(ql.SimpleQuote(0.1300))\n",
    "m[4][2]=ql.QuoteHandle(ql.SimpleQuote(0.1250))\n",
    "m[4][3]=ql.QuoteHandle(ql.SimpleQuote(0.1100))\n",
    "m[5][0]=ql.QuoteHandle(ql.SimpleQuote(0.1130))\n",
    "m[5][1]=ql.QuoteHandle(ql.SimpleQuote(0.1090))\n",
    "m[5][2]=ql.QuoteHandle(ql.SimpleQuote(0.1070))\n",
    "m[5][3]=ql.QuoteHandle(ql.SimpleQuote(0.0930))"
   ]
  },
  {
   "cell_type": "code",
   "execution_count": 12,
   "metadata": {},
   "outputs": [],
   "source": [
    "atmVol = ql.SwaptionVolatilityStructureHandle(ql.SwaptionVolatilityMatrix(calendar,\n",
    "                                                                         ql.Following,\n",
    "                                                                         atmOptionTenors,\n",
    "                                                                         atmSwapTenors,\n",
    "                                                                         m,\n",
    "                                                                         ql.Actual365Fixed()))"
   ]
  },
  {
   "cell_type": "code",
   "execution_count": 13,
   "metadata": {},
   "outputs": [],
   "source": [
    "optionTenors = [ql.Period(i) for i in [\"1Y\",\"10Y\",\"30Y\"]]"
   ]
  },
  {
   "cell_type": "code",
   "execution_count": 14,
   "metadata": {},
   "outputs": [],
   "source": [
    "swapTenors = [ql.Period(i) for i in [\"2Y\",\"10Y\",\"30Y\"]]"
   ]
  },
  {
   "cell_type": "code",
   "execution_count": 15,
   "metadata": {},
   "outputs": [],
   "source": [
    "strikeSpreads = [-0.02,-0.005,0.0,0.005,0.02]"
   ]
  },
  {
   "cell_type": "code",
   "execution_count": 16,
   "metadata": {},
   "outputs": [],
   "source": [
    "nRows = len(optionTenors) * len(swapTenors)"
   ]
  },
  {
   "cell_type": "code",
   "execution_count": 17,
   "metadata": {},
   "outputs": [],
   "source": [
    "nCols = len(strikeSpreads)"
   ]
  },
  {
   "cell_type": "code",
   "execution_count": 18,
   "metadata": {},
   "outputs": [],
   "source": [
    "volSpreadsMatrix = [[0.0 for i in range(nCols)] for j in range(nRows)]"
   ]
  },
  {
   "cell_type": "code",
   "execution_count": 19,
   "metadata": {},
   "outputs": [
    {
     "data": {
      "text/plain": [
       "[[0.0, 0.0, 0.0, 0.0, 0.0],\n",
       " [0.0, 0.0, 0.0, 0.0, 0.0],\n",
       " [0.0, 0.0, 0.0, 0.0, 0.0],\n",
       " [0.0, 0.0, 0.0, 0.0, 0.0],\n",
       " [0.0, 0.0, 0.0, 0.0, 0.0],\n",
       " [0.0, 0.0, 0.0, 0.0, 0.0],\n",
       " [0.0, 0.0, 0.0, 0.0, 0.0],\n",
       " [0.0, 0.0, 0.0, 0.0, 0.0],\n",
       " [0.0, 0.0, 0.0, 0.0, 0.0]]"
      ]
     },
     "execution_count": 19,
     "metadata": {},
     "output_type": "execute_result"
    }
   ],
   "source": [
    "volSpreadsMatrix"
   ]
  },
  {
   "cell_type": "code",
   "execution_count": 20,
   "metadata": {},
   "outputs": [],
   "source": [
    "volSpreadsMatrix[0][0] =  0.0599;\n",
    "volSpreadsMatrix[0][1] =  0.0049;\n",
    "volSpreadsMatrix[0][2] =  0.0000;\n",
    "volSpreadsMatrix[0][3] = -0.0001;\n",
    "volSpreadsMatrix[0][4] =  0.0127;\n",
    "\n",
    "volSpreadsMatrix[1][0] =  0.0729;\n",
    "volSpreadsMatrix[1][1] =  0.0086;\n",
    "volSpreadsMatrix[1][2] =  0.0000;\n",
    "volSpreadsMatrix[1][3] = -0.0024;\n",
    "volSpreadsMatrix[1][4] =  0.0098;\n",
    "\n",
    "volSpreadsMatrix[2][0] =  0.0738;\n",
    "volSpreadsMatrix[2][1] =  0.0102;\n",
    "volSpreadsMatrix[2][2] =  0.0000;\n",
    "volSpreadsMatrix[2][3] = -0.0039;\n",
    "volSpreadsMatrix[2][4] =  0.0065;\n",
    "\n",
    "volSpreadsMatrix[3][0] =  0.0465;\n",
    "volSpreadsMatrix[3][1] =  0.0063;\n",
    "volSpreadsMatrix[3][2] =  0.0000;\n",
    "volSpreadsMatrix[3][3] = -0.0032;\n",
    "volSpreadsMatrix[3][4] = -0.0010;\n",
    "\n",
    "volSpreadsMatrix[4][0] =  0.0558;\n",
    "volSpreadsMatrix[4][1] =  0.0084;\n",
    "volSpreadsMatrix[4][2] =  0.0000;\n",
    "volSpreadsMatrix[4][3] = -0.0050;\n",
    "volSpreadsMatrix[4][4] = -0.0057;\n",
    "\n",
    "volSpreadsMatrix[5][0] =  0.0576;\n",
    "volSpreadsMatrix[5][1] =  0.0083;\n",
    "volSpreadsMatrix[5][2] =  0.0000;\n",
    "volSpreadsMatrix[5][3] = -0.0043;\n",
    "volSpreadsMatrix[5][4] = -0.0014;\n",
    "\n",
    "volSpreadsMatrix[6][0] =  0.0437;\n",
    "volSpreadsMatrix[6][1] =  0.0059;\n",
    "volSpreadsMatrix[6][2] =  0.0000;\n",
    "volSpreadsMatrix[6][3] = -0.0030;\n",
    "volSpreadsMatrix[6][4] = -0.0006;\n",
    "\n",
    "volSpreadsMatrix[7][0] =  0.0533;\n",
    "volSpreadsMatrix[7][1] =  0.0078;\n",
    "volSpreadsMatrix[7][2] =  0.0000;\n",
    "volSpreadsMatrix[7][3] = -0.0045;\n",
    "volSpreadsMatrix[7][4] = -0.0046;\n",
    "\n",
    "volSpreadsMatrix[8][0] =  0.0545;\n",
    "volSpreadsMatrix[8][1] =  0.0079;\n",
    "volSpreadsMatrix[8][2] =  0.0000;\n",
    "volSpreadsMatrix[8][3] = -0.0042;\n",
    "volSpreadsMatrix[8][4] = -0.0020;"
   ]
  },
  {
   "cell_type": "code",
   "execution_count": 21,
   "metadata": {},
   "outputs": [],
   "source": [
    "volSpreads = [[ql.QuoteHandle(ql.SimpleQuote(x)) for x in row] for row in volSpreadsMatrix]\n"
   ]
  },
  {
   "cell_type": "code",
   "execution_count": 22,
   "metadata": {},
   "outputs": [],
   "source": [
    "iborIndex = ql.Euribor6M(termStructure)"
   ]
  },
  {
   "cell_type": "code",
   "execution_count": 23,
   "metadata": {},
   "outputs": [],
   "source": [
    "swapIndexBase = ql.EuriborSwapIsdaFixA(ql.Period(\"10Y\"), termStructure)"
   ]
  },
  {
   "cell_type": "code",
   "execution_count": 24,
   "metadata": {},
   "outputs": [],
   "source": [
    "shortSwapIndexBase = ql.EuriborSwapIsdaFixA(ql.Period(\"2Y\"), termStructure)"
   ]
  },
  {
   "cell_type": "code",
   "execution_count": 25,
   "metadata": {},
   "outputs": [],
   "source": [
    "vegaWeightedSmileFit = False"
   ]
  },
  {
   "cell_type": "code",
   "execution_count": 26,
   "metadata": {},
   "outputs": [],
   "source": [
    "SabrVolCube2 = ql.SwaptionVolatilityStructureHandle(ql.SwaptionVolCube2(atmVol,\n",
    "                                                                       optionTenors,\n",
    "                                     swapTenors,\n",
    "                                     strikeSpreads,\n",
    "                                     volSpreads,\n",
    "                                     swapIndexBase,\n",
    "                                     shortSwapIndexBase,\n",
    "                                     vegaWeightedSmileFit))"
   ]
  },
  {
   "cell_type": "code",
   "execution_count": 27,
   "metadata": {},
   "outputs": [],
   "source": [
    "SabrVolCube2.enableExtrapolation()"
   ]
  },
  {
   "cell_type": "code",
   "execution_count": 28,
   "metadata": {},
   "outputs": [],
   "source": [
    "guess = [[ql.QuoteHandle(ql.SimpleQuote(x)) for x in [0.2,0.5,0.4,0.0]] for i in range(nRows)]"
   ]
  },
  {
   "cell_type": "code",
   "execution_count": 29,
   "metadata": {},
   "outputs": [],
   "source": [
    "isParameterFixed = [False]*4"
   ]
  },
  {
   "cell_type": "code",
   "execution_count": 30,
   "metadata": {},
   "outputs": [],
   "source": [
    "isParameterFixed[1] = True"
   ]
  },
  {
   "cell_type": "code",
   "execution_count": 31,
   "metadata": {},
   "outputs": [],
   "source": [
    "isAtmCalibrated = False"
   ]
  },
  {
   "cell_type": "code",
   "execution_count": 32,
   "metadata": {},
   "outputs": [],
   "source": [
    "SabrVolCube1  = ql.SwaptionVolatilityStructureHandle(ql.SwaptionVolCube1(atmVol,\n",
    "                                                                       optionTenors,\n",
    "                                     swapTenors,\n",
    "                                     strikeSpreads,\n",
    "                                     volSpreads,\n",
    "                                     swapIndexBase,\n",
    "                                     shortSwapIndexBase,\n",
    "                                     vegaWeightedSmileFit,\n",
    "                                     guess,\n",
    "                                     isParameterFixed,\n",
    "                                     isAtmCalibrated))"
   ]
  },
  {
   "cell_type": "code",
   "execution_count": 33,
   "metadata": {},
   "outputs": [],
   "source": [
    "SabrVolCube1.enableExtrapolation()"
   ]
  },
  {
   "cell_type": "code",
   "execution_count": 34,
   "metadata": {},
   "outputs": [],
   "source": [
    "yieldCurveModels = [ql.GFunctionFactory.Standard, \n",
    "                    ql.GFunctionFactory.ExactYield,\n",
    "                    ql.GFunctionFactory.ParallelShifts,\n",
    "                    ql.GFunctionFactory.NonParallelShifts,\n",
    "                    ql.GFunctionFactory.NonParallelShifts]"
   ]
  },
  {
   "cell_type": "code",
   "execution_count": 35,
   "metadata": {},
   "outputs": [],
   "source": [
    "zeroMeanRev = ql.QuoteHandle(ql.SimpleQuote(0.0))"
   ]
  },
  {
   "cell_type": "code",
   "execution_count": 36,
   "metadata": {},
   "outputs": [],
   "source": [
    "numericalPricers = [ql.NumericHaganPricer(atmVol, yieldCurveModels[j], zeroMeanRev) for j in range(0,len(yieldCurveModels)-1)]"
   ]
  },
  {
   "cell_type": "code",
   "execution_count": 37,
   "metadata": {},
   "outputs": [],
   "source": [
    "numericalPricers+=[ql.LinearTsrPricer(atmVol, zeroMeanRev)]"
   ]
  },
  {
   "cell_type": "code",
   "execution_count": 38,
   "metadata": {},
   "outputs": [],
   "source": [
    "analyticPricers = [ql.AnalyticHaganPricer(atmVol, yieldCurveModels[j], zeroMeanRev) for j in range(0,len(yieldCurveModels))]"
   ]
  },
  {
   "cell_type": "code",
   "execution_count": 39,
   "metadata": {},
   "outputs": [],
   "source": [
    "swap_lengths = [ql.Period(\"5Y\"), ql.Period(\"10Y\")]\n",
    "swap_indices = [ql.EuriborSwapIsdaFixA(p, termStructure) for p in swap_lengths]\n",
    "ibor_index = ql.Euribor6M(termStructure)\n",
    "bid_ask_spreads = [[ql.QuoteHandle(ql.SimpleQuote(0.01)) for i in range(0,4)] for j in swap_lengths]"
   ]
  },
  {
   "cell_type": "code",
   "execution_count": 40,
   "metadata": {},
   "outputs": [],
   "source": [
    "cms_market=ql.CmsMarket(swap_lengths, ql.SwapIndexVector(swap_indices), ibor_index, bid_ask_spreads, ql.CmsCouponPricerVector([numericalPricers[-1],numericalPricers[-1]]), termStructure)"
   ]
  },
  {
   "cell_type": "code",
   "execution_count": 44,
   "metadata": {},
   "outputs": [],
   "source": [
    "cms_calibration = ql.CmsMarketCalibration(SabrVolCube1, cms_market, ql.Matrix(2,2,1.0), ql.CmsMarketCalibration.OnPrice)"
   ]
  }
 ],
 "metadata": {
  "kernelspec": {
   "display_name": "Python 3",
   "language": "python",
   "name": "python3"
  },
  "language_info": {
   "codemirror_mode": {
    "name": "ipython",
    "version": 3
   },
   "file_extension": ".py",
   "mimetype": "text/x-python",
   "name": "python",
   "nbconvert_exporter": "python",
   "pygments_lexer": "ipython3",
   "version": "3.6.3"
  }
 },
 "nbformat": 4,
 "nbformat_minor": 2
}
