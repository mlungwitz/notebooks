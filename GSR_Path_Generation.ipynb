{
 "cells": [
  {
   "cell_type": "code",
   "execution_count": 1,
   "metadata": {},
   "outputs": [],
   "source": [
    "import QuantLib as ql"
   ]
  },
  {
   "cell_type": "code",
   "execution_count": 2,
   "metadata": {},
   "outputs": [],
   "source": [
    "reversion = 0.01\n",
    "evalDate = ql.Date(31,5,2019)\n",
    "number_of_scenarios = 250\n",
    "seed = 42\n",
    "stress = True\n",
    "shifted_lognormal = False"
   ]
  },
  {
   "cell_type": "code",
   "execution_count": 3,
   "metadata": {},
   "outputs": [],
   "source": [
    "leh_x = [1.0/12.0, 3.0/12.0, 6.0/12.0, 9.0/12.0, 1.0, 2.0] # swaps\n",
    "leh_y = [1.0, 2.0] # options\n",
    "leh_z = ql.Matrix(2,6)\n",
    "leh_z[0][0] = 0.01111\n",
    "leh_z[0][1] = 0.0112\n",
    "leh_z[0][2] = 0.010265\n",
    "leh_z[0][3] = 0.0103\n",
    "leh_z[0][4] = 0.00985\n",
    "leh_z[0][5] = 0.008580\n",
    "leh_z[1][0] = 0.0139\n",
    "leh_z[1][1] = 0.0128\n",
    "leh_z[1][2] = 0.01084\n",
    "leh_z[1][3] = 0.01012\n",
    "leh_z[1][4] = 0.009635\n",
    "leh_z[1][5] = 0.008545"
   ]
  },
  {
   "cell_type": "code",
   "execution_count": 4,
   "metadata": {},
   "outputs": [],
   "source": [
    "leh_i = ql.BilinearInterpolation(leh_x, leh_y, leh_z)"
   ]
  },
  {
   "cell_type": "code",
   "execution_count": 5,
   "metadata": {
    "scrolled": true
   },
   "outputs": [],
   "source": [
    "#leh_i.enableExtrapolation()"
   ]
  },
  {
   "cell_type": "code",
   "execution_count": 6,
   "metadata": {},
   "outputs": [],
   "source": [
    "lehmanBpVols = [leh_i(x,y, True) for (x,y) in [(1.0/12.0,23.0/12.0), (2.0/12.0, 22.0/12.0), (3.0/12.0, 21.0/12.0),\n",
    "                                               (6.0/12.0, 18.0/12.0), (9.0/12.0, 15.0/12.0), (1.0,1.0), (18.0/12.0, 6.0/12.0)]]"
   ]
  },
  {
   "cell_type": "code",
   "execution_count": 7,
   "metadata": {},
   "outputs": [
    {
     "data": {
      "text/plain": [
       "[0.013667499999999999,\n",
       " 0.012984166666666665,\n",
       " 0.012400000000000001,\n",
       " 0.0105525,\n",
       " 0.010255,\n",
       " 0.00985,\n",
       " 0.009277500000000001]"
      ]
     },
     "execution_count": 7,
     "metadata": {},
     "output_type": "execute_result"
    }
   ],
   "source": [
    "lehmanBpVols"
   ]
  },
  {
   "cell_type": "code",
   "execution_count": 8,
   "metadata": {},
   "outputs": [],
   "source": [
    "settlDate = ql.TARGET().advance(evalDate, ql.Period(\"2D\"))"
   ]
  },
  {
   "cell_type": "code",
   "execution_count": 9,
   "metadata": {},
   "outputs": [],
   "source": [
    "ql.Settings.instance().evaluationDate = evalDate"
   ]
  },
  {
   "cell_type": "code",
   "execution_count": 10,
   "metadata": {},
   "outputs": [
    {
     "name": "stdout",
     "output_type": "stream",
     "text": [
      "evaluation date is  May 31st, 2019\n",
      "mean reversion is  0.01\n"
     ]
    }
   ],
   "source": [
    "print (\"evaluation date is \", evalDate)\n",
    "print (\"mean reversion is \", reversion)"
   ]
  },
  {
   "cell_type": "code",
   "execution_count": 11,
   "metadata": {},
   "outputs": [],
   "source": [
    "eureonia = ql.FlatForward(evalDate, ql.QuoteHandle(ql.SimpleQuote(-0.004)), ql.Actual365Fixed())\n",
    "eurstd = ql.FlatForward(evalDate, ql.QuoteHandle(ql.SimpleQuote(-0.002)), ql.Actual365Fixed())\n",
    "eur1m = ql.FlatForward(evalDate, ql.QuoteHandle(ql.SimpleQuote(-0.0035)), ql.Actual365Fixed())\n",
    "eur3m = ql.FlatForward(evalDate, ql.QuoteHandle(ql.SimpleQuote(-0.003)), ql.Actual365Fixed())\n",
    "eur6m = ql.FlatForward(evalDate, ql.QuoteHandle(ql.SimpleQuote(-0.002)), ql.Actual365Fixed())\n",
    "eur1y = ql.FlatForward(evalDate, ql.QuoteHandle(ql.SimpleQuote(-0.001)), ql.Actual365Fixed())\n",
    "\n",
    "eonia = ql.Eonia(ql.YieldTermStructureHandle(eureonia))\n",
    "euribor1m = ql.Euribor1M(ql.YieldTermStructureHandle(eur1m))\n",
    "euribor3m = ql.Euribor3M(ql.YieldTermStructureHandle(eur3m))\n",
    "euribor6m = ql.Euribor6M(ql.YieldTermStructureHandle(eur6m))\n",
    "euribor1y = ql.Euribor1Y(ql.YieldTermStructureHandle(eur1y))"
   ]
  },
  {
   "cell_type": "code",
   "execution_count": 12,
   "metadata": {},
   "outputs": [
    {
     "name": "stdout",
     "output_type": "stream",
     "text": [
      "date;startDate;MaturityDate;forward rate;instantaneous forward rate\n",
      "eonia\n",
      "dcc curve:  Actual/365 (Fixed) day counter\n",
      "dcc index:  Actual/360 day counter\n",
      "2019-05-31 ; 2019-05-31 ; 2019-06-03 ; -0.003999999999644115 ; -0.0039451406274748635 ; -0.0039451406274748635 ; -0.0039451406274748635\n",
      "2019-06-03 ; 2019-06-03 ; 2019-06-04 ; -0.004000000000004982 ; -0.003945183861997492 ; -0.003945183861997492 ; -0.003945183861997492\n",
      "2019-06-04 ; 2019-06-04 ; 2019-06-05 ; -0.004000000000004968 ; -0.003945183861957524 ; -0.003945183861957524 ; -0.003945183861957524\n",
      "2019-06-05 ; 2019-06-05 ; 2019-06-06 ; -0.004000000000000169 ; -0.003945183861957524 ; -0.003945183861957524 ; -0.003945183861957524\n",
      "2019-06-06 ; 2019-06-06 ; 2019-06-07 ; -0.004000000000000716 ; -0.003945183861957524 ; -0.003945183861957524 ; -0.003945183861957524\n",
      "2019-06-07 ; 2019-06-07 ; 2019-06-10 ; -0.003999999999999372 ; -0.003945140627461541 ; -0.003945140627461541 ; -0.003945140627461541\n",
      "2019-06-10 ; 2019-06-10 ; 2019-06-11 ; -0.003999999999999655 ; -0.003945183861957524 ; -0.003945183861957524 ; -0.003945183861957524\n",
      "eur1M\n",
      "dcc curve:  Actual/365 (Fixed) day counter\n",
      "dcc index:  Actual/360 day counter\n",
      "2019-05-31 ; -0.003499999999479908 ; -0.0034515583136980332 ; -0.0034999999999905714\n",
      "2019-06-03 ; -0.003500000000007973 ; -0.00345155831370203 ; -0.0034999999999905714\n",
      "2019-06-04 ; -0.0034999999999975944 ; -0.0034515252183629774 ; -0.0034999999999500483\n",
      "2019-06-05 ; -0.0034999999999880066 ; -0.0034515417659768616 ; -0.003500000000071619\n",
      "2019-06-06 ; -0.0034999999999994723 ; -0.0034515583136980332 ; -0.0035000000000310954\n",
      "2019-06-07 ; -0.00350000000000594 ; -0.0034515583136993655 ; -0.0034999999999905714\n",
      "2019-06-10 ; -0.0035000000000046296 ; -0.0034515583137006978 ; -0.0034999999999500483\n",
      "eur3M\n",
      "dcc curve:  Actual/365 (Fixed) day counter\n",
      "dcc index:  Actual/360 day counter\n",
      "2019-05-31 ; -0.0029999999998907853 ; -0.0029577856825606075 ; -0.0030000000000338428\n",
      "2019-06-03 ; -0.0030000000000070335 ; -0.002957785682561042 ; -0.0029999999999933196\n",
      "2019-06-04 ; -0.0030000000000037362 ; -0.002957785682560173 ; -0.002999999999952796\n",
      "2019-06-05 ; -0.0029999999999882673 ; -0.0029577613751899674 ; -0.003000000000074367\n",
      "2019-06-06 ; -0.00300000000000723 ; -0.002957785682560173 ; -0.0029999999999933196\n",
      "2019-06-07 ; -0.0029999999999995473 ; -0.0029577856825606075 ; -0.0029999999999933196\n",
      "2019-06-10 ; -0.003000000000001896 ; -0.002957785682560173 ; -0.0029999999999933196\n",
      "eur6M\n",
      "dcc curve:  Actual/365 (Fixed) day counter\n",
      "dcc index:  Actual/360 day counter\n",
      "2019-05-31 ; -0.002000000001327577 ; -0.001971614066649034 ; -0.0019999999999705054\n",
      "2019-06-03 ; -0.0020000000000001228 ; -0.001971614066649034 ; -0.0019999999999705054\n",
      "2019-06-04 ; -0.001999999999995038 ; -0.0019716140666488154 ; -0.0020000000000110285\n",
      "2019-06-05 ; -0.0019999999999901993 ; -0.0019716032651289255 ; -0.0020000000000515517\n",
      "2019-06-06 ; -0.002000000000002491 ; -0.0019716140666483787 ; -0.0020000000000110285\n",
      "2019-06-07 ; -0.0019999999999986253 ; -0.0019716140666488154 ; -0.0020000000000110285\n",
      "2019-06-10 ; -0.0020000000000000846 ; -0.001971614066648597 ; -0.0019999999999705054\n",
      "eur1Y\n",
      "dcc curve:  Actual/365 (Fixed) day counter\n",
      "dcc index:  Actual/360 day counter\n",
      "2019-05-31 ; -0.0009999999995136063 ; -0.0009858070333244077 ; -0.00099999999997023\n",
      "2019-06-03 ; -0.0010000000000112811 ; -0.000985807033324517 ; -0.00099999999997023\n",
      "2019-06-04 ; -0.000999999999997661 ; -0.0009858043329396017 ; -0.0010000000000107531\n",
      "2019-06-05 ; -0.0009999999999990993 ; -0.000985805683130882 ; -0.0010000000000107531\n",
      "2019-06-06 ; -0.0010000000000000614 ; -0.000985807033324517 ; -0.0010000000000107531\n",
      "2019-06-07 ; -0.0009999999999996793 ; -0.0009858070333242984 ; -0.00099999999997023\n",
      "2019-06-10 ; -0.0009999999999950996 ; -0.0009858070333244077 ; -0.0010000000000917996\n"
     ]
    }
   ],
   "source": [
    "printForwards = True\n",
    "\n",
    "if (printForwards):\n",
    "    print(\"date;startDate;MaturityDate;forward rate;instantaneous forward rate\")\n",
    "    print(\"eonia\")\n",
    "    print(\"dcc curve: \",eureonia.dayCounter())\n",
    "    print(\"dcc index: \",eonia.dayCounter())\n",
    "    \n",
    "    d=evalDate\n",
    "    while (d <= ql.TARGET().advance(evalDate, ql.Period(\"1Y\"))):\n",
    "        start = eonia.valueDate(d)\n",
    "        end = eonia.maturityDate(start)\n",
    "        print(d.ISO(), \";\", start.ISO(), \";\", end.ISO(), \";\", eureonia.zeroRate(d, ql.Actual365Fixed(), ql.Continuous).rate(), \";\",\n",
    "             eonia.fixing(d), \";\", eureonia.forwardRate(start, end, ql.Actual360(), ql.Simple).rate(), \";\",\n",
    "             (eureonia.discount(start)/eureonia.discount(end) - 1) / ((end -start)/360.0))\n",
    "        d = ql.TARGET().advance(d, ql.Period(\"1D\"))\n",
    "        if (d> evalDate+10):\n",
    "            break\n",
    "\n",
    "    print(\"eur1M\")\n",
    "    print(\"dcc curve: \",eur1m.dayCounter())\n",
    "    print(\"dcc index: \",euribor1m.dayCounter())\n",
    "    \n",
    "    d=evalDate\n",
    "    while (d <= ql.TARGET().advance(evalDate, ql.Period(\"1Y\"))):\n",
    "        print(d.ISO(), \";\", eur1m.zeroRate(d, ql.Actual365Fixed(), ql.Continuous).rate(), \";\",\n",
    "             euribor1m.fixing(d), \";\", eur1m.forwardRate(d, d+ql.Period(\"1D\"), ql.Actual365Fixed(), ql.Continuous).rate())\n",
    "        d = ql.TARGET().advance(d, ql.Period(\"1D\"))\n",
    "        if (d> evalDate+10):\n",
    "            break\n",
    "            \n",
    "    print(\"eur3M\")\n",
    "    print(\"dcc curve: \",eur3m.dayCounter())\n",
    "    print(\"dcc index: \",euribor3m.dayCounter())\n",
    "    \n",
    "    d=evalDate\n",
    "    while (d <= ql.TARGET().advance(evalDate, ql.Period(\"1Y\"))):\n",
    "        print(d.ISO(), \";\", eur3m.zeroRate(d, ql.Actual365Fixed(), ql.Continuous).rate(), \";\",\n",
    "             euribor3m.fixing(d), \";\", eur3m.forwardRate(d, d+ql.Period(\"1D\"), ql.Actual365Fixed(), ql.Continuous).rate())\n",
    "        d = ql.TARGET().advance(d, ql.Period(\"1D\"))\n",
    "        if (d> evalDate+10):\n",
    "            break \n",
    "            \n",
    "    print(\"eur6M\")\n",
    "    print(\"dcc curve: \",eur6m.dayCounter())\n",
    "    print(\"dcc index: \",euribor6m.dayCounter())\n",
    "    \n",
    "    d=evalDate\n",
    "    while (d <= ql.TARGET().advance(evalDate, ql.Period(\"1Y\"))):\n",
    "        print(d.ISO(), \";\", eur6m.zeroRate(d, ql.Actual365Fixed(), ql.Continuous).rate(), \";\",\n",
    "             euribor6m.fixing(d), \";\", eur6m.forwardRate(d, d+ql.Period(\"1D\"), ql.Actual365Fixed(), ql.Continuous).rate())\n",
    "        d = ql.TARGET().advance(d, ql.Period(\"1D\"))\n",
    "        if (d> evalDate+10):\n",
    "            break    \n",
    "            \n",
    "    print(\"eur1Y\")\n",
    "    print(\"dcc curve: \",eur1y.dayCounter())\n",
    "    print(\"dcc index: \",euribor1y.dayCounter())\n",
    "    \n",
    "    d=evalDate\n",
    "    while (d <= ql.TARGET().advance(evalDate, ql.Period(\"1Y\"))):\n",
    "        print(d.ISO(), \";\", eur1y.zeroRate(d, ql.Actual365Fixed(), ql.Continuous).rate(), \";\",\n",
    "             euribor1y.fixing(d), \";\", eur1y.forwardRate(d, d+ql.Period(\"1D\"), ql.Actual365Fixed(), ql.Continuous).rate())\n",
    "        d = ql.TARGET().advance(d, ql.Period(\"1D\"))\n",
    "        if (d> evalDate+10):\n",
    "            break     "
   ]
  },
  {
   "cell_type": "code",
   "execution_count": 13,
   "metadata": {},
   "outputs": [],
   "source": [
    "swapIndexBase = ql.EuriborSwapIsdaFixA(ql.Period(\"10Y\"))"
   ]
  },
  {
   "cell_type": "code",
   "execution_count": 14,
   "metadata": {},
   "outputs": [],
   "source": [
    "opt_tenors = [ql.Period(1,ql.Years),ql.Period(2,ql.Years)]\n",
    "swap_tenors = [ql.Period(1,ql.Years),ql.Period(2,ql.Years)]\n",
    "atm_quotes = [[ql.QuoteHandle(ql.SimpleQuote(0.005))]*2 for i in opt_tenors]\n",
    "swvol = ql.SwaptionVolatilityMatrix(ql.TARGET(), ql.ModifiedFollowing, opt_tenors, swap_tenors,\n",
    "                                    atm_quotes, ql.Actual365Fixed(), True, ql.Normal)"
   ]
  },
  {
   "cell_type": "code",
   "execution_count": 15,
   "metadata": {},
   "outputs": [
    {
     "data": {
      "text/plain": [
       "0.005"
      ]
     },
     "execution_count": 15,
     "metadata": {},
     "output_type": "execute_result"
    }
   ],
   "source": [
    "swvol.volatility(evalDate+ql.Period(\"1Y\"), ql.Period(\"1Y\"), 0.0)"
   ]
  },
  {
   "cell_type": "code",
   "execution_count": 16,
   "metadata": {},
   "outputs": [],
   "source": [
    "eonia1m = ql.OvernightIndexedSwapIndex(\"eoniaswap\", ql.Period(\"1M\"), 0 , ql.EURCurrency(), eonia)\n",
    "eonia3m = ql.OvernightIndexedSwapIndex(\"eoniaswap\", ql.Period(\"3M\"), 0 , ql.EURCurrency(), eonia)\n",
    "eonia6m = ql.OvernightIndexedSwapIndex(\"eoniaswap\", ql.Period(\"6M\"), 0 , ql.EURCurrency(), eonia)\n",
    "eonia1y = ql.OvernightIndexedSwapIndex(\"eoniaswap\", ql.Period(\"1Y\"), 0 , ql.EURCurrency(), eonia)"
   ]
  },
  {
   "cell_type": "code",
   "execution_count": 17,
   "metadata": {},
   "outputs": [],
   "source": [
    "eur1m3m = ql.SwapIndex(\"eur1m\", ql.Period(\"3M\"), 2, ql.EURCurrency(), ql.TARGET(), ql.Period(\"3M\"), ql.ModifiedFollowing, \n",
    "                      ql.Actual360(), euribor1m)\n",
    "eur1m6m = ql.SwapIndex(\"eur1m\", ql.Period(\"6M\"), 2, ql.EURCurrency(), ql.TARGET(), ql.Period(\"3M\"), ql.ModifiedFollowing, \n",
    "                      ql.Actual360(), euribor1m)\n",
    "eur1m3y = ql.SwapIndex(\"eur1m\", ql.Period(\"12M\"), 2, ql.EURCurrency(), ql.TARGET(), ql.Period(\"3M\"), ql.ModifiedFollowing, \n",
    "                      ql.Actual360(), euribor1m)"
   ]
  },
  {
   "cell_type": "code",
   "execution_count": 18,
   "metadata": {},
   "outputs": [],
   "source": [
    "eur3m6m = ql.SwapIndex(\"eur3m\", ql.Period(\"6M\"), 2, ql.EURCurrency(), ql.TARGET(), ql.Period(\"3M\"), ql.ModifiedFollowing, \n",
    "                      ql.Actual360(), euribor3m)\n",
    "eur3m1y = ql.SwapIndex(\"eur3m\", ql.Period(\"12M\"), 2, ql.EURCurrency(), ql.TARGET(), ql.Period(\"3M\"), ql.ModifiedFollowing, \n",
    "                      ql.Actual360(), euribor3m)\n",
    "eur6m1y = ql.SwapIndex(\"eur6m\", ql.Period(\"12M\"), 2, ql.EURCurrency(), ql.TARGET(), ql.Period(\"3M\"), ql.ModifiedFollowing, \n",
    "                      ql.Actual360(), euribor6m)"
   ]
  },
  {
   "cell_type": "code",
   "execution_count": 19,
   "metadata": {},
   "outputs": [
    {
     "name": "stdout",
     "output_type": "stream",
     "text": [
      "t;eonia;std;eur1m;eur3m;eur6m;eur1y\n",
      "0.1 ; -0.003999999999998664 ; -0.002000000000000997 ; -0.0034999999999985477 ; -0.0029999999999997876 ; -0.002000000000000997 ; -0.0010000000000000135 ;\n",
      "0.2 ; -0.004000000000000047 ; -0.001999999999999332 ; -0.0035000000000001423 ; -0.0029999999999998435 ; -0.001999999999999332 ; -0.0010000000000004985 ;\n",
      "0.30000000000000004 ; -0.003999999999999952 ; -0.0019999999999998955 ; -0.003499999999999893 ; -0.00299999999999991 ; -0.0019999999999998955 ; -0.0009999999999999291 ;\n",
      "0.4 ; -0.00399999999999988 ; -0.0020000000000000235 ; -0.0035000000000000404 ; -0.0029999999999999645 ; -0.0020000000000000235 ; -0.000999999999999666 ;\n",
      "0.5 ; -0.003999999999999976 ; -0.002000000000000162 ; -0.0035000000000001497 ; -0.0030000000000002004 ; -0.002000000000000162 ; -0.000999999999999737 ;\n",
      "0.6 ; -0.003999999999999958 ; -0.0019999999999999766 ; -0.003500000000000256 ; -0.0029999999999997316 ; -0.0019999999999999766 ; -0.000999999999999948 ;\n",
      "0.7 ; -0.004000000000000042 ; -0.0020000000000000235 ; -0.0034999999999998847 ; -0.0030000000000002195 ; -0.0020000000000000235 ; -0.0010000000000000408 ;\n",
      "0.7999999999999999 ; -0.0040000000000000625 ; -0.00199999999999994 ; -0.0035000000000000365 ; -0.002999999999999968 ; -0.00199999999999994 ; -0.001000000000000012 ;\n",
      "0.8999999999999999 ; -0.00400000000000017 ; -0.001999999999999821 ; -0.003500000000000008 ; -0.0030000000000001133 ; -0.001999999999999821 ; -0.00099999999999997 ;\n",
      "0.9999999999999999 ; -0.003999999999999989 ; -0.0019999999999999883 ; -0.003500000000000022 ; -0.0030000000000000872 ; -0.0019999999999999883 ; -0.0010000000000000811 ;\n",
      "1.0999999999999999 ; -0.0039999999999999645 ; -0.0019999999999999775 ; -0.003500000000000093 ; -0.0030000000000000113 ; -0.0019999999999999775 ; -0.0010000000000001364 ;\n",
      "1.2 ; -0.003999999999999993 ; -0.001999999999999979 ; -0.0035000000000000153 ; -0.003000000000000127 ; -0.001999999999999979 ; -0.0009999999999999883 ;\n",
      "1.3 ; -0.003999999999999965 ; -0.001999999999999985 ; -0.0034999999999998747 ; -0.002999999999999894 ; -0.001999999999999985 ; -0.001000000000000039 ;\n",
      "1.4000000000000001 ; -0.004 ; -0.0020000000000000204 ; -0.0035000000000000183 ; -0.0030000000000000126 ; -0.0020000000000000204 ; -0.0010000000000000115 ;\n"
     ]
    }
   ],
   "source": [
    "# Health check: Zero Curves\n",
    "print(\"t;eonia;std;eur1m;eur3m;eur6m;eur1y\")\n",
    "t=0.1\n",
    "while(t<60.0):\n",
    "    print(t,\";\",eureonia.zeroRate(t,ql.Continuous,ql.NoFrequency).rate(),\";\",\n",
    "          eurstd.zeroRate(t,ql.Continuous,ql.NoFrequency).rate(),\";\",\n",
    "          eur1m.zeroRate(t,ql.Continuous,ql.NoFrequency).rate(),\";\",\n",
    "          eur3m.zeroRate(t,ql.Continuous,ql.NoFrequency).rate(),\";\",\n",
    "          eur6m.zeroRate(t,ql.Continuous,ql.NoFrequency).rate(),\";\",\n",
    "          eur1y.zeroRate(t,ql.Continuous,ql.NoFrequency).rate(),\";\",\n",
    "         )\n",
    "    t+=0.1\n",
    "    if t>1.5:\n",
    "        break"
   ]
  },
  {
   "cell_type": "code",
   "execution_count": 20,
   "metadata": {},
   "outputs": [
    {
     "name": "stdout",
     "output_type": "stream",
     "text": [
      "index;fixToday;fix1wFwd\n",
      "eonia; -0.0039451406274748635 ; -0.003945140627461541\n",
      "eur1m; -0.0034515583136980332 ; -0.0034515583136993655\n",
      "eur3m; -0.0029577856825606075 ; -0.0029577856825606075\n",
      "eur6m; -0.001971614066649034 ; -0.0019716140666488154\n",
      "eur1y; -0.0009858070333244077 ; -0.0009858070333242984\n"
     ]
    }
   ],
   "source": [
    "# Health check: Todays Fixings and 1w fixings\n",
    "print(\"index;fixToday;fix1wFwd\")\n",
    "print(\"eonia;\",eonia.fixing(evalDate),\";\",eonia.fixing(evalDate+7))\n",
    "print(\"eur1m;\",euribor1m.fixing(evalDate),\";\",euribor1m.fixing(evalDate+7))\n",
    "print(\"eur3m;\",euribor3m.fixing(evalDate),\";\",euribor3m.fixing(evalDate+7))\n",
    "print(\"eur6m;\",euribor6m.fixing(evalDate),\";\",euribor6m.fixing(evalDate+7))\n",
    "print(\"eur1y;\",euribor1y.fixing(evalDate),\";\",euribor1y.fixing(evalDate+7))"
   ]
  },
  {
   "cell_type": "code",
   "execution_count": 21,
   "metadata": {},
   "outputs": [],
   "source": [
    "# Build coterminal calibration basket (to cover 2 years)\n",
    "endDate = ql.TARGET().advance(settlDate, ql.Period(\"2Y\"))\n",
    "expiries = [ql.TARGET().advance(evalDate, ql.Period(p)) for p in [\"1M\", \"2M\", \"3M\", \"6M\", \"9M\", \"1Y\", \"18M\"]] \n",
    "# since the last simulated fixing is evalDate + 1y, this is more than enough"
   ]
  },
  {
   "cell_type": "code",
   "execution_count": 22,
   "metadata": {},
   "outputs": [],
   "source": [
    "swapTenors = [ql.Period(p) for p in [\"23M\", \"22M\", \"21M\", \"18M\", \"15M\", \"1Y\", \"6M\"]]"
   ]
  },
  {
   "cell_type": "code",
   "execution_count": 23,
   "metadata": {},
   "outputs": [
    {
     "data": {
      "text/plain": [
       "[Period(\"1Y11M\"),\n",
       " Period(\"1Y10M\"),\n",
       " Period(\"1Y9M\"),\n",
       " Period(\"1Y6M\"),\n",
       " Period(\"1Y3M\"),\n",
       " Period(\"1Y\"),\n",
       " Period(\"6M\")]"
      ]
     },
     "execution_count": 23,
     "metadata": {},
     "output_type": "execute_result"
    }
   ],
   "source": [
    "swapTenors"
   ]
  },
  {
   "cell_type": "code",
   "execution_count": 24,
   "metadata": {},
   "outputs": [],
   "source": [
    "volStepDates = expiries[:-1]"
   ]
  },
  {
   "cell_type": "code",
   "execution_count": 25,
   "metadata": {},
   "outputs": [],
   "source": [
    "vols = [ql.QuoteHandle(ql.SimpleQuote(0.01)) for i in expiries]"
   ]
  },
  {
   "cell_type": "code",
   "execution_count": 26,
   "metadata": {},
   "outputs": [],
   "source": [
    "model = ql.Gsr(ql.YieldTermStructureHandle(eureonia), volStepDates, vols, [ql.QuoteHandle(ql.SimpleQuote(reversion))], 5.0) \n",
    "# fix fwd measure to safely cover the calibration instruments"
   ]
  },
  {
   "cell_type": "code",
   "execution_count": 27,
   "metadata": {},
   "outputs": [],
   "source": [
    "swaptionEngine = ql.Gaussian1dSwaptionEngine(model)"
   ]
  },
  {
   "cell_type": "code",
   "execution_count": 28,
   "metadata": {},
   "outputs": [
    {
     "data": {
      "text/plain": [
       "(1.0, 2.0)"
      ]
     },
     "execution_count": 28,
     "metadata": {},
     "output_type": "execute_result"
    }
   ],
   "source": [
    "swvol.swapLengths()"
   ]
  },
  {
   "cell_type": "code",
   "execution_count": 29,
   "metadata": {},
   "outputs": [
    {
     "data": {
      "text/plain": [
       "Date(4,6,2021)"
      ]
     },
     "execution_count": 29,
     "metadata": {},
     "output_type": "execute_result"
    }
   ],
   "source": [
    "endDate"
   ]
  },
  {
   "cell_type": "code",
   "execution_count": 30,
   "metadata": {},
   "outputs": [
    {
     "name": "stdout",
     "output_type": "stream",
     "text": [
      "input vols for stress scenarios\n",
      "expiry  July 1st, 2019  using lehman bp vol  0.013667499999999999\n",
      "expiry  July 31st, 2019  using lehman bp vol  0.012984166666666665\n",
      "expiry  September 2nd, 2019  using lehman bp vol  0.012400000000000001\n",
      "expiry  December 2nd, 2019  using lehman bp vol  0.0105525\n",
      "expiry  March 2nd, 2020  using lehman bp vol  0.010255\n",
      "expiry  June 1st, 2020  using lehman bp vol  0.00985\n",
      "expiry  November 30th, 2020  using lehman bp vol  0.009277500000000001\n"
     ]
    }
   ],
   "source": [
    "basket = []\n",
    "\n",
    "if (stress):\n",
    "    print(\"input vols for stress scenarios\")\n",
    "for i in range(0, len(expiries)):\n",
    "    expiry = expiries [i]\n",
    "    texp = swvol.timeFromReference(expiry)\n",
    "    #swplen = swvol.swapLengths()\n",
    "    #swplen = expiry+swapTenors[i]\n",
    "    swplen = swapTenors[i]\n",
    "    swaptionSettlDate = ql.TARGET().advance(expiries[i], ql.Period(\"2D\"))\n",
    "\n",
    "    # calculate ATM level\n",
    "    # What we cannot repair here is that the input swaption surface is mixed 3m / 6m\n",
    "    # we simply assume to have a 6m surface...\n",
    "    fixedSchedule = ql.Schedule(swaptionSettlDate, endDate, ql.Period(\"1Y\"), ql.TARGET(),\n",
    "                               euribor6m.businessDayConvention(), euribor6m.businessDayConvention(),\n",
    "                               ql.DateGeneration.Forward, False)\n",
    "    floatSchedule = ql.Schedule(swaptionSettlDate, endDate, euribor6m.tenor(), ql.TARGET(),\n",
    "                           euribor6m.businessDayConvention(), euribor6m.businessDayConvention(),\n",
    "                           ql.DateGeneration.Forward, False)\n",
    "    \n",
    "    swapEngine = ql.DiscountingSwapEngine(ql.YieldTermStructureHandle(eureonia))\n",
    "    \n",
    "    temp = ql.VanillaSwap(ql.VanillaSwap.Receiver, 1.0, fixedSchedule, 0.0, ql.Thirty360(),\n",
    "                         floatSchedule, euribor6m, 0.0, ql.Actual360())\n",
    "    temp.setPricingEngine(swapEngine)\n",
    "    forward = temp.fairRate()\n",
    "    \n",
    "    # normal case\n",
    "    vol = swvol.volatility(expiry, swplen, forward, True)\n",
    "    \n",
    "    if (stress):\n",
    "        if (shifted_lognormal):\n",
    "            if (forward > 0.0):\n",
    "                vol = lehmanBpVols[i] / forward\n",
    "            else:\n",
    "                print(\"forward for expiry \", expiry, \" is not positive (\", forward, \") using 100% as fall back\")\n",
    "                vol = 1.00\n",
    "            print(\"expiry \", expiry, \" convert lehman bp vol \", lehmanBpVols[i], \" to \", vol, \" (forward is \", forward, \")\")\n",
    "        else: # normal vols\n",
    "            vol = lehmanBpVols[i]\n",
    "            print(\"expiry \", expiry, \" using lehman bp vol \", vol)\n",
    "    \n",
    "    volQuote = ql.QuoteHandle(ql.SimpleQuote(vol))\n",
    "    \n",
    "    volType = ql.Normal\n",
    "    if shifted_lognormal:\n",
    "        volType = ql.ShiftedLognormal\n",
    "    \n",
    "    h = ql.SwaptionHelper(swaptionSettlDate, endDate, volQuote, euribor6m, ql.Period(\"1Y\"), ql.Thirty360(),\n",
    "                         ql.Actual360(), ql.YieldTermStructureHandle(eureonia), ql.SwaptionHelper.RelativePriceError,\n",
    "                         ql.nullDouble(), 1.0, volType)\n",
    "    h.setPricingEngine(swaptionEngine)\n",
    "    basket += [h]"
   ]
  },
  {
   "cell_type": "code",
   "execution_count": 31,
   "metadata": {},
   "outputs": [
    {
     "data": {
      "text/plain": [
       "[<QuantLib.QuantLib.SwaptionHelper; proxy of <Swig Object of type 'boost::shared_ptr< SwaptionHelper > *' at 0x0000021A29948EA0> >,\n",
       " <QuantLib.QuantLib.SwaptionHelper; proxy of <Swig Object of type 'boost::shared_ptr< SwaptionHelper > *' at 0x0000021A29C1E3F0> >,\n",
       " <QuantLib.QuantLib.SwaptionHelper; proxy of <Swig Object of type 'boost::shared_ptr< SwaptionHelper > *' at 0x0000021A29A537E0> >,\n",
       " <QuantLib.QuantLib.SwaptionHelper; proxy of <Swig Object of type 'boost::shared_ptr< SwaptionHelper > *' at 0x0000021A29A61F00> >,\n",
       " <QuantLib.QuantLib.SwaptionHelper; proxy of <Swig Object of type 'boost::shared_ptr< SwaptionHelper > *' at 0x0000021A29A73DE0> >,\n",
       " <QuantLib.QuantLib.SwaptionHelper; proxy of <Swig Object of type 'boost::shared_ptr< SwaptionHelper > *' at 0x0000021A29A916F0> >,\n",
       " <QuantLib.QuantLib.SwaptionHelper; proxy of <Swig Object of type 'boost::shared_ptr< SwaptionHelper > *' at 0x0000021A29AA4330> >]"
      ]
     },
     "execution_count": 31,
     "metadata": {},
     "output_type": "execute_result"
    }
   ],
   "source": [
    "basket"
   ]
  },
  {
   "cell_type": "code",
   "execution_count": 32,
   "metadata": {},
   "outputs": [],
   "source": [
    "# calibrate model\n",
    "opt = ql.LevenbergMarquardt()\n",
    "ec = ql.EndCriteria(10000, 100, 1e-8, 1e-8, 1e-8)\n",
    "constraint = ql.NoConstraint()\n",
    "model.calibrateVolatilitiesIterative(basket, opt, ec, constraint)"
   ]
  },
  {
   "cell_type": "code",
   "execution_count": 48,
   "metadata": {},
   "outputs": [
    {
     "name": "stdout",
     "output_type": "stream",
     "text": [
      "calibrated model parameters (reversion is  0.01 ):\n",
      "expiry;end;strike;marketvol;marketvalue;modelvalue;modelvol\n",
      "2019-07-03 ; 2021-06-04 ; -0.002001211407497019 ; 0.013667499999999999 ; 0.0031571476171206544 ; 0.003183332330886662 ; 0.014028763816876361\n",
      "2019-08-02 ; 2021-06-04 ; -0.001999825655262357 ; 0.012984166666666665 ; 0.003958072458205334 ; 0.00396870118067463 ; 0.012345120123317356\n",
      "2019-09-04 ; 2021-06-04 ; -0.001998226463006435 ; 0.012400000000000001 ; 0.004453874801511879 ; 0.004444387921048376 ; 0.011365288139032051\n",
      "2019-12-04 ; 2021-06-04 ; -0.001999582513706047 ; 0.0105525 ; 0.004533631957443993 ; 0.004532496654636464 ; 0.008240191435317132\n",
      "2020-03-04 ; 2021-06-04 ; -0.002000899981909456 ; 0.010255 ; 0.004475658759162663 ; 0.004471877070114489 ; 0.009731395038641084\n",
      "2020-06-03 ; 2021-06-04 ; -0.0019970879870761585 ; 0.00985 ; 0.003971944283494789 ; 0.003968308028590281 ; 0.008656931178691265\n",
      "2020-12-02 ; 2021-06-04 ; -0.0019935263504098355 ; 0.009277500000000001 ; 0.0022921263468680944 ; 0.002292126346868091 ; 0.008171770600244746\n"
     ]
    }
   ],
   "source": [
    "print (\"calibrated model parameters (reversion is \", reversion, \"):\")\n",
    "print(\"expiry;end;strike;marketvol;marketvalue;modelvalue;modelvol\")\n",
    "for i, helper in enumerate(basket):\n",
    "    print(helper.swaption().exercise().date(0).ISO(),\";\",helper.underlyingSwap().fixedLeg()[-1].date().ISO(),\";\",helper.underlyingSwap().fixedRate(),\";\"\n",
    "          ,helper.volatility().value(),\";\",helper.marketValue(),\";\",helper.modelValue(),\";\",model.volatility()[i])"
   ]
  }
 ],
 "metadata": {
  "kernelspec": {
   "display_name": "Python 3",
   "language": "python",
   "name": "python3"
  },
  "language_info": {
   "codemirror_mode": {
    "name": "ipython",
    "version": 3
   },
   "file_extension": ".py",
   "mimetype": "text/x-python",
   "name": "python",
   "nbconvert_exporter": "python",
   "pygments_lexer": "ipython3",
   "version": "3.6.3"
  }
 },
 "nbformat": 4,
 "nbformat_minor": 2
}
