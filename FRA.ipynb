{
 "cells": [
  {
   "cell_type": "code",
   "execution_count": 28,
   "metadata": {},
   "outputs": [],
   "source": [
    "import QuantLib as ql\n"
   ]
  },
  {
   "cell_type": "code",
   "execution_count": 27,
   "metadata": {},
   "outputs": [],
   "source": [
    "euriborTermStructure = ql.RelinkableYieldTermStructureHandle()\n",
    "euribor3m = ql.Euribor3M(euriborTermStructure)"
   ]
  },
  {
   "cell_type": "code",
   "execution_count": 30,
   "metadata": {},
   "outputs": [],
   "source": [
    "todaysDate = ql.Date(23, 5, 2006)"
   ]
  },
  {
   "cell_type": "code",
   "execution_count": 31,
   "metadata": {},
   "outputs": [],
   "source": [
    "ql.Settings.instance().evaluationDate = todaysDate"
   ]
  },
  {
   "cell_type": "code",
   "execution_count": 32,
   "metadata": {},
   "outputs": [],
   "source": [
    "calendar = euribor3m.fixingCalendar()"
   ]
  },
  {
   "cell_type": "code",
   "execution_count": 33,
   "metadata": {},
   "outputs": [],
   "source": [
    "fixingDays = euribor3m.fixingDays()"
   ]
  },
  {
   "cell_type": "code",
   "execution_count": 34,
   "metadata": {},
   "outputs": [],
   "source": [
    "settlementDate = calendar.advance(todaysDate, fixingDays, ql.Days)"
   ]
  },
  {
   "cell_type": "code",
   "execution_count": 37,
   "metadata": {},
   "outputs": [
    {
     "data": {
      "text/plain": [
       "Date(23,5,2006)"
      ]
     },
     "execution_count": 37,
     "metadata": {},
     "output_type": "execute_result"
    }
   ],
   "source": [
    "todaysDate"
   ]
  },
  {
   "cell_type": "code",
   "execution_count": 38,
   "metadata": {},
   "outputs": [
    {
     "data": {
      "text/plain": [
       "Date(25,5,2006)"
      ]
     },
     "execution_count": 38,
     "metadata": {},
     "output_type": "execute_result"
    }
   ],
   "source": [
    "settlementDate"
   ]
  },
  {
   "cell_type": "code",
   "execution_count": 39,
   "metadata": {},
   "outputs": [],
   "source": [
    "threeMonthFraQuote = [None for i in range(10)]"
   ]
  },
  {
   "cell_type": "code",
   "execution_count": 40,
   "metadata": {},
   "outputs": [],
   "source": [
    "threeMonthFraQuote[1]=0.030\n",
    "threeMonthFraQuote[2]=0.031\n",
    "threeMonthFraQuote[3]=0.032\n",
    "threeMonthFraQuote[6]=0.033\n",
    "threeMonthFraQuote[9]=0.034"
   ]
  },
  {
   "cell_type": "code",
   "execution_count": 41,
   "metadata": {},
   "outputs": [
    {
     "data": {
      "text/plain": [
       "[None, 0.03, 0.031, 0.032, None, None, 0.033, None, None, 0.034]"
      ]
     },
     "execution_count": 41,
     "metadata": {},
     "output_type": "execute_result"
    }
   ],
   "source": [
    "threeMonthFraQuote"
   ]
  },
  {
   "cell_type": "code",
   "execution_count": 42,
   "metadata": {},
   "outputs": [],
   "source": [
    "fra1x4Rate = ql.SimpleQuote(threeMonthFraQuote[1])\n",
    "fra2x5Rate = ql.SimpleQuote(threeMonthFraQuote[2])\n",
    "fra3x6Rate = ql.SimpleQuote(threeMonthFraQuote[3])\n",
    "fra6x9Rate = ql.SimpleQuote(threeMonthFraQuote[6])\n",
    "fra9x12Rate = ql.SimpleQuote(threeMonthFraQuote[9])"
   ]
  },
  {
   "cell_type": "code",
   "execution_count": 43,
   "metadata": {},
   "outputs": [],
   "source": [
    "h1x4 = ql.RelinkableQuoteHandle()\n",
    "h2x5 = ql.RelinkableQuoteHandle()\n",
    "h3x6 = ql.RelinkableQuoteHandle()\n",
    "h6x9 = ql.RelinkableQuoteHandle()\n",
    "h9x12 = ql.RelinkableQuoteHandle()"
   ]
  },
  {
   "cell_type": "code",
   "execution_count": 45,
   "metadata": {},
   "outputs": [],
   "source": [
    "h1x4.linkTo(fra1x4Rate)\n",
    "h2x5.linkTo(fra2x5Rate)\n",
    "h3x6.linkTo(fra3x6Rate)\n",
    "h6x9.linkTo(fra6x9Rate)\n",
    "h9x12.linkTo(fra9x12Rate)"
   ]
  },
  {
   "cell_type": "code",
   "execution_count": 46,
   "metadata": {},
   "outputs": [],
   "source": [
    "fraDayCounter = euribor3m.dayCounter()"
   ]
  },
  {
   "cell_type": "code",
   "execution_count": 47,
   "metadata": {},
   "outputs": [],
   "source": [
    "convention = euribor3m.businessDayConvention()"
   ]
  },
  {
   "cell_type": "code",
   "execution_count": 49,
   "metadata": {},
   "outputs": [],
   "source": [
    "endOfMonth = euribor3m.endOfMonth()"
   ]
  },
  {
   "cell_type": "code",
   "execution_count": 51,
   "metadata": {},
   "outputs": [],
   "source": [
    "fra1x4 = ql.FraRateHelper(h1x4, 1, 4,\n",
    "                         fixingDays, calendar, convention,\n",
    "                         endOfMonth, fraDayCounter)\n",
    "fra2x5 = ql.FraRateHelper(h2x5, 2, 5,\n",
    "                         fixingDays, calendar, convention,\n",
    "                         endOfMonth, fraDayCounter)\n",
    "fra3x6 = ql.FraRateHelper(h3x6, 3, 6,\n",
    "                         fixingDays, calendar, convention,\n",
    "                         endOfMonth, fraDayCounter)\n",
    "fra6x9 = ql.FraRateHelper(h6x9, 6, 9,\n",
    "                         fixingDays, calendar, convention,\n",
    "                         endOfMonth, fraDayCounter)\n",
    "fra9x12 = ql.FraRateHelper(h9x12, 9, 12,\n",
    "                         fixingDays, calendar, convention,\n",
    "                         endOfMonth, fraDayCounter)"
   ]
  },
  {
   "cell_type": "code",
   "execution_count": 53,
   "metadata": {},
   "outputs": [],
   "source": [
    "termStructureDayCounter = ql.ActualActual(ql.ActualActual.ISDA)"
   ]
  },
  {
   "cell_type": "code",
   "execution_count": 54,
   "metadata": {},
   "outputs": [],
   "source": [
    "tolerance = 1.0e-15"
   ]
  },
  {
   "cell_type": "code",
   "execution_count": 57,
   "metadata": {},
   "outputs": [],
   "source": [
    "fraInstruments = ql.RateHelperVector()\n",
    "fraInstruments.append(fra1x4)\n",
    "fraInstruments.append(fra2x5)\n",
    "fraInstruments.append(fra3x6)\n",
    "fraInstruments.append(fra6x9)\n",
    "fraInstruments.append(fra9x12)"
   ]
  },
  {
   "cell_type": "code",
   "execution_count": 61,
   "metadata": {},
   "outputs": [],
   "source": [
    "fraTermStructure = ql.PiecewiseLogLinearDiscount(settlementDate, fraInstruments,\n",
    "                                         termStructureDayCounter)"
   ]
  },
  {
   "cell_type": "code",
   "execution_count": 62,
   "metadata": {},
   "outputs": [],
   "source": [
    "discountingTermStructure = ql.RelinkableYieldTermStructureHandle()"
   ]
  },
  {
   "cell_type": "code",
   "execution_count": 63,
   "metadata": {},
   "outputs": [],
   "source": [
    "discountingTermStructure.linkTo(fraTermStructure)"
   ]
  },
  {
   "cell_type": "code",
   "execution_count": 64,
   "metadata": {},
   "outputs": [],
   "source": [
    "fraCalendar = euribor3m.fixingCalendar()"
   ]
  },
  {
   "cell_type": "code",
   "execution_count": 66,
   "metadata": {},
   "outputs": [],
   "source": [
    "fraBusinessDayConvention = euribor3m.businessDayConvention()"
   ]
  },
  {
   "cell_type": "code",
   "execution_count": 68,
   "metadata": {},
   "outputs": [],
   "source": [
    "fraFwdType = ql.Position.Long"
   ]
  },
  {
   "cell_type": "code",
   "execution_count": 69,
   "metadata": {},
   "outputs": [],
   "source": [
    "fraNotional = 100.0"
   ]
  },
  {
   "cell_type": "code",
   "execution_count": 70,
   "metadata": {},
   "outputs": [],
   "source": [
    "FraTermMonths = 3"
   ]
  },
  {
   "cell_type": "code",
   "execution_count": 71,
   "metadata": {},
   "outputs": [],
   "source": [
    "monthsToStart = [ 1, 2, 3, 6, 9 ]"
   ]
  },
  {
   "cell_type": "code",
   "execution_count": 72,
   "metadata": {},
   "outputs": [],
   "source": [
    "euriborTermStructure.linkTo(fraTermStructure)"
   ]
  },
  {
   "cell_type": "code",
   "execution_count": 82,
   "metadata": {},
   "outputs": [
    {
     "name": "stdout",
     "output_type": "stream",
     "text": [
      "3m Term FRA, Months to Start:  1\n",
      "strike FRA rate:  0.03\n",
      "FRA 3m forward rate:  3.000000 % Actual/360 simple compounding\n",
      "FRA market quote:  0.03\n",
      "FRA spot value:  99.73470289713771\n",
      "FRA forward value:  100.76666666666654\n",
      "FRA implied Yield:  3.003993 % Actual/360 simple compounding\n",
      "market Zero Rate:  3.003993 % Actual/360 simple compounding\n",
      "FRA NPV [should be zero]:  -1.2658787651090532e-13\n",
      "\n",
      "3m Term FRA, Months to Start:  2\n",
      "strike FRA rate:  0.031\n",
      "FRA 3m forward rate:  3.100000 % Actual/360 simple compounding\n",
      "FRA market quote:  0.031\n",
      "FRA spot value:  99.49488539115336\n",
      "FRA forward value:  100.79222222222155\n",
      "FRA implied Yield:  3.068054 % Actual/360 simple compounding\n",
      "market Zero Rate:  3.068054 % Actual/360 simple compounding\n",
      "FRA NPV [should be zero]:  -6.593132338113953e-13\n",
      "\n",
      "3m Term FRA, Months to Start:  3\n",
      "strike FRA rate:  0.032\n",
      "FRA 3m forward rate:  3.200000 % Actual/360 simple compounding\n",
      "FRA market quote:  0.032\n",
      "FRA spot value:  99.23916639100246\n",
      "FRA forward value:  100.83555555555502\n",
      "FRA implied Yield:  3.113474 % Actual/360 simple compounding\n",
      "market Zero Rate:  3.113474 % Actual/360 simple compounding\n",
      "FRA NPV [should be zero]:  -5.174773383376897e-13\n",
      "\n",
      "3m Term FRA, Months to Start:  6\n",
      "strike FRA rate:  0.033\n",
      "FRA 3m forward rate:  3.300000 % Actual/360 simple compounding\n",
      "FRA market quote:  0.033\n",
      "FRA spot value:  98.41683902492804\n",
      "FRA forward value:  100.84333333333335\n",
      "FRA implied Yield:  3.192770 % Actual/360 simple compounding\n",
      "market Zero Rate:  3.192770 % Actual/360 simple compounding\n",
      "FRA NPV [should be zero]:  1.3868912844141159e-14\n",
      "\n",
      "3m Term FRA, Months to Start:  9\n",
      "strike FRA rate:  0.034\n",
      "FRA 3m forward rate:  3.400000 % Actual/360 simple compounding\n",
      "FRA market quote:  0.034\n",
      "FRA spot value:  97.60270698796798\n",
      "FRA forward value:  100.85944444444446\n",
      "FRA implied Yield:  3.264191 % Actual/360 simple compounding\n",
      "market Zero Rate:  3.264191 % Actual/360 simple compounding\n",
      "FRA NPV [should be zero]:  2.7503976379335372e-14\n",
      "\n"
     ]
    }
   ],
   "source": [
    "for i, _ in enumerate(monthsToStart):\n",
    "    #print(i)\n",
    "    fraValueDate = fraCalendar.advance(settlementDate,monthsToStart[i],ql.Months,\n",
    "                                       fraBusinessDayConvention)\n",
    "    fraMaturityDate = fraCalendar.advance(fraValueDate,FraTermMonths,ql.Months,\n",
    "                                            fraBusinessDayConvention)\n",
    "    fraStrikeRate = threeMonthFraQuote[monthsToStart[i]]\n",
    "    myFRA = ql.ForwardRateAgreement(fraValueDate, fraMaturityDate,\n",
    "                                       fraFwdType,fraStrikeRate,\n",
    "                                       fraNotional, euribor3m,\n",
    "                                       discountingTermStructure)\n",
    "    print(\"3m Term FRA, Months to Start: \",monthsToStart[i])\n",
    "\n",
    "    print(\"strike FRA rate: \",fraStrikeRate)\n",
    "\n",
    "    print(\"FRA 3m forward rate: \",myFRA.forwardRate())\n",
    "\n",
    "    print(\"FRA market quote: \",threeMonthFraQuote[monthsToStart[i]])\n",
    "\n",
    "    print(\"FRA spot value: \",myFRA.spotValue())\n",
    "    print(\"FRA forward value: \",myFRA.forwardValue())\n",
    "\n",
    "    print(\"FRA implied Yield: \",myFRA.impliedYield(myFRA.spotValue(),\n",
    "                               myFRA.forwardValue(),\n",
    "                               settlementDate,\n",
    "                               ql.Simple,\n",
    "                               fraDayCounter))\n",
    "\n",
    "    print(\"market Zero Rate: \",discountingTermStructure.zeroRate(fraMaturityDate,\n",
    "                                               fraDayCounter,\n",
    "                                               ql.Simple))\n",
    "    print(\"FRA NPV [should be zero]: \",myFRA.NPV())\n",
    "    print()"
   ]
  }
 ],
 "metadata": {
  "kernelspec": {
   "display_name": "Python 3",
   "language": "python",
   "name": "python3"
  },
  "language_info": {
   "codemirror_mode": {
    "name": "ipython",
    "version": 3
   },
   "file_extension": ".py",
   "mimetype": "text/x-python",
   "name": "python",
   "nbconvert_exporter": "python",
   "pygments_lexer": "ipython3",
   "version": "3.6.3"
  }
 },
 "nbformat": 4,
 "nbformat_minor": 2
}
