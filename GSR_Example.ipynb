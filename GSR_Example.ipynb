{
 "cells": [
  {
   "cell_type": "markdown",
   "metadata": {},
   "source": [
    "# Gaussian1dModel Examples"
   ]
  },
  {
   "cell_type": "markdown",
   "metadata": {},
   "source": [
    "### Examples taken from QuantLib's C++ Example (by Peter Caspers) translated to Python"
   ]
  },
  {
   "cell_type": "markdown",
   "metadata": {},
   "source": [
    "This is some example code showing how to use the GSR (Gaussian short rate) and Markov Functional model."
   ]
  },
  {
   "cell_type": "code",
   "execution_count": 1,
   "metadata": {
    "ExecuteTime": {
     "end_time": "2017-03-06T21:32:30.504650",
     "start_time": "2017-03-06T21:32:30.292630"
    },
    "collapsed": true
   },
   "outputs": [],
   "source": [
    "import QuantLib as ql"
   ]
  },
  {
   "cell_type": "code",
   "execution_count": 2,
   "metadata": {
    "ExecuteTime": {
     "end_time": "2017-03-06T21:32:30.508666",
     "start_time": "2017-03-06T21:32:30.505665"
    },
    "collapsed": true
   },
   "outputs": [],
   "source": [
    "refDate = ql.Date(30,4,2014)"
   ]
  },
  {
   "cell_type": "code",
   "execution_count": 3,
   "metadata": {
    "ExecuteTime": {
     "end_time": "2017-03-06T21:32:30.589903",
     "start_time": "2017-03-06T21:32:30.509681"
    },
    "collapsed": false
   },
   "outputs": [],
   "source": [
    "ql.Settings.instance().evaluationDate=refDate"
   ]
  },
  {
   "cell_type": "code",
   "execution_count": 4,
   "metadata": {
    "ExecuteTime": {
     "end_time": "2017-03-06T21:32:30.656554",
     "start_time": "2017-03-06T21:32:30.591882"
    },
    "collapsed": false
   },
   "outputs": [
    {
     "name": "stdout",
     "output_type": "stream",
     "text": [
      "EvalDate:  April 30th, 2014\n"
     ]
    }
   ],
   "source": [
    "print(\"EvalDate: \",ql.Settings.instance().evaluationDate)"
   ]
  },
  {
   "cell_type": "code",
   "execution_count": 5,
   "metadata": {
    "ExecuteTime": {
     "end_time": "2017-03-06T21:32:30.775462",
     "start_time": "2017-03-06T21:32:30.657513"
    },
    "collapsed": true
   },
   "outputs": [],
   "source": [
    "forward6mLevel = 0.025\n",
    "oisLevel = 0.02"
   ]
  },
  {
   "cell_type": "code",
   "execution_count": 6,
   "metadata": {
    "ExecuteTime": {
     "end_time": "2017-03-06T21:32:30.838375",
     "start_time": "2017-03-06T21:32:30.777438"
    },
    "collapsed": true
   },
   "outputs": [],
   "source": [
    "forward6mQuote = ql.QuoteHandle(ql.SimpleQuote(forward6mLevel))\n",
    "oisQuote = ql.QuoteHandle(ql.SimpleQuote(oisLevel))"
   ]
  },
  {
   "cell_type": "code",
   "execution_count": 7,
   "metadata": {
    "ExecuteTime": {
     "end_time": "2017-03-06T21:32:30.908517",
     "start_time": "2017-03-06T21:32:30.839388"
    },
    "collapsed": true
   },
   "outputs": [],
   "source": [
    "yts6m = ql.YieldTermStructureHandle(ql.FlatForward(0, ql.TARGET(), forward6mQuote, ql.Actual365Fixed() ))\n",
    "ytsOis = ql.YieldTermStructureHandle(ql.FlatForward(0, ql.TARGET(), oisQuote, ql.Actual365Fixed() ))"
   ]
  },
  {
   "cell_type": "code",
   "execution_count": 8,
   "metadata": {
    "ExecuteTime": {
     "end_time": "2017-03-06T21:32:30.979562",
     "start_time": "2017-03-06T21:32:30.910511"
    },
    "collapsed": true
   },
   "outputs": [],
   "source": [
    "euribor6m = ql.Euribor6M(yts6m)"
   ]
  },
  {
   "cell_type": "markdown",
   "metadata": {
    "variables": {
     "forward6mLevel": "0.025",
     "oisLevel": "0.02"
    }
   },
   "source": [
    "We assume a multicurve setup, for simplicity with flat yield term structures. The discounting curve is an Eonia curve at a level of {{oisLevel}} and the forwarding curve is an Euribior 6m curve at a level of {{forward6mLevel}}"
   ]
  },
  {
   "cell_type": "code",
   "execution_count": 9,
   "metadata": {
    "ExecuteTime": {
     "end_time": "2017-03-06T21:32:31.049210",
     "start_time": "2017-03-06T21:32:30.980169"
    },
    "collapsed": true
   },
   "outputs": [],
   "source": [
    "volLevel = 0.20"
   ]
  },
  {
   "cell_type": "code",
   "execution_count": 10,
   "metadata": {
    "ExecuteTime": {
     "end_time": "2017-03-06T21:32:31.112231",
     "start_time": "2017-03-06T21:32:31.051215"
    },
    "collapsed": true
   },
   "outputs": [],
   "source": [
    "volQuote = ql.QuoteHandle(ql.SimpleQuote(volLevel))"
   ]
  },
  {
   "cell_type": "code",
   "execution_count": 11,
   "metadata": {
    "ExecuteTime": {
     "end_time": "2017-03-06T21:32:31.198061",
     "start_time": "2017-03-06T21:32:31.113967"
    },
    "collapsed": true
   },
   "outputs": [],
   "source": [
    "swaptionVol = ql.ConstantSwaptionVolatility(0, ql.TARGET(), ql.ModifiedFollowing, volQuote,\n",
    "                                                                                ql.Actual365Fixed())"
   ]
  },
  {
   "cell_type": "code",
   "execution_count": 12,
   "metadata": {
    "ExecuteTime": {
     "end_time": "2017-03-06T21:32:31.269879",
     "start_time": "2017-03-06T21:32:31.199052"
    },
    "collapsed": false
   },
   "outputs": [],
   "source": [
    "swaptionVolHandle = ql.SwaptionVolatilityStructureHandle(ql.ConstantSwaptionVolatility(0, ql.TARGET(), ql.ModifiedFollowing, volQuote,\n",
    "                                                                                ql.Actual365Fixed()))"
   ]
  },
  {
   "cell_type": "markdown",
   "metadata": {
    "variables": {
     "volLevel": "0.2"
    }
   },
   "source": [
    "For the volatility we assume a flat swaption volatility at {{volLevel}}"
   ]
  },
  {
   "cell_type": "code",
   "execution_count": 13,
   "metadata": {
    "ExecuteTime": {
     "end_time": "2017-03-06T21:32:31.347381",
     "start_time": "2017-03-06T21:32:31.270858"
    },
    "collapsed": true
   },
   "outputs": [],
   "source": [
    "strike = 0.04"
   ]
  },
  {
   "cell_type": "markdown",
   "metadata": {
    "variables": {
     "strike": "0.04"
    }
   },
   "source": [
    "We consider a standard 10y bermudan payer swaption with yearly exercises at a strike of {{strike}}"
   ]
  },
  {
   "cell_type": "code",
   "execution_count": 14,
   "metadata": {
    "ExecuteTime": {
     "end_time": "2017-03-06T21:32:31.411204",
     "start_time": "2017-03-06T21:32:31.348082"
    },
    "collapsed": false
   },
   "outputs": [],
   "source": [
    "effectiveDate = ql.TARGET().advance(refDate, ql.Period(2,ql.Days))"
   ]
  },
  {
   "cell_type": "code",
   "execution_count": 15,
   "metadata": {
    "ExecuteTime": {
     "end_time": "2017-03-06T21:32:31.497447",
     "start_time": "2017-03-06T21:32:31.412193"
    },
    "collapsed": false
   },
   "outputs": [],
   "source": [
    "maturityDate = ql.TARGET().advance(effectiveDate, ql.Period(10,ql.Years))"
   ]
  },
  {
   "cell_type": "code",
   "execution_count": 16,
   "metadata": {
    "ExecuteTime": {
     "end_time": "2017-03-06T21:32:31.573789",
     "start_time": "2017-03-06T21:32:31.499415"
    },
    "collapsed": false
   },
   "outputs": [
    {
     "data": {
      "text/plain": [
       "Date(6,5,2024)"
      ]
     },
     "execution_count": 16,
     "metadata": {},
     "output_type": "execute_result"
    }
   ],
   "source": [
    "maturityDate"
   ]
  },
  {
   "cell_type": "code",
   "execution_count": 17,
   "metadata": {
    "ExecuteTime": {
     "end_time": "2017-03-06T21:32:31.651396",
     "start_time": "2017-03-06T21:32:31.575768"
    },
    "collapsed": true
   },
   "outputs": [],
   "source": [
    "fixedSchedule = ql.Schedule(effectiveDate, maturityDate, ql.Period(1,ql.Years), ql.TARGET(),\n",
    "                            ql.ModifiedFollowing, ql.ModifiedFollowing,\n",
    "                            ql.DateGeneration.Forward, False)"
   ]
  },
  {
   "cell_type": "code",
   "execution_count": 18,
   "metadata": {
    "ExecuteTime": {
     "end_time": "2017-03-06T21:32:31.730383",
     "start_time": "2017-03-06T21:32:31.653401"
    },
    "collapsed": false
   },
   "outputs": [
    {
     "name": "stdout",
     "output_type": "stream",
     "text": [
      "May 5th, 2014\n",
      "May 5th, 2015\n",
      "May 5th, 2016\n",
      "May 5th, 2017\n",
      "May 7th, 2018\n",
      "May 6th, 2019\n",
      "May 5th, 2020\n",
      "May 5th, 2021\n",
      "May 5th, 2022\n",
      "May 5th, 2023\n",
      "May 6th, 2024\n"
     ]
    }
   ],
   "source": [
    "for i in fixedSchedule:\n",
    "    print(i)"
   ]
  },
  {
   "cell_type": "code",
   "execution_count": 19,
   "metadata": {
    "ExecuteTime": {
     "end_time": "2017-03-06T21:32:31.800335",
     "start_time": "2017-03-06T21:32:31.731381"
    },
    "collapsed": true
   },
   "outputs": [],
   "source": [
    "floatingSchedule = ql.Schedule(effectiveDate, maturityDate, ql.Period(6,ql.Months), ql.TARGET(),\n",
    "                            ql.ModifiedFollowing, ql.ModifiedFollowing,\n",
    "                            ql.DateGeneration.Forward, False)"
   ]
  },
  {
   "cell_type": "code",
   "execution_count": 20,
   "metadata": {
    "ExecuteTime": {
     "end_time": "2017-03-06T21:32:31.888203",
     "start_time": "2017-03-06T21:32:31.801325"
    },
    "collapsed": false
   },
   "outputs": [
    {
     "name": "stdout",
     "output_type": "stream",
     "text": [
      "May 5th, 2014\n",
      "November 5th, 2014\n",
      "May 5th, 2015\n",
      "November 5th, 2015\n",
      "May 5th, 2016\n",
      "November 7th, 2016\n",
      "May 5th, 2017\n",
      "November 6th, 2017\n",
      "May 7th, 2018\n",
      "November 5th, 2018\n",
      "May 6th, 2019\n",
      "November 5th, 2019\n",
      "May 5th, 2020\n",
      "November 5th, 2020\n",
      "May 5th, 2021\n",
      "November 5th, 2021\n",
      "May 5th, 2022\n",
      "November 7th, 2022\n",
      "May 5th, 2023\n",
      "November 6th, 2023\n",
      "May 6th, 2024\n"
     ]
    }
   ],
   "source": [
    "for i in floatingSchedule:\n",
    "    print(i)"
   ]
  },
  {
   "cell_type": "code",
   "execution_count": 21,
   "metadata": {
    "ExecuteTime": {
     "end_time": "2017-03-06T21:32:31.960002",
     "start_time": "2017-03-06T21:32:31.889220"
    },
    "collapsed": false
   },
   "outputs": [],
   "source": [
    "underlying = ql.NonstandardSwap(ql.VanillaSwap.Payer, [1.0]*(len(fixedSchedule)-1), [1.0]*(len(floatingSchedule)-1), fixedSchedule,\n",
    "                                              [strike]*(len(fixedSchedule)-1), ql.Thirty360(), floatingSchedule, \n",
    "                                              euribor6m, [1.0]*(len(floatingSchedule)-1), [0.0]*(len(floatingSchedule)-1), ql.Actual360())"
   ]
  },
  {
   "cell_type": "code",
   "execution_count": 22,
   "metadata": {
    "ExecuteTime": {
     "end_time": "2017-03-06T21:32:32.046885",
     "start_time": "2017-03-06T21:32:31.961017"
    },
    "collapsed": false
   },
   "outputs": [
    {
     "name": "stdout",
     "output_type": "stream",
     "text": [
      "May 5th, 2015 0.040000000000000036\n",
      "May 5th, 2016 0.040000000000000036\n",
      "May 5th, 2017 0.040000000000000036\n",
      "May 7th, 2018 0.04022222222222216\n",
      "May 6th, 2019 0.03988888888888886\n",
      "May 5th, 2020 0.03988888888888886\n",
      "May 5th, 2021 0.040000000000000036\n",
      "May 5th, 2022 0.040000000000000036\n",
      "May 5th, 2023 0.040000000000000036\n",
      "May 6th, 2024 0.04011111111111121\n"
     ]
    }
   ],
   "source": [
    "for cf in underlying.fixedLeg():\n",
    "    print (cf.date(), cf.amount())"
   ]
  },
  {
   "cell_type": "code",
   "execution_count": 23,
   "metadata": {
    "ExecuteTime": {
     "end_time": "2017-03-06T21:32:32.154432",
     "start_time": "2017-03-06T21:32:32.048892"
    },
    "collapsed": false
   },
   "outputs": [
    {
     "name": "stdout",
     "output_type": "stream",
     "text": [
      "November 5th, 2014 0.012682488917620917\n",
      "May 5th, 2015 0.012474424851870225\n",
      "November 5th, 2015 0.012682488917621138\n",
      "May 5th, 2016 0.012543774790186868\n",
      "November 7th, 2016 0.012821222048292169\n",
      "May 5th, 2017 0.012335739224410558\n",
      "November 6th, 2017 0.012751853107389575\n",
      "May 7th, 2018 0.012543774790186868\n",
      "November 5th, 2018 0.012543774790186868\n",
      "May 6th, 2019 0.012543774790186868\n",
      "November 5th, 2019 0.012613129478662223\n",
      "May 5th, 2020 0.012543774790186868\n",
      "November 5th, 2020 0.012682488917621138\n",
      "May 5th, 2021 0.012474424851870227\n",
      "November 5th, 2021 0.01268248891762114\n",
      "May 5th, 2022 0.012474424851870003\n",
      "November 7th, 2022 0.012821222048292391\n",
      "May 5th, 2023 0.012335739224410556\n",
      "November 6th, 2023 0.012751853107389573\n",
      "May 6th, 2024 0.01254377479018687\n"
     ]
    }
   ],
   "source": [
    "for cf in underlying.floatingLeg():\n",
    "    print (cf.date(), cf.amount())"
   ]
  },
  {
   "cell_type": "code",
   "execution_count": 24,
   "metadata": {
    "ExecuteTime": {
     "end_time": "2017-03-06T21:32:32.240708",
     "start_time": "2017-03-06T21:32:32.155402"
    },
    "collapsed": false
   },
   "outputs": [],
   "source": [
    "exerciseDates = [ql.TARGET().advance(fixedSchedule[i], ql.Period(-2, ql.Days)) for i in range(1,10)]"
   ]
  },
  {
   "cell_type": "code",
   "execution_count": 25,
   "metadata": {
    "ExecuteTime": {
     "end_time": "2017-03-06T21:32:32.310546",
     "start_time": "2017-03-06T21:32:32.242706"
    },
    "collapsed": false
   },
   "outputs": [
    {
     "data": {
      "text/plain": [
       "[Date(30,4,2015),\n",
       " Date(3,5,2016),\n",
       " Date(3,5,2017),\n",
       " Date(3,5,2018),\n",
       " Date(2,5,2019),\n",
       " Date(30,4,2020),\n",
       " Date(3,5,2021),\n",
       " Date(3,5,2022),\n",
       " Date(3,5,2023)]"
      ]
     },
     "execution_count": 25,
     "metadata": {},
     "output_type": "execute_result"
    }
   ],
   "source": [
    "exerciseDates"
   ]
  },
  {
   "cell_type": "code",
   "execution_count": 26,
   "metadata": {
    "ExecuteTime": {
     "end_time": "2017-03-06T21:32:32.373936",
     "start_time": "2017-03-06T21:32:32.312551"
    },
    "collapsed": true
   },
   "outputs": [],
   "source": [
    "exercise = ql.BermudanExercise(exerciseDates, False)"
   ]
  },
  {
   "cell_type": "code",
   "execution_count": 27,
   "metadata": {
    "ExecuteTime": {
     "end_time": "2017-03-06T21:32:32.450133",
     "start_time": "2017-03-06T21:32:32.375944"
    },
    "collapsed": true
   },
   "outputs": [],
   "source": [
    "swaption = ql.NonstandardSwaption(underlying, exercise)"
   ]
  },
  {
   "cell_type": "markdown",
   "metadata": {},
   "source": [
    "The model is a one factor Hull White model with piecewise volatility adapted to our exercise dates."
   ]
  },
  {
   "cell_type": "code",
   "execution_count": 28,
   "metadata": {
    "ExecuteTime": {
     "end_time": "2017-03-06T21:32:32.514295",
     "start_time": "2017-03-06T21:32:32.452138"
    },
    "collapsed": true
   },
   "outputs": [],
   "source": [
    "stepDates = [exerciseDates[i] for i in range(0, len(exerciseDates)-1)]"
   ]
  },
  {
   "cell_type": "code",
   "execution_count": 29,
   "metadata": {
    "ExecuteTime": {
     "end_time": "2017-03-06T21:32:32.584368",
     "start_time": "2017-03-06T21:32:32.515298"
    },
    "collapsed": true
   },
   "outputs": [],
   "source": [
    "sigmas = [ql.QuoteHandle(ql.SimpleQuote(0.01)) for i in range(0, len(stepDates)+1)]"
   ]
  },
  {
   "cell_type": "code",
   "execution_count": 30,
   "metadata": {
    "ExecuteTime": {
     "end_time": "2017-03-06T21:32:32.663873",
     "start_time": "2017-03-06T21:32:32.585329"
    },
    "collapsed": true
   },
   "outputs": [],
   "source": [
    "reversion = 0.01"
   ]
  },
  {
   "cell_type": "code",
   "execution_count": 31,
   "metadata": {
    "ExecuteTime": {
     "end_time": "2017-03-06T21:32:32.749770",
     "start_time": "2017-03-06T21:32:32.664877"
    },
    "collapsed": false
   },
   "outputs": [],
   "source": [
    "reversions = [ql.QuoteHandle(ql.SimpleQuote(reversion))]"
   ]
  },
  {
   "cell_type": "markdown",
   "metadata": {
    "variables": {
     "reversion": "0.01"
    }
   },
   "source": [
    "The reversion is just kept constant at a level of {{reversion}}"
   ]
  },
  {
   "cell_type": "markdown",
   "metadata": {},
   "source": [
    "The model's curve is set to the 6m forward curve. Note that the model adapts automatically to other curves where appropriate (e.g. if an index requires a different forwarding curve) or where explicitly specified (e.g. in a swaption pricing engine)."
   ]
  },
  {
   "cell_type": "code",
   "execution_count": 32,
   "metadata": {
    "ExecuteTime": {
     "end_time": "2017-03-06T21:32:32.841092",
     "start_time": "2017-03-06T21:32:32.750791"
    },
    "collapsed": false
   },
   "outputs": [],
   "source": [
    "gsr = ql.Gsr(yts6m, stepDates, sigmas, reversions)"
   ]
  },
  {
   "cell_type": "code",
   "execution_count": 33,
   "metadata": {
    "ExecuteTime": {
     "end_time": "2017-03-06T21:32:32.923379",
     "start_time": "2017-03-06T21:32:32.843088"
    },
    "collapsed": true
   },
   "outputs": [],
   "source": [
    "swaptionEngine = ql.Gaussian1dSwaptionEngine(gsr, 64, 7.0, True, False, ytsOis)"
   ]
  },
  {
   "cell_type": "code",
   "execution_count": 34,
   "metadata": {
    "ExecuteTime": {
     "end_time": "2017-03-06T21:32:32.996035",
     "start_time": "2017-03-06T21:32:32.925143"
    },
    "collapsed": false
   },
   "outputs": [],
   "source": [
    "nonstandardSwaptionEngine = ql.Gaussian1dNonstandardSwaptionEngine(gsr, 64, 7.0, True, False, ql.QuoteHandle(),ytsOis)"
   ]
  },
  {
   "cell_type": "code",
   "execution_count": 35,
   "metadata": {
    "ExecuteTime": {
     "end_time": "2017-03-06T21:32:33.073072",
     "start_time": "2017-03-06T21:32:32.996978"
    },
    "collapsed": true
   },
   "outputs": [],
   "source": [
    "swaption.setPricingEngine(nonstandardSwaptionEngine)"
   ]
  },
  {
   "cell_type": "markdown",
   "metadata": {},
   "source": [
    "The engine can generate a calibration basket in two modes. The first one is called Naive and generates ATM swaptions adapted to the exercise dates of the swaption and its maturity date."
   ]
  },
  {
   "cell_type": "code",
   "execution_count": 36,
   "metadata": {
    "ExecuteTime": {
     "end_time": "2017-03-06T21:32:33.137049",
     "start_time": "2017-03-06T21:32:33.074089"
    },
    "collapsed": true
   },
   "outputs": [],
   "source": [
    "swapBase = ql.EuriborSwapIsdaFixA(ql.Period(10,ql.Years), yts6m, ytsOis)"
   ]
  },
  {
   "cell_type": "code",
   "execution_count": 37,
   "metadata": {
    "ExecuteTime": {
     "end_time": "2017-03-06T21:32:33.271421",
     "start_time": "2017-03-06T21:32:33.138054"
    },
    "collapsed": false
   },
   "outputs": [],
   "source": [
    "basket = swaption.calibrationBasket(swapBase, swaptionVol, \"Naive\")"
   ]
  },
  {
   "cell_type": "code",
   "execution_count": 38,
   "metadata": {
    "ExecuteTime": {
     "end_time": "2017-03-06T21:32:33.368673",
     "start_time": "2017-03-06T21:32:33.272944"
    },
    "collapsed": true
   },
   "outputs": [],
   "source": [
    "def printBasket(basket):\n",
    "    print()\n",
    "    print('{:<20}{:<20}{:<20}{:<14}{:<12}{:<14}'.format(\"Expiry\", \"Maturity\", \"Nominal\", \"Rate\", \"Pay/Rec\", \"Market ivol\"))\n",
    "    print(\"====================\"*4+\"==================\")\n",
    "    for helper in basket:\n",
    "        endDate = helper.swaptionMaturityDate()\n",
    "        nominal = helper.swaptionNominal()\n",
    "        vol = helper.volatility().value()\n",
    "        rate = helper.swaptionStrike()\n",
    "        expiry = helper.swaptionExpiryDate()\n",
    "        swp_type = 0 # to be SWIGed\n",
    "        print('{:<20}{:<20}{:<20}{:<14}{:<12}{:<14}'.format(str(expiry), str(endDate), (\"%.2f\"%nominal), (\"%.6f\"%rate), str(swp_type), (\"%.6f\"%vol)))"
   ]
  },
  {
   "cell_type": "markdown",
   "metadata": {},
   "source": [
    "The resulting basket looks as follows:"
   ]
  },
  {
   "cell_type": "code",
   "execution_count": 39,
   "metadata": {
    "ExecuteTime": {
     "end_time": "2017-03-06T21:32:33.473258",
     "start_time": "2017-03-06T21:32:33.369683"
    },
    "collapsed": false
   },
   "outputs": [
    {
     "name": "stdout",
     "output_type": "stream",
     "text": [
      "\n",
      "Expiry              Maturity            Nominal             Rate          Pay/Rec     Market ivol   \n",
      "==================================================================================================\n",
      "April 30th, 2015    May 6th, 2024       1.00                0.025307      0           0.200000      \n",
      "May 3rd, 2016       May 6th, 2024       1.00                0.025300      0           0.200000      \n",
      "May 3rd, 2017       May 6th, 2024       1.00                0.025303      0           0.200000      \n",
      "May 3rd, 2018       May 6th, 2024       1.00                0.025306      0           0.200000      \n",
      "May 2nd, 2019       May 6th, 2024       1.00                0.025311      0           0.200000      \n",
      "April 30th, 2020    May 6th, 2024       1.00                0.025300      0           0.200000      \n",
      "May 3rd, 2021       May 6th, 2024       1.00                0.025306      0           0.200000      \n",
      "May 3rd, 2022       May 6th, 2024       1.00                0.025318      0           0.200000      \n",
      "May 3rd, 2023       May 6th, 2024       1.00                0.025353      0           0.200000      \n"
     ]
    }
   ],
   "source": [
    "printBasket(basket)"
   ]
  },
  {
   "cell_type": "markdown",
   "metadata": {},
   "source": [
    "Let's calibrate our model to this basket. We use a specialized calibration method calibrating the sigma function one by one to the calibrating vanilla swaptions. The result of this is as follows:"
   ]
  },
  {
   "cell_type": "code",
   "execution_count": 40,
   "metadata": {
    "ExecuteTime": {
     "end_time": "2017-03-06T21:32:33.571712",
     "start_time": "2017-03-06T21:32:33.475265"
    },
    "collapsed": false
   },
   "outputs": [],
   "source": [
    "for helper in basket:\n",
    "    helper.setPricingEngine(swaptionEngine)"
   ]
  },
  {
   "cell_type": "code",
   "execution_count": 41,
   "metadata": {
    "ExecuteTime": {
     "end_time": "2017-03-06T21:32:33.645358",
     "start_time": "2017-03-06T21:32:33.572651"
    },
    "collapsed": true
   },
   "outputs": [],
   "source": [
    "method = ql.LevenbergMarquardt()"
   ]
  },
  {
   "cell_type": "code",
   "execution_count": 42,
   "metadata": {
    "ExecuteTime": {
     "end_time": "2017-03-06T21:32:33.709440",
     "start_time": "2017-03-06T21:32:33.646375"
    },
    "collapsed": true
   },
   "outputs": [],
   "source": [
    "ec = ql.EndCriteria(1000, 10, 1e-8, 1e-8, 1e-8)"
   ]
  },
  {
   "cell_type": "code",
   "execution_count": 43,
   "metadata": {
    "ExecuteTime": {
     "end_time": "2017-03-06T21:32:34.084420",
     "start_time": "2017-03-06T21:32:33.710442"
    },
    "collapsed": false
   },
   "outputs": [],
   "source": [
    "gsr.calibrateVolatilitiesIterative(basket, method, ec)"
   ]
  },
  {
   "cell_type": "code",
   "execution_count": 44,
   "metadata": {
    "ExecuteTime": {
     "end_time": "2017-03-06T21:32:34.147939",
     "start_time": "2017-03-06T21:32:34.085832"
    },
    "collapsed": false
   },
   "outputs": [],
   "source": [
    "def printModelCalibration(basket, volatility):\n",
    "    print()\n",
    "    print('{:<20}{:<14}{:<20}{:<20}{:<14}{:<14}'.format(\"Expiry\", \"Model sigma\", \"Model price\", \"Market price\", \"Model ivol\", \"Market ivol\"))\n",
    "    print(\"====================\"*5)\n",
    "    for i in range(0,len(basket)):\n",
    "        helper = basket[i]\n",
    "        expiry = helper.swaptionExpiryDate()\n",
    "        print('{:<20}{:<14}{:<20}{:<20}{:<14}{:<14}'.format(str(expiry), (\"%.6f\"%volatility[i]), (\"%.6f\"%helper.modelValue()),\n",
    "                                                           (\"%.6f\"%helper.marketValue()), (\"%.6f\"%helper.impliedVolatility(helper.modelValue(), 1e-6, 1000, 0.0, 2.0)),\n",
    "                                                           (\"%.6f\"%helper.volatility().value())))\n",
    "    if (len(volatility) > len(basket)):\n",
    "        print('{:<20}'.format((\"%.6f\"%volatility[-1])))\n",
    "        "
   ]
  },
  {
   "cell_type": "code",
   "execution_count": 45,
   "metadata": {
    "ExecuteTime": {
     "end_time": "2017-03-06T21:32:34.293962",
     "start_time": "2017-03-06T21:32:34.148961"
    },
    "collapsed": false
   },
   "outputs": [
    {
     "name": "stdout",
     "output_type": "stream",
     "text": [
      "\n",
      "Expiry              Model sigma   Model price         Market price        Model ivol    Market ivol   \n",
      "====================================================================================================\n",
      "April 30th, 2015    0.005178      0.016111            0.016111            0.199999      0.200000      \n",
      "May 3rd, 2016       0.005156      0.020062            0.020062            0.200000      0.200000      \n",
      "May 3rd, 2017       0.005149      0.021229            0.021229            0.200000      0.200000      \n",
      "May 3rd, 2018       0.005129      0.020738            0.020738            0.200000      0.200000      \n",
      "May 2nd, 2019       0.005132      0.019096            0.019096            0.200000      0.200000      \n",
      "April 30th, 2020    0.005074      0.016537            0.016537            0.200000      0.200000      \n",
      "May 3rd, 2021       0.005091      0.013253            0.013253            0.200000      0.200000      \n",
      "May 3rd, 2022       0.005097      0.009342            0.009342            0.200000      0.200000      \n",
      "May 3rd, 2023       0.005001      0.004910            0.004910            0.200000      0.200000      \n"
     ]
    }
   ],
   "source": [
    "printModelCalibration(basket, gsr.volatility())"
   ]
  },
  {
   "cell_type": "markdown",
   "metadata": {},
   "source": [
    "Finally we price our bermudan swaption in the calibrated model:"
   ]
  },
  {
   "cell_type": "code",
   "execution_count": 46,
   "metadata": {
    "ExecuteTime": {
     "end_time": "2017-03-06T21:32:34.387569",
     "start_time": "2017-03-06T21:32:34.294932"
    },
    "collapsed": false,
    "scrolled": true
   },
   "outputs": [
    {
     "name": "stdout",
     "output_type": "stream",
     "text": [
      "Bermudan swaption NPV (ATM calibrated GSR) = 0.003808\n"
     ]
    }
   ],
   "source": [
    "print(\"Bermudan swaption NPV (ATM calibrated GSR) = %.6f\" % swaption.NPV())"
   ]
  },
  {
   "cell_type": "markdown",
   "metadata": {},
   "source": [
    "There is another mode to generate a calibration basket called MaturityStrikeByDeltaGamma. This means that the maturity, the strike and the nominal of the calibrating swaption are computed such that the npv and its first and second derivative with respect to the model's state variable) of the exotics underlying match with the calibrating swaption'sunderlying. Let's try this in our case."
   ]
  },
  {
   "cell_type": "code",
   "execution_count": 47,
   "metadata": {
    "ExecuteTime": {
     "end_time": "2017-03-06T21:32:34.482820",
     "start_time": "2017-03-06T21:32:34.388550"
    },
    "collapsed": true
   },
   "outputs": [],
   "source": [
    "basket = swaption.calibrationBasket(swapBase, swaptionVol, \"MaturityStrikeByDeltaGamma\")"
   ]
  },
  {
   "cell_type": "code",
   "execution_count": 48,
   "metadata": {
    "ExecuteTime": {
     "end_time": "2017-03-06T21:32:34.581671",
     "start_time": "2017-03-06T21:32:34.483835"
    },
    "collapsed": false
   },
   "outputs": [
    {
     "name": "stdout",
     "output_type": "stream",
     "text": [
      "\n",
      "Expiry              Maturity            Nominal             Rate          Pay/Rec     Market ivol   \n",
      "==================================================================================================\n",
      "April 30th, 2015    May 6th, 2024       1.00                0.040000      0           0.200000      \n",
      "May 3rd, 2016       May 6th, 2024       1.00                0.040000      0           0.200000      \n",
      "May 3rd, 2017       May 6th, 2024       1.00                0.040000      0           0.200000      \n",
      "May 3rd, 2018       May 7th, 2024       1.00                0.040000      0           0.200000      \n",
      "May 2nd, 2019       May 6th, 2024       1.00                0.040000      0           0.200000      \n",
      "April 30th, 2020    May 6th, 2024       1.00                0.040000      0           0.200000      \n",
      "May 3rd, 2021       May 6th, 2024       1.00                0.040000      0           0.200000      \n",
      "May 3rd, 2022       May 6th, 2024       1.00                0.040000      0           0.200000      \n",
      "May 3rd, 2023       May 6th, 2024       1.00                0.040000      0           0.200000      \n"
     ]
    }
   ],
   "source": [
    "printBasket(basket)"
   ]
  },
  {
   "cell_type": "markdown",
   "metadata": {},
   "source": [
    "The calibrated nominal is close to the exotics nominal. The expiries and maturity dates of the vanillas are the same as in the case above. The difference is the strike which is now equal to the exotics strike."
   ]
  },
  {
   "cell_type": "markdown",
   "metadata": {},
   "source": [
    "Let's see how this affects the exotics npv. The recalibrated model is:"
   ]
  },
  {
   "cell_type": "code",
   "execution_count": 49,
   "metadata": {
    "ExecuteTime": {
     "end_time": "2017-03-06T21:32:34.657806",
     "start_time": "2017-03-06T21:32:34.582673"
    },
    "collapsed": true
   },
   "outputs": [],
   "source": [
    "for helper in basket:\n",
    "    helper.setPricingEngine(swaptionEngine)"
   ]
  },
  {
   "cell_type": "code",
   "execution_count": 50,
   "metadata": {
    "ExecuteTime": {
     "end_time": "2017-03-06T21:32:35.010132",
     "start_time": "2017-03-06T21:32:34.658798"
    },
    "collapsed": true
   },
   "outputs": [],
   "source": [
    "gsr.calibrateVolatilitiesIterative(basket, method, ec)"
   ]
  },
  {
   "cell_type": "code",
   "execution_count": 51,
   "metadata": {
    "ExecuteTime": {
     "end_time": "2017-03-06T21:32:35.140518",
     "start_time": "2017-03-06T21:32:35.011991"
    },
    "collapsed": false
   },
   "outputs": [
    {
     "name": "stdout",
     "output_type": "stream",
     "text": [
      "\n",
      "Expiry              Model sigma   Model price         Market price        Model ivol    Market ivol   \n",
      "====================================================================================================\n",
      "April 30th, 2015    0.006508      0.000191            0.000191            0.200000      0.200000      \n",
      "May 3rd, 2016       0.006502      0.001412            0.001412            0.200000      0.200000      \n",
      "May 3rd, 2017       0.006480      0.002905            0.002905            0.200000      0.200000      \n",
      "May 3rd, 2018       0.006464      0.004091            0.004091            0.200000      0.200000      \n",
      "May 2nd, 2019       0.006422      0.004765            0.004765            0.200000      0.200000      \n",
      "April 30th, 2020    0.006445      0.004869            0.004869            0.200000      0.200000      \n",
      "May 3rd, 2021       0.006433      0.004433            0.004433            0.200000      0.200000      \n",
      "May 3rd, 2022       0.006332      0.003454            0.003454            0.200000      0.200000      \n",
      "May 3rd, 2023       0.006295      0.001973            0.001973            0.200000      0.200000      \n"
     ]
    }
   ],
   "source": [
    "printModelCalibration(basket, gsr.volatility())"
   ]
  },
  {
   "cell_type": "markdown",
   "metadata": {},
   "source": [
    "And the bermudan's price becomes:"
   ]
  },
  {
   "cell_type": "code",
   "execution_count": 52,
   "metadata": {
    "ExecuteTime": {
     "end_time": "2017-03-06T21:32:35.250692",
     "start_time": "2017-03-06T21:32:35.141498"
    },
    "collapsed": false
   },
   "outputs": [
    {
     "name": "stdout",
     "output_type": "stream",
     "text": [
      "Bermudan swaption NPV (deal strike calibrated GSR) = 0.007627\n"
     ]
    }
   ],
   "source": [
    "print(\"Bermudan swaption NPV (deal strike calibrated GSR) = %.6f\" % swaption.NPV())"
   ]
  },
  {
   "cell_type": "markdown",
   "metadata": {},
   "source": [
    "We can do more complicated things, let's e.g. modify the nominal schedule to be linear amortizing and see what the effect on the generated calibration basket is:"
   ]
  },
  {
   "cell_type": "code",
   "execution_count": 53,
   "metadata": {
    "ExecuteTime": {
     "end_time": "2017-03-06T21:32:35.325906",
     "start_time": "2017-03-06T21:32:35.251695"
    },
    "collapsed": false
   },
   "outputs": [],
   "source": [
    "nominalFixed = [ 1.0 - float(i) / (len(fixedSchedule) - 1) for i in range(0,len(fixedSchedule)-1)]\n",
    "nominalFloating = [ n for n in nominalFixed for repetitions in range(2)]\n",
    "strikes = [strike]*len(nominalFixed)"
   ]
  },
  {
   "cell_type": "code",
   "execution_count": 54,
   "metadata": {
    "ExecuteTime": {
     "end_time": "2017-03-06T21:32:35.412122",
     "start_time": "2017-03-06T21:32:35.326896"
    },
    "collapsed": false
   },
   "outputs": [],
   "source": [
    "underlying2 = ql.NonstandardSwap(ql.VanillaSwap.Payer, nominalFixed, nominalFloating, fixedSchedule,\n",
    "                                              strikes, ql.Thirty360(), floatingSchedule, \n",
    "                                              euribor6m, [1.0]*(len(floatingSchedule)-1), [0.0]*(len(floatingSchedule)-1), ql.Actual360())"
   ]
  },
  {
   "cell_type": "code",
   "execution_count": 55,
   "metadata": {
    "ExecuteTime": {
     "end_time": "2017-03-06T21:32:35.491333",
     "start_time": "2017-03-06T21:32:35.413133"
    },
    "collapsed": true
   },
   "outputs": [],
   "source": [
    "swaption2 = ql.NonstandardSwaption(underlying2, exercise)"
   ]
  },
  {
   "cell_type": "code",
   "execution_count": 56,
   "metadata": {
    "ExecuteTime": {
     "end_time": "2017-03-06T21:32:35.568539",
     "start_time": "2017-03-06T21:32:35.492335"
    },
    "collapsed": true
   },
   "outputs": [],
   "source": [
    "swaption2.setPricingEngine(nonstandardSwaptionEngine)"
   ]
  },
  {
   "cell_type": "code",
   "execution_count": 57,
   "metadata": {
    "ExecuteTime": {
     "end_time": "2017-03-06T21:32:35.688291",
     "start_time": "2017-03-06T21:32:35.570544"
    },
    "collapsed": true
   },
   "outputs": [],
   "source": [
    "basket = swaption2.calibrationBasket(swapBase, swaptionVol, \"MaturityStrikeByDeltaGamma\")"
   ]
  },
  {
   "cell_type": "code",
   "execution_count": 58,
   "metadata": {
    "ExecuteTime": {
     "end_time": "2017-03-06T21:32:35.776525",
     "start_time": "2017-03-06T21:32:35.690029"
    },
    "collapsed": false
   },
   "outputs": [
    {
     "name": "stdout",
     "output_type": "stream",
     "text": [
      "\n",
      "Expiry              Maturity            Nominal             Rate          Pay/Rec     Market ivol   \n",
      "==================================================================================================\n",
      "April 30th, 2015    August 5th, 2021    0.72                0.039997      0           0.200000      \n",
      "May 3rd, 2016       December 6th, 2021  0.64                0.040003      0           0.200000      \n",
      "May 3rd, 2017       May 5th, 2022       0.56                0.040005      0           0.200000      \n",
      "May 3rd, 2018       September 7th, 2022 0.49                0.040004      0           0.200000      \n",
      "May 2nd, 2019       January 6th, 2023   0.41                0.040008      0           0.200000      \n",
      "April 30th, 2020    May 5th, 2023       0.33                0.039994      0           0.200000      \n",
      "May 3rd, 2021       September 5th, 2023 0.26                0.039995      0           0.200000      \n",
      "May 3rd, 2022       January 5th, 2024   0.18                0.040031      0           0.200000      \n",
      "May 3rd, 2023       May 6th, 2024       0.10                0.040000      0           0.200000      \n"
     ]
    }
   ],
   "source": [
    "printBasket(basket)"
   ]
  },
  {
   "cell_type": "markdown",
   "metadata": {},
   "source": [
    "The notional is weighted over the underlying exercised into and the maturity is adjusted downwards. The rate on the other hand is not affected."
   ]
  },
  {
   "cell_type": "markdown",
   "metadata": {},
   "source": [
    "You can also price exotic bond's features. If you have e.g. a bermudan callable fixed bond you can set up the call right as a swaption to enter into a one leg swap with notional reimbursement at maturity. The exercise should then be written as a rebated exercise paying the notional in case of exercise."
   ]
  },
  {
   "cell_type": "code",
   "execution_count": 59,
   "metadata": {
    "ExecuteTime": {
     "end_time": "2017-03-06T21:32:35.851550",
     "start_time": "2017-03-06T21:32:35.777528"
    },
    "collapsed": true
   },
   "outputs": [],
   "source": [
    "nominalFixed2 = [1.0]*len(nominalFixed)\n",
    "nominalFloating2 = [0.0]*len(nominalFloating)"
   ]
  },
  {
   "cell_type": "code",
   "execution_count": 60,
   "metadata": {
    "ExecuteTime": {
     "end_time": "2017-03-06T21:32:35.922748",
     "start_time": "2017-03-06T21:32:35.852554"
    },
    "collapsed": true
   },
   "outputs": [],
   "source": [
    "underlying3 = ql.NonstandardSwap(ql.VanillaSwap.Receiver, nominalFixed2, nominalFloating2, fixedSchedule,\n",
    "                                              strikes, ql.Thirty360(), floatingSchedule, \n",
    "                                              euribor6m, [1.0]*(len(floatingSchedule)-1), [0.0]*(len(floatingSchedule)-1), ql.Actual360(),\n",
    "                                False, True)"
   ]
  },
  {
   "cell_type": "code",
   "execution_count": 61,
   "metadata": {
    "ExecuteTime": {
     "end_time": "2017-03-06T21:32:36.030964",
     "start_time": "2017-03-06T21:32:35.924753"
    },
    "collapsed": false
   },
   "outputs": [],
   "source": [
    "exercise2 = ql.RebatedExercise(exercise, [-1.0]*len(exerciseDates), 2, ql.TARGET())"
   ]
  },
  {
   "cell_type": "code",
   "execution_count": 62,
   "metadata": {
    "ExecuteTime": {
     "end_time": "2017-03-06T21:32:36.107670",
     "start_time": "2017-03-06T21:32:36.032970"
    },
    "collapsed": true
   },
   "outputs": [],
   "source": [
    "swaption3 = ql.NonstandardSwaption(underlying3, exercise2)"
   ]
  },
  {
   "cell_type": "code",
   "execution_count": 63,
   "metadata": {
    "ExecuteTime": {
     "end_time": "2017-03-06T21:32:36.197668",
     "start_time": "2017-03-06T21:32:36.109326"
    },
    "collapsed": true
   },
   "outputs": [],
   "source": [
    "oas0 = ql.SimpleQuote(0.0)\n",
    "oas100 = ql.SimpleQuote(0.01)\n",
    "oas = ql.RelinkableQuoteHandle(oas0)"
   ]
  },
  {
   "cell_type": "code",
   "execution_count": 64,
   "metadata": {
    "ExecuteTime": {
     "end_time": "2017-03-06T21:32:36.271524",
     "start_time": "2017-03-06T21:32:36.198640"
    },
    "collapsed": false
   },
   "outputs": [],
   "source": [
    "nonstandardSwaptionEngine2 = ql.Gaussian1dNonstandardSwaptionEngine(gsr, 64, 7.0, True, False, oas) #change discounting to 6m"
   ]
  },
  {
   "cell_type": "code",
   "execution_count": 65,
   "metadata": {
    "ExecuteTime": {
     "end_time": "2017-03-06T21:32:36.358316",
     "start_time": "2017-03-06T21:32:36.272541"
    },
    "collapsed": true
   },
   "outputs": [],
   "source": [
    "swaption3.setPricingEngine(nonstandardSwaptionEngine2)"
   ]
  },
  {
   "cell_type": "code",
   "execution_count": 66,
   "metadata": {
    "ExecuteTime": {
     "end_time": "2017-03-06T21:32:36.471394",
     "start_time": "2017-03-06T21:32:36.359285"
    },
    "collapsed": true
   },
   "outputs": [],
   "source": [
    "basket = swaption3.calibrationBasket(swapBase, swaptionVol, \"MaturityStrikeByDeltaGamma\")"
   ]
  },
  {
   "cell_type": "markdown",
   "metadata": {},
   "source": [
    "The calibration basket looks like this:"
   ]
  },
  {
   "cell_type": "code",
   "execution_count": 67,
   "metadata": {
    "ExecuteTime": {
     "end_time": "2017-03-06T21:32:36.559694",
     "start_time": "2017-03-06T21:32:36.472773"
    },
    "collapsed": false
   },
   "outputs": [
    {
     "name": "stdout",
     "output_type": "stream",
     "text": [
      "\n",
      "Expiry              Maturity            Nominal             Rate          Pay/Rec     Market ivol   \n",
      "==================================================================================================\n",
      "April 30th, 2015    April 5th, 2024     0.98                0.039952      0           0.200000      \n",
      "May 3rd, 2016       April 5th, 2024     0.99                0.039952      0           0.200000      \n",
      "May 3rd, 2017       May 6th, 2024       0.99                0.039952      0           0.200000      \n",
      "May 3rd, 2018       May 7th, 2024       0.99                0.039952      0           0.200000      \n",
      "May 2nd, 2019       May 6th, 2024       0.99                0.039952      0           0.200000      \n",
      "April 30th, 2020    May 6th, 2024       0.99                0.039951      0           0.200000      \n",
      "May 3rd, 2021       May 6th, 2024       0.99                0.039951      0           0.200000      \n",
      "May 3rd, 2022       May 6th, 2024       0.99                0.039952      0           0.200000      \n",
      "May 3rd, 2023       May 6th, 2024       1.00                0.039949      0           0.200000      \n"
     ]
    }
   ],
   "source": [
    "printBasket(basket)"
   ]
  },
  {
   "cell_type": "markdown",
   "metadata": {},
   "source": [
    "Note that nominals are not exactly 1.0 here. This is because we do our bond discounting on 6m level while the swaptions are still discounted on OIS level. (You can try this by changing the OIS level to the 6m level, which will produce nominals near 1.0). The npv of the call right is (after recalibrating the model):"
   ]
  },
  {
   "cell_type": "code",
   "execution_count": 68,
   "metadata": {
    "ExecuteTime": {
     "end_time": "2017-03-06T21:32:36.628210",
     "start_time": "2017-03-06T21:32:36.561668"
    },
    "collapsed": true
   },
   "outputs": [],
   "source": [
    "for helper in basket:\n",
    "    helper.setPricingEngine(swaptionEngine)"
   ]
  },
  {
   "cell_type": "code",
   "execution_count": 69,
   "metadata": {
    "ExecuteTime": {
     "end_time": "2017-03-06T21:32:36.940462",
     "start_time": "2017-03-06T21:32:36.630146"
    },
    "collapsed": true
   },
   "outputs": [],
   "source": [
    "gsr.calibrateVolatilitiesIterative(basket, method, ec)"
   ]
  },
  {
   "cell_type": "code",
   "execution_count": 70,
   "metadata": {
    "ExecuteTime": {
     "end_time": "2017-03-06T21:32:37.076410",
     "start_time": "2017-03-06T21:32:36.941482"
    },
    "collapsed": false
   },
   "outputs": [
    {
     "name": "stdout",
     "output_type": "stream",
     "text": [
      "Bond's bermudan call right npv = 0.115409\n"
     ]
    }
   ],
   "source": [
    "print(\"Bond's bermudan call right npv = %.6f\" % swaption3.NPV())"
   ]
  },
  {
   "cell_type": "markdown",
   "metadata": {},
   "source": [
    "Up to now, no credit spread is included in the pricing. We can do so by specifying an oas in the pricing engine. Let's set the spread level to 100bp and regenerate the calibration basket."
   ]
  },
  {
   "cell_type": "code",
   "execution_count": 71,
   "metadata": {
    "ExecuteTime": {
     "end_time": "2017-03-06T21:32:37.142682",
     "start_time": "2017-03-06T21:32:37.077442"
    },
    "collapsed": true
   },
   "outputs": [],
   "source": [
    "oas.linkTo(oas100) # Credit Spread 100bp"
   ]
  },
  {
   "cell_type": "code",
   "execution_count": 72,
   "metadata": {
    "ExecuteTime": {
     "end_time": "2017-03-06T21:32:37.289896",
     "start_time": "2017-03-06T21:32:37.143684"
    },
    "collapsed": true
   },
   "outputs": [],
   "source": [
    "basket = swaption3.calibrationBasket(swapBase, swaptionVol, \"MaturityStrikeByDeltaGamma\")"
   ]
  },
  {
   "cell_type": "code",
   "execution_count": 73,
   "metadata": {
    "ExecuteTime": {
     "end_time": "2017-03-06T21:32:37.360057",
     "start_time": "2017-03-06T21:32:37.290872"
    },
    "collapsed": false
   },
   "outputs": [
    {
     "name": "stdout",
     "output_type": "stream",
     "text": [
      "\n",
      "Expiry              Maturity            Nominal             Rate          Pay/Rec     Market ivol   \n",
      "==================================================================================================\n",
      "April 30th, 2015    February 5th, 2024  0.96                0.029608      0           0.200000      \n",
      "May 3rd, 2016       March 5th, 2024     0.97                0.029605      0           0.200000      \n",
      "May 3rd, 2017       April 5th, 2024     0.97                0.029608      0           0.200000      \n",
      "May 3rd, 2018       April 8th, 2024     0.97                0.029610      0           0.200000      \n",
      "May 2nd, 2019       April 8th, 2024     0.98                0.029608      0           0.200000      \n",
      "April 30th, 2020    May 6th, 2024       0.98                0.029612      0           0.200000      \n",
      "May 3rd, 2021       May 6th, 2024       0.99                0.029609      0           0.200000      \n",
      "May 3rd, 2022       May 6th, 2024       0.99                0.029603      0           0.200000      \n",
      "May 3rd, 2023       May 6th, 2024       1.00                0.029586      0           0.200000      \n"
     ]
    }
   ],
   "source": [
    "printBasket(basket)"
   ]
  },
  {
   "cell_type": "markdown",
   "metadata": {},
   "source": [
    "The adjusted basket takes the credit spread into account. This is consistent to a hedge where you would have a margin on the float leg around 100bp, too."
   ]
  },
  {
   "cell_type": "code",
   "execution_count": 74,
   "metadata": {
    "ExecuteTime": {
     "end_time": "2017-03-06T21:32:37.443295",
     "start_time": "2017-03-06T21:32:37.361085"
    },
    "collapsed": true
   },
   "outputs": [],
   "source": [
    "for helper in basket:\n",
    "    helper.setPricingEngine(swaptionEngine)"
   ]
  },
  {
   "cell_type": "code",
   "execution_count": 75,
   "metadata": {
    "ExecuteTime": {
     "end_time": "2017-03-06T21:32:37.768164",
     "start_time": "2017-03-06T21:32:37.444281"
    },
    "collapsed": true
   },
   "outputs": [],
   "source": [
    "gsr.calibrateVolatilitiesIterative(basket, method, ec)"
   ]
  },
  {
   "cell_type": "code",
   "execution_count": 76,
   "metadata": {
    "ExecuteTime": {
     "end_time": "2017-03-06T21:32:37.887191",
     "start_time": "2017-03-06T21:32:37.770171"
    },
    "collapsed": false
   },
   "outputs": [
    {
     "name": "stdout",
     "output_type": "stream",
     "text": [
      "Bond's bermudan call right npv (oas = 100bp) = 0.044980\n"
     ]
    }
   ],
   "source": [
    "print(\"Bond's bermudan call right npv (oas = 100bp) = %.6f\" % swaption3.NPV())"
   ]
  },
  {
   "cell_type": "markdown",
   "metadata": {},
   "source": [
    "The next instrument we look at is a CMS 10Y vs Euribor 6M swaption. The maturity is again 10 years and the option is exercisable on a yearly basis"
   ]
  },
  {
   "cell_type": "code",
   "execution_count": 77,
   "metadata": {
    "ExecuteTime": {
     "end_time": "2017-03-06T21:32:37.994305",
     "start_time": "2017-03-06T21:32:37.888163"
    },
    "collapsed": false
   },
   "outputs": [],
   "source": [
    "underlying4 = ql.FloatFloatSwap(ql.VanillaSwap.Payer, [1.0]*(len(fixedSchedule)-1), [1.0]*(len(floatingSchedule)-1), fixedSchedule,\n",
    "                               swapBase, ql.Thirty360(), floatingSchedule,\n",
    "                               euribor6m, ql.Actual360(), False, False,\n",
    "                               [1.0]*(len(fixedSchedule)-1),[0.0]*(len(fixedSchedule)-1),[] ,[] ,[1.0]*(len(floatingSchedule)-1),\n",
    "                                [0.001]*(len(floatingSchedule)-1),[],[])"
   ]
  },
  {
   "cell_type": "code",
   "execution_count": 78,
   "metadata": {
    "ExecuteTime": {
     "end_time": "2017-03-06T21:32:38.098361",
     "start_time": "2017-03-06T21:32:37.995309"
    },
    "collapsed": false
   },
   "outputs": [],
   "source": [
    "swaption4 = ql.FloatFloatSwaption(underlying4, exercise)"
   ]
  },
  {
   "cell_type": "code",
   "execution_count": 79,
   "metadata": {
    "ExecuteTime": {
     "end_time": "2017-03-06T21:32:38.204388",
     "start_time": "2017-03-06T21:32:38.100369"
    },
    "collapsed": false
   },
   "outputs": [],
   "source": [
    "floatSwaptionEngine = ql.Gaussian1dFloatFloatSwaptionEngine(gsr, 64, 7.0, True, False, ql.QuoteHandle(), ytsOis, True)"
   ]
  },
  {
   "cell_type": "code",
   "execution_count": 80,
   "metadata": {
    "ExecuteTime": {
     "end_time": "2017-03-06T21:32:38.305478",
     "start_time": "2017-03-06T21:32:38.205382"
    },
    "collapsed": true
   },
   "outputs": [],
   "source": [
    "swaption4.setPricingEngine(floatSwaptionEngine)"
   ]
  },
  {
   "cell_type": "markdown",
   "metadata": {},
   "source": [
    "Since the underlying is quite exotic already, we start with pricing this using the LinearTsrPricer for CMS coupon estimation"
   ]
  },
  {
   "cell_type": "code",
   "execution_count": 81,
   "metadata": {
    "ExecuteTime": {
     "end_time": "2017-03-06T21:32:38.369249",
     "start_time": "2017-03-06T21:32:38.307483"
    },
    "collapsed": false
   },
   "outputs": [],
   "source": [
    "reversionQuote=ql.QuoteHandle(ql.SimpleQuote(reversion))"
   ]
  },
  {
   "cell_type": "code",
   "execution_count": 82,
   "metadata": {
    "ExecuteTime": {
     "end_time": "2017-03-06T21:32:38.427557",
     "start_time": "2017-03-06T21:32:38.370253"
    },
    "collapsed": true
   },
   "outputs": [],
   "source": [
    "leg0 = underlying4.leg(0)\n",
    "leg1 = underlying4.leg(1)"
   ]
  },
  {
   "cell_type": "code",
   "execution_count": 83,
   "metadata": {
    "ExecuteTime": {
     "end_time": "2017-03-06T21:32:38.514026",
     "start_time": "2017-03-06T21:32:38.428560"
    },
    "collapsed": false
   },
   "outputs": [],
   "source": [
    "cmsPricer = ql.LinearTsrPricer(swaptionVolHandle, reversionQuote)"
   ]
  },
  {
   "cell_type": "code",
   "execution_count": 84,
   "metadata": {
    "ExecuteTime": {
     "end_time": "2017-03-06T21:32:38.578547",
     "start_time": "2017-03-06T21:32:38.515404"
    },
    "collapsed": true
   },
   "outputs": [],
   "source": [
    "ql.setCouponPricer(leg0,cmsPricer)"
   ]
  },
  {
   "cell_type": "code",
   "execution_count": 85,
   "metadata": {
    "ExecuteTime": {
     "end_time": "2017-03-06T21:32:38.643582",
     "start_time": "2017-03-06T21:32:38.579889"
    },
    "collapsed": true
   },
   "outputs": [],
   "source": [
    "iborPricer = ql.BlackIborCouponPricer()"
   ]
  },
  {
   "cell_type": "code",
   "execution_count": 86,
   "metadata": {
    "ExecuteTime": {
     "end_time": "2017-03-06T21:32:38.726646",
     "start_time": "2017-03-06T21:32:38.644570"
    },
    "collapsed": true
   },
   "outputs": [],
   "source": [
    "ql.setCouponPricer(leg1,iborPricer)"
   ]
  },
  {
   "cell_type": "code",
   "execution_count": 87,
   "metadata": {
    "ExecuteTime": {
     "end_time": "2017-03-06T21:32:38.819671",
     "start_time": "2017-03-06T21:32:38.727580"
    },
    "collapsed": true
   },
   "outputs": [],
   "source": [
    "swapPricer = ql.DiscountingSwapEngine(ytsOis)"
   ]
  },
  {
   "cell_type": "code",
   "execution_count": 88,
   "metadata": {
    "ExecuteTime": {
     "end_time": "2017-03-06T21:32:38.902265",
     "start_time": "2017-03-06T21:32:38.820659"
    },
    "collapsed": true
   },
   "outputs": [],
   "source": [
    "underlying4.setPricingEngine(swapPricer)"
   ]
  },
  {
   "cell_type": "code",
   "execution_count": 89,
   "metadata": {
    "ExecuteTime": {
     "end_time": "2017-03-06T21:32:39.087477",
     "start_time": "2017-03-06T21:32:38.903268"
    },
    "collapsed": false
   },
   "outputs": [],
   "source": [
    "npv5 = underlying4.NPV()"
   ]
  },
  {
   "cell_type": "code",
   "execution_count": 90,
   "metadata": {
    "ExecuteTime": {
     "end_time": "2017-03-06T21:32:39.201753",
     "start_time": "2017-03-06T21:32:39.088513"
    },
    "collapsed": false
   },
   "outputs": [
    {
     "name": "stdout",
     "output_type": "stream",
     "text": [
      "Underlying CMS Swap NPV = 0.004447\n"
     ]
    }
   ],
   "source": [
    "print(\"Underlying CMS Swap NPV = %.6f\" % npv5)"
   ]
  },
  {
   "cell_type": "code",
   "execution_count": 91,
   "metadata": {
    "ExecuteTime": {
     "end_time": "2017-03-06T21:32:39.331965",
     "start_time": "2017-03-06T21:32:39.202775"
    },
    "collapsed": false
   },
   "outputs": [
    {
     "name": "stdout",
     "output_type": "stream",
     "text": [
      "       CMS     Leg  NPV = -0.231736\n"
     ]
    }
   ],
   "source": [
    "print(\"       CMS     Leg  NPV = %.6f\" % underlying4.legNPV(0))"
   ]
  },
  {
   "cell_type": "code",
   "execution_count": 92,
   "metadata": {
    "ExecuteTime": {
     "end_time": "2017-03-06T21:32:39.439844",
     "start_time": "2017-03-06T21:32:39.332964"
    },
    "collapsed": false
   },
   "outputs": [
    {
     "name": "stdout",
     "output_type": "stream",
     "text": [
      "       Euribor Leg  NPV = 0.236183\n"
     ]
    }
   ],
   "source": [
    "print(\"       Euribor Leg  NPV = %.6f\" % underlying4.legNPV(1))"
   ]
  },
  {
   "cell_type": "markdown",
   "metadata": {},
   "source": [
    "We generate a naive calibration basket and calibrate the GSR model to it:"
   ]
  },
  {
   "cell_type": "code",
   "execution_count": 93,
   "metadata": {
    "ExecuteTime": {
     "end_time": "2017-03-06T21:32:39.516486",
     "start_time": "2017-03-06T21:32:39.440815"
    },
    "collapsed": false
   },
   "outputs": [],
   "source": [
    "basket = swaption4.calibrationBasket(swapBase, swaptionVol, \"Naive\");"
   ]
  },
  {
   "cell_type": "code",
   "execution_count": 94,
   "metadata": {
    "ExecuteTime": {
     "end_time": "2017-03-06T21:32:39.583004",
     "start_time": "2017-03-06T21:32:39.517465"
    },
    "collapsed": true
   },
   "outputs": [],
   "source": [
    "for helper in basket:\n",
    "    helper.setPricingEngine(swaptionEngine)"
   ]
  },
  {
   "cell_type": "code",
   "execution_count": 95,
   "metadata": {
    "ExecuteTime": {
     "end_time": "2017-03-06T21:32:39.892876",
     "start_time": "2017-03-06T21:32:39.583643"
    },
    "collapsed": true
   },
   "outputs": [],
   "source": [
    "gsr.calibrateVolatilitiesIterative(basket, method, ec)"
   ]
  },
  {
   "cell_type": "code",
   "execution_count": 96,
   "metadata": {
    "ExecuteTime": {
     "end_time": "2017-03-06T21:32:39.965888",
     "start_time": "2017-03-06T21:32:39.894306"
    },
    "collapsed": false
   },
   "outputs": [
    {
     "name": "stdout",
     "output_type": "stream",
     "text": [
      "\n",
      "Expiry              Maturity            Nominal             Rate          Pay/Rec     Market ivol   \n",
      "==================================================================================================\n",
      "April 30th, 2015    May 6th, 2024       1.00                0.025307      0           0.200000      \n",
      "May 3rd, 2016       May 6th, 2024       1.00                0.025300      0           0.200000      \n",
      "May 3rd, 2017       May 6th, 2024       1.00                0.025303      0           0.200000      \n",
      "May 3rd, 2018       May 6th, 2024       1.00                0.025306      0           0.200000      \n",
      "May 2nd, 2019       May 6th, 2024       1.00                0.025311      0           0.200000      \n",
      "April 30th, 2020    May 6th, 2024       1.00                0.025300      0           0.200000      \n",
      "May 3rd, 2021       May 6th, 2024       1.00                0.025306      0           0.200000      \n",
      "May 3rd, 2022       May 6th, 2024       1.00                0.025318      0           0.200000      \n",
      "May 3rd, 2023       May 6th, 2024       1.00                0.025353      0           0.200000      \n"
     ]
    }
   ],
   "source": [
    "printBasket(basket)"
   ]
  },
  {
   "cell_type": "code",
   "execution_count": 97,
   "metadata": {
    "ExecuteTime": {
     "end_time": "2017-03-06T21:32:40.073781",
     "start_time": "2017-03-06T21:32:39.966890"
    },
    "collapsed": false
   },
   "outputs": [
    {
     "name": "stdout",
     "output_type": "stream",
     "text": [
      "\n",
      "Expiry              Model sigma   Model price         Market price        Model ivol    Market ivol   \n",
      "====================================================================================================\n",
      "April 30th, 2015    0.005178      0.016111            0.016111            0.200000      0.200000      \n",
      "May 3rd, 2016       0.005156      0.020062            0.020062            0.200000      0.200000      \n",
      "May 3rd, 2017       0.005149      0.021229            0.021229            0.200000      0.200000      \n",
      "May 3rd, 2018       0.005129      0.020738            0.020738            0.200000      0.200000      \n",
      "May 2nd, 2019       0.005132      0.019096            0.019096            0.200000      0.200000      \n",
      "April 30th, 2020    0.005074      0.016537            0.016537            0.200000      0.200000      \n",
      "May 3rd, 2021       0.005091      0.013253            0.013253            0.200000      0.200000      \n",
      "May 3rd, 2022       0.005097      0.009342            0.009342            0.200000      0.200000      \n",
      "May 3rd, 2023       0.005001      0.004910            0.004910            0.200000      0.200000      \n"
     ]
    }
   ],
   "source": [
    "printModelCalibration(basket, gsr.volatility())"
   ]
  },
  {
   "cell_type": "code",
   "execution_count": 98,
   "metadata": {
    "ExecuteTime": {
     "end_time": "2017-03-06T21:32:40.262794",
     "start_time": "2017-03-06T21:32:40.074760"
    },
    "collapsed": true
   },
   "outputs": [],
   "source": [
    "npv6 = swaption4.NPV()"
   ]
  },
  {
   "cell_type": "markdown",
   "metadata": {},
   "source": [
    "The npv of the bermudan swaption is"
   ]
  },
  {
   "cell_type": "code",
   "execution_count": 99,
   "metadata": {
    "ExecuteTime": {
     "end_time": "2017-03-06T21:32:40.344222",
     "start_time": "2017-03-06T21:32:40.263406"
    },
    "collapsed": false
   },
   "outputs": [
    {
     "name": "stdout",
     "output_type": "stream",
     "text": [
      "Float swaption NPV (GSR) = 0.004291\n"
     ]
    }
   ],
   "source": [
    "print(\"Float swaption NPV (GSR) = %.6f\" % npv6)"
   ]
  },
  {
   "cell_type": "markdown",
   "metadata": {},
   "source": [
    "In this case it is also interesting to look at the underlying swap npv in the GSR model."
   ]
  },
  {
   "cell_type": "code",
   "execution_count": 100,
   "metadata": {
    "ExecuteTime": {
     "end_time": "2017-03-06T21:32:40.430289",
     "start_time": "2017-03-06T21:32:40.345237"
    },
    "collapsed": false
   },
   "outputs": [
    {
     "name": "stdout",
     "output_type": "stream",
     "text": [
      "Float swap NPV (GSR) = 0.005250\n"
     ]
    }
   ],
   "source": [
    "print(\"Float swap NPV (GSR) = %.6f\" % swaption4.underlyingValue())"
   ]
  },
  {
   "cell_type": "markdown",
   "metadata": {},
   "source": [
    "Not surprisingly, the underlying is priced differently compared to the LinearTsrPricer, since a different smile is implied by the GSR model."
   ]
  },
  {
   "cell_type": "markdown",
   "metadata": {},
   "source": [
    "This is exactly where the Markov functional model comes into play, because it can calibrate to any given underlying smile (as long as it is arbitrage free). We try this now. Of course the usual use case is not to calibrate to a flat smile as in our simple example, still it should be possible, of course..."
   ]
  },
  {
   "cell_type": "code",
   "execution_count": 101,
   "metadata": {
    "ExecuteTime": {
     "end_time": "2017-03-06T21:32:40.492498",
     "start_time": "2017-03-06T21:32:40.432294"
    },
    "collapsed": true
   },
   "outputs": [],
   "source": [
    "markovStepDates = exerciseDates"
   ]
  },
  {
   "cell_type": "code",
   "execution_count": 102,
   "metadata": {
    "ExecuteTime": {
     "end_time": "2017-03-06T21:32:40.578832",
     "start_time": "2017-03-06T21:32:40.494503"
    },
    "collapsed": true
   },
   "outputs": [],
   "source": [
    "cmsFixingDates = markovStepDates"
   ]
  },
  {
   "cell_type": "code",
   "execution_count": 103,
   "metadata": {
    "ExecuteTime": {
     "end_time": "2017-03-06T21:32:40.642451",
     "start_time": "2017-03-06T21:32:40.579836"
    },
    "collapsed": true
   },
   "outputs": [],
   "source": [
    "markovSigmas = [0.01 for i in range(0, len(markovStepDates)+1)]"
   ]
  },
  {
   "cell_type": "code",
   "execution_count": 104,
   "metadata": {
    "ExecuteTime": {
     "end_time": "2017-03-06T21:32:40.719979",
     "start_time": "2017-03-06T21:32:40.643452"
    },
    "collapsed": true
   },
   "outputs": [],
   "source": [
    "tenors = [ql.Period(10,ql.Years) for i in cmsFixingDates]"
   ]
  },
  {
   "cell_type": "code",
   "execution_count": 105,
   "metadata": {
    "ExecuteTime": {
     "end_time": "2017-03-06T21:32:40.792863",
     "start_time": "2017-03-06T21:32:40.721019"
    },
    "collapsed": false
   },
   "outputs": [],
   "source": [
    "markov = ql.MarkovFunctional(yts6m, reversion, markovStepDates, markovSigmas, swaptionVolHandle,\n",
    "                            cmsFixingDates, tenors, swapBase)"
   ]
  },
  {
   "cell_type": "code",
   "execution_count": 106,
   "metadata": {
    "ExecuteTime": {
     "end_time": "2017-03-06T21:32:40.911653",
     "start_time": "2017-03-06T21:32:40.793841"
    },
    "collapsed": true
   },
   "outputs": [],
   "source": [
    "swaptionEngineMarkov = ql.Gaussian1dSwaptionEngine(markov, 8, 5.0, True, False, ytsOis)"
   ]
  },
  {
   "cell_type": "code",
   "execution_count": 107,
   "metadata": {
    "ExecuteTime": {
     "end_time": "2017-03-06T21:32:40.983537",
     "start_time": "2017-03-06T21:32:40.912669"
    },
    "collapsed": true
   },
   "outputs": [],
   "source": [
    "floatEngineMarkov = ql.Gaussian1dFloatFloatSwaptionEngine(markov, 16, 7.0, True, False, ql.QuoteHandle(), ytsOis, True)"
   ]
  },
  {
   "cell_type": "code",
   "execution_count": 108,
   "metadata": {
    "ExecuteTime": {
     "end_time": "2017-03-06T21:32:41.052504",
     "start_time": "2017-03-06T21:32:40.984471"
    },
    "collapsed": true
   },
   "outputs": [],
   "source": [
    "swaption4.setPricingEngine(floatEngineMarkov)"
   ]
  },
  {
   "cell_type": "code",
   "execution_count": 109,
   "metadata": {
    "ExecuteTime": {
     "end_time": "2017-03-06T21:32:41.241435",
     "start_time": "2017-03-06T21:32:41.053508"
    },
    "collapsed": true
   },
   "outputs": [],
   "source": [
    "npv7 = swaption4.NPV()"
   ]
  },
  {
   "cell_type": "markdown",
   "metadata": {},
   "source": [
    "The option npv is the markov model is:"
   ]
  },
  {
   "cell_type": "code",
   "execution_count": 110,
   "metadata": {
    "ExecuteTime": {
     "end_time": "2017-03-06T21:32:41.308755",
     "start_time": "2017-03-06T21:32:41.242439"
    },
    "collapsed": false
   },
   "outputs": [
    {
     "name": "stdout",
     "output_type": "stream",
     "text": [
      "Float swaption NPV (Markov) = 0.003556\n"
     ]
    }
   ],
   "source": [
    "print(\"Float swaption NPV (Markov) = %.6f\" % npv7)"
   ]
  },
  {
   "cell_type": "markdown",
   "metadata": {},
   "source": [
    "This is not too far from the GSR price."
   ]
  },
  {
   "cell_type": "markdown",
   "metadata": {},
   "source": [
    "More interesting is the question how well the Markov model did its job to match our input smile. For this we look at the underlying npv under the Markov model"
   ]
  },
  {
   "cell_type": "code",
   "execution_count": 111,
   "metadata": {
    "ExecuteTime": {
     "end_time": "2017-03-06T21:32:41.384085",
     "start_time": "2017-03-06T21:32:41.309788"
    },
    "collapsed": false
   },
   "outputs": [
    {
     "name": "stdout",
     "output_type": "stream",
     "text": [
      "Float swap NPV (Markov) = 0.004309\n"
     ]
    }
   ],
   "source": [
    "print(\"Float swap NPV (Markov) = %.6f\" % swaption4.underlyingValue())"
   ]
  },
  {
   "cell_type": "markdown",
   "metadata": {
    "collapsed": true
   },
   "source": [
    "This is closer to our terminal swap rate model price. A perfect match is not expected anyway, because the dynamics of the underlying rate in the linear model is different from the Markov model, of course."
   ]
  },
  {
   "cell_type": "markdown",
   "metadata": {},
   "source": [
    "The Markov model can not only calibrate to the underlying smile, but has at the same time a sigma function (similar to the GSR model) which can be used to calibrate to a second instrument set. We do this here to calibrate to our coterminal ATM swaptions from above."
   ]
  },
  {
   "cell_type": "markdown",
   "metadata": {},
   "source": [
    "This is a computationally demanding task, so depending on your machine, this may take a while now..."
   ]
  },
  {
   "cell_type": "code",
   "execution_count": 112,
   "metadata": {
    "ExecuteTime": {
     "end_time": "2017-03-06T21:32:41.446287",
     "start_time": "2017-03-06T21:32:41.385067"
    },
    "collapsed": true
   },
   "outputs": [],
   "source": [
    "for helper in basket:\n",
    "    helper.setPricingEngine(swaptionEngineMarkov)"
   ]
  },
  {
   "cell_type": "code",
   "execution_count": 115,
   "metadata": {
    "ExecuteTime": {
     "end_time": "2017-03-06T21:33:15.359107",
     "start_time": "2017-03-06T21:32:57.432403"
    },
    "collapsed": false
   },
   "outputs": [],
   "source": [
    "markov.calibrate(basket, method, ec)"
   ]
  },
  {
   "cell_type": "code",
   "execution_count": 116,
   "metadata": {
    "ExecuteTime": {
     "end_time": "2017-03-06T21:33:48.877593",
     "start_time": "2017-03-06T21:33:48.824456"
    },
    "collapsed": false
   },
   "outputs": [
    {
     "name": "stdout",
     "output_type": "stream",
     "text": [
      "\n",
      "Expiry              Model sigma   Model price         Market price        Model ivol    Market ivol   \n",
      "====================================================================================================\n",
      "April 30th, 2015    0.010000      0.016107            0.016111            0.199954      0.200000      \n",
      "May 3rd, 2016       0.012047      0.020064            0.020062            0.200013      0.200000      \n",
      "May 3rd, 2017       0.010429      0.021229            0.021229            0.200002      0.200000      \n",
      "May 3rd, 2018       0.010301      0.020738            0.020738            0.200001      0.200000      \n",
      "May 2nd, 2019       0.010250      0.019096            0.019096            0.199999      0.200000      \n",
      "April 30th, 2020    0.010229      0.016537            0.016537            0.200001      0.200000      \n",
      "May 3rd, 2021       0.010253      0.013253            0.013253            0.199999      0.200000      \n",
      "May 3rd, 2022       0.010269      0.009342            0.009342            0.200001      0.200000      \n",
      "May 3rd, 2023       0.010281      0.004910            0.004910            0.199999      0.200000      \n",
      "0.009851            \n"
     ]
    }
   ],
   "source": [
    "printModelCalibration(basket, markov.volatility())"
   ]
  },
  {
   "cell_type": "markdown",
   "metadata": {},
   "source": [
    "Now let's have a look again at the underlying pricing. It shouldn't have changed much, because the underlying smile is still matched."
   ]
  },
  {
   "cell_type": "code",
   "execution_count": 117,
   "metadata": {
    "ExecuteTime": {
     "end_time": "2017-03-06T21:35:33.421818",
     "start_time": "2017-03-06T21:35:33.328069"
    },
    "collapsed": true
   },
   "outputs": [],
   "source": [
    "npv8 = swaption4.underlyingValue()"
   ]
  },
  {
   "cell_type": "code",
   "execution_count": 118,
   "metadata": {
    "ExecuteTime": {
     "end_time": "2017-03-06T21:35:49.979140",
     "start_time": "2017-03-06T21:35:49.975129"
    },
    "collapsed": false
   },
   "outputs": [
    {
     "name": "stdout",
     "output_type": "stream",
     "text": [
      "Float swap NPV (Markov) = 0.004339\n"
     ]
    }
   ],
   "source": [
    "print(\"Float swap NPV (Markov) = %.6f\" % npv8)"
   ]
  },
  {
   "cell_type": "markdown",
   "metadata": {},
   "source": [
    "This is close to the previous value as expected."
   ]
  },
  {
   "cell_type": "markdown",
   "metadata": {},
   "source": [
    "As a final remark we note that the calibration to coterminal swaptions is not particularly reasonable here, because the european call rights are not well represented by these swaptions. Secondly, our CMS swaption is sensitive to the correlation between the 10y swap rate and the Euribor 6M rate. Since the Markov model is one factor by construction."
   ]
  }
 ],
 "metadata": {
  "kernelspec": {
   "display_name": "Python 3",
   "language": "python",
   "name": "python3"
  },
  "language_info": {
   "codemirror_mode": {
    "name": "ipython",
    "version": 3
   },
   "file_extension": ".py",
   "mimetype": "text/x-python",
   "name": "python",
   "nbconvert_exporter": "python",
   "pygments_lexer": "ipython3",
   "version": "3.5.2"
  }
 },
 "nbformat": 4,
 "nbformat_minor": 1
}
