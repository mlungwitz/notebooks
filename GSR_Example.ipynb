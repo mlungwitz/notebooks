{
 "cells": [
  {
   "cell_type": "code",
   "execution_count": 1,
   "metadata": {
    "collapsed": true
   },
   "outputs": [],
   "source": [
    "import QuantLib as ql"
   ]
  },
  {
   "cell_type": "code",
   "execution_count": 2,
   "metadata": {
    "collapsed": true
   },
   "outputs": [],
   "source": [
    "refDate = ql.Date(30,4,2014)"
   ]
  },
  {
   "cell_type": "code",
   "execution_count": 3,
   "metadata": {
    "collapsed": false
   },
   "outputs": [],
   "source": [
    "ql.Settings.instance().evaluationDate=refDate"
   ]
  },
  {
   "cell_type": "code",
   "execution_count": 4,
   "metadata": {
    "collapsed": false
   },
   "outputs": [
    {
     "name": "stdout",
     "output_type": "stream",
     "text": [
      "EvalDate:  April 30th, 2014\n"
     ]
    }
   ],
   "source": [
    "print(\"EvalDate: \",ql.Settings.instance().evaluationDate)"
   ]
  },
  {
   "cell_type": "code",
   "execution_count": 5,
   "metadata": {
    "collapsed": true
   },
   "outputs": [],
   "source": [
    "forward6mLevel = 0.025\n",
    "oisLevel = 0.02"
   ]
  },
  {
   "cell_type": "code",
   "execution_count": 6,
   "metadata": {
    "collapsed": true
   },
   "outputs": [],
   "source": [
    "forward6mQuote = ql.QuoteHandle(ql.SimpleQuote(forward6mLevel))\n",
    "oisQuote = ql.QuoteHandle(ql.SimpleQuote(oisLevel))"
   ]
  },
  {
   "cell_type": "code",
   "execution_count": 7,
   "metadata": {
    "collapsed": true
   },
   "outputs": [],
   "source": [
    "yts6m = ql.YieldTermStructureHandle(ql.FlatForward(0, ql.TARGET(), forward6mQuote, ql.Actual365Fixed() ))\n",
    "ytsOis = ql.YieldTermStructureHandle(ql.FlatForward(0, ql.TARGET(), oisQuote, ql.Actual365Fixed() ))"
   ]
  },
  {
   "cell_type": "code",
   "execution_count": 8,
   "metadata": {
    "collapsed": true
   },
   "outputs": [],
   "source": [
    "euribor6m = ql.Euribor6M(yts6m)"
   ]
  },
  {
   "cell_type": "code",
   "execution_count": 9,
   "metadata": {
    "collapsed": true
   },
   "outputs": [],
   "source": [
    "volLevel = 0.20"
   ]
  },
  {
   "cell_type": "code",
   "execution_count": 10,
   "metadata": {
    "collapsed": true
   },
   "outputs": [],
   "source": [
    "volQuote = ql.QuoteHandle(ql.SimpleQuote(volLevel))"
   ]
  },
  {
   "cell_type": "code",
   "execution_count": 11,
   "metadata": {
    "collapsed": true
   },
   "outputs": [],
   "source": [
    "swaptionVol = ql.ConstantSwaptionVolatility(0, ql.TARGET(), ql.ModifiedFollowing, volQuote,\n",
    "                                                                                ql.Actual365Fixed())"
   ]
  },
  {
   "cell_type": "code",
   "execution_count": 12,
   "metadata": {
    "collapsed": true
   },
   "outputs": [],
   "source": [
    "strike = 0.04"
   ]
  },
  {
   "cell_type": "code",
   "execution_count": 13,
   "metadata": {
    "collapsed": false
   },
   "outputs": [],
   "source": [
    "effectiveDate = ql.TARGET().advance(refDate, ql.Period(2,ql.Days))"
   ]
  },
  {
   "cell_type": "code",
   "execution_count": 14,
   "metadata": {
    "collapsed": false
   },
   "outputs": [
    {
     "data": {
      "text/plain": [
       "Date(5,5,2014)"
      ]
     },
     "execution_count": 14,
     "metadata": {},
     "output_type": "execute_result"
    }
   ],
   "source": [
    "effectiveDate"
   ]
  },
  {
   "cell_type": "code",
   "execution_count": 15,
   "metadata": {
    "collapsed": false
   },
   "outputs": [],
   "source": [
    "maturityDate = ql.TARGET().advance(effectiveDate, ql.Period(10,ql.Years))"
   ]
  },
  {
   "cell_type": "code",
   "execution_count": 16,
   "metadata": {
    "collapsed": false
   },
   "outputs": [
    {
     "data": {
      "text/plain": [
       "Date(6,5,2024)"
      ]
     },
     "execution_count": 16,
     "metadata": {},
     "output_type": "execute_result"
    }
   ],
   "source": [
    "maturityDate"
   ]
  },
  {
   "cell_type": "code",
   "execution_count": 17,
   "metadata": {
    "collapsed": true
   },
   "outputs": [],
   "source": [
    "fixedSchedule = ql.Schedule(effectiveDate, maturityDate, ql.Period(1,ql.Years), ql.TARGET(),\n",
    "                            ql.ModifiedFollowing, ql.ModifiedFollowing,\n",
    "                            ql.DateGeneration.Forward, False)"
   ]
  },
  {
   "cell_type": "code",
   "execution_count": 18,
   "metadata": {
    "collapsed": false
   },
   "outputs": [
    {
     "name": "stdout",
     "output_type": "stream",
     "text": [
      "May 5th, 2014\n",
      "May 5th, 2015\n",
      "May 5th, 2016\n",
      "May 5th, 2017\n",
      "May 7th, 2018\n",
      "May 6th, 2019\n",
      "May 5th, 2020\n",
      "May 5th, 2021\n",
      "May 5th, 2022\n",
      "May 5th, 2023\n",
      "May 6th, 2024\n"
     ]
    }
   ],
   "source": [
    "for i in fixedSchedule:\n",
    "    print(i)"
   ]
  },
  {
   "cell_type": "code",
   "execution_count": 19,
   "metadata": {
    "collapsed": true
   },
   "outputs": [],
   "source": [
    "floatingSchedule = ql.Schedule(effectiveDate, maturityDate, ql.Period(6,ql.Months), ql.TARGET(),\n",
    "                            ql.ModifiedFollowing, ql.ModifiedFollowing,\n",
    "                            ql.DateGeneration.Forward, False)"
   ]
  },
  {
   "cell_type": "code",
   "execution_count": 20,
   "metadata": {
    "collapsed": false
   },
   "outputs": [
    {
     "name": "stdout",
     "output_type": "stream",
     "text": [
      "May 5th, 2014\n",
      "November 5th, 2014\n",
      "May 5th, 2015\n",
      "November 5th, 2015\n",
      "May 5th, 2016\n",
      "November 7th, 2016\n",
      "May 5th, 2017\n",
      "November 6th, 2017\n",
      "May 7th, 2018\n",
      "November 5th, 2018\n",
      "May 6th, 2019\n",
      "November 5th, 2019\n",
      "May 5th, 2020\n",
      "November 5th, 2020\n",
      "May 5th, 2021\n",
      "November 5th, 2021\n",
      "May 5th, 2022\n",
      "November 7th, 2022\n",
      "May 5th, 2023\n",
      "November 6th, 2023\n",
      "May 6th, 2024\n"
     ]
    }
   ],
   "source": [
    "for i in floatingSchedule:\n",
    "    print(i)"
   ]
  },
  {
   "cell_type": "code",
   "execution_count": 21,
   "metadata": {
    "collapsed": false
   },
   "outputs": [],
   "source": [
    "underlying = ql.NonstandardSwap(ql.VanillaSwap.Payer, [1.0]*(len(fixedSchedule)-1), [1.0]*(len(floatingSchedule)-1), fixedSchedule,\n",
    "                                              [strike]*(len(fixedSchedule)-1), ql.Thirty360(), floatingSchedule, \n",
    "                                              euribor6m, [1.0]*(len(floatingSchedule)-1), [0.0]*(len(floatingSchedule)-1), ql.Actual360())"
   ]
  },
  {
   "cell_type": "code",
   "execution_count": 22,
   "metadata": {
    "collapsed": false
   },
   "outputs": [
    {
     "name": "stdout",
     "output_type": "stream",
     "text": [
      "May 5th, 2015 0.040000000000000036\n",
      "May 5th, 2016 0.040000000000000036\n",
      "May 5th, 2017 0.040000000000000036\n",
      "May 7th, 2018 0.04022222222222216\n",
      "May 6th, 2019 0.03988888888888886\n",
      "May 5th, 2020 0.03988888888888886\n",
      "May 5th, 2021 0.040000000000000036\n",
      "May 5th, 2022 0.040000000000000036\n",
      "May 5th, 2023 0.040000000000000036\n",
      "May 6th, 2024 0.04011111111111121\n"
     ]
    }
   ],
   "source": [
    "for cf in underlying.fixedLeg():\n",
    "    print (cf.date(), cf.amount())"
   ]
  },
  {
   "cell_type": "code",
   "execution_count": 23,
   "metadata": {
    "collapsed": false
   },
   "outputs": [
    {
     "name": "stdout",
     "output_type": "stream",
     "text": [
      "November 5th, 2014 0.012682488917620917\n",
      "May 5th, 2015 0.012474424851870225\n",
      "November 5th, 2015 0.012682488917621138\n",
      "May 5th, 2016 0.012543774790186868\n",
      "November 7th, 2016 0.012821222048292169\n",
      "May 5th, 2017 0.012335739224410558\n",
      "November 6th, 2017 0.012751853107389575\n",
      "May 7th, 2018 0.012543774790186868\n",
      "November 5th, 2018 0.012543774790186868\n",
      "May 6th, 2019 0.012543774790186868\n",
      "November 5th, 2019 0.012613129478662223\n",
      "May 5th, 2020 0.012543774790186868\n",
      "November 5th, 2020 0.012682488917621138\n",
      "May 5th, 2021 0.012474424851870227\n",
      "November 5th, 2021 0.01268248891762114\n",
      "May 5th, 2022 0.012474424851870003\n",
      "November 7th, 2022 0.012821222048292391\n",
      "May 5th, 2023 0.012335739224410556\n",
      "November 6th, 2023 0.012751853107389573\n",
      "May 6th, 2024 0.01254377479018687\n"
     ]
    }
   ],
   "source": [
    "for cf in underlying.floatingLeg():\n",
    "    print (cf.date(), cf.amount())"
   ]
  },
  {
   "cell_type": "code",
   "execution_count": 24,
   "metadata": {
    "collapsed": false
   },
   "outputs": [],
   "source": [
    "exerciseDates = [ql.TARGET().advance(fixedSchedule[i], ql.Period(-2, ql.Days)) for i in range(1,10)]"
   ]
  },
  {
   "cell_type": "code",
   "execution_count": 25,
   "metadata": {
    "collapsed": false
   },
   "outputs": [
    {
     "data": {
      "text/plain": [
       "[Date(30,4,2015),\n",
       " Date(3,5,2016),\n",
       " Date(3,5,2017),\n",
       " Date(3,5,2018),\n",
       " Date(2,5,2019),\n",
       " Date(30,4,2020),\n",
       " Date(3,5,2021),\n",
       " Date(3,5,2022),\n",
       " Date(3,5,2023)]"
      ]
     },
     "execution_count": 25,
     "metadata": {},
     "output_type": "execute_result"
    }
   ],
   "source": [
    "exerciseDates"
   ]
  },
  {
   "cell_type": "code",
   "execution_count": 26,
   "metadata": {
    "collapsed": true
   },
   "outputs": [],
   "source": [
    "exercise = ql.BermudanExercise(exerciseDates, False)"
   ]
  },
  {
   "cell_type": "code",
   "execution_count": 27,
   "metadata": {
    "collapsed": true
   },
   "outputs": [],
   "source": [
    "swaption = ql.NonstandardSwaption(underlying, exercise)"
   ]
  },
  {
   "cell_type": "code",
   "execution_count": 28,
   "metadata": {
    "collapsed": true
   },
   "outputs": [],
   "source": [
    "stepDates = [exerciseDates[i] for i in range(0, len(exerciseDates)-1)]"
   ]
  },
  {
   "cell_type": "code",
   "execution_count": 29,
   "metadata": {
    "collapsed": true
   },
   "outputs": [],
   "source": [
    "sigmas = [ql.QuoteHandle(ql.SimpleQuote(0.01)) for i in range(0, len(stepDates)+1)]"
   ]
  },
  {
   "cell_type": "code",
   "execution_count": 30,
   "metadata": {
    "collapsed": true
   },
   "outputs": [],
   "source": [
    "reversion = [ql.QuoteHandle(ql.SimpleQuote(0.01))]"
   ]
  },
  {
   "cell_type": "code",
   "execution_count": 31,
   "metadata": {
    "collapsed": false
   },
   "outputs": [],
   "source": [
    "gsr = ql.Gsr(yts6m, stepDates, sigmas, reversion)"
   ]
  },
  {
   "cell_type": "code",
   "execution_count": 32,
   "metadata": {
    "collapsed": false
   },
   "outputs": [],
   "source": [
    "swaptionEngine = ql.Gaussian1dNonstandardSwaptionEngine(gsr, 64, 7.0, True, False, ql.QuoteHandle(),ytsOis)"
   ]
  },
  {
   "cell_type": "code",
   "execution_count": 33,
   "metadata": {
    "collapsed": true
   },
   "outputs": [],
   "source": [
    "swaption.setPricingEngine(swaptionEngine)"
   ]
  },
  {
   "cell_type": "code",
   "execution_count": 34,
   "metadata": {
    "collapsed": true
   },
   "outputs": [],
   "source": [
    "swapBase = ql.EuriborSwapIsdaFixA(ql.Period(10,ql.Years), yts6m, ytsOis)"
   ]
  },
  {
   "cell_type": "code",
   "execution_count": 35,
   "metadata": {
    "collapsed": false
   },
   "outputs": [],
   "source": [
    "basket = swaption.calibrationBasket(swapBase, swaptionVol, \"Naive\")"
   ]
  },
  {
   "cell_type": "code",
   "execution_count": 36,
   "metadata": {
    "collapsed": false
   },
   "outputs": [
    {
     "data": {
      "text/plain": [
       "QuantLib.QuantLib.ConstantSwaptionVolatility"
      ]
     },
     "execution_count": 36,
     "metadata": {},
     "output_type": "execute_result"
    }
   ],
   "source": [
    "type(swaptionVol)"
   ]
  },
  {
   "cell_type": "code",
   "execution_count": 37,
   "metadata": {
    "collapsed": false
   },
   "outputs": [
    {
     "name": "stdout",
     "output_type": "stream",
     "text": [
      "April 30th, 2015 May 6th, 2024 1.0 0.025306668190455645 0.2\n",
      "May 3rd, 2016 May 6th, 2024 1.0 0.025300288641156826 0.2\n",
      "May 3rd, 2017 May 6th, 2024 1.0 0.025302909623471738 0.2\n",
      "May 3rd, 2018 May 6th, 2024 1.0 0.02530648522594177 0.2\n",
      "May 2nd, 2019 May 6th, 2024 1.0 0.025311355766312146 0.2\n",
      "April 30th, 2020 May 6th, 2024 1.0 0.025300261433388174 0.2\n",
      "May 3rd, 2021 May 6th, 2024 1.0 0.02530613242255889 0.2\n",
      "May 3rd, 2022 May 6th, 2024 1.0 0.025317868849915624 0.2\n",
      "May 3rd, 2023 May 6th, 2024 1.0 0.02535300825681316 0.2\n"
     ]
    }
   ],
   "source": [
    "for helper in basket:\n",
    "    print(helper.swaptionExpiryDate(), helper.swaptionMaturityDate(), helper.swaptionNominal(), \n",
    "          helper.swaptionStrike(),  helper.volatility().value())"
   ]
  },
  {
   "cell_type": "code",
   "execution_count": 38,
   "metadata": {
    "collapsed": false
   },
   "outputs": [],
   "source": [
    "for i in range(0, len(basket)):\n",
    "    basket[i].setPricingEngine(swaptionEngine)"
   ]
  },
  {
   "cell_type": "code",
   "execution_count": 39,
   "metadata": {
    "collapsed": true
   },
   "outputs": [],
   "source": [
    "method = ql.LevenbergMarquardt()"
   ]
  },
  {
   "cell_type": "code",
   "execution_count": 40,
   "metadata": {
    "collapsed": true
   },
   "outputs": [],
   "source": [
    "ec = ql.EndCriteria(1000, 10, 1e-8, 1e-8, 1e-8)"
   ]
  },
  {
   "cell_type": "code",
   "execution_count": 65,
   "metadata": {
    "collapsed": false
   },
   "outputs": [
    {
     "ename": "RuntimeError",
     "evalue": "wrong argument type",
     "output_type": "error",
     "traceback": [
      "\u001b[0;31m---------------------------------------------------------------------------\u001b[0m",
      "\u001b[0;31mRuntimeError\u001b[0m                              Traceback (most recent call last)",
      "\u001b[0;32m<ipython-input-65-3f9dda7c5c27>\u001b[0m in \u001b[0;36m<module>\u001b[0;34m()\u001b[0m\n\u001b[0;32m----> 1\u001b[0;31m \u001b[0mgsr\u001b[0m\u001b[1;33m.\u001b[0m\u001b[0mcalibrateVolatilitiesIterative\u001b[0m\u001b[1;33m(\u001b[0m\u001b[0mbasket\u001b[0m\u001b[1;33m,\u001b[0m \u001b[0mmethod\u001b[0m\u001b[1;33m,\u001b[0m \u001b[0mec\u001b[0m\u001b[1;33m,\u001b[0m \u001b[0mql\u001b[0m\u001b[1;33m.\u001b[0m\u001b[0mNoConstraint\u001b[0m\u001b[1;33m(\u001b[0m\u001b[1;33m)\u001b[0m\u001b[1;33m,\u001b[0m \u001b[1;33m[\u001b[0m\u001b[1;33m]\u001b[0m\u001b[1;33m)\u001b[0m\u001b[1;33m\u001b[0m\u001b[0m\n\u001b[0m",
      "\u001b[0;32mE:\\WinPython-64bit-3.5.2.3\\python-3.5.2.amd64\\lib\\site-packages\\QuantLib\\QuantLib.py\u001b[0m in \u001b[0;36mcalibrateVolatilitiesIterative\u001b[0;34m(self, *args)\u001b[0m\n\u001b[1;32m  15992\u001b[0m \u001b[1;33m\u001b[0m\u001b[0m\n\u001b[1;32m  15993\u001b[0m     \u001b[1;32mdef\u001b[0m \u001b[0mcalibrateVolatilitiesIterative\u001b[0m\u001b[1;33m(\u001b[0m\u001b[0mself\u001b[0m\u001b[1;33m,\u001b[0m \u001b[1;33m*\u001b[0m\u001b[0margs\u001b[0m\u001b[1;33m)\u001b[0m \u001b[1;33m->\u001b[0m \u001b[1;34m\"void\"\u001b[0m\u001b[1;33m:\u001b[0m\u001b[1;33m\u001b[0m\u001b[0m\n\u001b[0;32m> 15994\u001b[0;31m         \u001b[1;32mreturn\u001b[0m \u001b[0m_QuantLib\u001b[0m\u001b[1;33m.\u001b[0m\u001b[0mGsr_calibrateVolatilitiesIterative\u001b[0m\u001b[1;33m(\u001b[0m\u001b[0mself\u001b[0m\u001b[1;33m,\u001b[0m \u001b[1;33m*\u001b[0m\u001b[0margs\u001b[0m\u001b[1;33m)\u001b[0m\u001b[1;33m\u001b[0m\u001b[0m\n\u001b[0m\u001b[1;32m  15995\u001b[0m     \u001b[0m__swig_destroy__\u001b[0m \u001b[1;33m=\u001b[0m \u001b[0m_QuantLib\u001b[0m\u001b[1;33m.\u001b[0m\u001b[0mdelete_Gsr\u001b[0m\u001b[1;33m\u001b[0m\u001b[0m\n\u001b[1;32m  15996\u001b[0m     \u001b[0m__del__\u001b[0m \u001b[1;33m=\u001b[0m \u001b[1;32mlambda\u001b[0m \u001b[0mself\u001b[0m\u001b[1;33m:\u001b[0m \u001b[1;32mNone\u001b[0m\u001b[1;33m\u001b[0m\u001b[0m\n",
      "\u001b[0;31mRuntimeError\u001b[0m: wrong argument type"
     ]
    }
   ],
   "source": [
    "gsr.calibrateVolatilitiesIterative(basket, method, ec, ql.NoConstraint(), [])"
   ]
  },
  {
   "cell_type": "code",
   "execution_count": 55,
   "metadata": {
    "collapsed": false
   },
   "outputs": [
    {
     "data": {
      "text/plain": [
       "[<QuantLib.QuantLib.CalibrationHelper; proxy of <Swig Object of type 'std::vector< boost::shared_ptr< CalibrationHelper > >::value_type *' at 0x000001A814E32690> >,\n",
       " <QuantLib.QuantLib.CalibrationHelper; proxy of <Swig Object of type 'std::vector< boost::shared_ptr< CalibrationHelper > >::value_type *' at 0x000001A814EFBD80> >,\n",
       " <QuantLib.QuantLib.CalibrationHelper; proxy of <Swig Object of type 'std::vector< boost::shared_ptr< CalibrationHelper > >::value_type *' at 0x000001A814EFBC90> >,\n",
       " <QuantLib.QuantLib.CalibrationHelper; proxy of <Swig Object of type 'std::vector< boost::shared_ptr< CalibrationHelper > >::value_type *' at 0x000001A814EFBCC0> >,\n",
       " <QuantLib.QuantLib.CalibrationHelper; proxy of <Swig Object of type 'std::vector< boost::shared_ptr< CalibrationHelper > >::value_type *' at 0x000001A814EFBCF0> >,\n",
       " <QuantLib.QuantLib.CalibrationHelper; proxy of <Swig Object of type 'std::vector< boost::shared_ptr< CalibrationHelper > >::value_type *' at 0x000001A814E51DE0> >,\n",
       " <QuantLib.QuantLib.CalibrationHelper; proxy of <Swig Object of type 'std::vector< boost::shared_ptr< CalibrationHelper > >::value_type *' at 0x000001A814E51DB0> >,\n",
       " <QuantLib.QuantLib.CalibrationHelper; proxy of <Swig Object of type 'std::vector< boost::shared_ptr< CalibrationHelper > >::value_type *' at 0x000001A814E51C90> >,\n",
       " <QuantLib.QuantLib.CalibrationHelper; proxy of <Swig Object of type 'std::vector< boost::shared_ptr< CalibrationHelper > >::value_type *' at 0x000001A814E51E10> >]"
      ]
     },
     "execution_count": 55,
     "metadata": {},
     "output_type": "execute_result"
    }
   ],
   "source": [
    "list(basket)"
   ]
  },
  {
   "cell_type": "code",
   "execution_count": 51,
   "metadata": {
    "collapsed": false
   },
   "outputs": [],
   "source": [
    "helper=basket[0]"
   ]
  },
  {
   "cell_type": "code",
   "execution_count": 53,
   "metadata": {
    "collapsed": false
   },
   "outputs": [
    {
     "data": {
      "text/plain": [
       "<QuantLib.QuantLib.CalibrationHelper; proxy of <Swig Object of type 'std::vector< boost::shared_ptr< CalibrationHelper > >::value_type *' at 0x000001A814E32690> >"
      ]
     },
     "execution_count": 53,
     "metadata": {},
     "output_type": "execute_result"
    }
   ],
   "source": [
    "helper"
   ]
  },
  {
   "cell_type": "code",
   "execution_count": 56,
   "metadata": {
    "collapsed": false
   },
   "outputs": [
    {
     "data": {
      "text/plain": [
       "<QuantLib.QuantLib.LevenbergMarquardt; proxy of <Swig Object of type 'LevenbergMarquardt *' at 0x000001A814FC9660> >"
      ]
     },
     "execution_count": 56,
     "metadata": {},
     "output_type": "execute_result"
    }
   ],
   "source": [
    "method"
   ]
  },
  {
   "cell_type": "code",
   "execution_count": 57,
   "metadata": {
    "collapsed": false
   },
   "outputs": [
    {
     "data": {
      "text/plain": [
       "<QuantLib.QuantLib.EndCriteria; proxy of <Swig Object of type 'EndCriteria *' at 0x000001A814E51540> >"
      ]
     },
     "execution_count": 57,
     "metadata": {},
     "output_type": "execute_result"
    }
   ],
   "source": [
    "ec"
   ]
  },
  {
   "cell_type": "code",
   "execution_count": 63,
   "metadata": {
    "collapsed": false
   },
   "outputs": [
    {
     "data": {
      "text/plain": [
       "<QuantLib.QuantLib.NoConstraint; proxy of <Swig Object of type 'NoConstraint *' at 0x000001A814A3BF00> >"
      ]
     },
     "execution_count": 63,
     "metadata": {},
     "output_type": "execute_result"
    }
   ],
   "source": [
    "ql.NoConstraint()"
   ]
  }
 ],
 "metadata": {
  "kernelspec": {
   "display_name": "Python 3",
   "language": "python",
   "name": "python3"
  },
  "language_info": {
   "codemirror_mode": {
    "name": "ipython",
    "version": 3
   },
   "file_extension": ".py",
   "mimetype": "text/x-python",
   "name": "python",
   "nbconvert_exporter": "python",
   "pygments_lexer": "ipython3",
   "version": "3.5.2"
  }
 },
 "nbformat": 4,
 "nbformat_minor": 1
}
