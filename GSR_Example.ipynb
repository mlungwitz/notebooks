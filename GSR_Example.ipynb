{
 "cells": [
  {
   "cell_type": "markdown",
   "metadata": {},
   "source": [
    "# Gaussian1dModel Examples"
   ]
  },
  {
   "cell_type": "markdown",
   "metadata": {},
   "source": [
    "### Examples taken from QuantLib's C++ Example (by Peter Caspers) translated to Python"
   ]
  },
  {
   "cell_type": "markdown",
   "metadata": {},
   "source": [
    "This is some example code showing how to use the GSR (Gaussian short rate) and Markov Functional model."
   ]
  },
  {
   "cell_type": "code",
   "execution_count": null,
   "metadata": {
    "ExecuteTime": {
     "end_time": "2017-03-06T22:53:32.701135",
     "start_time": "2017-03-06T22:53:32.248648"
    },
    "collapsed": true
   },
   "outputs": [],
   "source": [
    "import QuantLib as ql"
   ]
  },
  {
   "cell_type": "code",
   "execution_count": null,
   "metadata": {
    "ExecuteTime": {
     "end_time": "2017-03-06T22:53:32.706169",
     "start_time": "2017-03-06T22:53:32.703134"
    },
    "collapsed": true
   },
   "outputs": [],
   "source": [
    "refDate = ql.Date(30,4,2014)"
   ]
  },
  {
   "cell_type": "code",
   "execution_count": null,
   "metadata": {
    "ExecuteTime": {
     "end_time": "2017-03-06T22:53:32.880671",
     "start_time": "2017-03-06T22:53:32.707144"
    },
    "collapsed": false
   },
   "outputs": [],
   "source": [
    "ql.Settings.instance().evaluationDate=refDate"
   ]
  },
  {
   "cell_type": "code",
   "execution_count": null,
   "metadata": {
    "ExecuteTime": {
     "end_time": "2017-03-06T22:53:32.984124",
     "start_time": "2017-03-06T22:53:32.881676"
    },
    "collapsed": false
   },
   "outputs": [],
   "source": [
    "print(\"EvalDate: \",ql.Settings.instance().evaluationDate)"
   ]
  },
  {
   "cell_type": "code",
   "execution_count": null,
   "metadata": {
    "ExecuteTime": {
     "end_time": "2017-03-06T22:53:33.074477",
     "start_time": "2017-03-06T22:53:32.986098"
    },
    "collapsed": true
   },
   "outputs": [],
   "source": [
    "forward6mLevel = 0.025\n",
    "oisLevel = 0.02"
   ]
  },
  {
   "cell_type": "code",
   "execution_count": null,
   "metadata": {
    "ExecuteTime": {
     "end_time": "2017-03-06T22:53:33.138455",
     "start_time": "2017-03-06T22:53:33.075488"
    },
    "collapsed": true
   },
   "outputs": [],
   "source": [
    "forward6mQuote = ql.QuoteHandle(ql.SimpleQuote(forward6mLevel))\n",
    "oisQuote = ql.QuoteHandle(ql.SimpleQuote(oisLevel))"
   ]
  },
  {
   "cell_type": "code",
   "execution_count": null,
   "metadata": {
    "ExecuteTime": {
     "end_time": "2017-03-06T22:53:33.224230",
     "start_time": "2017-03-06T22:53:33.139463"
    },
    "collapsed": true
   },
   "outputs": [],
   "source": [
    "yts6m = ql.YieldTermStructureHandle(ql.FlatForward(0, ql.TARGET(), forward6mQuote, ql.Actual365Fixed() ))\n",
    "ytsOis = ql.YieldTermStructureHandle(ql.FlatForward(0, ql.TARGET(), oisQuote, ql.Actual365Fixed() ))"
   ]
  },
  {
   "cell_type": "code",
   "execution_count": null,
   "metadata": {
    "ExecuteTime": {
     "end_time": "2017-03-06T22:53:33.287221",
     "start_time": "2017-03-06T22:53:33.225219"
    },
    "collapsed": true
   },
   "outputs": [],
   "source": [
    "euribor6m = ql.Euribor6M(yts6m)"
   ]
  },
  {
   "cell_type": "markdown",
   "metadata": {
    "variables": {
     "forward6mLevel": "0.025",
     "oisLevel": "0.02"
    }
   },
   "source": [
    "We assume a multicurve setup, for simplicity with flat yield term structures. The discounting curve is an Eonia curve at a level of {{oisLevel}} and the forwarding curve is an Euribior 6m curve at a level of {{forward6mLevel}}"
   ]
  },
  {
   "cell_type": "code",
   "execution_count": null,
   "metadata": {
    "ExecuteTime": {
     "end_time": "2017-03-06T22:53:33.356190",
     "start_time": "2017-03-06T22:53:33.288257"
    },
    "collapsed": true
   },
   "outputs": [],
   "source": [
    "volLevel = 0.20"
   ]
  },
  {
   "cell_type": "code",
   "execution_count": null,
   "metadata": {
    "ExecuteTime": {
     "end_time": "2017-03-06T22:53:33.428531",
     "start_time": "2017-03-06T22:53:33.357221"
    },
    "collapsed": true
   },
   "outputs": [],
   "source": [
    "volQuote = ql.QuoteHandle(ql.SimpleQuote(volLevel))"
   ]
  },
  {
   "cell_type": "code",
   "execution_count": null,
   "metadata": {
    "ExecuteTime": {
     "end_time": "2017-03-06T22:53:33.512677",
     "start_time": "2017-03-06T22:53:33.429537"
    },
    "collapsed": true
   },
   "outputs": [],
   "source": [
    "swaptionVol = ql.ConstantSwaptionVolatility(0, ql.TARGET(), ql.ModifiedFollowing, volQuote,\n",
    "                                                                                ql.Actual365Fixed())"
   ]
  },
  {
   "cell_type": "code",
   "execution_count": null,
   "metadata": {
    "ExecuteTime": {
     "end_time": "2017-03-06T22:53:33.588093",
     "start_time": "2017-03-06T22:53:33.513644"
    },
    "collapsed": false
   },
   "outputs": [],
   "source": [
    "swaptionVolHandle = ql.SwaptionVolatilityStructureHandle(ql.ConstantSwaptionVolatility(0, ql.TARGET(), ql.ModifiedFollowing, volQuote,\n",
    "                                                                                ql.Actual365Fixed()))"
   ]
  },
  {
   "cell_type": "markdown",
   "metadata": {
    "variables": {
     "volLevel": "0.2"
    }
   },
   "source": [
    "For the volatility we assume a flat swaption volatility at {{volLevel}}"
   ]
  },
  {
   "cell_type": "code",
   "execution_count": null,
   "metadata": {
    "ExecuteTime": {
     "end_time": "2017-03-06T22:53:33.669102",
     "start_time": "2017-03-06T22:53:33.589093"
    },
    "collapsed": true
   },
   "outputs": [],
   "source": [
    "strike = 0.04"
   ]
  },
  {
   "cell_type": "markdown",
   "metadata": {
    "variables": {
     "strike": "0.04"
    }
   },
   "source": [
    "We consider a standard 10y bermudan payer swaption with yearly exercises at a strike of {{strike}}"
   ]
  },
  {
   "cell_type": "code",
   "execution_count": null,
   "metadata": {
    "ExecuteTime": {
     "end_time": "2017-03-06T22:53:33.836599",
     "start_time": "2017-03-06T22:53:33.670105"
    },
    "collapsed": false
   },
   "outputs": [],
   "source": [
    "effectiveDate = ql.TARGET().advance(refDate, ql.Period(2,ql.Days))"
   ]
  },
  {
   "cell_type": "code",
   "execution_count": null,
   "metadata": {
    "ExecuteTime": {
     "end_time": "2017-03-06T22:53:33.954081",
     "start_time": "2017-03-06T22:53:33.837593"
    },
    "collapsed": false
   },
   "outputs": [],
   "source": [
    "maturityDate = ql.TARGET().advance(effectiveDate, ql.Period(10,ql.Years))"
   ]
  },
  {
   "cell_type": "code",
   "execution_count": null,
   "metadata": {
    "ExecuteTime": {
     "end_time": "2017-03-06T22:53:34.031917",
     "start_time": "2017-03-06T22:53:33.956087"
    },
    "collapsed": false
   },
   "outputs": [],
   "source": [
    "maturityDate"
   ]
  },
  {
   "cell_type": "code",
   "execution_count": null,
   "metadata": {
    "ExecuteTime": {
     "end_time": "2017-03-06T22:53:34.108417",
     "start_time": "2017-03-06T22:53:34.032923"
    },
    "collapsed": true
   },
   "outputs": [],
   "source": [
    "fixedSchedule = ql.Schedule(effectiveDate, maturityDate, ql.Period(1,ql.Years), ql.TARGET(),\n",
    "                            ql.ModifiedFollowing, ql.ModifiedFollowing,\n",
    "                            ql.DateGeneration.Forward, False)"
   ]
  },
  {
   "cell_type": "code",
   "execution_count": null,
   "metadata": {
    "ExecuteTime": {
     "end_time": "2017-03-06T22:53:34.206606",
     "start_time": "2017-03-06T22:53:34.110415"
    },
    "collapsed": false
   },
   "outputs": [],
   "source": [
    "for i in fixedSchedule:\n",
    "    print(i)"
   ]
  },
  {
   "cell_type": "code",
   "execution_count": null,
   "metadata": {
    "ExecuteTime": {
     "end_time": "2017-03-06T22:53:34.273740",
     "start_time": "2017-03-06T22:53:34.207608"
    },
    "collapsed": true
   },
   "outputs": [],
   "source": [
    "floatingSchedule = ql.Schedule(effectiveDate, maturityDate, ql.Period(6,ql.Months), ql.TARGET(),\n",
    "                            ql.ModifiedFollowing, ql.ModifiedFollowing,\n",
    "                            ql.DateGeneration.Forward, False)"
   ]
  },
  {
   "cell_type": "code",
   "execution_count": null,
   "metadata": {
    "ExecuteTime": {
     "end_time": "2017-03-06T22:53:34.353826",
     "start_time": "2017-03-06T22:53:34.274741"
    },
    "collapsed": false
   },
   "outputs": [],
   "source": [
    "for i in floatingSchedule:\n",
    "    print(i)"
   ]
  },
  {
   "cell_type": "code",
   "execution_count": null,
   "metadata": {
    "ExecuteTime": {
     "end_time": "2017-03-06T22:53:34.424388",
     "start_time": "2017-03-06T22:53:34.354797"
    },
    "collapsed": false
   },
   "outputs": [],
   "source": [
    "underlying = ql.NonstandardSwap(ql.VanillaSwap.Payer, [1.0]*(len(fixedSchedule)-1), [1.0]*(len(floatingSchedule)-1), fixedSchedule,\n",
    "                                              [strike]*(len(fixedSchedule)-1), ql.Thirty360(), floatingSchedule, \n",
    "                                              euribor6m, [1.0]*(len(floatingSchedule)-1), [0.0]*(len(floatingSchedule)-1), ql.Actual360())"
   ]
  },
  {
   "cell_type": "code",
   "execution_count": null,
   "metadata": {
    "ExecuteTime": {
     "end_time": "2017-03-06T22:53:34.503131",
     "start_time": "2017-03-06T22:53:34.425390"
    },
    "collapsed": false
   },
   "outputs": [],
   "source": [
    "for cf in underlying.fixedLeg():\n",
    "    print (cf.date(), cf.amount())"
   ]
  },
  {
   "cell_type": "code",
   "execution_count": null,
   "metadata": {
    "ExecuteTime": {
     "end_time": "2017-03-06T22:53:34.583471",
     "start_time": "2017-03-06T22:53:34.504119"
    },
    "collapsed": false
   },
   "outputs": [],
   "source": [
    "for cf in underlying.floatingLeg():\n",
    "    print (cf.date(), cf.amount())"
   ]
  },
  {
   "cell_type": "code",
   "execution_count": null,
   "metadata": {
    "ExecuteTime": {
     "end_time": "2017-03-06T22:53:34.666465",
     "start_time": "2017-03-06T22:53:34.585476"
    },
    "collapsed": false
   },
   "outputs": [],
   "source": [
    "exerciseDates = [ql.TARGET().advance(fixedSchedule[i], ql.Period(-2, ql.Days)) for i in range(1,10)]"
   ]
  },
  {
   "cell_type": "code",
   "execution_count": null,
   "metadata": {
    "ExecuteTime": {
     "end_time": "2017-03-06T22:53:34.731773",
     "start_time": "2017-03-06T22:53:34.668239"
    },
    "collapsed": false
   },
   "outputs": [],
   "source": [
    "exerciseDates"
   ]
  },
  {
   "cell_type": "code",
   "execution_count": null,
   "metadata": {
    "ExecuteTime": {
     "end_time": "2017-03-06T22:53:34.815384",
     "start_time": "2017-03-06T22:53:34.732775"
    },
    "collapsed": true
   },
   "outputs": [],
   "source": [
    "exercise = ql.BermudanExercise(exerciseDates, False)"
   ]
  },
  {
   "cell_type": "code",
   "execution_count": null,
   "metadata": {
    "ExecuteTime": {
     "end_time": "2017-03-06T22:53:34.881119",
     "start_time": "2017-03-06T22:53:34.817376"
    },
    "collapsed": true
   },
   "outputs": [],
   "source": [
    "swaption = ql.NonstandardSwaption(underlying, exercise)"
   ]
  },
  {
   "cell_type": "markdown",
   "metadata": {},
   "source": [
    "The model is a one factor Hull White model with piecewise volatility adapted to our exercise dates."
   ]
  },
  {
   "cell_type": "code",
   "execution_count": null,
   "metadata": {
    "ExecuteTime": {
     "end_time": "2017-03-06T22:53:34.964984",
     "start_time": "2017-03-06T22:53:34.883064"
    },
    "collapsed": true
   },
   "outputs": [],
   "source": [
    "stepDates = [exerciseDates[i] for i in range(0, len(exerciseDates)-1)]"
   ]
  },
  {
   "cell_type": "code",
   "execution_count": null,
   "metadata": {
    "ExecuteTime": {
     "end_time": "2017-03-06T22:53:35.054486",
     "start_time": "2017-03-06T22:53:34.965988"
    },
    "collapsed": true
   },
   "outputs": [],
   "source": [
    "sigmas = [ql.QuoteHandle(ql.SimpleQuote(0.01)) for i in range(0, len(stepDates)+1)]"
   ]
  },
  {
   "cell_type": "code",
   "execution_count": null,
   "metadata": {
    "ExecuteTime": {
     "end_time": "2017-03-06T22:53:35.206762",
     "start_time": "2017-03-06T22:53:35.055488"
    },
    "collapsed": true
   },
   "outputs": [],
   "source": [
    "reversion = 0.01"
   ]
  },
  {
   "cell_type": "code",
   "execution_count": null,
   "metadata": {
    "ExecuteTime": {
     "end_time": "2017-03-06T22:53:35.320390",
     "start_time": "2017-03-06T22:53:35.207777"
    },
    "collapsed": false
   },
   "outputs": [],
   "source": [
    "reversions = [ql.QuoteHandle(ql.SimpleQuote(reversion))]"
   ]
  },
  {
   "cell_type": "markdown",
   "metadata": {
    "variables": {
     "reversion": "0.01"
    }
   },
   "source": [
    "The reversion is just kept constant at a level of {{reversion}}"
   ]
  },
  {
   "cell_type": "markdown",
   "metadata": {},
   "source": [
    "The model's curve is set to the 6m forward curve. Note that the model adapts automatically to other curves where appropriate (e.g. if an index requires a different forwarding curve) or where explicitly specified (e.g. in a swaption pricing engine)."
   ]
  },
  {
   "cell_type": "code",
   "execution_count": null,
   "metadata": {
    "ExecuteTime": {
     "end_time": "2017-03-06T22:53:35.432951",
     "start_time": "2017-03-06T22:53:35.321368"
    },
    "collapsed": false
   },
   "outputs": [],
   "source": [
    "gsr = ql.Gsr(yts6m, stepDates, sigmas, reversions)"
   ]
  },
  {
   "cell_type": "code",
   "execution_count": null,
   "metadata": {
    "ExecuteTime": {
     "end_time": "2017-03-06T22:53:35.510198",
     "start_time": "2017-03-06T22:53:35.433954"
    },
    "collapsed": true
   },
   "outputs": [],
   "source": [
    "swaptionEngine = ql.Gaussian1dSwaptionEngine(gsr, 64, 7.0, True, False, ytsOis)"
   ]
  },
  {
   "cell_type": "code",
   "execution_count": null,
   "metadata": {
    "ExecuteTime": {
     "end_time": "2017-03-06T22:53:35.604193",
     "start_time": "2017-03-06T22:53:35.511200"
    },
    "collapsed": false
   },
   "outputs": [],
   "source": [
    "nonstandardSwaptionEngine = ql.Gaussian1dNonstandardSwaptionEngine(gsr, 64, 7.0, True, False, ql.QuoteHandle(),ytsOis)"
   ]
  },
  {
   "cell_type": "code",
   "execution_count": null,
   "metadata": {
    "ExecuteTime": {
     "end_time": "2017-03-06T22:53:35.692577",
     "start_time": "2017-03-06T22:53:35.605195"
    },
    "collapsed": true
   },
   "outputs": [],
   "source": [
    "swaption.setPricingEngine(nonstandardSwaptionEngine)"
   ]
  },
  {
   "cell_type": "markdown",
   "metadata": {},
   "source": [
    "The engine can generate a calibration basket in two modes. The first one is called Naive and generates ATM swaptions adapted to the exercise dates of the swaption and its maturity date."
   ]
  },
  {
   "cell_type": "code",
   "execution_count": null,
   "metadata": {
    "ExecuteTime": {
     "end_time": "2017-03-06T22:53:35.769263",
     "start_time": "2017-03-06T22:53:35.693586"
    },
    "collapsed": true
   },
   "outputs": [],
   "source": [
    "swapBase = ql.EuriborSwapIsdaFixA(ql.Period(10,ql.Years), yts6m, ytsOis)"
   ]
  },
  {
   "cell_type": "code",
   "execution_count": null,
   "metadata": {
    "ExecuteTime": {
     "end_time": "2017-03-06T22:53:35.834854",
     "start_time": "2017-03-06T22:53:35.770266"
    },
    "collapsed": false
   },
   "outputs": [],
   "source": [
    "basket = swaption.calibrationBasket(swapBase, swaptionVol, \"Naive\")"
   ]
  },
  {
   "cell_type": "code",
   "execution_count": null,
   "metadata": {
    "ExecuteTime": {
     "end_time": "2017-03-06T22:53:35.935985",
     "start_time": "2017-03-06T22:53:35.835854"
    },
    "collapsed": true
   },
   "outputs": [],
   "source": [
    "def printBasket(basket):\n",
    "    print()\n",
    "    print('{:<20}{:<20}{:<20}{:<14}{:<12}{:<14}'.format(\"Expiry\", \"Maturity\", \"Nominal\", \"Rate\", \"Pay/Rec\", \"Market ivol\"))\n",
    "    print(\"====================\"*4+\"==================\")\n",
    "    for helper in basket:\n",
    "        endDate = helper.swaptionMaturityDate()\n",
    "        nominal = helper.swaptionNominal()\n",
    "        vol = helper.volatility().value()\n",
    "        rate = helper.swaptionStrike()\n",
    "        expiry = helper.swaptionExpiryDate()\n",
    "        swp_type = 0 # to be SWIGed\n",
    "        print('{:<20}{:<20}{:<20}{:<14}{:<12}{:<14}'.format(str(expiry), str(endDate), (\"%.2f\"%nominal), (\"%.6f\"%rate), str(swp_type), (\"%.6f\"%vol)))"
   ]
  },
  {
   "cell_type": "markdown",
   "metadata": {},
   "source": [
    "The resulting basket looks as follows:"
   ]
  },
  {
   "cell_type": "code",
   "execution_count": null,
   "metadata": {
    "ExecuteTime": {
     "end_time": "2017-03-06T22:53:36.011482",
     "start_time": "2017-03-06T22:53:35.937013"
    },
    "collapsed": false
   },
   "outputs": [],
   "source": [
    "printBasket(basket)"
   ]
  },
  {
   "cell_type": "markdown",
   "metadata": {},
   "source": [
    "Let's calibrate our model to this basket. We use a specialized calibration method calibrating the sigma function one by one to the calibrating vanilla swaptions. The result of this is as follows:"
   ]
  },
  {
   "cell_type": "code",
   "execution_count": null,
   "metadata": {
    "ExecuteTime": {
     "end_time": "2017-03-06T22:53:36.100981",
     "start_time": "2017-03-06T22:53:36.012464"
    },
    "collapsed": false
   },
   "outputs": [],
   "source": [
    "for helper in basket:\n",
    "    helper.setPricingEngine(swaptionEngine)"
   ]
  },
  {
   "cell_type": "code",
   "execution_count": null,
   "metadata": {
    "ExecuteTime": {
     "end_time": "2017-03-06T22:53:36.190523",
     "start_time": "2017-03-06T22:53:36.102437"
    },
    "collapsed": true
   },
   "outputs": [],
   "source": [
    "method = ql.LevenbergMarquardt()"
   ]
  },
  {
   "cell_type": "code",
   "execution_count": null,
   "metadata": {
    "ExecuteTime": {
     "end_time": "2017-03-06T22:53:36.275297",
     "start_time": "2017-03-06T22:53:36.191527"
    },
    "collapsed": true
   },
   "outputs": [],
   "source": [
    "ec = ql.EndCriteria(1000, 10, 1e-8, 1e-8, 1e-8)"
   ]
  },
  {
   "cell_type": "code",
   "execution_count": null,
   "metadata": {
    "ExecuteTime": {
     "end_time": "2017-03-06T22:53:36.651930",
     "start_time": "2017-03-06T22:53:36.276328"
    },
    "collapsed": false
   },
   "outputs": [],
   "source": [
    "gsr.calibrateVolatilitiesIterative(basket, method, ec)"
   ]
  },
  {
   "cell_type": "code",
   "execution_count": null,
   "metadata": {
    "ExecuteTime": {
     "end_time": "2017-03-06T22:53:36.731064",
     "start_time": "2017-03-06T22:53:36.653302"
    },
    "collapsed": false
   },
   "outputs": [],
   "source": [
    "def printModelCalibration(basket, volatility):\n",
    "    print()\n",
    "    print('{:<20}{:<14}{:<20}{:<20}{:<14}{:<14}'.format(\"Expiry\", \"Model sigma\", \"Model price\", \"Market price\", \"Model ivol\", \"Market ivol\"))\n",
    "    print(\"====================\"*5)\n",
    "    for i in range(0,len(basket)):\n",
    "        helper = basket[i]\n",
    "        expiry = helper.swaptionExpiryDate()\n",
    "        print('{:<20}{:<14}{:<20}{:<20}{:<14}{:<14}'.format(str(expiry), (\"%.6f\"%volatility[i]), (\"%.6f\"%helper.modelValue()),\n",
    "                                                           (\"%.6f\"%helper.marketValue()), (\"%.6f\"%helper.impliedVolatility(helper.modelValue(), 1e-6, 1000, 0.0, 2.0)),\n",
    "                                                           (\"%.6f\"%helper.volatility().value())))\n",
    "    if (len(volatility) > len(basket)):\n",
    "        print('{:<20}'.format((\"%.6f\"%volatility[-1])))\n",
    "        "
   ]
  },
  {
   "cell_type": "code",
   "execution_count": null,
   "metadata": {
    "ExecuteTime": {
     "end_time": "2017-03-06T22:53:36.880240",
     "start_time": "2017-03-06T22:53:36.732019"
    },
    "collapsed": false
   },
   "outputs": [],
   "source": [
    "printModelCalibration(basket, gsr.volatility())"
   ]
  },
  {
   "cell_type": "markdown",
   "metadata": {},
   "source": [
    "Finally we price our bermudan swaption in the calibrated model:"
   ]
  },
  {
   "cell_type": "code",
   "execution_count": null,
   "metadata": {
    "ExecuteTime": {
     "end_time": "2017-03-06T22:53:36.962868",
     "start_time": "2017-03-06T22:53:36.882246"
    },
    "collapsed": false,
    "scrolled": true
   },
   "outputs": [],
   "source": [
    "print(\"Bermudan swaption NPV (ATM calibrated GSR) = %.6f\" % swaption.NPV())"
   ]
  },
  {
   "cell_type": "markdown",
   "metadata": {},
   "source": [
    "There is another mode to generate a calibration basket called MaturityStrikeByDeltaGamma. This means that the maturity, the strike and the nominal of the calibrating swaption are computed such that the npv and its first and second derivative with respect to the model's state variable) of the exotics underlying match with the calibrating swaption'sunderlying. Let's try this in our case."
   ]
  },
  {
   "cell_type": "code",
   "execution_count": null,
   "metadata": {
    "ExecuteTime": {
     "end_time": "2017-03-06T22:53:37.106021",
     "start_time": "2017-03-06T22:53:36.963870"
    },
    "collapsed": true
   },
   "outputs": [],
   "source": [
    "basket = swaption.calibrationBasket(swapBase, swaptionVol, \"MaturityStrikeByDeltaGamma\")"
   ]
  },
  {
   "cell_type": "code",
   "execution_count": null,
   "metadata": {
    "ExecuteTime": {
     "end_time": "2017-03-06T22:53:37.180320",
     "start_time": "2017-03-06T22:53:37.108037"
    },
    "collapsed": false
   },
   "outputs": [],
   "source": [
    "printBasket(basket)"
   ]
  },
  {
   "cell_type": "markdown",
   "metadata": {},
   "source": [
    "The calibrated nominal is close to the exotics nominal. The expiries and maturity dates of the vanillas are the same as in the case above. The difference is the strike which is now equal to the exotics strike."
   ]
  },
  {
   "cell_type": "markdown",
   "metadata": {},
   "source": [
    "Let's see how this affects the exotics npv. The recalibrated model is:"
   ]
  },
  {
   "cell_type": "code",
   "execution_count": null,
   "metadata": {
    "ExecuteTime": {
     "end_time": "2017-03-06T22:53:37.262733",
     "start_time": "2017-03-06T22:53:37.181322"
    },
    "collapsed": true
   },
   "outputs": [],
   "source": [
    "for helper in basket:\n",
    "    helper.setPricingEngine(swaptionEngine)"
   ]
  },
  {
   "cell_type": "code",
   "execution_count": null,
   "metadata": {
    "ExecuteTime": {
     "end_time": "2017-03-06T22:53:37.653960",
     "start_time": "2017-03-06T22:53:37.263736"
    },
    "collapsed": true
   },
   "outputs": [],
   "source": [
    "gsr.calibrateVolatilitiesIterative(basket, method, ec)"
   ]
  },
  {
   "cell_type": "code",
   "execution_count": null,
   "metadata": {
    "ExecuteTime": {
     "end_time": "2017-03-06T22:53:37.816290",
     "start_time": "2017-03-06T22:53:37.655972"
    },
    "collapsed": false
   },
   "outputs": [],
   "source": [
    "printModelCalibration(basket, gsr.volatility())"
   ]
  },
  {
   "cell_type": "markdown",
   "metadata": {},
   "source": [
    "And the bermudan's price becomes:"
   ]
  },
  {
   "cell_type": "code",
   "execution_count": null,
   "metadata": {
    "ExecuteTime": {
     "end_time": "2017-03-06T22:53:37.906359",
     "start_time": "2017-03-06T22:53:37.817266"
    },
    "collapsed": false
   },
   "outputs": [],
   "source": [
    "print(\"Bermudan swaption NPV (deal strike calibrated GSR) = %.6f\" % swaption.NPV())"
   ]
  },
  {
   "cell_type": "markdown",
   "metadata": {},
   "source": [
    "We can do more complicated things, let's e.g. modify the nominal schedule to be linear amortizing and see what the effect on the generated calibration basket is:"
   ]
  },
  {
   "cell_type": "code",
   "execution_count": null,
   "metadata": {
    "ExecuteTime": {
     "end_time": "2017-03-06T22:53:37.981996",
     "start_time": "2017-03-06T22:53:37.907348"
    },
    "collapsed": false
   },
   "outputs": [],
   "source": [
    "nominalFixed = [ 1.0 - float(i) / (len(fixedSchedule) - 1) for i in range(0,len(fixedSchedule)-1)]\n",
    "nominalFloating = [ n for n in nominalFixed for repetitions in range(2)]\n",
    "strikes = [strike]*len(nominalFixed)"
   ]
  },
  {
   "cell_type": "code",
   "execution_count": null,
   "metadata": {
    "ExecuteTime": {
     "end_time": "2017-03-06T22:53:38.076263",
     "start_time": "2017-03-06T22:53:37.983004"
    },
    "collapsed": false
   },
   "outputs": [],
   "source": [
    "underlying2 = ql.NonstandardSwap(ql.VanillaSwap.Payer, nominalFixed, nominalFloating, fixedSchedule,\n",
    "                                              strikes, ql.Thirty360(), floatingSchedule, \n",
    "                                              euribor6m, [1.0]*(len(floatingSchedule)-1), [0.0]*(len(floatingSchedule)-1), ql.Actual360())"
   ]
  },
  {
   "cell_type": "code",
   "execution_count": null,
   "metadata": {
    "ExecuteTime": {
     "end_time": "2017-03-06T22:53:38.156579",
     "start_time": "2017-03-06T22:53:38.077249"
    },
    "collapsed": true
   },
   "outputs": [],
   "source": [
    "swaption2 = ql.NonstandardSwaption(underlying2, exercise)"
   ]
  },
  {
   "cell_type": "code",
   "execution_count": null,
   "metadata": {
    "ExecuteTime": {
     "end_time": "2017-03-06T22:53:38.242914",
     "start_time": "2017-03-06T22:53:38.157591"
    },
    "collapsed": true
   },
   "outputs": [],
   "source": [
    "swaption2.setPricingEngine(nonstandardSwaptionEngine)"
   ]
  },
  {
   "cell_type": "code",
   "execution_count": null,
   "metadata": {
    "ExecuteTime": {
     "end_time": "2017-03-06T22:53:38.384624",
     "start_time": "2017-03-06T22:53:38.243893"
    },
    "collapsed": true
   },
   "outputs": [],
   "source": [
    "basket = swaption2.calibrationBasket(swapBase, swaptionVol, \"MaturityStrikeByDeltaGamma\")"
   ]
  },
  {
   "cell_type": "code",
   "execution_count": null,
   "metadata": {
    "ExecuteTime": {
     "end_time": "2017-03-06T22:53:38.464627",
     "start_time": "2017-03-06T22:53:38.385602"
    },
    "collapsed": false
   },
   "outputs": [],
   "source": [
    "printBasket(basket)"
   ]
  },
  {
   "cell_type": "markdown",
   "metadata": {},
   "source": [
    "The notional is weighted over the underlying exercised into and the maturity is adjusted downwards. The rate on the other hand is not affected."
   ]
  },
  {
   "cell_type": "markdown",
   "metadata": {},
   "source": [
    "You can also price exotic bond's features. If you have e.g. a bermudan callable fixed bond you can set up the call right as a swaption to enter into a one leg swap with notional reimbursement at maturity. The exercise should then be written as a rebated exercise paying the notional in case of exercise."
   ]
  },
  {
   "cell_type": "code",
   "execution_count": null,
   "metadata": {
    "ExecuteTime": {
     "end_time": "2017-03-06T22:53:38.556702",
     "start_time": "2017-03-06T22:53:38.465626"
    },
    "collapsed": true
   },
   "outputs": [],
   "source": [
    "nominalFixed2 = [1.0]*len(nominalFixed)\n",
    "nominalFloating2 = [0.0]*len(nominalFloating)"
   ]
  },
  {
   "cell_type": "code",
   "execution_count": null,
   "metadata": {
    "ExecuteTime": {
     "end_time": "2017-03-06T22:53:38.629332",
     "start_time": "2017-03-06T22:53:38.557734"
    },
    "collapsed": true
   },
   "outputs": [],
   "source": [
    "underlying3 = ql.NonstandardSwap(ql.VanillaSwap.Receiver, nominalFixed2, nominalFloating2, fixedSchedule,\n",
    "                                              strikes, ql.Thirty360(), floatingSchedule, \n",
    "                                              euribor6m, [1.0]*(len(floatingSchedule)-1), [0.0]*(len(floatingSchedule)-1), ql.Actual360(),\n",
    "                                False, True)"
   ]
  },
  {
   "cell_type": "code",
   "execution_count": null,
   "metadata": {
    "ExecuteTime": {
     "end_time": "2017-03-06T22:53:38.722786",
     "start_time": "2017-03-06T22:53:38.629968"
    },
    "collapsed": false
   },
   "outputs": [],
   "source": [
    "exercise2 = ql.RebatedExercise(exercise, [-1.0]*len(exerciseDates), 2, ql.TARGET())"
   ]
  },
  {
   "cell_type": "code",
   "execution_count": null,
   "metadata": {
    "ExecuteTime": {
     "end_time": "2017-03-06T22:53:38.794984",
     "start_time": "2017-03-06T22:53:38.723789"
    },
    "collapsed": true
   },
   "outputs": [],
   "source": [
    "swaption3 = ql.NonstandardSwaption(underlying3, exercise2)"
   ]
  },
  {
   "cell_type": "code",
   "execution_count": null,
   "metadata": {
    "ExecuteTime": {
     "end_time": "2017-03-06T22:53:38.877490",
     "start_time": "2017-03-06T22:53:38.795987"
    },
    "collapsed": true
   },
   "outputs": [],
   "source": [
    "oas0 = ql.SimpleQuote(0.0)\n",
    "oas100 = ql.SimpleQuote(0.01)\n",
    "oas = ql.RelinkableQuoteHandle(oas0)"
   ]
  },
  {
   "cell_type": "code",
   "execution_count": null,
   "metadata": {
    "ExecuteTime": {
     "end_time": "2017-03-06T22:53:38.971836",
     "start_time": "2017-03-06T22:53:38.879519"
    },
    "collapsed": false
   },
   "outputs": [],
   "source": [
    "nonstandardSwaptionEngine2 = ql.Gaussian1dNonstandardSwaptionEngine(gsr, 64, 7.0, True, False, oas) #change discounting to 6m"
   ]
  },
  {
   "cell_type": "code",
   "execution_count": null,
   "metadata": {
    "ExecuteTime": {
     "end_time": "2017-03-06T22:53:39.051308",
     "start_time": "2017-03-06T22:53:38.973838"
    },
    "collapsed": true
   },
   "outputs": [],
   "source": [
    "swaption3.setPricingEngine(nonstandardSwaptionEngine2)"
   ]
  },
  {
   "cell_type": "code",
   "execution_count": null,
   "metadata": {
    "ExecuteTime": {
     "end_time": "2017-03-06T22:53:39.229172",
     "start_time": "2017-03-06T22:53:39.052317"
    },
    "collapsed": true
   },
   "outputs": [],
   "source": [
    "basket = swaption3.calibrationBasket(swapBase, swaptionVol, \"MaturityStrikeByDeltaGamma\")"
   ]
  },
  {
   "cell_type": "markdown",
   "metadata": {},
   "source": [
    "The calibration basket looks like this:"
   ]
  },
  {
   "cell_type": "code",
   "execution_count": null,
   "metadata": {
    "ExecuteTime": {
     "end_time": "2017-03-06T22:53:39.312471",
     "start_time": "2017-03-06T22:53:39.230120"
    },
    "collapsed": false
   },
   "outputs": [],
   "source": [
    "printBasket(basket)"
   ]
  },
  {
   "cell_type": "markdown",
   "metadata": {},
   "source": [
    "Note that nominals are not exactly 1.0 here. This is because we do our bond discounting on 6m level while the swaptions are still discounted on OIS level. (You can try this by changing the OIS level to the 6m level, which will produce nominals near 1.0). The npv of the call right is (after recalibrating the model):"
   ]
  },
  {
   "cell_type": "code",
   "execution_count": null,
   "metadata": {
    "ExecuteTime": {
     "end_time": "2017-03-06T22:53:39.411621",
     "start_time": "2017-03-06T22:53:39.313454"
    },
    "collapsed": true
   },
   "outputs": [],
   "source": [
    "for helper in basket:\n",
    "    helper.setPricingEngine(swaptionEngine)"
   ]
  },
  {
   "cell_type": "code",
   "execution_count": null,
   "metadata": {
    "ExecuteTime": {
     "end_time": "2017-03-06T22:53:39.697601",
     "start_time": "2017-03-06T22:53:39.412624"
    },
    "collapsed": true
   },
   "outputs": [],
   "source": [
    "gsr.calibrateVolatilitiesIterative(basket, method, ec)"
   ]
  },
  {
   "cell_type": "code",
   "execution_count": null,
   "metadata": {
    "ExecuteTime": {
     "end_time": "2017-03-06T22:53:39.821573",
     "start_time": "2017-03-06T22:53:39.698575"
    },
    "collapsed": false
   },
   "outputs": [],
   "source": [
    "print(\"Bond's bermudan call right npv = %.6f\" % swaption3.NPV())"
   ]
  },
  {
   "cell_type": "markdown",
   "metadata": {},
   "source": [
    "Up to now, no credit spread is included in the pricing. We can do so by specifying an oas in the pricing engine. Let's set the spread level to 100bp and regenerate the calibration basket."
   ]
  },
  {
   "cell_type": "code",
   "execution_count": null,
   "metadata": {
    "ExecuteTime": {
     "end_time": "2017-03-06T22:53:39.898560",
     "start_time": "2017-03-06T22:53:39.822570"
    },
    "collapsed": true
   },
   "outputs": [],
   "source": [
    "oas.linkTo(oas100) # Credit Spread 100bp"
   ]
  },
  {
   "cell_type": "code",
   "execution_count": null,
   "metadata": {
    "ExecuteTime": {
     "end_time": "2017-03-06T22:53:40.051899",
     "start_time": "2017-03-06T22:53:39.899582"
    },
    "collapsed": true
   },
   "outputs": [],
   "source": [
    "basket = swaption3.calibrationBasket(swapBase, swaptionVol, \"MaturityStrikeByDeltaGamma\")"
   ]
  },
  {
   "cell_type": "code",
   "execution_count": null,
   "metadata": {
    "ExecuteTime": {
     "end_time": "2017-03-06T22:53:40.151985",
     "start_time": "2017-03-06T22:53:40.052913"
    },
    "collapsed": false
   },
   "outputs": [],
   "source": [
    "printBasket(basket)"
   ]
  },
  {
   "cell_type": "markdown",
   "metadata": {},
   "source": [
    "The adjusted basket takes the credit spread into account. This is consistent to a hedge where you would have a margin on the float leg around 100bp, too."
   ]
  },
  {
   "cell_type": "code",
   "execution_count": null,
   "metadata": {
    "ExecuteTime": {
     "end_time": "2017-03-06T22:53:40.220642",
     "start_time": "2017-03-06T22:53:40.152993"
    },
    "collapsed": true
   },
   "outputs": [],
   "source": [
    "for helper in basket:\n",
    "    helper.setPricingEngine(swaptionEngine)"
   ]
  },
  {
   "cell_type": "code",
   "execution_count": null,
   "metadata": {
    "ExecuteTime": {
     "end_time": "2017-03-06T22:53:40.554562",
     "start_time": "2017-03-06T22:53:40.222674"
    },
    "collapsed": true
   },
   "outputs": [],
   "source": [
    "gsr.calibrateVolatilitiesIterative(basket, method, ec)"
   ]
  },
  {
   "cell_type": "code",
   "execution_count": null,
   "metadata": {
    "ExecuteTime": {
     "end_time": "2017-03-06T22:53:40.685911",
     "start_time": "2017-03-06T22:53:40.555579"
    },
    "collapsed": false
   },
   "outputs": [],
   "source": [
    "print(\"Bond's bermudan call right npv (oas = 100bp) = %.6f\" % swaption3.NPV())"
   ]
  },
  {
   "cell_type": "markdown",
   "metadata": {},
   "source": [
    "The next instrument we look at is a CMS 10Y vs Euribor 6M swaption. The maturity is again 10 years and the option is exercisable on a yearly basis"
   ]
  },
  {
   "cell_type": "code",
   "execution_count": null,
   "metadata": {
    "ExecuteTime": {
     "end_time": "2017-03-06T22:53:40.780835",
     "start_time": "2017-03-06T22:53:40.686883"
    },
    "collapsed": false
   },
   "outputs": [],
   "source": [
    "underlying4 = ql.FloatFloatSwap(ql.VanillaSwap.Payer, [1.0]*(len(fixedSchedule)-1), [1.0]*(len(floatingSchedule)-1), fixedSchedule,\n",
    "                               swapBase, ql.Thirty360(), floatingSchedule,\n",
    "                               euribor6m, ql.Actual360(), False, False,\n",
    "                               [1.0]*(len(fixedSchedule)-1),[0.0]*(len(fixedSchedule)-1),[] ,[] ,[1.0]*(len(floatingSchedule)-1),\n",
    "                                [0.001]*(len(floatingSchedule)-1),[],[])"
   ]
  },
  {
   "cell_type": "code",
   "execution_count": null,
   "metadata": {
    "ExecuteTime": {
     "end_time": "2017-03-06T22:53:40.868633",
     "start_time": "2017-03-06T22:53:40.781838"
    },
    "collapsed": false
   },
   "outputs": [],
   "source": [
    "swaption4 = ql.FloatFloatSwaption(underlying4, exercise)"
   ]
  },
  {
   "cell_type": "code",
   "execution_count": null,
   "metadata": {
    "ExecuteTime": {
     "end_time": "2017-03-06T22:53:40.953844",
     "start_time": "2017-03-06T22:53:40.869588"
    },
    "collapsed": false
   },
   "outputs": [],
   "source": [
    "floatSwaptionEngine = ql.Gaussian1dFloatFloatSwaptionEngine(gsr, 64, 7.0, True, False, ql.QuoteHandle(), ytsOis, True)"
   ]
  },
  {
   "cell_type": "code",
   "execution_count": null,
   "metadata": {
    "ExecuteTime": {
     "end_time": "2017-03-06T22:53:41.026036",
     "start_time": "2017-03-06T22:53:40.954815"
    },
    "collapsed": true
   },
   "outputs": [],
   "source": [
    "swaption4.setPricingEngine(floatSwaptionEngine)"
   ]
  },
  {
   "cell_type": "markdown",
   "metadata": {},
   "source": [
    "Since the underlying is quite exotic already, we start with pricing this using the LinearTsrPricer for CMS coupon estimation"
   ]
  },
  {
   "cell_type": "code",
   "execution_count": null,
   "metadata": {
    "ExecuteTime": {
     "end_time": "2017-03-06T22:53:41.128555",
     "start_time": "2017-03-06T22:53:41.028011"
    },
    "collapsed": false
   },
   "outputs": [],
   "source": [
    "reversionQuote=ql.QuoteHandle(ql.SimpleQuote(reversion))"
   ]
  },
  {
   "cell_type": "code",
   "execution_count": null,
   "metadata": {
    "ExecuteTime": {
     "end_time": "2017-03-06T22:53:41.199946",
     "start_time": "2017-03-06T22:53:41.129558"
    },
    "collapsed": true
   },
   "outputs": [],
   "source": [
    "leg0 = underlying4.leg(0)\n",
    "leg1 = underlying4.leg(1)"
   ]
  },
  {
   "cell_type": "code",
   "execution_count": null,
   "metadata": {
    "ExecuteTime": {
     "end_time": "2017-03-06T22:53:41.293407",
     "start_time": "2017-03-06T22:53:41.200942"
    },
    "collapsed": false
   },
   "outputs": [],
   "source": [
    "cmsPricer = ql.LinearTsrPricer(swaptionVolHandle, reversionQuote)"
   ]
  },
  {
   "cell_type": "code",
   "execution_count": null,
   "metadata": {
    "ExecuteTime": {
     "end_time": "2017-03-06T22:53:41.366037",
     "start_time": "2017-03-06T22:53:41.295400"
    },
    "collapsed": true
   },
   "outputs": [],
   "source": [
    "ql.setCouponPricer(leg0,cmsPricer)"
   ]
  },
  {
   "cell_type": "code",
   "execution_count": null,
   "metadata": {
    "ExecuteTime": {
     "end_time": "2017-03-06T22:53:41.476558",
     "start_time": "2017-03-06T22:53:41.367039"
    },
    "collapsed": true
   },
   "outputs": [],
   "source": [
    "iborPricer = ql.BlackIborCouponPricer()"
   ]
  },
  {
   "cell_type": "code",
   "execution_count": null,
   "metadata": {
    "ExecuteTime": {
     "end_time": "2017-03-06T22:53:41.564295",
     "start_time": "2017-03-06T22:53:41.477528"
    },
    "collapsed": true
   },
   "outputs": [],
   "source": [
    "ql.setCouponPricer(leg1,iborPricer)"
   ]
  },
  {
   "cell_type": "code",
   "execution_count": null,
   "metadata": {
    "ExecuteTime": {
     "end_time": "2017-03-06T22:53:41.641865",
     "start_time": "2017-03-06T22:53:41.565298"
    },
    "collapsed": true
   },
   "outputs": [],
   "source": [
    "swapPricer = ql.DiscountingSwapEngine(ytsOis)"
   ]
  },
  {
   "cell_type": "code",
   "execution_count": null,
   "metadata": {
    "ExecuteTime": {
     "end_time": "2017-03-06T22:53:41.707234",
     "start_time": "2017-03-06T22:53:41.642864"
    },
    "collapsed": true
   },
   "outputs": [],
   "source": [
    "underlying4.setPricingEngine(swapPricer)"
   ]
  },
  {
   "cell_type": "code",
   "execution_count": null,
   "metadata": {
    "ExecuteTime": {
     "end_time": "2017-03-06T22:53:41.790040",
     "start_time": "2017-03-06T22:53:41.709213"
    },
    "collapsed": false
   },
   "outputs": [],
   "source": [
    "npv5 = underlying4.NPV()"
   ]
  },
  {
   "cell_type": "code",
   "execution_count": null,
   "metadata": {
    "ExecuteTime": {
     "end_time": "2017-03-06T22:53:41.915895",
     "start_time": "2017-03-06T22:53:41.792045"
    },
    "collapsed": false
   },
   "outputs": [],
   "source": [
    "print(\"Underlying CMS Swap NPV = %.6f\" % npv5)"
   ]
  },
  {
   "cell_type": "code",
   "execution_count": null,
   "metadata": {
    "ExecuteTime": {
     "end_time": "2017-03-06T22:53:42.019169",
     "start_time": "2017-03-06T22:53:41.917900"
    },
    "collapsed": false
   },
   "outputs": [],
   "source": [
    "print(\"       CMS     Leg  NPV = %.6f\" % underlying4.legNPV(0))"
   ]
  },
  {
   "cell_type": "code",
   "execution_count": null,
   "metadata": {
    "ExecuteTime": {
     "end_time": "2017-03-06T22:53:42.116428",
     "start_time": "2017-03-06T22:53:42.020172"
    },
    "collapsed": false
   },
   "outputs": [],
   "source": [
    "print(\"       Euribor Leg  NPV = %.6f\" % underlying4.legNPV(1))"
   ]
  },
  {
   "cell_type": "markdown",
   "metadata": {},
   "source": [
    "We generate a naive calibration basket and calibrate the GSR model to it:"
   ]
  },
  {
   "cell_type": "code",
   "execution_count": null,
   "metadata": {
    "ExecuteTime": {
     "end_time": "2017-03-06T22:53:42.188629",
     "start_time": "2017-03-06T22:53:42.117431"
    },
    "collapsed": false
   },
   "outputs": [],
   "source": [
    "basket = swaption4.calibrationBasket(swapBase, swaptionVol, \"Naive\");"
   ]
  },
  {
   "cell_type": "code",
   "execution_count": null,
   "metadata": {
    "ExecuteTime": {
     "end_time": "2017-03-06T22:53:42.255831",
     "start_time": "2017-03-06T22:53:42.189656"
    },
    "collapsed": true
   },
   "outputs": [],
   "source": [
    "for helper in basket:\n",
    "    helper.setPricingEngine(swaptionEngine)"
   ]
  },
  {
   "cell_type": "code",
   "execution_count": null,
   "metadata": {
    "ExecuteTime": {
     "end_time": "2017-03-06T22:53:42.614755",
     "start_time": "2017-03-06T22:53:42.256802"
    },
    "collapsed": true
   },
   "outputs": [],
   "source": [
    "gsr.calibrateVolatilitiesIterative(basket, method, ec)"
   ]
  },
  {
   "cell_type": "code",
   "execution_count": null,
   "metadata": {
    "ExecuteTime": {
     "end_time": "2017-03-06T22:53:42.680047",
     "start_time": "2017-03-06T22:53:42.615757"
    },
    "collapsed": false
   },
   "outputs": [],
   "source": [
    "printBasket(basket)"
   ]
  },
  {
   "cell_type": "code",
   "execution_count": null,
   "metadata": {
    "ExecuteTime": {
     "end_time": "2017-03-06T22:53:42.798431",
     "start_time": "2017-03-06T22:53:42.681028"
    },
    "collapsed": false
   },
   "outputs": [],
   "source": [
    "printModelCalibration(basket, gsr.volatility())"
   ]
  },
  {
   "cell_type": "code",
   "execution_count": null,
   "metadata": {
    "ExecuteTime": {
     "end_time": "2017-03-06T22:53:42.993061",
     "start_time": "2017-03-06T22:53:42.799447"
    },
    "collapsed": true
   },
   "outputs": [],
   "source": [
    "npv6 = swaption4.NPV()"
   ]
  },
  {
   "cell_type": "markdown",
   "metadata": {},
   "source": [
    "The npv of the bermudan swaption is"
   ]
  },
  {
   "cell_type": "code",
   "execution_count": null,
   "metadata": {
    "ExecuteTime": {
     "end_time": "2017-03-06T22:53:43.074641",
     "start_time": "2017-03-06T22:53:42.994076"
    },
    "collapsed": false
   },
   "outputs": [],
   "source": [
    "print(\"Float swaption NPV (GSR) = %.6f\" % npv6)"
   ]
  },
  {
   "cell_type": "markdown",
   "metadata": {},
   "source": [
    "In this case it is also interesting to look at the underlying swap npv in the GSR model."
   ]
  },
  {
   "cell_type": "code",
   "execution_count": null,
   "metadata": {
    "ExecuteTime": {
     "end_time": "2017-03-06T22:53:43.143414",
     "start_time": "2017-03-06T22:53:43.076619"
    },
    "collapsed": false
   },
   "outputs": [],
   "source": [
    "print(\"Float swap NPV (GSR) = %.6f\" % swaption4.underlyingValue())"
   ]
  },
  {
   "cell_type": "markdown",
   "metadata": {},
   "source": [
    "Not surprisingly, the underlying is priced differently compared to the LinearTsrPricer, since a different smile is implied by the GSR model."
   ]
  },
  {
   "cell_type": "markdown",
   "metadata": {},
   "source": [
    "This is exactly where the Markov functional model comes into play, because it can calibrate to any given underlying smile (as long as it is arbitrage free). We try this now. Of course the usual use case is not to calibrate to a flat smile as in our simple example, still it should be possible, of course..."
   ]
  },
  {
   "cell_type": "code",
   "execution_count": null,
   "metadata": {
    "ExecuteTime": {
     "end_time": "2017-03-06T22:53:43.223902",
     "start_time": "2017-03-06T22:53:43.144416"
    },
    "collapsed": true
   },
   "outputs": [],
   "source": [
    "markovStepDates = exerciseDates"
   ]
  },
  {
   "cell_type": "code",
   "execution_count": null,
   "metadata": {
    "ExecuteTime": {
     "end_time": "2017-03-06T22:53:43.291896",
     "start_time": "2017-03-06T22:53:43.225928"
    },
    "collapsed": true
   },
   "outputs": [],
   "source": [
    "cmsFixingDates = markovStepDates"
   ]
  },
  {
   "cell_type": "code",
   "execution_count": null,
   "metadata": {
    "ExecuteTime": {
     "end_time": "2017-03-06T22:53:43.375594",
     "start_time": "2017-03-06T22:53:43.293902"
    },
    "collapsed": true
   },
   "outputs": [],
   "source": [
    "markovSigmas = [0.01 for i in range(0, len(markovStepDates)+1)]"
   ]
  },
  {
   "cell_type": "code",
   "execution_count": null,
   "metadata": {
    "ExecuteTime": {
     "end_time": "2017-03-06T22:53:43.451114",
     "start_time": "2017-03-06T22:53:43.376583"
    },
    "collapsed": true
   },
   "outputs": [],
   "source": [
    "tenors = [ql.Period(10,ql.Years) for i in cmsFixingDates]"
   ]
  },
  {
   "cell_type": "code",
   "execution_count": null,
   "metadata": {
    "ExecuteTime": {
     "end_time": "2017-03-06T22:53:43.527327",
     "start_time": "2017-03-06T22:53:43.452119"
    },
    "collapsed": false
   },
   "outputs": [],
   "source": [
    "markov = ql.MarkovFunctional(yts6m, reversion, markovStepDates, markovSigmas, swaptionVolHandle,\n",
    "                            cmsFixingDates, tenors, swapBase)"
   ]
  },
  {
   "cell_type": "code",
   "execution_count": null,
   "metadata": {
    "ExecuteTime": {
     "end_time": "2017-03-06T22:53:43.592070",
     "start_time": "2017-03-06T22:53:43.528330"
    },
    "collapsed": true
   },
   "outputs": [],
   "source": [
    "swaptionEngineMarkov = ql.Gaussian1dSwaptionEngine(markov, 8, 5.0, True, False, ytsOis)"
   ]
  },
  {
   "cell_type": "code",
   "execution_count": null,
   "metadata": {
    "ExecuteTime": {
     "end_time": "2017-03-06T22:53:43.666136",
     "start_time": "2017-03-06T22:53:43.593034"
    },
    "collapsed": true
   },
   "outputs": [],
   "source": [
    "floatEngineMarkov = ql.Gaussian1dFloatFloatSwaptionEngine(markov, 16, 7.0, True, False, ql.QuoteHandle(), ytsOis, True)"
   ]
  },
  {
   "cell_type": "code",
   "execution_count": null,
   "metadata": {
    "ExecuteTime": {
     "end_time": "2017-03-06T22:53:43.737957",
     "start_time": "2017-03-06T22:53:43.667127"
    },
    "collapsed": true
   },
   "outputs": [],
   "source": [
    "swaption4.setPricingEngine(floatEngineMarkov)"
   ]
  },
  {
   "cell_type": "code",
   "execution_count": null,
   "metadata": {
    "ExecuteTime": {
     "end_time": "2017-03-06T22:53:43.939954",
     "start_time": "2017-03-06T22:53:43.738985"
    },
    "collapsed": true
   },
   "outputs": [],
   "source": [
    "npv7 = swaption4.NPV()"
   ]
  },
  {
   "cell_type": "markdown",
   "metadata": {},
   "source": [
    "The option npv is the markov model is:"
   ]
  },
  {
   "cell_type": "code",
   "execution_count": null,
   "metadata": {
    "ExecuteTime": {
     "end_time": "2017-03-06T22:53:44.011887",
     "start_time": "2017-03-06T22:53:43.940930"
    },
    "collapsed": false
   },
   "outputs": [],
   "source": [
    "print(\"Float swaption NPV (Markov) = %.6f\" % npv7)"
   ]
  },
  {
   "cell_type": "markdown",
   "metadata": {},
   "source": [
    "This is not too far from the GSR price."
   ]
  },
  {
   "cell_type": "markdown",
   "metadata": {},
   "source": [
    "More interesting is the question how well the Markov model did its job to match our input smile. For this we look at the underlying npv under the Markov model"
   ]
  },
  {
   "cell_type": "code",
   "execution_count": null,
   "metadata": {
    "ExecuteTime": {
     "end_time": "2017-03-06T22:53:44.082066",
     "start_time": "2017-03-06T22:53:44.012893"
    },
    "collapsed": false
   },
   "outputs": [],
   "source": [
    "print(\"Float swap NPV (Markov) = %.6f\" % swaption4.underlyingValue())"
   ]
  },
  {
   "cell_type": "markdown",
   "metadata": {
    "collapsed": true
   },
   "source": [
    "This is closer to our terminal swap rate model price. A perfect match is not expected anyway, because the dynamics of the underlying rate in the linear model is different from the Markov model, of course."
   ]
  },
  {
   "cell_type": "markdown",
   "metadata": {},
   "source": [
    "The Markov model can not only calibrate to the underlying smile, but has at the same time a sigma function (similar to the GSR model) which can be used to calibrate to a second instrument set. We do this here to calibrate to our coterminal ATM swaptions from above."
   ]
  },
  {
   "cell_type": "markdown",
   "metadata": {},
   "source": [
    "This is a computationally demanding task, so depending on your machine, this may take a while now..."
   ]
  },
  {
   "cell_type": "code",
   "execution_count": null,
   "metadata": {
    "ExecuteTime": {
     "end_time": "2017-03-06T22:53:44.163315",
     "start_time": "2017-03-06T22:53:44.084073"
    },
    "collapsed": true
   },
   "outputs": [],
   "source": [
    "for helper in basket:\n",
    "    helper.setPricingEngine(swaptionEngineMarkov)"
   ]
  },
  {
   "cell_type": "code",
   "execution_count": null,
   "metadata": {
    "ExecuteTime": {
     "end_time": "2017-03-06T22:54:02.740750",
     "start_time": "2017-03-06T22:53:44.165320"
    },
    "collapsed": false
   },
   "outputs": [],
   "source": [
    "markov.calibrate(basket, method, ec)"
   ]
  },
  {
   "cell_type": "code",
   "execution_count": null,
   "metadata": {
    "ExecuteTime": {
     "end_time": "2017-03-06T22:54:02.865072",
     "start_time": "2017-03-06T22:54:02.741758"
    },
    "collapsed": false
   },
   "outputs": [],
   "source": [
    "printModelCalibration(basket, markov.volatility())"
   ]
  },
  {
   "cell_type": "markdown",
   "metadata": {},
   "source": [
    "Now let's have a look again at the underlying pricing. It shouldn't have changed much, because the underlying smile is still matched."
   ]
  },
  {
   "cell_type": "code",
   "execution_count": null,
   "metadata": {
    "ExecuteTime": {
     "end_time": "2017-03-06T22:54:03.004773",
     "start_time": "2017-03-06T22:54:02.867049"
    },
    "collapsed": true
   },
   "outputs": [],
   "source": [
    "npv8 = swaption4.underlyingValue()"
   ]
  },
  {
   "cell_type": "code",
   "execution_count": null,
   "metadata": {
    "ExecuteTime": {
     "end_time": "2017-03-06T22:54:03.076871",
     "start_time": "2017-03-06T22:54:03.005792"
    },
    "collapsed": false
   },
   "outputs": [],
   "source": [
    "print(\"Float swap NPV (Markov) = %.6f\" % npv8)"
   ]
  },
  {
   "cell_type": "markdown",
   "metadata": {},
   "source": [
    "This is close to the previous value as expected."
   ]
  },
  {
   "cell_type": "markdown",
   "metadata": {},
   "source": [
    "As a final remark we note that the calibration to coterminal swaptions is not particularly reasonable here, because the european call rights are not well represented by these swaptions. Secondly, our CMS swaption is sensitive to the correlation between the 10y swap rate and the Euribor 6M rate. Since the Markov model is one factor by construction."
   ]
  }
 ],
 "metadata": {
  "kernelspec": {
   "display_name": "Python 3",
   "language": "python",
   "name": "python3"
  },
  "language_info": {
   "codemirror_mode": {
    "name": "ipython",
    "version": 3
   },
   "file_extension": ".py",
   "mimetype": "text/x-python",
   "name": "python",
   "nbconvert_exporter": "python",
   "pygments_lexer": "ipython3",
   "version": "3.5.2"
  }
 },
 "nbformat": 4,
 "nbformat_minor": 1
}
