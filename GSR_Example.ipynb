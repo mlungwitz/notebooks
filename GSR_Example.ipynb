{
 "cells": [
  {
   "cell_type": "code",
   "execution_count": 1,
   "metadata": {
    "collapsed": true
   },
   "outputs": [],
   "source": [
    "import QuantLib as ql"
   ]
  },
  {
   "cell_type": "code",
   "execution_count": 2,
   "metadata": {
    "collapsed": true
   },
   "outputs": [],
   "source": [
    "refDate = ql.Date(30,4,2014)"
   ]
  },
  {
   "cell_type": "code",
   "execution_count": 3,
   "metadata": {
    "collapsed": false
   },
   "outputs": [],
   "source": [
    "ql.Settings.instance().evaluationDate=refDate"
   ]
  },
  {
   "cell_type": "code",
   "execution_count": 4,
   "metadata": {
    "collapsed": false
   },
   "outputs": [
    {
     "name": "stdout",
     "output_type": "stream",
     "text": [
      "EvalDate:  April 30th, 2014\n"
     ]
    }
   ],
   "source": [
    "print(\"EvalDate: \",ql.Settings.instance().evaluationDate)"
   ]
  },
  {
   "cell_type": "code",
   "execution_count": 5,
   "metadata": {
    "collapsed": true
   },
   "outputs": [],
   "source": [
    "forward6mLevel = 0.025\n",
    "oisLevel = 0.02"
   ]
  },
  {
   "cell_type": "code",
   "execution_count": 6,
   "metadata": {
    "collapsed": true
   },
   "outputs": [],
   "source": [
    "forward6mQuote = ql.QuoteHandle(ql.SimpleQuote(forward6mLevel))\n",
    "oisQuote = ql.QuoteHandle(ql.SimpleQuote(oisLevel))"
   ]
  },
  {
   "cell_type": "code",
   "execution_count": 7,
   "metadata": {
    "collapsed": true
   },
   "outputs": [],
   "source": [
    "yts6m = ql.YieldTermStructureHandle(ql.FlatForward(0, ql.TARGET(), forward6mQuote, ql.Actual365Fixed() ))\n",
    "ytsOis = ql.YieldTermStructureHandle(ql.FlatForward(0, ql.TARGET(), oisQuote, ql.Actual365Fixed() ))"
   ]
  },
  {
   "cell_type": "code",
   "execution_count": 8,
   "metadata": {
    "collapsed": true
   },
   "outputs": [],
   "source": [
    "euribor6m = ql.Euribor6M(yts6m)"
   ]
  },
  {
   "cell_type": "code",
   "execution_count": 9,
   "metadata": {
    "collapsed": true
   },
   "outputs": [],
   "source": [
    "volLevel = 0.20"
   ]
  },
  {
   "cell_type": "code",
   "execution_count": 10,
   "metadata": {
    "collapsed": true
   },
   "outputs": [],
   "source": [
    "volQuote = ql.QuoteHandle(ql.SimpleQuote(volLevel))"
   ]
  },
  {
   "cell_type": "code",
   "execution_count": 11,
   "metadata": {
    "collapsed": true
   },
   "outputs": [],
   "source": [
    "swaptionVol = ql.ConstantSwaptionVolatility(0, ql.TARGET(), ql.ModifiedFollowing, volQuote,\n",
    "                                                                                ql.Actual365Fixed())"
   ]
  },
  {
   "cell_type": "code",
   "execution_count": 12,
   "metadata": {
    "collapsed": false
   },
   "outputs": [],
   "source": [
    "swaptionVolHandle = ql.SwaptionVolatilityStructureHandle(ql.ConstantSwaptionVolatility(0, ql.TARGET(), ql.ModifiedFollowing, volQuote,\n",
    "                                                                                ql.Actual365Fixed()))"
   ]
  },
  {
   "cell_type": "code",
   "execution_count": 13,
   "metadata": {
    "collapsed": true
   },
   "outputs": [],
   "source": [
    "strike = 0.04"
   ]
  },
  {
   "cell_type": "code",
   "execution_count": 14,
   "metadata": {
    "collapsed": false
   },
   "outputs": [],
   "source": [
    "effectiveDate = ql.TARGET().advance(refDate, ql.Period(2,ql.Days))"
   ]
  },
  {
   "cell_type": "code",
   "execution_count": 15,
   "metadata": {
    "collapsed": false
   },
   "outputs": [
    {
     "data": {
      "text/plain": [
       "Date(5,5,2014)"
      ]
     },
     "execution_count": 15,
     "metadata": {},
     "output_type": "execute_result"
    }
   ],
   "source": [
    "effectiveDate"
   ]
  },
  {
   "cell_type": "code",
   "execution_count": 16,
   "metadata": {
    "collapsed": false
   },
   "outputs": [],
   "source": [
    "maturityDate = ql.TARGET().advance(effectiveDate, ql.Period(10,ql.Years))"
   ]
  },
  {
   "cell_type": "code",
   "execution_count": 17,
   "metadata": {
    "collapsed": false
   },
   "outputs": [
    {
     "data": {
      "text/plain": [
       "Date(6,5,2024)"
      ]
     },
     "execution_count": 17,
     "metadata": {},
     "output_type": "execute_result"
    }
   ],
   "source": [
    "maturityDate"
   ]
  },
  {
   "cell_type": "code",
   "execution_count": 18,
   "metadata": {
    "collapsed": true
   },
   "outputs": [],
   "source": [
    "fixedSchedule = ql.Schedule(effectiveDate, maturityDate, ql.Period(1,ql.Years), ql.TARGET(),\n",
    "                            ql.ModifiedFollowing, ql.ModifiedFollowing,\n",
    "                            ql.DateGeneration.Forward, False)"
   ]
  },
  {
   "cell_type": "code",
   "execution_count": 19,
   "metadata": {
    "collapsed": false
   },
   "outputs": [
    {
     "name": "stdout",
     "output_type": "stream",
     "text": [
      "May 5th, 2014\n",
      "May 5th, 2015\n",
      "May 5th, 2016\n",
      "May 5th, 2017\n",
      "May 7th, 2018\n",
      "May 6th, 2019\n",
      "May 5th, 2020\n",
      "May 5th, 2021\n",
      "May 5th, 2022\n",
      "May 5th, 2023\n",
      "May 6th, 2024\n"
     ]
    }
   ],
   "source": [
    "for i in fixedSchedule:\n",
    "    print(i)"
   ]
  },
  {
   "cell_type": "code",
   "execution_count": 20,
   "metadata": {
    "collapsed": true
   },
   "outputs": [],
   "source": [
    "floatingSchedule = ql.Schedule(effectiveDate, maturityDate, ql.Period(6,ql.Months), ql.TARGET(),\n",
    "                            ql.ModifiedFollowing, ql.ModifiedFollowing,\n",
    "                            ql.DateGeneration.Forward, False)"
   ]
  },
  {
   "cell_type": "code",
   "execution_count": 21,
   "metadata": {
    "collapsed": false
   },
   "outputs": [
    {
     "name": "stdout",
     "output_type": "stream",
     "text": [
      "May 5th, 2014\n",
      "November 5th, 2014\n",
      "May 5th, 2015\n",
      "November 5th, 2015\n",
      "May 5th, 2016\n",
      "November 7th, 2016\n",
      "May 5th, 2017\n",
      "November 6th, 2017\n",
      "May 7th, 2018\n",
      "November 5th, 2018\n",
      "May 6th, 2019\n",
      "November 5th, 2019\n",
      "May 5th, 2020\n",
      "November 5th, 2020\n",
      "May 5th, 2021\n",
      "November 5th, 2021\n",
      "May 5th, 2022\n",
      "November 7th, 2022\n",
      "May 5th, 2023\n",
      "November 6th, 2023\n",
      "May 6th, 2024\n"
     ]
    }
   ],
   "source": [
    "for i in floatingSchedule:\n",
    "    print(i)"
   ]
  },
  {
   "cell_type": "code",
   "execution_count": 22,
   "metadata": {
    "collapsed": false
   },
   "outputs": [],
   "source": [
    "underlying = ql.NonstandardSwap(ql.VanillaSwap.Payer, [1.0]*(len(fixedSchedule)-1), [1.0]*(len(floatingSchedule)-1), fixedSchedule,\n",
    "                                              [strike]*(len(fixedSchedule)-1), ql.Thirty360(), floatingSchedule, \n",
    "                                              euribor6m, [1.0]*(len(floatingSchedule)-1), [0.0]*(len(floatingSchedule)-1), ql.Actual360())"
   ]
  },
  {
   "cell_type": "code",
   "execution_count": 23,
   "metadata": {
    "collapsed": false
   },
   "outputs": [
    {
     "name": "stdout",
     "output_type": "stream",
     "text": [
      "May 5th, 2015 0.040000000000000036\n",
      "May 5th, 2016 0.040000000000000036\n",
      "May 5th, 2017 0.040000000000000036\n",
      "May 7th, 2018 0.04022222222222216\n",
      "May 6th, 2019 0.03988888888888886\n",
      "May 5th, 2020 0.03988888888888886\n",
      "May 5th, 2021 0.040000000000000036\n",
      "May 5th, 2022 0.040000000000000036\n",
      "May 5th, 2023 0.040000000000000036\n",
      "May 6th, 2024 0.04011111111111121\n"
     ]
    }
   ],
   "source": [
    "for cf in underlying.fixedLeg():\n",
    "    print (cf.date(), cf.amount())"
   ]
  },
  {
   "cell_type": "code",
   "execution_count": 24,
   "metadata": {
    "collapsed": false
   },
   "outputs": [
    {
     "name": "stdout",
     "output_type": "stream",
     "text": [
      "November 5th, 2014 0.012682488917620917\n",
      "May 5th, 2015 0.012474424851870225\n",
      "November 5th, 2015 0.012682488917621138\n",
      "May 5th, 2016 0.012543774790186868\n",
      "November 7th, 2016 0.012821222048292169\n",
      "May 5th, 2017 0.012335739224410558\n",
      "November 6th, 2017 0.012751853107389575\n",
      "May 7th, 2018 0.012543774790186868\n",
      "November 5th, 2018 0.012543774790186868\n",
      "May 6th, 2019 0.012543774790186868\n",
      "November 5th, 2019 0.012613129478662223\n",
      "May 5th, 2020 0.012543774790186868\n",
      "November 5th, 2020 0.012682488917621138\n",
      "May 5th, 2021 0.012474424851870227\n",
      "November 5th, 2021 0.01268248891762114\n",
      "May 5th, 2022 0.012474424851870003\n",
      "November 7th, 2022 0.012821222048292391\n",
      "May 5th, 2023 0.012335739224410556\n",
      "November 6th, 2023 0.012751853107389573\n",
      "May 6th, 2024 0.01254377479018687\n"
     ]
    }
   ],
   "source": [
    "for cf in underlying.floatingLeg():\n",
    "    print (cf.date(), cf.amount())"
   ]
  },
  {
   "cell_type": "code",
   "execution_count": 25,
   "metadata": {
    "collapsed": false
   },
   "outputs": [],
   "source": [
    "exerciseDates = [ql.TARGET().advance(fixedSchedule[i], ql.Period(-2, ql.Days)) for i in range(1,10)]"
   ]
  },
  {
   "cell_type": "code",
   "execution_count": 26,
   "metadata": {
    "collapsed": false
   },
   "outputs": [
    {
     "data": {
      "text/plain": [
       "[Date(30,4,2015),\n",
       " Date(3,5,2016),\n",
       " Date(3,5,2017),\n",
       " Date(3,5,2018),\n",
       " Date(2,5,2019),\n",
       " Date(30,4,2020),\n",
       " Date(3,5,2021),\n",
       " Date(3,5,2022),\n",
       " Date(3,5,2023)]"
      ]
     },
     "execution_count": 26,
     "metadata": {},
     "output_type": "execute_result"
    }
   ],
   "source": [
    "exerciseDates"
   ]
  },
  {
   "cell_type": "code",
   "execution_count": 27,
   "metadata": {
    "collapsed": true
   },
   "outputs": [],
   "source": [
    "exercise = ql.BermudanExercise(exerciseDates, False)"
   ]
  },
  {
   "cell_type": "code",
   "execution_count": 28,
   "metadata": {
    "collapsed": true
   },
   "outputs": [],
   "source": [
    "swaption = ql.NonstandardSwaption(underlying, exercise)"
   ]
  },
  {
   "cell_type": "code",
   "execution_count": 29,
   "metadata": {
    "collapsed": true
   },
   "outputs": [],
   "source": [
    "stepDates = [exerciseDates[i] for i in range(0, len(exerciseDates)-1)]"
   ]
  },
  {
   "cell_type": "code",
   "execution_count": 30,
   "metadata": {
    "collapsed": true
   },
   "outputs": [],
   "source": [
    "sigmas = [ql.QuoteHandle(ql.SimpleQuote(0.01)) for i in range(0, len(stepDates)+1)]"
   ]
  },
  {
   "cell_type": "code",
   "execution_count": 31,
   "metadata": {
    "collapsed": true
   },
   "outputs": [],
   "source": [
    "reversion = 0.01"
   ]
  },
  {
   "cell_type": "code",
   "execution_count": 32,
   "metadata": {
    "collapsed": false
   },
   "outputs": [],
   "source": [
    "reversions = [ql.QuoteHandle(ql.SimpleQuote(reversion))]"
   ]
  },
  {
   "cell_type": "code",
   "execution_count": 33,
   "metadata": {
    "collapsed": false
   },
   "outputs": [],
   "source": [
    "gsr = ql.Gsr(yts6m, stepDates, sigmas, reversions)"
   ]
  },
  {
   "cell_type": "code",
   "execution_count": 34,
   "metadata": {
    "collapsed": true
   },
   "outputs": [],
   "source": [
    "swaptionEngine = ql.Gaussian1dSwaptionEngine(gsr, 64, 7.0, True, False, ytsOis)"
   ]
  },
  {
   "cell_type": "code",
   "execution_count": 35,
   "metadata": {
    "collapsed": false
   },
   "outputs": [],
   "source": [
    "nonstandardSwaptionEngine = ql.Gaussian1dNonstandardSwaptionEngine(gsr, 64, 7.0, True, False, ql.QuoteHandle(),ytsOis)"
   ]
  },
  {
   "cell_type": "code",
   "execution_count": 36,
   "metadata": {
    "collapsed": true
   },
   "outputs": [],
   "source": [
    "swaption.setPricingEngine(nonstandardSwaptionEngine)"
   ]
  },
  {
   "cell_type": "code",
   "execution_count": 37,
   "metadata": {
    "collapsed": true
   },
   "outputs": [],
   "source": [
    "swapBase = ql.EuriborSwapIsdaFixA(ql.Period(10,ql.Years), yts6m, ytsOis)"
   ]
  },
  {
   "cell_type": "code",
   "execution_count": 38,
   "metadata": {
    "collapsed": false
   },
   "outputs": [],
   "source": [
    "basket = swaption.calibrationBasket(swapBase, swaptionVol, \"Naive\")"
   ]
  },
  {
   "cell_type": "code",
   "execution_count": 39,
   "metadata": {
    "collapsed": true
   },
   "outputs": [],
   "source": [
    "def printBasket(basket):\n",
    "    print()\n",
    "    print('{:<20}{:<20}{:<20}{:<14}{:<12}{:<14}'.format(\"Expiry\", \"Maturity\", \"Nominal\", \"Rate\", \"Pay/Rec\", \"Market ivol\"))\n",
    "    print(\"====================\"*4+\"==================\")\n",
    "    for helper in basket:\n",
    "        endDate = helper.swaptionMaturityDate()\n",
    "        nominal = helper.swaptionNominal()\n",
    "        vol = helper.volatility().value()\n",
    "        rate = helper.swaptionStrike()\n",
    "        expiry = helper.swaptionExpiryDate()\n",
    "        swp_type = 0 # to be SWIGed\n",
    "        print('{:<20}{:<20}{:<20}{:<14}{:<12}{:<14}'.format(str(expiry), str(endDate), (\"%.2f\"%nominal), (\"%.6f\"%rate), str(swp_type), (\"%.6f\"%vol)))"
   ]
  },
  {
   "cell_type": "code",
   "execution_count": 40,
   "metadata": {
    "collapsed": false
   },
   "outputs": [
    {
     "name": "stdout",
     "output_type": "stream",
     "text": [
      "\n",
      "Expiry              Maturity            Nominal             Rate          Pay/Rec     Market ivol   \n",
      "==================================================================================================\n",
      "April 30th, 2015    May 6th, 2024       1.00                0.025307      0           0.200000      \n",
      "May 3rd, 2016       May 6th, 2024       1.00                0.025300      0           0.200000      \n",
      "May 3rd, 2017       May 6th, 2024       1.00                0.025303      0           0.200000      \n",
      "May 3rd, 2018       May 6th, 2024       1.00                0.025306      0           0.200000      \n",
      "May 2nd, 2019       May 6th, 2024       1.00                0.025311      0           0.200000      \n",
      "April 30th, 2020    May 6th, 2024       1.00                0.025300      0           0.200000      \n",
      "May 3rd, 2021       May 6th, 2024       1.00                0.025306      0           0.200000      \n",
      "May 3rd, 2022       May 6th, 2024       1.00                0.025318      0           0.200000      \n",
      "May 3rd, 2023       May 6th, 2024       1.00                0.025353      0           0.200000      \n"
     ]
    }
   ],
   "source": [
    "printBasket(basket)"
   ]
  },
  {
   "cell_type": "code",
   "execution_count": 41,
   "metadata": {
    "collapsed": false
   },
   "outputs": [],
   "source": [
    "for helper in basket:\n",
    "    helper.setPricingEngine(swaptionEngine)"
   ]
  },
  {
   "cell_type": "code",
   "execution_count": 42,
   "metadata": {
    "collapsed": true
   },
   "outputs": [],
   "source": [
    "method = ql.LevenbergMarquardt()"
   ]
  },
  {
   "cell_type": "code",
   "execution_count": 43,
   "metadata": {
    "collapsed": true
   },
   "outputs": [],
   "source": [
    "ec = ql.EndCriteria(1000, 10, 1e-8, 1e-8, 1e-8)"
   ]
  },
  {
   "cell_type": "code",
   "execution_count": 44,
   "metadata": {
    "collapsed": false
   },
   "outputs": [],
   "source": [
    "gsr.calibrateVolatilitiesIterative(basket, method, ec)"
   ]
  },
  {
   "cell_type": "code",
   "execution_count": 45,
   "metadata": {
    "collapsed": false
   },
   "outputs": [],
   "source": [
    "def printModelCalibration(basket, volatility):\n",
    "    print()\n",
    "    print('{:<20}{:<14}{:<20}{:<20}{:<14}{:<14}'.format(\"Expiry\", \"Model sigma\", \"Model price\", \"Market price\", \"Model ivol\", \"Market ivol\"))\n",
    "    print(\"====================\"*5)\n",
    "    for i in range(0,len(basket)):\n",
    "        helper = basket[i]\n",
    "        expiry = helper.swaptionExpiryDate()\n",
    "        print('{:<20}{:<14}{:<20}{:<20}{:<14}{:<14}'.format(str(expiry), (\"%.6f\"%volatility[i]), (\"%.6f\"%helper.modelValue()),\n",
    "                                                           (\"%.6f\"%helper.marketValue()), (\"%.6f\"%helper.impliedVolatility(helper.modelValue(), 1e-6, 1000, 0.0, 2.0)),\n",
    "                                                           (\"%.6f\"%helper.volatility().value())))\n",
    "    if (len(volatility) > len(basket)):\n",
    "        print('{:<20}'.format((\"%.6f\"%volatility[-1])))\n",
    "        "
   ]
  },
  {
   "cell_type": "code",
   "execution_count": 46,
   "metadata": {
    "collapsed": false
   },
   "outputs": [
    {
     "name": "stdout",
     "output_type": "stream",
     "text": [
      "\n",
      "Expiry              Model sigma   Model price         Market price        Model ivol    Market ivol   \n",
      "====================================================================================================\n",
      "April 30th, 2015    0.005178      0.016111            0.016111            0.199999      0.200000      \n",
      "May 3rd, 2016       0.005156      0.020062            0.020062            0.200000      0.200000      \n",
      "May 3rd, 2017       0.005149      0.021229            0.021229            0.200000      0.200000      \n",
      "May 3rd, 2018       0.005129      0.020738            0.020738            0.200000      0.200000      \n",
      "May 2nd, 2019       0.005132      0.019096            0.019096            0.200000      0.200000      \n",
      "April 30th, 2020    0.005074      0.016537            0.016537            0.200000      0.200000      \n",
      "May 3rd, 2021       0.005091      0.013253            0.013253            0.200000      0.200000      \n",
      "May 3rd, 2022       0.005097      0.009342            0.009342            0.200000      0.200000      \n",
      "May 3rd, 2023       0.005001      0.004910            0.004910            0.200000      0.200000      \n"
     ]
    }
   ],
   "source": [
    "printModelCalibration(basket, gsr.volatility())"
   ]
  },
  {
   "cell_type": "code",
   "execution_count": 47,
   "metadata": {
    "collapsed": false,
    "scrolled": true
   },
   "outputs": [
    {
     "name": "stdout",
     "output_type": "stream",
     "text": [
      "Bermudan swaption NPV (ATM calibrated GSR) = 0.003808\n"
     ]
    }
   ],
   "source": [
    "print(\"Bermudan swaption NPV (ATM calibrated GSR) = %.6f\" % swaption.NPV())"
   ]
  },
  {
   "cell_type": "code",
   "execution_count": 48,
   "metadata": {
    "collapsed": true
   },
   "outputs": [],
   "source": [
    "basket = swaption.calibrationBasket(swapBase, swaptionVol, \"MaturityStrikeByDeltaGamma\")"
   ]
  },
  {
   "cell_type": "code",
   "execution_count": 49,
   "metadata": {
    "collapsed": false
   },
   "outputs": [
    {
     "name": "stdout",
     "output_type": "stream",
     "text": [
      "\n",
      "Expiry              Maturity            Nominal             Rate          Pay/Rec     Market ivol   \n",
      "==================================================================================================\n",
      "April 30th, 2015    May 6th, 2024       1.00                0.040000      0           0.200000      \n",
      "May 3rd, 2016       May 6th, 2024       1.00                0.040000      0           0.200000      \n",
      "May 3rd, 2017       May 6th, 2024       1.00                0.040000      0           0.200000      \n",
      "May 3rd, 2018       May 7th, 2024       1.00                0.040000      0           0.200000      \n",
      "May 2nd, 2019       May 6th, 2024       1.00                0.040000      0           0.200000      \n",
      "April 30th, 2020    May 6th, 2024       1.00                0.040000      0           0.200000      \n",
      "May 3rd, 2021       May 6th, 2024       1.00                0.040000      0           0.200000      \n",
      "May 3rd, 2022       May 6th, 2024       1.00                0.040000      0           0.200000      \n",
      "May 3rd, 2023       May 6th, 2024       1.00                0.040000      0           0.200000      \n"
     ]
    }
   ],
   "source": [
    "printBasket(basket)"
   ]
  },
  {
   "cell_type": "code",
   "execution_count": 50,
   "metadata": {
    "collapsed": true
   },
   "outputs": [],
   "source": [
    "for helper in basket:\n",
    "    helper.setPricingEngine(swaptionEngine)"
   ]
  },
  {
   "cell_type": "code",
   "execution_count": 51,
   "metadata": {
    "collapsed": true
   },
   "outputs": [],
   "source": [
    "gsr.calibrateVolatilitiesIterative(basket, method, ec)"
   ]
  },
  {
   "cell_type": "code",
   "execution_count": 52,
   "metadata": {
    "collapsed": false
   },
   "outputs": [
    {
     "name": "stdout",
     "output_type": "stream",
     "text": [
      "\n",
      "Expiry              Model sigma   Model price         Market price        Model ivol    Market ivol   \n",
      "====================================================================================================\n",
      "April 30th, 2015    0.006508      0.000191            0.000191            0.200000      0.200000      \n",
      "May 3rd, 2016       0.006502      0.001412            0.001412            0.200000      0.200000      \n",
      "May 3rd, 2017       0.006480      0.002905            0.002905            0.200000      0.200000      \n",
      "May 3rd, 2018       0.006464      0.004091            0.004091            0.200000      0.200000      \n",
      "May 2nd, 2019       0.006422      0.004765            0.004765            0.200000      0.200000      \n",
      "April 30th, 2020    0.006445      0.004869            0.004869            0.200000      0.200000      \n",
      "May 3rd, 2021       0.006433      0.004433            0.004433            0.200000      0.200000      \n",
      "May 3rd, 2022       0.006332      0.003454            0.003454            0.200000      0.200000      \n",
      "May 3rd, 2023       0.006295      0.001973            0.001973            0.200000      0.200000      \n"
     ]
    }
   ],
   "source": [
    "printModelCalibration(basket, gsr.volatility())"
   ]
  },
  {
   "cell_type": "code",
   "execution_count": 53,
   "metadata": {
    "collapsed": false
   },
   "outputs": [
    {
     "name": "stdout",
     "output_type": "stream",
     "text": [
      "Bermudan swaption NPV (deal strike calibrated GSR) = 0.007627\n"
     ]
    }
   ],
   "source": [
    "print(\"Bermudan swaption NPV (deal strike calibrated GSR) = %.6f\" % swaption.NPV())"
   ]
  },
  {
   "cell_type": "code",
   "execution_count": 54,
   "metadata": {
    "collapsed": false
   },
   "outputs": [],
   "source": [
    "nominalFixed = [ 1.0 - float(i) / (len(fixedSchedule) - 1) for i in range(0,len(fixedSchedule)-1)]\n",
    "nominalFloating = [ n for n in nominalFixed for repetitions in range(2)]\n",
    "strikes = [strike]*len(nominalFixed)"
   ]
  },
  {
   "cell_type": "code",
   "execution_count": 55,
   "metadata": {
    "collapsed": false
   },
   "outputs": [],
   "source": [
    "underlying2 = ql.NonstandardSwap(ql.VanillaSwap.Payer, nominalFixed, nominalFloating, fixedSchedule,\n",
    "                                              strikes, ql.Thirty360(), floatingSchedule, \n",
    "                                              euribor6m, [1.0]*(len(floatingSchedule)-1), [0.0]*(len(floatingSchedule)-1), ql.Actual360())"
   ]
  },
  {
   "cell_type": "code",
   "execution_count": 56,
   "metadata": {
    "collapsed": false
   },
   "outputs": [
    {
     "name": "stdout",
     "output_type": "stream",
     "text": [
      "May 5th, 2015 0.040000000000000036\n",
      "May 5th, 2016 0.03600000000000003\n",
      "May 5th, 2017 0.03200000000000003\n",
      "May 7th, 2018 0.02815555555555551\n",
      "May 6th, 2019 0.023933333333333317\n",
      "May 5th, 2020 0.01994444444444443\n",
      "May 5th, 2021 0.016000000000000014\n",
      "May 5th, 2022 0.012000000000000012\n",
      "May 5th, 2023 0.008000000000000005\n",
      "May 6th, 2024 0.00401111111111112\n"
     ]
    }
   ],
   "source": [
    "for cf in underlying2.fixedLeg():\n",
    "    print (cf.date(), cf.amount())"
   ]
  },
  {
   "cell_type": "code",
   "execution_count": 57,
   "metadata": {
    "collapsed": true
   },
   "outputs": [],
   "source": [
    "swaption2 = ql.NonstandardSwaption(underlying2, exercise)"
   ]
  },
  {
   "cell_type": "code",
   "execution_count": 58,
   "metadata": {
    "collapsed": true
   },
   "outputs": [],
   "source": [
    "swaption2.setPricingEngine(nonstandardSwaptionEngine)"
   ]
  },
  {
   "cell_type": "code",
   "execution_count": 59,
   "metadata": {
    "collapsed": true
   },
   "outputs": [],
   "source": [
    "basket = swaption2.calibrationBasket(swapBase, swaptionVol, \"MaturityStrikeByDeltaGamma\")"
   ]
  },
  {
   "cell_type": "code",
   "execution_count": 60,
   "metadata": {
    "collapsed": false
   },
   "outputs": [
    {
     "name": "stdout",
     "output_type": "stream",
     "text": [
      "\n",
      "Expiry              Maturity            Nominal             Rate          Pay/Rec     Market ivol   \n",
      "==================================================================================================\n",
      "April 30th, 2015    August 5th, 2021    0.72                0.039997      0           0.200000      \n",
      "May 3rd, 2016       December 6th, 2021  0.64                0.040003      0           0.200000      \n",
      "May 3rd, 2017       May 5th, 2022       0.56                0.040005      0           0.200000      \n",
      "May 3rd, 2018       September 7th, 2022 0.49                0.040004      0           0.200000      \n",
      "May 2nd, 2019       January 6th, 2023   0.41                0.040008      0           0.200000      \n",
      "April 30th, 2020    May 5th, 2023       0.33                0.039994      0           0.200000      \n",
      "May 3rd, 2021       September 5th, 2023 0.26                0.039995      0           0.200000      \n",
      "May 3rd, 2022       January 5th, 2024   0.18                0.040031      0           0.200000      \n",
      "May 3rd, 2023       May 6th, 2024       0.10                0.040000      0           0.200000      \n"
     ]
    }
   ],
   "source": [
    "printBasket(basket)"
   ]
  },
  {
   "cell_type": "code",
   "execution_count": 61,
   "metadata": {
    "collapsed": true
   },
   "outputs": [],
   "source": [
    "nominalFixed2 = [1.0]*len(nominalFixed)\n",
    "nominalFloating2 = [0.0]*len(nominalFloating)"
   ]
  },
  {
   "cell_type": "code",
   "execution_count": 62,
   "metadata": {
    "collapsed": true
   },
   "outputs": [],
   "source": [
    "underlying3 = ql.NonstandardSwap(ql.VanillaSwap.Receiver, nominalFixed2, nominalFloating2, fixedSchedule,\n",
    "                                              strikes, ql.Thirty360(), floatingSchedule, \n",
    "                                              euribor6m, [1.0]*(len(floatingSchedule)-1), [0.0]*(len(floatingSchedule)-1), ql.Actual360(),\n",
    "                                False, True)"
   ]
  },
  {
   "cell_type": "code",
   "execution_count": 63,
   "metadata": {
    "collapsed": false
   },
   "outputs": [
    {
     "name": "stdout",
     "output_type": "stream",
     "text": [
      "May 5th, 2015 0.040000000000000036\n",
      "May 5th, 2016 0.040000000000000036\n",
      "May 5th, 2017 0.040000000000000036\n",
      "May 7th, 2018 0.04022222222222216\n",
      "May 6th, 2019 0.03988888888888886\n",
      "May 5th, 2020 0.03988888888888886\n",
      "May 5th, 2021 0.040000000000000036\n",
      "May 5th, 2022 0.040000000000000036\n",
      "May 5th, 2023 0.040000000000000036\n",
      "May 6th, 2024 0.04011111111111121\n",
      "May 6th, 2024 1.0\n"
     ]
    }
   ],
   "source": [
    "for cf in underlying3.fixedLeg():\n",
    "    print (cf.date(), cf.amount())"
   ]
  },
  {
   "cell_type": "code",
   "execution_count": 64,
   "metadata": {
    "collapsed": false
   },
   "outputs": [],
   "source": [
    "exercise2 = ql.RebatedExercise(exercise, [-1.0]*len(exerciseDates), 2, ql.TARGET())"
   ]
  },
  {
   "cell_type": "code",
   "execution_count": 65,
   "metadata": {
    "collapsed": true
   },
   "outputs": [],
   "source": [
    "swaption3 = ql.NonstandardSwaption(underlying3, exercise2)"
   ]
  },
  {
   "cell_type": "code",
   "execution_count": 66,
   "metadata": {
    "collapsed": true
   },
   "outputs": [],
   "source": [
    "oas0 = ql.SimpleQuote(0.0)\n",
    "oas100 = ql.SimpleQuote(0.01)\n",
    "oas = ql.RelinkableQuoteHandle(oas0)"
   ]
  },
  {
   "cell_type": "code",
   "execution_count": 67,
   "metadata": {
    "collapsed": false
   },
   "outputs": [],
   "source": [
    "nonstandardSwaptionEngine2 = ql.Gaussian1dNonstandardSwaptionEngine(gsr, 64, 7.0, True, False, oas) #change discounting to 6m"
   ]
  },
  {
   "cell_type": "code",
   "execution_count": 68,
   "metadata": {
    "collapsed": true
   },
   "outputs": [],
   "source": [
    "swaption3.setPricingEngine(nonstandardSwaptionEngine2)"
   ]
  },
  {
   "cell_type": "code",
   "execution_count": 69,
   "metadata": {
    "collapsed": true
   },
   "outputs": [],
   "source": [
    "basket = swaption3.calibrationBasket(swapBase, swaptionVol, \"MaturityStrikeByDeltaGamma\")"
   ]
  },
  {
   "cell_type": "code",
   "execution_count": 70,
   "metadata": {
    "collapsed": false
   },
   "outputs": [
    {
     "name": "stdout",
     "output_type": "stream",
     "text": [
      "\n",
      "Expiry              Maturity            Nominal             Rate          Pay/Rec     Market ivol   \n",
      "==================================================================================================\n",
      "April 30th, 2015    April 5th, 2024     0.98                0.039952      0           0.200000      \n",
      "May 3rd, 2016       April 5th, 2024     0.99                0.039952      0           0.200000      \n",
      "May 3rd, 2017       May 6th, 2024       0.99                0.039952      0           0.200000      \n",
      "May 3rd, 2018       May 7th, 2024       0.99                0.039952      0           0.200000      \n",
      "May 2nd, 2019       May 6th, 2024       0.99                0.039952      0           0.200000      \n",
      "April 30th, 2020    May 6th, 2024       0.99                0.039951      0           0.200000      \n",
      "May 3rd, 2021       May 6th, 2024       0.99                0.039951      0           0.200000      \n",
      "May 3rd, 2022       May 6th, 2024       0.99                0.039952      0           0.200000      \n",
      "May 3rd, 2023       May 6th, 2024       1.00                0.039949      0           0.200000      \n"
     ]
    }
   ],
   "source": [
    "printBasket(basket)"
   ]
  },
  {
   "cell_type": "code",
   "execution_count": 71,
   "metadata": {
    "collapsed": true
   },
   "outputs": [],
   "source": [
    "for helper in basket:\n",
    "    helper.setPricingEngine(swaptionEngine)"
   ]
  },
  {
   "cell_type": "code",
   "execution_count": 72,
   "metadata": {
    "collapsed": true
   },
   "outputs": [],
   "source": [
    "gsr.calibrateVolatilitiesIterative(basket, method, ec)"
   ]
  },
  {
   "cell_type": "code",
   "execution_count": 73,
   "metadata": {
    "collapsed": false
   },
   "outputs": [
    {
     "name": "stdout",
     "output_type": "stream",
     "text": [
      "Bond's bermudan call right npv = 0.115409\n"
     ]
    }
   ],
   "source": [
    "print(\"Bond's bermudan call right npv = %.6f\" % swaption3.NPV())"
   ]
  },
  {
   "cell_type": "code",
   "execution_count": 74,
   "metadata": {
    "collapsed": true
   },
   "outputs": [],
   "source": [
    "oas.linkTo(oas100) # Credit Spread 100bp"
   ]
  },
  {
   "cell_type": "code",
   "execution_count": 75,
   "metadata": {
    "collapsed": true
   },
   "outputs": [],
   "source": [
    "basket = swaption3.calibrationBasket(swapBase, swaptionVol, \"MaturityStrikeByDeltaGamma\")"
   ]
  },
  {
   "cell_type": "code",
   "execution_count": 76,
   "metadata": {
    "collapsed": false
   },
   "outputs": [
    {
     "name": "stdout",
     "output_type": "stream",
     "text": [
      "\n",
      "Expiry              Maturity            Nominal             Rate          Pay/Rec     Market ivol   \n",
      "==================================================================================================\n",
      "April 30th, 2015    February 5th, 2024  0.96                0.029608      0           0.200000      \n",
      "May 3rd, 2016       March 5th, 2024     0.97                0.029605      0           0.200000      \n",
      "May 3rd, 2017       April 5th, 2024     0.97                0.029608      0           0.200000      \n",
      "May 3rd, 2018       April 8th, 2024     0.97                0.029610      0           0.200000      \n",
      "May 2nd, 2019       April 8th, 2024     0.98                0.029608      0           0.200000      \n",
      "April 30th, 2020    May 6th, 2024       0.98                0.029612      0           0.200000      \n",
      "May 3rd, 2021       May 6th, 2024       0.99                0.029609      0           0.200000      \n",
      "May 3rd, 2022       May 6th, 2024       0.99                0.029603      0           0.200000      \n",
      "May 3rd, 2023       May 6th, 2024       1.00                0.029586      0           0.200000      \n"
     ]
    }
   ],
   "source": [
    "printBasket(basket)"
   ]
  },
  {
   "cell_type": "code",
   "execution_count": 77,
   "metadata": {
    "collapsed": true
   },
   "outputs": [],
   "source": [
    "for helper in basket:\n",
    "    helper.setPricingEngine(swaptionEngine)"
   ]
  },
  {
   "cell_type": "code",
   "execution_count": 78,
   "metadata": {
    "collapsed": true
   },
   "outputs": [],
   "source": [
    "gsr.calibrateVolatilitiesIterative(basket, method, ec)"
   ]
  },
  {
   "cell_type": "code",
   "execution_count": 79,
   "metadata": {
    "collapsed": false
   },
   "outputs": [
    {
     "name": "stdout",
     "output_type": "stream",
     "text": [
      "Bond's bermudan call right npv (oas = 100bp) = 0.044980\n"
     ]
    }
   ],
   "source": [
    "print(\"Bond's bermudan call right npv (oas = 100bp) = %.6f\" % swaption3.NPV())"
   ]
  },
  {
   "cell_type": "code",
   "execution_count": 80,
   "metadata": {
    "collapsed": false
   },
   "outputs": [],
   "source": [
    "underlying4 = ql.FloatFloatSwap(ql.VanillaSwap.Payer, [1.0]*(len(fixedSchedule)-1), [1.0]*(len(floatingSchedule)-1), fixedSchedule,\n",
    "                               swapBase, ql.Thirty360(), floatingSchedule,\n",
    "                               euribor6m, ql.Actual360(), False, False,\n",
    "                               [1.0]*(len(fixedSchedule)-1),[0.0]*(len(fixedSchedule)-1),[] ,[] ,[1.0]*(len(floatingSchedule)-1),\n",
    "                                [0.001]*(len(floatingSchedule)-1),[],[])"
   ]
  },
  {
   "cell_type": "code",
   "execution_count": 81,
   "metadata": {
    "collapsed": false
   },
   "outputs": [],
   "source": [
    "swaption4 = ql.FloatFloatSwaption(underlying4, exercise)"
   ]
  },
  {
   "cell_type": "code",
   "execution_count": 82,
   "metadata": {
    "collapsed": false
   },
   "outputs": [],
   "source": [
    "floatSwaptionEngine = ql.Gaussian1dFloatFloatSwaptionEngine(gsr, 64, 7.0, True, False, ql.QuoteHandle(), ytsOis, True)"
   ]
  },
  {
   "cell_type": "code",
   "execution_count": 83,
   "metadata": {
    "collapsed": true
   },
   "outputs": [],
   "source": [
    "swaption4.setPricingEngine(floatSwaptionEngine)"
   ]
  },
  {
   "cell_type": "code",
   "execution_count": 84,
   "metadata": {
    "collapsed": false
   },
   "outputs": [],
   "source": [
    "reversionQuote=ql.QuoteHandle(ql.SimpleQuote(reversion))"
   ]
  },
  {
   "cell_type": "code",
   "execution_count": 85,
   "metadata": {
    "collapsed": true
   },
   "outputs": [],
   "source": [
    "leg0 = underlying4.leg(0)\n",
    "leg1 = underlying4.leg(1)"
   ]
  },
  {
   "cell_type": "code",
   "execution_count": 86,
   "metadata": {
    "collapsed": false
   },
   "outputs": [],
   "source": [
    "cmsPricer = ql.LinearTsrPricer(swaptionVolHandle, reversionQuote)"
   ]
  },
  {
   "cell_type": "code",
   "execution_count": 87,
   "metadata": {
    "collapsed": true
   },
   "outputs": [],
   "source": [
    "ql.setCouponPricer(leg0,cmsPricer)"
   ]
  },
  {
   "cell_type": "code",
   "execution_count": 88,
   "metadata": {
    "collapsed": true
   },
   "outputs": [],
   "source": [
    "iborPricer = ql.BlackIborCouponPricer()"
   ]
  },
  {
   "cell_type": "code",
   "execution_count": 89,
   "metadata": {
    "collapsed": true
   },
   "outputs": [],
   "source": [
    "ql.setCouponPricer(leg1,iborPricer)"
   ]
  },
  {
   "cell_type": "code",
   "execution_count": 90,
   "metadata": {
    "collapsed": true
   },
   "outputs": [],
   "source": [
    "swapPricer = ql.DiscountingSwapEngine(ytsOis)"
   ]
  },
  {
   "cell_type": "code",
   "execution_count": 91,
   "metadata": {
    "collapsed": true
   },
   "outputs": [],
   "source": [
    "underlying4.setPricingEngine(swapPricer)"
   ]
  },
  {
   "cell_type": "code",
   "execution_count": 92,
   "metadata": {
    "collapsed": false
   },
   "outputs": [],
   "source": [
    "npv5 = underlying4.NPV()"
   ]
  },
  {
   "cell_type": "code",
   "execution_count": 93,
   "metadata": {
    "collapsed": false
   },
   "outputs": [
    {
     "name": "stdout",
     "output_type": "stream",
     "text": [
      "Underlying CMS Swap NPV = 0.004447\n"
     ]
    }
   ],
   "source": [
    "print(\"Underlying CMS Swap NPV = %.6f\" % npv5)"
   ]
  },
  {
   "cell_type": "code",
   "execution_count": 94,
   "metadata": {
    "collapsed": false
   },
   "outputs": [
    {
     "name": "stdout",
     "output_type": "stream",
     "text": [
      "       CMS     Leg  NPV = -0.231736\n"
     ]
    }
   ],
   "source": [
    "print(\"       CMS     Leg  NPV = %.6f\" % underlying4.legNPV(0))"
   ]
  },
  {
   "cell_type": "code",
   "execution_count": 95,
   "metadata": {
    "collapsed": false
   },
   "outputs": [
    {
     "name": "stdout",
     "output_type": "stream",
     "text": [
      "       Euribor Leg  NPV = 0.236183\n"
     ]
    }
   ],
   "source": [
    "print(\"       Euribor Leg  NPV = %.6f\" % underlying4.legNPV(1))"
   ]
  },
  {
   "cell_type": "code",
   "execution_count": 96,
   "metadata": {
    "collapsed": false
   },
   "outputs": [],
   "source": [
    "basket = swaption4.calibrationBasket(swapBase, swaptionVol, \"Naive\");"
   ]
  },
  {
   "cell_type": "code",
   "execution_count": 97,
   "metadata": {
    "collapsed": true
   },
   "outputs": [],
   "source": [
    "for helper in basket:\n",
    "    helper.setPricingEngine(swaptionEngine)"
   ]
  },
  {
   "cell_type": "code",
   "execution_count": 98,
   "metadata": {
    "collapsed": true
   },
   "outputs": [],
   "source": [
    "gsr.calibrateVolatilitiesIterative(basket, method, ec)"
   ]
  },
  {
   "cell_type": "code",
   "execution_count": 99,
   "metadata": {
    "collapsed": false
   },
   "outputs": [
    {
     "name": "stdout",
     "output_type": "stream",
     "text": [
      "\n",
      "Expiry              Maturity            Nominal             Rate          Pay/Rec     Market ivol   \n",
      "==================================================================================================\n",
      "April 30th, 2015    May 6th, 2024       1.00                0.025307      0           0.200000      \n",
      "May 3rd, 2016       May 6th, 2024       1.00                0.025300      0           0.200000      \n",
      "May 3rd, 2017       May 6th, 2024       1.00                0.025303      0           0.200000      \n",
      "May 3rd, 2018       May 6th, 2024       1.00                0.025306      0           0.200000      \n",
      "May 2nd, 2019       May 6th, 2024       1.00                0.025311      0           0.200000      \n",
      "April 30th, 2020    May 6th, 2024       1.00                0.025300      0           0.200000      \n",
      "May 3rd, 2021       May 6th, 2024       1.00                0.025306      0           0.200000      \n",
      "May 3rd, 2022       May 6th, 2024       1.00                0.025318      0           0.200000      \n",
      "May 3rd, 2023       May 6th, 2024       1.00                0.025353      0           0.200000      \n"
     ]
    }
   ],
   "source": [
    "printBasket(basket)"
   ]
  },
  {
   "cell_type": "code",
   "execution_count": 100,
   "metadata": {
    "collapsed": false
   },
   "outputs": [
    {
     "name": "stdout",
     "output_type": "stream",
     "text": [
      "\n",
      "Expiry              Model sigma   Model price         Market price        Model ivol    Market ivol   \n",
      "====================================================================================================\n",
      "April 30th, 2015    0.005178      0.016111            0.016111            0.200000      0.200000      \n",
      "May 3rd, 2016       0.005156      0.020062            0.020062            0.200000      0.200000      \n",
      "May 3rd, 2017       0.005149      0.021229            0.021229            0.200000      0.200000      \n",
      "May 3rd, 2018       0.005129      0.020738            0.020738            0.200000      0.200000      \n",
      "May 2nd, 2019       0.005132      0.019096            0.019096            0.200000      0.200000      \n",
      "April 30th, 2020    0.005074      0.016537            0.016537            0.200000      0.200000      \n",
      "May 3rd, 2021       0.005091      0.013253            0.013253            0.200000      0.200000      \n",
      "May 3rd, 2022       0.005097      0.009342            0.009342            0.200000      0.200000      \n",
      "May 3rd, 2023       0.005001      0.004910            0.004910            0.200000      0.200000      \n"
     ]
    }
   ],
   "source": [
    "printModelCalibration(basket, gsr.volatility())"
   ]
  },
  {
   "cell_type": "code",
   "execution_count": 101,
   "metadata": {
    "collapsed": true
   },
   "outputs": [],
   "source": [
    "npv6 = swaption4.NPV()"
   ]
  },
  {
   "cell_type": "code",
   "execution_count": 102,
   "metadata": {
    "collapsed": false
   },
   "outputs": [
    {
     "name": "stdout",
     "output_type": "stream",
     "text": [
      "Float swaption NPV (GSR) = 0.004291\n"
     ]
    }
   ],
   "source": [
    "print(\"Float swaption NPV (GSR) = %.6f\" % npv6)"
   ]
  },
  {
   "cell_type": "code",
   "execution_count": 106,
   "metadata": {
    "collapsed": false
   },
   "outputs": [
    {
     "name": "stdout",
     "output_type": "stream",
     "text": [
      "Float swap NPV (GSR) = 0.005250\n"
     ]
    }
   ],
   "source": [
    "print(\"Float swap NPV (GSR) = %.6f\" % swaption4.underlyingValue())"
   ]
  }
 ],
 "metadata": {
  "kernelspec": {
   "display_name": "Python 3",
   "language": "python",
   "name": "python3"
  },
  "language_info": {
   "codemirror_mode": {
    "name": "ipython",
    "version": 3
   },
   "file_extension": ".py",
   "mimetype": "text/x-python",
   "name": "python",
   "nbconvert_exporter": "python",
   "pygments_lexer": "ipython3",
   "version": "3.5.2"
  }
 },
 "nbformat": 4,
 "nbformat_minor": 1
}
