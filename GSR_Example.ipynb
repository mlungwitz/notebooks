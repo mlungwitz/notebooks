{
 "cells": [
  {
   "cell_type": "markdown",
   "metadata": {},
   "source": [
    "# Gaussian1dModel Examples"
   ]
  },
  {
   "cell_type": "markdown",
   "metadata": {},
   "source": [
    "### Examples taken from QuantLib's C++ Example (by Peter Caspers) translated to Python"
   ]
  },
  {
   "cell_type": "markdown",
   "metadata": {},
   "source": [
    "This is some example code showing how to use the GSR (Gaussian short rate) and Markov Functional model."
   ]
  },
  {
   "cell_type": "code",
   "execution_count": null,
   "metadata": {
    "ExecuteTime": {
     "end_time": "2017-03-07T23:41:44.029852",
     "start_time": "2017-03-07T23:41:43.828171"
    },
    "collapsed": true
   },
   "outputs": [],
   "source": [
    "import QuantLib as ql"
   ]
  },
  {
   "cell_type": "code",
   "execution_count": null,
   "metadata": {
    "ExecuteTime": {
     "end_time": "2017-03-07T23:14:23.435280",
     "start_time": "2017-03-07T23:14:23.406205"
    },
    "collapsed": true
   },
   "outputs": [],
   "source": [
    "refDate = ql.Date(30,4,2014)"
   ]
  },
  {
   "cell_type": "code",
   "execution_count": null,
   "metadata": {
    "ExecuteTime": {
     "end_time": "2017-03-07T23:14:23.518503",
     "start_time": "2017-03-07T23:14:23.436282"
    },
    "collapsed": false
   },
   "outputs": [],
   "source": [
    "ql.Settings.instance().evaluationDate=refDate"
   ]
  },
  {
   "cell_type": "code",
   "execution_count": null,
   "metadata": {
    "ExecuteTime": {
     "end_time": "2017-03-07T23:14:23.611754",
     "start_time": "2017-03-07T23:14:23.519519"
    },
    "collapsed": false
   },
   "outputs": [],
   "source": [
    "print(\"EvalDate: \",ql.Settings.instance().evaluationDate)"
   ]
  },
  {
   "cell_type": "code",
   "execution_count": null,
   "metadata": {
    "ExecuteTime": {
     "end_time": "2017-03-07T23:14:23.726108",
     "start_time": "2017-03-07T23:14:23.612765"
    },
    "collapsed": true
   },
   "outputs": [],
   "source": [
    "forward6mLevel = 0.025\n",
    "oisLevel = 0.02"
   ]
  },
  {
   "cell_type": "code",
   "execution_count": null,
   "metadata": {
    "ExecuteTime": {
     "end_time": "2017-03-07T23:14:23.801241",
     "start_time": "2017-03-07T23:14:23.727111"
    },
    "collapsed": true
   },
   "outputs": [],
   "source": [
    "forward6mQuote = ql.QuoteHandle(ql.SimpleQuote(forward6mLevel))\n",
    "oisQuote = ql.QuoteHandle(ql.SimpleQuote(oisLevel))"
   ]
  },
  {
   "cell_type": "code",
   "execution_count": null,
   "metadata": {
    "ExecuteTime": {
     "end_time": "2017-03-07T23:14:23.908939",
     "start_time": "2017-03-07T23:14:23.802746"
    },
    "collapsed": true
   },
   "outputs": [],
   "source": [
    "yts6m = ql.YieldTermStructureHandle(ql.FlatForward(0, ql.TARGET(), forward6mQuote, ql.Actual365Fixed() ))\n",
    "ytsOis = ql.YieldTermStructureHandle(ql.FlatForward(0, ql.TARGET(), oisQuote, ql.Actual365Fixed() ))"
   ]
  },
  {
   "cell_type": "code",
   "execution_count": null,
   "metadata": {
    "ExecuteTime": {
     "end_time": "2017-03-07T23:14:23.992925",
     "start_time": "2017-03-07T23:14:23.909949"
    },
    "collapsed": true
   },
   "outputs": [],
   "source": [
    "euribor6m = ql.Euribor6M(yts6m)"
   ]
  },
  {
   "cell_type": "markdown",
   "metadata": {
    "variables": {
     "forward6mLevel": "0.025",
     "oisLevel": "0.02"
    }
   },
   "source": [
    "We assume a multicurve setup, for simplicity with flat yield term structures. The discounting curve is an Eonia curve at a level of {{oisLevel}} and the forwarding curve is an Euribior 6m curve at a level of {{forward6mLevel}}"
   ]
  },
  {
   "cell_type": "code",
   "execution_count": null,
   "metadata": {
    "ExecuteTime": {
     "end_time": "2017-03-07T23:14:24.066799",
     "start_time": "2017-03-07T23:14:23.994398"
    },
    "collapsed": true
   },
   "outputs": [],
   "source": [
    "volLevel = 0.20"
   ]
  },
  {
   "cell_type": "code",
   "execution_count": null,
   "metadata": {
    "ExecuteTime": {
     "end_time": "2017-03-07T23:14:24.141085",
     "start_time": "2017-03-07T23:14:24.067835"
    },
    "collapsed": true
   },
   "outputs": [],
   "source": [
    "volQuote = ql.QuoteHandle(ql.SimpleQuote(volLevel))"
   ]
  },
  {
   "cell_type": "code",
   "execution_count": null,
   "metadata": {
    "ExecuteTime": {
     "end_time": "2017-03-07T23:14:24.216919",
     "start_time": "2017-03-07T23:14:24.143090"
    },
    "collapsed": true
   },
   "outputs": [],
   "source": [
    "swaptionVol = ql.ConstantSwaptionVolatility(0, ql.TARGET(), ql.ModifiedFollowing, volQuote,\n",
    "                                                                                ql.Actual365Fixed())"
   ]
  },
  {
   "cell_type": "code",
   "execution_count": null,
   "metadata": {
    "ExecuteTime": {
     "end_time": "2017-03-07T23:14:24.291689",
     "start_time": "2017-03-07T23:14:24.217925"
    },
    "collapsed": false
   },
   "outputs": [],
   "source": [
    "swaptionVolHandle = ql.SwaptionVolatilityStructureHandle(ql.ConstantSwaptionVolatility(0, ql.TARGET(), ql.ModifiedFollowing, volQuote,\n",
    "                                                                                ql.Actual365Fixed()))"
   ]
  },
  {
   "cell_type": "markdown",
   "metadata": {
    "variables": {
     "volLevel": "0.2"
    }
   },
   "source": [
    "For the volatility we assume a flat swaption volatility at {{volLevel}}"
   ]
  },
  {
   "cell_type": "code",
   "execution_count": null,
   "metadata": {
    "ExecuteTime": {
     "end_time": "2017-03-07T23:14:24.381793",
     "start_time": "2017-03-07T23:14:24.293195"
    },
    "collapsed": true
   },
   "outputs": [],
   "source": [
    "strike = 0.04"
   ]
  },
  {
   "cell_type": "markdown",
   "metadata": {
    "variables": {
     "strike": "0.04"
    }
   },
   "source": [
    "We consider a standard 10y bermudan payer swaption with yearly exercises at a strike of {{strike}}"
   ]
  },
  {
   "cell_type": "code",
   "execution_count": null,
   "metadata": {
    "ExecuteTime": {
     "end_time": "2017-03-07T23:14:24.480552",
     "start_time": "2017-03-07T23:14:24.382758"
    },
    "collapsed": false
   },
   "outputs": [],
   "source": [
    "effectiveDate = ql.TARGET().advance(refDate, ql.Period(2,ql.Days))"
   ]
  },
  {
   "cell_type": "code",
   "execution_count": null,
   "metadata": {
    "ExecuteTime": {
     "end_time": "2017-03-07T23:14:24.555838",
     "start_time": "2017-03-07T23:14:24.482557"
    },
    "collapsed": false
   },
   "outputs": [],
   "source": [
    "maturityDate = ql.TARGET().advance(effectiveDate, ql.Period(10,ql.Years))"
   ]
  },
  {
   "cell_type": "code",
   "execution_count": null,
   "metadata": {
    "ExecuteTime": {
     "end_time": "2017-03-07T23:14:24.635333",
     "start_time": "2017-03-07T23:14:24.556829"
    },
    "collapsed": false
   },
   "outputs": [],
   "source": [
    "maturityDate"
   ]
  },
  {
   "cell_type": "code",
   "execution_count": null,
   "metadata": {
    "ExecuteTime": {
     "end_time": "2017-03-07T23:14:24.714615",
     "start_time": "2017-03-07T23:14:24.636344"
    },
    "collapsed": true
   },
   "outputs": [],
   "source": [
    "fixedSchedule = ql.Schedule(effectiveDate, maturityDate, ql.Period(1,ql.Years), ql.TARGET(),\n",
    "                            ql.ModifiedFollowing, ql.ModifiedFollowing,\n",
    "                            ql.DateGeneration.Forward, False)"
   ]
  },
  {
   "cell_type": "code",
   "execution_count": null,
   "metadata": {
    "ExecuteTime": {
     "end_time": "2017-03-07T23:14:24.799522",
     "start_time": "2017-03-07T23:14:24.716150"
    },
    "collapsed": false
   },
   "outputs": [],
   "source": [
    "for i in fixedSchedule:\n",
    "    print(i)"
   ]
  },
  {
   "cell_type": "code",
   "execution_count": null,
   "metadata": {
    "ExecuteTime": {
     "end_time": "2017-03-07T23:14:24.913361",
     "start_time": "2017-03-07T23:14:24.800525"
    },
    "collapsed": true
   },
   "outputs": [],
   "source": [
    "floatingSchedule = ql.Schedule(effectiveDate, maturityDate, ql.Period(6,ql.Months), ql.TARGET(),\n",
    "                            ql.ModifiedFollowing, ql.ModifiedFollowing,\n",
    "                            ql.DateGeneration.Forward, False)"
   ]
  },
  {
   "cell_type": "code",
   "execution_count": null,
   "metadata": {
    "ExecuteTime": {
     "end_time": "2017-03-07T23:14:24.987296",
     "start_time": "2017-03-07T23:14:24.914298"
    },
    "collapsed": false
   },
   "outputs": [],
   "source": [
    "for i in floatingSchedule:\n",
    "    print(i)"
   ]
  },
  {
   "cell_type": "code",
   "execution_count": null,
   "metadata": {
    "ExecuteTime": {
     "end_time": "2017-03-07T23:14:25.086506",
     "start_time": "2017-03-07T23:14:24.989257"
    },
    "collapsed": false
   },
   "outputs": [],
   "source": [
    "underlying = ql.NonstandardSwap(ql.VanillaSwap.Payer, [1.0]*(len(fixedSchedule)-1), [1.0]*(len(floatingSchedule)-1), fixedSchedule,\n",
    "                                              [strike]*(len(fixedSchedule)-1), ql.Thirty360(), floatingSchedule, \n",
    "                                              euribor6m, [1.0]*(len(floatingSchedule)-1), [0.0]*(len(floatingSchedule)-1), ql.Actual360())"
   ]
  },
  {
   "cell_type": "code",
   "execution_count": null,
   "metadata": {
    "ExecuteTime": {
     "end_time": "2017-03-07T23:14:25.170134",
     "start_time": "2017-03-07T23:14:25.087509"
    },
    "collapsed": false
   },
   "outputs": [],
   "source": [
    "for cf in underlying.fixedLeg():\n",
    "    print (cf.date(), cf.amount())"
   ]
  },
  {
   "cell_type": "code",
   "execution_count": null,
   "metadata": {
    "ExecuteTime": {
     "end_time": "2017-03-07T23:14:25.252696",
     "start_time": "2017-03-07T23:14:25.171136"
    },
    "collapsed": false
   },
   "outputs": [],
   "source": [
    "for cf in underlying.floatingLeg():\n",
    "    print (cf.date(), cf.amount())"
   ]
  },
  {
   "cell_type": "code",
   "execution_count": null,
   "metadata": {
    "ExecuteTime": {
     "end_time": "2017-03-07T23:14:25.334668",
     "start_time": "2017-03-07T23:14:25.253730"
    },
    "collapsed": false
   },
   "outputs": [],
   "source": [
    "exerciseDates = [ql.TARGET().advance(fixedSchedule[i], ql.Period(-2, ql.Days)) for i in range(1,10)]"
   ]
  },
  {
   "cell_type": "code",
   "execution_count": null,
   "metadata": {
    "ExecuteTime": {
     "end_time": "2017-03-07T23:14:25.411346",
     "start_time": "2017-03-07T23:14:25.335671"
    },
    "collapsed": false
   },
   "outputs": [],
   "source": [
    "exerciseDates"
   ]
  },
  {
   "cell_type": "code",
   "execution_count": null,
   "metadata": {
    "ExecuteTime": {
     "end_time": "2017-03-07T23:14:25.475576",
     "start_time": "2017-03-07T23:14:25.412318"
    },
    "collapsed": true
   },
   "outputs": [],
   "source": [
    "exercise = ql.BermudanExercise(exerciseDates, False)"
   ]
  },
  {
   "cell_type": "code",
   "execution_count": null,
   "metadata": {
    "ExecuteTime": {
     "end_time": "2017-03-07T23:14:25.550282",
     "start_time": "2017-03-07T23:14:25.476578"
    },
    "collapsed": true
   },
   "outputs": [],
   "source": [
    "swaption = ql.NonstandardSwaption(underlying, exercise)"
   ]
  },
  {
   "cell_type": "markdown",
   "metadata": {},
   "source": [
    "The model is a one factor Hull White model with piecewise volatility adapted to our exercise dates."
   ]
  },
  {
   "cell_type": "code",
   "execution_count": null,
   "metadata": {
    "ExecuteTime": {
     "end_time": "2017-03-07T23:14:25.616243",
     "start_time": "2017-03-07T23:14:25.551305"
    },
    "collapsed": true
   },
   "outputs": [],
   "source": [
    "stepDates = [exerciseDates[i] for i in range(0, len(exerciseDates)-1)]"
   ]
  },
  {
   "cell_type": "code",
   "execution_count": null,
   "metadata": {
    "ExecuteTime": {
     "end_time": "2017-03-07T23:14:25.683009",
     "start_time": "2017-03-07T23:14:25.617276"
    },
    "collapsed": true
   },
   "outputs": [],
   "source": [
    "sigmas = [ql.QuoteHandle(ql.SimpleQuote(0.01)) for i in range(0, len(stepDates)+1)]"
   ]
  },
  {
   "cell_type": "code",
   "execution_count": null,
   "metadata": {
    "ExecuteTime": {
     "end_time": "2017-03-07T23:14:25.757721",
     "start_time": "2017-03-07T23:14:25.683943"
    },
    "collapsed": true
   },
   "outputs": [],
   "source": [
    "reversion = 0.01"
   ]
  },
  {
   "cell_type": "code",
   "execution_count": null,
   "metadata": {
    "ExecuteTime": {
     "end_time": "2017-03-07T23:14:25.848272",
     "start_time": "2017-03-07T23:14:25.758727"
    },
    "collapsed": false
   },
   "outputs": [],
   "source": [
    "reversions = [ql.QuoteHandle(ql.SimpleQuote(reversion))]"
   ]
  },
  {
   "cell_type": "markdown",
   "metadata": {
    "variables": {
     "reversion": "0.01"
    }
   },
   "source": [
    "The reversion is just kept constant at a level of {{reversion}}"
   ]
  },
  {
   "cell_type": "markdown",
   "metadata": {},
   "source": [
    "The model's curve is set to the 6m forward curve. Note that the model adapts automatically to other curves where appropriate (e.g. if an index requires a different forwarding curve) or where explicitly specified (e.g. in a swaption pricing engine)."
   ]
  },
  {
   "cell_type": "code",
   "execution_count": null,
   "metadata": {
    "ExecuteTime": {
     "end_time": "2017-03-07T23:14:25.939715",
     "start_time": "2017-03-07T23:14:25.850286"
    },
    "collapsed": false
   },
   "outputs": [],
   "source": [
    "gsr = ql.Gsr(yts6m, stepDates, sigmas, reversions)"
   ]
  },
  {
   "cell_type": "code",
   "execution_count": null,
   "metadata": {
    "ExecuteTime": {
     "end_time": "2017-03-07T23:14:26.019951",
     "start_time": "2017-03-07T23:14:25.940717"
    },
    "collapsed": true
   },
   "outputs": [],
   "source": [
    "swaptionEngine = ql.Gaussian1dSwaptionEngine(gsr, 64, 7.0, True, False, ytsOis, \"Naive\")"
   ]
  },
  {
   "cell_type": "code",
   "execution_count": null,
   "metadata": {
    "ExecuteTime": {
     "end_time": "2017-03-07T23:14:26.094133",
     "start_time": "2017-03-07T23:14:26.020981"
    },
    "collapsed": false
   },
   "outputs": [],
   "source": [
    "nonstandardSwaptionEngine = ql.Gaussian1dNonstandardSwaptionEngine(gsr, 64, 7.0, True, False, ql.QuoteHandle(),ytsOis, \"Naive\")"
   ]
  },
  {
   "cell_type": "code",
   "execution_count": null,
   "metadata": {
    "ExecuteTime": {
     "end_time": "2017-03-07T23:14:26.169155",
     "start_time": "2017-03-07T23:14:26.095137"
    },
    "collapsed": true
   },
   "outputs": [],
   "source": [
    "swaption.setPricingEngine(nonstandardSwaptionEngine)"
   ]
  },
  {
   "cell_type": "markdown",
   "metadata": {},
   "source": [
    "The engine can generate a calibration basket in two modes. The first one is called Naive and generates ATM swaptions adapted to the exercise dates of the swaption and its maturity date."
   ]
  },
  {
   "cell_type": "code",
   "execution_count": null,
   "metadata": {
    "ExecuteTime": {
     "end_time": "2017-03-07T23:14:26.260982",
     "start_time": "2017-03-07T23:14:26.170157"
    },
    "collapsed": true
   },
   "outputs": [],
   "source": [
    "swapBase = ql.EuriborSwapIsdaFixA(ql.Period(10,ql.Years), yts6m, ytsOis)"
   ]
  },
  {
   "cell_type": "code",
   "execution_count": null,
   "metadata": {
    "ExecuteTime": {
     "end_time": "2017-03-07T23:14:26.335470",
     "start_time": "2017-03-07T23:14:26.262018"
    },
    "collapsed": false
   },
   "outputs": [],
   "source": [
    "basket = swaption.calibrationBasket(swapBase, swaptionVol, \"Naive\")"
   ]
  },
  {
   "cell_type": "code",
   "execution_count": null,
   "metadata": {
    "ExecuteTime": {
     "end_time": "2017-03-07T23:14:26.421390",
     "start_time": "2017-03-07T23:14:26.336472"
    },
    "collapsed": true
   },
   "outputs": [],
   "source": [
    "def printBasket(basket):\n",
    "    print()\n",
    "    print('{:<20}{:<20}{:<20}{:<14}{:<12}{:<14}'.format(\"Expiry\", \"Maturity\", \"Nominal\", \"Rate\", \"Pay/Rec\", \"Market ivol\"))\n",
    "    print(\"====================\"*4+\"==================\")\n",
    "    for helper in basket:\n",
    "        endDate = helper.swaptionMaturityDate()\n",
    "        nominal = helper.swaptionNominal()\n",
    "        vol = helper.volatility().value()\n",
    "        rate = helper.swaptionStrike()\n",
    "        expiry = helper.swaptionExpiryDate()\n",
    "        swp_type = 0 # to be SWIGed\n",
    "        print('{:<20}{:<20}{:<20}{:<14}{:<12}{:<14}'.format(str(expiry), str(endDate), (\"%.2f\"%nominal), (\"%.6f\"%rate), str(swp_type), (\"%.6f\"%vol)))"
   ]
  },
  {
   "cell_type": "markdown",
   "metadata": {},
   "source": [
    "The resulting basket looks as follows:"
   ]
  },
  {
   "cell_type": "code",
   "execution_count": null,
   "metadata": {
    "ExecuteTime": {
     "end_time": "2017-03-07T23:14:26.500909",
     "start_time": "2017-03-07T23:14:26.422973"
    },
    "collapsed": false
   },
   "outputs": [],
   "source": [
    "printBasket(basket)"
   ]
  },
  {
   "cell_type": "markdown",
   "metadata": {},
   "source": [
    "Let's calibrate our model to this basket. We use a specialized calibration method calibrating the sigma function one by one to the calibrating vanilla swaptions. The result of this is as follows:"
   ]
  },
  {
   "cell_type": "code",
   "execution_count": null,
   "metadata": {
    "ExecuteTime": {
     "end_time": "2017-03-07T23:14:26.576117",
     "start_time": "2017-03-07T23:14:26.501888"
    },
    "collapsed": false
   },
   "outputs": [],
   "source": [
    "for helper in basket:\n",
    "    helper.setPricingEngine(swaptionEngine)"
   ]
  },
  {
   "cell_type": "code",
   "execution_count": null,
   "metadata": {
    "ExecuteTime": {
     "end_time": "2017-03-07T23:14:26.649806",
     "start_time": "2017-03-07T23:14:26.577112"
    },
    "collapsed": true
   },
   "outputs": [],
   "source": [
    "method = ql.LevenbergMarquardt()"
   ]
  },
  {
   "cell_type": "code",
   "execution_count": null,
   "metadata": {
    "ExecuteTime": {
     "end_time": "2017-03-07T23:14:26.734603",
     "start_time": "2017-03-07T23:14:26.650806"
    },
    "collapsed": true
   },
   "outputs": [],
   "source": [
    "ec = ql.EndCriteria(1000, 10, 1e-8, 1e-8, 1e-8)"
   ]
  },
  {
   "cell_type": "code",
   "execution_count": null,
   "metadata": {
    "ExecuteTime": {
     "end_time": "2017-03-07T23:14:27.095636",
     "start_time": "2017-03-07T23:14:26.735606"
    },
    "collapsed": false
   },
   "outputs": [],
   "source": [
    "gsr.calibrateVolatilitiesIterative(basket, method, ec)"
   ]
  },
  {
   "cell_type": "code",
   "execution_count": null,
   "metadata": {
    "ExecuteTime": {
     "end_time": "2017-03-07T23:14:27.164589",
     "start_time": "2017-03-07T23:14:27.096622"
    },
    "collapsed": false
   },
   "outputs": [],
   "source": [
    "def printModelCalibration(basket, volatility):\n",
    "    print()\n",
    "    print('{:<20}{:<14}{:<20}{:<20}{:<14}{:<14}'.format(\"Expiry\", \"Model sigma\", \"Model price\", \"Market price\", \"Model ivol\", \"Market ivol\"))\n",
    "    print(\"====================\"*5)\n",
    "    for i in range(0,len(basket)):\n",
    "        helper = basket[i]\n",
    "        expiry = helper.swaptionExpiryDate()\n",
    "        print('{:<20}{:<14}{:<20}{:<20}{:<14}{:<14}'.format(str(expiry), (\"%.6f\"%volatility[i]), (\"%.6f\"%helper.modelValue()),\n",
    "                                                           (\"%.6f\"%helper.marketValue()), (\"%.6f\"%helper.impliedVolatility(helper.modelValue(), 1e-6, 1000, 0.0, 2.0)),\n",
    "                                                           (\"%.6f\"%helper.volatility().value())))\n",
    "    if (len(volatility) > len(basket)):\n",
    "        print('{:<20}'.format((\"%.6f\"%volatility[-1])))\n",
    "        "
   ]
  },
  {
   "cell_type": "code",
   "execution_count": null,
   "metadata": {
    "ExecuteTime": {
     "end_time": "2017-03-07T23:14:27.291975",
     "start_time": "2017-03-07T23:14:27.165590"
    },
    "collapsed": false
   },
   "outputs": [],
   "source": [
    "printModelCalibration(basket, gsr.volatility())"
   ]
  },
  {
   "cell_type": "markdown",
   "metadata": {},
   "source": [
    "Finally we price our bermudan swaption in the calibrated model:"
   ]
  },
  {
   "cell_type": "code",
   "execution_count": null,
   "metadata": {
    "ExecuteTime": {
     "end_time": "2017-03-07T23:14:27.387960",
     "start_time": "2017-03-07T23:14:27.292945"
    },
    "collapsed": false,
    "scrolled": true
   },
   "outputs": [],
   "source": [
    "print(\"Bermudan swaption NPV (ATM calibrated GSR) = %.6f\" % swaption.NPV())"
   ]
  },
  {
   "cell_type": "code",
   "execution_count": null,
   "metadata": {
    "collapsed": false
   },
   "outputs": [],
   "source": [
    "probResult0 = swaption.probabilites()\n",
    "print(\"Call probabilities (Naive):\")\n",
    "for prob in probResult0:\n",
    "    print (\"%.4f\" % prob)"
   ]
  },
  {
   "cell_type": "markdown",
   "metadata": {},
   "source": [
    "There is another mode to generate a calibration basket called MaturityStrikeByDeltaGamma. This means that the maturity, the strike and the nominal of the calibrating swaption are computed such that the npv and its first and second derivative with respect to the model's state variable) of the exotics underlying match with the calibrating swaption'sunderlying. Let's try this in our case."
   ]
  },
  {
   "cell_type": "code",
   "execution_count": null,
   "metadata": {
    "ExecuteTime": {
     "end_time": "2017-03-07T23:14:27.511413",
     "start_time": "2017-03-07T23:14:27.388964"
    },
    "collapsed": true
   },
   "outputs": [],
   "source": [
    "basket = swaption.calibrationBasket(swapBase, swaptionVol, \"MaturityStrikeByDeltaGamma\")"
   ]
  },
  {
   "cell_type": "code",
   "execution_count": null,
   "metadata": {
    "ExecuteTime": {
     "end_time": "2017-03-07T23:14:27.610317",
     "start_time": "2017-03-07T23:14:27.512389"
    },
    "collapsed": false
   },
   "outputs": [],
   "source": [
    "printBasket(basket)"
   ]
  },
  {
   "cell_type": "markdown",
   "metadata": {},
   "source": [
    "The calibrated nominal is close to the exotics nominal. The expiries and maturity dates of the vanillas are the same as in the case above. The difference is the strike which is now equal to the exotics strike."
   ]
  },
  {
   "cell_type": "markdown",
   "metadata": {},
   "source": [
    "Let's see how this affects the exotics npv. The recalibrated model is:"
   ]
  },
  {
   "cell_type": "code",
   "execution_count": null,
   "metadata": {
    "ExecuteTime": {
     "end_time": "2017-03-07T23:14:27.745312",
     "start_time": "2017-03-07T23:14:27.612294"
    },
    "collapsed": true
   },
   "outputs": [],
   "source": [
    "for helper in basket:\n",
    "    helper.setPricingEngine(swaptionEngine)"
   ]
  },
  {
   "cell_type": "code",
   "execution_count": null,
   "metadata": {
    "ExecuteTime": {
     "end_time": "2017-03-07T23:14:28.234387",
     "start_time": "2017-03-07T23:14:27.746348"
    },
    "collapsed": true
   },
   "outputs": [],
   "source": [
    "gsr.calibrateVolatilitiesIterative(basket, method, ec)"
   ]
  },
  {
   "cell_type": "code",
   "execution_count": null,
   "metadata": {
    "ExecuteTime": {
     "end_time": "2017-03-07T23:14:28.357892",
     "start_time": "2017-03-07T23:14:28.235402"
    },
    "collapsed": false
   },
   "outputs": [],
   "source": [
    "printModelCalibration(basket, gsr.volatility())"
   ]
  },
  {
   "cell_type": "markdown",
   "metadata": {},
   "source": [
    "And the bermudan's price becomes:"
   ]
  },
  {
   "cell_type": "code",
   "execution_count": null,
   "metadata": {
    "ExecuteTime": {
     "end_time": "2017-03-07T23:14:28.479511",
     "start_time": "2017-03-07T23:14:28.358864"
    },
    "collapsed": false
   },
   "outputs": [],
   "source": [
    "print(\"Bermudan swaption NPV (deal strike calibrated GSR) = %.6f\" % swaption.NPV())"
   ]
  },
  {
   "cell_type": "markdown",
   "metadata": {},
   "source": [
    "We can do more complicated things, let's e.g. modify the nominal schedule to be linear amortizing and see what the effect on the generated calibration basket is:"
   ]
  },
  {
   "cell_type": "code",
   "execution_count": null,
   "metadata": {
    "ExecuteTime": {
     "end_time": "2017-03-07T23:14:28.574496",
     "start_time": "2017-03-07T23:14:28.480514"
    },
    "collapsed": false
   },
   "outputs": [],
   "source": [
    "nominalFixed = [ 1.0 - float(i) / (len(fixedSchedule) - 1) for i in range(0,len(fixedSchedule)-1)]\n",
    "nominalFloating = [ n for n in nominalFixed for repetitions in range(2)]\n",
    "strikes = [strike]*len(nominalFixed)"
   ]
  },
  {
   "cell_type": "code",
   "execution_count": null,
   "metadata": {
    "ExecuteTime": {
     "end_time": "2017-03-07T23:14:28.677189",
     "start_time": "2017-03-07T23:14:28.575465"
    },
    "collapsed": false
   },
   "outputs": [],
   "source": [
    "underlying2 = ql.NonstandardSwap(ql.VanillaSwap.Payer, nominalFixed, nominalFloating, fixedSchedule,\n",
    "                                              strikes, ql.Thirty360(), floatingSchedule, \n",
    "                                              euribor6m, [1.0]*(len(floatingSchedule)-1), [0.0]*(len(floatingSchedule)-1), ql.Actual360())"
   ]
  },
  {
   "cell_type": "code",
   "execution_count": null,
   "metadata": {
    "ExecuteTime": {
     "end_time": "2017-03-07T23:14:28.767413",
     "start_time": "2017-03-07T23:14:28.679205"
    },
    "collapsed": true
   },
   "outputs": [],
   "source": [
    "swaption2 = ql.NonstandardSwaption(underlying2, exercise)"
   ]
  },
  {
   "cell_type": "code",
   "execution_count": null,
   "metadata": {
    "ExecuteTime": {
     "end_time": "2017-03-07T23:14:28.848709",
     "start_time": "2017-03-07T23:14:28.768415"
    },
    "collapsed": true
   },
   "outputs": [],
   "source": [
    "swaption2.setPricingEngine(nonstandardSwaptionEngine)"
   ]
  },
  {
   "cell_type": "code",
   "execution_count": null,
   "metadata": {
    "ExecuteTime": {
     "end_time": "2017-03-07T23:14:28.981496",
     "start_time": "2017-03-07T23:14:28.849680"
    },
    "collapsed": true
   },
   "outputs": [],
   "source": [
    "basket = swaption2.calibrationBasket(swapBase, swaptionVol, \"MaturityStrikeByDeltaGamma\")"
   ]
  },
  {
   "cell_type": "code",
   "execution_count": null,
   "metadata": {
    "ExecuteTime": {
     "end_time": "2017-03-07T23:14:29.093385",
     "start_time": "2017-03-07T23:14:28.983263"
    },
    "collapsed": false
   },
   "outputs": [],
   "source": [
    "printBasket(basket)"
   ]
  },
  {
   "cell_type": "markdown",
   "metadata": {},
   "source": [
    "The notional is weighted over the underlying exercised into and the maturity is adjusted downwards. The rate on the other hand is not affected."
   ]
  },
  {
   "cell_type": "markdown",
   "metadata": {},
   "source": [
    "You can also price exotic bond's features. If you have e.g. a bermudan callable fixed bond you can set up the call right as a swaption to enter into a one leg swap with notional reimbursement at maturity. The exercise should then be written as a rebated exercise paying the notional in case of exercise."
   ]
  },
  {
   "cell_type": "code",
   "execution_count": null,
   "metadata": {
    "ExecuteTime": {
     "end_time": "2017-03-07T23:14:29.180258",
     "start_time": "2017-03-07T23:14:29.095390"
    },
    "collapsed": true
   },
   "outputs": [],
   "source": [
    "nominalFixed2 = [1.0]*len(nominalFixed)\n",
    "nominalFloating2 = [0.0]*len(nominalFloating)"
   ]
  },
  {
   "cell_type": "code",
   "execution_count": null,
   "metadata": {
    "ExecuteTime": {
     "end_time": "2017-03-07T23:14:29.272137",
     "start_time": "2017-03-07T23:14:29.181249"
    },
    "collapsed": true
   },
   "outputs": [],
   "source": [
    "underlying3 = ql.NonstandardSwap(ql.VanillaSwap.Receiver, nominalFixed2, nominalFloating2, fixedSchedule,\n",
    "                                              strikes, ql.Thirty360(), floatingSchedule, \n",
    "                                              euribor6m, [1.0]*(len(floatingSchedule)-1), [0.0]*(len(floatingSchedule)-1), ql.Actual360(),\n",
    "                                False, True)"
   ]
  },
  {
   "cell_type": "code",
   "execution_count": null,
   "metadata": {
    "ExecuteTime": {
     "end_time": "2017-03-07T23:14:29.358501",
     "start_time": "2017-03-07T23:14:29.273139"
    },
    "collapsed": false
   },
   "outputs": [],
   "source": [
    "exercise2 = ql.RebatedExercise(exercise, [-1.0]*len(exerciseDates), 2, ql.TARGET())"
   ]
  },
  {
   "cell_type": "code",
   "execution_count": null,
   "metadata": {
    "ExecuteTime": {
     "end_time": "2017-03-07T23:14:29.438410",
     "start_time": "2017-03-07T23:14:29.359435"
    },
    "collapsed": true
   },
   "outputs": [],
   "source": [
    "swaption3 = ql.NonstandardSwaption(underlying3, exercise2)"
   ]
  },
  {
   "cell_type": "code",
   "execution_count": null,
   "metadata": {
    "ExecuteTime": {
     "end_time": "2017-03-07T23:14:29.540378",
     "start_time": "2017-03-07T23:14:29.440412"
    },
    "collapsed": true
   },
   "outputs": [],
   "source": [
    "oas0 = ql.SimpleQuote(0.0)\n",
    "oas100 = ql.SimpleQuote(0.01)\n",
    "oas = ql.RelinkableQuoteHandle(oas0)"
   ]
  },
  {
   "cell_type": "code",
   "execution_count": null,
   "metadata": {
    "ExecuteTime": {
     "end_time": "2017-03-07T23:14:29.610608",
     "start_time": "2017-03-07T23:14:29.541389"
    },
    "collapsed": false
   },
   "outputs": [],
   "source": [
    "nonstandardSwaptionEngine2 = ql.Gaussian1dNonstandardSwaptionEngine(gsr, 64, 7.0, True, False, oas) #change discounting to 6m"
   ]
  },
  {
   "cell_type": "code",
   "execution_count": null,
   "metadata": {
    "ExecuteTime": {
     "end_time": "2017-03-07T23:14:29.693326",
     "start_time": "2017-03-07T23:14:29.611610"
    },
    "collapsed": true
   },
   "outputs": [],
   "source": [
    "swaption3.setPricingEngine(nonstandardSwaptionEngine2)"
   ]
  },
  {
   "cell_type": "code",
   "execution_count": null,
   "metadata": {
    "ExecuteTime": {
     "end_time": "2017-03-07T23:14:29.835487",
     "start_time": "2017-03-07T23:14:29.694326"
    },
    "collapsed": true
   },
   "outputs": [],
   "source": [
    "basket = swaption3.calibrationBasket(swapBase, swaptionVol, \"MaturityStrikeByDeltaGamma\")"
   ]
  },
  {
   "cell_type": "markdown",
   "metadata": {},
   "source": [
    "The calibration basket looks like this:"
   ]
  },
  {
   "cell_type": "code",
   "execution_count": null,
   "metadata": {
    "ExecuteTime": {
     "end_time": "2017-03-07T23:14:29.928653",
     "start_time": "2017-03-07T23:14:29.837083"
    },
    "collapsed": false
   },
   "outputs": [],
   "source": [
    "printBasket(basket)"
   ]
  },
  {
   "cell_type": "markdown",
   "metadata": {},
   "source": [
    "Note that nominals are not exactly 1.0 here. This is because we do our bond discounting on 6m level while the swaptions are still discounted on OIS level. (You can try this by changing the OIS level to the 6m level, which will produce nominals near 1.0). The npv of the call right is (after recalibrating the model):"
   ]
  },
  {
   "cell_type": "code",
   "execution_count": null,
   "metadata": {
    "ExecuteTime": {
     "end_time": "2017-03-07T23:14:30.017529",
     "start_time": "2017-03-07T23:14:29.930626"
    },
    "collapsed": true
   },
   "outputs": [],
   "source": [
    "for helper in basket:\n",
    "    helper.setPricingEngine(swaptionEngine)"
   ]
  },
  {
   "cell_type": "code",
   "execution_count": null,
   "metadata": {
    "ExecuteTime": {
     "end_time": "2017-03-07T23:14:30.319423",
     "start_time": "2017-03-07T23:14:30.018563"
    },
    "collapsed": true
   },
   "outputs": [],
   "source": [
    "gsr.calibrateVolatilitiesIterative(basket, method, ec)"
   ]
  },
  {
   "cell_type": "code",
   "execution_count": null,
   "metadata": {
    "ExecuteTime": {
     "end_time": "2017-03-07T23:14:30.463282",
     "start_time": "2017-03-07T23:14:30.320426"
    },
    "collapsed": false
   },
   "outputs": [],
   "source": [
    "print(\"Bond's bermudan call right npv = %.6f\" % swaption3.NPV())"
   ]
  },
  {
   "cell_type": "markdown",
   "metadata": {},
   "source": [
    "Up to now, no credit spread is included in the pricing. We can do so by specifying an oas in the pricing engine. Let's set the spread level to 100bp and regenerate the calibration basket."
   ]
  },
  {
   "cell_type": "code",
   "execution_count": null,
   "metadata": {
    "ExecuteTime": {
     "end_time": "2017-03-07T23:14:30.540305",
     "start_time": "2017-03-07T23:14:30.464283"
    },
    "collapsed": true
   },
   "outputs": [],
   "source": [
    "oas.linkTo(oas100) # Credit Spread 100bp"
   ]
  },
  {
   "cell_type": "code",
   "execution_count": null,
   "metadata": {
    "ExecuteTime": {
     "end_time": "2017-03-07T23:14:30.694461",
     "start_time": "2017-03-07T23:14:30.541290"
    },
    "collapsed": true
   },
   "outputs": [],
   "source": [
    "basket = swaption3.calibrationBasket(swapBase, swaptionVol, \"MaturityStrikeByDeltaGamma\")"
   ]
  },
  {
   "cell_type": "code",
   "execution_count": null,
   "metadata": {
    "ExecuteTime": {
     "end_time": "2017-03-07T23:14:30.775299",
     "start_time": "2017-03-07T23:14:30.695842"
    },
    "collapsed": false
   },
   "outputs": [],
   "source": [
    "printBasket(basket)"
   ]
  },
  {
   "cell_type": "markdown",
   "metadata": {},
   "source": [
    "The adjusted basket takes the credit spread into account. This is consistent to a hedge where you would have a margin on the float leg around 100bp, too."
   ]
  },
  {
   "cell_type": "code",
   "execution_count": null,
   "metadata": {
    "ExecuteTime": {
     "end_time": "2017-03-07T23:14:30.855286",
     "start_time": "2017-03-07T23:14:30.776281"
    },
    "collapsed": true
   },
   "outputs": [],
   "source": [
    "for helper in basket:\n",
    "    helper.setPricingEngine(swaptionEngine)"
   ]
  },
  {
   "cell_type": "code",
   "execution_count": null,
   "metadata": {
    "ExecuteTime": {
     "end_time": "2017-03-07T23:14:31.199502",
     "start_time": "2017-03-07T23:14:30.856313"
    },
    "collapsed": true
   },
   "outputs": [],
   "source": [
    "gsr.calibrateVolatilitiesIterative(basket, method, ec)"
   ]
  },
  {
   "cell_type": "code",
   "execution_count": null,
   "metadata": {
    "ExecuteTime": {
     "end_time": "2017-03-07T23:14:31.319646",
     "start_time": "2017-03-07T23:14:31.200508"
    },
    "collapsed": false
   },
   "outputs": [],
   "source": [
    "print(\"Bond's bermudan call right npv (oas = 100bp) = %.6f\" % swaption3.NPV())"
   ]
  },
  {
   "cell_type": "markdown",
   "metadata": {},
   "source": [
    "The next instrument we look at is a CMS 10Y vs Euribor 6M swaption. The maturity is again 10 years and the option is exercisable on a yearly basis"
   ]
  },
  {
   "cell_type": "code",
   "execution_count": null,
   "metadata": {
    "ExecuteTime": {
     "end_time": "2017-03-07T23:14:31.421642",
     "start_time": "2017-03-07T23:14:31.320652"
    },
    "collapsed": false
   },
   "outputs": [],
   "source": [
    "underlying4 = ql.FloatFloatSwap(ql.VanillaSwap.Payer, [1.0]*(len(fixedSchedule)-1), [1.0]*(len(floatingSchedule)-1), fixedSchedule,\n",
    "                               swapBase, ql.Thirty360(), floatingSchedule,\n",
    "                               euribor6m, ql.Actual360(), False, False,\n",
    "                               [1.0]*(len(fixedSchedule)-1),[0.0]*(len(fixedSchedule)-1),[] ,[] ,[1.0]*(len(floatingSchedule)-1),\n",
    "                                [0.001]*(len(floatingSchedule)-1),[],[])"
   ]
  },
  {
   "cell_type": "code",
   "execution_count": null,
   "metadata": {
    "ExecuteTime": {
     "end_time": "2017-03-07T23:14:31.522372",
     "start_time": "2017-03-07T23:14:31.422614"
    },
    "collapsed": false
   },
   "outputs": [],
   "source": [
    "swaption4 = ql.FloatFloatSwaption(underlying4, exercise)"
   ]
  },
  {
   "cell_type": "code",
   "execution_count": null,
   "metadata": {
    "ExecuteTime": {
     "end_time": "2017-03-07T23:14:31.620555",
     "start_time": "2017-03-07T23:14:31.523343"
    },
    "collapsed": false
   },
   "outputs": [],
   "source": [
    "floatSwaptionEngine = ql.Gaussian1dFloatFloatSwaptionEngine(gsr, 64, 7.0, True, False, ql.QuoteHandle(), ytsOis, True, \"Naive\")"
   ]
  },
  {
   "cell_type": "code",
   "execution_count": null,
   "metadata": {
    "ExecuteTime": {
     "end_time": "2017-03-07T23:14:31.720756",
     "start_time": "2017-03-07T23:14:31.621557"
    },
    "collapsed": true
   },
   "outputs": [],
   "source": [
    "swaption4.setPricingEngine(floatSwaptionEngine)"
   ]
  },
  {
   "cell_type": "markdown",
   "metadata": {},
   "source": [
    "Since the underlying is quite exotic already, we start with pricing this using the LinearTsrPricer for CMS coupon estimation"
   ]
  },
  {
   "cell_type": "code",
   "execution_count": null,
   "metadata": {
    "ExecuteTime": {
     "end_time": "2017-03-07T23:14:31.828756",
     "start_time": "2017-03-07T23:14:31.721727"
    },
    "collapsed": false
   },
   "outputs": [],
   "source": [
    "reversionQuote=ql.QuoteHandle(ql.SimpleQuote(reversion))"
   ]
  },
  {
   "cell_type": "code",
   "execution_count": null,
   "metadata": {
    "ExecuteTime": {
     "end_time": "2017-03-07T23:14:31.928127",
     "start_time": "2017-03-07T23:14:31.830753"
    },
    "collapsed": true
   },
   "outputs": [],
   "source": [
    "leg0 = underlying4.leg(0)\n",
    "leg1 = underlying4.leg(1)"
   ]
  },
  {
   "cell_type": "code",
   "execution_count": null,
   "metadata": {
    "ExecuteTime": {
     "end_time": "2017-03-07T23:14:32.010153",
     "start_time": "2017-03-07T23:14:31.929161"
    },
    "collapsed": false
   },
   "outputs": [],
   "source": [
    "cmsPricer = ql.LinearTsrPricer(swaptionVolHandle, reversionQuote)"
   ]
  },
  {
   "cell_type": "code",
   "execution_count": null,
   "metadata": {
    "ExecuteTime": {
     "end_time": "2017-03-07T23:14:32.091102",
     "start_time": "2017-03-07T23:14:32.011149"
    },
    "collapsed": true
   },
   "outputs": [],
   "source": [
    "ql.setCouponPricer(leg0,cmsPricer)"
   ]
  },
  {
   "cell_type": "code",
   "execution_count": null,
   "metadata": {
    "ExecuteTime": {
     "end_time": "2017-03-07T23:14:32.168527",
     "start_time": "2017-03-07T23:14:32.092102"
    },
    "collapsed": true
   },
   "outputs": [],
   "source": [
    "iborPricer = ql.BlackIborCouponPricer()"
   ]
  },
  {
   "cell_type": "code",
   "execution_count": null,
   "metadata": {
    "ExecuteTime": {
     "end_time": "2017-03-07T23:14:32.267730",
     "start_time": "2017-03-07T23:14:32.170523"
    },
    "collapsed": true
   },
   "outputs": [],
   "source": [
    "ql.setCouponPricer(leg1,iborPricer)"
   ]
  },
  {
   "cell_type": "code",
   "execution_count": null,
   "metadata": {
    "ExecuteTime": {
     "end_time": "2017-03-07T23:14:32.383257",
     "start_time": "2017-03-07T23:14:32.269707"
    },
    "collapsed": true
   },
   "outputs": [],
   "source": [
    "swapPricer = ql.DiscountingSwapEngine(ytsOis)"
   ]
  },
  {
   "cell_type": "code",
   "execution_count": null,
   "metadata": {
    "ExecuteTime": {
     "end_time": "2017-03-07T23:14:32.466947",
     "start_time": "2017-03-07T23:14:32.384260"
    },
    "collapsed": true
   },
   "outputs": [],
   "source": [
    "underlying4.setPricingEngine(swapPricer)"
   ]
  },
  {
   "cell_type": "code",
   "execution_count": null,
   "metadata": {
    "ExecuteTime": {
     "end_time": "2017-03-07T23:14:32.560225",
     "start_time": "2017-03-07T23:14:32.468953"
    },
    "collapsed": false
   },
   "outputs": [],
   "source": [
    "npv5 = underlying4.NPV()"
   ]
  },
  {
   "cell_type": "code",
   "execution_count": null,
   "metadata": {
    "ExecuteTime": {
     "end_time": "2017-03-07T23:14:32.649871",
     "start_time": "2017-03-07T23:14:32.561191"
    },
    "collapsed": false
   },
   "outputs": [],
   "source": [
    "print(\"Underlying CMS Swap NPV = %.6f\" % npv5)"
   ]
  },
  {
   "cell_type": "code",
   "execution_count": null,
   "metadata": {
    "ExecuteTime": {
     "end_time": "2017-03-07T23:14:32.733913",
     "start_time": "2017-03-07T23:14:32.651597"
    },
    "collapsed": false
   },
   "outputs": [],
   "source": [
    "print(\"       CMS     Leg  NPV = %.6f\" % underlying4.legNPV(0))"
   ]
  },
  {
   "cell_type": "code",
   "execution_count": null,
   "metadata": {
    "ExecuteTime": {
     "end_time": "2017-03-07T23:14:32.840055",
     "start_time": "2017-03-07T23:14:32.734889"
    },
    "collapsed": false
   },
   "outputs": [],
   "source": [
    "print(\"       Euribor Leg  NPV = %.6f\" % underlying4.legNPV(1))"
   ]
  },
  {
   "cell_type": "markdown",
   "metadata": {},
   "source": [
    "We generate a naive calibration basket and calibrate the GSR model to it:"
   ]
  },
  {
   "cell_type": "code",
   "execution_count": null,
   "metadata": {
    "ExecuteTime": {
     "end_time": "2017-03-07T23:14:32.917431",
     "start_time": "2017-03-07T23:14:32.841057"
    },
    "collapsed": false
   },
   "outputs": [],
   "source": [
    "basket = swaption4.calibrationBasket(swapBase, swaptionVol, \"Naive\");"
   ]
  },
  {
   "cell_type": "code",
   "execution_count": null,
   "metadata": {
    "ExecuteTime": {
     "end_time": "2017-03-07T23:14:33.005956",
     "start_time": "2017-03-07T23:14:32.918434"
    },
    "collapsed": true
   },
   "outputs": [],
   "source": [
    "for helper in basket:\n",
    "    helper.setPricingEngine(swaptionEngine)"
   ]
  },
  {
   "cell_type": "code",
   "execution_count": null,
   "metadata": {
    "ExecuteTime": {
     "end_time": "2017-03-07T23:14:33.348112",
     "start_time": "2017-03-07T23:14:33.007590"
    },
    "collapsed": true
   },
   "outputs": [],
   "source": [
    "gsr.calibrateVolatilitiesIterative(basket, method, ec)"
   ]
  },
  {
   "cell_type": "code",
   "execution_count": null,
   "metadata": {
    "ExecuteTime": {
     "end_time": "2017-03-07T23:14:33.463904",
     "start_time": "2017-03-07T23:14:33.350107"
    },
    "collapsed": false
   },
   "outputs": [],
   "source": [
    "printBasket(basket)"
   ]
  },
  {
   "cell_type": "code",
   "execution_count": null,
   "metadata": {
    "ExecuteTime": {
     "end_time": "2017-03-07T23:14:33.590707",
     "start_time": "2017-03-07T23:14:33.465883"
    },
    "collapsed": false
   },
   "outputs": [],
   "source": [
    "printModelCalibration(basket, gsr.volatility())"
   ]
  },
  {
   "cell_type": "code",
   "execution_count": null,
   "metadata": {
    "ExecuteTime": {
     "end_time": "2017-03-07T23:14:33.803005",
     "start_time": "2017-03-07T23:14:33.591709"
    },
    "collapsed": true
   },
   "outputs": [],
   "source": [
    "npv6 = swaption4.NPV()"
   ]
  },
  {
   "cell_type": "markdown",
   "metadata": {},
   "source": [
    "The npv of the bermudan swaption is"
   ]
  },
  {
   "cell_type": "code",
   "execution_count": null,
   "metadata": {
    "ExecuteTime": {
     "end_time": "2017-03-07T23:14:33.891608",
     "start_time": "2017-03-07T23:14:33.803975"
    },
    "collapsed": false
   },
   "outputs": [],
   "source": [
    "print(\"Float swaption NPV (GSR) = %.6f\" % npv6)"
   ]
  },
  {
   "cell_type": "markdown",
   "metadata": {},
   "source": [
    "In this case it is also interesting to look at the underlying swap npv in the GSR model."
   ]
  },
  {
   "cell_type": "code",
   "execution_count": null,
   "metadata": {
    "ExecuteTime": {
     "end_time": "2017-03-07T23:14:34.001593",
     "start_time": "2017-03-07T23:14:33.892610"
    },
    "collapsed": false
   },
   "outputs": [],
   "source": [
    "print(\"Float swap NPV (GSR) = %.6f\" % swaption4.underlyingValue())"
   ]
  },
  {
   "cell_type": "code",
   "execution_count": null,
   "metadata": {
    "collapsed": false
   },
   "outputs": [],
   "source": [
    "probResult = swaption4.probabilites()"
   ]
  },
  {
   "cell_type": "code",
   "execution_count": null,
   "metadata": {
    "collapsed": false
   },
   "outputs": [],
   "source": [
    "print(\"Call probabilities (Naive):\")\n",
    "for prob in probResult:\n",
    "    print (\"%.4f\" % prob)"
   ]
  },
  {
   "cell_type": "code",
   "execution_count": null,
   "metadata": {
    "collapsed": true
   },
   "outputs": [],
   "source": [
    "floatSwaptionEngine2 = ql.Gaussian1dFloatFloatSwaptionEngine(gsr, 64, 7.0, True, False, ql.QuoteHandle(), ytsOis, True, \"Digital\")"
   ]
  },
  {
   "cell_type": "code",
   "execution_count": null,
   "metadata": {
    "collapsed": true
   },
   "outputs": [],
   "source": [
    "swaption4.setPricingEngine(floatSwaptionEngine2)\n",
    "probResult2 = swaption4.probabilites()"
   ]
  },
  {
   "cell_type": "code",
   "execution_count": null,
   "metadata": {
    "collapsed": false
   },
   "outputs": [],
   "source": [
    "print(\"Call probabilities (Digital):\")\n",
    "for prob in probResult2:\n",
    "    print (\"%.4f\" % prob)"
   ]
  },
  {
   "cell_type": "markdown",
   "metadata": {},
   "source": [
    "Not surprisingly, the underlying is priced differently compared to the LinearTsrPricer, since a different smile is implied by the GSR model."
   ]
  },
  {
   "cell_type": "markdown",
   "metadata": {},
   "source": [
    "This is exactly where the Markov functional model comes into play, because it can calibrate to any given underlying smile (as long as it is arbitrage free). We try this now. Of course the usual use case is not to calibrate to a flat smile as in our simple example, still it should be possible, of course..."
   ]
  },
  {
   "cell_type": "code",
   "execution_count": null,
   "metadata": {
    "ExecuteTime": {
     "end_time": "2017-03-07T23:14:34.092912",
     "start_time": "2017-03-07T23:14:34.002595"
    },
    "collapsed": true
   },
   "outputs": [],
   "source": [
    "markovStepDates = exerciseDates"
   ]
  },
  {
   "cell_type": "code",
   "execution_count": null,
   "metadata": {
    "ExecuteTime": {
     "end_time": "2017-03-07T23:14:34.216242",
     "start_time": "2017-03-07T23:14:34.093916"
    },
    "collapsed": true
   },
   "outputs": [],
   "source": [
    "cmsFixingDates = markovStepDates"
   ]
  },
  {
   "cell_type": "code",
   "execution_count": null,
   "metadata": {
    "ExecuteTime": {
     "end_time": "2017-03-07T23:14:34.333003",
     "start_time": "2017-03-07T23:14:34.217245"
    },
    "collapsed": true
   },
   "outputs": [],
   "source": [
    "markovSigmas = [0.01 for i in range(0, len(markovStepDates)+1)]"
   ]
  },
  {
   "cell_type": "code",
   "execution_count": null,
   "metadata": {
    "ExecuteTime": {
     "end_time": "2017-03-07T23:14:34.423914",
     "start_time": "2017-03-07T23:14:34.334976"
    },
    "collapsed": true
   },
   "outputs": [],
   "source": [
    "tenors = [ql.Period(10,ql.Years) for i in cmsFixingDates]"
   ]
  },
  {
   "cell_type": "code",
   "execution_count": null,
   "metadata": {
    "ExecuteTime": {
     "end_time": "2017-03-07T23:15:04.588324",
     "start_time": "2017-03-07T23:15:04.585315"
    },
    "collapsed": false
   },
   "outputs": [],
   "source": [
    "markov = ql.MarkovFunctional(yts6m, reversion, markovStepDates, markovSigmas, swaptionVolHandle,\n",
    "                            cmsFixingDates, tenors, swapBase, 16)"
   ]
  },
  {
   "cell_type": "code",
   "execution_count": null,
   "metadata": {
    "ExecuteTime": {
     "end_time": "2017-03-07T23:15:06.586373",
     "start_time": "2017-03-07T23:15:06.584367"
    },
    "collapsed": true
   },
   "outputs": [],
   "source": [
    "swaptionEngineMarkov = ql.Gaussian1dSwaptionEngine(markov, 8, 5.0, True, False, ytsOis)"
   ]
  },
  {
   "cell_type": "code",
   "execution_count": null,
   "metadata": {
    "ExecuteTime": {
     "end_time": "2017-03-07T23:15:07.139580",
     "start_time": "2017-03-07T23:15:07.136559"
    },
    "collapsed": true
   },
   "outputs": [],
   "source": [
    "floatEngineMarkov = ql.Gaussian1dFloatFloatSwaptionEngine(markov, 16, 7.0, True, False, ql.QuoteHandle(), ytsOis, True, \"Naive\")"
   ]
  },
  {
   "cell_type": "code",
   "execution_count": null,
   "metadata": {
    "ExecuteTime": {
     "end_time": "2017-03-07T23:15:07.587307",
     "start_time": "2017-03-07T23:15:07.585301"
    },
    "collapsed": true
   },
   "outputs": [],
   "source": [
    "swaption4.setPricingEngine(floatEngineMarkov)"
   ]
  },
  {
   "cell_type": "code",
   "execution_count": null,
   "metadata": {
    "ExecuteTime": {
     "end_time": "2017-03-07T23:15:08.060048",
     "start_time": "2017-03-07T23:15:07.975813"
    },
    "collapsed": true
   },
   "outputs": [],
   "source": [
    "npv7 = swaption4.NPV()"
   ]
  },
  {
   "cell_type": "markdown",
   "metadata": {},
   "source": [
    "The option npv is the markov model is:"
   ]
  },
  {
   "cell_type": "code",
   "execution_count": null,
   "metadata": {
    "ExecuteTime": {
     "end_time": "2017-03-07T23:15:09.203575",
     "start_time": "2017-03-07T23:15:09.201570"
    },
    "collapsed": false
   },
   "outputs": [],
   "source": [
    "print(\"Float swaption NPV (Markov) = %.6f\" % npv7)"
   ]
  },
  {
   "cell_type": "markdown",
   "metadata": {},
   "source": [
    "This is not too far from the GSR price."
   ]
  },
  {
   "cell_type": "markdown",
   "metadata": {},
   "source": [
    "More interesting is the question how well the Markov model did its job to match our input smile. For this we look at the underlying npv under the Markov model"
   ]
  },
  {
   "cell_type": "code",
   "execution_count": null,
   "metadata": {
    "ExecuteTime": {
     "end_time": "2017-03-07T23:15:11.387305",
     "start_time": "2017-03-07T23:15:11.384297"
    },
    "collapsed": false
   },
   "outputs": [],
   "source": [
    "print(\"Float swap NPV (Markov) = %.6f\" % swaption4.underlyingValue())"
   ]
  },
  {
   "cell_type": "code",
   "execution_count": null,
   "metadata": {
    "collapsed": false
   },
   "outputs": [],
   "source": [
    "probResult3 = swaption4.probabilites()\n",
    "print(\"Call probabilities (Digital):\")\n",
    "for prob in probResult3:\n",
    "    print (\"%.4f\" % prob)"
   ]
  },
  {
   "cell_type": "markdown",
   "metadata": {
    "collapsed": true
   },
   "source": [
    "This is closer to our terminal swap rate model price. A perfect match is not expected anyway, because the dynamics of the underlying rate in the linear model is different from the Markov model, of course."
   ]
  },
  {
   "cell_type": "markdown",
   "metadata": {},
   "source": [
    "The Markov model can not only calibrate to the underlying smile, but has at the same time a sigma function (similar to the GSR model) which can be used to calibrate to a second instrument set. We do this here to calibrate to our coterminal ATM swaptions from above."
   ]
  },
  {
   "cell_type": "markdown",
   "metadata": {},
   "source": [
    "This is a computationally demanding task, so depending on your machine, this may take a while now..."
   ]
  },
  {
   "cell_type": "code",
   "execution_count": null,
   "metadata": {
    "ExecuteTime": {
     "end_time": "2017-03-07T23:15:13.690833",
     "start_time": "2017-03-07T23:15:13.687804"
    },
    "collapsed": false
   },
   "outputs": [],
   "source": [
    "l=ql.FixedRateLeg(fixedSchedule, ql.Actual360(),[1.0],[0.01])"
   ]
  },
  {
   "cell_type": "code",
   "execution_count": null,
   "metadata": {
    "ExecuteTime": {
     "end_time": "2017-03-07T23:15:14.179774",
     "start_time": "2017-03-07T23:15:14.175745"
    },
    "collapsed": false
   },
   "outputs": [],
   "source": [
    "for helper in basket:\n",
    "    helper.setPricingEngine(swaptionEngineMarkov)"
   ]
  },
  {
   "cell_type": "code",
   "execution_count": null,
   "metadata": {
    "ExecuteTime": {
     "end_time": "2017-03-07T23:15:19.471158",
     "start_time": "2017-03-07T23:15:14.656357"
    },
    "collapsed": false
   },
   "outputs": [],
   "source": [
    "markov.calibrate(basket, method, ec)"
   ]
  },
  {
   "cell_type": "code",
   "execution_count": null,
   "metadata": {
    "ExecuteTime": {
     "end_time": "2017-03-07T23:15:19.593638",
     "start_time": "2017-03-07T23:15:19.472172"
    },
    "collapsed": false
   },
   "outputs": [],
   "source": [
    "printModelCalibration(basket, markov.volatility())"
   ]
  },
  {
   "cell_type": "markdown",
   "metadata": {},
   "source": [
    "Now let's have a look again at the underlying pricing. It shouldn't have changed much, because the underlying smile is still matched."
   ]
  },
  {
   "cell_type": "code",
   "execution_count": null,
   "metadata": {
    "ExecuteTime": {
     "end_time": "2017-03-07T23:15:19.708785",
     "start_time": "2017-03-07T23:15:19.594614"
    },
    "collapsed": true
   },
   "outputs": [],
   "source": [
    "npv8 = swaption4.underlyingValue()"
   ]
  },
  {
   "cell_type": "code",
   "execution_count": null,
   "metadata": {
    "ExecuteTime": {
     "end_time": "2017-03-07T23:15:19.783744",
     "start_time": "2017-03-07T23:15:19.709790"
    },
    "collapsed": false
   },
   "outputs": [],
   "source": [
    "print(\"Float swap NPV (Markov) = %.6f\" % npv8)"
   ]
  },
  {
   "cell_type": "markdown",
   "metadata": {},
   "source": [
    "This is close to the previous value as expected."
   ]
  },
  {
   "cell_type": "markdown",
   "metadata": {},
   "source": [
    "As a final remark we note that the calibration to coterminal swaptions is not particularly reasonable here, because the european call rights are not well represented by these swaptions. Secondly, our CMS swaption is sensitive to the correlation between the 10y swap rate and the Euribor 6M rate. Since the Markov model is one factor by construction."
   ]
  }
 ],
 "metadata": {
  "kernelspec": {
   "display_name": "Python 3",
   "language": "python",
   "name": "python3"
  },
  "language_info": {
   "codemirror_mode": {
    "name": "ipython",
    "version": 3
   },
   "file_extension": ".py",
   "mimetype": "text/x-python",
   "name": "python",
   "nbconvert_exporter": "python",
   "pygments_lexer": "ipython3",
   "version": "3.5.2"
  }
 },
 "nbformat": 4,
 "nbformat_minor": 1
}
