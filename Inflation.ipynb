{
 "cells": [
  {
   "cell_type": "code",
   "execution_count": 1,
   "metadata": {},
   "outputs": [],
   "source": [
    "import QuantLib as ql"
   ]
  },
  {
   "cell_type": "code",
   "execution_count": 2,
   "metadata": {},
   "outputs": [],
   "source": [
    "euhicp = ql.EUHICP(True)"
   ]
  },
  {
   "cell_type": "code",
   "execution_count": 3,
   "metadata": {},
   "outputs": [],
   "source": [
    "evaluationDate = ql.Date(13, ql.August, 2007)\n",
    "evaluationDate = ql.UnitedKingdom().adjust(evaluationDate)\n",
    "ql.Settings.instance().evaluationDate = evaluationDate"
   ]
  },
  {
   "cell_type": "code",
   "execution_count": 4,
   "metadata": {},
   "outputs": [],
   "source": [
    "swap_type = ql.CPISwap.Payer"
   ]
  },
  {
   "cell_type": "code",
   "execution_count": 5,
   "metadata": {},
   "outputs": [],
   "source": [
    "nominal = 1000000.0\n",
    "subtractInflationNominal = True\n",
    "spread = 0.0\n",
    "floatDayCount = ql.Actual365Fixed()\n",
    "floatPaymentConvention = ql.ModifiedFollowing"
   ]
  },
  {
   "cell_type": "code",
   "execution_count": 6,
   "metadata": {},
   "outputs": [],
   "source": [
    "nomD = [\n",
    "                ql.Date(26, ql.November, 2009),\n",
    "                ql.Date(2, ql.December, 2009), \n",
    "                ql.Date(29, ql.December, 2009),\n",
    "                ql.Date(25, ql.February, 2010),\n",
    "                ql.Date(18, ql.March, 2010), \n",
    "                ql.Date(25, ql.May, 2010), \n",
    "                ql.Date(16, ql.September, 2010),\n",
    "                ql.Date(16, ql.December, 2010),\n",
    "                ql.Date(17, ql.March, 2011), \n",
    "                ql.Date(16, ql.June, 2011), \n",
    "                ql.Date(22, ql.September, 2011),\n",
    "                ql.Date(25, ql.November, 2011),\n",
    "                ql.Date(26, ql.November, 2012),\n",
    "                ql.Date(25, ql.November, 2013),\n",
    "                ql.Date(25, ql.November, 2014),\n",
    "                ql.Date(25, ql.November, 2015),\n",
    "                ql.Date(25, ql.November, 2016),\n",
    "                ql.Date(27, ql.November, 2017),\n",
    "                ql.Date(26, ql.November, 2018),\n",
    "                ql.Date(25, ql.November, 2019),\n",
    "                ql.Date(25, ql.November, 2021),\n",
    "                ql.Date(25, ql.November, 2024),\n",
    "                ql.Date(26, ql.November, 2029),\n",
    "                ql.Date(27, ql.November, 2034),\n",
    "                ql.Date(25, ql.November, 2039),\n",
    "                ql.Date(25, ql.November, 2049),\n",
    "                ql.Date(25, ql.November, 2059),\n",
    "                ql.Date(25, ql.November, 2069),\n",
    "                ql.Date(27, ql.November, 2079)\n",
    "        ]"
   ]
  },
  {
   "cell_type": "code",
   "execution_count": 7,
   "metadata": {},
   "outputs": [],
   "source": [
    "nomR = [\n",
    "                    0.475    ,\n",
    "                0.47498 ,\n",
    "                0.49988 ,\n",
    "                0.59955 ,\n",
    "                0.65361 ,\n",
    "                0.82830 ,\n",
    "                0.78960 ,\n",
    "                0.93762 ,\n",
    "                1.12037 ,\n",
    "                1.31308 ,\n",
    "                1.52011 ,\n",
    "                1.78399 ,\n",
    "                2.41170 ,\n",
    "                2.83935 ,\n",
    "                3.12888 ,\n",
    "                3.34298 ,\n",
    "                3.50632 ,\n",
    "                3.63666 ,\n",
    "                3.74723 ,\n",
    "                3.83988 ,\n",
    "                4.00508 ,\n",
    "                4.16042 ,\n",
    "                4.15577 ,\n",
    "                4.04933 ,\n",
    "                3.95217 ,\n",
    "                3.80932 ,\n",
    "                3.80849 ,\n",
    "                3.72677 ,\n",
    "                3.63082 \n",
    "]"
   ]
  },
  {
   "cell_type": "code",
   "execution_count": 8,
   "metadata": {},
   "outputs": [],
   "source": [
    "nomR = [r/100. for r in nomR]"
   ]
  },
  {
   "cell_type": "code",
   "execution_count": 9,
   "metadata": {},
   "outputs": [],
   "source": [
    "dcNominal = ql.ActualActual()\n",
    "\n",
    "nominal = ql.ZeroCurve(nomD, nomR, dcNominal)\n",
    "\n",
    "nominalTS = ql.RelinkableYieldTermStructureHandle()\n",
    "nominalTS.linkTo(nominal)"
   ]
  },
  {
   "cell_type": "code",
   "execution_count": null,
   "metadata": {},
   "outputs": [],
   "source": []
  },
  {
   "cell_type": "code",
   "execution_count": 10,
   "metadata": {},
   "outputs": [],
   "source": [
    "fixingDays = 0\n",
    "\n",
    "\n",
    "\n",
    "floatIndex = ql.GBPLibor(ql.Period(\"6M\"), nominalTS)"
   ]
  },
  {
   "cell_type": "code",
   "execution_count": 11,
   "metadata": {},
   "outputs": [],
   "source": [
    "fixedRate = 0.1\n",
    "baseCPI = 206.1\n",
    "fixedDayCount = ql.Actual365Fixed()"
   ]
  },
  {
   "cell_type": "code",
   "execution_count": 12,
   "metadata": {},
   "outputs": [],
   "source": [
    "fixedPaymentConvention = ql.ModifiedFollowing\n",
    "fixedPaymentCalendar = ql.UnitedKingdom()"
   ]
  },
  {
   "cell_type": "code",
   "execution_count": 13,
   "metadata": {},
   "outputs": [],
   "source": [
    "hcpi = ql.RelinkableZeroInflationTermStructureHandle()\n",
    "fixedIndex = ql.UKRPI(False, hcpi)\n",
    "calendar = ql.UnitedKingdom()\n",
    "dcZCIIS = ql.ActualActual()\n",
    "observationLag = ql.Period(2,ql.Months)\n",
    "baseZeroRate = 3.0495 / 100\n",
    "\n",
    "helpers = [ql.ZeroCouponInflationSwapHelper(0.01, ql.Period(\"2M\"), evaluationDate+ql.Period(\"1Y\"), calendar, ql.ModifiedFollowing, dcZCIIS, fixedIndex)]\n",
    "pCPIts = ql.PiecewiseZeroInflation(evaluationDate, calendar, dcZCIIS, observationLag, fixedIndex.frequency(),\n",
    "                                  fixedIndex.interpolated(), baseZeroRate, ql.YieldTermStructureHandle(ql.FlatForward(evaluationDate,0.03,ql.Actual365Fixed())),\n",
    "                                  helpers)\n",
    "pCPIts.enableExtrapolation()\n",
    "hcpi.linkTo(pCPIts)\n"
   ]
  },
  {
   "cell_type": "code",
   "execution_count": 14,
   "metadata": {},
   "outputs": [],
   "source": [
    "fixedIndex = ql.UKRPI(False, hcpi)"
   ]
  },
  {
   "cell_type": "code",
   "execution_count": 15,
   "metadata": {},
   "outputs": [],
   "source": [
    "stype = ql.CPISwap.Payer\n",
    "nominal = 1000000.0\n",
    "inflationNominal = nominal\n",
    "quote = 0.03714\n",
    "floatNominal = inflationNominal * (1.0+quote)**50\n",
    "dummySpread = 0.0\n",
    "dummyFixedRate = 0.0\n",
    "dummyDC = ql.ActualActual()\n",
    "endDate = ql.Date(25, ql.November, 2059)\n",
    "oneDate = [endDate]\n",
    "cal = ql.UnitedKingdom()\n",
    "paymentConvention = ql.ModifiedFollowing\n",
    "schOneDate = ql.Schedule(oneDate, cal, paymentConvention)\n",
    "dummyFloatIndex = ql.Euribor6M(ql.YieldTermStructureHandle(ql.FlatForward(evaluationDate,0.03,ql.Actual365Fixed(), True)))"
   ]
  },
  {
   "cell_type": "code",
   "execution_count": 16,
   "metadata": {},
   "outputs": [],
   "source": [
    "cS = ql.CPISwap(stype, floatNominal, subtractInflationNominal, dummySpread, dummyDC, schOneDate,\n",
    "               paymentConvention, fixingDays, dummyFloatIndex,\n",
    "               dummyFixedRate, baseCPI, dummyDC, schOneDate, paymentConvention, observationLag,\n",
    "               fixedIndex, ql.CPI.AsIndex, inflationNominal)"
   ]
  },
  {
   "cell_type": "code",
   "execution_count": 17,
   "metadata": {},
   "outputs": [],
   "source": [
    "dse = ql.DiscountingSwapEngine(nominalTS)"
   ]
  },
  {
   "cell_type": "code",
   "execution_count": 18,
   "metadata": {},
   "outputs": [],
   "source": [
    "cS.setPricingEngine(dse)"
   ]
  },
  {
   "cell_type": "code",
   "execution_count": 19,
   "metadata": {},
   "outputs": [],
   "source": [
    "fixedIndex.clearFixings()\n",
    "fixedIndex.addFixing(ql.Date(1,6,2007), 1.0)"
   ]
  },
  {
   "cell_type": "code",
   "execution_count": 20,
   "metadata": {},
   "outputs": [
    {
     "data": {
      "text/plain": [
       "nan"
      ]
     },
     "execution_count": 20,
     "metadata": {},
     "output_type": "execute_result"
    }
   ],
   "source": [
    "cS.NPV()"
   ]
  }
 ],
 "metadata": {
  "kernelspec": {
   "display_name": "Python 3",
   "language": "python",
   "name": "python3"
  },
  "language_info": {
   "codemirror_mode": {
    "name": "ipython",
    "version": 3
   },
   "file_extension": ".py",
   "mimetype": "text/x-python",
   "name": "python",
   "nbconvert_exporter": "python",
   "pygments_lexer": "ipython3",
   "version": "3.6.3"
  }
 },
 "nbformat": 4,
 "nbformat_minor": 2
}
