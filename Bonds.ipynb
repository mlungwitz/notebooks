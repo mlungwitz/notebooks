{
 "cells": [
  {
   "cell_type": "code",
   "execution_count": 1,
   "metadata": {},
   "outputs": [],
   "source": [
    "import QuantLib"
   ]
  },
  {
   "cell_type": "code",
   "execution_count": 2,
   "metadata": {},
   "outputs": [],
   "source": [
    "QuantLib.Settings.instance().setEvaluationDate(QuantLib.Date(2,1,2010))"
   ]
  },
  {
   "cell_type": "code",
   "execution_count": 3,
   "metadata": {},
   "outputs": [],
   "source": [
    "settlement_days = 3\n",
    "face_amount = 100.0\n",
    "redemption = 100.0\n",
    "issue_date = QuantLib.Date(2,1,2008)\n",
    "maturity_date = QuantLib.Date(2,1,2018)\n",
    "calendar = QuantLib.UnitedStates(QuantLib.UnitedStates.GovernmentBond)\n",
    "day_counter = QuantLib.ActualActual(QuantLib.ActualActual.Bond)\n",
    "sched = QuantLib.Schedule(issue_date, maturity_date,\n",
    "                               QuantLib.Period(QuantLib.Semiannual), calendar,\n",
    "                               QuantLib.Unadjusted, QuantLib.Unadjusted,\n",
    "                               QuantLib.DateGeneration.Backward, False)\n",
    "coupons = [0.05]\n",
    "\n",
    "bond = QuantLib.FixedRateBond(settlement_days, face_amount,\n",
    "                                   sched, coupons, day_counter,\n",
    "                                   QuantLib.Following, redemption,\n",
    "                                   issue_date)\n",
    "\n",
    "flat_forward = QuantLib.FlatForward(issue_date,\n",
    "                                    coupons[0], day_counter,\n",
    "                                    QuantLib.Compounded, QuantLib.Semiannual)\n",
    "term_structure_handle = QuantLib.RelinkableYieldTermStructureHandle(flat_forward)\n",
    "bondEngine = QuantLib.DiscountingBondEngine(term_structure_handle)\n",
    "bond.setPricingEngine(bondEngine)"
   ]
  },
  {
   "cell_type": "code",
   "execution_count": 15,
   "metadata": {},
   "outputs": [
    {
     "data": {
      "text/plain": [
       "Date(6,1,2010)"
      ]
     },
     "execution_count": 15,
     "metadata": {},
     "output_type": "execute_result"
    }
   ],
   "source": [
    "bond.settlementDate()"
   ]
  },
  {
   "cell_type": "code",
   "execution_count": 17,
   "metadata": {},
   "outputs": [
    {
     "data": {
      "text/plain": [
       "0.0"
      ]
     },
     "execution_count": 17,
     "metadata": {},
     "output_type": "execute_result"
    }
   ],
   "source": [
    "bond.previousCouponRate(issue_date)"
   ]
  },
  {
   "cell_type": "code",
   "execution_count": 16,
   "metadata": {},
   "outputs": [
    {
     "data": {
      "text/plain": [
       "0.05"
      ]
     },
     "execution_count": 16,
     "metadata": {},
     "output_type": "execute_result"
    }
   ],
   "source": [
    "bond.previousCouponRate()"
   ]
  },
  {
   "cell_type": "code",
   "execution_count": 14,
   "metadata": {},
   "outputs": [
    {
     "data": {
      "text/plain": [
       "0.05"
      ]
     },
     "execution_count": 14,
     "metadata": {},
     "output_type": "execute_result"
    }
   ],
   "source": [
    "bond.previousCouponRate(issue_date+QuantLib.Period(\"11M\"))"
   ]
  },
  {
   "cell_type": "code",
   "execution_count": 5,
   "metadata": {},
   "outputs": [
    {
     "data": {
      "text/plain": [
       "0.0"
      ]
     },
     "execution_count": 5,
     "metadata": {},
     "output_type": "execute_result"
    }
   ],
   "source": [
    "QuantLib.BondFunctions.previousCouponRate(bond, issue_date)"
   ]
  },
  {
   "cell_type": "code",
   "execution_count": 19,
   "metadata": {},
   "outputs": [],
   "source": [
    "cfs=bond.cashflows()"
   ]
  },
  {
   "cell_type": "code",
   "execution_count": 21,
   "metadata": {},
   "outputs": [
    {
     "name": "stdout",
     "output_type": "stream",
     "text": [
      "July 2nd, 2008 2.499999999999991\n",
      "January 2nd, 2009 2.499999999999991\n",
      "July 2nd, 2009 2.499999999999991\n",
      "January 4th, 2010 2.499999999999991\n",
      "July 2nd, 2010 2.499999999999991\n",
      "January 3rd, 2011 2.499999999999991\n",
      "July 5th, 2011 2.499999999999991\n",
      "January 3rd, 2012 2.499999999999991\n",
      "July 2nd, 2012 2.499999999999991\n",
      "January 2nd, 2013 2.499999999999991\n",
      "July 2nd, 2013 2.499999999999991\n",
      "January 2nd, 2014 2.499999999999991\n",
      "July 2nd, 2014 2.499999999999991\n",
      "January 2nd, 2015 2.499999999999991\n",
      "July 2nd, 2015 2.499999999999991\n",
      "January 4th, 2016 2.499999999999991\n",
      "July 5th, 2016 2.499999999999991\n",
      "January 3rd, 2017 2.499999999999991\n",
      "July 3rd, 2017 2.499999999999991\n",
      "January 2nd, 2018 2.499999999999991\n",
      "January 2nd, 2018 100.0\n"
     ]
    }
   ],
   "source": [
    "for cf in cfs:\n",
    "    print(cf.date(), cf.amount())\n",
    "    "
   ]
  },
  {
   "cell_type": "code",
   "execution_count": null,
   "metadata": {},
   "outputs": [],
   "source": [
    "QuantLib.CashFlows."
   ]
  }
 ],
 "metadata": {
  "kernelspec": {
   "display_name": "Python 3",
   "language": "python",
   "name": "python3"
  },
  "language_info": {
   "codemirror_mode": {
    "name": "ipython",
    "version": 3
   },
   "file_extension": ".py",
   "mimetype": "text/x-python",
   "name": "python",
   "nbconvert_exporter": "python",
   "pygments_lexer": "ipython3",
   "version": "3.6.3"
  }
 },
 "nbformat": 4,
 "nbformat_minor": 2
}
