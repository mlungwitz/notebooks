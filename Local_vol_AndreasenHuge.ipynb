{
 "cells": [
  {
   "cell_type": "code",
   "execution_count": 1,
   "metadata": {},
   "outputs": [
    {
     "name": "stdout",
     "output_type": "stream",
     "text": [
      "Expected             : 4.722\n",
      "Local Vol Monte-Carlo: 4.721\n",
      "\n",
      "Example path: {0.0: 100.0, 0.01: 99.01856110623987, 0.02: 101.15176906645377, 0.03: 105.35977909772349, 0.04: 102.38618771021574, 0.05: 104.02943784135306, 0.06: 106.25467550780667, 0.07: 107.0117602935268, 0.08: 107.75566347271368, 0.09: 104.65386015370001, 0.1: 103.76124482031071, 0.11: 98.47403302662325, 0.12: 92.84444168443274, 0.13: 86.49617906712255, 0.14: 86.04621243784463, 0.15: 90.22137203489719, 0.16: 88.51367370114949, 0.17: 89.42345078044406, 0.18: 85.4427534968789, 0.19: 87.3549614498285, 0.2: 88.7111512583252, 0.21: 81.5300705092172, 0.22: 76.47077505714033, 0.23: 82.72736665645127, 0.24: 84.63579317162208, 0.25: 87.88616680197912, 0.26: 93.39916030026896, 0.27: 90.4030494295544, 0.28: 79.69819271023898, 0.29: 76.97948723439183, 0.3: 84.67839772520487, 0.31: 81.75188431890943, 0.32: 82.63906124093843, 0.33: 81.02191847990984, 0.34: 81.84293381614617, 0.35000000000000003: 81.99586156071945, 0.36: 74.84044252783133, 0.37: 74.29037146068221, 0.38: 68.54552803167549, 0.39: 66.857349329537, 0.4: 66.9934844784222, 0.41000000000000003: 67.79892592981768, 0.42: 66.99981556146203, 0.43: 63.818599669531416, 0.44: 59.008171710470016, 0.45: 57.38429660316447, 0.46: 63.17549010738074, 0.47000000000000003: 62.14029536112134, 0.48: 60.01754768035477, 0.49: 59.649743090702444, 0.5: 55.91371027055755, 0.51: 58.397680818833315, 0.52: 59.34982178296042, 0.53: 56.34802378988235, 0.54: 55.23384841371785, 0.55: 55.26301287958911, 0.56: 63.08806452682503, 0.5700000000000001: 63.880721770800314, 0.58: 63.46651596256462, 0.59: 57.311506293882644, 0.6: 61.243964276358646, 0.61: 62.169564795028386, 0.62: 63.84830816363905, 0.63: 60.26312356587299, 0.64: 59.710483682174896, 0.65: 54.33166811066385, 0.66: 46.990124156277616, 0.67: 52.54972129178029, 0.68: 58.15656593952345, 0.6900000000000001: 64.96712981367364, 0.7000000000000001: 65.47310047301076, 0.71: 68.72010082793238, 0.72: 67.53725543297928, 0.73: 65.55545875401191, 0.74: 57.97398212581703, 0.75: 53.47898811386803, 0.76: 50.927359582398815, 0.77: 52.45758326465391, 0.78: 50.04199612882871, 0.79: 49.450451028104304, 0.8: 50.942302708207826, 0.81: 47.12936792288735, 0.8200000000000001: 47.93412473814806, 0.8300000000000001: 47.79902482186039, 0.84: 50.90566053242578, 0.85: 45.16780523931733, 0.86: 42.23411344093443, 0.87: 46.36503728040856, 0.88: 45.40987158691301, 0.89: 43.34954034205043, 0.9: 40.58754422351463, 0.91: 41.74204059089868, 0.92: 43.75263772050232, 0.93: 42.19484940214874, 0.9400000000000001: 41.54210955162682, 0.9500000000000001: 41.59610691442236, 0.96: 39.17229686194722, 0.97: 39.41437333502098, 0.98: 39.811182348550574, 0.99: 37.222029212538104, 1.0: 32.30029439885642}\n"
     ]
    }
   ],
   "source": [
    "import math\n",
    "import QuantLib as ql\n",
    "\n",
    "if __name__ == \"__main__\":\n",
    "\n",
    "    today = ql.Date.todaysDate()\n",
    "    ql.Settings.instance().evaluationDate = today\n",
    "\n",
    "    spot = ql.QuoteHandle(ql.SimpleQuote(100))\n",
    "\n",
    "    dc = ql.Actual365Fixed()\n",
    "    qTS = ql.YieldTermStructureHandle(ql.FlatForward(today, 0.025, dc))\n",
    "    rTS = ql.YieldTermStructureHandle(ql.FlatForward(today, 0.05, dc))\n",
    "\n",
    "    vol_data = [\n",
    "        # maturity in days, strike, volatility\n",
    "        (30, 75, 0.13),\n",
    "        (30, 100, 0.26),\n",
    "        (30, 125, 0.3),\n",
    "        (180, 80, 0.4),\n",
    "        (180, 150, 0.6),\n",
    "        (365, 110, 0.5)]\n",
    "\n",
    "    calibration_set = ql.CalibrationSet(\n",
    "        [(\n",
    "            ql.VanillaOption(\n",
    "                ql.PlainVanillaPayoff(ql.Option.Call, strike),\n",
    "                ql.EuropeanExercise(today + ql.Period(maturity_in_days, ql.Days))\n",
    "            ),\n",
    "            ql.SimpleQuote(volatility)\n",
    "        ) for maturity_in_days, strike, volatility in vol_data]\n",
    "    )\n",
    "\n",
    "    local_vol = ql.LocalVolTermStructureHandle(\n",
    "        ql.AndreasenHugeLocalVolAdapter(\n",
    "            ql.AndreasenHugeVolatilityInterpl(calibration_set, spot, rTS, qTS)\n",
    "        )\n",
    "    )\n",
    "\n",
    "    option = calibration_set[-2][0]  # maturity in days: 180, strike: 150, vol: 0.6\n",
    "\n",
    "    dummy_vol = ql.BlackVolTermStructureHandle()\n",
    "    local_vol_process = ql.GeneralizedBlackScholesProcess(spot, qTS, rTS, dummy_vol, local_vol)\n",
    "\n",
    "    option.setPricingEngine(ql.MCEuropeanEngine(\n",
    "        local_vol_process, \"lowdiscrepancy\",\n",
    "        timeSteps=100, brownianBridge=True, requiredSamples=32000, seed=42)\n",
    "    )\n",
    "\n",
    "    T = dc.yearFraction(today, option.exercise().lastDate())\n",
    "    fwd = spot.value() * qTS.discount(T) / rTS.discount(T)\n",
    "    vol = calibration_set[-2][1].value()\n",
    "\n",
    "    expected = ql.BlackCalculator(\n",
    "        ql.as_plain_vanilla_payoff(option.payoff()), fwd, vol * math.sqrt(T), rTS.discount(T)).value()\n",
    "\n",
    "    print(\"Expected             : %.3f\" % expected)\n",
    "    print(\"Local Vol Monte-Carlo: %.3f\" % option.NPV())\n",
    "\n",
    "    time_steps = 100\n",
    "\n",
    "    rsg = ql.GaussianRandomSequenceGenerator(\n",
    "        ql.UniformRandomSequenceGenerator(time_steps, ql.UniformRandomGenerator(42))\n",
    "    )\n",
    "\n",
    "    path_generator = ql.GaussianPathGenerator(local_vol_process, 1.0, time_steps, rsg, False)\n",
    "    next_path = path_generator.next().value()\n",
    "\n",
    "    print(\"\\nExample path: \" + str({next_path.time(i): next_path.value(i) for i in range(len(next_path))}))"
   ]
  },
  {
   "cell_type": "code",
   "execution_count": null,
   "metadata": {},
   "outputs": [],
   "source": []
  }
 ],
 "metadata": {
  "kernelspec": {
   "display_name": "Python 3",
   "language": "python",
   "name": "python3"
  },
  "language_info": {
   "codemirror_mode": {
    "name": "ipython",
    "version": 3
   },
   "file_extension": ".py",
   "mimetype": "text/x-python",
   "name": "python",
   "nbconvert_exporter": "python",
   "pygments_lexer": "ipython3",
   "version": "3.6.3"
  }
 },
 "nbformat": 4,
 "nbformat_minor": 2
}
