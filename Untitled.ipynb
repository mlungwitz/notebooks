{
 "cells": [
  {
   "cell_type": "code",
   "execution_count": 1,
   "metadata": {},
   "outputs": [],
   "source": [
    "import QuantLib as ql"
   ]
  },
  {
   "cell_type": "code",
   "execution_count": 9,
   "metadata": {},
   "outputs": [
    {
     "ename": "NotImplementedError",
     "evalue": "Wrong number or type of arguments for overloaded function 'new_FlatSmileSection'.\n  Possible C/C++ prototypes are:\n    FlatSmileSectionPtr::FlatSmileSectionPtr(Date const &,Volatility,DayCounter const &,Date const &,Real,VolatilityType,Real)\n    FlatSmileSectionPtr::FlatSmileSectionPtr(Date const &,Volatility,DayCounter const &,Date const &,Real,VolatilityType)\n    FlatSmileSectionPtr::FlatSmileSectionPtr(Date const &,Volatility,DayCounter const &,Date const &,Real)\n    FlatSmileSectionPtr::FlatSmileSectionPtr(Date const &,Volatility,DayCounter const &,Date const &)\n    FlatSmileSectionPtr::FlatSmileSectionPtr(Date const &,Volatility,DayCounter const &)\n    FlatSmileSectionPtr::FlatSmileSectionPtr(Time,Volatility,DayCounter const &,Real,VolatilityType,Real)\n    FlatSmileSectionPtr::FlatSmileSectionPtr(Time,Volatility,DayCounter const &,Real,VolatilityType)\n    FlatSmileSectionPtr::FlatSmileSectionPtr(Time,Volatility,DayCounter const &,Real)\n    FlatSmileSectionPtr::FlatSmileSectionPtr(Time,Volatility,DayCounter const &)\n",
     "output_type": "error",
     "traceback": [
      "\u001b[1;31m---------------------------------------------------------------------------\u001b[0m",
      "\u001b[1;31mNotImplementedError\u001b[0m                       Traceback (most recent call last)",
      "\u001b[1;32m<ipython-input-9-9f4a2f280e18>\u001b[0m in \u001b[0;36m<module>\u001b[1;34m()\u001b[0m\n\u001b[1;32m----> 1\u001b[1;33m \u001b[0mql\u001b[0m\u001b[1;33m.\u001b[0m\u001b[0mFlatSmileSection\u001b[0m\u001b[1;33m(\u001b[0m\u001b[1;33m)\u001b[0m\u001b[1;33m\u001b[0m\u001b[0m\n\u001b[0m",
      "\u001b[1;32mF:\\WinPython-64bit-3.6.3.0Qt5\\python-3.6.3.amd64\\lib\\site-packages\\quantlib_python-1.14-py3.6-win-amd64.egg\\QuantLib\\QuantLib.py\u001b[0m in \u001b[0;36m__init__\u001b[1;34m(self, *args)\u001b[0m\n\u001b[0;32m   8890\u001b[0m \u001b[1;33m\u001b[0m\u001b[0m\n\u001b[0;32m   8891\u001b[0m     \u001b[1;32mdef\u001b[0m \u001b[0m__init__\u001b[0m\u001b[1;33m(\u001b[0m\u001b[0mself\u001b[0m\u001b[1;33m,\u001b[0m \u001b[1;33m*\u001b[0m\u001b[0margs\u001b[0m\u001b[1;33m)\u001b[0m\u001b[1;33m:\u001b[0m\u001b[1;33m\u001b[0m\u001b[0m\n\u001b[1;32m-> 8892\u001b[1;33m         \u001b[0mthis\u001b[0m \u001b[1;33m=\u001b[0m \u001b[0m_QuantLib\u001b[0m\u001b[1;33m.\u001b[0m\u001b[0mnew_FlatSmileSection\u001b[0m\u001b[1;33m(\u001b[0m\u001b[1;33m*\u001b[0m\u001b[0margs\u001b[0m\u001b[1;33m)\u001b[0m\u001b[1;33m\u001b[0m\u001b[0m\n\u001b[0m\u001b[0;32m   8893\u001b[0m         \u001b[1;32mtry\u001b[0m\u001b[1;33m:\u001b[0m\u001b[1;33m\u001b[0m\u001b[0m\n\u001b[0;32m   8894\u001b[0m             \u001b[0mself\u001b[0m\u001b[1;33m.\u001b[0m\u001b[0mthis\u001b[0m\u001b[1;33m.\u001b[0m\u001b[0mappend\u001b[0m\u001b[1;33m(\u001b[0m\u001b[0mthis\u001b[0m\u001b[1;33m)\u001b[0m\u001b[1;33m\u001b[0m\u001b[0m\n",
      "\u001b[1;31mNotImplementedError\u001b[0m: Wrong number or type of arguments for overloaded function 'new_FlatSmileSection'.\n  Possible C/C++ prototypes are:\n    FlatSmileSectionPtr::FlatSmileSectionPtr(Date const &,Volatility,DayCounter const &,Date const &,Real,VolatilityType,Real)\n    FlatSmileSectionPtr::FlatSmileSectionPtr(Date const &,Volatility,DayCounter const &,Date const &,Real,VolatilityType)\n    FlatSmileSectionPtr::FlatSmileSectionPtr(Date const &,Volatility,DayCounter const &,Date const &,Real)\n    FlatSmileSectionPtr::FlatSmileSectionPtr(Date const &,Volatility,DayCounter const &,Date const &)\n    FlatSmileSectionPtr::FlatSmileSectionPtr(Date const &,Volatility,DayCounter const &)\n    FlatSmileSectionPtr::FlatSmileSectionPtr(Time,Volatility,DayCounter const &,Real,VolatilityType,Real)\n    FlatSmileSectionPtr::FlatSmileSectionPtr(Time,Volatility,DayCounter const &,Real,VolatilityType)\n    FlatSmileSectionPtr::FlatSmileSectionPtr(Time,Volatility,DayCounter const &,Real)\n    FlatSmileSectionPtr::FlatSmileSectionPtr(Time,Volatility,DayCounter const &)\n"
     ]
    }
   ],
   "source": [
    "ql.FlatSmileSection()"
   ]
  },
  {
   "cell_type": "code",
   "execution_count": 10,
   "metadata": {},
   "outputs": [],
   "source": [
    "s = ql.FlatSmileSection(1.0, 0.01, ql.Actual365Fixed(),0.01)"
   ]
  },
  {
   "cell_type": "code",
   "execution_count": 15,
   "metadata": {},
   "outputs": [],
   "source": [
    "s = ql.SabrSmileSection(1.0, 0.01, [0.01,0.01,0.01,0.01])"
   ]
  },
  {
   "cell_type": "code",
   "execution_count": 19,
   "metadata": {},
   "outputs": [
    {
     "data": {
      "text/plain": [
       "3.528924867868233e-05"
      ]
     },
     "execution_count": 19,
     "metadata": {},
     "output_type": "execute_result"
    }
   ],
   "source": [
    "s.vega(0.01)"
   ]
  },
  {
   "cell_type": "code",
   "execution_count": 21,
   "metadata": {},
   "outputs": [
    {
     "data": {
      "text/plain": [
       "0.9905687467067865"
      ]
     },
     "execution_count": 21,
     "metadata": {},
     "output_type": "execute_result"
    }
   ],
   "source": [
    "s.volatility(0.01)"
   ]
  },
  {
   "cell_type": "code",
   "execution_count": 17,
   "metadata": {},
   "outputs": [
    {
     "data": {
      "text/plain": [
       "0.0037960060006300964"
      ]
     },
     "execution_count": 17,
     "metadata": {},
     "output_type": "execute_result"
    }
   ],
   "source": [
    "s.optionPrice(0.01)"
   ]
  },
  {
   "cell_type": "code",
   "execution_count": 2,
   "metadata": {},
   "outputs": [],
   "source": [
    "s = ql.EuriborSwapIsdaFixA(ql.Period(30,ql.Years))"
   ]
  },
  {
   "cell_type": "code",
   "execution_count": 3,
   "metadata": {},
   "outputs": [],
   "source": [
    "s2 = ql.GbpLiborSwapIsdaFix(ql.Period(30,ql.Years))"
   ]
  },
  {
   "cell_type": "code",
   "execution_count": 4,
   "metadata": {},
   "outputs": [
    {
     "ename": "RuntimeError",
     "evalue": "Missing GbpLiborSwapIsdaFix30Y Actual/365 (Fixed) fixing for February 2nd, 2018",
     "output_type": "error",
     "traceback": [
      "\u001b[1;31m---------------------------------------------------------------------------\u001b[0m",
      "\u001b[1;31mRuntimeError\u001b[0m                              Traceback (most recent call last)",
      "\u001b[1;32m<ipython-input-4-3c542d24e39f>\u001b[0m in \u001b[0;36m<module>\u001b[1;34m()\u001b[0m\n\u001b[1;32m----> 1\u001b[1;33m \u001b[0ms2\u001b[0m\u001b[1;33m.\u001b[0m\u001b[0mfixing\u001b[0m\u001b[1;33m(\u001b[0m\u001b[0mql\u001b[0m\u001b[1;33m.\u001b[0m\u001b[0mDate\u001b[0m\u001b[1;33m(\u001b[0m\u001b[1;36m2\u001b[0m\u001b[1;33m,\u001b[0m\u001b[1;36m2\u001b[0m\u001b[1;33m,\u001b[0m\u001b[1;36m2018\u001b[0m\u001b[1;33m)\u001b[0m\u001b[1;33m)\u001b[0m\u001b[1;33m\u001b[0m\u001b[0m\n\u001b[0m",
      "\u001b[1;32mF:\\WinPython-64bit-3.6.3.0Qt5\\python-3.6.3.amd64\\lib\\site-packages\\quantlib_python-1.13-py3.6-win-amd64.egg\\QuantLib\\QuantLib.py\u001b[0m in \u001b[0;36mfixing\u001b[1;34m(self, fixingDate, forecastTodaysFixing)\u001b[0m\n\u001b[0;32m   5971\u001b[0m \u001b[1;33m\u001b[0m\u001b[0m\n\u001b[0;32m   5972\u001b[0m     \u001b[1;32mdef\u001b[0m \u001b[0mfixing\u001b[0m\u001b[1;33m(\u001b[0m\u001b[0mself\u001b[0m\u001b[1;33m,\u001b[0m \u001b[0mfixingDate\u001b[0m\u001b[1;33m:\u001b[0m \u001b[1;34m'Date'\u001b[0m\u001b[1;33m,\u001b[0m \u001b[0mforecastTodaysFixing\u001b[0m\u001b[1;33m:\u001b[0m \u001b[1;34m'bool'\u001b[0m\u001b[1;33m=\u001b[0m\u001b[1;32mFalse\u001b[0m\u001b[1;33m)\u001b[0m \u001b[1;33m->\u001b[0m \u001b[1;34m\"Real\"\u001b[0m\u001b[1;33m:\u001b[0m\u001b[1;33m\u001b[0m\u001b[0m\n\u001b[1;32m-> 5973\u001b[1;33m         \u001b[1;32mreturn\u001b[0m \u001b[0m_QuantLib\u001b[0m\u001b[1;33m.\u001b[0m\u001b[0mIndex_fixing\u001b[0m\u001b[1;33m(\u001b[0m\u001b[0mself\u001b[0m\u001b[1;33m,\u001b[0m \u001b[0mfixingDate\u001b[0m\u001b[1;33m,\u001b[0m \u001b[0mforecastTodaysFixing\u001b[0m\u001b[1;33m)\u001b[0m\u001b[1;33m\u001b[0m\u001b[0m\n\u001b[0m\u001b[0;32m   5974\u001b[0m \u001b[1;33m\u001b[0m\u001b[0m\n\u001b[0;32m   5975\u001b[0m     \u001b[1;32mdef\u001b[0m \u001b[0maddFixing\u001b[0m\u001b[1;33m(\u001b[0m\u001b[0mself\u001b[0m\u001b[1;33m,\u001b[0m \u001b[0mfixingDate\u001b[0m\u001b[1;33m:\u001b[0m \u001b[1;34m'Date'\u001b[0m\u001b[1;33m,\u001b[0m \u001b[0mfixing\u001b[0m\u001b[1;33m:\u001b[0m \u001b[1;34m'Rate'\u001b[0m\u001b[1;33m)\u001b[0m \u001b[1;33m->\u001b[0m \u001b[1;34m\"void\"\u001b[0m\u001b[1;33m:\u001b[0m\u001b[1;33m\u001b[0m\u001b[0m\n",
      "\u001b[1;31mRuntimeError\u001b[0m: Missing GbpLiborSwapIsdaFix30Y Actual/365 (Fixed) fixing for February 2nd, 2018"
     ]
    }
   ],
   "source": [
    "s2.fixing(ql.Date(2,2,2018))"
   ]
  }
 ],
 "metadata": {
  "kernelspec": {
   "display_name": "Python 3",
   "language": "python",
   "name": "python3"
  },
  "language_info": {
   "codemirror_mode": {
    "name": "ipython",
    "version": 3
   },
   "file_extension": ".py",
   "mimetype": "text/x-python",
   "name": "python",
   "nbconvert_exporter": "python",
   "pygments_lexer": "ipython3",
   "version": "3.6.3"
  }
 },
 "nbformat": 4,
 "nbformat_minor": 2
}
