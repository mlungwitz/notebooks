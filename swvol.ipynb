{
 "cells": [
  {
   "cell_type": "code",
   "execution_count": 1,
   "metadata": {},
   "outputs": [],
   "source": [
    "import QuantLib as ql"
   ]
  },
  {
   "cell_type": "code",
   "execution_count": 2,
   "metadata": {},
   "outputs": [],
   "source": [
    "# Load settings etc."
   ]
  },
  {
   "cell_type": "code",
   "execution_count": 3,
   "metadata": {},
   "outputs": [],
   "source": [
    "target = ql.TARGET()"
   ]
  },
  {
   "cell_type": "code",
   "execution_count": 6,
   "metadata": {},
   "outputs": [],
   "source": [
    "# Read evaldate from settings"
   ]
  },
  {
   "cell_type": "code",
   "execution_count": 4,
   "metadata": {},
   "outputs": [],
   "source": [
    "evalDate = ql.Settings.instance().evaluationDate"
   ]
  },
  {
   "cell_type": "code",
   "execution_count": 5,
   "metadata": {},
   "outputs": [
    {
     "data": {
      "text/plain": [
       "Date(9,12,2019)"
      ]
     },
     "execution_count": 5,
     "metadata": {},
     "output_type": "execute_result"
    }
   ],
   "source": [
    "evalDate"
   ]
  },
  {
   "cell_type": "code",
   "execution_count": 10,
   "metadata": {},
   "outputs": [],
   "source": [
    "minus1Date = target.advance(evalDate, -1, ql.Days )"
   ]
  },
  {
   "cell_type": "code",
   "execution_count": 11,
   "metadata": {},
   "outputs": [
    {
     "data": {
      "text/plain": [
       "Date(6,12,2019)"
      ]
     },
     "execution_count": 11,
     "metadata": {},
     "output_type": "execute_result"
    }
   ],
   "source": [
    "minus1Date"
   ]
  },
  {
   "cell_type": "code",
   "execution_count": 16,
   "metadata": {},
   "outputs": [],
   "source": [
    "evalDateStr=str(evalDate.to_date())"
   ]
  },
  {
   "cell_type": "code",
   "execution_count": 17,
   "metadata": {},
   "outputs": [
    {
     "data": {
      "text/plain": [
       "'2019-12-09'"
      ]
     },
     "execution_count": 17,
     "metadata": {},
     "output_type": "execute_result"
    }
   ],
   "source": [
    "evalDateStr"
   ]
  },
  {
   "cell_type": "code",
   "execution_count": 18,
   "metadata": {},
   "outputs": [],
   "source": [
    "minus1DateStr = str(minus1Date.to_date())"
   ]
  },
  {
   "cell_type": "code",
   "execution_count": 19,
   "metadata": {},
   "outputs": [],
   "source": [
    "settlDate = target.advance(evalDate, 2, ql.Days)"
   ]
  },
  {
   "cell_type": "code",
   "execution_count": 20,
   "metadata": {},
   "outputs": [],
   "source": [
    "# Load rics"
   ]
  },
  {
   "cell_type": "markdown",
   "metadata": {},
   "source": [
    "# Setup Curves"
   ]
  },
  {
   "cell_type": "code",
   "execution_count": 26,
   "metadata": {},
   "outputs": [],
   "source": [
    "euribor6m = ql.Euribor6M()\n",
    "euribor3m = ql.Euribor3M()\n",
    "eonia = ql.Eonia()"
   ]
  },
  {
   "cell_type": "code",
   "execution_count": 27,
   "metadata": {},
   "outputs": [],
   "source": [
    "euribor3m.addFixing(evalDate, 0.01)\n",
    "euribor6m.addFixing(evalDate, 0.01)"
   ]
  },
  {
   "cell_type": "code",
   "execution_count": 29,
   "metadata": {},
   "outputs": [],
   "source": [
    "dpON = ql.DepositRateHelper(0.01, ql.Period(\"1D\"), 0, target, ql.ModifiedFollowing, False, ql.Actual360())\n",
    "dpTN = ql.DepositRateHelper(0.01, ql.Period(\"1D\"), 1, target, ql.ModifiedFollowing, False, ql.Actual360())\n",
    "dpSN = ql.DepositRateHelper(0.01, ql.Period(\"1D\"), 2, target, ql.ModifiedFollowing, False, ql.Actual360())\n",
    "dp3M = ql.DepositRateHelper(0.01, ql.Period(\"3M\"), 2, target, ql.ModifiedFollowing, False, ql.Actual360())\n",
    "dp6M = ql.DepositRateHelper(0.01, ql.Period(\"6M\"), 2, target, ql.ModifiedFollowing, False, ql.Actual360())"
   ]
  },
  {
   "cell_type": "code",
   "execution_count": 32,
   "metadata": {},
   "outputs": [],
   "source": [
    "ois1W = ql.OISRateHelper(2, ql.Period(\"1W\"), ql.QuoteHandle(ql.SimpleQuote(0.01)), eonia)\n",
    "ois2W = ql.OISRateHelper(2, ql.Period(\"2W\"), ql.QuoteHandle(ql.SimpleQuote(0.01)), eonia)\n",
    "ois3W = ql.OISRateHelper(2, ql.Period(\"3W\"), ql.QuoteHandle(ql.SimpleQuote(0.01)), eonia)\n",
    "ois1M = ql.OISRateHelper(2, ql.Period(\"1M\"), ql.QuoteHandle(ql.SimpleQuote(0.01)), eonia)\n",
    "ois2M = ql.OISRateHelper(2, ql.Period(\"2M\"), ql.QuoteHandle(ql.SimpleQuote(0.01)), eonia)\n",
    "ois3M = ql.OISRateHelper(2, ql.Period(\"3M\"), ql.QuoteHandle(ql.SimpleQuote(0.01)), eonia)\n",
    "ois4M = ql.OISRateHelper(2, ql.Period(\"4M\"), ql.QuoteHandle(ql.SimpleQuote(0.01)), eonia)\n",
    "ois5M = ql.OISRateHelper(2, ql.Period(\"5M\"), ql.QuoteHandle(ql.SimpleQuote(0.01)), eonia)\n",
    "ois6M = ql.OISRateHelper(2, ql.Period(\"6M\"), ql.QuoteHandle(ql.SimpleQuote(0.01)), eonia)\n",
    "ois7M = ql.OISRateHelper(2, ql.Period(\"7M\"), ql.QuoteHandle(ql.SimpleQuote(0.01)), eonia)\n",
    "ois8M = ql.OISRateHelper(2, ql.Period(\"8M\"), ql.QuoteHandle(ql.SimpleQuote(0.01)), eonia)\n",
    "ois9M = ql.OISRateHelper(2, ql.Period(\"9M\"), ql.QuoteHandle(ql.SimpleQuote(0.01)), eonia)\n",
    "ois10M = ql.OISRateHelper(2, ql.Period(\"10M\"), ql.QuoteHandle(ql.SimpleQuote(0.01)), eonia)\n",
    "ois11M = ql.OISRateHelper(2, ql.Period(\"11M\"), ql.QuoteHandle(ql.SimpleQuote(0.01)), eonia)\n",
    "ois1Y = ql.OISRateHelper(2, ql.Period(\"1Y\"), ql.QuoteHandle(ql.SimpleQuote(0.01)), eonia)\n",
    "ois15M = ql.OISRateHelper(2, ql.Period(\"15M\"), ql.QuoteHandle(ql.SimpleQuote(0.01)), eonia)\n",
    "ois18M = ql.OISRateHelper(2, ql.Period(\"18M\"), ql.QuoteHandle(ql.SimpleQuote(0.01)), eonia)\n",
    "ois21M = ql.OISRateHelper(2, ql.Period(\"21M\"), ql.QuoteHandle(ql.SimpleQuote(0.01)), eonia)"
   ]
  },
  {
   "cell_type": "code",
   "execution_count": 33,
   "metadata": {},
   "outputs": [],
   "source": [
    "ois2Y = ql.OISRateHelper(2, ql.Period(\"2Y\"), ql.QuoteHandle(ql.SimpleQuote(0.01)), eonia)\n",
    "ois3Y = ql.OISRateHelper(2, ql.Period(\"3Y\"), ql.QuoteHandle(ql.SimpleQuote(0.01)), eonia)\n",
    "ois4Y = ql.OISRateHelper(2, ql.Period(\"4Y\"), ql.QuoteHandle(ql.SimpleQuote(0.01)), eonia)\n",
    "ois5Y = ql.OISRateHelper(2, ql.Period(\"5Y\"), ql.QuoteHandle(ql.SimpleQuote(0.01)), eonia)\n",
    "ois6Y = ql.OISRateHelper(2, ql.Period(\"6Y\"), ql.QuoteHandle(ql.SimpleQuote(0.01)), eonia)\n",
    "ois7Y = ql.OISRateHelper(2, ql.Period(\"7Y\"), ql.QuoteHandle(ql.SimpleQuote(0.01)), eonia)\n",
    "ois8Y = ql.OISRateHelper(2, ql.Period(\"8Y\"), ql.QuoteHandle(ql.SimpleQuote(0.01)), eonia)\n",
    "ois9Y = ql.OISRateHelper(2, ql.Period(\"9Y\"), ql.QuoteHandle(ql.SimpleQuote(0.01)), eonia)\n",
    "ois10Y = ql.OISRateHelper(2, ql.Period(\"10Y\"), ql.QuoteHandle(ql.SimpleQuote(0.01)), eonia)\n",
    "ois12Y = ql.OISRateHelper(2, ql.Period(\"12Y\"), ql.QuoteHandle(ql.SimpleQuote(0.01)), eonia)\n",
    "ois15Y = ql.OISRateHelper(2, ql.Period(\"15Y\"), ql.QuoteHandle(ql.SimpleQuote(0.01)), eonia)\n",
    "ois20Y = ql.OISRateHelper(2, ql.Period(\"20Y\"), ql.QuoteHandle(ql.SimpleQuote(0.01)), eonia)\n",
    "ois25Y = ql.OISRateHelper(2, ql.Period(\"25Y\"), ql.QuoteHandle(ql.SimpleQuote(0.01)), eonia)\n",
    "ois30Y = ql.OISRateHelper(2, ql.Period(\"30Y\"), ql.QuoteHandle(ql.SimpleQuote(0.01)), eonia)"
   ]
  },
  {
   "cell_type": "code",
   "execution_count": 34,
   "metadata": {},
   "outputs": [],
   "source": [
    "euronHelper = [\n",
    "    dpON,\n",
    "    ois1W,\n",
    "    ois2W,\n",
    "    ois3W,\n",
    "    ois1M,\n",
    "    ois2M,\n",
    "    ois3M,\n",
    "    ois4M, \n",
    "    ois5M, \n",
    "    ois6M, \n",
    "    ois7M, \n",
    "    ois8M, \n",
    "    ois9M, \n",
    "    ois10M,\n",
    "    ois11M,\n",
    "    ois1Y, \n",
    "    ois15M,\n",
    "    ois18M,\n",
    "    ois21M,\n",
    "    ois2Y,\n",
    "    ois3Y,\n",
    "    ois4Y,\n",
    "    ois5Y,\n",
    "    ois6Y,\n",
    "    ois7Y,\n",
    "    ois8Y,\n",
    "    ois9Y,\n",
    "    ois10Y,\n",
    "    ois12Y,\n",
    "    ois15Y,\n",
    "    ois20Y,\n",
    "    ois25Y,\n",
    "    ois30Y\n",
    "]"
   ]
  },
  {
   "cell_type": "code",
   "execution_count": 35,
   "metadata": {},
   "outputs": [],
   "source": [
    "euron = ql.YieldTermStructureHandle(ql.PiecewiseLinearZero(0, target, euronHelper, ql.Actual365Fixed()))"
   ]
  },
  {
   "cell_type": "code",
   "execution_count": 37,
   "metadata": {},
   "outputs": [],
   "source": [
    "euron.enableExtrapolation()"
   ]
  },
  {
   "cell_type": "code",
   "execution_count": 47,
   "metadata": {},
   "outputs": [],
   "source": [
    "fra6m1m = ql.FraRateHelper(0.01, 1, 7, 2, target, ql.ModifiedFollowing, False, ql.Actual360())\n",
    "fra6m2m = ql.FraRateHelper(0.01, 2, 8, 2, target, ql.ModifiedFollowing, False, ql.Actual360())\n",
    "fra6m3m = ql.FraRateHelper(0.01, 3, 9, 2, target, ql.ModifiedFollowing, False, ql.Actual360())\n",
    "fra6m4m = ql.FraRateHelper(0.01, 4, 10, 2, target, ql.ModifiedFollowing, False, ql.Actual360())\n",
    "fra6m5m = ql.FraRateHelper(0.01, 5, 11, 2, target, ql.ModifiedFollowing, False, ql.Actual360())\n",
    "fra6m6m = ql.FraRateHelper(0.01, 6, 12, 2, target, ql.ModifiedFollowing, False, ql.Actual360())\n",
    "fra6m7m = ql.FraRateHelper(0.01, 7, 13, 2, target, ql.ModifiedFollowing, False, ql.Actual360())\n",
    "fra6m8m = ql.FraRateHelper(0.01, 8, 14, 2, target, ql.ModifiedFollowing, False, ql.Actual360())\n",
    "fra6m9m = ql.FraRateHelper(0.01, 9, 15, 2, target, ql.ModifiedFollowing, False, ql.Actual360())\n",
    "fra6m10m = ql.FraRateHelper(0.01, 10, 16, 2, target, ql.ModifiedFollowing, False, ql.Actual360())\n",
    "fra6m11m = ql.FraRateHelper(0.01, 11, 17, 2, target, ql.ModifiedFollowing, False, ql.Actual360())\n",
    "fra6m12m = ql.FraRateHelper(0.01, 12, 18, 2, target, ql.ModifiedFollowing, False, ql.Actual360())\n",
    "fra6m13m = ql.FraRateHelper(0.01, 13, 19, 2, target, ql.ModifiedFollowing, False, ql.Actual360())\n",
    "fra6m14m = ql.FraRateHelper(0.01, 14, 20, 2, target, ql.ModifiedFollowing, False, ql.Actual360())\n",
    "fra6m15m = ql.FraRateHelper(0.01, 15, 21, 2, target, ql.ModifiedFollowing, False, ql.Actual360())\n",
    "fra6m16m = ql.FraRateHelper(0.01, 16, 22, 2, target, ql.ModifiedFollowing, False, ql.Actual360())\n",
    "fra6m17m = ql.FraRateHelper(0.01, 17, 23, 2, target, ql.ModifiedFollowing, False, ql.Actual360())\n",
    "fra6m18m = ql.FraRateHelper(0.01, 18, 24, 2, target, ql.ModifiedFollowing, False, ql.Actual360())\n"
   ]
  },
  {
   "cell_type": "code",
   "execution_count": 48,
   "metadata": {},
   "outputs": [],
   "source": [
    "fra3m1m = ql.FraRateHelper(0.01, 1, 4, 2, target, ql.ModifiedFollowing, False, ql.Actual360())\n",
    "fra3m2m = ql.FraRateHelper(0.01, 2, 5, 2, target, ql.ModifiedFollowing, False, ql.Actual360())\n",
    "fra3m3m = ql.FraRateHelper(0.01, 3, 6, 2, target, ql.ModifiedFollowing, False, ql.Actual360())\n",
    "fra3m4m = ql.FraRateHelper(0.01, 4, 7, 2, target, ql.ModifiedFollowing, False, ql.Actual360())\n",
    "fra3m5m = ql.FraRateHelper(0.01, 5, 8, 2, target, ql.ModifiedFollowing, False, ql.Actual360())\n",
    "fra3m6m = ql.FraRateHelper(0.01, 6, 9, 2, target, ql.ModifiedFollowing, False, ql.Actual360())\n",
    "fra3m7m = ql.FraRateHelper(0.01, 7, 10, 2, target, ql.ModifiedFollowing, False, ql.Actual360())\n",
    "fra3m8m = ql.FraRateHelper(0.01, 8, 11, 2, target, ql.ModifiedFollowing, False, ql.Actual360())\n",
    "fra3m9m = ql.FraRateHelper(0.01, 9, 12, 2, target, ql.ModifiedFollowing, False, ql.Actual360())\n",
    "fra3m10m = ql.FraRateHelper(0.01, 10, 13, 2, target, ql.ModifiedFollowing, False, ql.Actual360())\n",
    "fra3m11m = ql.FraRateHelper(0.01, 11, 14, 2, target, ql.ModifiedFollowing, False, ql.Actual360())\n",
    "fra3m12m = ql.FraRateHelper(0.01, 12, 15, 2, target, ql.ModifiedFollowing, False, ql.Actual360())\n"
   ]
  },
  {
   "cell_type": "code",
   "execution_count": 43,
   "metadata": {},
   "outputs": [],
   "source": [
    "swap6m1y = ql.SwapRateHelper(0.01, ql.Period(\"1Y\"), target, ql.Annual, ql.ModifiedFollowing, ql.Thirty360(), euribor6m, ql.QuoteHandle(), ql.Period(\"0D\"), euron)\n",
    "#...\n",
    "swap6m60y = ql.SwapRateHelper(0.01, ql.Period(\"60Y\"), target, ql.Annual, ql.ModifiedFollowing, ql.Thirty360(), euribor6m, ql.QuoteHandle(), ql.Period(\"0D\"), euron)"
   ]
  },
  {
   "cell_type": "code",
   "execution_count": 45,
   "metadata": {},
   "outputs": [],
   "source": [
    "swap3m1y = ql.SwapRateHelper(0.01, ql.Period(\"1Y\"), target, ql.Annual, ql.ModifiedFollowing, ql.Thirty360(), euribor3m, ql.QuoteHandle(), ql.Period(\"0D\"), euron)\n",
    "#...\n",
    "swap3m60y = ql.SwapRateHelper(0.01, ql.Period(\"60Y\"), target, ql.Annual, ql.ModifiedFollowing, ql.Thirty360(), euribor3m, ql.QuoteHandle(), ql.Period(\"0D\"), euron)"
   ]
  },
  {
   "cell_type": "code",
   "execution_count": 49,
   "metadata": {},
   "outputs": [],
   "source": [
    "eur6mHelper = [\n",
    "    dp6M, \n",
    "    fra6m1m,\n",
    "    fra6m2m,\n",
    "    fra6m18m,\n",
    "    swap6m1y,\n",
    "    swap6m60y\n",
    "]"
   ]
  },
  {
   "cell_type": "code",
   "execution_count": 50,
   "metadata": {},
   "outputs": [],
   "source": [
    "eur6m = ql.YieldTermStructureHandle(ql.PiecewiseLinearZero(0, target, eur6mHelper, ql.Actual365Fixed()))"
   ]
  },
  {
   "cell_type": "code",
   "execution_count": 51,
   "metadata": {},
   "outputs": [],
   "source": [
    "eur6m.enableExtrapolation()"
   ]
  },
  {
   "cell_type": "code",
   "execution_count": 53,
   "metadata": {},
   "outputs": [],
   "source": [
    "eur3mHelper = [\n",
    "    dp3M, \n",
    "    fra3m1m,\n",
    "    fra3m2m,\n",
    "    fra3m12m,\n",
    "    swap3m1y,\n",
    "    swap3m60y\n",
    "]"
   ]
  },
  {
   "cell_type": "code",
   "execution_count": 54,
   "metadata": {},
   "outputs": [],
   "source": [
    "eur3m = ql.YieldTermStructureHandle(ql.PiecewiseLinearZero(0, target, eur3mHelper, ql.Actual365Fixed()))\n",
    "eur3m.enableExtrapolation()"
   ]
  },
  {
   "cell_type": "code",
   "execution_count": 56,
   "metadata": {},
   "outputs": [
    {
     "name": "stdout",
     "output_type": "stream",
     "text": [
      "1 0.010088390226258143 0.009926045075579032 0.009928016367174022\n",
      "2 0.010088063198645636 0.009962812371458789 0.00999818530170421\n",
      "3 0.010087833850648752 0.00996242956637979 0.009998154553047164\n",
      "4 0.010087869026601363 0.009962046761300788 0.009997075315971509\n",
      "5 0.01008783505316319 0.00996166395622178 0.009995996078895905\n",
      "6 0.010087834752901235 0.009961281151142745 0.009994916841820299\n",
      "7 0.010087834809520396 0.009960898346063713 0.009993837604744702\n",
      "8 0.010087800570701414 0.009960515540984682 0.009992758367669103\n",
      "9 0.010087818997820642 0.009960132735905647 0.009991679130593489\n",
      "10 0.010087820827219509 0.009959749930826631 0.009990599893517872\n",
      "11 0.010087822023566981 0.00995936712574762 0.009989520656442272\n",
      "12 0.010087823214494796 0.009958984320668586 0.009988441419366664\n",
      "13 0.010087820757504683 0.009958601515589558 0.009987362182291064\n",
      "14 0.01008781824984904 0.009958218710510535 0.00998628294521546\n",
      "15 0.010087815742193381 0.009957835905431525 0.009985203708139843\n",
      "16 0.010087813890116157 0.009957453100352485 0.009984124471064237\n",
      "17 0.010087812048995677 0.009957070295273467 0.009983045233988632\n",
      "18 0.010087810207875188 0.009956687490194446 0.009981965996913025\n",
      "19 0.010087808366754707 0.009956304685115418 0.009980886759837415\n",
      "20 0.010087806525634225 0.009955921880036394 0.009979807522761813\n",
      "21 0.010087805466321362 0.009955539074957373 0.009978728285686203\n",
      "22 0.010087804424527998 0.009955156269878343 0.009977649048610595\n",
      "23 0.010087803382734638 0.009954773464799324 0.009976569811534995\n",
      "24 0.01008780234094127 0.009954390659720301 0.009975490574459378\n",
      "25 0.010087801299147912 0.009954007854641279 0.009974411337383771\n",
      "26 0.010087800617987792 0.009953625049562253 0.009973332100308171\n",
      "27 0.010087799946986354 0.009953242244483226 0.00997225286323256\n",
      "28 0.010087799275984927 0.009952859439404204 0.009971173626156949\n",
      "29 0.010087798604983496 0.009952476634325184 0.009970094389081346\n",
      "30 0.010087797933982063 0.009952093829246157 0.009969015152005744\n",
      "31 0.010087797283225983 0.009951711024167132 0.009967935914930134\n",
      "32 0.010087796673119497 0.009951328219088108 0.009966856677854522\n",
      "33 0.010087796099989164 0.009950945414009087 0.009965777440778919\n",
      "34 0.010087795560572375 0.00995056260893006 0.009964698203703312\n",
      "35 0.010087795051979409 0.009950179803851034 0.0099636189666277\n",
      "36 0.0100877945716416 0.009949796998772012 0.009962539729552092\n",
      "37 0.010087794117268001 0.00994941419369299 0.009961460492476492\n",
      "38 0.010087793686808804 0.009949031388613963 0.009960381255400878\n",
      "39 0.010087793278424434 0.009948648583534942 0.009959302018325273\n",
      "40 0.010087792890459284 0.009948265778455914 0.009958222781249665\n",
      "41 0.01008779252141926 0.00994788297337689 0.009957143544174058\n",
      "42 0.010087792169952578 0.009947500168297868 0.009956064307098451\n",
      "43 0.010087791834833177 0.009947117363218844 0.009954985070022846\n",
      "44 0.010087791514946478 0.009946734558139818 0.00995390583294724\n",
      "45 0.010087791209276966 0.009946351753060795 0.009952826595871628\n",
      "46 0.010087790916897432 0.00994596894798177 0.009951747358796021\n",
      "47 0.010087790636959582 0.009945586142902746 0.009950668121720413\n",
      "48 0.010087790368685809 0.009945203337823724 0.00994958888464481\n",
      "49 0.010087790111361983 0.0099448205327447 0.0099485096475692\n",
      "50 0.010087789864331112 0.009944437727665675 0.009947430410493596\n",
      "51 0.010087789626987727 0.009944054922586648 0.009946351173417987\n",
      "52 0.010087789398772935 0.009943672117507628 0.009945271936342379\n",
      "53 0.010087789179170017 0.009943289312428601 0.009944192699266772\n",
      "54 0.010087788967700547 0.009942906507349577 0.009943113462191167\n",
      "55 0.010087788763920868 0.009942523702270554 0.009942034225115555\n",
      "56 0.010087788567419037 0.009942140897191528 0.009940954988039949\n",
      "57 0.010087788377812011 0.009941758092112505 0.009939875750964344\n",
      "58 0.010087788194743156 0.009941375287033483 0.009938796513888735\n",
      "59 0.010087788017880022 0.009940992481954458 0.009937717276813128\n"
     ]
    }
   ],
   "source": [
    "for i in range(1,60):\n",
    "    print(i, euron.zeroRate(i, ql.Continuous,).rate(), eur3m.zeroRate(i, ql.Continuous,).rate(), eur6m.zeroRate(i, ql.Continuous,).rate())"
   ]
  },
  {
   "cell_type": "markdown",
   "metadata": {},
   "source": [
    "# Setup Cube"
   ]
  },
  {
   "cell_type": "markdown",
   "metadata": {},
   "source": [
    "## Parse Icap Skew"
   ]
  },
  {
   "cell_type": "code",
   "execution_count": 60,
   "metadata": {},
   "outputs": [],
   "source": [
    "# Parse VCAP1A, VCAP1B as 17 x 14 matrices\n",
    "vcap1a = [[0.01 for j in range(1,15)] for i in range(1,18)] # Vols\n",
    "vcap1b = [[0.01 for j in range(1,15)] for i in range(1,18)] # Shifts"
   ]
  },
  {
   "cell_type": "code",
   "execution_count": 61,
   "metadata": {},
   "outputs": [],
   "source": [
    "# Parse ICAPSKEW1A, ICAPSKEW2A as 20 x 11 matrices\n",
    "icapskew = [[0.01 for j in range(1,12)] for i in range(1,21)] # ICAPSKEW1A\n",
    "icapskew += [[0.01 for j in range(1,12)] for i in range(1,21)] # ICAPSKEW1B"
   ]
  },
  {
   "cell_type": "markdown",
   "metadata": {},
   "source": [
    "## Init Mx Strike Spreads"
   ]
  },
  {
   "cell_type": "code",
   "execution_count": 62,
   "metadata": {},
   "outputs": [],
   "source": [
    "mxStrikeSpreads = [\n",
    "    -0.07,\n",
    "    -0.065,\n",
    "    -0.06,\n",
    "    -0.055,\n",
    "    -0.05,\n",
    "    -0.045,\n",
    "    -0.04,\n",
    "    -0.0375,\n",
    "    -0.035,\n",
    "    -0.0325,\n",
    "    #.....\n",
    "    0.03,\n",
    "    0.07,\n",
    "    #....\n",
    "    1.0\n",
    "]"
   ]
  },
  {
   "cell_type": "code",
   "execution_count": 63,
   "metadata": {},
   "outputs": [],
   "source": [
    "euribor6m_ = ql.Euribor6M(eur6m)"
   ]
  },
  {
   "cell_type": "code",
   "execution_count": 64,
   "metadata": {},
   "outputs": [],
   "source": [
    "euribor3m_ = ql.Euribor3M(eur3m)"
   ]
  },
  {
   "cell_type": "code",
   "execution_count": 66,
   "metadata": {},
   "outputs": [],
   "source": [
    "swap1y = ql.EuriborSwapIsdaFixA(ql.Period(\"1Y\"), eur3m, euron)\n",
    "swap2y = ql.EuriborSwapIsdaFixA(ql.Period(\"2Y\"), eur6m, euron)\n",
    "swap5y = ql.EuriborSwapIsdaFixA(ql.Period(\"5Y\"), eur6m, euron)\n",
    "swap10y = ql.EuriborSwapIsdaFixA(ql.Period(\"10Y\"), eur6m, euron)\n",
    "swap20y = ql.EuriborSwapIsdaFixA(ql.Period(\"20Y\"), eur6m, euron)\n",
    "swap30y = ql.EuriborSwapIsdaFixA(ql.Period(\"30Y\"), eur6m, euron)"
   ]
  },
  {
   "cell_type": "code",
   "execution_count": 68,
   "metadata": {},
   "outputs": [],
   "source": [
    "swap2y.addFixing(evalDate, 0.01, True)\n",
    "swap5y.addFixing(evalDate, 0.01, True)\n",
    "swap10y.addFixing(evalDate, 0.01, True)\n",
    "swap20y.addFixing(evalDate, 0.01, True)\n",
    "swap30y.addFixing(evalDate, 0.01, True)"
   ]
  },
  {
   "cell_type": "code",
   "execution_count": 71,
   "metadata": {},
   "outputs": [],
   "source": [
    "coreOptionTenorsStr = []\n",
    "swapTenorsStr = []\n",
    "\n",
    "optionTenors = []\n",
    "coreOptionTenors = [ql.Period(str(i)+\"M\") for i in (1,2,3,6,9)]\n",
    "coreOptionTenors += [ql.Period(\"1Y\")]\n",
    "coreOptionTenors += [ql.Period(\"18M\")]\n",
    "coreOptionTenors += [ql.Period(str(i)+\"Y\") for i in (2,3,4,5,6,7,8,9,10,15,20,25,30)]\n",
    "\n",
    "coreOptionTenorsStr = [str(i)+\"M\" for i in (1,2,3,6,9)]\n",
    "coreOptionTenorsStr += [\"1Y\"]\n",
    "coreOptionTenorsStr += [\"18M\"]\n",
    "coreOptionTenorsStr += [str(i)+\"Y\" for i in (2,3,4,5,6,7,8,9,10,15,20,25,30)]\n",
    "\n",
    "swapTenors = []"
   ]
  },
  {
   "cell_type": "code",
   "execution_count": 73,
   "metadata": {},
   "outputs": [],
   "source": [
    "# add interpolated tenors to make cube1 used below more similar to the linear cube in Mx"
   ]
  },
  {
   "cell_type": "code",
   "execution_count": 74,
   "metadata": {},
   "outputs": [],
   "source": [
    "includeAddTenors = False"
   ]
  },
  {
   "cell_type": "code",
   "execution_count": 89,
   "metadata": {},
   "outputs": [],
   "source": [
    "optionTenors = [ql.Period(str(i)+\"M\") for i in (1,2,3,6,9)]\n",
    "optionTenors += [ql.Period(\"1Y\")]\n",
    "optionTenors += [ql.Period(\"18M\")]\n",
    "#if includeAddTenors....\n",
    "optionTenors += [ql.Period(str(i)+\"Y\") for i in range(2,31)]"
   ]
  },
  {
   "cell_type": "code",
   "execution_count": 79,
   "metadata": {},
   "outputs": [],
   "source": [
    "swapTenors = [ql.Period(str(i)+\"Y\") for i in range(1,11)]\n",
    "swapTenors += [ql.Period(str(i)+\"Y\") for i in (15, 20, 25, 30)]"
   ]
  },
  {
   "cell_type": "code",
   "execution_count": 81,
   "metadata": {},
   "outputs": [],
   "source": [
    "atmVols = ql.Matrix(len(optionTenors), len(swapTenors))\n",
    "atmVolsLN = ql.Matrix(len(optionTenors), len(swapTenors))\n",
    "atmShifts = ql.Matrix(len(optionTenors), len(swapTenors), 0.0)"
   ]
  },
  {
   "cell_type": "code",
   "execution_count": 83,
   "metadata": {},
   "outputs": [],
   "source": [
    "vols = [0.0 for i in coreOptionTenors]\n",
    "shifts = [0.0 for i in coreOptionTenors]\n",
    "volsLN = [0.0 for i in coreOptionTenors]"
   ]
  },
  {
   "cell_type": "code",
   "execution_count": 90,
   "metadata": {},
   "outputs": [],
   "source": [
    "coreOptionTimes = [eur6m.timeFromReference(target.advance(eur6m.referenceDate(), tenor)) for tenor in coreOptionTenors]\n",
    "optionTimes = [eur6m.timeFromReference(target.advance(eur6m.referenceDate(), tenor)) for tenor in optionTenors]"
   ]
  },
  {
   "cell_type": "code",
   "execution_count": 94,
   "metadata": {},
   "outputs": [],
   "source": [
    "volInterpol = ql.LinearInterpolation(coreOptionTimes, vols)\n",
    "volLNInterpol = ql.LinearInterpolation(coreOptionTimes, volsLN)\n",
    "shiftInterpol = ql.LinearInterpolation(coreOptionTimes, shifts)"
   ]
  },
  {
   "cell_type": "code",
   "execution_count": 98,
   "metadata": {},
   "outputs": [
    {
     "ename": "IndexError",
     "evalue": "list index out of range",
     "output_type": "error",
     "traceback": [
      "\u001b[1;31m---------------------------------------------------------------------------\u001b[0m",
      "\u001b[1;31mIndexError\u001b[0m                                Traceback (most recent call last)",
      "\u001b[1;32m<ipython-input-98-8bcbad023e2d>\u001b[0m in \u001b[0;36m<module>\u001b[1;34m()\u001b[0m\n\u001b[0;32m      2\u001b[0m     \u001b[1;32mfor\u001b[0m \u001b[0mi\u001b[0m \u001b[1;32min\u001b[0m \u001b[0mrange\u001b[0m\u001b[1;33m(\u001b[0m\u001b[1;36m0\u001b[0m\u001b[1;33m,\u001b[0m \u001b[0mlen\u001b[0m\u001b[1;33m(\u001b[0m\u001b[0mcoreOptionTenors\u001b[0m\u001b[1;33m)\u001b[0m\u001b[1;33m)\u001b[0m\u001b[1;33m:\u001b[0m\u001b[1;33m\u001b[0m\u001b[0m\n\u001b[0;32m      3\u001b[0m         \u001b[1;31m#ric = EUR+CoreOptionTenorStr+X+swapTenorStr=ICAP\u001b[0m\u001b[1;33m\u001b[0m\u001b[1;33m\u001b[0m\u001b[0m\n\u001b[1;32m----> 4\u001b[1;33m         \u001b[0mvols\u001b[0m\u001b[1;33m[\u001b[0m\u001b[0mi\u001b[0m\u001b[1;33m]\u001b[0m \u001b[1;33m=\u001b[0m \u001b[0mvcap1a\u001b[0m\u001b[1;33m[\u001b[0m\u001b[0mi\u001b[0m\u001b[1;33m]\u001b[0m\u001b[1;33m[\u001b[0m\u001b[0mj\u001b[0m\u001b[1;33m]\u001b[0m\u001b[1;33m\u001b[0m\u001b[0m\n\u001b[0m\u001b[0;32m      5\u001b[0m         \u001b[0mshifts\u001b[0m\u001b[1;33m[\u001b[0m\u001b[0mi\u001b[0m\u001b[1;33m]\u001b[0m \u001b[1;33m=\u001b[0m \u001b[0mvcap1b\u001b[0m\u001b[1;33m[\u001b[0m\u001b[0mi\u001b[0m\u001b[1;33m]\u001b[0m\u001b[1;33m[\u001b[0m\u001b[0mj\u001b[0m\u001b[1;33m]\u001b[0m\u001b[1;33m\u001b[0m\u001b[0m\n\u001b[0;32m      6\u001b[0m     \u001b[0mvolInterpol\u001b[0m\u001b[1;33m.\u001b[0m\u001b[0mupdate\u001b[0m\u001b[1;33m(\u001b[0m\u001b[1;33m)\u001b[0m\u001b[1;33m\u001b[0m\u001b[0m\n",
      "\u001b[1;31mIndexError\u001b[0m: list index out of range"
     ]
    }
   ],
   "source": [
    "for j in range(0, len(swapTenors)):\n",
    "    for i in range(0, len(coreOptionTenors)):\n",
    "        #ric = EUR+CoreOptionTenorStr+X+swapTenorStr=ICAP\n",
    "        vols[i] = vcap1a[i][j]\n",
    "        shifts[i] = vcap1b[i][j]\n",
    "    volInterpol.update()"
   ]
  },
  {
   "cell_type": "code",
   "execution_count": 109,
   "metadata": {},
   "outputs": [],
   "source": [
    "swatm = ql.SwaptionVolatilityStructureHandle(ql.SwaptionVolatilityMatrix(target,\n",
    "                                                                        ql.ModifiedFollowing,\n",
    "                                                                        optionTenors,\n",
    "                                                                        swapTenors,\n",
    "                                                                        [[ql.QuoteHandle(ql.SimpleQuote(0.01)) for tenor in swapTenors] for t in optionTenors],#atmVols,\n",
    "                                                                        ql.Actual365Fixed(),\n",
    "                                                                        True,\n",
    "                                                                        ql.ShiftedLognormal))#,\n",
    "                                                                        #[[0.01 for tenor in swapTenors] for t in optionTenors]))#atmShifts,))"
   ]
  },
  {
   "cell_type": "code",
   "execution_count": 110,
   "metadata": {},
   "outputs": [],
   "source": [
    "swatm.enableExtrapolation()"
   ]
  },
  {
   "cell_type": "code",
   "execution_count": 111,
   "metadata": {},
   "outputs": [],
   "source": [
    "swatmLN = ql.SwaptionVolatilityStructureHandle(ql.SwaptionVolatilityMatrix(target,\n",
    "                                                                        ql.ModifiedFollowing,\n",
    "                                                                        optionTenors,\n",
    "                                                                        swapTenors,\n",
    "                                                                        [[ql.QuoteHandle(ql.SimpleQuote(0.01)) for tenor in swapTenors] for t in optionTenors],#atmVols,\n",
    "                                                                        ql.Actual365Fixed(),\n",
    "                                                                        True,\n",
    "                                                                        ql.ShiftedLognormal))#,\n",
    "                                                                        #[[0.01 for tenor in swapTenors] for t in optionTenors]))#atmShifts,))"
   ]
  },
  {
   "cell_type": "code",
   "execution_count": 114,
   "metadata": {},
   "outputs": [
    {
     "name": "stdout",
     "output_type": "stream",
     "text": [
      "0.01\n",
      "0.01\n",
      "0.01\n",
      "0.01\n",
      "0.01\n",
      "0.01\n",
      "0.01\n",
      "0.01\n",
      "0.01\n",
      "0.01\n",
      "0.01\n",
      "0.01\n",
      "0.01\n",
      "0.01\n",
      "0.01\n",
      "0.01\n",
      "0.01\n",
      "0.01\n",
      "0.01\n",
      "0.01\n",
      "0.01\n",
      "0.01\n",
      "0.01\n",
      "0.01\n",
      "0.01\n",
      "0.01\n",
      "0.01\n",
      "0.01\n",
      "0.01\n",
      "0.01\n",
      "0.01\n",
      "0.01\n",
      "0.01\n",
      "0.01\n",
      "0.01\n",
      "0.01\n"
     ]
    }
   ],
   "source": [
    "for optionTime in optionTimes:\n",
    "    #for 1 in swapTenors:\n",
    "    print(swatm.volatility(optionTime, 1.0,0.05))"
   ]
  },
  {
   "cell_type": "code",
   "execution_count": 116,
   "metadata": {},
   "outputs": [],
   "source": [
    "ec = ql.EndCriteria(200, 100, 0.01, 0.01, 0.01)"
   ]
  },
  {
   "cell_type": "code",
   "execution_count": 119,
   "metadata": {},
   "outputs": [],
   "source": [
    "om = ql.LevenbergMarquardt(0.01, 0.01, 0.01)"
   ]
  },
  {
   "cell_type": "code",
   "execution_count": 120,
   "metadata": {},
   "outputs": [],
   "source": [
    "paramsFixed = [False, True, False, False]"
   ]
  },
  {
   "cell_type": "code",
   "execution_count": 131,
   "metadata": {},
   "outputs": [],
   "source": [
    "smileOptTen=[ql.Period(\"3M\"), ql.Period(\"30Y\")]\n",
    "smileSwpTen=[ql.Period(\"2Y\"), ql.Period(\"30Y\")]\n",
    "smileSpreads=[-0.01,0.0,0.01]"
   ]
  },
  {
   "cell_type": "code",
   "execution_count": 133,
   "metadata": {},
   "outputs": [],
   "source": [
    "volSpreadQuotes = [[ql.QuoteHandle(ql.SimpleQuote(0.01)) for spread in smileSpreads] for swptenor in range(0,len(smileOptTen)*len(smileSwpTen))]"
   ]
  },
  {
   "cell_type": "code",
   "execution_count": 139,
   "metadata": {},
   "outputs": [],
   "source": [
    "paramQuotes = [[[ql.QuoteHandle(ql.SimpleQuote(0.1)),ql.QuoteHandle(ql.SimpleQuote(0.8)),ql.QuoteHandle(ql.SimpleQuote(0.4)),ql.QuoteHandle(ql.SimpleQuote(0.0))] for optTen in smileOptTen] for swpTen in smileSwpTen]"
   ]
  },
  {
   "cell_type": "code",
   "execution_count": 145,
   "metadata": {},
   "outputs": [
    {
     "ename": "NotImplementedError",
     "evalue": "Wrong number or type of arguments for overloaded function 'new_SwaptionVolCube1'.\n  Possible C/C++ prototypes are:\n    SwaptionVolCube1::SwaptionVolCube1(Handle< SwaptionVolatilityStructure > const &,std::vector< Period,std::allocator< Period > > const &,std::vector< Period,std::allocator< Period > > const &,std::vector< Spread,std::allocator< Spread > > const &,std::vector< std::vector< Handle< Quote >,std::allocator< Handle< Quote > > >,std::allocator< std::vector< Handle< Quote >,std::allocator< Handle< Quote > > > > > const &,boost::shared_ptr< SwapIndex > const &,boost::shared_ptr< SwapIndex > const &,bool,std::vector< std::vector< Handle< Quote >,std::allocator< Handle< Quote > > >,std::allocator< std::vector< Handle< Quote >,std::allocator< Handle< Quote > > > > > const &,std::vector< bool,std::allocator< bool > > const &,bool,boost::shared_ptr< EndCriteria > const &,Real,boost::shared_ptr< OptimizationMethod > const &)\n    SwaptionVolCube1::SwaptionVolCube1(Handle< SwaptionVolatilityStructure > const &,std::vector< Period,std::allocator< Period > > const &,std::vector< Period,std::allocator< Period > > const &,std::vector< Spread,std::allocator< Spread > > const &,std::vector< std::vector< Handle< Quote >,std::allocator< Handle< Quote > > >,std::allocator< std::vector< Handle< Quote >,std::allocator< Handle< Quote > > > > > const &,boost::shared_ptr< SwapIndex > const &,boost::shared_ptr< SwapIndex > const &,bool,std::vector< std::vector< Handle< Quote >,std::allocator< Handle< Quote > > >,std::allocator< std::vector< Handle< Quote >,std::allocator< Handle< Quote > > > > > const &,std::vector< bool,std::allocator< bool > > const &,bool,boost::shared_ptr< EndCriteria > const &,Real)\n    SwaptionVolCube1::SwaptionVolCube1(Handle< SwaptionVolatilityStructure > const &,std::vector< Period,std::allocator< Period > > const &,std::vector< Period,std::allocator< Period > > const &,std::vector< Spread,std::allocator< Spread > > const &,std::vector< std::vector< Handle< Quote >,std::allocator< Handle< Quote > > >,std::allocator< std::vector< Handle< Quote >,std::allocator< Handle< Quote > > > > > const &,boost::shared_ptr< SwapIndex > const &,boost::shared_ptr< SwapIndex > const &,bool,std::vector< std::vector< Handle< Quote >,std::allocator< Handle< Quote > > >,std::allocator< std::vector< Handle< Quote >,std::allocator< Handle< Quote > > > > > const &,std::vector< bool,std::allocator< bool > > const &,bool,boost::shared_ptr< EndCriteria > const &)\n    SwaptionVolCube1::SwaptionVolCube1(Handle< SwaptionVolatilityStructure > const &,std::vector< Period,std::allocator< Period > > const &,std::vector< Period,std::allocator< Period > > const &,std::vector< Spread,std::allocator< Spread > > const &,std::vector< std::vector< Handle< Quote >,std::allocator< Handle< Quote > > >,std::allocator< std::vector< Handle< Quote >,std::allocator< Handle< Quote > > > > > const &,boost::shared_ptr< SwapIndex > const &,boost::shared_ptr< SwapIndex > const &,bool,std::vector< std::vector< Handle< Quote >,std::allocator< Handle< Quote > > >,std::allocator< std::vector< Handle< Quote >,std::allocator< Handle< Quote > > > > > const &,std::vector< bool,std::allocator< bool > > const &,bool)\n",
     "output_type": "error",
     "traceback": [
      "\u001b[1;31m---------------------------------------------------------------------------\u001b[0m",
      "\u001b[1;31mNotImplementedError\u001b[0m                       Traceback (most recent call last)",
      "\u001b[1;32m<ipython-input-145-924a73db9534>\u001b[0m in \u001b[0;36m<module>\u001b[1;34m()\u001b[0m\n\u001b[0;32m      9\u001b[0m                                                                  \u001b[0mparamQuotes\u001b[0m\u001b[1;33m,\u001b[0m\u001b[1;33m\u001b[0m\u001b[0m\n\u001b[0;32m     10\u001b[0m                                                                  \u001b[1;32mTrue\u001b[0m\u001b[1;33m,\u001b[0m\u001b[1;31m#sabrAtmCalibrated,\u001b[0m\u001b[1;33m\u001b[0m\u001b[0m\n\u001b[1;32m---> 11\u001b[1;33m                                                                  ec))\n\u001b[0m\u001b[0;32m     12\u001b[0m                                                                  \u001b[1;31m#0.01,#sabrRejectRmse,\u001b[0m\u001b[1;33m\u001b[0m\u001b[1;33m\u001b[0m\u001b[0m\n\u001b[0;32m     13\u001b[0m                                                                  \u001b[1;31m#om))#,\u001b[0m\u001b[1;33m\u001b[0m\u001b[1;33m\u001b[0m\u001b[0m\n",
      "\u001b[1;32mF:\\WinPython-64bit-3.6.3.0Qt5\\python-3.6.3.amd64\\lib\\site-packages\\quantlib_python-1.17-py3.6-win-amd64.egg\\QuantLib\\QuantLib.py\u001b[0m in \u001b[0;36m__init__\u001b[1;34m(self, *args)\u001b[0m\n\u001b[0;32m   9116\u001b[0m \u001b[1;33m\u001b[0m\u001b[0m\n\u001b[0;32m   9117\u001b[0m     \u001b[1;32mdef\u001b[0m \u001b[0m__init__\u001b[0m\u001b[1;33m(\u001b[0m\u001b[0mself\u001b[0m\u001b[1;33m,\u001b[0m \u001b[1;33m*\u001b[0m\u001b[0margs\u001b[0m\u001b[1;33m)\u001b[0m\u001b[1;33m:\u001b[0m\u001b[1;33m\u001b[0m\u001b[0m\n\u001b[1;32m-> 9118\u001b[1;33m         \u001b[0mthis\u001b[0m \u001b[1;33m=\u001b[0m \u001b[0m_QuantLib\u001b[0m\u001b[1;33m.\u001b[0m\u001b[0mnew_SwaptionVolCube1\u001b[0m\u001b[1;33m(\u001b[0m\u001b[1;33m*\u001b[0m\u001b[0margs\u001b[0m\u001b[1;33m)\u001b[0m\u001b[1;33m\u001b[0m\u001b[0m\n\u001b[0m\u001b[0;32m   9119\u001b[0m         \u001b[1;32mtry\u001b[0m\u001b[1;33m:\u001b[0m\u001b[1;33m\u001b[0m\u001b[0m\n\u001b[0;32m   9120\u001b[0m             \u001b[0mself\u001b[0m\u001b[1;33m.\u001b[0m\u001b[0mthis\u001b[0m\u001b[1;33m.\u001b[0m\u001b[0mappend\u001b[0m\u001b[1;33m(\u001b[0m\u001b[0mthis\u001b[0m\u001b[1;33m)\u001b[0m\u001b[1;33m\u001b[0m\u001b[0m\n",
      "\u001b[1;31mNotImplementedError\u001b[0m: Wrong number or type of arguments for overloaded function 'new_SwaptionVolCube1'.\n  Possible C/C++ prototypes are:\n    SwaptionVolCube1::SwaptionVolCube1(Handle< SwaptionVolatilityStructure > const &,std::vector< Period,std::allocator< Period > > const &,std::vector< Period,std::allocator< Period > > const &,std::vector< Spread,std::allocator< Spread > > const &,std::vector< std::vector< Handle< Quote >,std::allocator< Handle< Quote > > >,std::allocator< std::vector< Handle< Quote >,std::allocator< Handle< Quote > > > > > const &,boost::shared_ptr< SwapIndex > const &,boost::shared_ptr< SwapIndex > const &,bool,std::vector< std::vector< Handle< Quote >,std::allocator< Handle< Quote > > >,std::allocator< std::vector< Handle< Quote >,std::allocator< Handle< Quote > > > > > const &,std::vector< bool,std::allocator< bool > > const &,bool,boost::shared_ptr< EndCriteria > const &,Real,boost::shared_ptr< OptimizationMethod > const &)\n    SwaptionVolCube1::SwaptionVolCube1(Handle< SwaptionVolatilityStructure > const &,std::vector< Period,std::allocator< Period > > const &,std::vector< Period,std::allocator< Period > > const &,std::vector< Spread,std::allocator< Spread > > const &,std::vector< std::vector< Handle< Quote >,std::allocator< Handle< Quote > > >,std::allocator< std::vector< Handle< Quote >,std::allocator< Handle< Quote > > > > > const &,boost::shared_ptr< SwapIndex > const &,boost::shared_ptr< SwapIndex > const &,bool,std::vector< std::vector< Handle< Quote >,std::allocator< Handle< Quote > > >,std::allocator< std::vector< Handle< Quote >,std::allocator< Handle< Quote > > > > > const &,std::vector< bool,std::allocator< bool > > const &,bool,boost::shared_ptr< EndCriteria > const &,Real)\n    SwaptionVolCube1::SwaptionVolCube1(Handle< SwaptionVolatilityStructure > const &,std::vector< Period,std::allocator< Period > > const &,std::vector< Period,std::allocator< Period > > const &,std::vector< Spread,std::allocator< Spread > > const &,std::vector< std::vector< Handle< Quote >,std::allocator< Handle< Quote > > >,std::allocator< std::vector< Handle< Quote >,std::allocator< Handle< Quote > > > > > const &,boost::shared_ptr< SwapIndex > const &,boost::shared_ptr< SwapIndex > const &,bool,std::vector< std::vector< Handle< Quote >,std::allocator< Handle< Quote > > >,std::allocator< std::vector< Handle< Quote >,std::allocator< Handle< Quote > > > > > const &,std::vector< bool,std::allocator< bool > > const &,bool,boost::shared_ptr< EndCriteria > const &)\n    SwaptionVolCube1::SwaptionVolCube1(Handle< SwaptionVolatilityStructure > const &,std::vector< Period,std::allocator< Period > > const &,std::vector< Period,std::allocator< Period > > const &,std::vector< Spread,std::allocator< Spread > > const &,std::vector< std::vector< Handle< Quote >,std::allocator< Handle< Quote > > >,std::allocator< std::vector< Handle< Quote >,std::allocator< Handle< Quote > > > > > const &,boost::shared_ptr< SwapIndex > const &,boost::shared_ptr< SwapIndex > const &,bool,std::vector< std::vector< Handle< Quote >,std::allocator< Handle< Quote > > >,std::allocator< std::vector< Handle< Quote >,std::allocator< Handle< Quote > > > > > const &,std::vector< bool,std::allocator< bool > > const &,bool)\n"
     ]
    }
   ],
   "source": [
    "swsabr = ql.SwaptionVolatilityStructureHandle(ql.SwaptionVolCube1(swatm,\n",
    "                                                                 smileOptTen,\n",
    "                                                                 smileSwpTen,\n",
    "                                                                 smileSpreads,\n",
    "                                                                 volSpreadQuotes,\n",
    "                                                                 swap30y,\n",
    "                                                                 swap1y,\n",
    "                                                                 True,#sabrVegaWeighted,\n",
    "                                                                 paramQuotes,\n",
    "                                                                 True,#sabrAtmCalibrated,\n",
    "                                                                 ec))\n",
    "                                                                 #0.01,#sabrRejectRmse,\n",
    "                                                                 #om))#,\n",
    "                                                                 #sabrAcceptRmse,\n",
    "                                                                 #False,\n",
    "                                                                 #sabrHaltonIterations,\n",
    "                                                                 #False,\n",
    "                                                                 #sabrCutOffStrike))"
   ]
  },
  {
   "cell_type": "code",
   "execution_count": 125,
   "metadata": {},
   "outputs": [
    {
     "ename": "NameError",
     "evalue": "name 'swsabr' is not defined",
     "output_type": "error",
     "traceback": [
      "\u001b[1;31m---------------------------------------------------------------------------\u001b[0m",
      "\u001b[1;31mNameError\u001b[0m                                 Traceback (most recent call last)",
      "\u001b[1;32m<ipython-input-125-f49724ca980b>\u001b[0m in \u001b[0;36m<module>\u001b[1;34m()\u001b[0m\n\u001b[1;32m----> 1\u001b[1;33m \u001b[0msec\u001b[0m \u001b[1;33m=\u001b[0m \u001b[0mswsabr\u001b[0m\u001b[1;33m.\u001b[0m\u001b[0msmileSection\u001b[0m\u001b[1;33m(\u001b[0m\u001b[0mql\u001b[0m\u001b[1;33m.\u001b[0m\u001b[0mPeriod\u001b[0m\u001b[1;33m(\u001b[0m\u001b[1;34m\"1Y\"\u001b[0m\u001b[1;33m)\u001b[0m\u001b[1;33m,\u001b[0m \u001b[0mql\u001b[0m\u001b[1;33m.\u001b[0m\u001b[0mPeriod\u001b[0m\u001b[1;33m(\u001b[0m\u001b[1;34m\"5Y\"\u001b[0m\u001b[1;33m)\u001b[0m\u001b[1;33m,\u001b[0m \u001b[1;32mTrue\u001b[0m\u001b[1;33m)\u001b[0m\u001b[1;33m\u001b[0m\u001b[0m\n\u001b[0m",
      "\u001b[1;31mNameError\u001b[0m: name 'swsabr' is not defined"
     ]
    }
   ],
   "source": [
    "sec = swsabr.smileSection(ql.Period(\"1Y\"), ql.Period(\"5Y\"), True)"
   ]
  },
  {
   "cell_type": "code",
   "execution_count": 126,
   "metadata": {},
   "outputs": [
    {
     "ename": "NameError",
     "evalue": "name 'sec' is not defined",
     "output_type": "error",
     "traceback": [
      "\u001b[1;31m---------------------------------------------------------------------------\u001b[0m",
      "\u001b[1;31mNameError\u001b[0m                                 Traceback (most recent call last)",
      "\u001b[1;32m<ipython-input-126-87bc32b48544>\u001b[0m in \u001b[0;36m<module>\u001b[1;34m()\u001b[0m\n\u001b[0;32m      1\u001b[0m \u001b[1;32mfor\u001b[0m \u001b[0mi\u001b[0m \u001b[1;32min\u001b[0m \u001b[0mrange\u001b[0m\u001b[1;33m(\u001b[0m\u001b[1;33m-\u001b[0m\u001b[1;36m4\u001b[0m\u001b[1;33m,\u001b[0m\u001b[1;36m5\u001b[0m\u001b[1;33m)\u001b[0m\u001b[1;33m:\u001b[0m\u001b[1;33m\u001b[0m\u001b[0m\n\u001b[1;32m----> 2\u001b[1;33m     \u001b[0mprint\u001b[0m\u001b[1;33m(\u001b[0m\u001b[0msec\u001b[0m\u001b[1;33m.\u001b[0m\u001b[0mvolatility\u001b[0m\u001b[1;33m(\u001b[0m\u001b[0mmax\u001b[0m\u001b[1;33m(\u001b[0m\u001b[0msec\u001b[0m\u001b[1;33m.\u001b[0m\u001b[0matmLevel\u001b[0m\u001b[1;33m(\u001b[0m\u001b[1;33m)\u001b[0m\u001b[1;33m+\u001b[0m\u001b[1;36m0.005\u001b[0m\u001b[1;33m*\u001b[0m\u001b[0mi\u001b[0m\u001b[1;33m,\u001b[0m \u001b[1;36m0.0001\u001b[0m\u001b[1;33m)\u001b[0m\u001b[1;33m)\u001b[0m\u001b[1;33m)\u001b[0m\u001b[1;33m\u001b[0m\u001b[0m\n\u001b[0m",
      "\u001b[1;31mNameError\u001b[0m: name 'sec' is not defined"
     ]
    }
   ],
   "source": [
    "for i in range(-4,5):\n",
    "    print(sec.volatility(max(sec.atmLevel()+0.005*i, 0.0001)))"
   ]
  },
  {
   "cell_type": "markdown",
   "metadata": {},
   "source": [
    "# Export Cube"
   ]
  },
  {
   "cell_type": "markdown",
   "metadata": {},
   "source": [
    "# Log Cube"
   ]
  },
  {
   "cell_type": "markdown",
   "metadata": {},
   "source": [
    "# Mean Reversion "
   ]
  },
  {
   "cell_type": "markdown",
   "metadata": {},
   "source": [
    "# Calibrate CMS01"
   ]
  },
  {
   "cell_type": "markdown",
   "metadata": {},
   "source": [
    "# Export Cube No 2"
   ]
  },
  {
   "cell_type": "markdown",
   "metadata": {},
   "source": [
    "# Calibrate CMS Spreads"
   ]
  },
  {
   "cell_type": "code",
   "execution_count": null,
   "metadata": {},
   "outputs": [],
   "source": []
  }
 ],
 "metadata": {
  "kernelspec": {
   "display_name": "Python 3",
   "language": "python",
   "name": "python3"
  },
  "language_info": {
   "codemirror_mode": {
    "name": "ipython",
    "version": 3
   },
   "file_extension": ".py",
   "mimetype": "text/x-python",
   "name": "python",
   "nbconvert_exporter": "python",
   "pygments_lexer": "ipython3",
   "version": "3.6.3"
  }
 },
 "nbformat": 4,
 "nbformat_minor": 2
}
