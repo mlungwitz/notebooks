{
 "cells": [
  {
   "cell_type": "code",
   "execution_count": 1,
   "metadata": {},
   "outputs": [],
   "source": [
    "import QuantLib as ql"
   ]
  },
  {
   "cell_type": "code",
   "execution_count": 2,
   "metadata": {},
   "outputs": [],
   "source": [
    "tol = 1E-4\n",
    "alpha = 0.08\n",
    "beta = 0.70\n",
    "nu = 0.20\n",
    "rho = -0.30\n",
    "tau = 5.0\n",
    "forward = 0.03"
   ]
  },
  {
   "cell_type": "code",
   "execution_count": 3,
   "metadata": {},
   "outputs": [],
   "source": [
    "sabr = ql.SabrSmileSection(tau, forward, [alpha, beta, nu, rho])"
   ]
  },
  {
   "cell_type": "code",
   "execution_count": 4,
   "metadata": {},
   "outputs": [
    {
     "ename": "AttributeError",
     "evalue": "module 'QuantLib' has no attribute 'ZabrShortMaturityLognormalSmileSection'",
     "output_type": "error",
     "traceback": [
      "\u001b[1;31m---------------------------------------------------------------------------\u001b[0m",
      "\u001b[1;31mAttributeError\u001b[0m                            Traceback (most recent call last)",
      "\u001b[1;32m<ipython-input-4-bd79b29ecf5f>\u001b[0m in \u001b[0;36m<module>\u001b[1;34m()\u001b[0m\n\u001b[1;32m----> 1\u001b[1;33m \u001b[0mzabr0\u001b[0m \u001b[1;33m=\u001b[0m \u001b[0mql\u001b[0m\u001b[1;33m.\u001b[0m\u001b[0mZabrShortMaturityLognormalSmileSection\u001b[0m\u001b[1;33m(\u001b[0m\u001b[0mtau\u001b[0m\u001b[1;33m,\u001b[0m \u001b[0mforward\u001b[0m\u001b[1;33m,\u001b[0m \u001b[1;33m[\u001b[0m\u001b[0malpha\u001b[0m\u001b[1;33m,\u001b[0m \u001b[0mbeta\u001b[0m\u001b[1;33m,\u001b[0m \u001b[0mnu\u001b[0m\u001b[1;33m,\u001b[0m \u001b[0mrho\u001b[0m\u001b[1;33m,\u001b[0m \u001b[1;36m1.0\u001b[0m\u001b[1;33m]\u001b[0m\u001b[1;33m)\u001b[0m\u001b[1;33m\u001b[0m\u001b[0m\n\u001b[0m",
      "\u001b[1;31mAttributeError\u001b[0m: module 'QuantLib' has no attribute 'ZabrShortMaturityLognormalSmileSection'"
     ]
    }
   ],
   "source": [
    "zabr0 = ql.ZabrShortMaturityLognormalSmileSection(tau, forward, [alpha, beta, nu, rho, 1.0])"
   ]
  },
  {
   "cell_type": "code",
   "execution_count": null,
   "metadata": {},
   "outputs": [],
   "source": [
    "zabr1 = ql.ZabrShortMaturityNormalSmileSection(tau, forward, [alpha, beta, nu, rho, 1.0])"
   ]
  },
  {
   "cell_type": "code",
   "execution_count": null,
   "metadata": {},
   "outputs": [],
   "source": [
    "zabr2 = ql.ZabrLocalVolatilitySmileSection(tau, forward, [alpha, beta, nu, rho, 1.0])"
   ]
  },
  {
   "cell_type": "code",
   "execution_count": null,
   "metadata": {},
   "outputs": [],
   "source": [
    "zabr3 = ql.ZabrFullFdSmileSection(tau, forward, [alpha, beta, nu, rho, 1.0],[],2)"
   ]
  },
  {
   "cell_type": "code",
   "execution_count": 5,
   "metadata": {},
   "outputs": [],
   "source": [
    "k = 0.0001"
   ]
  },
  {
   "cell_type": "code",
   "execution_count": null,
   "metadata": {},
   "outputs": [],
   "source": [
    "while k <= 0.70:\n",
    "    c0 = sabr.optionPrice(k)\n",
    "    z0 = zabr0.optionPrice(k)\n",
    "    z1 = zabr1.optionPrice(k)\n",
    "    z2 = zabr2.optionPrice(k)\n",
    "    z3 = zabr3.optionPrice(k)\n",
    "    if (abs(z0 - c0) > tol):\n",
    "        print(\"Zabr short maturity lognormal expansion price (\"+str(z0)+\") deviates from Sabr Hagan 2002 price by \" +str(z0 - c0))\n",
    "    print(c0)\n",
    "    print(z0)\n",
    "    print(z1)\n",
    "    print(z2)    \n",
    "    print(z3)    \n",
    "    break\n",
    "    k += 0.0001"
   ]
  },
  {
   "cell_type": "code",
   "execution_count": 6,
   "metadata": {},
   "outputs": [],
   "source": [
    "strikes = [0.0, 0.005, 0.01, 0.02, 0.03]\n",
    "vols = [sabr.volatility(s) for s in strikes]\n",
    "volhandles = [ql.QuoteHandle(ql.SimpleQuote(v)) for v in vols]"
   ]
  },
  {
   "cell_type": "code",
   "execution_count": 7,
   "metadata": {},
   "outputs": [
    {
     "data": {
      "text/plain": [
       "[0.9327214125935926,\n",
       " 0.3840210080685326,\n",
       " 0.3196779782288863,\n",
       " 0.2595043599126028,\n",
       " 0.2298353130517451]"
      ]
     },
     "execution_count": 7,
     "metadata": {},
     "output_type": "execute_result"
    }
   ],
   "source": [
    "vols"
   ]
  },
  {
   "cell_type": "code",
   "execution_count": 8,
   "metadata": {},
   "outputs": [
    {
     "ename": "NameError",
     "evalue": "name 'zabr0' is not defined",
     "output_type": "error",
     "traceback": [
      "\u001b[1;31m---------------------------------------------------------------------------\u001b[0m",
      "\u001b[1;31mNameError\u001b[0m                                 Traceback (most recent call last)",
      "\u001b[1;32m<ipython-input-8-6083244e6287>\u001b[0m in \u001b[0;36m<module>\u001b[1;34m()\u001b[0m\n\u001b[0;32m      1\u001b[0m \u001b[1;32mfor\u001b[0m \u001b[0ms\u001b[0m \u001b[1;32min\u001b[0m \u001b[0mstrikes\u001b[0m\u001b[1;33m:\u001b[0m\u001b[1;33m\u001b[0m\u001b[0m\n\u001b[1;32m----> 2\u001b[1;33m     \u001b[0mprint\u001b[0m\u001b[1;33m(\u001b[0m\u001b[0msabr\u001b[0m\u001b[1;33m.\u001b[0m\u001b[0mdigitalOptionPrice\u001b[0m\u001b[1;33m(\u001b[0m\u001b[0ms\u001b[0m\u001b[1;33m)\u001b[0m\u001b[1;33m,\u001b[0m \u001b[0mzabr0\u001b[0m\u001b[1;33m.\u001b[0m\u001b[0mdigitalOptionPrice\u001b[0m\u001b[1;33m(\u001b[0m\u001b[0ms\u001b[0m\u001b[1;33m)\u001b[0m\u001b[1;33m,\u001b[0m \u001b[0mzabr1\u001b[0m\u001b[1;33m.\u001b[0m\u001b[0mdigitalOptionPrice\u001b[0m\u001b[1;33m(\u001b[0m\u001b[0ms\u001b[0m\u001b[1;33m)\u001b[0m\u001b[1;33m,\u001b[0m \u001b[0mzabr2\u001b[0m\u001b[1;33m.\u001b[0m\u001b[0mdigitalOptionPrice\u001b[0m\u001b[1;33m(\u001b[0m\u001b[0ms\u001b[0m\u001b[1;33m)\u001b[0m\u001b[1;33m,\u001b[0m \u001b[0mzabr3\u001b[0m\u001b[1;33m.\u001b[0m\u001b[0mdigitalOptionPrice\u001b[0m\u001b[1;33m(\u001b[0m\u001b[0ms\u001b[0m\u001b[1;33m)\u001b[0m\u001b[1;33m)\u001b[0m\u001b[1;33m\u001b[0m\u001b[0m\n\u001b[0m",
      "\u001b[1;31mNameError\u001b[0m: name 'zabr0' is not defined"
     ]
    }
   ],
   "source": [
    "for s in strikes:\n",
    "    print(sabr.digitalOptionPrice(s), zabr0.digitalOptionPrice(s), zabr1.digitalOptionPrice(s), zabr2.digitalOptionPrice(s), zabr3.digitalOptionPrice(s))"
   ]
  },
  {
   "cell_type": "code",
   "execution_count": 9,
   "metadata": {},
   "outputs": [],
   "source": [
    "atm_vol = sabr.volatility(forward)"
   ]
  },
  {
   "cell_type": "code",
   "execution_count": 10,
   "metadata": {},
   "outputs": [
    {
     "data": {
      "text/plain": [
       "0.2298353130517451"
      ]
     },
     "execution_count": 10,
     "metadata": {},
     "output_type": "execute_result"
    }
   ],
   "source": [
    "atm_vol"
   ]
  },
  {
   "cell_type": "code",
   "execution_count": 11,
   "metadata": {},
   "outputs": [
    {
     "ename": "AttributeError",
     "evalue": "module 'QuantLib' has no attribute 'ZabrShortMaturityLognormalInterpolatedSmileSection'",
     "output_type": "error",
     "traceback": [
      "\u001b[1;31m---------------------------------------------------------------------------\u001b[0m",
      "\u001b[1;31mAttributeError\u001b[0m                            Traceback (most recent call last)",
      "\u001b[1;32m<ipython-input-11-87a6b36d67fd>\u001b[0m in \u001b[0;36m<module>\u001b[1;34m()\u001b[0m\n\u001b[1;32m----> 1\u001b[1;33m izabr1 = ql.ZabrShortMaturityLognormalInterpolatedSmileSection(ql.Date(29,8,2023), ql.QuoteHandle(ql.SimpleQuote(forward)),\n\u001b[0m\u001b[0;32m      2\u001b[0m                                                               \u001b[0mstrikes\u001b[0m\u001b[1;33m,\u001b[0m \u001b[1;32mFalse\u001b[0m\u001b[1;33m,\u001b[0m \u001b[0mql\u001b[0m\u001b[1;33m.\u001b[0m\u001b[0mQuoteHandle\u001b[0m\u001b[1;33m(\u001b[0m\u001b[0mql\u001b[0m\u001b[1;33m.\u001b[0m\u001b[0mSimpleQuote\u001b[0m\u001b[1;33m(\u001b[0m\u001b[0matm_vol\u001b[0m\u001b[1;33m)\u001b[0m\u001b[1;33m)\u001b[0m\u001b[1;33m,\u001b[0m\u001b[1;33m\u001b[0m\u001b[0m\n\u001b[0;32m      3\u001b[0m                                                               volhandles, alpha, beta, nu, rho, 1.0)\n",
      "\u001b[1;31mAttributeError\u001b[0m: module 'QuantLib' has no attribute 'ZabrShortMaturityLognormalInterpolatedSmileSection'"
     ]
    }
   ],
   "source": [
    "izabr1 = ql.ZabrShortMaturityLognormalInterpolatedSmileSection(ql.Date(29,8,2023), ql.QuoteHandle(ql.SimpleQuote(forward)),\n",
    "                                                              strikes, False, ql.QuoteHandle(ql.SimpleQuote(atm_vol)), \n",
    "                                                              volhandles, alpha, beta, nu, rho, 1.0)"
   ]
  },
  {
   "cell_type": "code",
   "execution_count": null,
   "metadata": {},
   "outputs": [],
   "source": [
    "izabr1"
   ]
  },
  {
   "cell_type": "code",
   "execution_count": 12,
   "metadata": {},
   "outputs": [],
   "source": [
    "tau = 1.0\n",
    "beta = 0.5\n",
    "alpha = 0.026\n",
    "rho = -0.1\n",
    "nu = 0.4\n",
    "f = 0.0488"
   ]
  },
  {
   "cell_type": "code",
   "execution_count": 13,
   "metadata": {},
   "outputs": [],
   "source": [
    "sabr = ql.SabrSmileSection(tau, forward, [alpha, beta, nu, rho])"
   ]
  },
  {
   "cell_type": "code",
   "execution_count": 14,
   "metadata": {},
   "outputs": [
    {
     "ename": "AttributeError",
     "evalue": "module 'QuantLib' has no attribute 'NoArbSabrSmileSection'",
     "output_type": "error",
     "traceback": [
      "\u001b[1;31m---------------------------------------------------------------------------\u001b[0m",
      "\u001b[1;31mAttributeError\u001b[0m                            Traceback (most recent call last)",
      "\u001b[1;32m<ipython-input-14-ecd990ec50bb>\u001b[0m in \u001b[0;36m<module>\u001b[1;34m()\u001b[0m\n\u001b[1;32m----> 1\u001b[1;33m \u001b[0mnasabr\u001b[0m \u001b[1;33m=\u001b[0m \u001b[0mql\u001b[0m\u001b[1;33m.\u001b[0m\u001b[0mNoArbSabrSmileSection\u001b[0m\u001b[1;33m(\u001b[0m\u001b[0mtau\u001b[0m\u001b[1;33m,\u001b[0m \u001b[0mforward\u001b[0m\u001b[1;33m,\u001b[0m \u001b[1;33m[\u001b[0m\u001b[0malpha\u001b[0m\u001b[1;33m,\u001b[0m \u001b[0mbeta\u001b[0m\u001b[1;33m,\u001b[0m \u001b[0mnu\u001b[0m\u001b[1;33m,\u001b[0m \u001b[0mrho\u001b[0m\u001b[1;33m]\u001b[0m\u001b[1;33m)\u001b[0m\u001b[1;33m\u001b[0m\u001b[0m\n\u001b[0m",
      "\u001b[1;31mAttributeError\u001b[0m: module 'QuantLib' has no attribute 'NoArbSabrSmileSection'"
     ]
    }
   ],
   "source": [
    "nasabr = ql.NoArbSabrSmileSection(tau, forward, [alpha, beta, nu, rho])"
   ]
  },
  {
   "cell_type": "code",
   "execution_count": 15,
   "metadata": {},
   "outputs": [
    {
     "data": {
      "text/plain": [
       "0.1520050964457569"
      ]
     },
     "execution_count": 15,
     "metadata": {},
     "output_type": "execute_result"
    }
   ],
   "source": [
    "sabr.volatility(forward)"
   ]
  },
  {
   "cell_type": "code",
   "execution_count": null,
   "metadata": {},
   "outputs": [],
   "source": [
    "nasabr.volatility(forward)"
   ]
  },
  {
   "cell_type": "code",
   "execution_count": 16,
   "metadata": {},
   "outputs": [
    {
     "data": {
      "text/plain": [
       "[0.3967113071488406,\n",
       " 0.29605346176193054,\n",
       " 0.23657410307923882,\n",
       " 0.19572212980984874,\n",
       " 0.1520050964457569,\n",
       " 0.21300931952008897]"
      ]
     },
     "execution_count": 16,
     "metadata": {},
     "output_type": "execute_result"
    }
   ],
   "source": [
    "strikes = [0.005, 0.01, 0.015, 0.02, 0.03, 0.10]\n",
    "vols = [sabr.volatility(s) for s in strikes]\n",
    "volhandles = [ql.QuoteHandle(ql.SimpleQuote(v)) for v in vols]\n",
    "vols"
   ]
  },
  {
   "cell_type": "code",
   "execution_count": 17,
   "metadata": {},
   "outputs": [
    {
     "data": {
      "text/plain": [
       "0.1520050964457569"
      ]
     },
     "execution_count": 17,
     "metadata": {},
     "output_type": "execute_result"
    }
   ],
   "source": [
    "atm_vol = sabr.volatility(forward)\n",
    "atm_vol"
   ]
  },
  {
   "cell_type": "code",
   "execution_count": 18,
   "metadata": {},
   "outputs": [
    {
     "ename": "AttributeError",
     "evalue": "module 'QuantLib' has no attribute 'NoArbSabrInterpolatedSmileSection'",
     "output_type": "error",
     "traceback": [
      "\u001b[1;31m---------------------------------------------------------------------------\u001b[0m",
      "\u001b[1;31mAttributeError\u001b[0m                            Traceback (most recent call last)",
      "\u001b[1;32m<ipython-input-18-9621f1e34963>\u001b[0m in \u001b[0;36m<module>\u001b[1;34m()\u001b[0m\n\u001b[1;32m----> 1\u001b[1;33m nasabr1 = ql.NoArbSabrInterpolatedSmileSection(ql.Date(29,8,2019), ql.QuoteHandle(ql.SimpleQuote(forward)),\n\u001b[0m\u001b[0;32m      2\u001b[0m                                                               \u001b[0mstrikes\u001b[0m\u001b[1;33m,\u001b[0m \u001b[1;32mFalse\u001b[0m\u001b[1;33m,\u001b[0m \u001b[0mql\u001b[0m\u001b[1;33m.\u001b[0m\u001b[0mQuoteHandle\u001b[0m\u001b[1;33m(\u001b[0m\u001b[0mql\u001b[0m\u001b[1;33m.\u001b[0m\u001b[0mSimpleQuote\u001b[0m\u001b[1;33m(\u001b[0m\u001b[0matm_vol\u001b[0m\u001b[1;33m)\u001b[0m\u001b[1;33m)\u001b[0m\u001b[1;33m,\u001b[0m\u001b[1;33m\u001b[0m\u001b[0m\n\u001b[0;32m      3\u001b[0m                                                               volhandles, alpha, beta, nu, rho, False, False, False, False)\n",
      "\u001b[1;31mAttributeError\u001b[0m: module 'QuantLib' has no attribute 'NoArbSabrInterpolatedSmileSection'"
     ]
    }
   ],
   "source": [
    "nasabr1 = ql.NoArbSabrInterpolatedSmileSection(ql.Date(29,8,2019), ql.QuoteHandle(ql.SimpleQuote(forward)),\n",
    "                                                              strikes, False, ql.QuoteHandle(ql.SimpleQuote(atm_vol)), \n",
    "                                                              volhandles, alpha, beta, nu, rho, False, False, False, False)"
   ]
  },
  {
   "cell_type": "code",
   "execution_count": null,
   "metadata": {},
   "outputs": [],
   "source": [
    "nasabr1.volatility(forward)"
   ]
  },
  {
   "cell_type": "code",
   "execution_count": 19,
   "metadata": {},
   "outputs": [
    {
     "ename": "NameError",
     "evalue": "name 'nasabr' is not defined",
     "output_type": "error",
     "traceback": [
      "\u001b[1;31m---------------------------------------------------------------------------\u001b[0m",
      "\u001b[1;31mNameError\u001b[0m                                 Traceback (most recent call last)",
      "\u001b[1;32m<ipython-input-19-016c8d251504>\u001b[0m in \u001b[0;36m<module>\u001b[1;34m()\u001b[0m\n\u001b[0;32m      1\u001b[0m \u001b[1;32mfor\u001b[0m \u001b[0ms\u001b[0m \u001b[1;32min\u001b[0m \u001b[0mstrikes\u001b[0m\u001b[1;33m:\u001b[0m\u001b[1;33m\u001b[0m\u001b[0m\n\u001b[1;32m----> 2\u001b[1;33m     \u001b[0mprint\u001b[0m\u001b[1;33m(\u001b[0m\u001b[0msabr\u001b[0m\u001b[1;33m.\u001b[0m\u001b[0mdigitalOptionPrice\u001b[0m\u001b[1;33m(\u001b[0m\u001b[0ms\u001b[0m\u001b[1;33m)\u001b[0m\u001b[1;33m,\u001b[0m \u001b[0mnasabr\u001b[0m\u001b[1;33m.\u001b[0m\u001b[0mdigitalOptionPrice\u001b[0m\u001b[1;33m(\u001b[0m\u001b[0ms\u001b[0m\u001b[1;33m)\u001b[0m\u001b[1;33m,\u001b[0m \u001b[0mnasabr1\u001b[0m\u001b[1;33m.\u001b[0m\u001b[0mdigitalOptionPrice\u001b[0m\u001b[1;33m(\u001b[0m\u001b[0ms\u001b[0m\u001b[1;33m)\u001b[0m\u001b[1;33m)\u001b[0m\u001b[1;33m\u001b[0m\u001b[0m\n\u001b[0m",
      "\u001b[1;31mNameError\u001b[0m: name 'nasabr' is not defined"
     ]
    }
   ],
   "source": [
    "for s in strikes:\n",
    "    print(sabr.digitalOptionPrice(s), nasabr.digitalOptionPrice(s), nasabr1.digitalOptionPrice(s))"
   ]
  },
  {
   "cell_type": "code",
   "execution_count": null,
   "metadata": {},
   "outputs": [],
   "source": [
    "nasabr1.alpha()"
   ]
  },
  {
   "cell_type": "code",
   "execution_count": null,
   "metadata": {},
   "outputs": [],
   "source": [
    "nasabr1.beta()"
   ]
  },
  {
   "cell_type": "code",
   "execution_count": null,
   "metadata": {},
   "outputs": [],
   "source": [
    "nasabr1.rho()"
   ]
  },
  {
   "cell_type": "code",
   "execution_count": null,
   "metadata": {},
   "outputs": [],
   "source": [
    "nasabr1.nu()"
   ]
  },
  {
   "cell_type": "code",
   "execution_count": null,
   "metadata": {},
   "outputs": [],
   "source": [
    "nasabr1.endCriteria()"
   ]
  },
  {
   "cell_type": "code",
   "execution_count": 9,
   "metadata": {},
   "outputs": [
    {
     "ename": "NotImplementedError",
     "evalue": "Wrong number or type of arguments for overloaded function 'new_ConstantSwaptionVolatility'.\n  Possible C/C++ prototypes are:\n    ConstantSwaptionVolatilityPtr::ConstantSwaptionVolatilityPtr(Natural,Calendar const &,BusinessDayConvention,Handle< Quote > const &,DayCounter const &,VolatilityType const,Real const)\n    ConstantSwaptionVolatilityPtr::ConstantSwaptionVolatilityPtr(Natural,Calendar const &,BusinessDayConvention,Handle< Quote > const &,DayCounter const &,VolatilityType const)\n    ConstantSwaptionVolatilityPtr::ConstantSwaptionVolatilityPtr(Natural,Calendar const &,BusinessDayConvention,Handle< Quote > const &,DayCounter const &)\n    ConstantSwaptionVolatilityPtr::ConstantSwaptionVolatilityPtr(Date const &,Calendar const &,BusinessDayConvention,Handle< Quote > const &,DayCounter const &,VolatilityType const,Real const)\n    ConstantSwaptionVolatilityPtr::ConstantSwaptionVolatilityPtr(Date const &,Calendar const &,BusinessDayConvention,Handle< Quote > const &,DayCounter const &,VolatilityType const)\n    ConstantSwaptionVolatilityPtr::ConstantSwaptionVolatilityPtr(Date const &,Calendar const &,BusinessDayConvention,Handle< Quote > const &,DayCounter const &)\n    ConstantSwaptionVolatilityPtr::ConstantSwaptionVolatilityPtr(Natural,Calendar const &,BusinessDayConvention,Volatility,DayCounter const &,VolatilityType const,Real const)\n    ConstantSwaptionVolatilityPtr::ConstantSwaptionVolatilityPtr(Natural,Calendar const &,BusinessDayConvention,Volatility,DayCounter const &,VolatilityType const)\n    ConstantSwaptionVolatilityPtr::ConstantSwaptionVolatilityPtr(Natural,Calendar const &,BusinessDayConvention,Volatility,DayCounter const &)\n    ConstantSwaptionVolatilityPtr::ConstantSwaptionVolatilityPtr(Date const &,Calendar const &,BusinessDayConvention,Volatility,DayCounter const &,VolatilityType const,Real const)\n    ConstantSwaptionVolatilityPtr::ConstantSwaptionVolatilityPtr(Date const &,Calendar const &,BusinessDayConvention,Volatility,DayCounter const &,VolatilityType const)\n    ConstantSwaptionVolatilityPtr::ConstantSwaptionVolatilityPtr(Date const &,Calendar const &,BusinessDayConvention,Volatility,DayCounter const &)\n",
     "output_type": "error",
     "traceback": [
      "\u001b[1;31m---------------------------------------------------------------------------\u001b[0m",
      "\u001b[1;31mNotImplementedError\u001b[0m                       Traceback (most recent call last)",
      "\u001b[1;32m<ipython-input-9-bb6272b7d87b>\u001b[0m in \u001b[0;36m<module>\u001b[1;34m()\u001b[0m\n\u001b[0;32m      3\u001b[0m \u001b[0mibor_index\u001b[0m \u001b[1;33m=\u001b[0m \u001b[0mql\u001b[0m\u001b[1;33m.\u001b[0m\u001b[0mEuribor6M\u001b[0m\u001b[1;33m(\u001b[0m\u001b[1;33m)\u001b[0m\u001b[1;33m\u001b[0m\u001b[0m\n\u001b[0;32m      4\u001b[0m \u001b[0mbid_ask_spreads\u001b[0m \u001b[1;33m=\u001b[0m \u001b[1;33m[\u001b[0m\u001b[1;33m[\u001b[0m\u001b[0mql\u001b[0m\u001b[1;33m.\u001b[0m\u001b[0mQuoteHandle\u001b[0m\u001b[1;33m(\u001b[0m\u001b[0mql\u001b[0m\u001b[1;33m.\u001b[0m\u001b[0mSimpleQuote\u001b[0m\u001b[1;33m(\u001b[0m\u001b[1;36m0.01\u001b[0m\u001b[1;33m)\u001b[0m\u001b[1;33m)\u001b[0m \u001b[1;32mfor\u001b[0m \u001b[0mi\u001b[0m \u001b[1;32min\u001b[0m \u001b[0mrange\u001b[0m\u001b[1;33m(\u001b[0m\u001b[1;36m0\u001b[0m\u001b[1;33m,\u001b[0m\u001b[1;36m5\u001b[0m\u001b[1;33m)\u001b[0m\u001b[1;33m]\u001b[0m \u001b[1;32mfor\u001b[0m \u001b[0mj\u001b[0m \u001b[1;32min\u001b[0m \u001b[0mswap_lengths\u001b[0m\u001b[1;33m*\u001b[0m\u001b[1;36m2\u001b[0m\u001b[1;33m]\u001b[0m\u001b[1;33m\u001b[0m\u001b[0m\n\u001b[1;32m----> 5\u001b[1;33m \u001b[0mflat_vol_ts\u001b[0m \u001b[1;33m=\u001b[0m \u001b[0mql\u001b[0m\u001b[1;33m.\u001b[0m\u001b[0mConstantSwaptionVolatility\u001b[0m\u001b[1;33m(\u001b[0m\u001b[1;36m0.01\u001b[0m\u001b[1;33m)\u001b[0m\u001b[1;33m\u001b[0m\u001b[0m\n\u001b[0m\u001b[0;32m      6\u001b[0m \u001b[1;31m#pricers = [ql.LinearTsrPricer(ql) for i in swap_indices]\u001b[0m\u001b[1;33m\u001b[0m\u001b[1;33m\u001b[0m\u001b[0m\n\u001b[0;32m      7\u001b[0m \u001b[1;33m\u001b[0m\u001b[0m\n",
      "\u001b[1;32mF:\\WinPython-64bit-3.6.3.0Qt5\\python-3.6.3.amd64\\lib\\site-packages\\quantlib_python-1.14-py3.6-win-amd64.egg\\QuantLib\\QuantLib.py\u001b[0m in \u001b[0;36m__init__\u001b[1;34m(self, *args)\u001b[0m\n\u001b[0;32m   8971\u001b[0m \u001b[1;33m\u001b[0m\u001b[0m\n\u001b[0;32m   8972\u001b[0m     \u001b[1;32mdef\u001b[0m \u001b[0m__init__\u001b[0m\u001b[1;33m(\u001b[0m\u001b[0mself\u001b[0m\u001b[1;33m,\u001b[0m \u001b[1;33m*\u001b[0m\u001b[0margs\u001b[0m\u001b[1;33m)\u001b[0m\u001b[1;33m:\u001b[0m\u001b[1;33m\u001b[0m\u001b[0m\n\u001b[1;32m-> 8973\u001b[1;33m         \u001b[0mthis\u001b[0m \u001b[1;33m=\u001b[0m \u001b[0m_QuantLib\u001b[0m\u001b[1;33m.\u001b[0m\u001b[0mnew_ConstantSwaptionVolatility\u001b[0m\u001b[1;33m(\u001b[0m\u001b[1;33m*\u001b[0m\u001b[0margs\u001b[0m\u001b[1;33m)\u001b[0m\u001b[1;33m\u001b[0m\u001b[0m\n\u001b[0m\u001b[0;32m   8974\u001b[0m         \u001b[1;32mtry\u001b[0m\u001b[1;33m:\u001b[0m\u001b[1;33m\u001b[0m\u001b[0m\n\u001b[0;32m   8975\u001b[0m             \u001b[0mself\u001b[0m\u001b[1;33m.\u001b[0m\u001b[0mthis\u001b[0m\u001b[1;33m.\u001b[0m\u001b[0mappend\u001b[0m\u001b[1;33m(\u001b[0m\u001b[0mthis\u001b[0m\u001b[1;33m)\u001b[0m\u001b[1;33m\u001b[0m\u001b[0m\n",
      "\u001b[1;31mNotImplementedError\u001b[0m: Wrong number or type of arguments for overloaded function 'new_ConstantSwaptionVolatility'.\n  Possible C/C++ prototypes are:\n    ConstantSwaptionVolatilityPtr::ConstantSwaptionVolatilityPtr(Natural,Calendar const &,BusinessDayConvention,Handle< Quote > const &,DayCounter const &,VolatilityType const,Real const)\n    ConstantSwaptionVolatilityPtr::ConstantSwaptionVolatilityPtr(Natural,Calendar const &,BusinessDayConvention,Handle< Quote > const &,DayCounter const &,VolatilityType const)\n    ConstantSwaptionVolatilityPtr::ConstantSwaptionVolatilityPtr(Natural,Calendar const &,BusinessDayConvention,Handle< Quote > const &,DayCounter const &)\n    ConstantSwaptionVolatilityPtr::ConstantSwaptionVolatilityPtr(Date const &,Calendar const &,BusinessDayConvention,Handle< Quote > const &,DayCounter const &,VolatilityType const,Real const)\n    ConstantSwaptionVolatilityPtr::ConstantSwaptionVolatilityPtr(Date const &,Calendar const &,BusinessDayConvention,Handle< Quote > const &,DayCounter const &,VolatilityType const)\n    ConstantSwaptionVolatilityPtr::ConstantSwaptionVolatilityPtr(Date const &,Calendar const &,BusinessDayConvention,Handle< Quote > const &,DayCounter const &)\n    ConstantSwaptionVolatilityPtr::ConstantSwaptionVolatilityPtr(Natural,Calendar const &,BusinessDayConvention,Volatility,DayCounter const &,VolatilityType const,Real const)\n    ConstantSwaptionVolatilityPtr::ConstantSwaptionVolatilityPtr(Natural,Calendar const &,BusinessDayConvention,Volatility,DayCounter const &,VolatilityType const)\n    ConstantSwaptionVolatilityPtr::ConstantSwaptionVolatilityPtr(Natural,Calendar const &,BusinessDayConvention,Volatility,DayCounter const &)\n    ConstantSwaptionVolatilityPtr::ConstantSwaptionVolatilityPtr(Date const &,Calendar const &,BusinessDayConvention,Volatility,DayCounter const &,VolatilityType const,Real const)\n    ConstantSwaptionVolatilityPtr::ConstantSwaptionVolatilityPtr(Date const &,Calendar const &,BusinessDayConvention,Volatility,DayCounter const &,VolatilityType const)\n    ConstantSwaptionVolatilityPtr::ConstantSwaptionVolatilityPtr(Date const &,Calendar const &,BusinessDayConvention,Volatility,DayCounter const &)\n"
     ]
    }
   ],
   "source": [
    "swap_lengths = [ql.Period(\"5Y\"), ql.Period(\"10Y\")]\n",
    "swap_indices = [ql.EuriborSwapIsdaFixA(p) for p in swap_lengths]\n",
    "ibor_index = ql.Euribor6M()\n",
    "bid_ask_spreads = [[ql.QuoteHandle(ql.SimpleQuote(0.01)) for i in range(0,5)] for j in swap_lengths*2]\n",
    "flat_vol_ts = ql.ConstantSwaptionVolatility(0.01)\n",
    "#pricers = [ql.LinearTsrPricer(ql) for i in swap_indices]\n",
    "\n",
    "#ql.CmsMarket()"
   ]
  }
 ],
 "metadata": {
  "kernelspec": {
   "display_name": "Python 3",
   "language": "python",
   "name": "python3"
  },
  "language_info": {
   "codemirror_mode": {
    "name": "ipython",
    "version": 3
   },
   "file_extension": ".py",
   "mimetype": "text/x-python",
   "name": "python",
   "nbconvert_exporter": "python",
   "pygments_lexer": "ipython3",
   "version": "3.6.3"
  }
 },
 "nbformat": 4,
 "nbformat_minor": 2
}
