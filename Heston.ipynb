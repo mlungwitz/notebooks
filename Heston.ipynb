{
 "cells": [
  {
   "cell_type": "code",
   "execution_count": 1,
   "metadata": {},
   "outputs": [],
   "source": [
    "import QuantLib as ql\n",
    "from math import pow, sqrt\n",
    "import numpy as np\n",
    "from scipy.optimize import root"
   ]
  },
  {
   "cell_type": "code",
   "execution_count": 2,
   "metadata": {},
   "outputs": [],
   "source": [
    "day_count = ql.Actual365Fixed()\n",
    "calendar = ql.UnitedStates()\n",
    "calculation_date = ql.Date(6, 11, 2015)\n",
    "\n",
    "spot = 659.37\n",
    "ql.Settings.instance().evaluationDate = calculation_date\n",
    "\n",
    "risk_free_rate = 0.01\n",
    "dividend_rate = 0.0\n",
    "yield_ts = ql.YieldTermStructureHandle(\n",
    "    ql.FlatForward(calculation_date, risk_free_rate, day_count))\n",
    "dividend_ts = ql.YieldTermStructureHandle(\n",
    "    ql.FlatForward(calculation_date, dividend_rate, day_count))"
   ]
  },
  {
   "cell_type": "code",
   "execution_count": 3,
   "metadata": {},
   "outputs": [],
   "source": [
    "expiration_dates = [ql.Date(6,12,2015), ql.Date(6,1,2016), ql.Date(6,2,2016),\n",
    "                    ql.Date(6,3,2016), ql.Date(6,4,2016), ql.Date(6,5,2016), \n",
    "                    ql.Date(6,6,2016), ql.Date(6,7,2016), ql.Date(6,8,2016),\n",
    "                    ql.Date(6,9,2016), ql.Date(6,10,2016), ql.Date(6,11,2016), \n",
    "                    ql.Date(6,12,2016), ql.Date(6,1,2017), ql.Date(6,2,2017),\n",
    "                    ql.Date(6,3,2017), ql.Date(6,4,2017), ql.Date(6,5,2017), \n",
    "                    ql.Date(6,6,2017), ql.Date(6,7,2017), ql.Date(6,8,2017),\n",
    "                    ql.Date(6,9,2017), ql.Date(6,10,2017), ql.Date(6,11,2017)]\n",
    "strikes = [527.50, 560.46, 593.43, 626.40, 659.37, 692.34, 725.31, 758.28]\n",
    "data = [\n",
    "[0.37819, 0.34177, 0.30394, 0.27832, 0.26453, 0.25916, 0.25941, 0.26127],\n",
    "[0.3445, 0.31769, 0.2933, 0.27614, 0.26575, 0.25729, 0.25228, 0.25202],\n",
    "[0.37419, 0.35372, 0.33729, 0.32492, 0.31601, 0.30883, 0.30036, 0.29568],\n",
    "[0.37498, 0.35847, 0.34475, 0.33399, 0.32715, 0.31943, 0.31098, 0.30506],\n",
    "[0.35941, 0.34516, 0.33296, 0.32275, 0.31867, 0.30969, 0.30239, 0.29631],\n",
    "[0.35521, 0.34242, 0.33154, 0.3219, 0.31948, 0.31096, 0.30424, 0.2984],\n",
    "[0.35442, 0.34267, 0.33288, 0.32374, 0.32245, 0.31474, 0.30838, 0.30283],\n",
    "[0.35384, 0.34286, 0.33386, 0.32507, 0.3246, 0.31745, 0.31135, 0.306],\n",
    "[0.35338, 0.343, 0.33464, 0.32614, 0.3263, 0.31961, 0.31371, 0.30852],\n",
    "[0.35301, 0.34312, 0.33526, 0.32698, 0.32766, 0.32132, 0.31558, 0.31052],\n",
    "[0.35272, 0.34322, 0.33574, 0.32765, 0.32873, 0.32267, 0.31705, 0.31209],\n",
    "[0.35246, 0.3433, 0.33617, 0.32822, 0.32965, 0.32383, 0.31831, 0.31344],\n",
    "[0.35226, 0.34336, 0.33651, 0.32869, 0.3304, 0.32477, 0.31934, 0.31453],\n",
    "[0.35207, 0.34342, 0.33681, 0.32911, 0.33106, 0.32561, 0.32025, 0.3155],\n",
    "[0.35171, 0.34327, 0.33679, 0.32931, 0.3319, 0.32665, 0.32139, 0.31675],\n",
    "[0.35128, 0.343, 0.33658, 0.32937, 0.33276, 0.32769, 0.32255, 0.31802],\n",
    "[0.35086, 0.34274, 0.33637, 0.32943, 0.3336, 0.32872, 0.32368, 0.31927],\n",
    "[0.35049, 0.34252, 0.33618, 0.32948, 0.33432, 0.32959, 0.32465, 0.32034],\n",
    "[0.35016, 0.34231, 0.33602, 0.32953, 0.33498, 0.3304, 0.32554, 0.32132],\n",
    "[0.34986, 0.34213, 0.33587, 0.32957, 0.33556, 0.3311, 0.32631, 0.32217],\n",
    "[0.34959, 0.34196, 0.33573, 0.32961, 0.3361, 0.33176, 0.32704, 0.32296],\n",
    "[0.34934, 0.34181, 0.33561, 0.32964, 0.33658, 0.33235, 0.32769, 0.32368],\n",
    "[0.34912, 0.34167, 0.3355, 0.32967, 0.33701, 0.33288, 0.32827, 0.32432],\n",
    "[0.34891, 0.34154, 0.33539, 0.3297, 0.33742, 0.33337, 0.32881, 0.32492]]"
   ]
  },
  {
   "cell_type": "code",
   "execution_count": 4,
   "metadata": {},
   "outputs": [],
   "source": [
    "def setup_helpers(engine, expiration_dates, strikes, \n",
    "                  data, ref_date, spot, yield_ts, \n",
    "                  dividend_ts):\n",
    "    heston_helpers = []\n",
    "    grid_data = []\n",
    "    for i, date in enumerate(expiration_dates):\n",
    "        for j, s in enumerate(strikes):\n",
    "            t = (date - ref_date )\n",
    "            p = ql.Period(t, ql.Days)\n",
    "            vols = data[i][j]\n",
    "            helper = ql.HestonModelHelper(\n",
    "                p, calendar, spot, s, \n",
    "                ql.QuoteHandle(ql.SimpleQuote(vols)),\n",
    "                yield_ts, dividend_ts)\n",
    "            helper.setPricingEngine(engine)\n",
    "            heston_helpers.append(helper)\n",
    "            grid_data.append((date, s))\n",
    "    return heston_helpers, grid_data\n",
    "\n",
    "def cost_function_generator(model, helpers,norm=False):\n",
    "    def cost_function(params):\n",
    "        params_ = ql.Array(list(params))\n",
    "        model.setParams(params_)\n",
    "        error = [h.calibrationError() for h in helpers]\n",
    "        if norm:\n",
    "            return np.sqrt(np.sum(np.abs(error)))\n",
    "        else:\n",
    "            return error\n",
    "    return cost_function\n",
    "\n",
    "def calibration_report(helpers, grid_data, detailed=False):\n",
    "    avg = 0.0\n",
    "    if detailed:\n",
    "        print (\"%15s %25s %15s %15s %20s\" % (\n",
    "            \"Strikes\", \"Expiry\", \"Market Value\", \n",
    "             \"Model Value\", \"Relative Error (%)\"))\n",
    "        print ( \"=\"*100)\n",
    "    for i, opt in enumerate(helpers):\n",
    "        err = (opt.modelValue()/opt.marketValue() - 1.0)\n",
    "        date,strike = grid_data[i]\n",
    "        if detailed:\n",
    "            print (\"%15.2f %25s %14.5f %15.5f %20.7f \" % (\n",
    "                strike, str(date), opt.marketValue(), \n",
    "                opt.modelValue(), \n",
    "                100.0*(opt.modelValue()/opt.marketValue() - 1.0)))\n",
    "        avg += abs(err)\n",
    "    avg = avg*100.0/len(helpers)\n",
    "    if detailed: print (\"-\"*100)\n",
    "    summary = \"Average Abs Error (%%) : %5.9f\" % (avg)\n",
    "    print (summary)\n",
    "    return avg\n",
    "    \n",
    "def setup_model(_yield_ts, _dividend_ts, _spot, \n",
    "                init_condition=(0.02,0.2,0.5,0.1,0.01)):\n",
    "    theta, kappa, sigma, rho, v0 = init_condition\n",
    "    process = ql.HestonProcess(_yield_ts, _dividend_ts, \n",
    "                           ql.QuoteHandle(ql.SimpleQuote(_spot)), \n",
    "                           v0, kappa, theta, sigma, rho)\n",
    "    model = ql.HestonModel(process)\n",
    "    engine = ql.AnalyticHestonEngine(model) \n",
    "    return model, engine\n",
    "summary= []"
   ]
  },
  {
   "cell_type": "code",
   "execution_count": 5,
   "metadata": {},
   "outputs": [],
   "source": [
    "model1, engine1 = setup_model(\n",
    "    yield_ts, dividend_ts, spot, \n",
    "    init_condition=(0.02,0.2,0.5,0.1,0.01))\n",
    "heston_helpers1, grid_data1 = setup_helpers(\n",
    "    engine1, expiration_dates, strikes, data, \n",
    "    calculation_date, spot, yield_ts, dividend_ts\n",
    ")\n",
    "initial_condition = list(model1.params())"
   ]
  },
  {
   "cell_type": "code",
   "execution_count": 6,
   "metadata": {},
   "outputs": [
    {
     "name": "stdout",
     "output_type": "stream",
     "text": [
      "theta = 0.125748, kappa = 7.915000, sigma = 1.887854, rho = -0.364942, v0 = 0.055397\n",
      "Average Abs Error (%) : 3.015268051\n",
      "Wall time: 2.14 s\n"
     ]
    }
   ],
   "source": [
    "%%time\n",
    "lm = ql.LevenbergMarquardt(1e-8, 1e-8, 1e-8)\n",
    "model1.calibrate(heston_helpers1, lm, \n",
    "                 ql.EndCriteria(500, 300, 1.0e-8,1.0e-8, 1.0e-8))\n",
    "theta, kappa, sigma, rho, v0 = model1.params()\n",
    "print (\"theta = %f, kappa = %f, sigma = %f, rho = %f, v0 = %f\" % \\\n",
    "    (theta, kappa, sigma, rho, v0))\n",
    "error = calibration_report(heston_helpers1, grid_data1)\n",
    "summary.append([\"QL LM1\", error] + list(model1.params()))"
   ]
  },
  {
   "cell_type": "code",
   "execution_count": 7,
   "metadata": {},
   "outputs": [],
   "source": [
    "model1, engine1 = setup_model(\n",
    "    yield_ts, dividend_ts, spot, \n",
    "    init_condition=(0.07,0.5,0.1,0.1,0.1))\n",
    "heston_helpers1, grid_data1 = setup_helpers(\n",
    "    engine1, expiration_dates, strikes, data, \n",
    "    calculation_date, spot, yield_ts, dividend_ts\n",
    ")\n",
    "initial_condition = list(model1.params())"
   ]
  },
  {
   "cell_type": "code",
   "execution_count": 8,
   "metadata": {},
   "outputs": [
    {
     "name": "stdout",
     "output_type": "stream",
     "text": [
      "theta = 0.084523, kappa = 0.000000, sigma = 0.132289, rho = -0.514280, v0 = 0.099928\n",
      "Average Abs Error (%) : 11.007436941\n",
      "Wall time: 2.45 s\n"
     ]
    }
   ],
   "source": [
    "%%time\n",
    "lm = ql.LevenbergMarquardt(1e-8, 1e-8, 1e-8)\n",
    "model1.calibrate(heston_helpers1, lm, \n",
    "                 ql.EndCriteria(500, 300, 1.0e-8,1.0e-8, 1.0e-8))\n",
    "theta, kappa, sigma, rho, v0 = model1.params()\n",
    "print (\"theta = %f, kappa = %f, sigma = %f, rho = %f, v0 = %f\" % \\\n",
    "    (theta, kappa, sigma, rho, v0))\n",
    "error = calibration_report(heston_helpers1, grid_data1)\n",
    "summary.append([\"QL LM2\", error] + list(model1.params()))"
   ]
  },
  {
   "cell_type": "code",
   "execution_count": 9,
   "metadata": {},
   "outputs": [],
   "source": [
    "model2, engine2 = setup_model(\n",
    "    yield_ts, dividend_ts, spot, \n",
    "    init_condition=(0.02,0.2,0.5,0.1,0.01))\n",
    "heston_helpers2, grid_data2 = setup_helpers(\n",
    "    engine2, expiration_dates, strikes, data,\n",
    "    calculation_date, spot, yield_ts, dividend_ts\n",
    ")\n",
    "initial_condition = list(model2.params())"
   ]
  },
  {
   "cell_type": "code",
   "execution_count": 10,
   "metadata": {},
   "outputs": [
    {
     "name": "stdout",
     "output_type": "stream",
     "text": [
      "theta = 0.125747, kappa = 7.916088, sigma = 1.888001, rho = -0.364941, v0 = 0.055393\n",
      "Average Abs Error (%) : 3.015251169\n",
      "Wall time: 2.1 s\n"
     ]
    }
   ],
   "source": [
    "%%time\n",
    "cost_function = cost_function_generator(model2, heston_helpers2)\n",
    "sol = root(cost_function, initial_condition, method='lm')\n",
    "theta, kappa, sigma, rho, v0 = model2.params()\n",
    "print (\"theta = %f, kappa = %f, sigma = %f, rho = %f, v0 = %f\" % \\\n",
    "    (theta, kappa, sigma, rho, v0))\n",
    "error = calibration_report(heston_helpers2, grid_data2)\n",
    "summary.append([\"Scipy LM1\", error] + list(model2.params()))"
   ]
  },
  {
   "cell_type": "code",
   "execution_count": 11,
   "metadata": {},
   "outputs": [],
   "source": [
    "model2, engine2 = setup_model(\n",
    "    yield_ts, dividend_ts, spot,\n",
    "    init_condition=(0.07,0.5,0.1,0.1,0.1))\n",
    "heston_helpers2, grid_data2 = setup_helpers(\n",
    "    engine2, expiration_dates, strikes, data,\n",
    "    calculation_date, spot, yield_ts, dividend_ts\n",
    ")\n",
    "initial_condition = list(model2.params())"
   ]
  },
  {
   "cell_type": "code",
   "execution_count": 12,
   "metadata": {},
   "outputs": [
    {
     "name": "stdout",
     "output_type": "stream",
     "text": [
      "theta = 0.040267, kappa = -0.481616, sigma = 0.196565, rho = -1.003190, v0 = 0.090195\n",
      "Average Abs Error (%) : 6.730800031\n",
      "Wall time: 16.1 s\n"
     ]
    }
   ],
   "source": [
    "%%time\n",
    "cost_function = cost_function_generator(model2, heston_helpers2)\n",
    "sol = root(cost_function, initial_condition, method='lm')\n",
    "theta, kappa, sigma, rho, v0 = model2.params()\n",
    "print (\"theta = %f, kappa = %f, sigma = %f, rho = %f, v0 = %f\" % \\\n",
    "    (theta, kappa, sigma, rho, v0))\n",
    "error = calibration_report(heston_helpers2, grid_data2)\n",
    "summary.append([\"Scipy LM2\", error] + list(model2.params()))"
   ]
  },
  {
   "cell_type": "code",
   "execution_count": 13,
   "metadata": {},
   "outputs": [],
   "source": [
    "model3, engine3 = setup_model(\n",
    "    yield_ts, dividend_ts, spot, \n",
    "    init_condition=(0.02,0.2,0.5,0.1,0.01))\n",
    "heston_helpers3, grid_data3 = setup_helpers(\n",
    "    engine3, expiration_dates, strikes, data,\n",
    "    calculation_date, spot, yield_ts, dividend_ts\n",
    ")\n",
    "initial_condition = list(model3.params())"
   ]
  },
  {
   "cell_type": "code",
   "execution_count": 14,
   "metadata": {},
   "outputs": [],
   "source": [
    "from scipy.optimize import least_squares"
   ]
  },
  {
   "cell_type": "code",
   "execution_count": 15,
   "metadata": {},
   "outputs": [
    {
     "name": "stdout",
     "output_type": "stream",
     "text": [
      "theta = 0.125748, kappa = 7.915408, sigma = 1.887912, rho = -0.364941, v0 = 0.055395\n",
      "Average Abs Error (%) : 3.015263110\n",
      "Wall time: 3.18 s\n"
     ]
    }
   ],
   "source": [
    "%%time\n",
    "cost_function = cost_function_generator(model3, heston_helpers3)\n",
    "sol = least_squares(cost_function, initial_condition)\n",
    "theta, kappa, sigma, rho, v0 = model3.params()\n",
    "print (\"theta = %f, kappa = %f, sigma = %f, rho = %f, v0 = %f\" % \\\n",
    "    (theta, kappa, sigma, rho, v0))\n",
    "error = calibration_report(heston_helpers3, grid_data3)\n",
    "summary.append([\"Scipy LS1\", error] + list(model3.params()))"
   ]
  },
  {
   "cell_type": "code",
   "execution_count": 16,
   "metadata": {},
   "outputs": [],
   "source": [
    "model3, engine3 = setup_model(\n",
    "    yield_ts, dividend_ts, spot, \n",
    "    init_condition=(0.07,0.5,0.1,0.1,0.1))\n",
    "heston_helpers3, grid_data3 = setup_helpers(\n",
    "    engine3, expiration_dates, strikes, data,\n",
    "    calculation_date, spot, yield_ts, dividend_ts\n",
    ")\n",
    "initial_condition = list(model3.params())"
   ]
  },
  {
   "cell_type": "code",
   "execution_count": 17,
   "metadata": {},
   "outputs": [
    {
     "ename": "KeyboardInterrupt",
     "evalue": "",
     "output_type": "error",
     "traceback": [
      "\u001b[1;31m---------------------------------------------------------------------------\u001b[0m",
      "\u001b[1;31mKeyboardInterrupt\u001b[0m                         Traceback (most recent call last)",
      "\u001b[1;32m<timed exec>\u001b[0m in \u001b[0;36m<module>\u001b[1;34m()\u001b[0m\n",
      "\u001b[1;32mF:\\WinPython-64bit-3.6.3.0Qt5\\python-3.6.3.amd64\\lib\\site-packages\\scipy\\optimize\\_lsq\\least_squares.py\u001b[0m in \u001b[0;36mleast_squares\u001b[1;34m(fun, x0, jac, bounds, method, ftol, xtol, gtol, x_scale, loss, f_scale, diff_step, tr_solver, tr_options, jac_sparsity, max_nfev, verbose, args, kwargs)\u001b[0m\n\u001b[0;32m    906\u001b[0m         result = trf(fun_wrapped, jac_wrapped, x0, f0, J0, lb, ub, ftol, xtol,\n\u001b[0;32m    907\u001b[0m                      \u001b[0mgtol\u001b[0m\u001b[1;33m,\u001b[0m \u001b[0mmax_nfev\u001b[0m\u001b[1;33m,\u001b[0m \u001b[0mx_scale\u001b[0m\u001b[1;33m,\u001b[0m \u001b[0mloss_function\u001b[0m\u001b[1;33m,\u001b[0m \u001b[0mtr_solver\u001b[0m\u001b[1;33m,\u001b[0m\u001b[1;33m\u001b[0m\u001b[0m\n\u001b[1;32m--> 908\u001b[1;33m                      tr_options.copy(), verbose)\n\u001b[0m\u001b[0;32m    909\u001b[0m \u001b[1;33m\u001b[0m\u001b[0m\n\u001b[0;32m    910\u001b[0m     \u001b[1;32melif\u001b[0m \u001b[0mmethod\u001b[0m \u001b[1;33m==\u001b[0m \u001b[1;34m'dogbox'\u001b[0m\u001b[1;33m:\u001b[0m\u001b[1;33m\u001b[0m\u001b[0m\n",
      "\u001b[1;32mF:\\WinPython-64bit-3.6.3.0Qt5\\python-3.6.3.amd64\\lib\\site-packages\\scipy\\optimize\\_lsq\\trf.py\u001b[0m in \u001b[0;36mtrf\u001b[1;34m(fun, jac, x0, f0, J0, lb, ub, ftol, xtol, gtol, max_nfev, x_scale, loss_function, tr_solver, tr_options, verbose)\u001b[0m\n\u001b[0;32m    122\u001b[0m         return trf_no_bounds(\n\u001b[0;32m    123\u001b[0m             \u001b[0mfun\u001b[0m\u001b[1;33m,\u001b[0m \u001b[0mjac\u001b[0m\u001b[1;33m,\u001b[0m \u001b[0mx0\u001b[0m\u001b[1;33m,\u001b[0m \u001b[0mf0\u001b[0m\u001b[1;33m,\u001b[0m \u001b[0mJ0\u001b[0m\u001b[1;33m,\u001b[0m \u001b[0mftol\u001b[0m\u001b[1;33m,\u001b[0m \u001b[0mxtol\u001b[0m\u001b[1;33m,\u001b[0m \u001b[0mgtol\u001b[0m\u001b[1;33m,\u001b[0m \u001b[0mmax_nfev\u001b[0m\u001b[1;33m,\u001b[0m \u001b[0mx_scale\u001b[0m\u001b[1;33m,\u001b[0m\u001b[1;33m\u001b[0m\u001b[0m\n\u001b[1;32m--> 124\u001b[1;33m             loss_function, tr_solver, tr_options, verbose)\n\u001b[0m\u001b[0;32m    125\u001b[0m     \u001b[1;32melse\u001b[0m\u001b[1;33m:\u001b[0m\u001b[1;33m\u001b[0m\u001b[0m\n\u001b[0;32m    126\u001b[0m         return trf_bounds(\n",
      "\u001b[1;32mF:\\WinPython-64bit-3.6.3.0Qt5\\python-3.6.3.amd64\\lib\\site-packages\\scipy\\optimize\\_lsq\\trf.py\u001b[0m in \u001b[0;36mtrf_no_bounds\u001b[1;34m(fun, jac, x0, f0, J0, ftol, xtol, gtol, max_nfev, x_scale, loss_function, tr_solver, tr_options, verbose)\u001b[0m\n\u001b[0;32m    542\u001b[0m             \u001b[0mcost\u001b[0m \u001b[1;33m=\u001b[0m \u001b[0mcost_new\u001b[0m\u001b[1;33m\u001b[0m\u001b[0m\n\u001b[0;32m    543\u001b[0m \u001b[1;33m\u001b[0m\u001b[0m\n\u001b[1;32m--> 544\u001b[1;33m             \u001b[0mJ\u001b[0m \u001b[1;33m=\u001b[0m \u001b[0mjac\u001b[0m\u001b[1;33m(\u001b[0m\u001b[0mx\u001b[0m\u001b[1;33m,\u001b[0m \u001b[0mf\u001b[0m\u001b[1;33m)\u001b[0m\u001b[1;33m\u001b[0m\u001b[0m\n\u001b[0m\u001b[0;32m    545\u001b[0m             \u001b[0mnjev\u001b[0m \u001b[1;33m+=\u001b[0m \u001b[1;36m1\u001b[0m\u001b[1;33m\u001b[0m\u001b[0m\n\u001b[0;32m    546\u001b[0m \u001b[1;33m\u001b[0m\u001b[0m\n",
      "\u001b[1;32mF:\\WinPython-64bit-3.6.3.0Qt5\\python-3.6.3.amd64\\lib\\site-packages\\scipy\\optimize\\_lsq\\least_squares.py\u001b[0m in \u001b[0;36mjac_wrapped\u001b[1;34m(x, f)\u001b[0m\n\u001b[0;32m    864\u001b[0m                 J = approx_derivative(fun, x, rel_step=diff_step, method=jac,\n\u001b[0;32m    865\u001b[0m                                       \u001b[0mf0\u001b[0m\u001b[1;33m=\u001b[0m\u001b[0mf\u001b[0m\u001b[1;33m,\u001b[0m \u001b[0mbounds\u001b[0m\u001b[1;33m=\u001b[0m\u001b[0mbounds\u001b[0m\u001b[1;33m,\u001b[0m \u001b[0margs\u001b[0m\u001b[1;33m=\u001b[0m\u001b[0margs\u001b[0m\u001b[1;33m,\u001b[0m\u001b[1;33m\u001b[0m\u001b[0m\n\u001b[1;32m--> 866\u001b[1;33m                                       kwargs=kwargs, sparsity=jac_sparsity)\n\u001b[0m\u001b[0;32m    867\u001b[0m                 \u001b[1;32mif\u001b[0m \u001b[0mJ\u001b[0m\u001b[1;33m.\u001b[0m\u001b[0mndim\u001b[0m \u001b[1;33m!=\u001b[0m \u001b[1;36m2\u001b[0m\u001b[1;33m:\u001b[0m  \u001b[1;31m# J is guaranteed not sparse.\u001b[0m\u001b[1;33m\u001b[0m\u001b[0m\n\u001b[0;32m    868\u001b[0m                     \u001b[0mJ\u001b[0m \u001b[1;33m=\u001b[0m \u001b[0mnp\u001b[0m\u001b[1;33m.\u001b[0m\u001b[0matleast_2d\u001b[0m\u001b[1;33m(\u001b[0m\u001b[0mJ\u001b[0m\u001b[1;33m)\u001b[0m\u001b[1;33m\u001b[0m\u001b[0m\n",
      "\u001b[1;32mF:\\WinPython-64bit-3.6.3.0Qt5\\python-3.6.3.amd64\\lib\\site-packages\\scipy\\optimize\\_numdiff.py\u001b[0m in \u001b[0;36mapprox_derivative\u001b[1;34m(fun, x0, method, rel_step, f0, bounds, sparsity, args, kwargs)\u001b[0m\n\u001b[0;32m    357\u001b[0m \u001b[1;33m\u001b[0m\u001b[0m\n\u001b[0;32m    358\u001b[0m     \u001b[1;32mif\u001b[0m \u001b[0msparsity\u001b[0m \u001b[1;32mis\u001b[0m \u001b[1;32mNone\u001b[0m\u001b[1;33m:\u001b[0m\u001b[1;33m\u001b[0m\u001b[0m\n\u001b[1;32m--> 359\u001b[1;33m         \u001b[1;32mreturn\u001b[0m \u001b[0m_dense_difference\u001b[0m\u001b[1;33m(\u001b[0m\u001b[0mfun_wrapped\u001b[0m\u001b[1;33m,\u001b[0m \u001b[0mx0\u001b[0m\u001b[1;33m,\u001b[0m \u001b[0mf0\u001b[0m\u001b[1;33m,\u001b[0m \u001b[0mh\u001b[0m\u001b[1;33m,\u001b[0m \u001b[0muse_one_sided\u001b[0m\u001b[1;33m,\u001b[0m \u001b[0mmethod\u001b[0m\u001b[1;33m)\u001b[0m\u001b[1;33m\u001b[0m\u001b[0m\n\u001b[0m\u001b[0;32m    360\u001b[0m     \u001b[1;32melse\u001b[0m\u001b[1;33m:\u001b[0m\u001b[1;33m\u001b[0m\u001b[0m\n\u001b[0;32m    361\u001b[0m         \u001b[1;32mif\u001b[0m \u001b[1;32mnot\u001b[0m \u001b[0missparse\u001b[0m\u001b[1;33m(\u001b[0m\u001b[0msparsity\u001b[0m\u001b[1;33m)\u001b[0m \u001b[1;32mand\u001b[0m \u001b[0mlen\u001b[0m\u001b[1;33m(\u001b[0m\u001b[0msparsity\u001b[0m\u001b[1;33m)\u001b[0m \u001b[1;33m==\u001b[0m \u001b[1;36m2\u001b[0m\u001b[1;33m:\u001b[0m\u001b[1;33m\u001b[0m\u001b[0m\n",
      "\u001b[1;32mF:\\WinPython-64bit-3.6.3.0Qt5\\python-3.6.3.amd64\\lib\\site-packages\\scipy\\optimize\\_numdiff.py\u001b[0m in \u001b[0;36m_dense_difference\u001b[1;34m(fun, x0, f0, h, use_one_sided, method)\u001b[0m\n\u001b[0;32m    385\u001b[0m             \u001b[0mx\u001b[0m \u001b[1;33m=\u001b[0m \u001b[0mx0\u001b[0m \u001b[1;33m+\u001b[0m \u001b[0mh_vecs\u001b[0m\u001b[1;33m[\u001b[0m\u001b[0mi\u001b[0m\u001b[1;33m]\u001b[0m\u001b[1;33m\u001b[0m\u001b[0m\n\u001b[0;32m    386\u001b[0m             \u001b[0mdx\u001b[0m \u001b[1;33m=\u001b[0m \u001b[0mx\u001b[0m\u001b[1;33m[\u001b[0m\u001b[0mi\u001b[0m\u001b[1;33m]\u001b[0m \u001b[1;33m-\u001b[0m \u001b[0mx0\u001b[0m\u001b[1;33m[\u001b[0m\u001b[0mi\u001b[0m\u001b[1;33m]\u001b[0m  \u001b[1;31m# Recompute dx as exactly representable number.\u001b[0m\u001b[1;33m\u001b[0m\u001b[0m\n\u001b[1;32m--> 387\u001b[1;33m             \u001b[0mdf\u001b[0m \u001b[1;33m=\u001b[0m \u001b[0mfun\u001b[0m\u001b[1;33m(\u001b[0m\u001b[0mx\u001b[0m\u001b[1;33m)\u001b[0m \u001b[1;33m-\u001b[0m \u001b[0mf0\u001b[0m\u001b[1;33m\u001b[0m\u001b[0m\n\u001b[0m\u001b[0;32m    388\u001b[0m         \u001b[1;32melif\u001b[0m \u001b[0mmethod\u001b[0m \u001b[1;33m==\u001b[0m \u001b[1;34m'3-point'\u001b[0m \u001b[1;32mand\u001b[0m \u001b[0muse_one_sided\u001b[0m\u001b[1;33m[\u001b[0m\u001b[0mi\u001b[0m\u001b[1;33m]\u001b[0m\u001b[1;33m:\u001b[0m\u001b[1;33m\u001b[0m\u001b[0m\n\u001b[0;32m    389\u001b[0m             \u001b[0mx1\u001b[0m \u001b[1;33m=\u001b[0m \u001b[0mx0\u001b[0m \u001b[1;33m+\u001b[0m \u001b[0mh_vecs\u001b[0m\u001b[1;33m[\u001b[0m\u001b[0mi\u001b[0m\u001b[1;33m]\u001b[0m\u001b[1;33m\u001b[0m\u001b[0m\n",
      "\u001b[1;32mF:\\WinPython-64bit-3.6.3.0Qt5\\python-3.6.3.amd64\\lib\\site-packages\\scipy\\optimize\\_numdiff.py\u001b[0m in \u001b[0;36mfun_wrapped\u001b[1;34m(x)\u001b[0m\n\u001b[0;32m    329\u001b[0m \u001b[1;33m\u001b[0m\u001b[0m\n\u001b[0;32m    330\u001b[0m     \u001b[1;32mdef\u001b[0m \u001b[0mfun_wrapped\u001b[0m\u001b[1;33m(\u001b[0m\u001b[0mx\u001b[0m\u001b[1;33m)\u001b[0m\u001b[1;33m:\u001b[0m\u001b[1;33m\u001b[0m\u001b[0m\n\u001b[1;32m--> 331\u001b[1;33m         \u001b[0mf\u001b[0m \u001b[1;33m=\u001b[0m \u001b[0mnp\u001b[0m\u001b[1;33m.\u001b[0m\u001b[0matleast_1d\u001b[0m\u001b[1;33m(\u001b[0m\u001b[0mfun\u001b[0m\u001b[1;33m(\u001b[0m\u001b[0mx\u001b[0m\u001b[1;33m,\u001b[0m \u001b[1;33m*\u001b[0m\u001b[0margs\u001b[0m\u001b[1;33m,\u001b[0m \u001b[1;33m**\u001b[0m\u001b[0mkwargs\u001b[0m\u001b[1;33m)\u001b[0m\u001b[1;33m)\u001b[0m\u001b[1;33m\u001b[0m\u001b[0m\n\u001b[0m\u001b[0;32m    332\u001b[0m         \u001b[1;32mif\u001b[0m \u001b[0mf\u001b[0m\u001b[1;33m.\u001b[0m\u001b[0mndim\u001b[0m \u001b[1;33m>\u001b[0m \u001b[1;36m1\u001b[0m\u001b[1;33m:\u001b[0m\u001b[1;33m\u001b[0m\u001b[0m\n\u001b[0;32m    333\u001b[0m             raise RuntimeError((\"`fun` return value has \"\n",
      "\u001b[1;32m<ipython-input-4-f848e59a0bd8>\u001b[0m in \u001b[0;36mcost_function\u001b[1;34m(params)\u001b[0m\n\u001b[0;32m     22\u001b[0m         \u001b[0mparams_\u001b[0m \u001b[1;33m=\u001b[0m \u001b[0mql\u001b[0m\u001b[1;33m.\u001b[0m\u001b[0mArray\u001b[0m\u001b[1;33m(\u001b[0m\u001b[0mlist\u001b[0m\u001b[1;33m(\u001b[0m\u001b[0mparams\u001b[0m\u001b[1;33m)\u001b[0m\u001b[1;33m)\u001b[0m\u001b[1;33m\u001b[0m\u001b[0m\n\u001b[0;32m     23\u001b[0m         \u001b[0mmodel\u001b[0m\u001b[1;33m.\u001b[0m\u001b[0msetParams\u001b[0m\u001b[1;33m(\u001b[0m\u001b[0mparams_\u001b[0m\u001b[1;33m)\u001b[0m\u001b[1;33m\u001b[0m\u001b[0m\n\u001b[1;32m---> 24\u001b[1;33m         \u001b[0merror\u001b[0m \u001b[1;33m=\u001b[0m \u001b[1;33m[\u001b[0m\u001b[0mh\u001b[0m\u001b[1;33m.\u001b[0m\u001b[0mcalibrationError\u001b[0m\u001b[1;33m(\u001b[0m\u001b[1;33m)\u001b[0m \u001b[1;32mfor\u001b[0m \u001b[0mh\u001b[0m \u001b[1;32min\u001b[0m \u001b[0mhelpers\u001b[0m\u001b[1;33m]\u001b[0m\u001b[1;33m\u001b[0m\u001b[0m\n\u001b[0m\u001b[0;32m     25\u001b[0m         \u001b[1;32mif\u001b[0m \u001b[0mnorm\u001b[0m\u001b[1;33m:\u001b[0m\u001b[1;33m\u001b[0m\u001b[0m\n\u001b[0;32m     26\u001b[0m             \u001b[1;32mreturn\u001b[0m \u001b[0mnp\u001b[0m\u001b[1;33m.\u001b[0m\u001b[0msqrt\u001b[0m\u001b[1;33m(\u001b[0m\u001b[0mnp\u001b[0m\u001b[1;33m.\u001b[0m\u001b[0msum\u001b[0m\u001b[1;33m(\u001b[0m\u001b[0mnp\u001b[0m\u001b[1;33m.\u001b[0m\u001b[0mabs\u001b[0m\u001b[1;33m(\u001b[0m\u001b[0merror\u001b[0m\u001b[1;33m)\u001b[0m\u001b[1;33m)\u001b[0m\u001b[1;33m)\u001b[0m\u001b[1;33m\u001b[0m\u001b[0m\n",
      "\u001b[1;32m<ipython-input-4-f848e59a0bd8>\u001b[0m in \u001b[0;36m<listcomp>\u001b[1;34m(.0)\u001b[0m\n\u001b[0;32m     22\u001b[0m         \u001b[0mparams_\u001b[0m \u001b[1;33m=\u001b[0m \u001b[0mql\u001b[0m\u001b[1;33m.\u001b[0m\u001b[0mArray\u001b[0m\u001b[1;33m(\u001b[0m\u001b[0mlist\u001b[0m\u001b[1;33m(\u001b[0m\u001b[0mparams\u001b[0m\u001b[1;33m)\u001b[0m\u001b[1;33m)\u001b[0m\u001b[1;33m\u001b[0m\u001b[0m\n\u001b[0;32m     23\u001b[0m         \u001b[0mmodel\u001b[0m\u001b[1;33m.\u001b[0m\u001b[0msetParams\u001b[0m\u001b[1;33m(\u001b[0m\u001b[0mparams_\u001b[0m\u001b[1;33m)\u001b[0m\u001b[1;33m\u001b[0m\u001b[0m\n\u001b[1;32m---> 24\u001b[1;33m         \u001b[0merror\u001b[0m \u001b[1;33m=\u001b[0m \u001b[1;33m[\u001b[0m\u001b[0mh\u001b[0m\u001b[1;33m.\u001b[0m\u001b[0mcalibrationError\u001b[0m\u001b[1;33m(\u001b[0m\u001b[1;33m)\u001b[0m \u001b[1;32mfor\u001b[0m \u001b[0mh\u001b[0m \u001b[1;32min\u001b[0m \u001b[0mhelpers\u001b[0m\u001b[1;33m]\u001b[0m\u001b[1;33m\u001b[0m\u001b[0m\n\u001b[0m\u001b[0;32m     25\u001b[0m         \u001b[1;32mif\u001b[0m \u001b[0mnorm\u001b[0m\u001b[1;33m:\u001b[0m\u001b[1;33m\u001b[0m\u001b[0m\n\u001b[0;32m     26\u001b[0m             \u001b[1;32mreturn\u001b[0m \u001b[0mnp\u001b[0m\u001b[1;33m.\u001b[0m\u001b[0msqrt\u001b[0m\u001b[1;33m(\u001b[0m\u001b[0mnp\u001b[0m\u001b[1;33m.\u001b[0m\u001b[0msum\u001b[0m\u001b[1;33m(\u001b[0m\u001b[0mnp\u001b[0m\u001b[1;33m.\u001b[0m\u001b[0mabs\u001b[0m\u001b[1;33m(\u001b[0m\u001b[0merror\u001b[0m\u001b[1;33m)\u001b[0m\u001b[1;33m)\u001b[0m\u001b[1;33m)\u001b[0m\u001b[1;33m\u001b[0m\u001b[0m\n",
      "\u001b[1;31mKeyboardInterrupt\u001b[0m: "
     ]
    }
   ],
   "source": [
    "%%time\n",
    "cost_function = cost_function_generator(model3, heston_helpers3)\n",
    "sol = least_squares(cost_function, initial_condition)\n",
    "theta, kappa, sigma, rho, v0 = model3.params()\n",
    "print (\"theta = %f, kappa = %f, sigma = %f, rho = %f, v0 = %f\" % \\\n",
    "    (theta, kappa, sigma, rho, v0))\n",
    "error = calibration_report(heston_helpers3, grid_data3)\n",
    "summary.append([\"Scipy LS2\", error] + list(model3.params()))"
   ]
  },
  {
   "cell_type": "code",
   "execution_count": 18,
   "metadata": {},
   "outputs": [],
   "source": [
    "from scipy.optimize import differential_evolution"
   ]
  },
  {
   "cell_type": "code",
   "execution_count": null,
   "metadata": {},
   "outputs": [],
   "source": [
    "model4, engine4 = setup_model(yield_ts, dividend_ts, spot)\n",
    "heston_helpers4, grid_data4 = setup_helpers(\n",
    "    engine4, expiration_dates, strikes, data,\n",
    "    calculation_date, spot, yield_ts, dividend_ts\n",
    ")\n",
    "initial_condition = list(model4.params())\n",
    "bounds = [(0,1),(0.01,15), (0.01,1.), (-1,1), (0,1.0) ]"
   ]
  },
  {
   "cell_type": "code",
   "execution_count": null,
   "metadata": {},
   "outputs": [],
   "source": [
    "%%time\n",
    "cost_function = cost_function_generator(\n",
    "    model4, heston_helpers4, norm=True)\n",
    "sol = differential_evolution(cost_function, bounds, maxiter=100)\n",
    "theta, kappa, sigma, rho, v0 = model4.params()\n",
    "print (\"theta = %f, kappa = %f, sigma = %f, rho = %f, v0 = %f\" % \\\n",
    "    (theta, kappa, sigma, rho, v0))\n",
    "error = calibration_report(heston_helpers4, grid_data4)\n",
    "summary.append([\"Scipy DE1\", error] + list(model4.params()))"
   ]
  },
  {
   "cell_type": "code",
   "execution_count": null,
   "metadata": {},
   "outputs": [],
   "source": [
    "model4, engine4 = setup_model(yield_ts, dividend_ts, spot)\n",
    "heston_helpers4, grid_data4 = setup_helpers(\n",
    "    engine4, expiration_dates, strikes, data,\n",
    "    calculation_date, spot, yield_ts, dividend_ts\n",
    ")\n",
    "initial_condition = list(model4.params())\n",
    "bounds = [(0,1),(0.01,15), (0.01,1.), (-1,1), (0,1.0) ]"
   ]
  },
  {
   "cell_type": "code",
   "execution_count": null,
   "metadata": {},
   "outputs": [],
   "source": [
    "%%time\n",
    "cost_function = cost_function_generator(\n",
    "    model4, heston_helpers4, norm=True)\n",
    "sol = differential_evolution(cost_function, bounds, maxiter=100)\n",
    "theta, kappa, sigma, rho, v0 = model4.params()\n",
    "print (\"theta = %f, kappa = %f, sigma = %f, rho = %f, v0 = %f\" % \\\n",
    "    (theta, kappa, sigma, rho, v0))\n",
    "error = calibration_report(heston_helpers4, grid_data4)\n",
    "summary.append([\"Scipy DE2\", error] + list(model4.params()))"
   ]
  },
  {
   "cell_type": "code",
   "execution_count": null,
   "metadata": {},
   "outputs": [],
   "source": [
    "from scipy.optimize import basinhopping"
   ]
  },
  {
   "cell_type": "code",
   "execution_count": null,
   "metadata": {},
   "outputs": [],
   "source": [
    "class MyBounds(object):\n",
    "     def __init__(self, xmin=[0.,0.01,0.01,-1,0], xmax=[1,15,1,1,1.0] ):\n",
    "         self.xmax = np.array(xmax)\n",
    "         self.xmin = np.array(xmin)\n",
    "     def __call__(self, **kwargs):\n",
    "         x = kwargs[\"x_new\"]\n",
    "         tmax = bool(np.all(x <= self.xmax))\n",
    "         tmin = bool(np.all(x >= self.xmin))\n",
    "         return tmax and tmin\n",
    "bounds = [(0,1),(0.01,15), (0.01,1.), (-1,1), (0,1.0) ]"
   ]
  },
  {
   "cell_type": "code",
   "execution_count": null,
   "metadata": {},
   "outputs": [],
   "source": [
    "model5, engine5 = setup_model(\n",
    "    yield_ts, dividend_ts, spot,\n",
    "    init_condition=(0.02,0.2,0.5,0.1,0.01))\n",
    "heston_helpers5, grid_data5 = setup_helpers(\n",
    "    engine5, expiration_dates, strikes, data,\n",
    "    calculation_date, spot, yield_ts, dividend_ts\n",
    ")\n",
    "initial_condition = list(model5.params())"
   ]
  },
  {
   "cell_type": "code",
   "execution_count": null,
   "metadata": {},
   "outputs": [],
   "source": [
    "%%time\n",
    "mybound = MyBounds()\n",
    "minimizer_kwargs = {\"method\": \"L-BFGS-B\", \"bounds\": bounds }\n",
    "cost_function = cost_function_generator(\n",
    "    model5, heston_helpers5, norm=True)\n",
    "sol = basinhopping(cost_function, initial_condition, niter=5,\n",
    "                   minimizer_kwargs=minimizer_kwargs,\n",
    "                   stepsize=0.005,\n",
    "                   accept_test=mybound,\n",
    "                   interval=10)\n",
    "theta, kappa, sigma, rho, v0 = model5.params()\n",
    "print (\"theta = %f, kappa = %f, sigma = %f, rho = %f, v0 = %f\" % \\\n",
    "    (theta, kappa, sigma, rho, v0))\n",
    "error = calibration_report(heston_helpers5, grid_data5)\n",
    "summary.append([\"Scipy BH1\", error] + list(model5.params()))"
   ]
  },
  {
   "cell_type": "code",
   "execution_count": null,
   "metadata": {},
   "outputs": [],
   "source": [
    "model5, engine5 = setup_model(\n",
    "    yield_ts, dividend_ts, spot,\n",
    "    init_condition=(0.07,0.5,0.1,0.1,0.1))\n",
    "heston_helpers5, grid_data5 = setup_helpers(\n",
    "    engine5, expiration_dates, strikes, data,\n",
    "    calculation_date, spot, yield_ts, dividend_ts\n",
    ")\n",
    "initial_condition = list(model5.params())"
   ]
  },
  {
   "cell_type": "code",
   "execution_count": null,
   "metadata": {},
   "outputs": [],
   "source": [
    "%%time\n",
    "mybound = MyBounds()\n",
    "minimizer_kwargs = {\"method\": \"L-BFGS-B\", \"bounds\": bounds}\n",
    "cost_function = cost_function_generator(\n",
    "    model5, heston_helpers5, norm=True)\n",
    "sol = basinhopping(cost_function, initial_condition, niter=5,\n",
    "                   minimizer_kwargs=minimizer_kwargs,\n",
    "                   stepsize=0.005,\n",
    "                   accept_test=mybound,\n",
    "                   interval=10)\n",
    "theta, kappa, sigma, rho, v0 = model5.params()\n",
    "print (\"theta = %f, kappa = %f, sigma = %f, rho = %f, v0 = %f\" % \\\n",
    "    (theta, kappa, sigma, rho, v0))\n",
    "error = calibration_report(heston_helpers5, grid_data5)\n",
    "summary.append([\"Scipy BH2\", error] + list(model5.params()))"
   ]
  },
  {
   "cell_type": "code",
   "execution_count": null,
   "metadata": {},
   "outputs": [],
   "source": [
    "from pandas import DataFrame\n",
    "DataFrame(\n",
    "    summary,\n",
    "    columns=[\"Name\", \"Avg Abs Error\",\"Theta\", \"Kappa\", \"Sigma\", \"Rho\", \"V0\"],\n",
    "    index=['']*len(summary))"
   ]
  }
 ],
 "metadata": {
  "kernelspec": {
   "display_name": "Python 3",
   "language": "python",
   "name": "python3"
  },
  "language_info": {
   "codemirror_mode": {
    "name": "ipython",
    "version": 3
   },
   "file_extension": ".py",
   "mimetype": "text/x-python",
   "name": "python",
   "nbconvert_exporter": "python",
   "pygments_lexer": "ipython3",
   "version": "3.6.3"
  }
 },
 "nbformat": 4,
 "nbformat_minor": 2
}
